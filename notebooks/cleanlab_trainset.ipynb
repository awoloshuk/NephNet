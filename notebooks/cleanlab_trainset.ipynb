{
 "cells": [
  {
   "cell_type": "code",
   "execution_count": 1,
   "metadata": {},
   "outputs": [
    {
     "name": "stderr",
     "output_type": "stream",
     "text": [
      "C:\\Users\\awoloshu\\Documents\\pytorch36\\lib\\site-packages\\tqdm\\autonotebook.py:17: TqdmExperimentalWarning: Using `tqdm.autonotebook.tqdm` in notebook mode. Use `tqdm.tqdm` instead to force console mode (e.g. in jupyter console)\n",
      "  \" (e.g. in jupyter console)\", TqdmExperimentalWarning)\n"
     ]
    },
    {
     "name": "stdout",
     "output_type": "stream",
     "text": [
      "Modules loaded\n",
      "Reload complete\n",
      "GPUs available: 1\n"
     ]
    }
   ],
   "source": [
    "%matplotlib notebook\n",
    "#%matplotlib inline\n",
    "import sys\n",
    "sys.path.append(\"../../NephNet\")\n",
    "import matplotlib.pyplot as plt\n",
    "import os\n",
    "import random\n",
    "import shutil\n",
    "import time\n",
    "import warnings\n",
    "import sys\n",
    "import numpy as np\n",
    "import json\n",
    "import argparse\n",
    "import torch\n",
    "from torch.optim import lr_scheduler\n",
    "from tqdm import tqdm\n",
    "from data_loader import data_loaders as module_data\n",
    "from model import loss as module_loss\n",
    "from model import metric as module_metric\n",
    "from model import model as module_arch\n",
    "from data_loader import databases as module_datasets\n",
    "from base.base_data_loader import BaseDataLoader\n",
    "from trainer import Trainer\n",
    "from utils import Logger\n",
    "from utils import util\n",
    "from utils import tSNE_test as tSNE#import Identity, tSNE_generator\n",
    "from utils import torchsummary\n",
    "from utils import viewTraining\n",
    "from utils import lr_finder\n",
    "from utils import classActivationMap\n",
    "import importlib\n",
    "import math\n",
    "import torchvision\n",
    "from torch.nn import functional as F\n",
    "from torch import topk\n",
    "import skimage.transform\n",
    "import jupyter\n",
    "from IPython import display\n",
    "from ipywidgets import *\n",
    "from utils import hyperband as HypOpt\n",
    "import argparse\n",
    "from sklearn.model_selection import StratifiedKFold\n",
    "import copy\n",
    "from utils import transforms3d as t3d\n",
    "import pandas as pd\n",
    "\n",
    "import cleanlab\n",
    "from cleanlab import baseline_methods\n",
    "from sklearn.metrics import accuracy_score\n",
    "\n",
    "print(\"Modules loaded\")\n",
    "\n",
    "\n",
    "importlib.reload(module_data) #load recent changes to data_loaders.py\n",
    "importlib.reload(tSNE)\n",
    "importlib.reload(module_arch)\n",
    "importlib.reload(module_loss)\n",
    "importlib.reload(module_metric)\n",
    "importlib.reload(util)\n",
    "importlib.reload(viewTraining)\n",
    "importlib.reload(lr_finder)\n",
    "importlib.reload(classActivationMap)\n",
    "importlib.reload(HypOpt)\n",
    "print(\"Reload complete\")\n",
    "\n",
    "print(\"GPUs available: \" + str(torch.cuda.device_count()))\n",
    "os.environ[\"CUDA_VISIBLE_DEVICES\"] = \"0,1\""
   ]
  },
  {
   "cell_type": "code",
   "execution_count": 4,
   "metadata": {},
   "outputs": [],
   "source": [
    "config_file = '../configs/config_kfold.json'\n",
    "\n",
    "# load config file\n",
    "with open(config_file) as handle:\n",
    "    config = json.load(handle)\n",
    "# setting path to save trained models and log files\n",
    "path = os.path.join(config['trainer']['save_dir'], config['name'])"
   ]
  },
  {
   "cell_type": "code",
   "execution_count": 5,
   "metadata": {},
   "outputs": [],
   "source": [
    "def main(config):\n",
    "    cv_n_folds = 4\n",
    "    myfiles = []\n",
    "    for i in range(cv_n_folds):\n",
    "        print(\"\\n=======FOLD {} / {} ========\".format(i+1, cv_n_folds))\n",
    "        filename = one_fold(config, cv_n_folds, i)\n",
    "        myfiles.append(filename)\n",
    "    print(myfiles)\n",
    "    combine_folds(config, myfiles, cv_n_folds)\n",
    "\n",
    "\n",
    "def get_instance(module, name, config, *args):\n",
    "    return getattr(module, config[name]['type'])(*args, **config[name]['args'])\n",
    "\n",
    "\n",
    "def one_fold(config, cv_n_folds, cv_fold):\n",
    "    print(\"GPUs available: \" + str(torch.cuda.device_count()))\n",
    "    train_logger = Logger()\n",
    "    cv_seed = 1234\n",
    "    np.random.seed(cv_seed)\n",
    "    os.environ[\"CUDA_VISIBLE_DEVICES\"] = \"0,1\"\n",
    "    num_classes = config['arch']['args']['num_classes']\n",
    "    #cudnn.benchmark = True\n",
    "    device = torch.device('cuda' if torch.cuda.is_available() else 'cpu')\n",
    "\n",
    "    #Initialize training dataset\n",
    "    rs = np.random.RandomState()\n",
    "    mean = config['data_loader']['args']['mean']\n",
    "    stdev = config['data_loader']['args']['stdev']\n",
    "    trsfm_train = [\n",
    "                   t3d.RandomRotate90(rs), \n",
    "                   t3d.Normalize(mean, stdev), \n",
    "                   t3d.ToTensor(True)]\n",
    "    train_dataset = getattr(module_datasets, \n",
    "        'hdf5dataset')(config['data_loader']['args']['hdf5_path'],\n",
    "        shape = config['data_loader']['args']['shape'], \n",
    "        transforms = trsfm_train,\n",
    "        training = True)\n",
    "    \n",
    "    my_imgs_idx = np.random.choice(range(len(train_dataset.data)), size=5000, replace=False,)\n",
    "    #train_dataset.data = train_dataset.data[my_imgs_idx]\n",
    "    #train_dataset.label = train_dataset.label[my_imgs_idx]\n",
    "    labels = [label for img, label in train_dataset]\n",
    "    # Split train into train and holdout for particular cv_fold.\n",
    "    kf = StratifiedKFold(n_splits = cv_n_folds, shuffle = True, random_state = cv_seed)\n",
    "    cv_train_idx, cv_holdout_idx = list(kf.split(range(len(labels)), labels))[cv_fold]\n",
    "    \n",
    "    # CREATE SEPARATE DATASETS       \n",
    "    #holdout_dataset = copy.deepcopy(train_dataset)\n",
    "    holdout_dataset = getattr(module_datasets, \n",
    "        'hdf5dataset')(config['data_loader']['args']['hdf5_path'],\n",
    "        shape = config['data_loader']['args']['shape'], \n",
    "        transforms = trsfm_train,\n",
    "        training = True)\n",
    "    holdout_dataset.data = np.array([train_dataset.data[i] for i in cv_holdout_idx])\n",
    "    holdout_dataset.label = np.array([train_dataset.label[i] for i in cv_holdout_idx])\n",
    "    holdout_dataset.data_len = holdout_dataset.data.shape[0]\n",
    "    #holdout_dataset.samples = holdout_dataset.data\n",
    "    # Subset of holdout used to choose the best model.\n",
    "    #val_dataset = copy.deepcopy(holdout_dataset)\n",
    "    val_dataset = getattr(module_datasets, \n",
    "        'hdf5dataset')(config['data_loader']['args']['hdf5_path'],\n",
    "        shape = config['data_loader']['args']['shape'], \n",
    "        transforms = trsfm_train,\n",
    "        training = True)\n",
    "    val_dataset.data = copy.deepcopy(holdout_dataset.data)\n",
    "    val_size = int(len(cv_holdout_idx) / 5)\n",
    "    val_imgs_idx = np.random.choice(range(len(holdout_dataset.data)), size=val_size, replace=False,)\n",
    "    val_dataset.data = np.array([holdout_dataset.data[i] for i in val_imgs_idx])\n",
    "    val_dataset.label = np.array([holdout_dataset.label[i] for i in val_imgs_idx])\n",
    "    val_dataset.data_len = val_dataset.data.shape[0]\n",
    "    #val_dataset.samples = val_dataset.imgs\n",
    "    train_dataset.data = np.array([train_dataset.data[i] for i in cv_train_idx])\n",
    "    train_dataset.label = np.array([train_dataset.label[i] for i in cv_train_idx])\n",
    "    train_dataset.data_len = train_dataset.data.shape[0]\n",
    "    #train_dataset.samples = train_dataset.imgs\n",
    "    print('Train size:', len(cv_train_idx), len(train_dataset.data))\n",
    "    print('Holdout size:', len(cv_holdout_idx), len(holdout_dataset.data))\n",
    "    print('Val size (subset of holdout):', len(val_imgs_idx), len(val_dataset.data))\n",
    "\n",
    "\n",
    "    \n",
    "    \n",
    "    \n",
    "    \n",
    "   #create data_loaders\n",
    "    train_loader = hdf5_3d_dataloader(\n",
    "        config['data_loader']['args']['hdf5_path'],\n",
    "        config['data_loader']['args']['batch_size'],\n",
    "        shuffle = config['data_loader']['args']['shuffle'],\n",
    "        shape = config['data_loader']['args']['shape'],\n",
    "        num_workers = config['data_loader']['args']['num_workers'],\n",
    "        training = config['data_loader']['args']['training'],\n",
    "        dataset = train_dataset,\n",
    "        mean = config['data_loader']['args']['mean'],\n",
    "        stdev = config['data_loader']['args']['stdev'])\n",
    "\n",
    "    val_loader = hdf5_3d_dataloader(\n",
    "        config['data_loader']['args']['hdf5_path'],\n",
    "        config['data_loader']['args']['batch_size'],\n",
    "        shuffle = config['data_loader']['args']['shuffle'],\n",
    "        shape = config['data_loader']['args']['shape'],\n",
    "        num_workers = config['data_loader']['args']['num_workers'],\n",
    "        training = config['data_loader']['args']['training'],\n",
    "        dataset = val_dataset,\n",
    "        mean = config['data_loader']['args']['mean'],\n",
    "        stdev = config['data_loader']['args']['stdev'])\n",
    "    \n",
    "    model = get_instance(module_arch, 'arch', config)\n",
    "    train_logger = Logger()\n",
    "    loss = getattr(module_loss, config['loss']) #looks in model/loss.py for criterion function specified in config\n",
    "    criterion = loss(train_loader.dataset.weight.to(device)) # for imbalanced datasets\n",
    "    metrics = [getattr(module_metric, met) for met in config['metrics']]\n",
    "\n",
    "    # build optimizer, learning rate scheduler. delete every lines containing lr_scheduler for disabling scheduler\n",
    "    trainable_params = filter(lambda p: p.requires_grad, model.parameters())\n",
    "    optimizer = get_instance(torch.optim, 'optimizer', config, trainable_params)\n",
    "    lr_scheduler = get_instance(torch.optim.lr_scheduler, 'lr_scheduler', config, optimizer)\n",
    "\n",
    "    trainer = Trainer(model, criterion, metrics, optimizer,\n",
    "                      resume=None,\n",
    "                      config=config,\n",
    "                      data_loader=train_loader,\n",
    "                      valid_data_loader=val_loader,\n",
    "                      lr_scheduler=lr_scheduler,\n",
    "                      train_logger=train_logger)\n",
    "\n",
    "    trainer.train()\n",
    "\n",
    "    # Load model best and make predictions on holdout dataset\n",
    "    holdout_loader = hdf5_3d_dataloader(\n",
    "        config['data_loader']['args']['hdf5_path'],\n",
    "        config['data_loader']['args']['batch_size'],\n",
    "        shuffle = False, #config['data_loader']['args']['shuffle'],\n",
    "        shape = config['data_loader']['args']['shape'],\n",
    "        num_workers = config['data_loader']['args']['num_workers'],\n",
    "        training = config['data_loader']['args']['training'],\n",
    "        dataset = holdout_dataset,\n",
    "        mean = config['data_loader']['args']['mean'],\n",
    "        stdev = config['data_loader']['args']['stdev'])\n",
    "    \n",
    "    saved_dir = trainer.checkpoint_dir\n",
    "    best_model = os.path.join(saved_dir, \"model_best.pth\")\n",
    "    print(\"=> loading {}\".format(best_model))\n",
    "\n",
    "    checkpoint = torch.load(best_model)\n",
    "    model.load_state_dict(checkpoint['state_dict'])\n",
    "    print(\"Running forward pass on holdout set of size:\", len(holdout_dataset.data))\n",
    "    probs = get_probs(holdout_loader, model)\n",
    "    preds = np.argmax(probs, axis=1)\n",
    "    labels = holdout_dataset.label -1\n",
    "    acc = accuracy_score(labels, preds)\n",
    "    print(\"\\nAccuracy: {:.4f}\".format(acc)) \n",
    "    filename = os.path.join( saved_dir, 'model_{}__fold_{}_probs.npy'.format(config['name'], cv_fold+1))\n",
    "    \n",
    "    np.save(filename, probs)    \n",
    "    return filename\n",
    "\n",
    "\n",
    "\n",
    "\n",
    "def get_probs(loader, model):\n",
    "    device = torch.device('cuda' if torch.cuda.is_available() else 'cpu')\n",
    "    # switch to evaluate mode\n",
    "    model.eval()\n",
    "    ntotal = len(loader.dataset.data) / float(loader.batch_size)\n",
    "    outputs = []\n",
    "    with torch.no_grad():\n",
    "        end = time.time()\n",
    "        for i, (data, target) in enumerate(loader):\n",
    "            print(\"\\rComplete: {:.1%}\".format(i / ntotal), end = \"\")\n",
    "            if torch.cuda.is_available():\n",
    "                data = data.to(device)\n",
    "            target = target.to(device)\n",
    "\n",
    "            # compute output\n",
    "            outputs.append(model(data))\n",
    "    \n",
    "    # Prepare outputs as a single matrix\n",
    "    probs = np.concatenate([\n",
    "        torch.nn.functional.softmax(z, dim = 1) if not torch.cuda.is_available() else \n",
    "        torch.nn.functional.softmax(z, dim = 1).cpu().numpy() \n",
    "        for z in outputs\n",
    "    ])\n",
    "    \n",
    "    return probs\n",
    "\n",
    "\n",
    "def combine_folds(config, files, nfolds):\n",
    "    cv_seed = 1234\n",
    "    np.random.seed(cv_seed)\n",
    "    a = os.path.join(config['trainer']['save_dir'], config['name'])\n",
    "    wfn = os.path.join(a, 'combined_folds_{}.npy'.format(config['name']))\n",
    "    print('This method will overwrite file: {}'.format(wfn))\n",
    "    print('Computing fold indices. This takes 15 seconds.')\n",
    "    # Prepare labels\n",
    "    rs = np.random.RandomState()\n",
    "    mean = config['data_loader']['args']['mean']\n",
    "    stdev = config['data_loader']['args']['stdev']\n",
    "    trsfm_train = [\n",
    "                   t3d.Normalize(mean, stdev), \n",
    "                   t3d.ToTensor(True)]\n",
    "    train_dataset = getattr(module_datasets, \n",
    "        'hdf5dataset')(config['data_loader']['args']['hdf5_path'],\n",
    "        shape = config['data_loader']['args']['shape'], \n",
    "        transforms = trsfm_train,\n",
    "        training = True)\n",
    "    \n",
    "    my_imgs_idx = np.random.choice(range(len(train_dataset.data)), size=5000, replace=False,)\n",
    "    #train_dataset.data = train_dataset.data[my_imgs_idx]\n",
    "    #train_dataset.label = train_dataset.label[my_imgs_idx]\n",
    "    \n",
    "    labels = train_dataset.label - 1\n",
    "    #plt.hist(labels, bins  = 'auto')\n",
    "    #plt.show()\n",
    "    num_classes = config['arch']['args']['num_classes']\n",
    "    # Intialize pyx array (output of trained network)\n",
    "    pyx = np.empty((len(labels), num_classes))\n",
    "    # Split train into train and holdout for each cv_fold.\n",
    "    kf = StratifiedKFold(n_splits = nfolds, shuffle = True, random_state = cv_seed)\n",
    "    for k, (cv_train_idx, cv_holdout_idx) in enumerate(kf.split(range(len(labels)), labels)):\n",
    "        tmp = len(cv_holdout_idx)\n",
    "        probs = np.load(files[k]) \n",
    "        #cv_holdout_idx = cv_holdout_idx[:len(probs)]\n",
    "        for i, idx in enumerate(cv_holdout_idx):\n",
    "            pyx[idx] = probs[i]\n",
    "\n",
    "    print('Writing final predicted probabilities.')\n",
    "    #pyx = pyx[~np.isnan(pyx).any(axis=1)] #remove any rows that contain NAN\n",
    "    np.save(wfn, pyx) \n",
    "    #plt.hist(np.argmax(pyx, axis=1), bins  = 'auto')\n",
    "    #plt.show()\n",
    "    #print(np.argmax(pyx, axis=1)[:25])\n",
    "    #print(labels[:25])\n",
    "    # Compute overall accuracy\n",
    "    print('Computing Accuracy.', flush=True)\n",
    "    preds = np.argmax(pyx, axis=1)\n",
    "    acc = accuracy_score(labels, preds)\n",
    "    print('Accuracy: {:.25}'.format(acc))\n",
    "\n",
    "class hdf5_3d_dataloader(BaseDataLoader):\n",
    "    '''\n",
    "    3D augmentations use a random state to peform augmentation, which is organized as a List rather than torch.Compose()\n",
    "    '''\n",
    "    def __init__(self, hdf5_path, batch_size, shuffle=True, shape = [7,32,32], validation_split=0.0, num_workers=1, training=True, dataset = None, mean = 0, stdev = 1):\n",
    "        rs = np.random.RandomState()\n",
    "        trsfm_train = [\n",
    "                       t3d.RandomRotate90(rs), \n",
    "                       t3d.Normalize(mean, stdev), \n",
    "                       t3d.ToTensor(True)]\n",
    "        \n",
    "        trsfm_test = [t3d.Normalize(mean, stdev), \n",
    "                      t3d.ToTensor(True)]\n",
    "        if training == True:\n",
    "            trsfm = trsfm_train\n",
    "        else:\n",
    "            trsfm = trsfm_test       \n",
    "        \n",
    "        self.hdf5_path = hdf5_path\n",
    "        self.batch_size = batch_size\n",
    "        self.shape = shape\n",
    "        #importlib.reload(databases) #used to get load any recent changes from database class\n",
    "        if dataset == None:\n",
    "            self.dataset = module_datasets.hdf5dataset(hdf5_path, shape = self.shape, training = training, transforms=trsfm)\n",
    "        else:\n",
    "            self.dataset = dataset\n",
    "        super(hdf5_3d_dataloader, self).__init__(self.dataset, batch_size, shuffle, validation_split, num_workers)"
   ]
  },
  {
   "cell_type": "code",
   "execution_count": 6,
   "metadata": {
    "scrolled": true
   },
   "outputs": [
    {
     "name": "stdout",
     "output_type": "stream",
     "text": [
      "Using GPU: GeForce RTX 2080 Ti\n",
      "\n",
      "=======FOLD 1 / 4 ========\n",
      "GPUs available: 1\n"
     ]
    },
    {
     "name": "stderr",
     "output_type": "stream",
     "text": [
      "Note: NumExpr detected 20 cores but \"NUMEXPR_MAX_THREADS\" not set, so enforcing safe limit of 8.\n",
      "NumExpr defaulting to 8 threads.\n"
     ]
    },
    {
     "name": "stdout",
     "output_type": "stream",
     "text": [
      "Train size: 104709 104709\n",
      "Holdout size: 34908 34908\n",
      "Val size (subset of holdout): 6981 6981\n"
     ]
    },
    {
     "name": "stderr",
     "output_type": "stream",
     "text": [
      "C:\\Users\\awoloshu\\Documents\\pytorch36\\lib\\site-packages\\sklearn\\metrics\\classification.py:1437: UndefinedMetricWarning: F-score is ill-defined and being set to 0.0 in labels with no predicted samples.\n",
      "  'precision', 'predicted', average, warn_for)\n",
      "C:\\Users\\awoloshu\\Documents\\pytorch36\\lib\\site-packages\\sklearn\\metrics\\classification.py:1437: UndefinedMetricWarning: Precision is ill-defined and being set to 0.0 in labels with no predicted samples.\n",
      "  'precision', 'predicted', average, warn_for)\n",
      "C:\\Users\\awoloshu\\Documents\\pytorch36\\lib\\site-packages\\sklearn\\metrics\\classification.py:1439: UndefinedMetricWarning: F-score is ill-defined and being set to 0.0 in labels with no true samples.\n",
      "  'recall', 'true', average, warn_for)\n",
      "C:\\Users\\awoloshu\\Documents\\pytorch36\\lib\\site-packages\\sklearn\\metrics\\classification.py:1745: UserWarning: y_pred contains classes not in y_true\n",
      "  warnings.warn('y_pred contains classes not in y_true')\n",
      "C:\\Users\\awoloshu\\Documents\\pytorch36\\lib\\site-packages\\sklearn\\metrics\\classification.py:1439: UndefinedMetricWarning: Recall is ill-defined and being set to 0.0 in labels with no true samples.\n",
      "  'recall', 'true', average, warn_for)\n",
      "    epoch          : 1\n",
      "    loss           : 1.5834497069264506\n",
      "    accuracy       : 0.39546130952380953\n",
      "    f1             : 0.3895707907677996\n",
      "    balanced_accuracy: 0.3903982855859531\n",
      "    precision      : 0.4228112233226275\n",
      "    recall         : 0.39546130952380953\n",
      "    val_loss       : 1.7953327395699241\n",
      "    val_accuracy   : 0.28532608695652173\n",
      "    val_f1         : 0.26235228261035215\n",
      "    val_balanced_accuracy: 0.3242724235915338\n",
      "    val_precision  : 0.46177858616288414\n",
      "    val_recall     : 0.28532608695652173\n"
     ]
    },
    {
     "name": "stdout",
     "output_type": "stream",
     "text": [
      "Model best! ---------------------------| \n"
     ]
    },
    {
     "name": "stderr",
     "output_type": "stream",
     "text": [
      "Saving checkpoint: C:/Users/awoloshu/Documents/NephNet/saved/kfold_test_NOTESTDATA\\1216_141547\\checkpoint-epoch1.pth ...\n",
      "Saving current best: model_best.pth ...\n",
      "    epoch          : 2\n",
      "    loss           : 1.3136742864627395\n",
      "    accuracy       : 0.5023351648351648\n",
      "    f1             : 0.5004451211108825\n",
      "    balanced_accuracy: 0.5014404639872314\n",
      "    precision      : 0.5299249639207662\n",
      "    recall         : 0.5023351648351648\n",
      "    val_loss       : 2.1342562046918\n",
      "    val_accuracy   : 0.333008069828722\n",
      "    val_f1         : 0.3098277481709913\n",
      "    val_balanced_accuracy: 0.30871559589388126\n",
      "    val_precision  : 0.37525668063749223\n",
      "    val_recall     : 0.333008069828722\n"
     ]
    },
    {
     "name": "stdout",
     "output_type": "stream",
     "text": [
      "Model has not improved in -------------| 1 epochs\n"
     ]
    },
    {
     "name": "stderr",
     "output_type": "stream",
     "text": [
      "    epoch          : 3\n",
      "    loss           : 1.1985445749628676\n",
      "    accuracy       : 0.5560534951159951\n",
      "    f1             : 0.5577973973508368\n",
      "    balanced_accuracy: 0.5592609362410935\n",
      "    precision      : 0.5864334441984066\n",
      "    recall         : 0.5560534951159951\n",
      "    val_loss       : 4.670245326649059\n",
      "    val_accuracy   : 0.16458539196310934\n",
      "    val_f1         : 0.08628155537653959\n",
      "    val_balanced_accuracy: 0.17004766544868152\n",
      "    val_precision  : 0.10647231590563183\n",
      "    val_recall     : 0.16458539196310934\n"
     ]
    },
    {
     "name": "stdout",
     "output_type": "stream",
     "text": [
      "Model has not improved in -------------| 2 epochs\n"
     ]
    },
    {
     "name": "stderr",
     "output_type": "stream",
     "text": [
      "    epoch          : 4\n",
      "    loss           : 1.1734738402314238\n",
      "    accuracy       : 0.5668097527472528\n",
      "    f1             : 0.5694488311658052\n",
      "    balanced_accuracy: 0.5705020727668519\n",
      "    precision      : 0.5982082178060133\n",
      "    recall         : 0.5668097527472528\n",
      "    val_loss       : 1.6037948261607777\n",
      "    val_accuracy   : 0.45185688405797103\n",
      "    val_f1         : 0.41328980758327827\n",
      "    val_balanced_accuracy: 0.38917752697511837\n",
      "    val_precision  : 0.5034480471600874\n",
      "    val_recall     : 0.45185688405797103\n"
     ]
    },
    {
     "name": "stdout",
     "output_type": "stream",
     "text": [
      "Model best! ---------------------------| \n"
     ]
    },
    {
     "name": "stderr",
     "output_type": "stream",
     "text": [
      "Saving checkpoint: C:/Users/awoloshu/Documents/NephNet/saved/kfold_test_NOTESTDATA\\1216_141547\\checkpoint-epoch4.pth ...\n",
      "Saving current best: model_best.pth ...\n",
      "    epoch          : 5\n",
      "    loss           : 1.0933600186719417\n",
      "    accuracy       : 0.5971153846153846\n",
      "    f1             : 0.5996763175604987\n",
      "    balanced_accuracy: 0.6032924753971264\n",
      "    precision      : 0.6267271890930872\n",
      "    recall         : 0.5971153846153846\n",
      "    val_loss       : 1.535115588795055\n",
      "    val_accuracy   : 0.3773241930171278\n",
      "    val_f1         : 0.3779331648041763\n",
      "    val_balanced_accuracy: 0.4407936165658171\n",
      "    val_precision  : 0.5397716382850682\n",
      "    val_recall     : 0.3773241930171278\n"
     ]
    },
    {
     "name": "stdout",
     "output_type": "stream",
     "text": [
      "Model best! ---------------------------| \n"
     ]
    },
    {
     "name": "stderr",
     "output_type": "stream",
     "text": [
      "Saving checkpoint: C:/Users/awoloshu/Documents/NephNet/saved/kfold_test_NOTESTDATA\\1216_141547\\checkpoint-epoch5.pth ...\n",
      "Saving current best: model_best.pth ...\n",
      "    epoch          : 6\n",
      "    loss           : 1.0636541001380435\n",
      "    accuracy       : 0.6123340201465202\n",
      "    f1             : 0.615687998895706\n",
      "    balanced_accuracy: 0.6179647740361021\n",
      "    precision      : 0.643199890390885\n",
      "    recall         : 0.6123340201465202\n",
      "    val_loss       : 1.8988433122634887\n",
      "    val_accuracy   : 0.31708045125164686\n",
      "    val_f1         : 0.2822243242068662\n",
      "    val_balanced_accuracy: 0.3211973265463929\n",
      "    val_precision  : 0.49985636143137707\n",
      "    val_recall     : 0.31708045125164686\n"
     ]
    },
    {
     "name": "stdout",
     "output_type": "stream",
     "text": [
      "Model has not improved in -------------| 1 epochs\n"
     ]
    },
    {
     "name": "stderr",
     "output_type": "stream",
     "text": [
      "    epoch          : 7\n",
      "    loss           : 1.0512071839910142\n",
      "    accuracy       : 0.6169280372405372\n",
      "    f1             : 0.6203556130512632\n",
      "    balanced_accuracy: 0.6234043421482648\n",
      "    precision      : 0.6477586595295036\n",
      "    recall         : 0.6169280372405372\n",
      "    val_loss       : 2.0227489536458796\n",
      "    val_accuracy   : 0.4316884881422925\n",
      "    val_f1         : 0.3775382574779801\n",
      "    val_balanced_accuracy: 0.3551201632656971\n",
      "    val_precision  : 0.42396656037586283\n",
      "    val_recall     : 0.4316884881422925\n"
     ]
    },
    {
     "name": "stdout",
     "output_type": "stream",
     "text": [
      "Model has not improved in -------------| 2 epochs\n"
     ]
    },
    {
     "name": "stderr",
     "output_type": "stream",
     "text": [
      "    epoch          : 8\n",
      "    loss           : 1.0342124313370795\n",
      "    accuracy       : 0.6217071123321124\n",
      "    f1             : 0.6256157665605665\n",
      "    balanced_accuracy: 0.6276934392280582\n",
      "    precision      : 0.6527260889705321\n",
      "    recall         : 0.6217071123321124\n",
      "    val_loss       : 3.038421765240756\n",
      "    val_accuracy   : 0.2018651185770751\n",
      "    val_f1         : 0.17949075243622875\n",
      "    val_balanced_accuracy: 0.20577223067418138\n",
      "    val_precision  : 0.2975009744416372\n",
      "    val_recall     : 0.2018651185770751\n"
     ]
    },
    {
     "name": "stdout",
     "output_type": "stream",
     "text": [
      "Model has not improved in -------------| 3 epochs\n"
     ]
    },
    {
     "name": "stderr",
     "output_type": "stream",
     "text": [
      "    epoch          : 9\n",
      "    loss           : 1.034987452993754\n",
      "    accuracy       : 0.6231990231990232\n",
      "    f1             : 0.6265198165294992\n",
      "    balanced_accuracy: 0.6310613726034773\n",
      "    precision      : 0.6542493710265677\n",
      "    recall         : 0.6231990231990232\n",
      "    val_loss       : 1.7834819945422087\n",
      "    val_accuracy   : 0.3548233695652174\n",
      "    val_f1         : 0.3194667793449469\n",
      "    val_balanced_accuracy: 0.3718444919596553\n",
      "    val_precision  : 0.4242423032004321\n",
      "    val_recall     : 0.3548233695652174\n"
     ]
    },
    {
     "name": "stdout",
     "output_type": "stream",
     "text": [
      "Model has not improved in -------------| 4 epochs\n"
     ]
    },
    {
     "name": "stderr",
     "output_type": "stream",
     "text": [
      "    epoch          : 10\n",
      "    loss           : 1.0170299273270826\n",
      "    accuracy       : 0.6290121336996337\n",
      "    f1             : 0.6328450802711282\n",
      "    balanced_accuracy: 0.6344334875273384\n",
      "    precision      : 0.6597630705970168\n",
      "    recall         : 0.6290121336996337\n",
      "    val_loss       : 3.2167224060405384\n",
      "    val_accuracy   : 0.2834342061923584\n",
      "    val_f1         : 0.22775629976394485\n",
      "    val_balanced_accuracy: 0.27546111322807126\n",
      "    val_precision  : 0.3421862513724819\n",
      "    val_recall     : 0.2834342061923584\n"
     ]
    },
    {
     "name": "stdout",
     "output_type": "stream",
     "text": [
      "Model has not improved in -------------| 5 epochs\n"
     ]
    },
    {
     "name": "stderr",
     "output_type": "stream",
     "text": [
      "    epoch          : 11\n",
      "    loss           : 1.0118455145239684\n",
      "    accuracy       : 0.6310363247863248\n",
      "    f1             : 0.6351343362784518\n",
      "    balanced_accuracy: 0.6365793221773558\n",
      "    precision      : 0.6623754885230595\n",
      "    recall         : 0.6310363247863248\n",
      "    val_loss       : 2.494951499592174\n",
      "    val_accuracy   : 0.3116415513833992\n",
      "    val_f1         : 0.2365929481948948\n",
      "    val_balanced_accuracy: 0.292530279709222\n",
      "    val_precision  : 0.31762295933986323\n",
      "    val_recall     : 0.3116415513833992\n"
     ]
    },
    {
     "name": "stdout",
     "output_type": "stream",
     "text": [
      "Model has not improved in -------------| 6 epochs\n"
     ]
    },
    {
     "name": "stderr",
     "output_type": "stream",
     "text": [
      "    epoch          : 12\n",
      "    loss           : 1.013182502017062\n",
      "    accuracy       : 0.630858898046398\n",
      "    f1             : 0.6346918755990031\n",
      "    balanced_accuracy: 0.6367072325121437\n",
      "    precision      : 0.661939489765987\n",
      "    recall         : 0.630858898046398\n",
      "    val_loss       : 2.7272334879094906\n",
      "    val_accuracy   : 0.26365077404479575\n",
      "    val_f1         : 0.18056480046032355\n",
      "    val_balanced_accuracy: 0.28014359746121636\n",
      "    val_precision  : 0.2995292674573085\n",
      "    val_recall     : 0.26365077404479575\n"
     ]
    },
    {
     "name": "stdout",
     "output_type": "stream",
     "text": [
      "Model has not improved in -------------| 7 epochs\n"
     ]
    },
    {
     "name": "stderr",
     "output_type": "stream",
     "text": [
      "    epoch          : 13\n",
      "    loss           : 1.0029734393470309\n",
      "    accuracy       : 0.6348080738705738\n",
      "    f1             : 0.6385768289241578\n",
      "    balanced_accuracy: 0.6407609304693728\n",
      "    precision      : 0.6660664712626733\n",
      "    recall         : 0.6348080738705738\n",
      "    val_loss       : 4.891965380581943\n",
      "    val_accuracy   : 0.16856266469038206\n",
      "    val_f1         : 0.10336239052469004\n",
      "    val_balanced_accuracy: 0.16203401221931044\n",
      "    val_precision  : 0.20294343087153377\n",
      "    val_recall     : 0.16856266469038206\n"
     ]
    },
    {
     "name": "stdout",
     "output_type": "stream",
     "text": [
      "Model has not improved in -------------| 8 epochs\n"
     ]
    },
    {
     "name": "stderr",
     "output_type": "stream",
     "text": [
      "    epoch          : 14\n",
      "    loss           : 1.0004787959604182\n",
      "    accuracy       : 0.6361683455433456\n",
      "    f1             : 0.6399323634289837\n",
      "    balanced_accuracy: 0.6422834345596542\n",
      "    precision      : 0.6668119680007282\n",
      "    recall         : 0.6361683455433456\n",
      "    val_loss       : 1.6447496739300815\n",
      "    val_accuracy   : 0.4549633563899868\n",
      "    val_f1         : 0.4303801360455863\n",
      "    val_balanced_accuracy: 0.4477194827873529\n",
      "    val_precision  : 0.5330459585035225\n",
      "    val_recall     : 0.4549633563899868\n"
     ]
    },
    {
     "name": "stdout",
     "output_type": "stream",
     "text": [
      "Model has not improved in -------------| 9 epochs\n"
     ]
    },
    {
     "name": "stderr",
     "output_type": "stream",
     "text": [
      "    epoch          : 15\n",
      "    loss           : 0.8584423434894455\n",
      "    accuracy       : 0.6912145146520146\n",
      "    f1             : 0.694443226400163\n",
      "    balanced_accuracy: 0.6986984032617755\n",
      "    precision      : 0.7171302111369581\n",
      "    recall         : 0.6912145146520146\n",
      "    val_loss       : 1.0770189805464312\n",
      "    val_accuracy   : 0.5994194664031621\n",
      "    val_f1         : 0.5953223577854069\n",
      "    val_balanced_accuracy: 0.5971036178595355\n",
      "    val_precision  : 0.6338152985686252\n",
      "    val_recall     : 0.5994194664031621\n"
     ]
    },
    {
     "name": "stdout",
     "output_type": "stream",
     "text": [
      "Model best! ---------------------------| \n"
     ]
    },
    {
     "name": "stderr",
     "output_type": "stream",
     "text": [
      "Saving checkpoint: C:/Users/awoloshu/Documents/NephNet/saved/kfold_test_NOTESTDATA\\1216_141547\\checkpoint-epoch15.pth ...\n",
      "Saving current best: model_best.pth ...\n",
      "    epoch          : 16\n",
      "    loss           : 0.8352233962552742\n",
      "    accuracy       : 0.6968597374847375\n",
      "    f1             : 0.700035186071799\n",
      "    balanced_accuracy: 0.7048848039108766\n",
      "    precision      : 0.7222594678957365\n",
      "    recall         : 0.6968597374847375\n",
      "    val_loss       : 3.24112097566778\n",
      "    val_accuracy   : 0.18341773715415022\n",
      "    val_f1         : 0.11591168415052541\n",
      "    val_balanced_accuracy: 0.22366331960648947\n",
      "    val_precision  : 0.16045790154851602\n",
      "    val_recall     : 0.18341773715415022\n"
     ]
    },
    {
     "name": "stdout",
     "output_type": "stream",
     "text": [
      "Model has not improved in -------------| 1 epochs\n"
     ]
    },
    {
     "name": "stderr",
     "output_type": "stream",
     "text": [
      "    epoch          : 17\n",
      "    loss           : 0.8525754815201765\n",
      "    accuracy       : 0.6929010225885226\n",
      "    f1             : 0.6962935325878344\n",
      "    balanced_accuracy: 0.6997049528203456\n",
      "    precision      : 0.7193027780614265\n",
      "    recall         : 0.6929010225885226\n",
      "    val_loss       : 2.1422918796539308\n",
      "    val_accuracy   : 0.30222743741765484\n",
      "    val_f1         : 0.23563358972314358\n",
      "    val_balanced_accuracy: 0.3656703888510041\n",
      "    val_precision  : 0.4500707384186533\n",
      "    val_recall     : 0.30222743741765484\n"
     ]
    },
    {
     "name": "stdout",
     "output_type": "stream",
     "text": [
      "Model has not improved in -------------| 2 epochs\n"
     ]
    },
    {
     "name": "stderr",
     "output_type": "stream",
     "text": [
      "    epoch          : 18\n",
      "    loss           : 0.8402319402048439\n",
      "    accuracy       : 0.6958447802197802\n",
      "    f1             : 0.6989579788163977\n",
      "    balanced_accuracy: 0.7038220932846039\n",
      "    precision      : 0.7218002225220596\n",
      "    recall         : 0.6958447802197802\n",
      "    val_loss       : 1.2720277970487421\n",
      "    val_accuracy   : 0.5512866436100132\n",
      "    val_f1         : 0.5563210245632377\n",
      "    val_balanced_accuracy: 0.547845940498994\n",
      "    val_precision  : 0.6262094769084757\n",
      "    val_recall     : 0.5512866436100132\n"
     ]
    },
    {
     "name": "stdout",
     "output_type": "stream",
     "text": [
      "Model has not improved in -------------| 3 epochs\n"
     ]
    },
    {
     "name": "stderr",
     "output_type": "stream",
     "text": [
      "    epoch          : 19\n",
      "    loss           : 0.8227282704305591\n",
      "    accuracy       : 0.7016159188034188\n",
      "    f1             : 0.7047871723616497\n",
      "    balanced_accuracy: 0.7097636038946372\n",
      "    precision      : 0.7275548091322507\n",
      "    recall         : 0.7016159188034188\n",
      "    val_loss       : 1.4974983843890104\n",
      "    val_accuracy   : 0.4826601613965744\n",
      "    val_f1         : 0.46821274854285383\n",
      "    val_balanced_accuracy: 0.48067920312410084\n",
      "    val_precision  : 0.5608324029473092\n",
      "    val_recall     : 0.4826601613965744\n"
     ]
    },
    {
     "name": "stdout",
     "output_type": "stream",
     "text": [
      "Model has not improved in -------------| 4 epochs\n"
     ]
    },
    {
     "name": "stderr",
     "output_type": "stream",
     "text": [
      "    epoch          : 20\n",
      "    loss           : 0.8190512267806737\n",
      "    accuracy       : 0.7034359737484738\n",
      "    f1             : 0.7066809911982711\n",
      "    balanced_accuracy: 0.7099852032694006\n",
      "    precision      : 0.728919995490855\n",
      "    recall         : 0.7034359737484738\n",
      "    val_loss       : 1.7286977529525758\n",
      "    val_accuracy   : 0.4050230566534914\n",
      "    val_f1         : 0.3449112598807181\n",
      "    val_balanced_accuracy: 0.4136154781726913\n",
      "    val_precision  : 0.4561768371698314\n",
      "    val_recall     : 0.4050230566534914\n"
     ]
    },
    {
     "name": "stdout",
     "output_type": "stream",
     "text": [
      "Model has not improved in -------------| 5 epochs\n"
     ]
    },
    {
     "name": "stderr",
     "output_type": "stream",
     "text": [
      "    epoch          : 21\n",
      "    loss           : 0.8254477026552799\n",
      "    accuracy       : 0.7003090659340659\n",
      "    f1             : 0.7031798429803491\n",
      "    balanced_accuracy: 0.7075838331618409\n",
      "    precision      : 0.7250484243083091\n",
      "    recall         : 0.7003090659340659\n",
      "    val_loss       : 1.211322289163416\n",
      "    val_accuracy   : 0.5515727931488801\n",
      "    val_f1         : 0.5436042326116588\n",
      "    val_balanced_accuracy: 0.5734673315296835\n",
      "    val_precision  : 0.6231709122444248\n",
      "    val_recall     : 0.5515727931488801\n"
     ]
    },
    {
     "name": "stdout",
     "output_type": "stream",
     "text": [
      "Model has not improved in -------------| 6 epochs\n"
     ]
    },
    {
     "name": "stderr",
     "output_type": "stream",
     "text": [
      "    epoch          : 22\n",
      "    loss           : 0.8125339784319439\n",
      "    accuracy       : 0.7059981684981684\n",
      "    f1             : 0.7093230171387443\n",
      "    balanced_accuracy: 0.7147624567247405\n",
      "    precision      : 0.7321695223997672\n",
      "    recall         : 0.7059981684981684\n",
      "    val_loss       : 1.9444441080093384\n",
      "    val_accuracy   : 0.4061820652173913\n",
      "    val_f1         : 0.37941846957492087\n",
      "    val_balanced_accuracy: 0.38523447034776054\n",
      "    val_precision  : 0.5592331205421142\n",
      "    val_recall     : 0.4061820652173913\n"
     ]
    },
    {
     "name": "stdout",
     "output_type": "stream",
     "text": [
      "Model has not improved in -------------| 7 epochs\n"
     ]
    },
    {
     "name": "stderr",
     "output_type": "stream",
     "text": [
      "    epoch          : 23\n",
      "    loss           : 0.8103590450444065\n",
      "    accuracy       : 0.7076007326007325\n",
      "    f1             : 0.7109435058360298\n",
      "    balanced_accuracy: 0.7146249460508182\n",
      "    precision      : 0.733544783616584\n",
      "    recall         : 0.7076007326007325\n",
      "    val_loss       : 1.1038848898627542\n",
      "    val_accuracy   : 0.6120800395256918\n",
      "    val_f1         : 0.6014255032163809\n",
      "    val_balanced_accuracy: 0.5957708151654062\n",
      "    val_precision  : 0.6534169260512614\n",
      "    val_recall     : 0.6120800395256918\n"
     ]
    },
    {
     "name": "stdout",
     "output_type": "stream",
     "text": [
      "Model has not improved in -------------| 8 epochs\n"
     ]
    },
    {
     "name": "stderr",
     "output_type": "stream",
     "text": [
      "    epoch          : 24\n",
      "    loss           : 0.7991969303042606\n",
      "    accuracy       : 0.7117883852258852\n",
      "    f1             : 0.7144056917245263\n",
      "    balanced_accuracy: 0.7197614989584836\n",
      "    precision      : 0.7356175452527289\n",
      "    recall         : 0.7117883852258852\n",
      "    val_loss       : 3.1593658620660956\n",
      "    val_accuracy   : 0.25249094202898553\n",
      "    val_f1         : 0.16876719505939813\n",
      "    val_balanced_accuracy: 0.21627551555994964\n",
      "    val_precision  : 0.2464923337275676\n",
      "    val_recall     : 0.25249094202898553\n"
     ]
    },
    {
     "name": "stdout",
     "output_type": "stream",
     "text": [
      "Model has not improved in -------------| 9 epochs\n"
     ]
    },
    {
     "name": "stderr",
     "output_type": "stream",
     "text": [
      "    epoch          : 25\n",
      "    loss           : 0.697845837426564\n",
      "    accuracy       : 0.750093482905983\n",
      "    f1             : 0.7523320634378713\n",
      "    balanced_accuracy: 0.758967581622862\n",
      "    precision      : 0.7709923661894984\n",
      "    recall         : 0.750093482905983\n",
      "    val_loss       : 0.7502728613940153\n",
      "    val_accuracy   : 0.7338541666666666\n",
      "    val_f1         : 0.7351214096474623\n",
      "    val_balanced_accuracy: 0.7342472605535064\n",
      "    val_precision  : 0.7578851850201841\n",
      "    val_recall     : 0.7338541666666666\n"
     ]
    },
    {
     "name": "stdout",
     "output_type": "stream",
     "text": [
      "Model best! ---------------------------| \n"
     ]
    },
    {
     "name": "stderr",
     "output_type": "stream",
     "text": [
      "Saving checkpoint: C:/Users/awoloshu/Documents/NephNet/saved/kfold_test_NOTESTDATA\\1216_141547\\checkpoint-epoch25.pth ...\n",
      "Saving current best: model_best.pth ...\n",
      "    epoch          : 26\n",
      "    loss           : 0.6614665119057028\n",
      "    accuracy       : 0.7604777167277167\n",
      "    f1             : 0.7629086920068681\n",
      "    balanced_accuracy: 0.7702550917151372\n",
      "    precision      : 0.7814493096187113\n",
      "    recall         : 0.7604777167277167\n",
      "    val_loss       : 0.7907324455001138\n",
      "    val_accuracy   : 0.7102746212121211\n",
      "    val_f1         : 0.7129636078858428\n",
      "    val_balanced_accuracy: 0.7029008723420285\n",
      "    val_precision  : 0.7346412050694536\n",
      "    val_recall     : 0.7102746212121211\n"
     ]
    },
    {
     "name": "stdout",
     "output_type": "stream",
     "text": [
      "Model has not improved in -------------| 1 epochs\n"
     ]
    },
    {
     "name": "stderr",
     "output_type": "stream",
     "text": [
      "    epoch          : 27\n",
      "    loss           : 0.653985572712762\n",
      "    accuracy       : 0.7649668040293041\n",
      "    f1             : 0.7670551926173764\n",
      "    balanced_accuracy: 0.7737499877665623\n",
      "    precision      : 0.784780971767926\n",
      "    recall         : 0.7649668040293041\n",
      "    val_loss       : 0.9375530676408248\n",
      "    val_accuracy   : 0.6789422760210804\n",
      "    val_f1         : 0.6715091371857795\n",
      "    val_balanced_accuracy: 0.6610507474155722\n",
      "    val_precision  : 0.7027551889199265\n",
      "    val_recall     : 0.6789422760210804\n"
     ]
    },
    {
     "name": "stdout",
     "output_type": "stream",
     "text": [
      "Model has not improved in -------------| 2 epochs\n"
     ]
    },
    {
     "name": "stderr",
     "output_type": "stream",
     "text": [
      "    epoch          : 28\n",
      "    loss           : 0.647961109512746\n",
      "    accuracy       : 0.7666323260073261\n",
      "    f1             : 0.7686630064369581\n",
      "    balanced_accuracy: 0.7771402679242768\n",
      "    precision      : 0.7865706549247691\n",
      "    recall         : 0.7666323260073261\n",
      "    val_loss       : 0.957344278422269\n",
      "    val_accuracy   : 0.6262845849802372\n",
      "    val_f1         : 0.6293547920084989\n",
      "    val_balanced_accuracy: 0.6519252889140918\n",
      "    val_precision  : 0.694394597194658\n",
      "    val_recall     : 0.6262845849802372\n"
     ]
    },
    {
     "name": "stdout",
     "output_type": "stream",
     "text": [
      "Model has not improved in -------------| 3 epochs\n"
     ]
    },
    {
     "name": "stderr",
     "output_type": "stream",
     "text": [
      "    epoch          : 29\n",
      "    loss           : 0.6398017646992745\n",
      "    accuracy       : 0.7692612942612942\n",
      "    f1             : 0.7715956976956265\n",
      "    balanced_accuracy: 0.7793707628510675\n",
      "    precision      : 0.7900598451591129\n",
      "    recall         : 0.7692612942612942\n",
      "    val_loss       : 0.9791415268724615\n",
      "    val_accuracy   : 0.6589756258234518\n",
      "    val_f1         : 0.6519198754529308\n",
      "    val_balanced_accuracy: 0.6582108787575278\n",
      "    val_precision  : 0.7223290910224168\n",
      "    val_recall     : 0.6589756258234518\n"
     ]
    },
    {
     "name": "stdout",
     "output_type": "stream",
     "text": [
      "Model has not improved in -------------| 4 epochs\n"
     ]
    },
    {
     "name": "stderr",
     "output_type": "stream",
     "text": [
      "    epoch          : 30\n",
      "    loss           : 0.631664269900584\n",
      "    accuracy       : 0.7715907356532355\n",
      "    f1             : 0.7736529745283003\n",
      "    balanced_accuracy: 0.7814755913170824\n",
      "    precision      : 0.7911495730264894\n",
      "    recall         : 0.7715907356532355\n",
      "    val_loss       : 0.9971520142121748\n",
      "    val_accuracy   : 0.6342411890645586\n",
      "    val_f1         : 0.6392033063371567\n",
      "    val_balanced_accuracy: 0.6451036191985896\n",
      "    val_precision  : 0.6940042717322634\n",
      "    val_recall     : 0.6342411890645586\n"
     ]
    },
    {
     "name": "stdout",
     "output_type": "stream",
     "text": [
      "Model has not improved in -------------| 5 epochs\n"
     ]
    },
    {
     "name": "stderr",
     "output_type": "stream",
     "text": [
      "    epoch          : 31\n",
      "    loss           : 0.6262349456148415\n",
      "    accuracy       : 0.7733268467643467\n",
      "    f1             : 0.7753596902551929\n",
      "    balanced_accuracy: 0.7840085774280716\n",
      "    precision      : 0.7931715242459908\n",
      "    recall         : 0.7733268467643467\n",
      "    val_loss       : 0.9477385022423485\n",
      "    val_accuracy   : 0.6894927536231884\n",
      "    val_f1         : 0.6898880822347063\n",
      "    val_balanced_accuracy: 0.6697148729358002\n",
      "    val_precision  : 0.7246107812487003\n",
      "    val_recall     : 0.6894927536231884\n"
     ]
    },
    {
     "name": "stdout",
     "output_type": "stream",
     "text": [
      "Model has not improved in -------------| 6 epochs\n"
     ]
    },
    {
     "name": "stderr",
     "output_type": "stream",
     "text": [
      "    epoch          : 32\n",
      "    loss           : 0.6155558624401488\n",
      "    accuracy       : 0.7782776251526251\n",
      "    f1             : 0.7800430648332748\n",
      "    balanced_accuracy: 0.7886410225653371\n",
      "    precision      : 0.7968018697957794\n",
      "    recall         : 0.7782776251526251\n",
      "    val_loss       : 1.0777987816117027\n",
      "    val_accuracy   : 0.5870635704874835\n",
      "    val_f1         : 0.594373239643927\n",
      "    val_balanced_accuracy: 0.6057358513051926\n",
      "    val_precision  : 0.6640560519677225\n",
      "    val_recall     : 0.5870635704874835\n"
     ]
    },
    {
     "name": "stdout",
     "output_type": "stream",
     "text": [
      "Model has not improved in -------------| 7 epochs\n"
     ]
    },
    {
     "name": "stderr",
     "output_type": "stream",
     "text": [
      "    epoch          : 33\n",
      "    loss           : 0.6473724397038074\n",
      "    accuracy       : 0.7655715811965811\n",
      "    f1             : 0.7681102942057055\n",
      "    balanced_accuracy: 0.7748461240585602\n",
      "    precision      : 0.7866278909322272\n",
      "    recall         : 0.7655715811965811\n",
      "    val_loss       : 0.9015934911641208\n",
      "    val_accuracy   : 0.6976119894598155\n",
      "    val_f1         : 0.689661222222599\n",
      "    val_balanced_accuracy: 0.6847469525977485\n",
      "    val_precision  : 0.7230475888981964\n",
      "    val_recall     : 0.6976119894598155\n"
     ]
    },
    {
     "name": "stdout",
     "output_type": "stream",
     "text": [
      "Model has not improved in -------------| 8 epochs\n"
     ]
    },
    {
     "name": "stderr",
     "output_type": "stream",
     "text": [
      "    epoch          : 34\n",
      "    loss           : 0.6135158570476504\n",
      "    accuracy       : 0.7775316697191696\n",
      "    f1             : 0.7796434024304754\n",
      "    balanced_accuracy: 0.7886464119088857\n",
      "    precision      : 0.797224660063622\n",
      "    recall         : 0.7775316697191696\n",
      "    val_loss       : 0.9171611991795626\n",
      "    val_accuracy   : 0.661126893939394\n",
      "    val_f1         : 0.6541291109649496\n",
      "    val_balanced_accuracy: 0.6632191333971837\n",
      "    val_precision  : 0.7056280376520424\n",
      "    val_recall     : 0.661126893939394\n"
     ]
    },
    {
     "name": "stdout",
     "output_type": "stream",
     "text": [
      "Model has not improved in -------------| 9 epochs\n"
     ]
    },
    {
     "name": "stderr",
     "output_type": "stream",
     "text": [
      "    epoch          : 35\n",
      "    loss           : 0.53106797662119\n",
      "    accuracy       : 0.8108192155067155\n",
      "    f1             : 0.812331949049667\n",
      "    balanced_accuracy: 0.822229477576514\n",
      "    precision      : 0.8262958755505119\n",
      "    recall         : 0.8108192155067155\n",
      "    val_loss       : 0.7116299455816095\n",
      "    val_accuracy   : 0.7490715579710144\n",
      "    val_f1         : 0.750418311637166\n",
      "    val_balanced_accuracy: 0.744242068470905\n",
      "    val_precision  : 0.765881827192921\n",
      "    val_recall     : 0.7490715579710144\n"
     ]
    },
    {
     "name": "stdout",
     "output_type": "stream",
     "text": [
      "Model best! ---------------------------| \n"
     ]
    },
    {
     "name": "stderr",
     "output_type": "stream",
     "text": [
      "Saving checkpoint: C:/Users/awoloshu/Documents/NephNet/saved/kfold_test_NOTESTDATA\\1216_141547\\checkpoint-epoch35.pth ...\n",
      "Saving current best: model_best.pth ...\n",
      "    epoch          : 36\n",
      "    loss           : 0.4965431815393096\n",
      "    accuracy       : 0.8239354395604396\n",
      "    f1             : 0.8252609976280336\n",
      "    balanced_accuracy: 0.8363761820862027\n",
      "    precision      : 0.8384446958255598\n",
      "    recall         : 0.8239354395604396\n",
      "    val_loss       : 0.7736760410395536\n",
      "    val_accuracy   : 0.7257575757575757\n",
      "    val_f1         : 0.7276588963625842\n",
      "    val_balanced_accuracy: 0.7257526364624386\n",
      "    val_precision  : 0.7527561637027539\n",
      "    val_recall     : 0.7257575757575757\n"
     ]
    },
    {
     "name": "stdout",
     "output_type": "stream",
     "text": [
      "Model has not improved in -------------| 1 epochs\n"
     ]
    },
    {
     "name": "stderr",
     "output_type": "stream",
     "text": [
      "    epoch          : 37\n",
      "    loss           : 0.4866393230336926\n",
      "    accuracy       : 0.8270814255189256\n",
      "    f1             : 0.8283928930067932\n",
      "    balanced_accuracy: 0.8417384573718796\n",
      "    precision      : 0.8414013008164003\n",
      "    recall         : 0.8270814255189256\n",
      "    val_loss       : 0.7756230950355529\n",
      "    val_accuracy   : 0.7300374670619236\n",
      "    val_f1         : 0.7308691336919674\n",
      "    val_balanced_accuracy: 0.7342368597751519\n",
      "    val_precision  : 0.7580520189760462\n",
      "    val_recall     : 0.7300374670619236\n"
     ]
    },
    {
     "name": "stdout",
     "output_type": "stream",
     "text": [
      "Model has not improved in -------------| 2 epochs\n"
     ]
    },
    {
     "name": "stderr",
     "output_type": "stream",
     "text": [
      "    epoch          : 38\n",
      "    loss           : 0.47223748927151327\n",
      "    accuracy       : 0.8309943528693529\n",
      "    f1             : 0.8321810465414737\n",
      "    balanced_accuracy: 0.8450421768144801\n",
      "    precision      : 0.844821272807643\n",
      "    recall         : 0.8309943528693529\n",
      "    val_loss       : 0.8643597732890737\n",
      "    val_accuracy   : 0.6772583168642952\n",
      "    val_f1         : 0.6811191740772068\n",
      "    val_balanced_accuracy: 0.6982058474196449\n",
      "    val_precision  : 0.730831828994324\n",
      "    val_recall     : 0.6772583168642952\n"
     ]
    },
    {
     "name": "stdout",
     "output_type": "stream",
     "text": [
      "Model has not improved in -------------| 3 epochs\n"
     ]
    },
    {
     "name": "stderr",
     "output_type": "stream",
     "text": [
      "    epoch          : 39\n",
      "    loss           : 0.4568187395003835\n",
      "    accuracy       : 0.8370669261294261\n",
      "    f1             : 0.8382056464019976\n",
      "    balanced_accuracy: 0.8521730693205654\n",
      "    precision      : 0.8504904479358119\n",
      "    recall         : 0.8370669261294261\n",
      "    val_loss       : 0.8204680215228688\n",
      "    val_accuracy   : 0.7279870718050065\n",
      "    val_f1         : 0.7293952302484389\n",
      "    val_balanced_accuracy: 0.7180598935999255\n",
      "    val_precision  : 0.7527718174533599\n",
      "    val_recall     : 0.7279870718050065\n"
     ]
    },
    {
     "name": "stdout",
     "output_type": "stream",
     "text": [
      "Model has not improved in -------------| 4 epochs\n"
     ]
    },
    {
     "name": "stderr",
     "output_type": "stream",
     "text": [
      "    epoch          : 40\n",
      "    loss           : 0.4444769621987046\n",
      "    accuracy       : 0.8428380647130647\n",
      "    f1             : 0.8440178947681632\n",
      "    balanced_accuracy: 0.8574549972552303\n",
      "    precision      : 0.8561448863406043\n",
      "    recall         : 0.8428380647130647\n",
      "    val_loss       : 0.8959200273860585\n",
      "    val_accuracy   : 0.717780385375494\n",
      "    val_f1         : 0.7194880669731833\n",
      "    val_balanced_accuracy: 0.6878658378036412\n",
      "    val_precision  : 0.7555281909923769\n",
      "    val_recall     : 0.717780385375494\n"
     ]
    },
    {
     "name": "stdout",
     "output_type": "stream",
     "text": [
      "Model has not improved in -------------| 5 epochs\n"
     ]
    },
    {
     "name": "stderr",
     "output_type": "stream",
     "text": [
      "    epoch          : 41\n",
      "    loss           : 0.4318643815278716\n",
      "    accuracy       : 0.8455509768009768\n",
      "    f1             : 0.8465994734853594\n",
      "    balanced_accuracy: 0.8610568360319422\n",
      "    precision      : 0.8582119282884058\n",
      "    recall         : 0.8455509768009768\n",
      "    val_loss       : 0.7735023747790943\n",
      "    val_accuracy   : 0.7319643445322793\n",
      "    val_f1         : 0.7354883732417032\n",
      "    val_balanced_accuracy: 0.7304790608714976\n",
      "    val_precision  : 0.7620286495716421\n",
      "    val_recall     : 0.7319643445322793\n"
     ]
    },
    {
     "name": "stdout",
     "output_type": "stream",
     "text": [
      "Model has not improved in -------------| 6 epochs\n"
     ]
    },
    {
     "name": "stderr",
     "output_type": "stream",
     "text": [
      "    epoch          : 42\n",
      "    loss           : 0.42040213298448276\n",
      "    accuracy       : 0.8496146214896215\n",
      "    f1             : 0.8506972091996536\n",
      "    balanced_accuracy: 0.8650168548222852\n",
      "    precision      : 0.8619836454133688\n",
      "    recall         : 0.8496146214896215\n",
      "    val_loss       : 0.8020820346745577\n",
      "    val_accuracy   : 0.7284770256916996\n",
      "    val_f1         : 0.7261269417480317\n",
      "    val_balanced_accuracy: 0.7208206170537045\n",
      "    val_precision  : 0.7517306323255918\n",
      "    val_recall     : 0.7284770256916996\n"
     ]
    },
    {
     "name": "stdout",
     "output_type": "stream",
     "text": [
      "Model has not improved in -------------| 7 epochs\n"
     ]
    },
    {
     "name": "stderr",
     "output_type": "stream",
     "text": [
      "    epoch          : 43\n",
      "    loss           : 0.4103063615141334\n",
      "    accuracy       : 0.8529590201465201\n",
      "    f1             : 0.8538302166013709\n",
      "    balanced_accuracy: 0.8689133725429006\n",
      "    precision      : 0.8643897483590359\n",
      "    recall         : 0.8529590201465201\n",
      "    val_loss       : 0.7965551078319549\n",
      "    val_accuracy   : 0.7394515810276681\n",
      "    val_f1         : 0.7420362072615101\n",
      "    val_balanced_accuracy: 0.7271937256554796\n",
      "    val_precision  : 0.7673545643406698\n",
      "    val_recall     : 0.7394515810276681\n"
     ]
    },
    {
     "name": "stdout",
     "output_type": "stream",
     "text": [
      "Model has not improved in -------------| 8 epochs\n"
     ]
    },
    {
     "name": "stderr",
     "output_type": "stream",
     "text": [
      "    epoch          : 44\n",
      "    loss           : 0.40160014341165734\n",
      "    accuracy       : 0.8552655677655677\n",
      "    f1             : 0.8559996205724997\n",
      "    balanced_accuracy: 0.8719187054149865\n",
      "    precision      : 0.8668509653953449\n",
      "    recall         : 0.8552655677655677\n",
      "    val_loss       : 0.8739241860129616\n",
      "    val_accuracy   : 0.7157114624505929\n",
      "    val_f1         : 0.7189822634769717\n",
      "    val_balanced_accuracy: 0.7054507132281385\n",
      "    val_precision  : 0.7424160167147106\n",
      "    val_recall     : 0.7157114624505929\n"
     ]
    },
    {
     "name": "stdout",
     "output_type": "stream",
     "text": [
      "Model has not improved in -------------| 9 epochs\n"
     ]
    },
    {
     "name": "stderr",
     "output_type": "stream",
     "text": [
      "    epoch          : 45\n",
      "    loss           : 0.35068318808180654\n",
      "    accuracy       : 0.878228021978022\n",
      "    f1             : 0.8789114202522715\n",
      "    balanced_accuracy: 0.8930762283940447\n",
      "    precision      : 0.8877977140302032\n",
      "    recall         : 0.878228021978022\n",
      "    val_loss       : 0.7636720700697466\n",
      "    val_accuracy   : 0.7511404808959157\n",
      "    val_f1         : 0.7523952978542124\n",
      "    val_balanced_accuracy: 0.7398383891772142\n",
      "    val_precision  : 0.7676065394986644\n",
      "    val_recall     : 0.7511404808959157\n"
     ]
    },
    {
     "name": "stdout",
     "output_type": "stream",
     "text": [
      "Model has not improved in -------------| 10 epochs\n"
     ]
    },
    {
     "name": "stderr",
     "output_type": "stream",
     "text": [
      "    epoch          : 46\n",
      "    loss           : 0.324791178234622\n",
      "    accuracy       : 0.8879769536019535\n",
      "    f1             : 0.8885566274907567\n",
      "    balanced_accuracy: 0.9033542186324612\n",
      "    precision      : 0.8962880127140955\n",
      "    recall         : 0.8879769536019535\n",
      "    val_loss       : 0.7723513744094155\n",
      "    val_accuracy   : 0.7491127305665349\n",
      "    val_f1         : 0.748691340326646\n",
      "    val_balanced_accuracy: 0.7303952081717054\n",
      "    val_precision  : 0.7617139192346893\n",
      "    val_recall     : 0.7491127305665349\n"
     ]
    },
    {
     "name": "stdout",
     "output_type": "stream",
     "text": [
      "Model has not improved in -------------| 11 epochs\n"
     ]
    },
    {
     "name": "stderr",
     "output_type": "stream",
     "text": [
      "    epoch          : 47\n",
      "    loss           : 0.3152112507230633\n",
      "    accuracy       : 0.8920157967032968\n",
      "    f1             : 0.8926897662258337\n",
      "    balanced_accuracy: 0.9075776549875562\n",
      "    precision      : 0.9004039898050962\n",
      "    recall         : 0.8920157967032968\n",
      "    val_loss       : 0.7766235936771739\n",
      "    val_accuracy   : 0.748340744400527\n",
      "    val_f1         : 0.7493740761244997\n",
      "    val_balanced_accuracy: 0.7427212281603363\n",
      "    val_precision  : 0.7672316842928293\n",
      "    val_recall     : 0.748340744400527\n"
     ]
    },
    {
     "name": "stdout",
     "output_type": "stream",
     "text": [
      "Model has not improved in -------------| 12 epochs\n"
     ]
    },
    {
     "name": "stderr",
     "output_type": "stream",
     "text": [
      "    epoch          : 48\n",
      "    loss           : 0.30439108886707106\n",
      "    accuracy       : 0.8952876984126984\n",
      "    f1             : 0.8959905925401209\n",
      "    balanced_accuracy: 0.9108961179216716\n",
      "    precision      : 0.9038489826465754\n",
      "    recall         : 0.8952876984126984\n",
      "    val_loss       : 0.7780873742970553\n",
      "    val_accuracy   : 0.7530900032938077\n",
      "    val_f1         : 0.7521518423750225\n",
      "    val_balanced_accuracy: 0.7410249634124993\n",
      "    val_precision  : 0.7648590173073981\n",
      "    val_recall     : 0.7530900032938077\n"
     ]
    },
    {
     "name": "stdout",
     "output_type": "stream",
     "text": [
      "Model has not improved in -------------| 13 epochs\n"
     ]
    },
    {
     "name": "stderr",
     "output_type": "stream",
     "text": [
      "    epoch          : 49\n",
      "    loss           : 0.2928848688164328\n",
      "    accuracy       : 0.9006963522588523\n",
      "    f1             : 0.9014233222103575\n",
      "    balanced_accuracy: 0.9161338368890831\n",
      "    precision      : 0.9087890413246692\n",
      "    recall         : 0.9006963522588523\n",
      "    val_loss       : 0.8057736987417394\n",
      "    val_accuracy   : 0.7457221673254282\n",
      "    val_f1         : 0.7451964832507655\n",
      "    val_balanced_accuracy: 0.7335588475871802\n",
      "    val_precision  : 0.7595789020007914\n",
      "    val_recall     : 0.7457221673254282\n"
     ]
    },
    {
     "name": "stdout",
     "output_type": "stream",
     "text": [
      "Model has not improved in -------------| 14 epochs\n"
     ]
    },
    {
     "name": "stderr",
     "output_type": "stream",
     "text": [
      "    epoch          : 50\n",
      "    loss           : 0.2855845434870912\n",
      "    accuracy       : 0.901717032967033\n",
      "    f1             : 0.9023565949781741\n",
      "    balanced_accuracy: 0.9174432789853287\n",
      "    precision      : 0.9094623052175577\n",
      "    recall         : 0.901717032967033\n",
      "    val_loss       : 0.7950204529545524\n",
      "    val_accuracy   : 0.7424345355731226\n",
      "    val_f1         : 0.7404287044228152\n",
      "    val_balanced_accuracy: 0.7338727881754081\n",
      "    val_precision  : 0.758125134881991\n",
      "    val_recall     : 0.7424345355731226\n"
     ]
    },
    {
     "name": "stdout",
     "output_type": "stream",
     "text": [
      "Model has not improved in -------------| 15 epochs\n"
     ]
    },
    {
     "name": "stderr",
     "output_type": "stream",
     "text": [
      "    epoch          : 51\n",
      "    loss           : 0.27279785193584777\n",
      "    accuracy       : 0.9080128205128205\n",
      "    f1             : 0.9084713880987051\n",
      "    balanced_accuracy: 0.9225287271229742\n",
      "    precision      : 0.9149060678285147\n",
      "    recall         : 0.9080128205128205\n",
      "    val_loss       : 0.8231504429470409\n",
      "    val_accuracy   : 0.7422945487483531\n",
      "    val_f1         : 0.7433386181852223\n",
      "    val_balanced_accuracy: 0.727850884257767\n",
      "    val_precision  : 0.7594800301585704\n",
      "    val_recall     : 0.7422945487483531\n"
     ]
    },
    {
     "name": "stdout",
     "output_type": "stream",
     "text": [
      "Model has not improved in -------------| 16 epochs\n"
     ]
    },
    {
     "name": "stderr",
     "output_type": "stream",
     "text": [
      "    epoch          : 52\n",
      "    loss           : 0.2637172039320763\n",
      "    accuracy       : 0.912139423076923\n",
      "    f1             : 0.9125848633291685\n",
      "    balanced_accuracy: 0.9266200254495619\n",
      "    precision      : 0.9186738076278506\n",
      "    recall         : 0.912139423076923\n",
      "    val_loss       : 0.806439505923878\n",
      "    val_accuracy   : 0.7482831027667984\n",
      "    val_f1         : 0.74944805400021\n",
      "    val_balanced_accuracy: 0.7421938249117818\n",
      "    val_precision  : 0.7652086816622635\n",
      "    val_recall     : 0.7482831027667984\n"
     ]
    },
    {
     "name": "stdout",
     "output_type": "stream",
     "text": [
      "Model has not improved in -------------| 17 epochs\n"
     ]
    },
    {
     "name": "stderr",
     "output_type": "stream",
     "text": [
      "    epoch          : 53\n",
      "    loss           : 0.25653984516822664\n",
      "    accuracy       : 0.9139518467643467\n",
      "    f1             : 0.9144765315680129\n",
      "    balanced_accuracy: 0.9287745037967546\n",
      "    precision      : 0.9205035842058793\n",
      "    recall         : 0.9139518467643467\n",
      "    val_loss       : 0.8769998008554633\n",
      "    val_accuracy   : 0.735842803030303\n",
      "    val_f1         : 0.7362924376490719\n",
      "    val_balanced_accuracy: 0.7183348764197643\n",
      "    val_precision  : 0.7549210463729485\n",
      "    val_recall     : 0.735842803030303\n"
     ]
    },
    {
     "name": "stdout",
     "output_type": "stream",
     "text": [
      "Model has not improved in -------------| 18 epochs\n"
     ]
    },
    {
     "name": "stderr",
     "output_type": "stream",
     "text": [
      "    epoch          : 54\n",
      "    loss           : 0.24034465283555717\n",
      "    accuracy       : 0.9223099816849818\n",
      "    f1             : 0.9227568223498452\n",
      "    balanced_accuracy: 0.9360581415000826\n",
      "    precision      : 0.9281094965605466\n",
      "    recall         : 0.9223099816849818\n",
      "    val_loss       : 0.8330806667154486\n",
      "    val_accuracy   : 0.7481184123847168\n",
      "    val_f1         : 0.7485401202902036\n",
      "    val_balanced_accuracy: 0.7282983288721272\n",
      "    val_precision  : 0.7610244093054215\n",
      "    val_recall     : 0.7481184123847168\n"
     ]
    },
    {
     "name": "stdout",
     "output_type": "stream",
     "text": [
      "Model has not improved in -------------| 19 epochs\n"
     ]
    },
    {
     "name": "stderr",
     "output_type": "stream",
     "text": [
      "    epoch          : 55\n",
      "    loss           : 0.23151731782198243\n",
      "    accuracy       : 0.9256238553113553\n",
      "    f1             : 0.9259878093380206\n",
      "    balanced_accuracy: 0.9391752515932655\n",
      "    precision      : 0.9311041534130319\n",
      "    recall         : 0.9256238553113553\n",
      "    val_loss       : 0.8119189099832015\n",
      "    val_accuracy   : 0.7479948945981554\n",
      "    val_f1         : 0.7471980646383382\n",
      "    val_balanced_accuracy: 0.7392993115279285\n",
      "    val_precision  : 0.7600586595345644\n",
      "    val_recall     : 0.7479948945981554\n"
     ]
    },
    {
     "name": "stdout",
     "output_type": "stream",
     "text": [
      "Model has not improved in -------------| 20 epochs\n"
     ]
    },
    {
     "name": "stderr",
     "output_type": "stream",
     "text": [
      "    epoch          : 56\n",
      "    loss           : 0.22740010278565542\n",
      "    accuracy       : 0.9281173687423687\n",
      "    f1             : 0.9284786682336581\n",
      "    balanced_accuracy: 0.941257434907596\n",
      "    precision      : 0.9335802664517352\n",
      "    recall         : 0.9281173687423687\n",
      "    val_loss       : 0.8192331227389249\n",
      "    val_accuracy   : 0.751953639657444\n",
      "    val_f1         : 0.7520088502181095\n",
      "    val_balanced_accuracy: 0.7365049574104287\n",
      "    val_precision  : 0.7662412120260379\n",
      "    val_recall     : 0.751953639657444\n"
     ]
    },
    {
     "name": "stdout",
     "output_type": "stream",
     "text": [
      "Model has not improved in -------------| 21 epochs\n"
     ]
    },
    {
     "name": "stderr",
     "output_type": "stream",
     "text": [
      "    epoch          : 57\n",
      "    loss           : 0.22474454765427535\n",
      "    accuracy       : 0.928968253968254\n",
      "    f1             : 0.9293007070360573\n",
      "    balanced_accuracy: 0.9418533150962146\n",
      "    precision      : 0.9339831844511066\n",
      "    recall         : 0.928968253968254\n",
      "    val_loss       : 0.8271199800751426\n",
      "    val_accuracy   : 0.7482810441370225\n",
      "    val_f1         : 0.7476784480656881\n",
      "    val_balanced_accuracy: 0.7354179947623491\n",
      "    val_precision  : 0.7626042182125384\n",
      "    val_recall     : 0.7482810441370225\n"
     ]
    },
    {
     "name": "stdout",
     "output_type": "stream",
     "text": [
      "Model has not improved in -------------| 22 epochs\n"
     ]
    },
    {
     "name": "stderr",
     "output_type": "stream",
     "text": [
      "    epoch          : 58\n",
      "    loss           : 0.21840635011193224\n",
      "    accuracy       : 0.9309695512820513\n",
      "    f1             : 0.9315097128631815\n",
      "    balanced_accuracy: 0.9441630986847813\n",
      "    precision      : 0.9366426767016225\n",
      "    recall         : 0.9309695512820513\n",
      "    val_loss       : 0.8394924434748563\n",
      "    val_accuracy   : 0.7503705533596838\n",
      "    val_f1         : 0.7506056288145253\n",
      "    val_balanced_accuracy: 0.7339451249194355\n",
      "    val_precision  : 0.7648033068653117\n",
      "    val_recall     : 0.7503705533596838\n"
     ]
    },
    {
     "name": "stdout",
     "output_type": "stream",
     "text": [
      "Model has not improved in -------------| 23 epochs\n"
     ]
    },
    {
     "name": "stderr",
     "output_type": "stream",
     "text": [
      "    epoch          : 59\n",
      "    loss           : 0.21450363399781586\n",
      "    accuracy       : 0.9332837301587301\n",
      "    f1             : 0.9335714345505924\n",
      "    balanced_accuracy: 0.9457454706429288\n",
      "    precision      : 0.9381571330815278\n",
      "    recall         : 0.9332837301587301\n",
      "    val_loss       : 0.8666174953634088\n",
      "    val_accuracy   : 0.7391489624505929\n",
      "    val_f1         : 0.7392345333725923\n",
      "    val_balanced_accuracy: 0.7194597256204833\n",
      "    val_precision  : 0.7527813124748285\n",
      "    val_recall     : 0.7391489624505929\n"
     ]
    },
    {
     "name": "stdout",
     "output_type": "stream",
     "text": [
      "Model has not improved in -------------| 24 epochs\n"
     ]
    },
    {
     "name": "stderr",
     "output_type": "stream",
     "text": [
      "    epoch          : 60\n",
      "    loss           : 0.21361985349611484\n",
      "    accuracy       : 0.9339972527472528\n",
      "    f1             : 0.9343855603208465\n",
      "    balanced_accuracy: 0.9462231547510715\n",
      "    precision      : 0.938882432926708\n",
      "    recall         : 0.9339972527472528\n",
      "    val_loss       : 0.8390678611668674\n",
      "    val_accuracy   : 0.7447093214756259\n",
      "    val_f1         : 0.7437001406436259\n",
      "    val_balanced_accuracy: 0.7260854309186376\n",
      "    val_precision  : 0.7542383162806796\n",
      "    val_recall     : 0.7447093214756259\n"
     ]
    },
    {
     "name": "stdout",
     "output_type": "stream",
     "text": [
      "Model has not improved in -------------| 25 epochs\n"
     ]
    },
    {
     "name": "stderr",
     "output_type": "stream",
     "text": [
      "    epoch          : 61\n",
      "    loss           : 0.21065454682624093\n",
      "    accuracy       : 0.9345982142857143\n",
      "    f1             : 0.9349738731032216\n",
      "    balanced_accuracy: 0.94699521462448\n",
      "    precision      : 0.9395236692826112\n",
      "    recall         : 0.9345982142857143\n",
      "    val_loss       : 0.8353733517906883\n",
      "    val_accuracy   : 0.7469202898550724\n",
      "    val_f1         : 0.7463199039441991\n",
      "    val_balanced_accuracy: 0.7270210146009558\n",
      "    val_precision  : 0.7587427404679131\n",
      "    val_recall     : 0.7469202898550724\n"
     ]
    },
    {
     "name": "stdout",
     "output_type": "stream",
     "text": [
      "Model has not improved in -------------| 26 epochs\n"
     ]
    },
    {
     "name": "stderr",
     "output_type": "stream",
     "text": [
      "    epoch          : 62\n",
      "    loss           : 0.20628836523554991\n",
      "    accuracy       : 0.9373397435897436\n",
      "    f1             : 0.9377454841244822\n",
      "    balanced_accuracy: 0.9490811825992455\n",
      "    precision      : 0.9422817016283628\n",
      "    recall         : 0.9373397435897436\n",
      "    val_loss       : 0.8634354488416152\n",
      "    val_accuracy   : 0.7409955533596838\n",
      "    val_f1         : 0.7420425836531073\n",
      "    val_balanced_accuracy: 0.723550189728638\n",
      "    val_precision  : 0.758130375414777\n",
      "    val_recall     : 0.7409955533596838\n"
     ]
    },
    {
     "name": "stdout",
     "output_type": "stream",
     "text": [
      "Model has not improved in -------------| 27 epochs\n"
     ]
    },
    {
     "name": "stderr",
     "output_type": "stream",
     "text": [
      "    epoch          : 63\n",
      "    loss           : 0.20000189714706862\n",
      "    accuracy       : 0.9395890567765568\n",
      "    f1             : 0.9399183223161801\n",
      "    balanced_accuracy: 0.9515310191941558\n",
      "    precision      : 0.9442066978936813\n",
      "    recall         : 0.9395890567765568\n",
      "    val_loss       : 0.8426702466878024\n",
      "    val_accuracy   : 0.742092803030303\n",
      "    val_f1         : 0.7419987133881697\n",
      "    val_balanced_accuracy: 0.7289304686574438\n",
      "    val_precision  : 0.7547566520545884\n",
      "    val_recall     : 0.742092803030303\n"
     ]
    },
    {
     "name": "stdout",
     "output_type": "stream",
     "text": [
      "Model has not improved in -------------| 28 epochs\n"
     ]
    },
    {
     "name": "stderr",
     "output_type": "stream",
     "text": [
      "    epoch          : 64\n",
      "    loss           : 0.20130065339134143\n",
      "    accuracy       : 0.9403102106227107\n",
      "    f1             : 0.9406449402756196\n",
      "    balanced_accuracy: 0.9519981852427858\n",
      "    precision      : 0.9448645830221742\n",
      "    recall         : 0.9403102106227107\n",
      "    val_loss       : 0.8297856211662292\n",
      "    val_accuracy   : 0.7524600625823452\n",
      "    val_f1         : 0.7532556915691593\n",
      "    val_balanced_accuracy: 0.7405269105991856\n",
      "    val_precision  : 0.7682429009028543\n",
      "    val_recall     : 0.7524600625823452\n"
     ]
    },
    {
     "name": "stdout",
     "output_type": "stream",
     "text": [
      "Model has not improved in -------------| 29 epochs\n"
     ]
    },
    {
     "name": "stderr",
     "output_type": "stream",
     "text": [
      "    epoch          : 65\n",
      "    loss           : 0.1957465635114537\n",
      "    accuracy       : 0.9427026098901098\n",
      "    f1             : 0.9430501808637353\n",
      "    balanced_accuracy: 0.9538026734989278\n",
      "    precision      : 0.9471047296515132\n",
      "    recall         : 0.9427026098901098\n",
      "    val_loss       : 0.8498333318666978\n",
      "    val_accuracy   : 0.7430644762845849\n",
      "    val_f1         : 0.7440885993706813\n",
      "    val_balanced_accuracy: 0.7328521906038353\n",
      "    val_precision  : 0.7585427762266416\n",
      "    val_recall     : 0.7430644762845849\n"
     ]
    },
    {
     "name": "stdout",
     "output_type": "stream",
     "text": [
      "Model has not improved in -------------| 30 epochs\n"
     ]
    },
    {
     "name": "stderr",
     "output_type": "stream",
     "text": [
      "    epoch          : 66\n",
      "    loss           : 0.19652171648574837\n",
      "    accuracy       : 0.9414281898656899\n",
      "    f1             : 0.9416911465888366\n",
      "    balanced_accuracy: 0.952709694457444\n",
      "    precision      : 0.9456193213677253\n",
      "    recall         : 0.9414281898656899\n",
      "    val_loss       : 0.8431897987018931\n",
      "    val_accuracy   : 0.7488903985507246\n",
      "    val_f1         : 0.750425060957119\n",
      "    val_balanced_accuracy: 0.7312655471700067\n",
      "    val_precision  : 0.7671575809238621\n",
      "    val_recall     : 0.7488903985507246\n"
     ]
    },
    {
     "name": "stdout",
     "output_type": "stream",
     "text": [
      "Model has not improved in -------------| 31 epochs\n"
     ]
    },
    {
     "name": "stderr",
     "output_type": "stream",
     "text": [
      "    epoch          : 67\n",
      "    loss           : 0.19718784547805496\n",
      "    accuracy       : 0.9417277167277167\n",
      "    f1             : 0.9421275605911265\n",
      "    balanced_accuracy: 0.9530856304957814\n",
      "    precision      : 0.9464569010876613\n",
      "    recall         : 0.9417277167277167\n",
      "    val_loss       : 0.8368907971815629\n",
      "    val_accuracy   : 0.7460474308300394\n",
      "    val_f1         : 0.7475798428296667\n",
      "    val_balanced_accuracy: 0.7310878802823058\n",
      "    val_precision  : 0.7623563699906277\n",
      "    val_recall     : 0.7460474308300394\n"
     ]
    },
    {
     "name": "stdout",
     "output_type": "stream",
     "text": [
      "Model has not improved in -------------| 32 epochs\n"
     ]
    },
    {
     "name": "stderr",
     "output_type": "stream",
     "text": [
      "    epoch          : 68\n",
      "    loss           : 0.19433575164485764\n",
      "    accuracy       : 0.9426129426129426\n",
      "    f1             : 0.9429260414243695\n",
      "    balanced_accuracy: 0.9540124102219484\n",
      "    precision      : 0.946764879776098\n",
      "    recall         : 0.9426129426129426\n",
      "    val_loss       : 0.8349756598472595\n",
      "    val_accuracy   : 0.7497014986824769\n",
      "    val_f1         : 0.7496796739992496\n",
      "    val_balanced_accuracy: 0.7290181766218935\n",
      "    val_precision  : 0.763019590131024\n",
      "    val_recall     : 0.7497014986824769\n"
     ]
    },
    {
     "name": "stdout",
     "output_type": "stream",
     "text": [
      "Model has not improved in -------------| 33 epochs\n"
     ]
    },
    {
     "name": "stderr",
     "output_type": "stream",
     "text": [
      "    epoch          : 69\n",
      "    loss           : 0.19377539118567666\n",
      "    accuracy       : 0.9418898809523809\n",
      "    f1             : 0.9421873712955803\n",
      "    balanced_accuracy: 0.9531497347597667\n",
      "    precision      : 0.9462041663740425\n",
      "    recall         : 0.9418898809523809\n",
      "    val_loss       : 0.8604495601220564\n",
      "    val_accuracy   : 0.7472867259552043\n",
      "    val_f1         : 0.7472731074719979\n",
      "    val_balanced_accuracy: 0.7240077004683172\n",
      "    val_precision  : 0.7618695913553879\n",
      "    val_recall     : 0.7472867259552043\n"
     ]
    },
    {
     "name": "stdout",
     "output_type": "stream",
     "text": [
      "Model has not improved in -------------| 34 epochs\n"
     ]
    },
    {
     "name": "stderr",
     "output_type": "stream",
     "text": [
      "    epoch          : 70\n",
      "    loss           : 0.19273091604312262\n",
      "    accuracy       : 0.9437271062271062\n",
      "    f1             : 0.9441128077027215\n",
      "    balanced_accuracy: 0.9548164109801114\n",
      "    precision      : 0.9481129390239764\n",
      "    recall         : 0.9437271062271062\n",
      "    val_loss       : 0.8295833988623186\n",
      "    val_accuracy   : 0.7450551712779973\n",
      "    val_f1         : 0.7456798500654337\n",
      "    val_balanced_accuracy: 0.734722373949429\n",
      "    val_precision  : 0.7603032064962042\n",
      "    val_recall     : 0.7450551712779973\n"
     ]
    },
    {
     "name": "stdout",
     "output_type": "stream",
     "text": [
      "Model has not improved in -------------| 35 epochs\n"
     ]
    },
    {
     "name": "stderr",
     "output_type": "stream",
     "text": [
      "    epoch          : 71\n",
      "    loss           : 0.19141658369147005\n",
      "    accuracy       : 0.9437709859584859\n",
      "    f1             : 0.9441314919751144\n",
      "    balanced_accuracy: 0.9549020657136107\n",
      "    precision      : 0.9480207011608554\n",
      "    recall         : 0.9437709859584859\n",
      "    val_loss       : 0.8556717872619629\n",
      "    val_accuracy   : 0.7445487483530961\n",
      "    val_f1         : 0.7456582447978226\n",
      "    val_balanced_accuracy: 0.7293814588125948\n",
      "    val_precision  : 0.7603517546348249\n",
      "    val_recall     : 0.7445487483530961\n"
     ]
    },
    {
     "name": "stdout",
     "output_type": "stream",
     "text": [
      "Model has not improved in -------------| 36 epochs\n"
     ]
    },
    {
     "name": "stderr",
     "output_type": "stream",
     "text": [
      "    epoch          : 72\n",
      "    loss           : 0.1894697559876902\n",
      "    accuracy       : 0.9448737026862026\n",
      "    f1             : 0.9451331092395387\n",
      "    balanced_accuracy: 0.9557009225885792\n",
      "    precision      : 0.9488286516767542\n",
      "    recall         : 0.9448737026862026\n",
      "    val_loss       : 0.8400836391882462\n",
      "    val_accuracy   : 0.7435935441370224\n",
      "    val_f1         : 0.7440496040473319\n",
      "    val_balanced_accuracy: 0.729346339534459\n",
      "    val_precision  : 0.7594326737445635\n",
      "    val_recall     : 0.7435935441370224\n"
     ]
    },
    {
     "name": "stdout",
     "output_type": "stream",
     "text": [
      "Model has not improved in -------------| 37 epochs\n"
     ]
    },
    {
     "name": "stderr",
     "output_type": "stream",
     "text": [
      "    epoch          : 73\n",
      "    loss           : 0.19141705346012872\n",
      "    accuracy       : 0.9441620879120879\n",
      "    f1             : 0.9445820131764721\n",
      "    balanced_accuracy: 0.9552126624492958\n",
      "    precision      : 0.9484790855544784\n",
      "    recall         : 0.9441620879120879\n",
      "    val_loss       : 0.8604330333796415\n",
      "    val_accuracy   : 0.7421936758893282\n",
      "    val_f1         : 0.7424276149902441\n",
      "    val_balanced_accuracy: 0.7263408656549675\n",
      "    val_precision  : 0.7572445406980479\n",
      "    val_recall     : 0.7421936758893282\n"
     ]
    },
    {
     "name": "stdout",
     "output_type": "stream",
     "text": [
      "Model has not improved in -------------| 38 epochs\n"
     ]
    },
    {
     "name": "stderr",
     "output_type": "stream",
     "text": [
      "    epoch          : 74\n",
      "    loss           : 0.18869913751498246\n",
      "    accuracy       : 0.9452838827838828\n",
      "    f1             : 0.9456236601865218\n",
      "    balanced_accuracy: 0.9558742432303701\n",
      "    precision      : 0.9493635552166957\n",
      "    recall         : 0.9452838827838828\n",
      "    val_loss       : 0.8544154394756663\n",
      "    val_accuracy   : 0.7501893939393939\n",
      "    val_f1         : 0.7505507028287032\n",
      "    val_balanced_accuracy: 0.7272540419686825\n",
      "    val_precision  : 0.7647940269752058\n",
      "    val_recall     : 0.7501893939393939\n"
     ]
    },
    {
     "name": "stdout",
     "output_type": "stream",
     "text": [
      "Model has not improved in -------------| 39 epochs\n"
     ]
    },
    {
     "name": "stderr",
     "output_type": "stream",
     "text": [
      "    epoch          : 75\n",
      "    loss           : 0.1887940709571262\n",
      "    accuracy       : 0.9458886599511599\n",
      "    f1             : 0.9463007459184554\n",
      "    balanced_accuracy: 0.9568289016607971\n",
      "    precision      : 0.9502999960612941\n",
      "    recall         : 0.9458886599511599\n",
      "    val_loss       : 0.8548078905452382\n",
      "    val_accuracy   : 0.74765110342556\n",
      "    val_f1         : 0.7475973940212222\n",
      "    val_balanced_accuracy: 0.7304343637958093\n",
      "    val_precision  : 0.7629709849015656\n",
      "    val_recall     : 0.74765110342556\n"
     ]
    },
    {
     "name": "stdout",
     "output_type": "stream",
     "text": [
      "Model has not improved in -------------| 40 epochs\n",
      "=> loading C:/Users/awoloshu/Documents/NephNet/saved/kfold_test_NOTESTDATA\\1216_141547\\model_best.pth\n",
      "Running forward pass on holdout set of size: 34908\n",
      "Complete: 99.7%\n",
      "Accuracy: 0.7434\n",
      "\n",
      "=======FOLD 2 / 4 ========\n",
      "GPUs available: 1\n",
      "Train size: 104711 104711\n",
      "Holdout size: 34906 34906\n",
      "Val size (subset of holdout): 6981 6981\n"
     ]
    },
    {
     "name": "stderr",
     "output_type": "stream",
     "text": [
      "C:\\Users\\awoloshu\\Documents\\pytorch36\\lib\\site-packages\\sklearn\\metrics\\classification.py:1437: UndefinedMetricWarning: F-score is ill-defined and being set to 0.0 in labels with no predicted samples.\n",
      "  'precision', 'predicted', average, warn_for)\n",
      "C:\\Users\\awoloshu\\Documents\\pytorch36\\lib\\site-packages\\sklearn\\metrics\\classification.py:1437: UndefinedMetricWarning: Precision is ill-defined and being set to 0.0 in labels with no predicted samples.\n",
      "  'precision', 'predicted', average, warn_for)\n",
      "C:\\Users\\awoloshu\\Documents\\pytorch36\\lib\\site-packages\\sklearn\\metrics\\classification.py:1439: UndefinedMetricWarning: F-score is ill-defined and being set to 0.0 in labels with no true samples.\n",
      "  'recall', 'true', average, warn_for)\n",
      "C:\\Users\\awoloshu\\Documents\\pytorch36\\lib\\site-packages\\sklearn\\metrics\\classification.py:1745: UserWarning: y_pred contains classes not in y_true\n",
      "  warnings.warn('y_pred contains classes not in y_true')\n",
      "C:\\Users\\awoloshu\\Documents\\pytorch36\\lib\\site-packages\\sklearn\\metrics\\classification.py:1439: UndefinedMetricWarning: Recall is ill-defined and being set to 0.0 in labels with no true samples.\n",
      "  'recall', 'true', average, warn_for)\n",
      "    epoch          : 1\n",
      "    loss           : 1.6086124471401266\n",
      "    accuracy       : 0.3831327402755974\n",
      "    f1             : 0.3791947854281131\n",
      "    balanced_accuracy: 0.38171111814156505\n",
      "    precision      : 0.4166558525553824\n",
      "    recall         : 0.3831327402755974\n",
      "    val_loss       : 1.8846999515186658\n",
      "    val_accuracy   : 0.30098608366271407\n",
      "    val_f1         : 0.29120707543720803\n",
      "    val_balanced_accuracy: 0.35750467690567694\n",
      "    val_precision  : 0.4445468918961304\n",
      "    val_recall     : 0.30098608366271407\n"
     ]
    },
    {
     "name": "stdout",
     "output_type": "stream",
     "text": [
      "Model best! ---------------------------| \n"
     ]
    },
    {
     "name": "stderr",
     "output_type": "stream",
     "text": [
      "Saving checkpoint: C:/Users/awoloshu/Documents/NephNet/saved/kfold_test_NOTESTDATA\\1216_193133\\checkpoint-epoch1.pth ...\n",
      "Saving current best: model_best.pth ...\n",
      "    epoch          : 2\n",
      "    loss           : 1.315150650575193\n",
      "    accuracy       : 0.5007072540554683\n",
      "    f1             : 0.49794237951776404\n",
      "    balanced_accuracy: 0.5007393700958069\n",
      "    precision      : 0.5278213213554774\n",
      "    recall         : 0.5007072540554683\n",
      "    val_loss       : 1.556719225103205\n",
      "    val_accuracy   : 0.4471508563899868\n",
      "    val_f1         : 0.4274736865624686\n",
      "    val_balanced_accuracy: 0.4053641276911362\n",
      "    val_precision  : 0.5139213583201232\n",
      "    val_recall     : 0.4471508563899868\n"
     ]
    },
    {
     "name": "stdout",
     "output_type": "stream",
     "text": [
      "Model best! ---------------------------| \n"
     ]
    },
    {
     "name": "stderr",
     "output_type": "stream",
     "text": [
      "Saving checkpoint: C:/Users/awoloshu/Documents/NephNet/saved/kfold_test_NOTESTDATA\\1216_193133\\checkpoint-epoch2.pth ...\n",
      "Saving current best: model_best.pth ...\n",
      "    epoch          : 3\n",
      "    loss           : 1.1863580148153108\n",
      "    accuracy       : 0.557194913221699\n",
      "    f1             : 0.5583614680662122\n",
      "    balanced_accuracy: 0.5620810210905135\n",
      "    precision      : 0.586328432760174\n",
      "    recall         : 0.557194913221699\n",
      "    val_loss       : 2.2910810470581056\n",
      "    val_accuracy   : 0.31233325098814224\n",
      "    val_f1         : 0.31477663699786435\n",
      "    val_balanced_accuracy: 0.32782163371204925\n",
      "    val_precision  : 0.5023806955490546\n",
      "    val_recall     : 0.31233325098814224\n"
     ]
    },
    {
     "name": "stdout",
     "output_type": "stream",
     "text": [
      "Model has not improved in -------------| 1 epochs\n"
     ]
    },
    {
     "name": "stderr",
     "output_type": "stream",
     "text": [
      "    epoch          : 4\n",
      "    loss           : 1.1247554821700259\n",
      "    accuracy       : 0.5841850361939648\n",
      "    f1             : 0.5866733982856227\n",
      "    balanced_accuracy: 0.5890315550267855\n",
      "    precision      : 0.6139594609785759\n",
      "    recall         : 0.5841850361939648\n",
      "    val_loss       : 1.91577298857949\n",
      "    val_accuracy   : 0.39465579710144927\n",
      "    val_f1         : 0.3907603758277758\n",
      "    val_balanced_accuracy: 0.39110918900078206\n",
      "    val_precision  : 0.556179778850054\n",
      "    val_recall     : 0.39465579710144927\n"
     ]
    },
    {
     "name": "stdout",
     "output_type": "stream",
     "text": [
      "Model has not improved in -------------| 2 epochs\n"
     ]
    },
    {
     "name": "stderr",
     "output_type": "stream",
     "text": [
      "    epoch          : 5\n",
      "    loss           : 1.0820836075496325\n",
      "    accuracy       : 0.6002815388976103\n",
      "    f1             : 0.6033659824040729\n",
      "    balanced_accuracy: 0.6070926724088102\n",
      "    precision      : 0.6309543336162041\n",
      "    recall         : 0.6002815388976103\n",
      "    val_loss       : 1.7944042270833795\n",
      "    val_accuracy   : 0.3183794466403162\n",
      "    val_f1         : 0.3207314112386147\n",
      "    val_balanced_accuracy: 0.3704763016880756\n",
      "    val_precision  : 0.5176320511190061\n",
      "    val_recall     : 0.3183794466403162\n"
     ]
    },
    {
     "name": "stdout",
     "output_type": "stream",
     "text": [
      "Model has not improved in -------------| 3 epochs\n"
     ]
    },
    {
     "name": "stderr",
     "output_type": "stream",
     "text": [
      "    epoch          : 6\n",
      "    loss           : 1.0610433458117483\n",
      "    accuracy       : 0.6112010509331938\n",
      "    f1             : 0.614424624383376\n",
      "    balanced_accuracy: 0.6182925568012668\n",
      "    precision      : 0.6416846925817153\n",
      "    recall         : 0.6112010509331938\n",
      "    val_loss       : 3.318138599395752\n",
      "    val_accuracy   : 0.22491559617918314\n",
      "    val_f1         : 0.18160739890063252\n",
      "    val_balanced_accuracy: 0.22188353869499816\n",
      "    val_precision  : 0.3219987234968115\n",
      "    val_recall     : 0.22491559617918314\n"
     ]
    },
    {
     "name": "stdout",
     "output_type": "stream",
     "text": [
      "Model has not improved in -------------| 4 epochs\n"
     ]
    },
    {
     "name": "stderr",
     "output_type": "stream",
     "text": [
      "    epoch          : 7\n",
      "    loss           : 1.05968740695271\n",
      "    accuracy       : 0.6123212105354963\n",
      "    f1             : 0.6160804100549324\n",
      "    balanced_accuracy: 0.6168934753434618\n",
      "    precision      : 0.6433590086999736\n",
      "    recall         : 0.6123212105354963\n",
      "    val_loss       : 1.561587457223372\n",
      "    val_accuracy   : 0.41563941040843216\n",
      "    val_f1         : 0.4116323859517118\n",
      "    val_balanced_accuracy: 0.44898992241350166\n",
      "    val_precision  : 0.5313228420215348\n",
      "    val_recall     : 0.41563941040843216\n"
     ]
    },
    {
     "name": "stdout",
     "output_type": "stream",
     "text": [
      "Model has not improved in -------------| 5 epochs\n"
     ]
    },
    {
     "name": "stderr",
     "output_type": "stream",
     "text": [
      "    epoch          : 8\n",
      "    loss           : 1.033573370713454\n",
      "    accuracy       : 0.6238593995290423\n",
      "    f1             : 0.6279855575188785\n",
      "    balanced_accuracy: 0.6289953976786831\n",
      "    precision      : 0.6556604035245948\n",
      "    recall         : 0.6238593995290423\n",
      "    val_loss       : 1.441971475427801\n",
      "    val_accuracy   : 0.5130167160737813\n",
      "    val_f1         : 0.49384857615775174\n",
      "    val_balanced_accuracy: 0.4939904249125781\n",
      "    val_precision  : 0.58256147006321\n",
      "    val_recall     : 0.5130167160737813\n"
     ]
    },
    {
     "name": "stdout",
     "output_type": "stream",
     "text": [
      "Model best! ---------------------------| \n"
     ]
    },
    {
     "name": "stderr",
     "output_type": "stream",
     "text": [
      "Saving checkpoint: C:/Users/awoloshu/Documents/NephNet/saved/kfold_test_NOTESTDATA\\1216_193133\\checkpoint-epoch8.pth ...\n",
      "Saving current best: model_best.pth ...\n",
      "    epoch          : 9\n",
      "    loss           : 1.0202069807984162\n",
      "    accuracy       : 0.6273575135182278\n",
      "    f1             : 0.6312746687491364\n",
      "    balanced_accuracy: 0.6331137686205083\n",
      "    precision      : 0.6592736041447068\n",
      "    recall         : 0.6273575135182278\n",
      "    val_loss       : 1.8683158180930397\n",
      "    val_accuracy   : 0.4079463109354413\n",
      "    val_f1         : 0.381695314509864\n",
      "    val_balanced_accuracy: 0.3807181885763513\n",
      "    val_precision  : 0.45369486914330426\n",
      "    val_recall     : 0.4079463109354413\n"
     ]
    },
    {
     "name": "stdout",
     "output_type": "stream",
     "text": [
      "Model has not improved in -------------| 1 epochs\n"
     ]
    },
    {
     "name": "stderr",
     "output_type": "stream",
     "text": [
      "    epoch          : 10\n",
      "    loss           : 1.0187703133793833\n",
      "    accuracy       : 0.6282514608407466\n",
      "    f1             : 0.6323352813217226\n",
      "    balanced_accuracy: 0.6339217259456875\n",
      "    precision      : 0.6606588758872609\n",
      "    recall         : 0.6282514608407466\n",
      "    val_loss       : 2.04902353069999\n",
      "    val_accuracy   : 0.3765542654808959\n",
      "    val_f1         : 0.3456813087740905\n",
      "    val_balanced_accuracy: 0.31863212532114416\n",
      "    val_precision  : 0.4519000481684715\n",
      "    val_recall     : 0.3765542654808959\n"
     ]
    },
    {
     "name": "stdout",
     "output_type": "stream",
     "text": [
      "Model has not improved in -------------| 2 epochs\n"
     ]
    },
    {
     "name": "stderr",
     "output_type": "stream",
     "text": [
      "    epoch          : 11\n",
      "    loss           : 1.0069670038927752\n",
      "    accuracy       : 0.6323300954997383\n",
      "    f1             : 0.6363931996316635\n",
      "    balanced_accuracy: 0.6394488379365916\n",
      "    precision      : 0.6646571427460429\n",
      "    recall         : 0.6323300954997383\n",
      "    val_loss       : 1.5074501861225476\n",
      "    val_accuracy   : 0.4698369565217391\n",
      "    val_f1         : 0.4482905776587905\n",
      "    val_balanced_accuracy: 0.4575931831646368\n",
      "    val_precision  : 0.5925315747682381\n",
      "    val_recall     : 0.4698369565217391\n"
     ]
    },
    {
     "name": "stdout",
     "output_type": "stream",
     "text": [
      "Model has not improved in -------------| 3 epochs\n"
     ]
    },
    {
     "name": "stderr",
     "output_type": "stream",
     "text": [
      "    epoch          : 12\n",
      "    loss           : 0.9966416796339591\n",
      "    accuracy       : 0.6362165859933717\n",
      "    f1             : 0.6398751400783516\n",
      "    balanced_accuracy: 0.6435632684058774\n",
      "    precision      : 0.6662188884126804\n",
      "    recall         : 0.6362165859933717\n",
      "    val_loss       : 3.7867248275063257\n",
      "    val_accuracy   : 0.20356760540184454\n",
      "    val_f1         : 0.12999624908876548\n",
      "    val_balanced_accuracy: 0.22482551662087244\n",
      "    val_precision  : 0.26073843922222684\n",
      "    val_recall     : 0.20356760540184454\n"
     ]
    },
    {
     "name": "stdout",
     "output_type": "stream",
     "text": [
      "Model has not improved in -------------| 4 epochs\n"
     ]
    },
    {
     "name": "stderr",
     "output_type": "stream",
     "text": [
      "    epoch          : 13\n",
      "    loss           : 0.9976582291362049\n",
      "    accuracy       : 0.6345813165009593\n",
      "    f1             : 0.6386178667128877\n",
      "    balanced_accuracy: 0.6418153014220346\n",
      "    precision      : 0.6663231567796368\n",
      "    recall         : 0.6345813165009593\n",
      "    val_loss       : 1.954705413905057\n",
      "    val_accuracy   : 0.3355875329380764\n",
      "    val_f1         : 0.3215753350235211\n",
      "    val_balanced_accuracy: 0.36579934128701785\n",
      "    val_precision  : 0.5081336342218353\n",
      "    val_recall     : 0.3355875329380764\n"
     ]
    },
    {
     "name": "stdout",
     "output_type": "stream",
     "text": [
      "Model has not improved in -------------| 5 epochs\n"
     ]
    },
    {
     "name": "stderr",
     "output_type": "stream",
     "text": [
      "    epoch          : 14\n",
      "    loss           : 0.9881473589729477\n",
      "    accuracy       : 0.6404805511948369\n",
      "    f1             : 0.6444697888893909\n",
      "    balanced_accuracy: 0.6475753839285311\n",
      "    precision      : 0.6718029362730275\n",
      "    recall         : 0.6404805511948369\n",
      "    val_loss       : 1.2119811870835044\n",
      "    val_accuracy   : 0.5771800889328064\n",
      "    val_f1         : 0.5694550357295166\n",
      "    val_balanced_accuracy: 0.5412734669335837\n",
      "    val_precision  : 0.6011097657766306\n",
      "    val_recall     : 0.5771800889328064\n"
     ]
    },
    {
     "name": "stdout",
     "output_type": "stream",
     "text": [
      "Model best! ---------------------------| \n"
     ]
    },
    {
     "name": "stderr",
     "output_type": "stream",
     "text": [
      "Saving checkpoint: C:/Users/awoloshu/Documents/NephNet/saved/kfold_test_NOTESTDATA\\1216_193133\\checkpoint-epoch14.pth ...\n",
      "Saving current best: model_best.pth ...\n",
      "    epoch          : 15\n",
      "    loss           : 0.9800282005716447\n",
      "    accuracy       : 0.6434472025989884\n",
      "    f1             : 0.647205575714065\n",
      "    balanced_accuracy: 0.6512182668652252\n",
      "    precision      : 0.6740836785615703\n",
      "    recall         : 0.6434472025989884\n",
      "    val_loss       : 2.1049699263139203\n",
      "    val_accuracy   : 0.3293560606060606\n",
      "    val_f1         : 0.2678782874320738\n",
      "    val_balanced_accuracy: 0.3277464080108889\n",
      "    val_precision  : 0.3233745851167846\n",
      "    val_recall     : 0.3293560606060606\n"
     ]
    },
    {
     "name": "stdout",
     "output_type": "stream",
     "text": [
      "Model has not improved in -------------| 1 epochs\n"
     ]
    },
    {
     "name": "stderr",
     "output_type": "stream",
     "text": [
      "    epoch          : 16\n",
      "    loss           : 0.9872540517895504\n",
      "    accuracy       : 0.6409506911739055\n",
      "    f1             : 0.6448305047867324\n",
      "    balanced_accuracy: 0.6461894956391534\n",
      "    precision      : 0.6714606158548697\n",
      "    recall         : 0.6409506911739055\n",
      "    val_loss       : 2.0910739465193315\n",
      "    val_accuracy   : 0.4378973155467721\n",
      "    val_f1         : 0.36774184384086456\n",
      "    val_balanced_accuracy: 0.3476521274754332\n",
      "    val_precision  : 0.43797731047377314\n",
      "    val_recall     : 0.4378973155467721\n"
     ]
    },
    {
     "name": "stdout",
     "output_type": "stream",
     "text": [
      "Model has not improved in -------------| 2 epochs\n"
     ]
    },
    {
     "name": "stderr",
     "output_type": "stream",
     "text": [
      "    epoch          : 17\n",
      "    loss           : 0.9830947358238536\n",
      "    accuracy       : 0.6419999890982033\n",
      "    f1             : 0.6462843566539278\n",
      "    balanced_accuracy: 0.6477188882238314\n",
      "    precision      : 0.6733660529204522\n",
      "    recall         : 0.6419999890982033\n",
      "    val_loss       : 3.655874607779763\n",
      "    val_accuracy   : 0.1862792325428195\n",
      "    val_f1         : 0.13218923452320938\n",
      "    val_balanced_accuracy: 0.19369452354657601\n",
      "    val_precision  : 0.3940106938590762\n",
      "    val_recall     : 0.1862792325428195\n"
     ]
    },
    {
     "name": "stdout",
     "output_type": "stream",
     "text": [
      "Model has not improved in -------------| 3 epochs\n"
     ]
    },
    {
     "name": "stderr",
     "output_type": "stream",
     "text": [
      "    epoch          : 18\n",
      "    loss           : 0.974138964663495\n",
      "    accuracy       : 0.6464520102912961\n",
      "    f1             : 0.6503550688188625\n",
      "    balanced_accuracy: 0.6521731440229114\n",
      "    precision      : 0.677235122009948\n",
      "    recall         : 0.6464520102912961\n",
      "    val_loss       : 2.6553347847678443\n",
      "    val_accuracy   : 0.25109107378129114\n",
      "    val_f1         : 0.241230807568017\n",
      "    val_balanced_accuracy: 0.2509613263269322\n",
      "    val_precision  : 0.4697289979001818\n",
      "    val_recall     : 0.25109107378129114\n"
     ]
    },
    {
     "name": "stdout",
     "output_type": "stream",
     "text": [
      "Model has not improved in -------------| 4 epochs\n"
     ]
    },
    {
     "name": "stderr",
     "output_type": "stream",
     "text": [
      "    epoch          : 19\n",
      "    loss           : 0.9735079606374105\n",
      "    accuracy       : 0.6462189843886272\n",
      "    f1             : 0.6500101285850882\n",
      "    balanced_accuracy: 0.6532034285696858\n",
      "    precision      : 0.6776251903660783\n",
      "    recall         : 0.6462189843886272\n",
      "    val_loss       : 2.1224240866574373\n",
      "    val_accuracy   : 0.3238142292490119\n",
      "    val_f1         : 0.28993641905161543\n",
      "    val_balanced_accuracy: 0.3846342218929602\n",
      "    val_precision  : 0.4907890038583773\n",
      "    val_recall     : 0.3238142292490119\n"
     ]
    },
    {
     "name": "stdout",
     "output_type": "stream",
     "text": [
      "Model has not improved in -------------| 5 epochs\n"
     ]
    },
    {
     "name": "stderr",
     "output_type": "stream",
     "text": [
      "    epoch          : 20\n",
      "    loss           : 0.9666841149475693\n",
      "    accuracy       : 0.6477970194488052\n",
      "    f1             : 0.651613516816056\n",
      "    balanced_accuracy: 0.6547829667497743\n",
      "    precision      : 0.6789862217840451\n",
      "    recall         : 0.6477970194488052\n",
      "    val_loss       : 3.227856935154308\n",
      "    val_accuracy   : 0.14999794137022396\n",
      "    val_f1         : 0.11096851323377015\n",
      "    val_balanced_accuracy: 0.13405193767733445\n",
      "    val_precision  : 0.130381908890502\n",
      "    val_recall     : 0.14999794137022396\n"
     ]
    },
    {
     "name": "stdout",
     "output_type": "stream",
     "text": [
      "Model has not improved in -------------| 6 epochs\n"
     ]
    },
    {
     "name": "stderr",
     "output_type": "stream",
     "text": [
      "    epoch          : 21\n",
      "    loss           : 0.9932035637134743\n",
      "    accuracy       : 0.6401207919065062\n",
      "    f1             : 0.644182914404668\n",
      "    balanced_accuracy: 0.6465353018733201\n",
      "    precision      : 0.6721340204596734\n",
      "    recall         : 0.6401207919065062\n",
      "    val_loss       : 2.777879437533292\n",
      "    val_accuracy   : 0.2793148880105402\n",
      "    val_f1         : 0.20739343873922883\n",
      "    val_balanced_accuracy: 0.22314799234398372\n",
      "    val_precision  : 0.30380340320914195\n",
      "    val_recall     : 0.2793148880105402\n"
     ]
    },
    {
     "name": "stdout",
     "output_type": "stream",
     "text": [
      "Model has not improved in -------------| 7 epochs\n"
     ]
    },
    {
     "name": "stderr",
     "output_type": "stream",
     "text": [
      "    epoch          : 22\n",
      "    loss           : 0.9716612133351001\n",
      "    accuracy       : 0.6480981815803244\n",
      "    f1             : 0.651927948516537\n",
      "    balanced_accuracy: 0.6544581017605431\n",
      "    precision      : 0.678302401551809\n",
      "    recall         : 0.6480981815803244\n",
      "    val_loss       : 1.478848392313177\n",
      "    val_accuracy   : 0.49309123847167324\n",
      "    val_f1         : 0.49310998664167655\n",
      "    val_balanced_accuracy: 0.4881861705349417\n",
      "    val_precision  : 0.5903399498282655\n",
      "    val_recall     : 0.49309123847167324\n"
     ]
    },
    {
     "name": "stdout",
     "output_type": "stream",
     "text": [
      "Model has not improved in -------------| 8 epochs\n"
     ]
    },
    {
     "name": "stderr",
     "output_type": "stream",
     "text": [
      "    epoch          : 23\n",
      "    loss           : 0.9671820112491556\n",
      "    accuracy       : 0.6477970194488052\n",
      "    f1             : 0.6515867608709801\n",
      "    balanced_accuracy: 0.656307836263519\n",
      "    precision      : 0.6792442100619079\n",
      "    recall         : 0.6477970194488052\n",
      "    val_loss       : 1.448424582047896\n",
      "    val_accuracy   : 0.48335186100131755\n",
      "    val_f1         : 0.44949972615267525\n",
      "    val_balanced_accuracy: 0.4955960942032292\n",
      "    val_precision  : 0.5822428728060784\n",
      "    val_recall     : 0.48335186100131755\n"
     ]
    },
    {
     "name": "stdout",
     "output_type": "stream",
     "text": [
      "Model has not improved in -------------| 9 epochs\n"
     ]
    },
    {
     "name": "stderr",
     "output_type": "stream",
     "text": [
      "    epoch          : 24\n",
      "    loss           : 0.8301102678417723\n",
      "    accuracy       : 0.7010236787022501\n",
      "    f1             : 0.704273652534764\n",
      "    balanced_accuracy: 0.7089827836407262\n",
      "    precision      : 0.7266052648544037\n",
      "    recall         : 0.7010236787022501\n",
      "    val_loss       : 1.1769765669649297\n",
      "    val_accuracy   : 0.539256011198946\n",
      "    val_f1         : 0.516825583503647\n",
      "    val_balanced_accuracy: 0.5769724016455687\n",
      "    val_precision  : 0.615727586800942\n",
      "    val_recall     : 0.539256011198946\n"
     ]
    },
    {
     "name": "stdout",
     "output_type": "stream",
     "text": [
      "Model best! ---------------------------| \n"
     ]
    },
    {
     "name": "stderr",
     "output_type": "stream",
     "text": [
      "Saving checkpoint: C:/Users/awoloshu/Documents/NephNet/saved/kfold_test_NOTESTDATA\\1216_193133\\checkpoint-epoch24.pth ...\n",
      "Saving current best: model_best.pth ...\n",
      "    epoch          : 25\n",
      "    loss           : 0.8061246207491091\n",
      "    accuracy       : 0.7099590637537065\n",
      "    f1             : 0.7130117153990179\n",
      "    balanced_accuracy: 0.7172001806710386\n",
      "    precision      : 0.7350216331568031\n",
      "    recall         : 0.7099590637537065\n",
      "    val_loss       : 0.9251056942072782\n",
      "    val_accuracy   : 0.6494997529644269\n",
      "    val_f1         : 0.6531041280125698\n",
      "    val_balanced_accuracy: 0.6455916621040148\n",
      "    val_precision  : 0.7114024891664438\n",
      "    val_recall     : 0.6494997529644269\n"
     ]
    },
    {
     "name": "stdout",
     "output_type": "stream",
     "text": [
      "Model best! ---------------------------| \n"
     ]
    },
    {
     "name": "stderr",
     "output_type": "stream",
     "text": [
      "Saving checkpoint: C:/Users/awoloshu/Documents/NephNet/saved/kfold_test_NOTESTDATA\\1216_193133\\checkpoint-epoch25.pth ...\n",
      "Saving current best: model_best.pth ...\n",
      "    epoch          : 26\n",
      "    loss           : 0.8000884149246309\n",
      "    accuracy       : 0.7105000654107797\n",
      "    f1             : 0.7136140469664617\n",
      "    balanced_accuracy: 0.7187190118030983\n",
      "    precision      : 0.7363789521407995\n",
      "    recall         : 0.7105000654107797\n",
      "    val_loss       : 1.0854164123535157\n",
      "    val_accuracy   : 0.5837738801054019\n",
      "    val_f1         : 0.5876312597102546\n",
      "    val_balanced_accuracy: 0.6000646325221314\n",
      "    val_precision  : 0.6493923749588498\n",
      "    val_recall     : 0.5837738801054019\n"
     ]
    },
    {
     "name": "stdout",
     "output_type": "stream",
     "text": [
      "Model has not improved in -------------| 1 epochs\n"
     ]
    },
    {
     "name": "stderr",
     "output_type": "stream",
     "text": [
      "    epoch          : 27\n",
      "    loss           : 0.8011662691504091\n",
      "    accuracy       : 0.7100639935461364\n",
      "    f1             : 0.7131769835932972\n",
      "    balanced_accuracy: 0.7176459436682227\n",
      "    precision      : 0.7360258148387406\n",
      "    recall         : 0.7100639935461364\n",
      "    val_loss       : 2.655209294232455\n",
      "    val_accuracy   : 0.31255558300395253\n",
      "    val_f1         : 0.3008548839707972\n",
      "    val_balanced_accuracy: 0.31466359403949595\n",
      "    val_precision  : 0.47690028414678115\n",
      "    val_recall     : 0.31255558300395253\n"
     ]
    },
    {
     "name": "stdout",
     "output_type": "stream",
     "text": [
      "Model has not improved in -------------| 2 epochs\n"
     ]
    },
    {
     "name": "stderr",
     "output_type": "stream",
     "text": [
      "    epoch          : 28\n",
      "    loss           : 0.8146609481292184\n",
      "    accuracy       : 0.7053012711494854\n",
      "    f1             : 0.7080560830461423\n",
      "    balanced_accuracy: 0.713842977033698\n",
      "    precision      : 0.7303711739962083\n",
      "    recall         : 0.7053012711494854\n",
      "    val_loss       : 1.2249086423353714\n",
      "    val_accuracy   : 0.588665184453228\n",
      "    val_f1         : 0.5828094849251217\n",
      "    val_balanced_accuracy: 0.5716118692635409\n",
      "    val_precision  : 0.6342768606372835\n",
      "    val_recall     : 0.588665184453228\n"
     ]
    },
    {
     "name": "stdout",
     "output_type": "stream",
     "text": [
      "Model has not improved in -------------| 3 epochs\n"
     ]
    },
    {
     "name": "stderr",
     "output_type": "stream",
     "text": [
      "    epoch          : 29\n",
      "    loss           : 0.7972265719202994\n",
      "    accuracy       : 0.7104864381650097\n",
      "    f1             : 0.7136085655926875\n",
      "    balanced_accuracy: 0.7178801830124674\n",
      "    precision      : 0.7357065943283849\n",
      "    recall         : 0.7104864381650097\n",
      "    val_loss       : 1.1444075790318575\n",
      "    val_accuracy   : 0.5561779479578393\n",
      "    val_f1         : 0.5512341223320738\n",
      "    val_balanced_accuracy: 0.583153008078222\n",
      "    val_precision  : 0.6496647734118527\n",
      "    val_recall     : 0.5561779479578393\n"
     ]
    },
    {
     "name": "stdout",
     "output_type": "stream",
     "text": [
      "Model has not improved in -------------| 4 epochs\n"
     ]
    },
    {
     "name": "stderr",
     "output_type": "stream",
     "text": [
      "    epoch          : 30\n",
      "    loss           : 0.790805531581534\n",
      "    accuracy       : 0.7144342512646085\n",
      "    f1             : 0.7177005966923172\n",
      "    balanced_accuracy: 0.7221488571460292\n",
      "    precision      : 0.7398057762158192\n",
      "    recall         : 0.7144342512646085\n",
      "    val_loss       : 3.1522462498057973\n",
      "    val_accuracy   : 0.22887022397891962\n",
      "    val_f1         : 0.19038416203025768\n",
      "    val_balanced_accuracy: 0.235789059879824\n",
      "    val_precision  : 0.43105280627558706\n",
      "    val_recall     : 0.22887022397891962\n"
     ]
    },
    {
     "name": "stdout",
     "output_type": "stream",
     "text": [
      "Model has not improved in -------------| 5 epochs\n"
     ]
    },
    {
     "name": "stderr",
     "output_type": "stream",
     "text": [
      "    epoch          : 31\n",
      "    loss           : 0.7928345187388642\n",
      "    accuracy       : 0.7131737310308738\n",
      "    f1             : 0.7163487934772135\n",
      "    balanced_accuracy: 0.72052705094573\n",
      "    precision      : 0.7386473328057035\n",
      "    recall         : 0.7131737310308738\n",
      "    val_loss       : 1.518530425158414\n",
      "    val_accuracy   : 0.47671689723320154\n",
      "    val_f1         : 0.45027591192333893\n",
      "    val_balanced_accuracy: 0.47932293391957354\n",
      "    val_precision  : 0.5718530189755197\n",
      "    val_recall     : 0.47671689723320154\n"
     ]
    },
    {
     "name": "stdout",
     "output_type": "stream",
     "text": [
      "Model has not improved in -------------| 6 epochs\n"
     ]
    },
    {
     "name": "stderr",
     "output_type": "stream",
     "text": [
      "    epoch          : 32\n",
      "    loss           : 0.7844879413262392\n",
      "    accuracy       : 0.7160259135705563\n",
      "    f1             : 0.7189086920498083\n",
      "    balanced_accuracy: 0.724531950068786\n",
      "    precision      : 0.7409242782146073\n",
      "    recall         : 0.7160259135705563\n",
      "    val_loss       : 1.9486549355766989\n",
      "    val_accuracy   : 0.4174036561264822\n",
      "    val_f1         : 0.4227649520798034\n",
      "    val_balanced_accuracy: 0.3827761984270508\n",
      "    val_precision  : 0.5840291386899236\n",
      "    val_recall     : 0.4174036561264822\n"
     ]
    },
    {
     "name": "stdout",
     "output_type": "stream",
     "text": [
      "Model has not improved in -------------| 7 epochs\n"
     ]
    },
    {
     "name": "stderr",
     "output_type": "stream",
     "text": [
      "    epoch          : 33\n",
      "    loss           : 0.7856817243300078\n",
      "    accuracy       : 0.714378379556951\n",
      "    f1             : 0.7172749594995832\n",
      "    balanced_accuracy: 0.7239002466815964\n",
      "    precision      : 0.7395095372776689\n",
      "    recall         : 0.714378379556951\n",
      "    val_loss       : 0.902449533072385\n",
      "    val_accuracy   : 0.6756175889328064\n",
      "    val_f1         : 0.6769388050065248\n",
      "    val_balanced_accuracy: 0.6702663087273794\n",
      "    val_precision  : 0.720410721438055\n",
      "    val_recall     : 0.6756175889328064\n"
     ]
    },
    {
     "name": "stdout",
     "output_type": "stream",
     "text": [
      "Model best! ---------------------------| \n"
     ]
    },
    {
     "name": "stderr",
     "output_type": "stream",
     "text": [
      "Saving checkpoint: C:/Users/awoloshu/Documents/NephNet/saved/kfold_test_NOTESTDATA\\1216_193133\\checkpoint-epoch33.pth ...\n",
      "Saving current best: model_best.pth ...\n",
      "    epoch          : 34\n",
      "    loss           : 0.7796390757455931\n",
      "    accuracy       : 0.717835611808826\n",
      "    f1             : 0.7210387712301949\n",
      "    balanced_accuracy: 0.7248842970009779\n",
      "    precision      : 0.7429882795448988\n",
      "    recall         : 0.717835611808826\n",
      "    val_loss       : 1.04604525457729\n",
      "    val_accuracy   : 0.6509202075098814\n",
      "    val_f1         : 0.65125872976003\n",
      "    val_balanced_accuracy: 0.6228590635917092\n",
      "    val_precision  : 0.6818497550739562\n",
      "    val_recall     : 0.6509202075098814\n"
     ]
    },
    {
     "name": "stdout",
     "output_type": "stream",
     "text": [
      "Model has not improved in -------------| 1 epochs\n"
     ]
    },
    {
     "name": "stderr",
     "output_type": "stream",
     "text": [
      "    epoch          : 35\n",
      "    loss           : 0.7743516345309396\n",
      "    accuracy       : 0.7213623430141287\n",
      "    f1             : 0.7241714502603329\n",
      "    balanced_accuracy: 0.7290870455018731\n",
      "    precision      : 0.7458505677462763\n",
      "    recall         : 0.7213623430141287\n",
      "    val_loss       : 2.5560560486533426\n",
      "    val_accuracy   : 0.24431200592885377\n",
      "    val_f1         : 0.22498660113325378\n",
      "    val_balanced_accuracy: 0.25961923232319006\n",
      "    val_precision  : 0.30027690126978446\n",
      "    val_recall     : 0.24431200592885377\n"
     ]
    },
    {
     "name": "stdout",
     "output_type": "stream",
     "text": [
      "Model has not improved in -------------| 2 epochs\n"
     ]
    },
    {
     "name": "stderr",
     "output_type": "stream",
     "text": [
      "    epoch          : 36\n",
      "    loss           : 0.8000133803912571\n",
      "    accuracy       : 0.7101920896563754\n",
      "    f1             : 0.7133851841357645\n",
      "    balanced_accuracy: 0.7185605557949685\n",
      "    precision      : 0.7367519578796218\n",
      "    recall         : 0.7101920896563754\n",
      "    val_loss       : 1.1241811091249638\n",
      "    val_accuracy   : 0.6132184617918314\n",
      "    val_f1         : 0.6094082453102995\n",
      "    val_balanced_accuracy: 0.593469918329975\n",
      "    val_precision  : 0.6759764700125037\n",
      "    val_recall     : 0.6132184617918314\n"
     ]
    },
    {
     "name": "stdout",
     "output_type": "stream",
     "text": [
      "Model has not improved in -------------| 3 epochs\n"
     ]
    },
    {
     "name": "stderr",
     "output_type": "stream",
     "text": [
      "    epoch          : 37\n",
      "    loss           : 0.7748748490516374\n",
      "    accuracy       : 0.7193414224664225\n",
      "    f1             : 0.7222153841896439\n",
      "    balanced_accuracy: 0.7274985963391903\n",
      "    precision      : 0.7440637427968819\n",
      "    recall         : 0.7193414224664225\n",
      "    val_loss       : 2.119819229299372\n",
      "    val_accuracy   : 0.4100975790513834\n",
      "    val_f1         : 0.3689250536263039\n",
      "    val_balanced_accuracy: 0.344528916629031\n",
      "    val_precision  : 0.4480095678997121\n",
      "    val_recall     : 0.4100975790513834\n"
     ]
    },
    {
     "name": "stdout",
     "output_type": "stream",
     "text": [
      "Model has not improved in -------------| 4 epochs\n"
     ]
    },
    {
     "name": "stderr",
     "output_type": "stream",
     "text": [
      "    epoch          : 38\n",
      "    loss           : 0.7812959141346998\n",
      "    accuracy       : 0.7187104809872668\n",
      "    f1             : 0.721593485456791\n",
      "    balanced_accuracy: 0.7273172481215064\n",
      "    precision      : 0.7438779995635348\n",
      "    recall         : 0.7187104809872668\n",
      "    val_loss       : 1.3971547603607177\n",
      "    val_accuracy   : 0.5506381752305666\n",
      "    val_f1         : 0.5737640844461886\n",
      "    val_balanced_accuracy: 0.5410597429234874\n",
      "    val_precision  : 0.6824978583073481\n",
      "    val_recall     : 0.5506381752305666\n"
     ]
    },
    {
     "name": "stdout",
     "output_type": "stream",
     "text": [
      "Model has not improved in -------------| 5 epochs\n"
     ]
    },
    {
     "name": "stderr",
     "output_type": "stream",
     "text": [
      "    epoch          : 39\n",
      "    loss           : 0.7641458125632615\n",
      "    accuracy       : 0.7248713587999303\n",
      "    f1             : 0.7277192170200156\n",
      "    balanced_accuracy: 0.7333977147445019\n",
      "    precision      : 0.7493457791075412\n",
      "    recall         : 0.7248713587999303\n",
      "    val_loss       : 1.3879595214670355\n",
      "    val_accuracy   : 0.49678442028985503\n",
      "    val_f1         : 0.4957471625443179\n",
      "    val_balanced_accuracy: 0.528742108093993\n",
      "    val_precision  : 0.6139535556274891\n",
      "    val_recall     : 0.49678442028985503\n"
     ]
    },
    {
     "name": "stdout",
     "output_type": "stream",
     "text": [
      "Model has not improved in -------------| 6 epochs\n"
     ]
    },
    {
     "name": "stderr",
     "output_type": "stream",
     "text": [
      "    epoch          : 40\n",
      "    loss           : 0.7660650346014235\n",
      "    accuracy       : 0.7228245464852607\n",
      "    f1             : 0.7255048033177395\n",
      "    balanced_accuracy: 0.7314423161409189\n",
      "    precision      : 0.7470177818340284\n",
      "    recall         : 0.7228245464852607\n",
      "    val_loss       : 1.7676390907981179\n",
      "    val_accuracy   : 0.4420578063241107\n",
      "    val_f1         : 0.4474960020464537\n",
      "    val_balanced_accuracy: 0.44488948743420265\n",
      "    val_precision  : 0.6493759777953989\n",
      "    val_recall     : 0.4420578063241107\n"
     ]
    },
    {
     "name": "stdout",
     "output_type": "stream",
     "text": [
      "Model has not improved in -------------| 7 epochs\n"
     ]
    },
    {
     "name": "stderr",
     "output_type": "stream",
     "text": [
      "    epoch          : 41\n",
      "    loss           : 0.766062606749226\n",
      "    accuracy       : 0.7227482339089482\n",
      "    f1             : 0.7258213851546769\n",
      "    balanced_accuracy: 0.7303186692059093\n",
      "    precision      : 0.747429343916867\n",
      "    recall         : 0.7227482339089482\n",
      "    val_loss       : 1.1906819202683188\n",
      "    val_accuracy   : 0.585153162055336\n",
      "    val_f1         : 0.5799356482788464\n",
      "    val_balanced_accuracy: 0.5896380258587005\n",
      "    val_precision  : 0.6399504663882242\n",
      "    val_recall     : 0.585153162055336\n"
     ]
    },
    {
     "name": "stdout",
     "output_type": "stream",
     "text": [
      "Model has not improved in -------------| 8 epochs\n"
     ]
    },
    {
     "name": "stderr",
     "output_type": "stream",
     "text": [
      "    epoch          : 42\n",
      "    loss           : 0.7627828240540147\n",
      "    accuracy       : 0.7261523199023199\n",
      "    f1             : 0.7287582591959314\n",
      "    balanced_accuracy: 0.7339474469665201\n",
      "    precision      : 0.7502655178994616\n",
      "    recall         : 0.7261523199023199\n",
      "    val_loss       : 1.769187697497281\n",
      "    val_accuracy   : 0.47472620223978923\n",
      "    val_f1         : 0.43469814141346397\n",
      "    val_balanced_accuracy: 0.4419339374028912\n",
      "    val_precision  : 0.5472356520014174\n",
      "    val_recall     : 0.47472620223978923\n"
     ]
    },
    {
     "name": "stdout",
     "output_type": "stream",
     "text": [
      "Model has not improved in -------------| 9 epochs\n"
     ]
    },
    {
     "name": "stderr",
     "output_type": "stream",
     "text": [
      "    epoch          : 43\n",
      "    loss           : 0.6534867618910705\n",
      "    accuracy       : 0.7652924952032095\n",
      "    f1             : 0.7676543651170362\n",
      "    balanced_accuracy: 0.7742445311422672\n",
      "    precision      : 0.7858714744447679\n",
      "    recall         : 0.7652924952032095\n",
      "    val_loss       : 0.8732199029488997\n",
      "    val_accuracy   : 0.6795516304347826\n",
      "    val_f1         : 0.6850874224419109\n",
      "    val_balanced_accuracy: 0.6808431613036082\n",
      "    val_precision  : 0.7169721792946323\n",
      "    val_recall     : 0.6795516304347826\n"
     ]
    },
    {
     "name": "stdout",
     "output_type": "stream",
     "text": [
      "Model best! ---------------------------| \n"
     ]
    },
    {
     "name": "stderr",
     "output_type": "stream",
     "text": [
      "Saving checkpoint: C:/Users/awoloshu/Documents/NephNet/saved/kfold_test_NOTESTDATA\\1216_193133\\checkpoint-epoch43.pth ...\n",
      "Saving current best: model_best.pth ...\n",
      "    epoch          : 44\n",
      "    loss           : 0.6261501254397871\n",
      "    accuracy       : 0.7742524092970521\n",
      "    f1             : 0.7764265993892483\n",
      "    balanced_accuracy: 0.7836244069649183\n",
      "    precision      : 0.7937192820860586\n",
      "    recall         : 0.7742524092970521\n",
      "    val_loss       : 0.7973742940209129\n",
      "    val_accuracy   : 0.723626893939394\n",
      "    val_f1         : 0.722736590490015\n",
      "    val_balanced_accuracy: 0.7073133887500497\n",
      "    val_precision  : 0.7375606724948179\n",
      "    val_recall     : 0.723626893939394\n"
     ]
    },
    {
     "name": "stdout",
     "output_type": "stream",
     "text": [
      "Model best! ---------------------------| \n"
     ]
    },
    {
     "name": "stderr",
     "output_type": "stream",
     "text": [
      "Saving checkpoint: C:/Users/awoloshu/Documents/NephNet/saved/kfold_test_NOTESTDATA\\1216_193133\\checkpoint-epoch44.pth ...\n",
      "Saving current best: model_best.pth ...\n",
      "    epoch          : 45\n",
      "    loss           : 0.6036663049233848\n",
      "    accuracy       : 0.7841008198151056\n",
      "    f1             : 0.7861608029743661\n",
      "    balanced_accuracy: 0.7929327276604169\n",
      "    precision      : 0.8028881052571724\n",
      "    recall         : 0.7841008198151056\n",
      "    val_loss       : 0.9242618398232894\n",
      "    val_accuracy   : 0.6659955533596839\n",
      "    val_f1         : 0.6651564283811175\n",
      "    val_balanced_accuracy: 0.6666929612776598\n",
      "    val_precision  : 0.710675147022713\n",
      "    val_recall     : 0.6659955533596839\n"
     ]
    },
    {
     "name": "stdout",
     "output_type": "stream",
     "text": [
      "Model has not improved in -------------| 1 epochs\n"
     ]
    },
    {
     "name": "stderr",
     "output_type": "stream",
     "text": [
      "    epoch          : 46\n",
      "    loss           : 0.5972850596730089\n",
      "    accuracy       : 0.7846213806035234\n",
      "    f1             : 0.7865719703050962\n",
      "    balanced_accuracy: 0.794756925833519\n",
      "    precision      : 0.8030132749713903\n",
      "    recall         : 0.7846213806035234\n",
      "    val_loss       : 1.8381607272408225\n",
      "    val_accuracy   : 0.46281702898550725\n",
      "    val_f1         : 0.45098077683927934\n",
      "    val_balanced_accuracy: 0.46554747224906295\n",
      "    val_precision  : 0.5370070329797257\n",
      "    val_recall     : 0.46281702898550725\n"
     ]
    },
    {
     "name": "stdout",
     "output_type": "stream",
     "text": [
      "Model has not improved in -------------| 2 epochs\n"
     ]
    },
    {
     "name": "stderr",
     "output_type": "stream",
     "text": [
      "    epoch          : 47\n",
      "    loss           : 0.603844019555929\n",
      "    accuracy       : 0.7827067525728241\n",
      "    f1             : 0.7847178400539224\n",
      "    balanced_accuracy: 0.792642326892118\n",
      "    precision      : 0.8018477446717641\n",
      "    recall         : 0.7827067525728241\n",
      "    val_loss       : 0.7956274368546226\n",
      "    val_accuracy   : 0.7226119894598155\n",
      "    val_f1         : 0.7238008109332998\n",
      "    val_balanced_accuracy: 0.7126055895177474\n",
      "    val_precision  : 0.7472421657543292\n",
      "    val_recall     : 0.7226119894598155\n"
     ]
    },
    {
     "name": "stdout",
     "output_type": "stream",
     "text": [
      "Model best! ---------------------------| \n"
     ]
    },
    {
     "name": "stderr",
     "output_type": "stream",
     "text": [
      "Saving checkpoint: C:/Users/awoloshu/Documents/NephNet/saved/kfold_test_NOTESTDATA\\1216_193133\\checkpoint-epoch47.pth ...\n",
      "Saving current best: model_best.pth ...\n",
      "    epoch          : 48\n",
      "    loss           : 0.5816641123158008\n",
      "    accuracy       : 0.7906187314669457\n",
      "    f1             : 0.7924160950189953\n",
      "    balanced_accuracy: 0.8006577064922856\n",
      "    precision      : 0.8090250550764848\n",
      "    recall         : 0.7906187314669457\n",
      "    val_loss       : 1.0424820574847136\n",
      "    val_accuracy   : 0.6504137845849802\n",
      "    val_f1         : 0.6481721909143456\n",
      "    val_balanced_accuracy: 0.6280777676024405\n",
      "    val_precision  : 0.6872121639804113\n",
      "    val_recall     : 0.6504137845849802\n"
     ]
    },
    {
     "name": "stdout",
     "output_type": "stream",
     "text": [
      "Model has not improved in -------------| 1 epochs\n"
     ]
    },
    {
     "name": "stderr",
     "output_type": "stream",
     "text": [
      "    epoch          : 49\n",
      "    loss           : 0.5800356318371346\n",
      "    accuracy       : 0.7925170068027211\n",
      "    f1             : 0.7944009566641773\n",
      "    balanced_accuracy: 0.8032585092259336\n",
      "    precision      : 0.8105256299354843\n",
      "    recall         : 0.7925170068027211\n",
      "    val_loss       : 0.9347219434651461\n",
      "    val_accuracy   : 0.6616539031620554\n",
      "    val_f1         : 0.6648462039826644\n",
      "    val_balanced_accuracy: 0.667386771148921\n",
      "    val_precision  : 0.6980089062363507\n",
      "    val_recall     : 0.6616539031620554\n"
     ]
    },
    {
     "name": "stdout",
     "output_type": "stream",
     "text": [
      "Model has not improved in -------------| 2 epochs\n"
     ]
    },
    {
     "name": "stderr",
     "output_type": "stream",
     "text": [
      "    epoch          : 50\n",
      "    loss           : 0.5754297249410324\n",
      "    accuracy       : 0.7927200527646956\n",
      "    f1             : 0.794614723547507\n",
      "    balanced_accuracy: 0.804135996413584\n",
      "    precision      : 0.8109736518110817\n",
      "    recall         : 0.7927200527646956\n",
      "    val_loss       : 0.9768906181508844\n",
      "    val_accuracy   : 0.6706439393939394\n",
      "    val_f1         : 0.6737245704348155\n",
      "    val_balanced_accuracy: 0.6559758941401928\n",
      "    val_precision  : 0.7168774102270845\n",
      "    val_recall     : 0.6706439393939394\n"
     ]
    },
    {
     "name": "stdout",
     "output_type": "stream",
     "text": [
      "Model has not improved in -------------| 3 epochs\n"
     ]
    },
    {
     "name": "stderr",
     "output_type": "stream",
     "text": [
      "    epoch          : 51\n",
      "    loss           : 0.5681841328685537\n",
      "    accuracy       : 0.7951361634397349\n",
      "    f1             : 0.7969499749364053\n",
      "    balanced_accuracy: 0.8052405810946053\n",
      "    precision      : 0.8126384505913925\n",
      "    recall         : 0.7951361634397349\n",
      "    val_loss       : 1.0242324980822477\n",
      "    val_accuracy   : 0.6604969532279316\n",
      "    val_f1         : 0.6560821857787817\n",
      "    val_balanced_accuracy: 0.6490393164047482\n",
      "    val_precision  : 0.698875715661985\n",
      "    val_recall     : 0.6604969532279316\n"
     ]
    },
    {
     "name": "stdout",
     "output_type": "stream",
     "text": [
      "Model has not improved in -------------| 4 epochs\n"
     ]
    },
    {
     "name": "stderr",
     "output_type": "stream",
     "text": [
      "    epoch          : 52\n",
      "    loss           : 0.5638007738505819\n",
      "    accuracy       : 0.7957725558171986\n",
      "    f1             : 0.7974269197509691\n",
      "    balanced_accuracy: 0.8073673630408218\n",
      "    precision      : 0.8132873973331164\n",
      "    recall         : 0.7957725558171986\n",
      "    val_loss       : 0.9038829337466847\n",
      "    val_accuracy   : 0.7054450757575758\n",
      "    val_f1         : 0.6992512662520868\n",
      "    val_balanced_accuracy: 0.6826232005083874\n",
      "    val_precision  : 0.7273983959413881\n",
      "    val_recall     : 0.7054450757575758\n"
     ]
    },
    {
     "name": "stdout",
     "output_type": "stream",
     "text": [
      "Model has not improved in -------------| 5 epochs\n"
     ]
    },
    {
     "name": "stderr",
     "output_type": "stream",
     "text": [
      "    epoch          : 53\n",
      "    loss           : 0.5605813819046277\n",
      "    accuracy       : 0.7972456610849468\n",
      "    f1             : 0.7989945080956189\n",
      "    balanced_accuracy: 0.8089779696591687\n",
      "    precision      : 0.8145436533528869\n",
      "    recall         : 0.7972456610849468\n",
      "    val_loss       : 1.3917554746974599\n",
      "    val_accuracy   : 0.5290678524374177\n",
      "    val_f1         : 0.5090103943680636\n",
      "    val_balanced_accuracy: 0.5576643270692221\n",
      "    val_precision  : 0.6439197788737224\n",
      "    val_recall     : 0.5290678524374177\n"
     ]
    },
    {
     "name": "stdout",
     "output_type": "stream",
     "text": [
      "Model has not improved in -------------| 6 epochs\n"
     ]
    },
    {
     "name": "stderr",
     "output_type": "stream",
     "text": [
      "    epoch          : 54\n",
      "    loss           : 0.5614967571437286\n",
      "    accuracy       : 0.7968518336821909\n",
      "    f1             : 0.7988502149905539\n",
      "    balanced_accuracy: 0.8088639025561205\n",
      "    precision      : 0.815406696772714\n",
      "    recall         : 0.7968518336821909\n",
      "    val_loss       : 1.1454885764555498\n",
      "    val_accuracy   : 0.5874258893280632\n",
      "    val_f1         : 0.574260753657238\n",
      "    val_balanced_accuracy: 0.6122506240574813\n",
      "    val_precision  : 0.6893853489816348\n",
      "    val_recall     : 0.5874258893280632\n"
     ]
    },
    {
     "name": "stdout",
     "output_type": "stream",
     "text": [
      "Model has not improved in -------------| 7 epochs\n"
     ]
    },
    {
     "name": "stderr",
     "output_type": "stream",
     "text": [
      "    epoch          : 55\n",
      "    loss           : 0.5581338776045812\n",
      "    accuracy       : 0.797546823216466\n",
      "    f1             : 0.7993496971251145\n",
      "    balanced_accuracy: 0.8091168838739934\n",
      "    precision      : 0.8149887841652396\n",
      "    recall         : 0.797546823216466\n",
      "    val_loss       : 2.4794413089752196\n",
      "    val_accuracy   : 0.33306982872200264\n",
      "    val_f1         : 0.31458628898930496\n",
      "    val_balanced_accuracy: 0.33052172848898825\n",
      "    val_precision  : 0.49177412564478085\n",
      "    val_recall     : 0.33306982872200264\n"
     ]
    },
    {
     "name": "stdout",
     "output_type": "stream",
     "text": [
      "Model has not improved in -------------| 8 epochs\n"
     ]
    },
    {
     "name": "stderr",
     "output_type": "stream",
     "text": [
      "    epoch          : 56\n",
      "    loss           : 0.5595359728740976\n",
      "    accuracy       : 0.7983126744287459\n",
      "    f1             : 0.7999920591088762\n",
      "    balanced_accuracy: 0.810406829286413\n",
      "    precision      : 0.8156797537887902\n",
      "    recall         : 0.7983126744287459\n",
      "    val_loss       : 0.8964025714180687\n",
      "    val_accuracy   : 0.6649806488801054\n",
      "    val_f1         : 0.6682035206582243\n",
      "    val_balanced_accuracy: 0.6820731885510204\n",
      "    val_precision  : 0.7193192246205451\n",
      "    val_recall     : 0.6649806488801054\n"
     ]
    },
    {
     "name": "stdout",
     "output_type": "stream",
     "text": [
      "Model has not improved in -------------| 9 epochs\n"
     ]
    },
    {
     "name": "stderr",
     "output_type": "stream",
     "text": [
      "    epoch          : 57\n",
      "    loss           : 0.45952145615194595\n",
      "    accuracy       : 0.8363585818942961\n",
      "    f1             : 0.8375373655795829\n",
      "    balanced_accuracy: 0.850034354044941\n",
      "    precision      : 0.8499284363471878\n",
      "    recall         : 0.8363585818942961\n",
      "    val_loss       : 0.7606985639442098\n",
      "    val_accuracy   : 0.737504117259552\n",
      "    val_f1         : 0.7380582305107048\n",
      "    val_balanced_accuracy: 0.7316394498978421\n",
      "    val_precision  : 0.757282207409964\n",
      "    val_recall     : 0.737504117259552\n"
     ]
    },
    {
     "name": "stdout",
     "output_type": "stream",
     "text": [
      "Model best! ---------------------------| \n"
     ]
    },
    {
     "name": "stderr",
     "output_type": "stream",
     "text": [
      "Saving checkpoint: C:/Users/awoloshu/Documents/NephNet/saved/kfold_test_NOTESTDATA\\1216_193133\\checkpoint-epoch57.pth ...\n",
      "Saving current best: model_best.pth ...\n",
      "    epoch          : 58\n",
      "    loss           : 0.42029435186668485\n",
      "    accuracy       : 0.8509683520844236\n",
      "    f1             : 0.851984861727296\n",
      "    balanced_accuracy: 0.8648683147659045\n",
      "    precision      : 0.8631859951795099\n",
      "    recall         : 0.8509683520844236\n",
      "    val_loss       : 0.8026059345765547\n",
      "    val_accuracy   : 0.728619071146245\n",
      "    val_f1         : 0.7301809584191653\n",
      "    val_balanced_accuracy: 0.712970690458288\n",
      "    val_precision  : 0.7500710075385464\n",
      "    val_recall     : 0.728619071146245\n"
     ]
    },
    {
     "name": "stdout",
     "output_type": "stream",
     "text": [
      "Model has not improved in -------------| 1 epochs\n"
     ]
    },
    {
     "name": "stderr",
     "output_type": "stream",
     "text": [
      "    epoch          : 59\n",
      "    loss           : 0.3962154100775282\n",
      "    accuracy       : 0.8603289072039072\n",
      "    f1             : 0.8611067537980338\n",
      "    balanced_accuracy: 0.8737955706262368\n",
      "    precision      : 0.8708322069580006\n",
      "    recall         : 0.8603289072039072\n",
      "    val_loss       : 0.7903105920011347\n",
      "    val_accuracy   : 0.7420310441370225\n",
      "    val_f1         : 0.7427054792575789\n",
      "    val_balanced_accuracy: 0.7210844350680151\n",
      "    val_precision  : 0.7572744115509419\n",
      "    val_recall     : 0.7420310441370225\n"
     ]
    },
    {
     "name": "stdout",
     "output_type": "stream",
     "text": [
      "Model has not improved in -------------| 2 epochs\n"
     ]
    },
    {
     "name": "stderr",
     "output_type": "stream",
     "text": [
      "    epoch          : 60\n",
      "    loss           : 0.38403488788412604\n",
      "    accuracy       : 0.863084336298622\n",
      "    f1             : 0.8639776368171646\n",
      "    balanced_accuracy: 0.8781542493128427\n",
      "    precision      : 0.8743117066162137\n",
      "    recall         : 0.863084336298622\n",
      "    val_loss       : 0.8497751761566509\n",
      "    val_accuracy   : 0.7111660079051384\n",
      "    val_f1         : 0.709609242255878\n",
      "    val_balanced_accuracy: 0.711468158316504\n",
      "    val_precision  : 0.7366943447304724\n",
      "    val_recall     : 0.7111660079051384\n"
     ]
    },
    {
     "name": "stdout",
     "output_type": "stream",
     "text": [
      "Model has not improved in -------------| 3 epochs\n"
     ]
    },
    {
     "name": "stderr",
     "output_type": "stream",
     "text": [
      "    epoch          : 61\n",
      "    loss           : 0.3791019545369969\n",
      "    accuracy       : 0.8663875806732949\n",
      "    f1             : 0.8672940648332984\n",
      "    balanced_accuracy: 0.8814027749696312\n",
      "    precision      : 0.8770648925913742\n",
      "    recall         : 0.8663875806732949\n",
      "    val_loss       : 0.8847130406986583\n",
      "    val_accuracy   : 0.7026021080368906\n",
      "    val_f1         : 0.7056588108041061\n",
      "    val_balanced_accuracy: 0.6963537074052598\n",
      "    val_precision  : 0.7395108190312008\n",
      "    val_recall     : 0.7026021080368906\n"
     ]
    },
    {
     "name": "stdout",
     "output_type": "stream",
     "text": [
      "Model has not improved in -------------| 4 epochs\n"
     ]
    },
    {
     "name": "stderr",
     "output_type": "stream",
     "text": [
      "    epoch          : 62\n",
      "    loss           : 0.3611161806717315\n",
      "    accuracy       : 0.8723740297401013\n",
      "    f1             : 0.8731562811484969\n",
      "    balanced_accuracy: 0.8875224336084558\n",
      "    precision      : 0.8826448343426486\n",
      "    recall         : 0.8723740297401013\n",
      "    val_loss       : 0.7926886764439669\n",
      "    val_accuracy   : 0.7414216897233201\n",
      "    val_f1         : 0.7419266689403505\n",
      "    val_balanced_accuracy: 0.7257484091935269\n",
      "    val_precision  : 0.7605825507460541\n",
      "    val_recall     : 0.7414216897233201\n"
     ]
    },
    {
     "name": "stdout",
     "output_type": "stream",
     "text": [
      "Model has not improved in -------------| 5 epochs\n"
     ]
    },
    {
     "name": "stderr",
     "output_type": "stream",
     "text": [
      "    epoch          : 63\n",
      "    loss           : 0.3465222316783863\n",
      "    accuracy       : 0.8779516614338042\n",
      "    f1             : 0.8788289880706237\n",
      "    balanced_accuracy: 0.8927315542219737\n",
      "    precision      : 0.887884194674726\n",
      "    recall         : 0.8779516614338042\n",
      "    val_loss       : 0.8258009520444003\n",
      "    val_accuracy   : 0.7288619894598155\n",
      "    val_f1         : 0.7311272748358559\n",
      "    val_balanced_accuracy: 0.726928895657948\n",
      "    val_precision  : 0.7530367376262538\n",
      "    val_recall     : 0.7288619894598155\n"
     ]
    },
    {
     "name": "stdout",
     "output_type": "stream",
     "text": [
      "Model has not improved in -------------| 6 epochs\n"
     ]
    },
    {
     "name": "stderr",
     "output_type": "stream",
     "text": [
      "    epoch          : 64\n",
      "    loss           : 0.33355194406631666\n",
      "    accuracy       : 0.881496108058608\n",
      "    f1             : 0.8821562414016857\n",
      "    balanced_accuracy: 0.8963183968119558\n",
      "    precision      : 0.8907407358731068\n",
      "    recall         : 0.881496108058608\n",
      "    val_loss       : 0.8171742742711847\n",
      "    val_accuracy   : 0.7220046936758894\n",
      "    val_f1         : 0.7250230590721284\n",
      "    val_balanced_accuracy: 0.7240117311018942\n",
      "    val_precision  : 0.7479118202164111\n",
      "    val_recall     : 0.7220046936758894\n"
     ]
    },
    {
     "name": "stdout",
     "output_type": "stream",
     "text": [
      "Model has not improved in -------------| 7 epochs\n"
     ]
    },
    {
     "name": "stderr",
     "output_type": "stream",
     "text": [
      "    epoch          : 65\n",
      "    loss           : 0.322058384362449\n",
      "    accuracy       : 0.8858840811965812\n",
      "    f1             : 0.8864497528837354\n",
      "    balanced_accuracy: 0.9008199446007326\n",
      "    precision      : 0.894996486425147\n",
      "    recall         : 0.8858840811965812\n",
      "    val_loss       : 0.8283954154361378\n",
      "    val_accuracy   : 0.7305253623188406\n",
      "    val_f1         : 0.7300324246273429\n",
      "    val_balanced_accuracy: 0.7143380699535075\n",
      "    val_precision  : 0.7476428237107313\n",
      "    val_recall     : 0.7305253623188406\n"
     ]
    },
    {
     "name": "stdout",
     "output_type": "stream",
     "text": [
      "Model has not improved in -------------| 8 epochs\n"
     ]
    },
    {
     "name": "stderr",
     "output_type": "stream",
     "text": [
      "    epoch          : 66\n",
      "    loss           : 0.3168645534068528\n",
      "    accuracy       : 0.8880603523460666\n",
      "    f1             : 0.8887116184663938\n",
      "    balanced_accuracy: 0.902882140551\n",
      "    precision      : 0.8969916269480582\n",
      "    recall         : 0.8880603523460666\n",
      "    val_loss       : 0.9528053998947144\n",
      "    val_accuracy   : 0.6955410079051384\n",
      "    val_f1         : 0.6911867191636808\n",
      "    val_balanced_accuracy: 0.6932323966369295\n",
      "    val_precision  : 0.7263440531504085\n",
      "    val_recall     : 0.6955410079051384\n"
     ]
    },
    {
     "name": "stdout",
     "output_type": "stream",
     "text": [
      "Model has not improved in -------------| 9 epochs\n"
     ]
    },
    {
     "name": "stderr",
     "output_type": "stream",
     "text": [
      "    epoch          : 67\n",
      "    loss           : 0.27241730014992577\n",
      "    accuracy       : 0.9074369331065759\n",
      "    f1             : 0.9080041446637268\n",
      "    balanced_accuracy: 0.9215435642328428\n",
      "    precision      : 0.9146897438738316\n",
      "    recall         : 0.9074369331065759\n",
      "    val_loss       : 0.8126643375916914\n",
      "    val_accuracy   : 0.7422327898550725\n",
      "    val_f1         : 0.7426129856609618\n",
      "    val_balanced_accuracy: 0.724943180346265\n",
      "    val_precision  : 0.7552890270722593\n",
      "    val_recall     : 0.7422327898550725\n"
     ]
    },
    {
     "name": "stdout",
     "output_type": "stream",
     "text": [
      "Model has not improved in -------------| 10 epochs\n"
     ]
    },
    {
     "name": "stderr",
     "output_type": "stream",
     "text": [
      "    epoch          : 68\n",
      "    loss           : 0.24827004468775785\n",
      "    accuracy       : 0.9174366060526775\n",
      "    f1             : 0.9179597591015879\n",
      "    balanced_accuracy: 0.9300350780889319\n",
      "    precision      : 0.9238400975011296\n",
      "    recall         : 0.9174366060526775\n",
      "    val_loss       : 0.8186477682807228\n",
      "    val_accuracy   : 0.7380722990777339\n",
      "    val_f1         : 0.7381206391046681\n",
      "    val_balanced_accuracy: 0.7221876310900739\n",
      "    val_precision  : 0.7517807616439018\n",
      "    val_recall     : 0.7380722990777339\n"
     ]
    },
    {
     "name": "stdout",
     "output_type": "stream",
     "text": [
      "Model has not improved in -------------| 11 epochs\n"
     ]
    },
    {
     "name": "stderr",
     "output_type": "stream",
     "text": [
      "    epoch          : 69\n",
      "    loss           : 0.23267654585168765\n",
      "    accuracy       : 0.9238754796790511\n",
      "    f1             : 0.9244135838036445\n",
      "    balanced_accuracy: 0.9359185589481195\n",
      "    precision      : 0.9300403020340393\n",
      "    recall         : 0.9238754796790511\n",
      "    val_loss       : 0.8263212182305076\n",
      "    val_accuracy   : 0.7470232213438736\n",
      "    val_f1         : 0.7472064425785776\n",
      "    val_balanced_accuracy: 0.7276433467193874\n",
      "    val_precision  : 0.7605467127195787\n",
      "    val_recall     : 0.7470232213438736\n"
     ]
    },
    {
     "name": "stdout",
     "output_type": "stream",
     "text": [
      "Model has not improved in -------------| 12 epochs\n"
     ]
    },
    {
     "name": "stderr",
     "output_type": "stream",
     "text": [
      "    epoch          : 70\n",
      "    loss           : 0.22422920637769722\n",
      "    accuracy       : 0.9275861787022501\n",
      "    f1             : 0.9280961622663465\n",
      "    balanced_accuracy: 0.9395611350533384\n",
      "    precision      : 0.9332020869944222\n",
      "    recall         : 0.9275861787022501\n",
      "    val_loss       : 0.8400970117612319\n",
      "    val_accuracy   : 0.7449707674571805\n",
      "    val_f1         : 0.7447713523919061\n",
      "    val_balanced_accuracy: 0.7300861295967934\n",
      "    val_precision  : 0.7592564755935787\n",
      "    val_recall     : 0.7449707674571805\n"
     ]
    },
    {
     "name": "stdout",
     "output_type": "stream",
     "text": [
      "Model has not improved in -------------| 13 epochs\n"
     ]
    },
    {
     "name": "stderr",
     "output_type": "stream",
     "text": [
      "    epoch          : 71\n",
      "    loss           : 0.2171820582906114\n",
      "    accuracy       : 0.9303824895342753\n",
      "    f1             : 0.9309340166074056\n",
      "    balanced_accuracy: 0.942527358302445\n",
      "    precision      : 0.936274089710909\n",
      "    recall         : 0.9303824895342753\n",
      "    val_loss       : 0.8804086295041171\n",
      "    val_accuracy   : 0.7326354578392622\n",
      "    val_f1         : 0.7320304933496846\n",
      "    val_balanced_accuracy: 0.7073190283174313\n",
      "    val_precision  : 0.7465588821989094\n",
      "    val_recall     : 0.7326354578392622\n"
     ]
    },
    {
     "name": "stdout",
     "output_type": "stream",
     "text": [
      "Model has not improved in -------------| 14 epochs\n"
     ]
    },
    {
     "name": "stderr",
     "output_type": "stream",
     "text": [
      "    epoch          : 72\n",
      "    loss           : 0.2131134249697529\n",
      "    accuracy       : 0.9318188012384441\n",
      "    f1             : 0.9322860026892419\n",
      "    balanced_accuracy: 0.9437774890439995\n",
      "    precision      : 0.9373023618331011\n",
      "    recall         : 0.9318188012384441\n",
      "    val_loss       : 0.8484237269921736\n",
      "    val_accuracy   : 0.7364500988142293\n",
      "    val_f1         : 0.7351003498239271\n",
      "    val_balanced_accuracy: 0.7204166209967154\n",
      "    val_precision  : 0.7494944742531109\n",
      "    val_recall     : 0.7364500988142293\n"
     ]
    },
    {
     "name": "stdout",
     "output_type": "stream",
     "text": [
      "Model has not improved in -------------| 15 epochs\n"
     ]
    },
    {
     "name": "stderr",
     "output_type": "stream",
     "text": [
      "    epoch          : 73\n",
      "    loss           : 0.20067045640232217\n",
      "    accuracy       : 0.9370652908599336\n",
      "    f1             : 0.9374648164691938\n",
      "    balanced_accuracy: 0.948220193215339\n",
      "    precision      : 0.9420770239203987\n",
      "    recall         : 0.9370652908599336\n",
      "    val_loss       : 0.8646024638956243\n",
      "    val_accuracy   : 0.7334280303030303\n",
      "    val_f1         : 0.7337611298095428\n",
      "    val_balanced_accuracy: 0.7157352197567304\n",
      "    val_precision  : 0.751164025022742\n",
      "    val_recall     : 0.7334280303030303\n"
     ]
    },
    {
     "name": "stdout",
     "output_type": "stream",
     "text": [
      "Model has not improved in -------------| 16 epochs\n"
     ]
    },
    {
     "name": "stderr",
     "output_type": "stream",
     "text": [
      "    epoch          : 74\n",
      "    loss           : 0.1943885445667565\n",
      "    accuracy       : 0.9396721829757544\n",
      "    f1             : 0.9401267210571453\n",
      "    balanced_accuracy: 0.95101754471851\n",
      "    precision      : 0.9445746970252742\n",
      "    recall         : 0.9396721829757544\n",
      "    val_loss       : 0.859439982067455\n",
      "    val_accuracy   : 0.741806653491436\n",
      "    val_f1         : 0.7424260729313398\n",
      "    val_balanced_accuracy: 0.7293595100206166\n",
      "    val_precision  : 0.7568611214339389\n",
      "    val_recall     : 0.741806653491436\n"
     ]
    },
    {
     "name": "stdout",
     "output_type": "stream",
     "text": [
      "Model has not improved in -------------| 17 epochs\n"
     ]
    },
    {
     "name": "stderr",
     "output_type": "stream",
     "text": [
      "    epoch          : 75\n",
      "    loss           : 0.18330834899666254\n",
      "    accuracy       : 0.9444444444444444\n",
      "    f1             : 0.944737247312692\n",
      "    balanced_accuracy: 0.9551413901724412\n",
      "    precision      : 0.9487506912936223\n",
      "    recall         : 0.9444444444444444\n",
      "    val_loss       : 0.8795777293768796\n",
      "    val_accuracy   : 0.73028244400527\n",
      "    val_f1         : 0.7310423449320813\n",
      "    val_balanced_accuracy: 0.7171203553196523\n",
      "    val_precision  : 0.7460890792305811\n",
      "    val_recall     : 0.73028244400527\n"
     ]
    },
    {
     "name": "stdout",
     "output_type": "stream",
     "text": [
      "Model has not improved in -------------| 18 epochs\n",
      "=> loading C:/Users/awoloshu/Documents/NephNet/saved/kfold_test_NOTESTDATA\\1216_193133\\model_best.pth\n",
      "Running forward pass on holdout set of size: 34906\n",
      "Complete: 99.7%\n",
      "Accuracy: 0.7334\n",
      "\n",
      "=======FOLD 3 / 4 ========\n",
      "GPUs available: 1\n",
      "Train size: 104713 104713\n",
      "Holdout size: 34904 34904\n",
      "Val size (subset of holdout): 6980 6980\n"
     ]
    },
    {
     "name": "stderr",
     "output_type": "stream",
     "text": [
      "C:\\Users\\awoloshu\\Documents\\pytorch36\\lib\\site-packages\\sklearn\\metrics\\classification.py:1437: UndefinedMetricWarning: F-score is ill-defined and being set to 0.0 in labels with no predicted samples.\n",
      "  'precision', 'predicted', average, warn_for)\n",
      "C:\\Users\\awoloshu\\Documents\\pytorch36\\lib\\site-packages\\sklearn\\metrics\\classification.py:1437: UndefinedMetricWarning: Precision is ill-defined and being set to 0.0 in labels with no predicted samples.\n",
      "  'precision', 'predicted', average, warn_for)\n",
      "C:\\Users\\awoloshu\\Documents\\pytorch36\\lib\\site-packages\\sklearn\\metrics\\classification.py:1439: UndefinedMetricWarning: F-score is ill-defined and being set to 0.0 in labels with no true samples.\n",
      "  'recall', 'true', average, warn_for)\n",
      "C:\\Users\\awoloshu\\Documents\\pytorch36\\lib\\site-packages\\sklearn\\metrics\\classification.py:1745: UserWarning: y_pred contains classes not in y_true\n",
      "  warnings.warn('y_pred contains classes not in y_true')\n",
      "C:\\Users\\awoloshu\\Documents\\pytorch36\\lib\\site-packages\\sklearn\\metrics\\classification.py:1439: UndefinedMetricWarning: Recall is ill-defined and being set to 0.0 in labels with no true samples.\n",
      "  'recall', 'true', average, warn_for)\n",
      "    epoch          : 1\n",
      "    loss           : 1.6136259041426382\n",
      "    accuracy       : 0.38062275301858634\n",
      "    f1             : 0.37624207469015736\n",
      "    balanced_accuracy: 0.37804620708957826\n",
      "    precision      : 0.4131771083369877\n",
      "    recall         : 0.38062275301858634\n",
      "    val_loss       : 1.7319204460490834\n",
      "    val_accuracy   : 0.3652239304812834\n",
      "    val_f1         : 0.3394643329830204\n",
      "    val_balanced_accuracy: 0.36022316819719524\n",
      "    val_precision  : 0.42552611580798755\n",
      "    val_recall     : 0.3652239304812834\n"
     ]
    },
    {
     "name": "stdout",
     "output_type": "stream",
     "text": [
      "Model best! ---------------------------| \n"
     ]
    },
    {
     "name": "stderr",
     "output_type": "stream",
     "text": [
      "Saving checkpoint: C:/Users/awoloshu/Documents/NephNet/saved/kfold_test_NOTESTDATA\\1217_004005\\checkpoint-epoch1.pth ...\n",
      "Saving current best: model_best.pth ...\n",
      "    epoch          : 2\n",
      "    loss           : 1.3153773662662622\n",
      "    accuracy       : 0.49949124949124946\n",
      "    f1             : 0.49652624206911405\n",
      "    balanced_accuracy: 0.4989459222269027\n",
      "    precision      : 0.5274845132282816\n",
      "    recall         : 0.49949124949124946\n",
      "    val_loss       : 1.6219563549215144\n",
      "    val_accuracy   : 0.3700952540106952\n",
      "    val_f1         : 0.3482638457701634\n",
      "    val_balanced_accuracy: 0.3850112960161179\n",
      "    val_precision  : 0.4694541733906571\n",
      "    val_recall     : 0.3700952540106952\n"
     ]
    },
    {
     "name": "stdout",
     "output_type": "stream",
     "text": [
      "Model best! ---------------------------| \n"
     ]
    },
    {
     "name": "stderr",
     "output_type": "stream",
     "text": [
      "Saving checkpoint: C:/Users/awoloshu/Documents/NephNet/saved/kfold_test_NOTESTDATA\\1217_004005\\checkpoint-epoch2.pth ...\n",
      "Saving current best: model_best.pth ...\n",
      "    epoch          : 3\n",
      "    loss           : 1.1878364940557142\n",
      "    accuracy       : 0.5555428367928368\n",
      "    f1             : 0.5569693090255069\n",
      "    balanced_accuracy: 0.5612554054097334\n",
      "    precision      : 0.5858754069241011\n",
      "    recall         : 0.5555428367928368\n",
      "    val_loss       : 2.2989371819929643\n",
      "    val_accuracy   : 0.2830965909090909\n",
      "    val_f1         : 0.24262261701340035\n",
      "    val_balanced_accuracy: 0.27778874146016025\n",
      "    val_precision  : 0.30882938329369414\n",
      "    val_recall     : 0.2830965909090909\n"
     ]
    },
    {
     "name": "stdout",
     "output_type": "stream",
     "text": [
      "Model has not improved in -------------| 1 epochs\n"
     ]
    },
    {
     "name": "stderr",
     "output_type": "stream",
     "text": [
      "    epoch          : 4\n",
      "    loss           : 1.130389947012085\n",
      "    accuracy       : 0.5818441781983449\n",
      "    f1             : 0.5841341845274166\n",
      "    balanced_accuracy: 0.588863782355282\n",
      "    precision      : 0.611946265269429\n",
      "    recall         : 0.5818441781983449\n",
      "    val_loss       : 3.4202272458509966\n",
      "    val_accuracy   : 0.2627840909090909\n",
      "    val_f1         : 0.18969225307523138\n",
      "    val_balanced_accuracy: 0.20182277208534063\n",
      "    val_precision  : 0.3121763318941428\n",
      "    val_recall     : 0.2627840909090909\n"
     ]
    },
    {
     "name": "stdout",
     "output_type": "stream",
     "text": [
      "Model has not improved in -------------| 2 epochs\n"
     ]
    },
    {
     "name": "stderr",
     "output_type": "stream",
     "text": [
      "    epoch          : 5\n",
      "    loss           : 1.0911278626420995\n",
      "    accuracy       : 0.5996324277574278\n",
      "    f1             : 0.6025296372947855\n",
      "    balanced_accuracy: 0.605897786303035\n",
      "    precision      : 0.6295523234487203\n",
      "    recall         : 0.5996324277574278\n",
      "    val_loss       : 2.504589960791848\n",
      "    val_accuracy   : 0.2233288770053476\n",
      "    val_f1         : 0.20168379504547987\n",
      "    val_balanced_accuracy: 0.24896989730355215\n",
      "    val_precision  : 0.3146777403399081\n",
      "    val_recall     : 0.2233288770053476\n"
     ]
    },
    {
     "name": "stdout",
     "output_type": "stream",
     "text": [
      "Model has not improved in -------------| 3 epochs\n"
     ]
    },
    {
     "name": "stderr",
     "output_type": "stream",
     "text": [
      "    epoch          : 6\n",
      "    loss           : 1.065085964325147\n",
      "    accuracy       : 0.6111694054402388\n",
      "    f1             : 0.6144647816798571\n",
      "    balanced_accuracy: 0.6190971437521876\n",
      "    precision      : 0.6414013451538262\n",
      "    recall         : 0.6111694054402388\n",
      "    val_loss       : 1.691671947999434\n",
      "    val_accuracy   : 0.4414020721925134\n",
      "    val_f1         : 0.4174063957781186\n",
      "    val_balanced_accuracy: 0.3861714421053036\n",
      "    val_precision  : 0.5224813889986917\n",
      "    val_recall     : 0.4414020721925134\n"
     ]
    },
    {
     "name": "stdout",
     "output_type": "stream",
     "text": [
      "Model has not improved in -------------| 4 epochs\n"
     ]
    },
    {
     "name": "stderr",
     "output_type": "stream",
     "text": [
      "    epoch          : 7\n",
      "    loss           : 1.0453900185405698\n",
      "    accuracy       : 0.6179283679283679\n",
      "    f1             : 0.6211094342824458\n",
      "    balanced_accuracy: 0.6263697625539392\n",
      "    precision      : 0.6482621248140256\n",
      "    recall         : 0.6179283679283679\n",
      "    val_loss       : 2.665424520319158\n",
      "    val_accuracy   : 0.2557235962566845\n",
      "    val_f1         : 0.2104680234875183\n",
      "    val_balanced_accuracy: 0.24676003457235574\n",
      "    val_precision  : 0.37622052153377905\n",
      "    val_recall     : 0.2557235962566845\n"
     ]
    },
    {
     "name": "stdout",
     "output_type": "stream",
     "text": [
      "Model has not improved in -------------| 5 epochs\n"
     ]
    },
    {
     "name": "stderr",
     "output_type": "stream",
     "text": [
      "    epoch          : 8\n",
      "    loss           : 1.0393949542581236\n",
      "    accuracy       : 0.6208950193325193\n",
      "    f1             : 0.6244211211826342\n",
      "    balanced_accuracy: 0.6264893894093176\n",
      "    precision      : 0.6518615740335684\n",
      "    recall         : 0.6208950193325193\n",
      "    val_loss       : 1.694740239056674\n",
      "    val_accuracy   : 0.4290858957219252\n",
      "    val_f1         : 0.40301012332771463\n",
      "    val_balanced_accuracy: 0.402616539656684\n",
      "    val_precision  : 0.48221612361688976\n",
      "    val_recall     : 0.4290858957219252\n"
     ]
    },
    {
     "name": "stdout",
     "output_type": "stream",
     "text": [
      "Model has not improved in -------------| 6 epochs\n"
     ]
    },
    {
     "name": "stderr",
     "output_type": "stream",
     "text": [
      "    epoch          : 9\n",
      "    loss           : 1.0249163846829872\n",
      "    accuracy       : 0.6260482380274047\n",
      "    f1             : 0.6296274659132269\n",
      "    balanced_accuracy: 0.6327433992433603\n",
      "    precision      : 0.6564953209588845\n",
      "    recall         : 0.6260482380274047\n",
      "    val_loss       : 2.028461642698808\n",
      "    val_accuracy   : 0.34448529411764706\n",
      "    val_f1         : 0.33519305970406377\n",
      "    val_balanced_accuracy: 0.41098671115093444\n",
      "    val_precision  : 0.5310218166347486\n",
      "    val_recall     : 0.34448529411764706\n"
     ]
    },
    {
     "name": "stdout",
     "output_type": "stream",
     "text": [
      "Model has not improved in -------------| 7 epochs\n"
     ]
    },
    {
     "name": "stderr",
     "output_type": "stream",
     "text": [
      "    epoch          : 10\n",
      "    loss           : 1.0150851287830152\n",
      "    accuracy       : 0.6314399335232669\n",
      "    f1             : 0.6351069715138419\n",
      "    balanced_accuracy: 0.6378997633598547\n",
      "    precision      : 0.6620600934107017\n",
      "    recall         : 0.6314399335232669\n",
      "    val_loss       : 2.901204468987205\n",
      "    val_accuracy   : 0.19029077540106953\n",
      "    val_f1         : 0.17040002879830912\n",
      "    val_balanced_accuracy: 0.2460709776024655\n",
      "    val_precision  : 0.31957049303132506\n",
      "    val_recall     : 0.19029077540106953\n"
     ]
    },
    {
     "name": "stdout",
     "output_type": "stream",
     "text": [
      "Model has not improved in -------------| 8 epochs\n"
     ]
    },
    {
     "name": "stderr",
     "output_type": "stream",
     "text": [
      "    epoch          : 11\n",
      "    loss           : 1.0089264430551448\n",
      "    accuracy       : 0.6324775725817393\n",
      "    f1             : 0.6362930489158883\n",
      "    balanced_accuracy: 0.6393623773268821\n",
      "    precision      : 0.6642213929342988\n",
      "    recall         : 0.6324775725817393\n",
      "    val_loss       : 3.6278690208088267\n",
      "    val_accuracy   : 0.1106951871657754\n",
      "    val_f1         : 0.05423489931158981\n",
      "    val_balanced_accuracy: 0.13262683154192062\n",
      "    val_precision  : 0.07854411447175584\n",
      "    val_recall     : 0.1106951871657754\n"
     ]
    },
    {
     "name": "stdout",
     "output_type": "stream",
     "text": [
      "Model has not improved in -------------| 9 epochs\n"
     ]
    },
    {
     "name": "stderr",
     "output_type": "stream",
     "text": [
      "    epoch          : 12\n",
      "    loss           : 0.9011575806708563\n",
      "    accuracy       : 0.6737573768823768\n",
      "    f1             : 0.6776326672639389\n",
      "    balanced_accuracy: 0.6793894007557953\n",
      "    precision      : 0.7020418858780305\n",
      "    recall         : 0.6737573768823768\n",
      "    val_loss       : 0.9988143075596202\n",
      "    val_accuracy   : 0.6149983288770055\n",
      "    val_f1         : 0.6002867318090362\n",
      "    val_balanced_accuracy: 0.6323939653710392\n",
      "    val_precision  : 0.6641239684897131\n",
      "    val_recall     : 0.6149983288770055\n"
     ]
    },
    {
     "name": "stdout",
     "output_type": "stream",
     "text": [
      "Model best! ---------------------------| \n"
     ]
    },
    {
     "name": "stderr",
     "output_type": "stream",
     "text": [
      "Saving checkpoint: C:/Users/awoloshu/Documents/NephNet/saved/kfold_test_NOTESTDATA\\1217_004005\\checkpoint-epoch12.pth ...\n",
      "Saving current best: model_best.pth ...\n",
      "    epoch          : 13\n",
      "    loss           : 0.8512925708686913\n",
      "    accuracy       : 0.6917311083977751\n",
      "    f1             : 0.6949895922169833\n",
      "    balanced_accuracy: 0.7002433343995476\n",
      "    precision      : 0.7181074834294634\n",
      "    recall         : 0.6917311083977751\n",
      "    val_loss       : 1.0579530889337714\n",
      "    val_accuracy   : 0.6192764037433155\n",
      "    val_f1         : 0.6122791119799509\n",
      "    val_balanced_accuracy: 0.6180025256345849\n",
      "    val_precision  : 0.6781769710216077\n",
      "    val_recall     : 0.6192764037433155\n"
     ]
    },
    {
     "name": "stdout",
     "output_type": "stream",
     "text": [
      "Model has not improved in -------------| 1 epochs\n"
     ]
    },
    {
     "name": "stderr",
     "output_type": "stream",
     "text": [
      "    epoch          : 14\n",
      "    loss           : 0.8447087656010638\n",
      "    accuracy       : 0.6927072734364401\n",
      "    f1             : 0.6961430250442484\n",
      "    balanced_accuracy: 0.6999391875034746\n",
      "    precision      : 0.7188985259950076\n",
      "    recall         : 0.6927072734364401\n",
      "    val_loss       : 1.306920517574657\n",
      "    val_accuracy   : 0.5201036096256685\n",
      "    val_f1         : 0.5193798724408532\n",
      "    val_balanced_accuracy: 0.5242146271906507\n",
      "    val_precision  : 0.5833388864321369\n",
      "    val_recall     : 0.5201036096256685\n"
     ]
    },
    {
     "name": "stdout",
     "output_type": "stream",
     "text": [
      "Model has not improved in -------------| 2 epochs\n"
     ]
    },
    {
     "name": "stderr",
     "output_type": "stream",
     "text": [
      "    epoch          : 15\n",
      "    loss           : 0.8379388334404709\n",
      "    accuracy       : 0.6968747880206214\n",
      "    f1             : 0.699976458210659\n",
      "    balanced_accuracy: 0.704872306672161\n",
      "    precision      : 0.7227223540819395\n",
      "    recall         : 0.6968747880206214\n",
      "    val_loss       : 0.9788034298203209\n",
      "    val_accuracy   : 0.6383104946524064\n",
      "    val_f1         : 0.6375810496537359\n",
      "    val_balanced_accuracy: 0.630662064602016\n",
      "    val_precision  : 0.69764498982398\n",
      "    val_recall     : 0.6383104946524064\n"
     ]
    },
    {
     "name": "stdout",
     "output_type": "stream",
     "text": [
      "Model best! ---------------------------| \n"
     ]
    },
    {
     "name": "stderr",
     "output_type": "stream",
     "text": [
      "Saving checkpoint: C:/Users/awoloshu/Documents/NephNet/saved/kfold_test_NOTESTDATA\\1217_004005\\checkpoint-epoch15.pth ...\n",
      "Saving current best: model_best.pth ...\n",
      "    epoch          : 16\n",
      "    loss           : 0.8319031990636981\n",
      "    accuracy       : 0.6983851410934744\n",
      "    f1             : 0.7017139742207955\n",
      "    balanced_accuracy: 0.7066065366023665\n",
      "    precision      : 0.7247508673502181\n",
      "    recall         : 0.6983851410934744\n",
      "    val_loss       : 1.0358940514651211\n",
      "    val_accuracy   : 0.6252757352941176\n",
      "    val_f1         : 0.6231714051807123\n",
      "    val_balanced_accuracy: 0.6101808860242741\n",
      "    val_precision  : 0.6850651500258641\n",
      "    val_recall     : 0.6252757352941176\n"
     ]
    },
    {
     "name": "stdout",
     "output_type": "stream",
     "text": [
      "Model has not improved in -------------| 1 epochs\n"
     ]
    },
    {
     "name": "stderr",
     "output_type": "stream",
     "text": [
      "    epoch          : 17\n",
      "    loss           : 0.8299195513183817\n",
      "    accuracy       : 0.6996103819020486\n",
      "    f1             : 0.7027068476873232\n",
      "    balanced_accuracy: 0.7077074236104159\n",
      "    precision      : 0.7255173948300325\n",
      "    recall         : 0.6996103819020486\n",
      "    val_loss       : 1.0279947074976834\n",
      "    val_accuracy   : 0.6043616310160428\n",
      "    val_f1         : 0.6038936380646955\n",
      "    val_balanced_accuracy: 0.6256141842933788\n",
      "    val_precision  : 0.6623678973042157\n",
      "    val_recall     : 0.6043616310160428\n"
     ]
    },
    {
     "name": "stdout",
     "output_type": "stream",
     "text": [
      "Model has not improved in -------------| 2 epochs\n"
     ]
    },
    {
     "name": "stderr",
     "output_type": "stream",
     "text": [
      "    epoch          : 18\n",
      "    loss           : 0.8227790630489624\n",
      "    accuracy       : 0.7020651031067698\n",
      "    f1             : 0.7053840671220382\n",
      "    balanced_accuracy: 0.7096604275305336\n",
      "    precision      : 0.7286498272009629\n",
      "    recall         : 0.7020651031067698\n",
      "    val_loss       : 1.1834277727387168\n",
      "    val_accuracy   : 0.5840574866310161\n",
      "    val_f1         : 0.5808146407315804\n",
      "    val_balanced_accuracy: 0.5548751571779886\n",
      "    val_precision  : 0.6209072340909959\n",
      "    val_recall     : 0.5840574866310161\n"
     ]
    },
    {
     "name": "stdout",
     "output_type": "stream",
     "text": [
      "Model has not improved in -------------| 3 epochs\n"
     ]
    },
    {
     "name": "stderr",
     "output_type": "stream",
     "text": [
      "    epoch          : 19\n",
      "    loss           : 0.8196480122095791\n",
      "    accuracy       : 0.7024678639261972\n",
      "    f1             : 0.7056596810716174\n",
      "    balanced_accuracy: 0.7108860602087812\n",
      "    precision      : 0.7282053604071307\n",
      "    recall         : 0.7024678639261972\n",
      "    val_loss       : 1.9754834825342351\n",
      "    val_accuracy   : 0.371173128342246\n",
      "    val_f1         : 0.32698127531947524\n",
      "    val_balanced_accuracy: 0.432291269371464\n",
      "    val_precision  : 0.533279443870284\n",
      "    val_recall     : 0.371173128342246\n"
     ]
    },
    {
     "name": "stdout",
     "output_type": "stream",
     "text": [
      "Model has not improved in -------------| 4 epochs\n"
     ]
    },
    {
     "name": "stderr",
     "output_type": "stream",
     "text": [
      "    epoch          : 20\n",
      "    loss           : 0.8153320316575531\n",
      "    accuracy       : 0.7045283034866368\n",
      "    f1             : 0.7077104399760896\n",
      "    balanced_accuracy: 0.7126276520473289\n",
      "    precision      : 0.7312085694294514\n",
      "    recall         : 0.7045283034866368\n",
      "    val_loss       : 1.4353363318876786\n",
      "    val_accuracy   : 0.5008188502673797\n",
      "    val_f1         : 0.4825721331511001\n",
      "    val_balanced_accuracy: 0.5098034461785044\n",
      "    val_precision  : 0.6000038699589911\n",
      "    val_recall     : 0.5008188502673797\n"
     ]
    },
    {
     "name": "stdout",
     "output_type": "stream",
     "text": [
      "Model has not improved in -------------| 5 epochs\n"
     ]
    },
    {
     "name": "stderr",
     "output_type": "stream",
     "text": [
      "    epoch          : 21\n",
      "    loss           : 0.8100157781107231\n",
      "    accuracy       : 0.7045092253425587\n",
      "    f1             : 0.7077466792246326\n",
      "    balanced_accuracy: 0.7131578300020692\n",
      "    precision      : 0.7306410515590736\n",
      "    recall         : 0.7045092253425587\n",
      "    val_loss       : 1.072066599672491\n",
      "    val_accuracy   : 0.6282085561497327\n",
      "    val_f1         : 0.6185924654702424\n",
      "    val_balanced_accuracy: 0.6011188766270056\n",
      "    val_precision  : 0.6767563160557559\n",
      "    val_recall     : 0.6282085561497327\n"
     ]
    },
    {
     "name": "stdout",
     "output_type": "stream",
     "text": [
      "Model has not improved in -------------| 6 epochs\n"
     ]
    },
    {
     "name": "stderr",
     "output_type": "stream",
     "text": [
      "    epoch          : 22\n",
      "    loss           : 0.8034328375834976\n",
      "    accuracy       : 0.7093041988875323\n",
      "    f1             : 0.7125343399379849\n",
      "    balanced_accuracy: 0.7182497602895839\n",
      "    precision      : 0.73532411528073\n",
      "    recall         : 0.7093041988875323\n",
      "    val_loss       : 1.0543686888434671\n",
      "    val_accuracy   : 0.6434408422459893\n",
      "    val_f1         : 0.6398474738826894\n",
      "    val_balanced_accuracy: 0.6185488187815644\n",
      "    val_precision  : 0.6801930098808796\n",
      "    val_recall     : 0.6434408422459893\n"
     ]
    },
    {
     "name": "stdout",
     "output_type": "stream",
     "text": [
      "Model has not improved in -------------| 7 epochs\n"
     ]
    },
    {
     "name": "stderr",
     "output_type": "stream",
     "text": [
      "    epoch          : 23\n",
      "    loss           : 0.7983815328687685\n",
      "    accuracy       : 0.7105760751594085\n",
      "    f1             : 0.7136335189271986\n",
      "    balanced_accuracy: 0.718483961143835\n",
      "    precision      : 0.735883240723178\n",
      "    recall         : 0.7105760751594085\n",
      "    val_loss       : 1.8162764137441463\n",
      "    val_accuracy   : 0.4364639037433155\n",
      "    val_f1         : 0.4160585747502978\n",
      "    val_balanced_accuracy: 0.4440002398623059\n",
      "    val_precision  : 0.564119679765345\n",
      "    val_recall     : 0.4364639037433155\n"
     ]
    },
    {
     "name": "stdout",
     "output_type": "stream",
     "text": [
      "Model has not improved in -------------| 8 epochs\n"
     ]
    },
    {
     "name": "stderr",
     "output_type": "stream",
     "text": [
      "    epoch          : 24\n",
      "    loss           : 0.8039048013524113\n",
      "    accuracy       : 0.7081224138515805\n",
      "    f1             : 0.7110610735453908\n",
      "    balanced_accuracy: 0.7170167379002057\n",
      "    precision      : 0.7332975414040636\n",
      "    recall         : 0.7081224138515805\n",
      "    val_loss       : 2.833264628323642\n",
      "    val_accuracy   : 0.33494318181818183\n",
      "    val_f1         : 0.2937398369898794\n",
      "    val_balanced_accuracy: 0.34838622408228426\n",
      "    val_precision  : 0.40492744580339424\n",
      "    val_recall     : 0.33494318181818183\n"
     ]
    },
    {
     "name": "stdout",
     "output_type": "stream",
     "text": [
      "Model has not improved in -------------| 9 epochs\n"
     ]
    },
    {
     "name": "stderr",
     "output_type": "stream",
     "text": [
      "    epoch          : 25\n",
      "    loss           : 0.6927031433625972\n",
      "    accuracy       : 0.7510291598833265\n",
      "    f1             : 0.7532205560445019\n",
      "    balanced_accuracy: 0.7605529159816913\n",
      "    precision      : 0.772180642827188\n",
      "    recall         : 0.7510291598833265\n",
      "    val_loss       : 0.8326224218715321\n",
      "    val_accuracy   : 0.6942346256684492\n",
      "    val_f1         : 0.6962748786528263\n",
      "    val_balanced_accuracy: 0.7006633938990224\n",
      "    val_precision  : 0.7240312910953166\n",
      "    val_recall     : 0.6942346256684492\n"
     ]
    },
    {
     "name": "stdout",
     "output_type": "stream",
     "text": [
      "Model best! ---------------------------| \n"
     ]
    },
    {
     "name": "stderr",
     "output_type": "stream",
     "text": [
      "Saving checkpoint: C:/Users/awoloshu/Documents/NephNet/saved/kfold_test_NOTESTDATA\\1217_004005\\checkpoint-epoch25.pth ...\n",
      "Saving current best: model_best.pth ...\n",
      "    epoch          : 26\n",
      "    loss           : 0.6584677611078534\n",
      "    accuracy       : 0.763701287138787\n",
      "    f1             : 0.7660221939724955\n",
      "    balanced_accuracy: 0.7720190102474396\n",
      "    precision      : 0.7836727845494151\n",
      "    recall         : 0.763701287138787\n",
      "    val_loss       : 0.7716092716563832\n",
      "    val_accuracy   : 0.7233288770053475\n",
      "    val_f1         : 0.7226732534592556\n",
      "    val_balanced_accuracy: 0.7184753142603978\n",
      "    val_precision  : 0.739065066336625\n",
      "    val_recall     : 0.7233288770053475\n"
     ]
    },
    {
     "name": "stdout",
     "output_type": "stream",
     "text": [
      "Model best! ---------------------------| \n"
     ]
    },
    {
     "name": "stderr",
     "output_type": "stream",
     "text": [
      "Saving checkpoint: C:/Users/awoloshu/Documents/NephNet/saved/kfold_test_NOTESTDATA\\1217_004005\\checkpoint-epoch26.pth ...\n",
      "Saving current best: model_best.pth ...\n",
      "    epoch          : 27\n",
      "    loss           : 0.6447750975142469\n",
      "    accuracy       : 0.7680627628544295\n",
      "    f1             : 0.7704971348785977\n",
      "    balanced_accuracy: 0.778055947047743\n",
      "    precision      : 0.7882119803901092\n",
      "    recall         : 0.7680627628544295\n",
      "    val_loss       : 0.8007965228774331\n",
      "    val_accuracy   : 0.7123328877005348\n",
      "    val_f1         : 0.7164081836160584\n",
      "    val_balanced_accuracy: 0.7108408970506248\n",
      "    val_precision  : 0.7360694970394551\n",
      "    val_recall     : 0.7123328877005348\n"
     ]
    },
    {
     "name": "stdout",
     "output_type": "stream",
     "text": [
      "Model has not improved in -------------| 1 epochs\n"
     ]
    },
    {
     "name": "stderr",
     "output_type": "stream",
     "text": [
      "    epoch          : 28\n",
      "    loss           : 0.6350522253102872\n",
      "    accuracy       : 0.7706192341609008\n",
      "    f1             : 0.7725174221183784\n",
      "    balanced_accuracy: 0.7814945525773888\n",
      "    precision      : 0.7897781337354658\n",
      "    recall         : 0.7706192341609008\n",
      "    val_loss       : 0.8746134411204946\n",
      "    val_accuracy   : 0.6805731951871657\n",
      "    val_f1         : 0.6780258841411596\n",
      "    val_balanced_accuracy: 0.6837530057863517\n",
      "    val_precision  : 0.7162822243996703\n",
      "    val_recall     : 0.6805731951871657\n"
     ]
    },
    {
     "name": "stdout",
     "output_type": "stream",
     "text": [
      "Model has not improved in -------------| 2 epochs\n"
     ]
    },
    {
     "name": "stderr",
     "output_type": "stream",
     "text": [
      "    epoch          : 29\n",
      "    loss           : 0.6293003287653055\n",
      "    accuracy       : 0.7737533492741826\n",
      "    f1             : 0.7758210186967566\n",
      "    balanced_accuracy: 0.7846624899622396\n",
      "    precision      : 0.7932849385712926\n",
      "    recall         : 0.7737533492741826\n",
      "    val_loss       : 0.8251989646391436\n",
      "    val_accuracy   : 0.7056400401069519\n",
      "    val_f1         : 0.7013137100176972\n",
      "    val_balanced_accuracy: 0.699714945197909\n",
      "    val_precision  : 0.7360163004011727\n",
      "    val_recall     : 0.7056400401069519\n"
     ]
    },
    {
     "name": "stdout",
     "output_type": "stream",
     "text": [
      "Model has not improved in -------------| 3 epochs\n"
     ]
    },
    {
     "name": "stderr",
     "output_type": "stream",
     "text": [
      "    epoch          : 30\n",
      "    loss           : 0.6217445759910076\n",
      "    accuracy       : 0.7747422330755664\n",
      "    f1             : 0.7764482391108585\n",
      "    balanced_accuracy: 0.7853511595945912\n",
      "    precision      : 0.7935272486015648\n",
      "    recall         : 0.7747422330755664\n",
      "    val_loss       : 0.8103102911602367\n",
      "    val_accuracy   : 0.7066594251336898\n",
      "    val_f1         : 0.7052236042539344\n",
      "    val_balanced_accuracy: 0.7108501912972497\n",
      "    val_precision  : 0.7294775111078241\n",
      "    val_recall     : 0.7066594251336898\n"
     ]
    },
    {
     "name": "stdout",
     "output_type": "stream",
     "text": [
      "Model has not improved in -------------| 4 epochs\n"
     ]
    },
    {
     "name": "stderr",
     "output_type": "stream",
     "text": [
      "    epoch          : 31\n",
      "    loss           : 0.614488966517396\n",
      "    accuracy       : 0.7782356532356532\n",
      "    f1             : 0.7800552890820611\n",
      "    balanced_accuracy: 0.7881898348196991\n",
      "    precision      : 0.7967393047195943\n",
      "    recall         : 0.7782356532356532\n",
      "    val_loss       : 0.8371696829795837\n",
      "    val_accuracy   : 0.7074699197860963\n",
      "    val_f1         : 0.7011441684880314\n",
      "    val_balanced_accuracy: 0.6864924441670313\n",
      "    val_precision  : 0.7306521537459261\n",
      "    val_recall     : 0.7074699197860963\n"
     ]
    },
    {
     "name": "stdout",
     "output_type": "stream",
     "text": [
      "Model has not improved in -------------| 5 epochs\n"
     ]
    },
    {
     "name": "stderr",
     "output_type": "stream",
     "text": [
      "    epoch          : 32\n",
      "    loss           : 0.6115902043669798\n",
      "    accuracy       : 0.7780957468457468\n",
      "    f1             : 0.7799829569151735\n",
      "    balanced_accuracy: 0.7889444981609257\n",
      "    precision      : 0.7967369456127688\n",
      "    recall         : 0.7780957468457468\n",
      "    val_loss       : 1.1886412208730524\n",
      "    val_accuracy   : 0.5595254010695188\n",
      "    val_f1         : 0.5555165568226583\n",
      "    val_balanced_accuracy: 0.5978374168698162\n",
      "    val_precision  : 0.6348459764604855\n",
      "    val_recall     : 0.5595254010695188\n"
     ]
    },
    {
     "name": "stdout",
     "output_type": "stream",
     "text": [
      "Model has not improved in -------------| 6 epochs\n"
     ]
    },
    {
     "name": "stderr",
     "output_type": "stream",
     "text": [
      "    epoch          : 33\n",
      "    loss           : 0.6044466158554813\n",
      "    accuracy       : 0.7816294430877765\n",
      "    f1             : 0.7835409457711483\n",
      "    balanced_accuracy: 0.7928998736239132\n",
      "    precision      : 0.8000064131314496\n",
      "    recall         : 0.7816294430877765\n",
      "    val_loss       : 0.8404708591374483\n",
      "    val_accuracy   : 0.6973679812834224\n",
      "    val_f1         : 0.6969824068913588\n",
      "    val_balanced_accuracy: 0.6911319328368433\n",
      "    val_precision  : 0.7310531672514072\n",
      "    val_recall     : 0.6973679812834224\n"
     ]
    },
    {
     "name": "stdout",
     "output_type": "stream",
     "text": [
      "Model has not improved in -------------| 7 epochs\n"
     ]
    },
    {
     "name": "stderr",
     "output_type": "stream",
     "text": [
      "    epoch          : 34\n",
      "    loss           : 0.602000564191222\n",
      "    accuracy       : 0.7818732193732193\n",
      "    f1             : 0.7838550191692513\n",
      "    balanced_accuracy: 0.7928599175282143\n",
      "    precision      : 0.8006784805892095\n",
      "    recall         : 0.7818732193732193\n",
      "    val_loss       : 0.9886833461848172\n",
      "    val_accuracy   : 0.6618482620320855\n",
      "    val_f1         : 0.6659811892886168\n",
      "    val_balanced_accuracy: 0.6521992553721411\n",
      "    val_precision  : 0.7114025846300892\n",
      "    val_recall     : 0.6618482620320855\n"
     ]
    },
    {
     "name": "stdout",
     "output_type": "stream",
     "text": [
      "Model has not improved in -------------| 8 epochs\n"
     ]
    },
    {
     "name": "stderr",
     "output_type": "stream",
     "text": [
      "    epoch          : 35\n",
      "    loss           : 0.5991087320450607\n",
      "    accuracy       : 0.7821233550400217\n",
      "    f1             : 0.7838370774551272\n",
      "    balanced_accuracy: 0.7945568605614876\n",
      "    precision      : 0.8004816563415137\n",
      "    recall         : 0.7821233550400217\n",
      "    val_loss       : 1.1893809188495983\n",
      "    val_accuracy   : 0.5978024732620322\n",
      "    val_f1         : 0.6053301999453821\n",
      "    val_balanced_accuracy: 0.5996629431549332\n",
      "    val_precision  : 0.6721905279462516\n",
      "    val_recall     : 0.5978024732620322\n"
     ]
    },
    {
     "name": "stdout",
     "output_type": "stream",
     "text": [
      "Model has not improved in -------------| 9 epochs\n"
     ]
    },
    {
     "name": "stderr",
     "output_type": "stream",
     "text": [
      "    epoch          : 36\n",
      "    loss           : 0.5169259112905961\n",
      "    accuracy       : 0.8150310337810337\n",
      "    f1             : 0.8165171439436674\n",
      "    balanced_accuracy: 0.8286308347181441\n",
      "    precision      : 0.8305310526752271\n",
      "    recall         : 0.8150310337810337\n",
      "    val_loss       : 0.7289321205832742\n",
      "    val_accuracy   : 0.7392045454545455\n",
      "    val_f1         : 0.7409198809530916\n",
      "    val_balanced_accuracy: 0.7371226248472782\n",
      "    val_precision  : 0.7580140544808085\n",
      "    val_recall     : 0.7392045454545455\n"
     ]
    },
    {
     "name": "stdout",
     "output_type": "stream",
     "text": [
      "Model best! ---------------------------| \n"
     ]
    },
    {
     "name": "stderr",
     "output_type": "stream",
     "text": [
      "Saving checkpoint: C:/Users/awoloshu/Documents/NephNet/saved/kfold_test_NOTESTDATA\\1217_004005\\checkpoint-epoch36.pth ...\n",
      "Saving current best: model_best.pth ...\n",
      "    epoch          : 37\n",
      "    loss           : 0.4786689027106806\n",
      "    accuracy       : 0.8298303741012074\n",
      "    f1             : 0.8308951019471034\n",
      "    balanced_accuracy: 0.8441074603415911\n",
      "    precision      : 0.8434551351239956\n",
      "    recall         : 0.8298303741012074\n",
      "    val_loss       : 0.727256225455891\n",
      "    val_accuracy   : 0.7441594251336898\n",
      "    val_f1         : 0.7458456628519897\n",
      "    val_balanced_accuracy: 0.7413948348491445\n",
      "    val_precision  : 0.7647169285423707\n",
      "    val_recall     : 0.7441594251336898\n"
     ]
    },
    {
     "name": "stdout",
     "output_type": "stream",
     "text": [
      "Model best! ---------------------------| \n"
     ]
    },
    {
     "name": "stderr",
     "output_type": "stream",
     "text": [
      "Saving checkpoint: C:/Users/awoloshu/Documents/NephNet/saved/kfold_test_NOTESTDATA\\1217_004005\\checkpoint-epoch37.pth ...\n",
      "Saving current best: model_best.pth ...\n",
      "    epoch          : 38\n",
      "    loss           : 0.4556601821502923\n",
      "    accuracy       : 0.8379672025505359\n",
      "    f1             : 0.8389840697834533\n",
      "    balanced_accuracy: 0.8531788091992335\n",
      "    precision      : 0.8507438548240982\n",
      "    recall         : 0.8379672025505359\n",
      "    val_loss       : 0.7324995664033023\n",
      "    val_accuracy   : 0.744644050802139\n",
      "    val_f1         : 0.7464030415020282\n",
      "    val_balanced_accuracy: 0.7425166558780121\n",
      "    val_precision  : 0.7643579944809239\n",
      "    val_recall     : 0.744644050802139\n"
     ]
    },
    {
     "name": "stdout",
     "output_type": "stream",
     "text": [
      "Model has not improved in -------------| 1 epochs\n"
     ]
    },
    {
     "name": "stderr",
     "output_type": "stream",
     "text": [
      "    epoch          : 39\n",
      "    loss           : 0.44189448565499395\n",
      "    accuracy       : 0.8431850749559083\n",
      "    f1             : 0.8442324518178831\n",
      "    balanced_accuracy: 0.8578457189463108\n",
      "    precision      : 0.8558564490685879\n",
      "    recall         : 0.8431850749559083\n",
      "    val_loss       : 0.7615562964569439\n",
      "    val_accuracy   : 0.7427974598930481\n",
      "    val_f1         : 0.740805748810248\n",
      "    val_balanced_accuracy: 0.7238611452640019\n",
      "    val_precision  : 0.7537496900215389\n",
      "    val_recall     : 0.7427974598930481\n"
     ]
    },
    {
     "name": "stdout",
     "output_type": "stream",
     "text": [
      "Model has not improved in -------------| 2 epochs\n"
     ]
    },
    {
     "name": "stderr",
     "output_type": "stream",
     "text": [
      "    epoch          : 40\n",
      "    loss           : 0.42805558099196506\n",
      "    accuracy       : 0.8470536986161986\n",
      "    f1             : 0.8480062017687433\n",
      "    balanced_accuracy: 0.8622922446434148\n",
      "    precision      : 0.8586472012492327\n",
      "    recall         : 0.8470536986161986\n",
      "    val_loss       : 0.7653628549792549\n",
      "    val_accuracy   : 0.7291193181818182\n",
      "    val_f1         : 0.7267882992697776\n",
      "    val_balanced_accuracy: 0.7329594738116222\n",
      "    val_precision  : 0.750493573108883\n",
      "    val_recall     : 0.7291193181818182\n"
     ]
    },
    {
     "name": "stdout",
     "output_type": "stream",
     "text": [
      "Model has not improved in -------------| 3 epochs\n"
     ]
    },
    {
     "name": "stderr",
     "output_type": "stream",
     "text": [
      "    epoch          : 41\n",
      "    loss           : 0.41301578778195874\n",
      "    accuracy       : 0.8521994980328313\n",
      "    f1             : 0.8529841877909449\n",
      "    balanced_accuracy: 0.867368178109165\n",
      "    precision      : 0.8635872206380486\n",
      "    recall         : 0.8521994980328313\n",
      "    val_loss       : 0.7976168339902704\n",
      "    val_accuracy   : 0.7343165106951872\n",
      "    val_f1         : 0.7359168505188931\n",
      "    val_balanced_accuracy: 0.7230468792195542\n",
      "    val_precision  : 0.7552625353956934\n",
      "    val_recall     : 0.7343165106951872\n"
     ]
    },
    {
     "name": "stdout",
     "output_type": "stream",
     "text": [
      "Model has not improved in -------------| 4 epochs\n"
     ]
    },
    {
     "name": "stderr",
     "output_type": "stream",
     "text": [
      "    epoch          : 42\n",
      "    loss           : 0.40243125141976954\n",
      "    accuracy       : 0.8558338844797179\n",
      "    f1             : 0.8567492363332677\n",
      "    balanced_accuracy: 0.8713181420723024\n",
      "    precision      : 0.8671125273474903\n",
      "    recall         : 0.8558338844797179\n",
      "    val_loss       : 0.7908557144078341\n",
      "    val_accuracy   : 0.7227606951871658\n",
      "    val_f1         : 0.724889049462231\n",
      "    val_balanced_accuracy: 0.7241083280180534\n",
      "    val_precision  : 0.7503484158001668\n",
      "    val_recall     : 0.7227606951871658\n"
     ]
    },
    {
     "name": "stdout",
     "output_type": "stream",
     "text": [
      "Model has not improved in -------------| 5 epochs\n"
     ]
    },
    {
     "name": "stderr",
     "output_type": "stream",
     "text": [
      "    epoch          : 43\n",
      "    loss           : 0.3929344016662884\n",
      "    accuracy       : 0.8596685914394248\n",
      "    f1             : 0.8605430139929126\n",
      "    balanced_accuracy: 0.8762777526785192\n",
      "    precision      : 0.870987599573355\n",
      "    recall         : 0.8596685914394248\n",
      "    val_loss       : 0.80782780864022\n",
      "    val_accuracy   : 0.7290775401069519\n",
      "    val_f1         : 0.7314721749919959\n",
      "    val_balanced_accuracy: 0.7219792916772017\n",
      "    val_precision  : 0.7515188774769929\n",
      "    val_recall     : 0.7290775401069519\n"
     ]
    },
    {
     "name": "stdout",
     "output_type": "stream",
     "text": [
      "Model has not improved in -------------| 6 epochs\n"
     ]
    },
    {
     "name": "stderr",
     "output_type": "stream",
     "text": [
      "    epoch          : 44\n",
      "    loss           : 0.3802440609687414\n",
      "    accuracy       : 0.8641519552977887\n",
      "    f1             : 0.8649541094064709\n",
      "    balanced_accuracy: 0.8809812338095552\n",
      "    precision      : 0.8747998638724753\n",
      "    recall         : 0.8641519552977887\n",
      "    val_loss       : 0.8455533482811668\n",
      "    val_accuracy   : 0.7318181818181818\n",
      "    val_f1         : 0.7293271186868001\n",
      "    val_balanced_accuracy: 0.7104823808089822\n",
      "    val_precision  : 0.745323021181554\n",
      "    val_recall     : 0.7318181818181818\n"
     ]
    },
    {
     "name": "stdout",
     "output_type": "stream",
     "text": [
      "Model has not improved in -------------| 7 epochs\n"
     ]
    },
    {
     "name": "stderr",
     "output_type": "stream",
     "text": [
      "    epoch          : 45\n",
      "    loss           : 0.37561922843348555\n",
      "    accuracy       : 0.8660247931081264\n",
      "    f1             : 0.8668229166377768\n",
      "    balanced_accuracy: 0.8819833037678371\n",
      "    precision      : 0.8765907512840007\n",
      "    recall         : 0.8660247931081264\n",
      "    val_loss       : 0.9414725520394065\n",
      "    val_accuracy   : 0.6839237967914439\n",
      "    val_f1         : 0.686540696163108\n",
      "    val_balanced_accuracy: 0.6814002355791612\n",
      "    val_precision  : 0.7213925536147728\n",
      "    val_recall     : 0.6839237967914439\n"
     ]
    },
    {
     "name": "stdout",
     "output_type": "stream",
     "text": [
      "Model has not improved in -------------| 8 epochs\n"
     ]
    },
    {
     "name": "stderr",
     "output_type": "stream",
     "text": [
      "    epoch          : 46\n",
      "    loss           : 0.37443367178041276\n",
      "    accuracy       : 0.8662791683625017\n",
      "    f1             : 0.8670358682659824\n",
      "    balanced_accuracy: 0.8823006914738828\n",
      "    precision      : 0.8767179348656837\n",
      "    recall         : 0.8662791683625017\n",
      "    val_loss       : 0.7926774415102872\n",
      "    val_accuracy   : 0.7338235294117647\n",
      "    val_f1         : 0.734312507484537\n",
      "    val_balanced_accuracy: 0.7397754075353987\n",
      "    val_precision  : 0.7540597353691098\n",
      "    val_recall     : 0.7338235294117647\n"
     ]
    },
    {
     "name": "stdout",
     "output_type": "stream",
     "text": [
      "Model has not improved in -------------| 9 epochs\n"
     ]
    },
    {
     "name": "stderr",
     "output_type": "stream",
     "text": [
      "    epoch          : 47\n",
      "    loss           : 0.31379723934609083\n",
      "    accuracy       : 0.8911952245285579\n",
      "    f1             : 0.8918812336473788\n",
      "    balanced_accuracy: 0.9065528189973571\n",
      "    precision      : 0.8997728011665151\n",
      "    recall         : 0.8911952245285579\n",
      "    val_loss       : 0.7985869927839799\n",
      "    val_accuracy   : 0.7380347593582888\n",
      "    val_f1         : 0.7367120736185452\n",
      "    val_balanced_accuracy: 0.7243016616936307\n",
      "    val_precision  : 0.7496100204489284\n",
      "    val_recall     : 0.7380347593582888\n"
     ]
    },
    {
     "name": "stdout",
     "output_type": "stream",
     "text": [
      "Model has not improved in -------------| 10 epochs\n"
     ]
    },
    {
     "name": "stderr",
     "output_type": "stream",
     "text": [
      "    epoch          : 48\n",
      "    loss           : 0.2914589219004534\n",
      "    accuracy       : 0.8994920974087641\n",
      "    f1             : 0.9000495416392927\n",
      "    balanced_accuracy: 0.9142605260780791\n",
      "    precision      : 0.9069210617986122\n",
      "    recall         : 0.8994920974087641\n",
      "    val_loss       : 0.7966877016154202\n",
      "    val_accuracy   : 0.7472008689839572\n",
      "    val_f1         : 0.7483648835274294\n",
      "    val_balanced_accuracy: 0.7286014685179061\n",
      "    val_precision  : 0.7646678605828828\n",
      "    val_recall     : 0.7472008689839572\n"
     ]
    },
    {
     "name": "stdout",
     "output_type": "stream",
     "text": [
      "Model has not improved in -------------| 11 epochs\n"
     ]
    },
    {
     "name": "stderr",
     "output_type": "stream",
     "text": [
      "    epoch          : 49\n",
      "    loss           : 0.2754269819774907\n",
      "    accuracy       : 0.9072357041107041\n",
      "    f1             : 0.9078788883691081\n",
      "    balanced_accuracy: 0.9211347519910562\n",
      "    precision      : 0.9146604113721682\n",
      "    recall         : 0.9072357041107041\n",
      "    val_loss       : 0.8074662977998907\n",
      "    val_accuracy   : 0.7367396390374332\n",
      "    val_f1         : 0.7380314433428277\n",
      "    val_balanced_accuracy: 0.7268953710804151\n",
      "    val_precision  : 0.7575619100671052\n",
      "    val_recall     : 0.7367396390374332\n"
     ]
    },
    {
     "name": "stdout",
     "output_type": "stream",
     "text": [
      "Model has not improved in -------------| 12 epochs\n"
     ]
    },
    {
     "name": "stderr",
     "output_type": "stream",
     "text": [
      "    epoch          : 50\n",
      "    loss           : 0.2661681384830685\n",
      "    accuracy       : 0.9103019858228192\n",
      "    f1             : 0.9107754122307996\n",
      "    balanced_accuracy: 0.9251658096826786\n",
      "    precision      : 0.9170116684582624\n",
      "    recall         : 0.9103019858228192\n",
      "    val_loss       : 0.7856540739536285\n",
      "    val_accuracy   : 0.7461146390374332\n",
      "    val_f1         : 0.7456763504636007\n",
      "    val_balanced_accuracy: 0.736902699627445\n",
      "    val_precision  : 0.7607815196722773\n",
      "    val_recall     : 0.7461146390374332\n"
     ]
    },
    {
     "name": "stdout",
     "output_type": "stream",
     "text": [
      "Model has not improved in -------------| 13 epochs\n"
     ]
    },
    {
     "name": "stderr",
     "output_type": "stream",
     "text": [
      "    epoch          : 51\n",
      "    loss           : 0.2568626317931328\n",
      "    accuracy       : 0.9131615876407544\n",
      "    f1             : 0.9136050837334335\n",
      "    balanced_accuracy: 0.9271881812953068\n",
      "    precision      : 0.919663068514553\n",
      "    recall         : 0.9131615876407544\n",
      "    val_loss       : 0.8137654570015994\n",
      "    val_accuracy   : 0.7370153743315508\n",
      "    val_f1         : 0.7364230665602225\n",
      "    val_balanced_accuracy: 0.7346646141167854\n",
      "    val_precision  : 0.7540457082374221\n",
      "    val_recall     : 0.7370153743315508\n"
     ]
    },
    {
     "name": "stdout",
     "output_type": "stream",
     "text": [
      "Model has not improved in -------------| 14 epochs\n"
     ]
    },
    {
     "name": "stderr",
     "output_type": "stream",
     "text": [
      "    epoch          : 52\n",
      "    loss           : 0.24805153729860308\n",
      "    accuracy       : 0.9180720899470899\n",
      "    f1             : 0.918520417588595\n",
      "    balanced_accuracy: 0.9324334132593439\n",
      "    precision      : 0.9245769160975896\n",
      "    recall         : 0.9180720899470899\n",
      "    val_loss       : 0.806500320001082\n",
      "    val_accuracy   : 0.7429478609625668\n",
      "    val_f1         : 0.7428103852634044\n",
      "    val_balanced_accuracy: 0.7320802068504608\n",
      "    val_precision  : 0.7577695574724472\n",
      "    val_recall     : 0.7429478609625668\n"
     ]
    },
    {
     "name": "stdout",
     "output_type": "stream",
     "text": [
      "Model has not improved in -------------| 15 epochs\n"
     ]
    },
    {
     "name": "stderr",
     "output_type": "stream",
     "text": [
      "    epoch          : 53\n",
      "    loss           : 0.23649179518805027\n",
      "    accuracy       : 0.921884539072039\n",
      "    f1             : 0.9222733750248235\n",
      "    balanced_accuracy: 0.9355817190976979\n",
      "    precision      : 0.9278633232201805\n",
      "    recall         : 0.921884539072039\n",
      "    val_loss       : 0.8234865156087008\n",
      "    val_accuracy   : 0.7450952540106951\n",
      "    val_f1         : 0.7458313309467686\n",
      "    val_balanced_accuracy: 0.7305635553546169\n",
      "    val_precision  : 0.7590352762002035\n",
      "    val_recall     : 0.7450952540106951\n"
     ]
    },
    {
     "name": "stdout",
     "output_type": "stream",
     "text": [
      "Model has not improved in -------------| 16 epochs\n"
     ]
    },
    {
     "name": "stderr",
     "output_type": "stream",
     "text": [
      "    epoch          : 54\n",
      "    loss           : 0.2299612479987162\n",
      "    accuracy       : 0.9250811881020214\n",
      "    f1             : 0.9256423448679898\n",
      "    balanced_accuracy: 0.9384893591857523\n",
      "    precision      : 0.9314111048858822\n",
      "    recall         : 0.9250811881020214\n",
      "    val_loss       : 0.8356561509045688\n",
      "    val_accuracy   : 0.7396473930481283\n",
      "    val_f1         : 0.7378289403496467\n",
      "    val_balanced_accuracy: 0.730656369463885\n",
      "    val_precision  : 0.7533150362483046\n",
      "    val_recall     : 0.7396473930481283\n"
     ]
    },
    {
     "name": "stdout",
     "output_type": "stream",
     "text": [
      "Model has not improved in -------------| 17 epochs\n"
     ]
    },
    {
     "name": "stderr",
     "output_type": "stream",
     "text": [
      "    epoch          : 55\n",
      "    loss           : 0.22276674664973922\n",
      "    accuracy       : 0.9286933167141501\n",
      "    f1             : 0.9291782258064147\n",
      "    balanced_accuracy: 0.9415425074772885\n",
      "    precision      : 0.9343426720509754\n",
      "    recall         : 0.9286933167141501\n",
      "    val_loss       : 0.8310465064915744\n",
      "    val_accuracy   : 0.7468917112299465\n",
      "    val_f1         : 0.7480936381437353\n",
      "    val_balanced_accuracy: 0.7339933605693015\n",
      "    val_precision  : 0.7643715003565699\n",
      "    val_recall     : 0.7468917112299465\n"
     ]
    },
    {
     "name": "stdout",
     "output_type": "stream",
     "text": [
      "Model has not improved in -------------| 18 epochs\n"
     ]
    },
    {
     "name": "stderr",
     "output_type": "stream",
     "text": [
      "    epoch          : 56\n",
      "    loss           : 0.2027769347559547\n",
      "    accuracy       : 0.9373738722697056\n",
      "    f1             : 0.9376763970057655\n",
      "    balanced_accuracy: 0.9491697628546147\n",
      "    precision      : 0.9419966648911275\n",
      "    recall         : 0.9373738722697056\n",
      "    val_loss       : 0.8338092294606295\n",
      "    val_accuracy   : 0.7457553475935829\n",
      "    val_f1         : 0.7463011040910674\n",
      "    val_balanced_accuracy: 0.7317562254060568\n",
      "    val_precision  : 0.7609172099574814\n",
      "    val_recall     : 0.7457553475935829\n"
     ]
    },
    {
     "name": "stdout",
     "output_type": "stream",
     "text": [
      "Model has not improved in -------------| 19 epochs\n"
     ]
    },
    {
     "name": "stderr",
     "output_type": "stream",
     "text": [
      "    epoch          : 57\n",
      "    loss           : 0.19536895999032208\n",
      "    accuracy       : 0.9410750322208656\n",
      "    f1             : 0.9414140410310305\n",
      "    balanced_accuracy: 0.9524741833355774\n",
      "    precision      : 0.9454339012455215\n",
      "    recall         : 0.9410750322208656\n",
      "    val_loss       : 0.8144254630262201\n",
      "    val_accuracy   : 0.7537098930481283\n",
      "    val_f1         : 0.7548244315198489\n",
      "    val_balanced_accuracy: 0.7456126273217362\n",
      "    val_precision  : 0.7679209188942082\n",
      "    val_recall     : 0.7537098930481283\n"
     ]
    },
    {
     "name": "stdout",
     "output_type": "stream",
     "text": [
      "Model has not improved in -------------| 20 epochs\n"
     ]
    },
    {
     "name": "stderr",
     "output_type": "stream",
     "text": [
      "    epoch          : 58\n",
      "    loss           : 0.1927663982005492\n",
      "    accuracy       : 0.9424772758106091\n",
      "    f1             : 0.9428432624848219\n",
      "    balanced_accuracy: 0.9533884956360188\n",
      "    precision      : 0.9471063644117462\n",
      "    recall         : 0.9424772758106091\n",
      "    val_loss       : 0.8262989683584734\n",
      "    val_accuracy   : 0.7492479946524064\n",
      "    val_f1         : 0.7481167533754339\n",
      "    val_balanced_accuracy: 0.7366999292165733\n",
      "    val_precision  : 0.7621128146327812\n",
      "    val_recall     : 0.7492479946524064\n"
     ]
    },
    {
     "name": "stdout",
     "output_type": "stream",
     "text": [
      "Model has not improved in -------------| 21 epochs\n"
     ]
    },
    {
     "name": "stderr",
     "output_type": "stream",
     "text": [
      "    epoch          : 59\n",
      "    loss           : 0.1872264211212759\n",
      "    accuracy       : 0.9447973901098901\n",
      "    f1             : 0.9451540182736725\n",
      "    balanced_accuracy: 0.9553837069429626\n",
      "    precision      : 0.9491817102143792\n",
      "    recall         : 0.9447973901098901\n",
      "    val_loss       : 0.8715478133071553\n",
      "    val_accuracy   : 0.7426387032085561\n",
      "    val_f1         : 0.7423799116899011\n",
      "    val_balanced_accuracy: 0.724340649166738\n",
      "    val_precision  : 0.7559421096763536\n",
      "    val_recall     : 0.7426387032085561\n"
     ]
    },
    {
     "name": "stdout",
     "output_type": "stream",
     "text": [
      "Model has not improved in -------------| 22 epochs\n"
     ]
    },
    {
     "name": "stderr",
     "output_type": "stream",
     "text": [
      "    epoch          : 60\n",
      "    loss           : 0.18554477222600407\n",
      "    accuracy       : 0.9455488570071904\n",
      "    f1             : 0.9459022720827535\n",
      "    balanced_accuracy: 0.9561488211998626\n",
      "    precision      : 0.9497720403036033\n",
      "    recall         : 0.9455488570071904\n",
      "    val_loss       : 0.8497852314602244\n",
      "    val_accuracy   : 0.7447944518716577\n",
      "    val_f1         : 0.7438189269945987\n",
      "    val_balanced_accuracy: 0.7276937660001578\n",
      "    val_precision  : 0.7564862318212756\n",
      "    val_recall     : 0.7447944518716577\n"
     ]
    },
    {
     "name": "stdout",
     "output_type": "stream",
     "text": [
      "Model has not improved in -------------| 23 epochs\n"
     ]
    },
    {
     "name": "stderr",
     "output_type": "stream",
     "text": [
      "    epoch          : 61\n",
      "    loss           : 0.18077693328315958\n",
      "    accuracy       : 0.9467147435897436\n",
      "    f1             : 0.9470633095236409\n",
      "    balanced_accuracy: 0.9569916856224593\n",
      "    precision      : 0.950952963021803\n",
      "    recall         : 0.9467147435897436\n",
      "    val_loss       : 0.8477881940928372\n",
      "    val_accuracy   : 0.7416861631016042\n",
      "    val_f1         : 0.7412110425077684\n",
      "    val_balanced_accuracy: 0.7279339212255004\n",
      "    val_precision  : 0.7537667062691871\n",
      "    val_recall     : 0.7416861631016042\n"
     ]
    },
    {
     "name": "stdout",
     "output_type": "stream",
     "text": [
      "Model has not improved in -------------| 24 epochs\n"
     ]
    },
    {
     "name": "stderr",
     "output_type": "stream",
     "text": [
      "    epoch          : 62\n",
      "    loss           : 0.17844755686501151\n",
      "    accuracy       : 0.9478785103785103\n",
      "    f1             : 0.9482489827306305\n",
      "    balanced_accuracy: 0.958410629661397\n",
      "    precision      : 0.952151744402455\n",
      "    recall         : 0.9478785103785103\n",
      "    val_loss       : 0.836368144642223\n",
      "    val_accuracy   : 0.7485628342245989\n",
      "    val_f1         : 0.7489848006790126\n",
      "    val_balanced_accuracy: 0.7344020009941051\n",
      "    val_precision  : 0.7630220480322073\n",
      "    val_recall     : 0.7485628342245989\n"
     ]
    },
    {
     "name": "stdout",
     "output_type": "stream",
     "text": [
      "Model has not improved in -------------| 25 epochs\n"
     ]
    },
    {
     "name": "stderr",
     "output_type": "stream",
     "text": [
      "    epoch          : 63\n",
      "    loss           : 0.17481179846512093\n",
      "    accuracy       : 0.9492171601546601\n",
      "    f1             : 0.9496070246669002\n",
      "    balanced_accuracy: 0.9595020435071064\n",
      "    precision      : 0.9534304527834525\n",
      "    recall         : 0.9492171601546601\n",
      "    val_loss       : 0.8576537522402676\n",
      "    val_accuracy   : 0.7416945187165777\n",
      "    val_f1         : 0.7424373749136579\n",
      "    val_balanced_accuracy: 0.7265653076985817\n",
      "    val_precision  : 0.7572023539824829\n",
      "    val_recall     : 0.7416945187165777\n"
     ]
    },
    {
     "name": "stdout",
     "output_type": "stream",
     "text": [
      "Model has not improved in -------------| 26 epochs\n"
     ]
    },
    {
     "name": "stderr",
     "output_type": "stream",
     "text": [
      "    epoch          : 64\n",
      "    loss           : 0.17283175122424943\n",
      "    accuracy       : 0.9524222883597883\n",
      "    f1             : 0.9528665707104765\n",
      "    balanced_accuracy: 0.9617725583887222\n",
      "    precision      : 0.9563930475423145\n",
      "    recall         : 0.9524222883597883\n",
      "    val_loss       : 0.8513304829597473\n",
      "    val_accuracy   : 0.7422961229946524\n",
      "    val_f1         : 0.7432712181357065\n",
      "    val_balanced_accuracy: 0.7282235018778419\n",
      "    val_precision  : 0.7560596871162615\n",
      "    val_recall     : 0.7422961229946524\n"
     ]
    },
    {
     "name": "stdout",
     "output_type": "stream",
     "text": [
      "Model has not improved in -------------| 27 epochs\n"
     ]
    },
    {
     "name": "stderr",
     "output_type": "stream",
     "text": [
      "    epoch          : 65\n",
      "    loss           : 0.1688366991732729\n",
      "    accuracy       : 0.9530327889702889\n",
      "    f1             : 0.9533673888450026\n",
      "    balanced_accuracy: 0.9625644263997705\n",
      "    precision      : 0.9567110300333133\n",
      "    recall         : 0.9530327889702889\n",
      "    val_loss       : 0.8640656438740817\n",
      "    val_accuracy   : 0.7385945855614974\n",
      "    val_f1         : 0.7371538242950566\n",
      "    val_balanced_accuracy: 0.7225866087404363\n",
      "    val_precision  : 0.7492036643195734\n",
      "    val_recall     : 0.7385945855614974\n"
     ]
    },
    {
     "name": "stdout",
     "output_type": "stream",
     "text": [
      "Model has not improved in -------------| 28 epochs\n"
     ]
    },
    {
     "name": "stderr",
     "output_type": "stream",
     "text": [
      "    epoch          : 66\n",
      "    loss           : 0.16494829353213455\n",
      "    accuracy       : 0.9548664105955773\n",
      "    f1             : 0.9551692535988633\n",
      "    balanced_accuracy: 0.9642970425179764\n",
      "    precision      : 0.958502927424944\n",
      "    recall         : 0.9548664105955773\n",
      "    val_loss       : 0.8609674724665555\n",
      "    val_accuracy   : 0.7401403743315509\n",
      "    val_f1         : 0.7398530344608036\n",
      "    val_balanced_accuracy: 0.7235773407348538\n",
      "    val_precision  : 0.7528720411515217\n",
      "    val_recall     : 0.7401403743315509\n"
     ]
    },
    {
     "name": "stdout",
     "output_type": "stream",
     "text": [
      "Model has not improved in -------------| 29 epochs\n"
     ]
    },
    {
     "name": "stderr",
     "output_type": "stream",
     "text": [
      "    epoch          : 67\n",
      "    loss           : 0.16439139502752978\n",
      "    accuracy       : 0.955016915954416\n",
      "    f1             : 0.9552004772079767\n",
      "    balanced_accuracy: 0.9641733860582751\n",
      "    precision      : 0.9584145624926014\n",
      "    recall         : 0.955016915954416\n",
      "    val_loss       : 0.8568867802619934\n",
      "    val_accuracy   : 0.7469836229946525\n",
      "    val_f1         : 0.7465943318631147\n",
      "    val_balanced_accuracy: 0.7301639634206909\n",
      "    val_precision  : 0.7592936242666829\n",
      "    val_recall     : 0.7469836229946525\n"
     ]
    },
    {
     "name": "stdout",
     "output_type": "stream",
     "text": [
      "Model has not improved in -------------| 30 epochs\n"
     ]
    },
    {
     "name": "stderr",
     "output_type": "stream",
     "text": [
      "    epoch          : 68\n",
      "    loss           : 0.1622014312990128\n",
      "    accuracy       : 0.9555839607922941\n",
      "    f1             : 0.9557685054597341\n",
      "    balanced_accuracy: 0.9647546087271847\n",
      "    precision      : 0.9588784170415048\n",
      "    recall         : 0.9555839607922941\n",
      "    val_loss       : 0.8518956368619746\n",
      "    val_accuracy   : 0.7420120320855615\n",
      "    val_f1         : 0.741885029069417\n",
      "    val_balanced_accuracy: 0.7260103948996625\n",
      "    val_precision  : 0.7543084384098614\n",
      "    val_recall     : 0.7420120320855615\n"
     ]
    },
    {
     "name": "stdout",
     "output_type": "stream",
     "text": [
      "Model has not improved in -------------| 31 epochs\n"
     ]
    },
    {
     "name": "stderr",
     "output_type": "stream",
     "text": [
      "    epoch          : 69\n",
      "    loss           : 0.16132403161463138\n",
      "    accuracy       : 0.9568547771672772\n",
      "    f1             : 0.9570640605319952\n",
      "    balanced_accuracy: 0.9657521375942477\n",
      "    precision      : 0.9599849105046444\n",
      "    recall         : 0.9568547771672772\n",
      "    val_loss       : 0.862489704652266\n",
      "    val_accuracy   : 0.7403241978609626\n",
      "    val_f1         : 0.7407311472924315\n",
      "    val_balanced_accuracy: 0.7231367534432097\n",
      "    val_precision  : 0.7549906293016656\n",
      "    val_recall     : 0.7403241978609626\n"
     ]
    },
    {
     "name": "stdout",
     "output_type": "stream",
     "text": [
      "Model has not improved in -------------| 32 epochs\n"
     ]
    },
    {
     "name": "stderr",
     "output_type": "stream",
     "text": [
      "    epoch          : 70\n",
      "    loss           : 0.1619959945934887\n",
      "    accuracy       : 0.9560301773843441\n",
      "    f1             : 0.9563390854479068\n",
      "    balanced_accuracy: 0.965329633741203\n",
      "    precision      : 0.9596370782713708\n",
      "    recall         : 0.9560301773843441\n",
      "    val_loss       : 0.876295104893771\n",
      "    val_accuracy   : 0.7402322860962567\n",
      "    val_f1         : 0.739354704148976\n",
      "    val_balanced_accuracy: 0.7233020457381553\n",
      "    val_precision  : 0.7523874628788901\n",
      "    val_recall     : 0.7402322860962567\n"
     ]
    },
    {
     "name": "stdout",
     "output_type": "stream",
     "text": [
      "Model has not improved in -------------| 33 epochs\n"
     ]
    },
    {
     "name": "stderr",
     "output_type": "stream",
     "text": [
      "    epoch          : 71\n",
      "    loss           : 0.16122203534048266\n",
      "    accuracy       : 0.9566311389228056\n",
      "    f1             : 0.956918807224136\n",
      "    balanced_accuracy: 0.9655336599602224\n",
      "    precision      : 0.9600998451214893\n",
      "    recall         : 0.9566311389228056\n",
      "    val_loss       : 0.8696000478484414\n",
      "    val_accuracy   : 0.7407336229946524\n",
      "    val_f1         : 0.7421137554825972\n",
      "    val_balanced_accuracy: 0.7320666421244596\n",
      "    val_precision  : 0.7563815810224485\n",
      "    val_recall     : 0.7407336229946524\n"
     ]
    },
    {
     "name": "stdout",
     "output_type": "stream",
     "text": [
      "Model has not improved in -------------| 34 epochs\n"
     ]
    },
    {
     "name": "stderr",
     "output_type": "stream",
     "text": [
      "    epoch          : 72\n",
      "    loss           : 0.15874213855417948\n",
      "    accuracy       : 0.9581807081807082\n",
      "    f1             : 0.958455329053525\n",
      "    balanced_accuracy: 0.966869212647629\n",
      "    precision      : 0.961474078831417\n",
      "    recall         : 0.9581807081807082\n",
      "    val_loss       : 0.8688981966538862\n",
      "    val_accuracy   : 0.7453459224598931\n",
      "    val_f1         : 0.7453568879080461\n",
      "    val_balanced_accuracy: 0.7259567248094059\n",
      "    val_precision  : 0.757894448315069\n",
      "    val_recall     : 0.7453459224598931\n"
     ]
    },
    {
     "name": "stdout",
     "output_type": "stream",
     "text": [
      "Model has not improved in -------------| 35 epochs\n"
     ]
    },
    {
     "name": "stderr",
     "output_type": "stream",
     "text": [
      "    epoch          : 73\n",
      "    loss           : 0.15928037608353937\n",
      "    accuracy       : 0.9578309422059421\n",
      "    f1             : 0.958211118477695\n",
      "    balanced_accuracy: 0.9662223496632388\n",
      "    precision      : 0.9612939105207825\n",
      "    recall         : 0.9578309422059421\n",
      "    val_loss       : 0.8934637394818392\n",
      "    val_accuracy   : 0.7370989304812834\n",
      "    val_f1         : 0.7379556897400485\n",
      "    val_balanced_accuracy: 0.7187450477847795\n",
      "    val_precision  : 0.7513099791214853\n",
      "    val_recall     : 0.7370989304812834\n"
     ]
    },
    {
     "name": "stdout",
     "output_type": "stream",
     "text": [
      "Model has not improved in -------------| 36 epochs\n"
     ]
    },
    {
     "name": "stderr",
     "output_type": "stream",
     "text": [
      "    epoch          : 74\n",
      "    loss           : 0.15721647455942644\n",
      "    accuracy       : 0.958078958078958\n",
      "    f1             : 0.9584305973401485\n",
      "    balanced_accuracy: 0.9667533108198201\n",
      "    precision      : 0.9615382959800122\n",
      "    recall         : 0.958078958078958\n",
      "    val_loss       : 0.8718329137021845\n",
      "    val_accuracy   : 0.7357035427807486\n",
      "    val_f1         : 0.7354290053013833\n",
      "    val_balanced_accuracy: 0.7256050282379723\n",
      "    val_precision  : 0.7493832911128946\n",
      "    val_recall     : 0.7357035427807486\n"
     ]
    },
    {
     "name": "stdout",
     "output_type": "stream",
     "text": [
      "Model has not improved in -------------| 37 epochs\n"
     ]
    },
    {
     "name": "stderr",
     "output_type": "stream",
     "text": [
      "    epoch          : 75\n",
      "    loss           : 0.15631356781692005\n",
      "    accuracy       : 0.958953373015873\n",
      "    f1             : 0.9592217973476899\n",
      "    balanced_accuracy: 0.9674724915763396\n",
      "    precision      : 0.9621795498718513\n",
      "    recall         : 0.958953373015873\n",
      "    val_loss       : 0.8646860772913153\n",
      "    val_accuracy   : 0.7465909090909091\n",
      "    val_f1         : 0.7479081048994779\n",
      "    val_balanced_accuracy: 0.7301927884514694\n",
      "    val_precision  : 0.7614938484475008\n",
      "    val_recall     : 0.7465909090909091\n"
     ]
    },
    {
     "name": "stdout",
     "output_type": "stream",
     "text": [
      "Model has not improved in -------------| 38 epochs\n",
      "=> loading C:/Users/awoloshu/Documents/NephNet/saved/kfold_test_NOTESTDATA\\1217_004005\\model_best.pth\n",
      "Running forward pass on holdout set of size: 34904\n",
      "Complete: 99.7%\n",
      "Accuracy: 0.7471\n",
      "\n",
      "=======FOLD 4 / 4 ========\n",
      "GPUs available: 1\n",
      "Train size: 104718 104718\n",
      "Holdout size: 34899 34899\n",
      "Val size (subset of holdout): 6979 6979\n"
     ]
    },
    {
     "name": "stderr",
     "output_type": "stream",
     "text": [
      "C:\\Users\\awoloshu\\Documents\\pytorch36\\lib\\site-packages\\sklearn\\metrics\\classification.py:1437: UndefinedMetricWarning: F-score is ill-defined and being set to 0.0 in labels with no predicted samples.\n",
      "  'precision', 'predicted', average, warn_for)\n",
      "C:\\Users\\awoloshu\\Documents\\pytorch36\\lib\\site-packages\\sklearn\\metrics\\classification.py:1437: UndefinedMetricWarning: Precision is ill-defined and being set to 0.0 in labels with no predicted samples.\n",
      "  'precision', 'predicted', average, warn_for)\n",
      "C:\\Users\\awoloshu\\Documents\\pytorch36\\lib\\site-packages\\sklearn\\metrics\\classification.py:1439: UndefinedMetricWarning: F-score is ill-defined and being set to 0.0 in labels with no true samples.\n",
      "  'recall', 'true', average, warn_for)\n",
      "C:\\Users\\awoloshu\\Documents\\pytorch36\\lib\\site-packages\\sklearn\\metrics\\classification.py:1745: UserWarning: y_pred contains classes not in y_true\n",
      "  warnings.warn('y_pred contains classes not in y_true')\n",
      "C:\\Users\\awoloshu\\Documents\\pytorch36\\lib\\site-packages\\sklearn\\metrics\\classification.py:1439: UndefinedMetricWarning: Recall is ill-defined and being set to 0.0 in labels with no true samples.\n",
      "  'recall', 'true', average, warn_for)\n",
      "    epoch          : 1\n",
      "    loss           : 1.6009237642544385\n",
      "    accuracy       : 0.38899109323216463\n",
      "    f1             : 0.38397151531743967\n",
      "    balanced_accuracy: 0.3827332673847112\n",
      "    precision      : 0.41780574890944683\n",
      "    recall         : 0.38899109323216463\n",
      "    val_loss       : 1.4932582248340953\n",
      "    val_accuracy   : 0.4376102442333785\n",
      "    val_f1         : 0.43204941408098774\n",
      "    val_balanced_accuracy: 0.41455370600627034\n",
      "    val_precision  : 0.4767884439693479\n",
      "    val_recall     : 0.4376102442333785\n"
     ]
    },
    {
     "name": "stdout",
     "output_type": "stream",
     "text": [
      "Model best! ---------------------------| \n"
     ]
    },
    {
     "name": "stderr",
     "output_type": "stream",
     "text": [
      "Saving checkpoint: C:/Users/awoloshu/Documents/NephNet/saved/kfold_test_NOTESTDATA\\1217_054819\\checkpoint-epoch1.pth ...\n",
      "Saving current best: model_best.pth ...\n",
      "    epoch          : 2\n",
      "    loss           : 1.3132268415993678\n",
      "    accuracy       : 0.5012905001744288\n",
      "    f1             : 0.4993902125572964\n",
      "    balanced_accuracy: 0.5001879173304189\n",
      "    precision      : 0.5300419147089064\n",
      "    recall         : 0.5012905001744288\n",
      "    val_loss       : 1.5047924930399115\n",
      "    val_accuracy   : 0.44557751017639075\n",
      "    val_f1         : 0.43289540796837905\n",
      "    val_balanced_accuracy: 0.4207740537206187\n",
      "    val_precision  : 0.49710209910539527\n",
      "    val_recall     : 0.44557751017639075\n"
     ]
    },
    {
     "name": "stdout",
     "output_type": "stream",
     "text": [
      "Model has not improved in -------------| 1 epochs\n"
     ]
    },
    {
     "name": "stderr",
     "output_type": "stream",
     "text": [
      "    epoch          : 3\n",
      "    loss           : 1.187916074844216\n",
      "    accuracy       : 0.556014793738008\n",
      "    f1             : 0.5576904185128352\n",
      "    balanced_accuracy: 0.559529007921077\n",
      "    precision      : 0.5857145951510478\n",
      "    recall         : 0.556014793738008\n",
      "    val_loss       : 1.338701029257341\n",
      "    val_accuracy   : 0.5002650101763908\n",
      "    val_f1         : 0.48703968325887315\n",
      "    val_balanced_accuracy: 0.49277251555313123\n",
      "    val_precision  : 0.5537173057124782\n",
      "    val_recall     : 0.5002650101763908\n"
     ]
    },
    {
     "name": "stdout",
     "output_type": "stream",
     "text": [
      "Model best! ---------------------------| \n"
     ]
    },
    {
     "name": "stderr",
     "output_type": "stream",
     "text": [
      "Saving checkpoint: C:/Users/awoloshu/Documents/NephNet/saved/kfold_test_NOTESTDATA\\1217_054819\\checkpoint-epoch3.pth ...\n",
      "Saving current best: model_best.pth ...\n",
      "    epoch          : 4\n",
      "    loss           : 1.1233959096837538\n",
      "    accuracy       : 0.5841714089481946\n",
      "    f1             : 0.5869406562129988\n",
      "    balanced_accuracy: 0.5893473888686326\n",
      "    precision      : 0.6144032016509366\n",
      "    recall         : 0.5841714089481946\n",
      "    val_loss       : 1.8252994580702349\n",
      "    val_accuracy   : 0.4140412991858887\n",
      "    val_f1         : 0.40076158281595653\n",
      "    val_balanced_accuracy: 0.38802377355094597\n",
      "    val_precision  : 0.4869941135429313\n",
      "    val_recall     : 0.4140412991858887\n"
     ]
    },
    {
     "name": "stdout",
     "output_type": "stream",
     "text": [
      "Model has not improved in -------------| 1 epochs\n"
     ]
    },
    {
     "name": "stderr",
     "output_type": "stream",
     "text": [
      "    epoch          : 5\n",
      "    loss           : 1.0827154424018766\n",
      "    accuracy       : 0.6002529216814931\n",
      "    f1             : 0.6033257865824883\n",
      "    balanced_accuracy: 0.6072016303722126\n",
      "    precision      : 0.6311291349555752\n",
      "    recall         : 0.6002529216814931\n",
      "    val_loss       : 1.6124743374911221\n",
      "    val_accuracy   : 0.39747286295793754\n",
      "    val_f1         : 0.33568217876044487\n",
      "    val_balanced_accuracy: 0.41664674352189984\n",
      "    val_precision  : 0.47277128036945354\n",
      "    val_recall     : 0.39747286295793754\n"
     ]
    },
    {
     "name": "stdout",
     "output_type": "stream",
     "text": [
      "Model has not improved in -------------| 2 epochs\n"
     ]
    },
    {
     "name": "stderr",
     "output_type": "stream",
     "text": [
      "    epoch          : 6\n",
      "    loss           : 1.05872226380021\n",
      "    accuracy       : 0.6112678244374673\n",
      "    f1             : 0.6148015634556242\n",
      "    balanced_accuracy: 0.6174441037911897\n",
      "    precision      : 0.6420677465504269\n",
      "    recall         : 0.6112678244374673\n",
      "    val_loss       : 2.2685775908556853\n",
      "    val_accuracy   : 0.32260218792401624\n",
      "    val_f1         : 0.29168509573989637\n",
      "    val_balanced_accuracy: 0.3234938048164835\n",
      "    val_precision  : 0.4501420579797476\n",
      "    val_recall     : 0.32260218792401624\n"
     ]
    },
    {
     "name": "stdout",
     "output_type": "stream",
     "text": [
      "Model has not improved in -------------| 3 epochs\n"
     ]
    },
    {
     "name": "stderr",
     "output_type": "stream",
     "text": [
      "    epoch          : 7\n",
      "    loss           : 1.0448264060439645\n",
      "    accuracy       : 0.6192234105180534\n",
      "    f1             : 0.6229358653541739\n",
      "    balanced_accuracy: 0.6250801692153056\n",
      "    precision      : 0.6509499299568577\n",
      "    recall         : 0.6192234105180534\n",
      "    val_loss       : 1.203760820085352\n",
      "    val_accuracy   : 0.5411868215739484\n",
      "    val_f1         : 0.5452012498973885\n",
      "    val_balanced_accuracy: 0.5416569229148877\n",
      "    val_precision  : 0.6028866442060327\n",
      "    val_recall     : 0.5411868215739484\n"
     ]
    },
    {
     "name": "stdout",
     "output_type": "stream",
     "text": [
      "Model best! ---------------------------| \n"
     ]
    },
    {
     "name": "stderr",
     "output_type": "stream",
     "text": [
      "Saving checkpoint: C:/Users/awoloshu/Documents/NephNet/saved/kfold_test_NOTESTDATA\\1217_054819\\checkpoint-epoch7.pth ...\n",
      "Saving current best: model_best.pth ...\n",
      "    epoch          : 8\n",
      "    loss           : 1.0320561202891143\n",
      "    accuracy       : 0.624604809872667\n",
      "    f1             : 0.6283328975040432\n",
      "    balanced_accuracy: 0.6309957152694918\n",
      "    precision      : 0.6559912030450888\n",
      "    recall         : 0.624604809872667\n",
      "    val_loss       : 1.3659715782512318\n",
      "    val_accuracy   : 0.4751611261872456\n",
      "    val_f1         : 0.46629314072054473\n",
      "    val_balanced_accuracy: 0.48213074630449737\n",
      "    val_precision  : 0.5944298431488222\n",
      "    val_recall     : 0.4751611261872456\n"
     ]
    },
    {
     "name": "stdout",
     "output_type": "stream",
     "text": [
      "Model has not improved in -------------| 1 epochs\n"
     ]
    },
    {
     "name": "stderr",
     "output_type": "stream",
     "text": [
      "    epoch          : 9\n",
      "    loss           : 1.0212784897858989\n",
      "    accuracy       : 0.625280721262864\n",
      "    f1             : 0.6287198925940264\n",
      "    balanced_accuracy: 0.6325244187132716\n",
      "    precision      : 0.6558151042593978\n",
      "    recall         : 0.625280721262864\n",
      "    val_loss       : 1.568929386138916\n",
      "    val_accuracy   : 0.44460863297150616\n",
      "    val_f1         : 0.43803881585094\n",
      "    val_balanced_accuracy: 0.43301943731687503\n",
      "    val_precision  : 0.5651511994165562\n",
      "    val_recall     : 0.44460863297150616\n"
     ]
    },
    {
     "name": "stdout",
     "output_type": "stream",
     "text": [
      "Model has not improved in -------------| 2 epochs\n"
     ]
    },
    {
     "name": "stderr",
     "output_type": "stream",
     "text": [
      "    epoch          : 10\n",
      "    loss           : 1.01289596924415\n",
      "    accuracy       : 0.6307643249607535\n",
      "    f1             : 0.6348779065745691\n",
      "    balanced_accuracy: 0.637382623674144\n",
      "    precision      : 0.6629426905762863\n",
      "    recall         : 0.6307643249607535\n",
      "    val_loss       : 1.3238617311824452\n",
      "    val_accuracy   : 0.5284027306648575\n",
      "    val_f1         : 0.5168551934105068\n",
      "    val_balanced_accuracy: 0.5163604906064982\n",
      "    val_precision  : 0.5972328785878765\n",
      "    val_recall     : 0.5284027306648575\n"
     ]
    },
    {
     "name": "stdout",
     "output_type": "stream",
     "text": [
      "Model has not improved in -------------| 3 epochs\n"
     ]
    },
    {
     "name": "stderr",
     "output_type": "stream",
     "text": [
      "    epoch          : 11\n",
      "    loss           : 1.0041386113207564\n",
      "    accuracy       : 0.6344395931449504\n",
      "    f1             : 0.6381920369451424\n",
      "    balanced_accuracy: 0.6385319981761785\n",
      "    precision      : 0.6647862152900259\n",
      "    recall         : 0.6344395931449504\n",
      "    val_loss       : 2.326690580628135\n",
      "    val_accuracy   : 0.34847990162822257\n",
      "    val_f1         : 0.3066988286853629\n",
      "    val_balanced_accuracy: 0.385481126469942\n",
      "    val_precision  : 0.388289320965045\n",
      "    val_recall     : 0.34847990162822257\n"
     ]
    },
    {
     "name": "stdout",
     "output_type": "stream",
     "text": [
      "Model has not improved in -------------| 4 epochs\n"
     ]
    },
    {
     "name": "stderr",
     "output_type": "stream",
     "text": [
      "    epoch          : 12\n",
      "    loss           : 0.9983206609666566\n",
      "    accuracy       : 0.6362288505145648\n",
      "    f1             : 0.6399047657002411\n",
      "    balanced_accuracy: 0.6432424705157018\n",
      "    precision      : 0.6667977341213183\n",
      "    recall         : 0.6362288505145648\n",
      "    val_loss       : 1.635404348373413\n",
      "    val_accuracy   : 0.3984162991858887\n",
      "    val_f1         : 0.3679417215207822\n",
      "    val_balanced_accuracy: 0.4443015849505327\n",
      "    val_precision  : 0.4957513779919321\n",
      "    val_recall     : 0.3984162991858887\n"
     ]
    },
    {
     "name": "stdout",
     "output_type": "stream",
     "text": [
      "Model has not improved in -------------| 5 epochs\n"
     ]
    },
    {
     "name": "stderr",
     "output_type": "stream",
     "text": [
      "    epoch          : 13\n",
      "    loss           : 0.9941238430539039\n",
      "    accuracy       : 0.6376201923076923\n",
      "    f1             : 0.6412685035508828\n",
      "    balanced_accuracy: 0.6445815846867015\n",
      "    precision      : 0.6682375299022767\n",
      "    recall         : 0.6376201923076923\n",
      "    val_loss       : 1.483218216896057\n",
      "    val_accuracy   : 0.5101043080054274\n",
      "    val_f1         : 0.4597170493011806\n",
      "    val_balanced_accuracy: 0.4615330965126663\n",
      "    val_precision  : 0.5642769018445523\n",
      "    val_recall     : 0.5101043080054274\n"
     ]
    },
    {
     "name": "stdout",
     "output_type": "stream",
     "text": [
      "Model has not improved in -------------| 6 epochs\n"
     ]
    },
    {
     "name": "stderr",
     "output_type": "stream",
     "text": [
      "    epoch          : 14\n",
      "    loss           : 0.9876107517470661\n",
      "    accuracy       : 0.6399000305250305\n",
      "    f1             : 0.6434798354513981\n",
      "    balanced_accuracy: 0.6452755565486645\n",
      "    precision      : 0.6696825201669023\n",
      "    recall         : 0.6399000305250305\n",
      "    val_loss       : 3.0317685083909467\n",
      "    val_accuracy   : 0.21548507462686567\n",
      "    val_f1         : 0.18226507086943125\n",
      "    val_balanced_accuracy: 0.2309565640043914\n",
      "    val_precision  : 0.38006512289548955\n",
      "    val_recall     : 0.21548507462686567\n"
     ]
    },
    {
     "name": "stdout",
     "output_type": "stream",
     "text": [
      "Model has not improved in -------------| 7 epochs\n"
     ]
    },
    {
     "name": "stderr",
     "output_type": "stream",
     "text": [
      "    epoch          : 15\n",
      "    loss           : 0.9880327791230291\n",
      "    accuracy       : 0.6406508917669632\n",
      "    f1             : 0.6444516615424368\n",
      "    balanced_accuracy: 0.6491472875413091\n",
      "    precision      : 0.672019232834917\n",
      "    recall         : 0.6406508917669632\n",
      "    val_loss       : 1.212277906591242\n",
      "    val_accuracy   : 0.59640434192673\n",
      "    val_f1         : 0.567918805072515\n",
      "    val_balanced_accuracy: 0.575893045290438\n",
      "    val_precision  : 0.6341881901363654\n",
      "    val_recall     : 0.59640434192673\n"
     ]
    },
    {
     "name": "stdout",
     "output_type": "stream",
     "text": [
      "Model has not improved in -------------| 8 epochs\n"
     ]
    },
    {
     "name": "stderr",
     "output_type": "stream",
     "text": [
      "    epoch          : 16\n",
      "    loss           : 0.9812022453408247\n",
      "    accuracy       : 0.6423910910518054\n",
      "    f1             : 0.6463798612206253\n",
      "    balanced_accuracy: 0.6483691743804255\n",
      "    precision      : 0.673454905118683\n",
      "    recall         : 0.6423910910518054\n",
      "    val_loss       : 1.7760951865803112\n",
      "    val_accuracy   : 0.3653705902306648\n",
      "    val_f1         : 0.34247865872007976\n",
      "    val_balanced_accuracy: 0.38632560533931154\n",
      "    val_precision  : 0.5604793704094686\n",
      "    val_recall     : 0.3653705902306648\n"
     ]
    },
    {
     "name": "stdout",
     "output_type": "stream",
     "text": [
      "Model has not improved in -------------| 9 epochs\n"
     ]
    },
    {
     "name": "stderr",
     "output_type": "stream",
     "text": [
      "    epoch          : 17\n",
      "    loss           : 0.8480280476903158\n",
      "    accuracy       : 0.6946202359148788\n",
      "    f1             : 0.6977565462369377\n",
      "    balanced_accuracy: 0.7028342343236788\n",
      "    precision      : 0.7201043472912239\n",
      "    recall         : 0.6946202359148788\n",
      "    val_loss       : 1.0205263809724288\n",
      "    val_accuracy   : 0.6431521370420624\n",
      "    val_f1         : 0.6484073673322646\n",
      "    val_balanced_accuracy: 0.6310881851219523\n",
      "    val_precision  : 0.7017304212434068\n",
      "    val_recall     : 0.6431521370420624\n"
     ]
    },
    {
     "name": "stdout",
     "output_type": "stream",
     "text": [
      "Model best! ---------------------------| \n"
     ]
    },
    {
     "name": "stderr",
     "output_type": "stream",
     "text": [
      "Saving checkpoint: C:/Users/awoloshu/Documents/NephNet/saved/kfold_test_NOTESTDATA\\1217_054819\\checkpoint-epoch17.pth ...\n",
      "Saving current best: model_best.pth ...\n",
      "    epoch          : 18\n",
      "    loss           : 0.8186473878457579\n",
      "    accuracy       : 0.7045967425431711\n",
      "    f1             : 0.7076429082931898\n",
      "    balanced_accuracy: 0.7131348781402126\n",
      "    precision      : 0.7300694520810844\n",
      "    recall         : 0.7045967425431711\n",
      "    val_loss       : 1.0669696341861379\n",
      "    val_accuracy   : 0.6220255257801899\n",
      "    val_f1         : 0.6097453518530533\n",
      "    val_balanced_accuracy: 0.595932795346138\n",
      "    val_precision  : 0.6688673171916104\n",
      "    val_recall     : 0.6220255257801899\n"
     ]
    },
    {
     "name": "stdout",
     "output_type": "stream",
     "text": [
      "Model has not improved in -------------| 1 epochs\n"
     ]
    },
    {
     "name": "stderr",
     "output_type": "stream",
     "text": [
      "    epoch          : 19\n",
      "    loss           : 0.816874920302986\n",
      "    accuracy       : 0.7029137776905634\n",
      "    f1             : 0.7060083230323645\n",
      "    balanced_accuracy: 0.710788382748381\n",
      "    precision      : 0.7283263966246095\n",
      "    recall         : 0.7029137776905634\n",
      "    val_loss       : 0.914787757396698\n",
      "    val_accuracy   : 0.6502544097693351\n",
      "    val_f1         : 0.6515318048694593\n",
      "    val_balanced_accuracy: 0.6628909982708382\n",
      "    val_precision  : 0.693844358216116\n",
      "    val_recall     : 0.6502544097693351\n"
     ]
    },
    {
     "name": "stdout",
     "output_type": "stream",
     "text": [
      "Model best! ---------------------------| \n"
     ]
    },
    {
     "name": "stderr",
     "output_type": "stream",
     "text": [
      "Saving checkpoint: C:/Users/awoloshu/Documents/NephNet/saved/kfold_test_NOTESTDATA\\1217_054819\\checkpoint-epoch19.pth ...\n",
      "Saving current best: model_best.pth ...\n",
      "    epoch          : 20\n",
      "    loss           : 0.813157048199203\n",
      "    accuracy       : 0.7055097680097681\n",
      "    f1             : 0.7085074120045448\n",
      "    balanced_accuracy: 0.7138268777519108\n",
      "    precision      : 0.7308025757962772\n",
      "    recall         : 0.7055097680097681\n",
      "    val_loss       : 1.1807884801517834\n",
      "    val_accuracy   : 0.5837495759837178\n",
      "    val_f1         : 0.5770279688151231\n",
      "    val_balanced_accuracy: 0.574762832753855\n",
      "    val_precision  : 0.6436984482440667\n",
      "    val_recall     : 0.5837495759837178\n"
     ]
    },
    {
     "name": "stdout",
     "output_type": "stream",
     "text": [
      "Model has not improved in -------------| 1 epochs\n"
     ]
    },
    {
     "name": "stderr",
     "output_type": "stream",
     "text": [
      "    epoch          : 21\n",
      "    loss           : 0.8078341309404199\n",
      "    accuracy       : 0.7070278431885575\n",
      "    f1             : 0.7100192615763843\n",
      "    balanced_accuracy: 0.7147565729126243\n",
      "    precision      : 0.7320491799808901\n",
      "    recall         : 0.7070278431885575\n",
      "    val_loss       : 1.206341401013461\n",
      "    val_accuracy   : 0.5428277645861601\n",
      "    val_f1         : 0.5520063760924676\n",
      "    val_balanced_accuracy: 0.5468364394596539\n",
      "    val_precision  : 0.6437041716039177\n",
      "    val_recall     : 0.5428277645861601\n"
     ]
    },
    {
     "name": "stdout",
     "output_type": "stream",
     "text": [
      "Model has not improved in -------------| 2 epochs\n"
     ]
    },
    {
     "name": "stderr",
     "output_type": "stream",
     "text": [
      "    epoch          : 22\n",
      "    loss           : 0.8050732691209395\n",
      "    accuracy       : 0.7079272414093842\n",
      "    f1             : 0.7109701048728255\n",
      "    balanced_accuracy: 0.7159755281296017\n",
      "    precision      : 0.7336646132701067\n",
      "    recall         : 0.7079272414093842\n",
      "    val_loss       : 1.0169716293161566\n",
      "    val_accuracy   : 0.6313348032564451\n",
      "    val_f1         : 0.632988492229019\n",
      "    val_balanced_accuracy: 0.6267023157597974\n",
      "    val_precision  : 0.6892801459276131\n",
      "    val_recall     : 0.6313348032564451\n"
     ]
    },
    {
     "name": "stdout",
     "output_type": "stream",
     "text": [
      "Model has not improved in -------------| 3 epochs\n"
     ]
    },
    {
     "name": "stderr",
     "output_type": "stream",
     "text": [
      "    epoch          : 23\n",
      "    loss           : 0.7998414011228652\n",
      "    accuracy       : 0.7092586233211233\n",
      "    f1             : 0.712223467384312\n",
      "    balanced_accuracy: 0.7174133818826919\n",
      "    precision      : 0.734496318756481\n",
      "    recall         : 0.7092586233211233\n",
      "    val_loss       : 1.5939672578464854\n",
      "    val_accuracy   : 0.5003031716417911\n",
      "    val_f1         : 0.5018951910467132\n",
      "    val_balanced_accuracy: 0.4730894116691534\n",
      "    val_precision  : 0.6314546069380826\n",
      "    val_recall     : 0.5003031716417911\n"
     ]
    },
    {
     "name": "stdout",
     "output_type": "stream",
     "text": [
      "Model has not improved in -------------| 4 epochs\n"
     ]
    },
    {
     "name": "stderr",
     "output_type": "stream",
     "text": [
      "    epoch          : 24\n",
      "    loss           : 0.8079936601157881\n",
      "    accuracy       : 0.7070414704343276\n",
      "    f1             : 0.7102300694273241\n",
      "    balanced_accuracy: 0.7157002693629876\n",
      "    precision      : 0.7328895993481891\n",
      "    recall         : 0.7070414704343276\n",
      "    val_loss       : 0.9184151367707686\n",
      "    val_accuracy   : 0.6720891282225238\n",
      "    val_f1         : 0.671442411963487\n",
      "    val_balanced_accuracy: 0.6583172124152434\n",
      "    val_precision  : 0.7015003719508177\n",
      "    val_recall     : 0.6720891282225238\n"
     ]
    },
    {
     "name": "stdout",
     "output_type": "stream",
     "text": [
      "Model has not improved in -------------| 5 epochs\n"
     ]
    },
    {
     "name": "stderr",
     "output_type": "stream",
     "text": [
      "    epoch          : 25\n",
      "    loss           : 0.7973738472103636\n",
      "    accuracy       : 0.7111241932670505\n",
      "    f1             : 0.7143703939172211\n",
      "    balanced_accuracy: 0.7194998637306187\n",
      "    precision      : 0.7369193216564492\n",
      "    recall         : 0.7111241932670505\n",
      "    val_loss       : 0.9891485192558982\n",
      "    val_accuracy   : 0.6311037143826324\n",
      "    val_f1         : 0.6348863502890173\n",
      "    val_balanced_accuracy: 0.6282531658686297\n",
      "    val_precision  : 0.6748576314005362\n",
      "    val_recall     : 0.6311037143826324\n"
     ]
    },
    {
     "name": "stdout",
     "output_type": "stream",
     "text": [
      "Model has not improved in -------------| 6 epochs\n"
     ]
    },
    {
     "name": "stderr",
     "output_type": "stream",
     "text": [
      "    epoch          : 26\n",
      "    loss           : 0.7898893306834648\n",
      "    accuracy       : 0.7149956937903366\n",
      "    f1             : 0.7180215101388998\n",
      "    balanced_accuracy: 0.72317184604335\n",
      "    precision      : 0.739957826879067\n",
      "    recall         : 0.7149956937903366\n",
      "    val_loss       : 1.1524890932169827\n",
      "    val_accuracy   : 0.5946997964721845\n",
      "    val_f1         : 0.5888213104058162\n",
      "    val_balanced_accuracy: 0.5922162915854535\n",
      "    val_precision  : 0.6287900633055389\n",
      "    val_recall     : 0.5946997964721845\n"
     ]
    },
    {
     "name": "stdout",
     "output_type": "stream",
     "text": [
      "Model has not improved in -------------| 7 epochs\n"
     ]
    },
    {
     "name": "stderr",
     "output_type": "stream",
     "text": [
      "    epoch          : 27\n",
      "    loss           : 0.7901779039875492\n",
      "    accuracy       : 0.7141426282051282\n",
      "    f1             : 0.7172735928444652\n",
      "    balanced_accuracy: 0.721580889389556\n",
      "    precision      : 0.7395317975079413\n",
      "    recall         : 0.7141426282051282\n",
      "    val_loss       : 1.459888510270552\n",
      "    val_accuracy   : 0.4660320556309362\n",
      "    val_f1         : 0.4361583091056638\n",
      "    val_balanced_accuracy: 0.5132399844959544\n",
      "    val_precision  : 0.5779631831386116\n",
      "    val_recall     : 0.4660320556309362\n"
     ]
    },
    {
     "name": "stdout",
     "output_type": "stream",
     "text": [
      "Model has not improved in -------------| 8 epochs\n"
     ]
    },
    {
     "name": "stderr",
     "output_type": "stream",
     "text": [
      "    epoch          : 28\n",
      "    loss           : 0.7861770674568102\n",
      "    accuracy       : 0.7163447911215769\n",
      "    f1             : 0.7193671076451215\n",
      "    balanced_accuracy: 0.7244258778474988\n",
      "    precision      : 0.7421863215657939\n",
      "    recall         : 0.7163447911215769\n",
      "    val_loss       : 1.1958280411633577\n",
      "    val_accuracy   : 0.5852357530529172\n",
      "    val_f1         : 0.5782703139745491\n",
      "    val_balanced_accuracy: 0.5709181715659662\n",
      "    val_precision  : 0.6367397476050479\n",
      "    val_recall     : 0.5852357530529172\n"
     ]
    },
    {
     "name": "stdout",
     "output_type": "stream",
     "text": [
      "Model has not improved in -------------| 9 epochs\n"
     ]
    },
    {
     "name": "stderr",
     "output_type": "stream",
     "text": [
      "    epoch          : 29\n",
      "    loss           : 0.6735403484258896\n",
      "    accuracy       : 0.7584557060003488\n",
      "    f1             : 0.76066990988866\n",
      "    balanced_accuracy: 0.7666542517761634\n",
      "    precision      : 0.7784371874270741\n",
      "    recall         : 0.7584557060003488\n",
      "    val_loss       : 0.7958102583885193\n",
      "    val_accuracy   : 0.707189196065129\n",
      "    val_f1         : 0.7057462195353823\n",
      "    val_balanced_accuracy: 0.7139530402977076\n",
      "    val_precision  : 0.7300564135648869\n",
      "    val_recall     : 0.707189196065129\n"
     ]
    },
    {
     "name": "stdout",
     "output_type": "stream",
     "text": [
      "Model best! ---------------------------| \n"
     ]
    },
    {
     "name": "stderr",
     "output_type": "stream",
     "text": [
      "Saving checkpoint: C:/Users/awoloshu/Documents/NephNet/saved/kfold_test_NOTESTDATA\\1217_054819\\checkpoint-epoch29.pth ...\n",
      "Saving current best: model_best.pth ...\n",
      "    epoch          : 30\n",
      "    loss           : 0.6451677759342869\n",
      "    accuracy       : 0.7691285648874934\n",
      "    f1             : 0.7713643387865602\n",
      "    balanced_accuracy: 0.7785673792181537\n",
      "    precision      : 0.7894307550374109\n",
      "    recall         : 0.7691285648874934\n",
      "    val_loss       : 0.8100915919650685\n",
      "    val_accuracy   : 0.7091375508819538\n",
      "    val_f1         : 0.7092526938378154\n",
      "    val_balanced_accuracy: 0.7039451587299869\n",
      "    val_precision  : 0.7409944006453985\n",
      "    val_recall     : 0.7091375508819538\n"
     ]
    },
    {
     "name": "stdout",
     "output_type": "stream",
     "text": [
      "Model has not improved in -------------| 1 epochs\n"
     ]
    },
    {
     "name": "stderr",
     "output_type": "stream",
     "text": [
      "    epoch          : 31\n",
      "    loss           : 0.6296344111617814\n",
      "    accuracy       : 0.7734742935635793\n",
      "    f1             : 0.775582562618521\n",
      "    balanced_accuracy: 0.7836920723358322\n",
      "    precision      : 0.7934789354305823\n",
      "    recall         : 0.7734742935635793\n",
      "    val_loss       : 0.7633870666677302\n",
      "    val_accuracy   : 0.7250742028493894\n",
      "    val_f1         : 0.7282697995177775\n",
      "    val_balanced_accuracy: 0.7216906463657692\n",
      "    val_precision  : 0.750459297787705\n",
      "    val_recall     : 0.7250742028493894\n"
     ]
    },
    {
     "name": "stdout",
     "output_type": "stream",
     "text": [
      "Model best! ---------------------------| \n"
     ]
    },
    {
     "name": "stderr",
     "output_type": "stream",
     "text": [
      "Saving checkpoint: C:/Users/awoloshu/Documents/NephNet/saved/kfold_test_NOTESTDATA\\1217_054819\\checkpoint-epoch31.pth ...\n",
      "Saving current best: model_best.pth ...\n",
      "    epoch          : 32\n",
      "    loss           : 0.6189479957788419\n",
      "    accuracy       : 0.7772395015698588\n",
      "    f1             : 0.7793548920675721\n",
      "    balanced_accuracy: 0.7870620306542612\n",
      "    precision      : 0.7969421255141297\n",
      "    recall         : 0.7772395015698588\n",
      "    val_loss       : 0.867853336984461\n",
      "    val_accuracy   : 0.696690552917232\n",
      "    val_f1         : 0.697400007865021\n",
      "    val_balanced_accuracy: 0.6809430840417648\n",
      "    val_precision  : 0.7291747432792961\n",
      "    val_recall     : 0.696690552917232\n"
     ]
    },
    {
     "name": "stdout",
     "output_type": "stream",
     "text": [
      "Model has not improved in -------------| 1 epochs\n"
     ]
    },
    {
     "name": "stderr",
     "output_type": "stream",
     "text": [
      "    epoch          : 33\n",
      "    loss           : 0.6112095234740493\n",
      "    accuracy       : 0.7813603806907379\n",
      "    f1             : 0.7831001208273859\n",
      "    balanced_accuracy: 0.7907761391886674\n",
      "    precision      : 0.7996943343310033\n",
      "    recall         : 0.7813603806907379\n",
      "    val_loss       : 0.8196337407285517\n",
      "    val_accuracy   : 0.7060782734056988\n",
      "    val_f1         : 0.7074144194520803\n",
      "    val_balanced_accuracy: 0.7075995012493487\n",
      "    val_precision  : 0.7381026732490863\n",
      "    val_recall     : 0.7060782734056988\n"
     ]
    },
    {
     "name": "stdout",
     "output_type": "stream",
     "text": [
      "Model has not improved in -------------| 2 epochs\n"
     ]
    },
    {
     "name": "stderr",
     "output_type": "stream",
     "text": [
      "    epoch          : 34\n",
      "    loss           : 0.6123901256638714\n",
      "    accuracy       : 0.7803669544740973\n",
      "    f1             : 0.7823479523198964\n",
      "    balanced_accuracy: 0.7902460669308645\n",
      "    precision      : 0.7996870857506582\n",
      "    recall         : 0.7803669544740973\n",
      "    val_loss       : 0.8353575338016856\n",
      "    val_accuracy   : 0.7040005936227951\n",
      "    val_f1         : 0.7058029705983121\n",
      "    val_balanced_accuracy: 0.703173319848072\n",
      "    val_precision  : 0.7325441792972223\n",
      "    val_recall     : 0.7040005936227951\n"
     ]
    },
    {
     "name": "stdout",
     "output_type": "stream",
     "text": [
      "Model has not improved in -------------| 3 epochs\n"
     ]
    },
    {
     "name": "stderr",
     "output_type": "stream",
     "text": [
      "    epoch          : 35\n",
      "    loss           : 0.6008798375598385\n",
      "    accuracy       : 0.7838378139717425\n",
      "    f1             : 0.7858529729094115\n",
      "    balanced_accuracy: 0.7948098141924551\n",
      "    precision      : 0.8031442698166575\n",
      "    recall         : 0.7838378139717425\n",
      "    val_loss       : 0.814242072538896\n",
      "    val_accuracy   : 0.7206835142469471\n",
      "    val_f1         : 0.7185898838925927\n",
      "    val_balanced_accuracy: 0.7092567433206665\n",
      "    val_precision  : 0.7384645133688458\n",
      "    val_recall     : 0.7206835142469471\n"
     ]
    },
    {
     "name": "stdout",
     "output_type": "stream",
     "text": [
      "Model has not improved in -------------| 4 epochs\n"
     ]
    },
    {
     "name": "stderr",
     "output_type": "stream",
     "text": [
      "    epoch          : 36\n",
      "    loss           : 0.5989511320879172\n",
      "    accuracy       : 0.78402586996337\n",
      "    f1             : 0.7859114650424217\n",
      "    balanced_accuracy: 0.7944504805601309\n",
      "    precision      : 0.8024945035017701\n",
      "    recall         : 0.78402586996337\n",
      "    val_loss       : 0.8913418596441095\n",
      "    val_accuracy   : 0.6834803256445047\n",
      "    val_f1         : 0.6871360982957732\n",
      "    val_balanced_accuracy: 0.682523199285502\n",
      "    val_precision  : 0.7340129841508027\n",
      "    val_recall     : 0.6834803256445047\n"
     ]
    },
    {
     "name": "stdout",
     "output_type": "stream",
     "text": [
      "Model has not improved in -------------| 5 epochs\n"
     ]
    },
    {
     "name": "stderr",
     "output_type": "stream",
     "text": [
      "    epoch          : 37\n",
      "    loss           : 0.5915205939712688\n",
      "    accuracy       : 0.7868657879818595\n",
      "    f1             : 0.7885474614411583\n",
      "    balanced_accuracy: 0.7991466800094124\n",
      "    precision      : 0.8046459422560835\n",
      "    recall         : 0.7868657879818595\n",
      "    val_loss       : 0.877703134580092\n",
      "    val_accuracy   : 0.7035087347354139\n",
      "    val_f1         : 0.6985412678073895\n",
      "    val_balanced_accuracy: 0.6908149026488659\n",
      "    val_precision  : 0.7282385549981947\n",
      "    val_recall     : 0.7035087347354139\n"
     ]
    },
    {
     "name": "stdout",
     "output_type": "stream",
     "text": [
      "Model has not improved in -------------| 6 epochs\n"
     ]
    },
    {
     "name": "stderr",
     "output_type": "stream",
     "text": [
      "    epoch          : 38\n",
      "    loss           : 0.5886939605368217\n",
      "    accuracy       : 0.7873618197278912\n",
      "    f1             : 0.7890046397697466\n",
      "    balanced_accuracy: 0.7986623182467913\n",
      "    precision      : 0.805044684466298\n",
      "    recall         : 0.7873618197278912\n",
      "    val_loss       : 0.8530883182178844\n",
      "    val_accuracy   : 0.6928044436906378\n",
      "    val_f1         : 0.6901092338584505\n",
      "    val_balanced_accuracy: 0.6902923384327708\n",
      "    val_precision  : 0.7189581998713352\n",
      "    val_recall     : 0.6928044436906378\n"
     ]
    },
    {
     "name": "stdout",
     "output_type": "stream",
     "text": [
      "Model has not improved in -------------| 7 epochs\n"
     ]
    },
    {
     "name": "stderr",
     "output_type": "stream",
     "text": [
      "    epoch          : 39\n",
      "    loss           : 0.5826763102787027\n",
      "    accuracy       : 0.7896784515088087\n",
      "    f1             : 0.7916269408510529\n",
      "    balanced_accuracy: 0.8010359177747678\n",
      "    precision      : 0.808165218030796\n",
      "    recall         : 0.7896784515088087\n",
      "    val_loss       : 1.147216418656436\n",
      "    val_accuracy   : 0.5879452170963365\n",
      "    val_f1         : 0.5974355716443993\n",
      "    val_balanced_accuracy: 0.6018492046010003\n",
      "    val_precision  : 0.6771514975860563\n",
      "    val_recall     : 0.5879452170963365\n"
     ]
    },
    {
     "name": "stdout",
     "output_type": "stream",
     "text": [
      "Model has not improved in -------------| 8 epochs\n"
     ]
    },
    {
     "name": "stderr",
     "output_type": "stream",
     "text": [
      "    epoch          : 40\n",
      "    loss           : 0.5875586823302166\n",
      "    accuracy       : 0.787990035757893\n",
      "    f1             : 0.7898575948040613\n",
      "    balanced_accuracy: 0.7987725154251399\n",
      "    precision      : 0.8063413285757025\n",
      "    recall         : 0.787990035757893\n",
      "    val_loss       : 0.9462877013466575\n",
      "    val_accuracy   : 0.6678553256445047\n",
      "    val_f1         : 0.6660498333083624\n",
      "    val_balanced_accuracy: 0.665416788805379\n",
      "    val_precision  : 0.7082038887766671\n",
      "    val_recall     : 0.6678553256445047\n"
     ]
    },
    {
     "name": "stdout",
     "output_type": "stream",
     "text": [
      "Model has not improved in -------------| 9 epochs\n"
     ]
    },
    {
     "name": "stderr",
     "output_type": "stream",
     "text": [
      "    epoch          : 41\n",
      "    loss           : 0.48821483772607366\n",
      "    accuracy       : 0.8273400706436421\n",
      "    f1             : 0.8285939691804693\n",
      "    balanced_accuracy: 0.8394260133199845\n",
      "    precision      : 0.8412762575327956\n",
      "    recall         : 0.8273400706436421\n",
      "    val_loss       : 0.7387401364066384\n",
      "    val_accuracy   : 0.7579121438263229\n",
      "    val_f1         : 0.7570147515265778\n",
      "    val_balanced_accuracy: 0.7397615289925725\n",
      "    val_precision  : 0.771238785422654\n",
      "    val_recall     : 0.7579121438263229\n"
     ]
    },
    {
     "name": "stdout",
     "output_type": "stream",
     "text": [
      "Model best! ---------------------------| \n"
     ]
    },
    {
     "name": "stderr",
     "output_type": "stream",
     "text": [
      "Saving checkpoint: C:/Users/awoloshu/Documents/NephNet/saved/kfold_test_NOTESTDATA\\1217_054819\\checkpoint-epoch41.pth ...\n",
      "Saving current best: model_best.pth ...\n",
      "    epoch          : 42\n",
      "    loss           : 0.45181409929115984\n",
      "    accuracy       : 0.8401810243328101\n",
      "    f1             : 0.8412364244665539\n",
      "    balanced_accuracy: 0.8537760686236031\n",
      "    precision      : 0.8527890320560388\n",
      "    recall         : 0.8401810243328101\n",
      "    val_loss       : 0.7388571744615381\n",
      "    val_accuracy   : 0.7486155868385347\n",
      "    val_f1         : 0.7486409211610684\n",
      "    val_balanced_accuracy: 0.7393531604742605\n",
      "    val_precision  : 0.7637868825804678\n",
      "    val_recall     : 0.7486155868385347\n"
     ]
    },
    {
     "name": "stdout",
     "output_type": "stream",
     "text": [
      "Model has not improved in -------------| 1 epochs\n"
     ]
    },
    {
     "name": "stderr",
     "output_type": "stream",
     "text": [
      "    epoch          : 43\n",
      "    loss           : 0.4318042234841721\n",
      "    accuracy       : 0.8462519623233908\n",
      "    f1             : 0.8473409586177789\n",
      "    balanced_accuracy: 0.8608536745726275\n",
      "    precision      : 0.8587862356271904\n",
      "    recall         : 0.8462519623233908\n",
      "    val_loss       : 0.7805474920706316\n",
      "    val_accuracy   : 0.7469343622795115\n",
      "    val_f1         : 0.7464618934823212\n",
      "    val_balanced_accuracy: 0.7259204017199865\n",
      "    val_precision  : 0.7633658500209197\n",
      "    val_recall     : 0.7469343622795115\n"
     ]
    },
    {
     "name": "stdout",
     "output_type": "stream",
     "text": [
      "Model has not improved in -------------| 2 epochs\n"
     ]
    },
    {
     "name": "stderr",
     "output_type": "stream",
     "text": [
      "    epoch          : 44\n",
      "    loss           : 0.4148142875259758\n",
      "    accuracy       : 0.8525981706785278\n",
      "    f1             : 0.8536493462637695\n",
      "    balanced_accuracy: 0.8669523462221205\n",
      "    precision      : 0.8645744542093241\n",
      "    recall         : 0.8525981706785278\n",
      "    val_loss       : 0.7677974104881287\n",
      "    val_accuracy   : 0.7487576322930801\n",
      "    val_f1         : 0.7479735373322891\n",
      "    val_balanced_accuracy: 0.7232255275558245\n",
      "    val_precision  : 0.7642650102297535\n",
      "    val_recall     : 0.7487576322930801\n"
     ]
    },
    {
     "name": "stdout",
     "output_type": "stream",
     "text": [
      "Model has not improved in -------------| 3 epochs\n"
     ]
    },
    {
     "name": "stderr",
     "output_type": "stream",
     "text": [
      "    epoch          : 45\n",
      "    loss           : 0.397583881704653\n",
      "    accuracy       : 0.8599432561486133\n",
      "    f1             : 0.8608239697493774\n",
      "    balanced_accuracy: 0.8749311869981052\n",
      "    precision      : 0.8710549745299113\n",
      "    recall         : 0.8599432561486133\n",
      "    val_loss       : 0.8113952376625755\n",
      "    val_accuracy   : 0.7427005597014926\n",
      "    val_f1         : 0.7438954729627524\n",
      "    val_balanced_accuracy: 0.7232658010276535\n",
      "    val_precision  : 0.7599277062602378\n",
      "    val_recall     : 0.7427005597014926\n"
     ]
    },
    {
     "name": "stdout",
     "output_type": "stream",
     "text": [
      "Model has not improved in -------------| 4 epochs\n"
     ]
    },
    {
     "name": "stderr",
     "output_type": "stream",
     "text": [
      "    epoch          : 46\n",
      "    loss           : 0.38682128792862897\n",
      "    accuracy       : 0.8614504295307868\n",
      "    f1             : 0.8623214931959203\n",
      "    balanced_accuracy: 0.8763950271141567\n",
      "    precision      : 0.8724511698314641\n",
      "    recall         : 0.8614504295307868\n",
      "    val_loss       : 0.8505753289569508\n",
      "    val_accuracy   : 0.7301221166892808\n",
      "    val_f1         : 0.7301289147156954\n",
      "    val_balanced_accuracy: 0.7090925486234589\n",
      "    val_precision  : 0.7549249442371029\n",
      "    val_recall     : 0.7301221166892808\n"
     ]
    },
    {
     "name": "stdout",
     "output_type": "stream",
     "text": [
      "Model has not improved in -------------| 5 epochs\n"
     ]
    },
    {
     "name": "stderr",
     "output_type": "stream",
     "text": [
      "    epoch          : 47\n",
      "    loss           : 0.3761354339137328\n",
      "    accuracy       : 0.8658084227280656\n",
      "    f1             : 0.8667035873637853\n",
      "    balanced_accuracy: 0.880903086609963\n",
      "    precision      : 0.8768321414354154\n",
      "    recall         : 0.8658084227280656\n",
      "    val_loss       : 0.8581642053344033\n",
      "    val_accuracy   : 0.7253328527815468\n",
      "    val_f1         : 0.7253497726140655\n",
      "    val_balanced_accuracy: 0.7071399828540371\n",
      "    val_precision  : 0.7488773857718799\n",
      "    val_recall     : 0.7253328527815468\n"
     ]
    },
    {
     "name": "stdout",
     "output_type": "stream",
     "text": [
      "Model has not improved in -------------| 6 epochs\n"
     ]
    },
    {
     "name": "stderr",
     "output_type": "stream",
     "text": [
      "    epoch          : 48\n",
      "    loss           : 0.3654954964897717\n",
      "    accuracy       : 0.8689317874585732\n",
      "    f1             : 0.8697976488735786\n",
      "    balanced_accuracy: 0.8846449388200968\n",
      "    precision      : 0.8794079065284417\n",
      "    recall         : 0.8689317874585732\n",
      "    val_loss       : 0.8293877785856073\n",
      "    val_accuracy   : 0.7335566485753052\n",
      "    val_f1         : 0.7340183353705317\n",
      "    val_balanced_accuracy: 0.7140206398173027\n",
      "    val_precision  : 0.7519290086016707\n",
      "    val_recall     : 0.7335566485753052\n"
     ]
    },
    {
     "name": "stdout",
     "output_type": "stream",
     "text": [
      "Model has not improved in -------------| 7 epochs\n"
     ]
    },
    {
     "name": "stderr",
     "output_type": "stream",
     "text": [
      "    epoch          : 49\n",
      "    loss           : 0.35468789815029383\n",
      "    accuracy       : 0.8729463740624456\n",
      "    f1             : 0.8737893557559849\n",
      "    balanced_accuracy: 0.8889669818128428\n",
      "    precision      : 0.8834958027028783\n",
      "    recall         : 0.8729463740624456\n",
      "    val_loss       : 0.9577402494170449\n",
      "    val_accuracy   : 0.7167189620081411\n",
      "    val_f1         : 0.7208957246184907\n",
      "    val_balanced_accuracy: 0.6909437252077669\n",
      "    val_precision  : 0.746346594988373\n",
      "    val_recall     : 0.7167189620081411\n"
     ]
    },
    {
     "name": "stdout",
     "output_type": "stream",
     "text": [
      "Model has not improved in -------------| 8 epochs\n"
     ]
    },
    {
     "name": "stderr",
     "output_type": "stream",
     "text": [
      "    epoch          : 50\n",
      "    loss           : 0.3483156267831031\n",
      "    accuracy       : 0.8758258110936683\n",
      "    f1             : 0.8765894469723022\n",
      "    balanced_accuracy: 0.8908504207649468\n",
      "    precision      : 0.8854792292677665\n",
      "    recall         : 0.8758258110936683\n",
      "    val_loss       : 0.9067673011259599\n",
      "    val_accuracy   : 0.7116562075983718\n",
      "    val_f1         : 0.714102064171082\n",
      "    val_balanced_accuracy: 0.7051253533492774\n",
      "    val_precision  : 0.7435216220920554\n",
      "    val_recall     : 0.7116562075983718\n"
     ]
    },
    {
     "name": "stdout",
     "output_type": "stream",
     "text": [
      "Model has not improved in -------------| 9 epochs\n"
     ]
    },
    {
     "name": "stderr",
     "output_type": "stream",
     "text": [
      "    epoch          : 51\n",
      "    loss           : 0.30056106394682175\n",
      "    accuracy       : 0.8962966596895169\n",
      "    f1             : 0.8968247528200252\n",
      "    balanced_accuracy: 0.910887134434907\n",
      "    precision      : 0.9041105521387307\n",
      "    recall         : 0.8962966596895169\n",
      "    val_loss       : 0.8095201275565408\n",
      "    val_accuracy   : 0.7476848710990501\n",
      "    val_f1         : 0.7476716633804219\n",
      "    val_balanced_accuracy: 0.7284664229039801\n",
      "    val_precision  : 0.7634497915162597\n",
      "    val_recall     : 0.7476848710990501\n"
     ]
    },
    {
     "name": "stdout",
     "output_type": "stream",
     "text": [
      "Model has not improved in -------------| 10 epochs\n"
     ]
    },
    {
     "name": "stderr",
     "output_type": "stream",
     "text": [
      "    epoch          : 52\n",
      "    loss           : 0.27396288657872525\n",
      "    accuracy       : 0.9075418628990057\n",
      "    f1             : 0.9081334164308115\n",
      "    balanced_accuracy: 0.9214350279623243\n",
      "    precision      : 0.9146710277079061\n",
      "    recall         : 0.9075418628990057\n",
      "    val_loss       : 0.8221498792821711\n",
      "    val_accuracy   : 0.7479053595658074\n",
      "    val_f1         : 0.7467030624860597\n",
      "    val_balanced_accuracy: 0.7221784040169685\n",
      "    val_precision  : 0.7588591592325256\n",
      "    val_recall     : 0.7479053595658074\n"
     ]
    },
    {
     "name": "stdout",
     "output_type": "stream",
     "text": [
      "Model has not improved in -------------| 11 epochs\n"
     ]
    },
    {
     "name": "stderr",
     "output_type": "stream",
     "text": [
      "    epoch          : 53\n",
      "    loss           : 0.26018035097072706\n",
      "    accuracy       : 0.9140883917669632\n",
      "    f1             : 0.9146155132122092\n",
      "    balanced_accuracy: 0.9276413146556419\n",
      "    precision      : 0.9207516106165115\n",
      "    recall         : 0.9140883917669632\n",
      "    val_loss       : 0.7951181503859434\n",
      "    val_accuracy   : 0.7587008141112619\n",
      "    val_f1         : 0.7590931995855718\n",
      "    val_balanced_accuracy: 0.7435638415727349\n",
      "    val_precision  : 0.7734212643403353\n",
      "    val_recall     : 0.7587008141112619\n"
     ]
    },
    {
     "name": "stdout",
     "output_type": "stream",
     "text": [
      "Model has not improved in -------------| 12 epochs\n"
     ]
    },
    {
     "name": "stderr",
     "output_type": "stream",
     "text": [
      "    epoch          : 54\n",
      "    loss           : 0.24945835996605684\n",
      "    accuracy       : 0.9167388910692482\n",
      "    f1             : 0.9172318226242971\n",
      "    balanced_accuracy: 0.9299341593284113\n",
      "    precision      : 0.923300085149328\n",
      "    recall         : 0.9167388910692482\n",
      "    val_loss       : 0.8182860406962308\n",
      "    val_accuracy   : 0.7495187415196743\n",
      "    val_f1         : 0.7493631103689108\n",
      "    val_balanced_accuracy: 0.7289518898111325\n",
      "    val_precision  : 0.7622732684445404\n",
      "    val_recall     : 0.7495187415196743\n"
     ]
    },
    {
     "name": "stdout",
     "output_type": "stream",
     "text": [
      "Model has not improved in -------------| 13 epochs\n"
     ]
    },
    {
     "name": "stderr",
     "output_type": "stream",
     "text": [
      "    epoch          : 55\n",
      "    loss           : 0.23813510365029103\n",
      "    accuracy       : 0.9218055010465726\n",
      "    f1             : 0.9222322614912749\n",
      "    balanced_accuracy: 0.9344505505361987\n",
      "    precision      : 0.9277598086508744\n",
      "    recall         : 0.9218055010465726\n",
      "    val_loss       : 0.8404496686025099\n",
      "    val_accuracy   : 0.7464573439620081\n",
      "    val_f1         : 0.7464486053903007\n",
      "    val_balanced_accuracy: 0.7264258867525858\n",
      "    val_precision  : 0.7614377701858337\n",
      "    val_recall     : 0.7464573439620081\n"
     ]
    },
    {
     "name": "stdout",
     "output_type": "stream",
     "text": [
      "Model has not improved in -------------| 14 epochs\n"
     ]
    },
    {
     "name": "stderr",
     "output_type": "stream",
     "text": [
      "    epoch          : 56\n",
      "    loss           : 0.22743844760352147\n",
      "    accuracy       : 0.9259195665445665\n",
      "    f1             : 0.9263454278385905\n",
      "    balanced_accuracy: 0.9386185721877269\n",
      "    precision      : 0.931397495283961\n",
      "    recall         : 0.9259195665445665\n",
      "    val_loss       : 0.8370080145922574\n",
      "    val_accuracy   : 0.7440828527815468\n",
      "    val_f1         : 0.7439657128646006\n",
      "    val_balanced_accuracy: 0.7236262676532481\n",
      "    val_precision  : 0.7568625079835127\n",
      "    val_recall     : 0.7440828527815468\n"
     ]
    },
    {
     "name": "stdout",
     "output_type": "stream",
     "text": [
      "Model has not improved in -------------| 15 epochs\n"
     ]
    },
    {
     "name": "stderr",
     "output_type": "stream",
     "text": [
      "    epoch          : 57\n",
      "    loss           : 0.21863732384165274\n",
      "    accuracy       : 0.9302870988138845\n",
      "    f1             : 0.9306571882355108\n",
      "    balanced_accuracy: 0.9424046374819326\n",
      "    precision      : 0.9356453195062745\n",
      "    recall         : 0.9302870988138845\n",
      "    val_loss       : 0.8462622219865973\n",
      "    val_accuracy   : 0.7461372116689281\n",
      "    val_f1         : 0.7441800025259604\n",
      "    val_balanced_accuracy: 0.7259123088324175\n",
      "    val_precision  : 0.757797590081164\n",
      "    val_recall     : 0.7461372116689281\n"
     ]
    },
    {
     "name": "stdout",
     "output_type": "stream",
     "text": [
      "Model has not improved in -------------| 16 epochs\n"
     ]
    },
    {
     "name": "stderr",
     "output_type": "stream",
     "text": [
      "    epoch          : 58\n",
      "    loss           : 0.2122764105980213\n",
      "    accuracy       : 0.9330248124890982\n",
      "    f1             : 0.9334625542874417\n",
      "    balanced_accuracy: 0.9449707295322036\n",
      "    precision      : 0.9382749127265967\n",
      "    recall         : 0.9330248124890982\n",
      "    val_loss       : 0.8377880985086614\n",
      "    val_accuracy   : 0.7467287143826323\n",
      "    val_f1         : 0.7474750717147192\n",
      "    val_balanced_accuracy: 0.7259968343373704\n",
      "    val_precision  : 0.7617623912698948\n",
      "    val_recall     : 0.7467287143826323\n"
     ]
    },
    {
     "name": "stdout",
     "output_type": "stream",
     "text": [
      "Model has not improved in -------------| 17 epochs\n"
     ]
    },
    {
     "name": "stderr",
     "output_type": "stream",
     "text": [
      "    epoch          : 59\n",
      "    loss           : 0.20402763350906536\n",
      "    accuracy       : 0.936439800279086\n",
      "    f1             : 0.9368554029471925\n",
      "    balanced_accuracy: 0.9481619516799521\n",
      "    precision      : 0.941451651828171\n",
      "    recall         : 0.936439800279086\n",
      "    val_loss       : 0.8478267182003368\n",
      "    val_accuracy   : 0.7507208276797829\n",
      "    val_f1         : 0.749579034637724\n",
      "    val_balanced_accuracy: 0.7343223758111487\n",
      "    val_precision  : 0.7636199348129811\n",
      "    val_recall     : 0.7507208276797829\n"
     ]
    },
    {
     "name": "stdout",
     "output_type": "stream",
     "text": [
      "Model has not improved in -------------| 18 epochs\n"
     ]
    },
    {
     "name": "stderr",
     "output_type": "stream",
     "text": [
      "    epoch          : 60\n",
      "    loss           : 0.1883517639195235\n",
      "    accuracy       : 0.943466008198151\n",
      "    f1             : 0.9438189230162544\n",
      "    balanced_accuracy: 0.9540097710217206\n",
      "    precision      : 0.947818034943758\n",
      "    recall         : 0.943466008198151\n",
      "    val_loss       : 0.8519621984525161\n",
      "    val_accuracy   : 0.7515603799185889\n",
      "    val_f1         : 0.7507179812511648\n",
      "    val_balanced_accuracy: 0.7301329550275697\n",
      "    val_precision  : 0.7632526741459447\n",
      "    val_recall     : 0.7515603799185889\n"
     ]
    },
    {
     "name": "stdout",
     "output_type": "stream",
     "text": [
      "Model has not improved in -------------| 19 epochs\n"
     ]
    },
    {
     "name": "stderr",
     "output_type": "stream",
     "text": [
      "    epoch          : 61\n",
      "    loss           : 0.18143319552343554\n",
      "    accuracy       : 0.9459216378859236\n",
      "    f1             : 0.9462805782303381\n",
      "    balanced_accuracy: 0.9564840379115723\n",
      "    precision      : 0.9501781688743958\n",
      "    recall         : 0.9459216378859236\n",
      "    val_loss       : 0.8565456011078575\n",
      "    val_accuracy   : 0.7452828188602443\n",
      "    val_f1         : 0.7436585276107092\n",
      "    val_balanced_accuracy: 0.7245090780491185\n",
      "    val_precision  : 0.7566475415697695\n",
      "    val_recall     : 0.7452828188602443\n"
     ]
    },
    {
     "name": "stdout",
     "output_type": "stream",
     "text": [
      "Model has not improved in -------------| 20 epochs\n"
     ]
    },
    {
     "name": "stderr",
     "output_type": "stream",
     "text": [
      "    epoch          : 62\n",
      "    loss           : 0.17830299036588715\n",
      "    accuracy       : 0.9479820774463632\n",
      "    f1             : 0.9483310463145894\n",
      "    balanced_accuracy: 0.9576078706890578\n",
      "    precision      : 0.9521160384593504\n",
      "    recall         : 0.9479820774463632\n",
      "    val_loss       : 0.8435910132798281\n",
      "    val_accuracy   : 0.7494424185888737\n",
      "    val_f1         : 0.7473974979131158\n",
      "    val_balanced_accuracy: 0.7275743469196346\n",
      "    val_precision  : 0.7607660351290205\n",
      "    val_recall     : 0.7494424185888737\n"
     ]
    },
    {
     "name": "stdout",
     "output_type": "stream",
     "text": [
      "Model has not improved in -------------| 21 epochs\n"
     ]
    },
    {
     "name": "stderr",
     "output_type": "stream",
     "text": [
      "    epoch          : 63\n",
      "    loss           : 0.17308699151316842\n",
      "    accuracy       : 0.9502251221001221\n",
      "    f1             : 0.9504911886241241\n",
      "    balanced_accuracy: 0.959773203180685\n",
      "    precision      : 0.9541043918072658\n",
      "    recall         : 0.9502251221001221\n",
      "    val_loss       : 0.8568992387164723\n",
      "    val_accuracy   : 0.7462389755766621\n",
      "    val_f1         : 0.7444585688076313\n",
      "    val_balanced_accuracy: 0.7252443845011677\n",
      "    val_precision  : 0.7574246969107039\n",
      "    val_recall     : 0.7462389755766621\n"
     ]
    },
    {
     "name": "stdout",
     "output_type": "stream",
     "text": [
      "Model has not improved in -------------| 22 epochs\n"
     ]
    },
    {
     "name": "stderr",
     "output_type": "stream",
     "text": [
      "    epoch          : 64\n",
      "    loss           : 0.17174422674526954\n",
      "    accuracy       : 0.9502496511425084\n",
      "    f1             : 0.950583765928189\n",
      "    balanced_accuracy: 0.9601677853228139\n",
      "    precision      : 0.9541304498310018\n",
      "    recall         : 0.9502496511425084\n",
      "    val_loss       : 0.8572448416189714\n",
      "    val_accuracy   : 0.7486155868385347\n",
      "    val_f1         : 0.7474460714239317\n",
      "    val_balanced_accuracy: 0.7212797896059553\n",
      "    val_precision  : 0.7602026526257661\n",
      "    val_recall     : 0.7486155868385347\n"
     ]
    },
    {
     "name": "stdout",
     "output_type": "stream",
     "text": [
      "Model has not improved in -------------| 23 epochs\n"
     ]
    },
    {
     "name": "stderr",
     "output_type": "stream",
     "text": [
      "    epoch          : 65\n",
      "    loss           : 0.1684761679252571\n",
      "    accuracy       : 0.9525403911564626\n",
      "    f1             : 0.9528545348400429\n",
      "    balanced_accuracy: 0.9619675048706594\n",
      "    precision      : 0.9563888744614885\n",
      "    recall         : 0.9525403911564626\n",
      "    val_loss       : 0.8685459158637306\n",
      "    val_accuracy   : 0.7436567164179104\n",
      "    val_f1         : 0.7420547684078803\n",
      "    val_balanced_accuracy: 0.7267229595294367\n",
      "    val_precision  : 0.7568028514036281\n",
      "    val_recall     : 0.7436567164179104\n"
     ]
    },
    {
     "name": "stdout",
     "output_type": "stream",
     "text": [
      "Model has not improved in -------------| 24 epochs\n"
     ]
    },
    {
     "name": "stderr",
     "output_type": "stream",
     "text": [
      "    epoch          : 66\n",
      "    loss           : 0.16678745921824004\n",
      "    accuracy       : 0.9531045591313448\n",
      "    f1             : 0.9533782442114954\n",
      "    balanced_accuracy: 0.9626725827901191\n",
      "    precision      : 0.9568901005316826\n",
      "    recall         : 0.9531045591313448\n",
      "    val_loss       : 0.868386470187794\n",
      "    val_accuracy   : 0.7430630936227951\n",
      "    val_f1         : 0.7414902338594677\n",
      "    val_balanced_accuracy: 0.7196760843361245\n",
      "    val_precision  : 0.753526146788805\n",
      "    val_recall     : 0.7430630936227951\n"
     ]
    },
    {
     "name": "stdout",
     "output_type": "stream",
     "text": [
      "Model has not improved in -------------| 25 epochs\n"
     ]
    },
    {
     "name": "stderr",
     "output_type": "stream",
     "text": [
      "    epoch          : 67\n",
      "    loss           : 0.16265787891998104\n",
      "    accuracy       : 0.9553353392639107\n",
      "    f1             : 0.9556038525173991\n",
      "    balanced_accuracy: 0.9644157375313558\n",
      "    precision      : 0.958932644742742\n",
      "    recall         : 0.9553353392639107\n",
      "    val_loss       : 0.8484048084779219\n",
      "    val_accuracy   : 0.7467689959294438\n",
      "    val_f1         : 0.74539137125204\n",
      "    val_balanced_accuracy: 0.7291381743921455\n",
      "    val_precision  : 0.7614480218853227\n",
      "    val_recall     : 0.7467689959294438\n"
     ]
    },
    {
     "name": "stdout",
     "output_type": "stream",
     "text": [
      "Model has not improved in -------------| 26 epochs\n"
     ]
    },
    {
     "name": "stderr",
     "output_type": "stream",
     "text": [
      "    epoch          : 68\n",
      "    loss           : 0.15847089519139756\n",
      "    accuracy       : 0.9561570621838479\n",
      "    f1             : 0.9564408633409713\n",
      "    balanced_accuracy: 0.9647996447218968\n",
      "    precision      : 0.9595477115525571\n",
      "    recall         : 0.9561570621838479\n",
      "    val_loss       : 0.8827714432369579\n",
      "    val_accuracy   : 0.7447146370420624\n",
      "    val_f1         : 0.7430439762711297\n",
      "    val_balanced_accuracy: 0.7178951384667043\n",
      "    val_precision  : 0.7557289622405607\n",
      "    val_recall     : 0.7447146370420624\n"
     ]
    },
    {
     "name": "stdout",
     "output_type": "stream",
     "text": [
      "Model has not improved in -------------| 27 epochs\n"
     ]
    },
    {
     "name": "stderr",
     "output_type": "stream",
     "text": [
      "    epoch          : 69\n",
      "    loss           : 0.15571734891415226\n",
      "    accuracy       : 0.9576029129600557\n",
      "    f1             : 0.9578962978237782\n",
      "    balanced_accuracy: 0.966221833896034\n",
      "    precision      : 0.9610401494047974\n",
      "    recall         : 0.9576029129600557\n",
      "    val_loss       : 0.8888351185755297\n",
      "    val_accuracy   : 0.7431139755766621\n",
      "    val_f1         : 0.7416126051556907\n",
      "    val_balanced_accuracy: 0.7192422588697938\n",
      "    val_precision  : 0.7545187275667782\n",
      "    val_recall     : 0.7431139755766621\n"
     ]
    },
    {
     "name": "stdout",
     "output_type": "stream",
     "text": [
      "Model has not improved in -------------| 28 epochs\n"
     ]
    },
    {
     "name": "stderr",
     "output_type": "stream",
     "text": [
      "    epoch          : 70\n",
      "    loss           : 0.15368401298301707\n",
      "    accuracy       : 0.9589874411302983\n",
      "    f1             : 0.959303126046071\n",
      "    balanced_accuracy: 0.96712458516809\n",
      "    precision      : 0.9623386561979803\n",
      "    recall         : 0.9589874411302983\n",
      "    val_loss       : 0.8833449385382912\n",
      "    val_accuracy   : 0.742791723202171\n",
      "    val_f1         : 0.7422665876586632\n",
      "    val_balanced_accuracy: 0.7237622878974157\n",
      "    val_precision  : 0.7562650213832339\n",
      "    val_recall     : 0.742791723202171\n"
     ]
    },
    {
     "name": "stdout",
     "output_type": "stream",
     "text": [
      "Model has not improved in -------------| 29 epochs\n"
     ]
    },
    {
     "name": "stderr",
     "output_type": "stream",
     "text": [
      "    epoch          : 71\n",
      "    loss           : 0.15173964040474433\n",
      "    accuracy       : 0.9599168192918193\n",
      "    f1             : 0.9601381240606343\n",
      "    balanced_accuracy: 0.9683080643444163\n",
      "    precision      : 0.9629257141061004\n",
      "    recall         : 0.9599168192918193\n",
      "    val_loss       : 0.8583697698333047\n",
      "    val_accuracy   : 0.7452700983717775\n",
      "    val_f1         : 0.7445604430869713\n",
      "    val_balanced_accuracy: 0.7256100751419382\n",
      "    val_precision  : 0.7609908071568083\n",
      "    val_recall     : 0.7452700983717775\n"
     ]
    },
    {
     "name": "stdout",
     "output_type": "stream",
     "text": [
      "Model has not improved in -------------| 30 epochs\n"
     ]
    },
    {
     "name": "stderr",
     "output_type": "stream",
     "text": [
      "    epoch          : 72\n",
      "    loss           : 0.15240157647592825\n",
      "    accuracy       : 0.960136217948718\n",
      "    f1             : 0.9603749473658718\n",
      "    balanced_accuracy: 0.9685330641909687\n",
      "    precision      : 0.9631542462011485\n",
      "    recall         : 0.960136217948718\n",
      "    val_loss       : 0.8956846085461703\n",
      "    val_accuracy   : 0.7454375848032564\n",
      "    val_f1         : 0.7434896577179092\n",
      "    val_balanced_accuracy: 0.7155028689100292\n",
      "    val_precision  : 0.7580158907442465\n",
      "    val_recall     : 0.7454375848032564\n"
     ]
    },
    {
     "name": "stdout",
     "output_type": "stream",
     "text": [
      "Model has not improved in -------------| 31 epochs\n"
     ]
    },
    {
     "name": "stderr",
     "output_type": "stream",
     "text": [
      "    epoch          : 73\n",
      "    loss           : 0.15172358646861508\n",
      "    accuracy       : 0.9601798251351823\n",
      "    f1             : 0.9605129891825677\n",
      "    balanced_accuracy: 0.9681546090994931\n",
      "    precision      : 0.9634335032283626\n",
      "    recall         : 0.9601798251351823\n",
      "    val_loss       : 0.8870594555681403\n",
      "    val_accuracy   : 0.7429846506105835\n",
      "    val_f1         : 0.7418135506427843\n",
      "    val_balanced_accuracy: 0.7195430770421916\n",
      "    val_precision  : 0.7541373088546608\n",
      "    val_recall     : 0.7429846506105835\n"
     ]
    },
    {
     "name": "stdout",
     "output_type": "stream",
     "text": [
      "Model has not improved in -------------| 32 epochs\n"
     ]
    },
    {
     "name": "stderr",
     "output_type": "stream",
     "text": [
      "    epoch          : 74\n",
      "    loss           : 0.15004848227614448\n",
      "    accuracy       : 0.960524594453166\n",
      "    f1             : 0.960768443601713\n",
      "    balanced_accuracy: 0.9685720908103165\n",
      "    precision      : 0.9635279806171559\n",
      "    recall         : 0.960524594453166\n",
      "    val_loss       : 0.8614536599679427\n",
      "    val_accuracy   : 0.7486028663500679\n",
      "    val_f1         : 0.7467646412681849\n",
      "    val_balanced_accuracy: 0.7299119133475003\n",
      "    val_precision  : 0.7595558173741606\n",
      "    val_recall     : 0.7486028663500679\n"
     ]
    },
    {
     "name": "stdout",
     "output_type": "stream",
     "text": [
      "Model has not improved in -------------| 33 epochs\n"
     ]
    },
    {
     "name": "stderr",
     "output_type": "stream",
     "text": [
      "    epoch          : 75\n",
      "    loss           : 0.14736681113131025\n",
      "    accuracy       : 0.9619077598988314\n",
      "    f1             : 0.9621203884076645\n",
      "    balanced_accuracy: 0.9699203015338014\n",
      "    precision      : 0.9648267417415025\n",
      "    recall         : 0.9619077598988314\n",
      "    val_loss       : 0.869805293191563\n",
      "    val_accuracy   : 0.7421069369063773\n",
      "    val_f1         : 0.7412970656070683\n",
      "    val_balanced_accuracy: 0.718979281373557\n",
      "    val_precision  : 0.7548168163268345\n",
      "    val_recall     : 0.7421069369063773\n"
     ]
    },
    {
     "name": "stdout",
     "output_type": "stream",
     "text": [
      "Model has not improved in -------------| 34 epochs\n",
      "=> loading C:/Users/awoloshu/Documents/NephNet/saved/kfold_test_NOTESTDATA\\1217_054819\\model_best.pth\n",
      "Running forward pass on holdout set of size: 34899\n",
      "Complete: 99.8%\n",
      "Accuracy: 0.7568\n",
      "['C:/Users/awoloshu/Documents/NephNet/saved/kfold_test_NOTESTDATA\\\\1216_141547\\\\model_kfold_test_NOTESTDATA__fold_1_probs.npy', 'C:/Users/awoloshu/Documents/NephNet/saved/kfold_test_NOTESTDATA\\\\1216_193133\\\\model_kfold_test_NOTESTDATA__fold_2_probs.npy', 'C:/Users/awoloshu/Documents/NephNet/saved/kfold_test_NOTESTDATA\\\\1217_004005\\\\model_kfold_test_NOTESTDATA__fold_3_probs.npy', 'C:/Users/awoloshu/Documents/NephNet/saved/kfold_test_NOTESTDATA\\\\1217_054819\\\\model_kfold_test_NOTESTDATA__fold_4_probs.npy']\n",
      "This method will overwrite file: C:/Users/awoloshu/Documents/NephNet/saved/kfold_test_NOTESTDATA\\combined_folds_kfold_test_NOTESTDATA.npy\n",
      "Computing fold indices. This takes 15 seconds.\n",
      "Writing final predicted probabilities.\n",
      "Computing Accuracy.\n",
      "Accuracy: 0.7451957856134997504327089\n"
     ]
    }
   ],
   "source": [
    "if torch.cuda.is_available():\n",
    "    print(\"Using GPU: \" + torch.cuda.get_device_name(0))\n",
    "else:\n",
    "    print(\"Using CPU to test\")\n",
    "\n",
    "main(config)\n"
   ]
  },
  {
   "cell_type": "code",
   "execution_count": 23,
   "metadata": {
    "scrolled": true
   },
   "outputs": [
    {
     "name": "stdout",
     "output_type": "stream",
     "text": [
      "This method will overwrite file: C:/Users/awoloshu/Documents/NephNet/saved/kfold_test\\combined_folds_kfold_test.npy\n",
      "Computing fold indices. This takes 15 seconds.\n",
      "(1253, 9)\n",
      "(5000, 9)\n",
      "[0.35933894 0.19912334 0.2076183  0.12069414 0.07556335 0.00376355\n",
      " 0.00896769 0.01281476 0.01211601]\n",
      "(1251, 9)\n",
      "(5000, 9)\n",
      "[0.00710671 0.01437991 0.00868139 0.00933951 0.0049682  0.18974023\n",
      " 0.19961983 0.3597244  0.2064398 ]\n",
      "(1249, 9)\n",
      "(5000, 9)\n",
      "[0.09127303 0.04624217 0.04401885 0.40132713 0.37600967 0.00316076\n",
      " 0.01643983 0.00828122 0.01324737]\n",
      "(1247, 9)\n",
      "(5000, 9)\n",
      "[0.04885994 0.03972913 0.02180811 0.4579018  0.39708194 0.01845614\n",
      " 0.00478849 0.00601433 0.00536015]\n",
      "Writing final predicted probabilities.\n",
      "Computing Accuracy.\n",
      "Accuracy: 0.341799999999999992716937\n"
     ]
    }
   ],
   "source": [
    "myfiles = ['C:/Users/awoloshu/Documents/NephNet/saved/kfold_test\\\\1202_160208\\\\model_kfold_test__fold_1_probs.npy', \n",
    "           'C:/Users/awoloshu/Documents/NephNet/saved/kfold_test\\\\1202_190542\\\\model_kfold_test__fold_2_probs.npy', \n",
    "           'C:/Users/awoloshu/Documents/NephNet/saved/kfold_test\\\\1202_220740\\\\model_kfold_test__fold_3_probs.npy', \n",
    "           'C:/Users/awoloshu/Documents/NephNet/saved/kfold_test\\\\1203_010921\\\\model_kfold_test__fold_4_probs.npy']\n",
    "%matplotlib inline\n",
    "#combine_folds(config, myfiles, 4)"
   ]
  },
  {
   "cell_type": "code",
   "execution_count": 8,
   "metadata": {},
   "outputs": [
    {
     "name": "stdout",
     "output_type": "stream",
     "text": [
      "Overall accuracy: 74.52%\n",
      "(139617,)\n",
      "(139617, 9)\n"
     ]
    }
   ],
   "source": [
    "toload = os.path.join(config['trainer']['save_dir'], config['name'])\n",
    "toload1 = os.path.join(toload, \"combined_folds_kfold_test_NOTESTDATA.npy\")\n",
    "psx = np.load(toload1)\n",
    "\n",
    "rs = np.random.RandomState()\n",
    "mean = config['data_loader']['args']['mean']\n",
    "stdev = config['data_loader']['args']['stdev']\n",
    "\n",
    "\n",
    "\n",
    "\n",
    "trsfm_train = [\n",
    "               #t3d.RandomRotate90(rs), \n",
    "               t3d.Normalize(mean, stdev), \n",
    "               t3d.ToTensor(True)]\n",
    "train_dataset = getattr(module_datasets, \n",
    "    'hdf5dataset')(config['data_loader']['args']['hdf5_path'],\n",
    "    shape = config['data_loader']['args']['shape'], \n",
    "    transforms = trsfm_train,\n",
    "    training = True)\n",
    "test_dataset = getattr(module_datasets, \n",
    "    'hdf5dataset')(config['data_loader_test']['args']['hdf5_path'],\n",
    "    shape = config['data_loader']['args']['shape'], \n",
    "    transforms = trsfm_train,\n",
    "    training = False)\n",
    "\n",
    "#use for smaller set of samples\n",
    "'''examples = 150\n",
    "tr_idx = np.random.choice(range(len(train_dataset)), size= examples)\n",
    "tst_idx = np.random.choice(range(len(test_dataset)), size= examples)\n",
    "imgs = np.array(train_dataset.data[tr_idx])\n",
    "labels = np.array(train_dataset.label[tr_idx])\n",
    "'''\n",
    "#imgs = np.array(train_dataset.data)\n",
    "labels = np.array(train_dataset.label) -1\n",
    "num_classes = config['arch']['args']['num_classes']\n",
    "print('Overall accuracy: {:.2%}'.format(accuracy_score(labels, psx.argmax(axis = 1))))\n",
    "print(labels.shape)\n",
    "print(psx.shape)"
   ]
  },
  {
   "cell_type": "code",
   "execution_count": 9,
   "metadata": {},
   "outputs": [
    {
     "name": "stdout",
     "output_type": "stream",
     "text": [
      "fin\n"
     ]
    }
   ],
   "source": [
    "from cleanlab.pruning import get_noise_indices\n",
    "\n",
    "label_errors_bool = cleanlab.pruning.get_noise_indices(\n",
    "    s = labels,\n",
    "    psx = psx,\n",
    "    prune_method = 'prune_by_noise_rate',\n",
    "    sorted_index_method=None,\n",
    "    n_jobs=1\n",
    ")\n",
    "\n",
    "print(\"fin\")"
   ]
  },
  {
   "cell_type": "code",
   "execution_count": 11,
   "metadata": {
    "scrolled": false
   },
   "outputs": [
    {
     "data": {
      "application/javascript": [
       "/* Put everything inside the global mpl namespace */\n",
       "window.mpl = {};\n",
       "\n",
       "\n",
       "mpl.get_websocket_type = function() {\n",
       "    if (typeof(WebSocket) !== 'undefined') {\n",
       "        return WebSocket;\n",
       "    } else if (typeof(MozWebSocket) !== 'undefined') {\n",
       "        return MozWebSocket;\n",
       "    } else {\n",
       "        alert('Your browser does not have WebSocket support. ' +\n",
       "              'Please try Chrome, Safari or Firefox ≥ 6. ' +\n",
       "              'Firefox 4 and 5 are also supported but you ' +\n",
       "              'have to enable WebSockets in about:config.');\n",
       "    };\n",
       "}\n",
       "\n",
       "mpl.figure = function(figure_id, websocket, ondownload, parent_element) {\n",
       "    this.id = figure_id;\n",
       "\n",
       "    this.ws = websocket;\n",
       "\n",
       "    this.supports_binary = (this.ws.binaryType != undefined);\n",
       "\n",
       "    if (!this.supports_binary) {\n",
       "        var warnings = document.getElementById(\"mpl-warnings\");\n",
       "        if (warnings) {\n",
       "            warnings.style.display = 'block';\n",
       "            warnings.textContent = (\n",
       "                \"This browser does not support binary websocket messages. \" +\n",
       "                    \"Performance may be slow.\");\n",
       "        }\n",
       "    }\n",
       "\n",
       "    this.imageObj = new Image();\n",
       "\n",
       "    this.context = undefined;\n",
       "    this.message = undefined;\n",
       "    this.canvas = undefined;\n",
       "    this.rubberband_canvas = undefined;\n",
       "    this.rubberband_context = undefined;\n",
       "    this.format_dropdown = undefined;\n",
       "\n",
       "    this.image_mode = 'full';\n",
       "\n",
       "    this.root = $('<div/>');\n",
       "    this._root_extra_style(this.root)\n",
       "    this.root.attr('style', 'display: inline-block');\n",
       "\n",
       "    $(parent_element).append(this.root);\n",
       "\n",
       "    this._init_header(this);\n",
       "    this._init_canvas(this);\n",
       "    this._init_toolbar(this);\n",
       "\n",
       "    var fig = this;\n",
       "\n",
       "    this.waiting = false;\n",
       "\n",
       "    this.ws.onopen =  function () {\n",
       "            fig.send_message(\"supports_binary\", {value: fig.supports_binary});\n",
       "            fig.send_message(\"send_image_mode\", {});\n",
       "            if (mpl.ratio != 1) {\n",
       "                fig.send_message(\"set_dpi_ratio\", {'dpi_ratio': mpl.ratio});\n",
       "            }\n",
       "            fig.send_message(\"refresh\", {});\n",
       "        }\n",
       "\n",
       "    this.imageObj.onload = function() {\n",
       "            if (fig.image_mode == 'full') {\n",
       "                // Full images could contain transparency (where diff images\n",
       "                // almost always do), so we need to clear the canvas so that\n",
       "                // there is no ghosting.\n",
       "                fig.context.clearRect(0, 0, fig.canvas.width, fig.canvas.height);\n",
       "            }\n",
       "            fig.context.drawImage(fig.imageObj, 0, 0);\n",
       "        };\n",
       "\n",
       "    this.imageObj.onunload = function() {\n",
       "        fig.ws.close();\n",
       "    }\n",
       "\n",
       "    this.ws.onmessage = this._make_on_message_function(this);\n",
       "\n",
       "    this.ondownload = ondownload;\n",
       "}\n",
       "\n",
       "mpl.figure.prototype._init_header = function() {\n",
       "    var titlebar = $(\n",
       "        '<div class=\"ui-dialog-titlebar ui-widget-header ui-corner-all ' +\n",
       "        'ui-helper-clearfix\"/>');\n",
       "    var titletext = $(\n",
       "        '<div class=\"ui-dialog-title\" style=\"width: 100%; ' +\n",
       "        'text-align: center; padding: 3px;\"/>');\n",
       "    titlebar.append(titletext)\n",
       "    this.root.append(titlebar);\n",
       "    this.header = titletext[0];\n",
       "}\n",
       "\n",
       "\n",
       "\n",
       "mpl.figure.prototype._canvas_extra_style = function(canvas_div) {\n",
       "\n",
       "}\n",
       "\n",
       "\n",
       "mpl.figure.prototype._root_extra_style = function(canvas_div) {\n",
       "\n",
       "}\n",
       "\n",
       "mpl.figure.prototype._init_canvas = function() {\n",
       "    var fig = this;\n",
       "\n",
       "    var canvas_div = $('<div/>');\n",
       "\n",
       "    canvas_div.attr('style', 'position: relative; clear: both; outline: 0');\n",
       "\n",
       "    function canvas_keyboard_event(event) {\n",
       "        return fig.key_event(event, event['data']);\n",
       "    }\n",
       "\n",
       "    canvas_div.keydown('key_press', canvas_keyboard_event);\n",
       "    canvas_div.keyup('key_release', canvas_keyboard_event);\n",
       "    this.canvas_div = canvas_div\n",
       "    this._canvas_extra_style(canvas_div)\n",
       "    this.root.append(canvas_div);\n",
       "\n",
       "    var canvas = $('<canvas/>');\n",
       "    canvas.addClass('mpl-canvas');\n",
       "    canvas.attr('style', \"left: 0; top: 0; z-index: 0; outline: 0\")\n",
       "\n",
       "    this.canvas = canvas[0];\n",
       "    this.context = canvas[0].getContext(\"2d\");\n",
       "\n",
       "    var backingStore = this.context.backingStorePixelRatio ||\n",
       "\tthis.context.webkitBackingStorePixelRatio ||\n",
       "\tthis.context.mozBackingStorePixelRatio ||\n",
       "\tthis.context.msBackingStorePixelRatio ||\n",
       "\tthis.context.oBackingStorePixelRatio ||\n",
       "\tthis.context.backingStorePixelRatio || 1;\n",
       "\n",
       "    mpl.ratio = (window.devicePixelRatio || 1) / backingStore;\n",
       "\n",
       "    var rubberband = $('<canvas/>');\n",
       "    rubberband.attr('style', \"position: absolute; left: 0; top: 0; z-index: 1;\")\n",
       "\n",
       "    var pass_mouse_events = true;\n",
       "\n",
       "    canvas_div.resizable({\n",
       "        start: function(event, ui) {\n",
       "            pass_mouse_events = false;\n",
       "        },\n",
       "        resize: function(event, ui) {\n",
       "            fig.request_resize(ui.size.width, ui.size.height);\n",
       "        },\n",
       "        stop: function(event, ui) {\n",
       "            pass_mouse_events = true;\n",
       "            fig.request_resize(ui.size.width, ui.size.height);\n",
       "        },\n",
       "    });\n",
       "\n",
       "    function mouse_event_fn(event) {\n",
       "        if (pass_mouse_events)\n",
       "            return fig.mouse_event(event, event['data']);\n",
       "    }\n",
       "\n",
       "    rubberband.mousedown('button_press', mouse_event_fn);\n",
       "    rubberband.mouseup('button_release', mouse_event_fn);\n",
       "    // Throttle sequential mouse events to 1 every 20ms.\n",
       "    rubberband.mousemove('motion_notify', mouse_event_fn);\n",
       "\n",
       "    rubberband.mouseenter('figure_enter', mouse_event_fn);\n",
       "    rubberband.mouseleave('figure_leave', mouse_event_fn);\n",
       "\n",
       "    canvas_div.on(\"wheel\", function (event) {\n",
       "        event = event.originalEvent;\n",
       "        event['data'] = 'scroll'\n",
       "        if (event.deltaY < 0) {\n",
       "            event.step = 1;\n",
       "        } else {\n",
       "            event.step = -1;\n",
       "        }\n",
       "        mouse_event_fn(event);\n",
       "    });\n",
       "\n",
       "    canvas_div.append(canvas);\n",
       "    canvas_div.append(rubberband);\n",
       "\n",
       "    this.rubberband = rubberband;\n",
       "    this.rubberband_canvas = rubberband[0];\n",
       "    this.rubberband_context = rubberband[0].getContext(\"2d\");\n",
       "    this.rubberband_context.strokeStyle = \"#000000\";\n",
       "\n",
       "    this._resize_canvas = function(width, height) {\n",
       "        // Keep the size of the canvas, canvas container, and rubber band\n",
       "        // canvas in synch.\n",
       "        canvas_div.css('width', width)\n",
       "        canvas_div.css('height', height)\n",
       "\n",
       "        canvas.attr('width', width * mpl.ratio);\n",
       "        canvas.attr('height', height * mpl.ratio);\n",
       "        canvas.attr('style', 'width: ' + width + 'px; height: ' + height + 'px;');\n",
       "\n",
       "        rubberband.attr('width', width);\n",
       "        rubberband.attr('height', height);\n",
       "    }\n",
       "\n",
       "    // Set the figure to an initial 600x600px, this will subsequently be updated\n",
       "    // upon first draw.\n",
       "    this._resize_canvas(600, 600);\n",
       "\n",
       "    // Disable right mouse context menu.\n",
       "    $(this.rubberband_canvas).bind(\"contextmenu\",function(e){\n",
       "        return false;\n",
       "    });\n",
       "\n",
       "    function set_focus () {\n",
       "        canvas.focus();\n",
       "        canvas_div.focus();\n",
       "    }\n",
       "\n",
       "    window.setTimeout(set_focus, 100);\n",
       "}\n",
       "\n",
       "mpl.figure.prototype._init_toolbar = function() {\n",
       "    var fig = this;\n",
       "\n",
       "    var nav_element = $('<div/>');\n",
       "    nav_element.attr('style', 'width: 100%');\n",
       "    this.root.append(nav_element);\n",
       "\n",
       "    // Define a callback function for later on.\n",
       "    function toolbar_event(event) {\n",
       "        return fig.toolbar_button_onclick(event['data']);\n",
       "    }\n",
       "    function toolbar_mouse_event(event) {\n",
       "        return fig.toolbar_button_onmouseover(event['data']);\n",
       "    }\n",
       "\n",
       "    for(var toolbar_ind in mpl.toolbar_items) {\n",
       "        var name = mpl.toolbar_items[toolbar_ind][0];\n",
       "        var tooltip = mpl.toolbar_items[toolbar_ind][1];\n",
       "        var image = mpl.toolbar_items[toolbar_ind][2];\n",
       "        var method_name = mpl.toolbar_items[toolbar_ind][3];\n",
       "\n",
       "        if (!name) {\n",
       "            // put a spacer in here.\n",
       "            continue;\n",
       "        }\n",
       "        var button = $('<button/>');\n",
       "        button.addClass('ui-button ui-widget ui-state-default ui-corner-all ' +\n",
       "                        'ui-button-icon-only');\n",
       "        button.attr('role', 'button');\n",
       "        button.attr('aria-disabled', 'false');\n",
       "        button.click(method_name, toolbar_event);\n",
       "        button.mouseover(tooltip, toolbar_mouse_event);\n",
       "\n",
       "        var icon_img = $('<span/>');\n",
       "        icon_img.addClass('ui-button-icon-primary ui-icon');\n",
       "        icon_img.addClass(image);\n",
       "        icon_img.addClass('ui-corner-all');\n",
       "\n",
       "        var tooltip_span = $('<span/>');\n",
       "        tooltip_span.addClass('ui-button-text');\n",
       "        tooltip_span.html(tooltip);\n",
       "\n",
       "        button.append(icon_img);\n",
       "        button.append(tooltip_span);\n",
       "\n",
       "        nav_element.append(button);\n",
       "    }\n",
       "\n",
       "    var fmt_picker_span = $('<span/>');\n",
       "\n",
       "    var fmt_picker = $('<select/>');\n",
       "    fmt_picker.addClass('mpl-toolbar-option ui-widget ui-widget-content');\n",
       "    fmt_picker_span.append(fmt_picker);\n",
       "    nav_element.append(fmt_picker_span);\n",
       "    this.format_dropdown = fmt_picker[0];\n",
       "\n",
       "    for (var ind in mpl.extensions) {\n",
       "        var fmt = mpl.extensions[ind];\n",
       "        var option = $(\n",
       "            '<option/>', {selected: fmt === mpl.default_extension}).html(fmt);\n",
       "        fmt_picker.append(option);\n",
       "    }\n",
       "\n",
       "    // Add hover states to the ui-buttons\n",
       "    $( \".ui-button\" ).hover(\n",
       "        function() { $(this).addClass(\"ui-state-hover\");},\n",
       "        function() { $(this).removeClass(\"ui-state-hover\");}\n",
       "    );\n",
       "\n",
       "    var status_bar = $('<span class=\"mpl-message\"/>');\n",
       "    nav_element.append(status_bar);\n",
       "    this.message = status_bar[0];\n",
       "}\n",
       "\n",
       "mpl.figure.prototype.request_resize = function(x_pixels, y_pixels) {\n",
       "    // Request matplotlib to resize the figure. Matplotlib will then trigger a resize in the client,\n",
       "    // which will in turn request a refresh of the image.\n",
       "    this.send_message('resize', {'width': x_pixels, 'height': y_pixels});\n",
       "}\n",
       "\n",
       "mpl.figure.prototype.send_message = function(type, properties) {\n",
       "    properties['type'] = type;\n",
       "    properties['figure_id'] = this.id;\n",
       "    this.ws.send(JSON.stringify(properties));\n",
       "}\n",
       "\n",
       "mpl.figure.prototype.send_draw_message = function() {\n",
       "    if (!this.waiting) {\n",
       "        this.waiting = true;\n",
       "        this.ws.send(JSON.stringify({type: \"draw\", figure_id: this.id}));\n",
       "    }\n",
       "}\n",
       "\n",
       "\n",
       "mpl.figure.prototype.handle_save = function(fig, msg) {\n",
       "    var format_dropdown = fig.format_dropdown;\n",
       "    var format = format_dropdown.options[format_dropdown.selectedIndex].value;\n",
       "    fig.ondownload(fig, format);\n",
       "}\n",
       "\n",
       "\n",
       "mpl.figure.prototype.handle_resize = function(fig, msg) {\n",
       "    var size = msg['size'];\n",
       "    if (size[0] != fig.canvas.width || size[1] != fig.canvas.height) {\n",
       "        fig._resize_canvas(size[0], size[1]);\n",
       "        fig.send_message(\"refresh\", {});\n",
       "    };\n",
       "}\n",
       "\n",
       "mpl.figure.prototype.handle_rubberband = function(fig, msg) {\n",
       "    var x0 = msg['x0'] / mpl.ratio;\n",
       "    var y0 = (fig.canvas.height - msg['y0']) / mpl.ratio;\n",
       "    var x1 = msg['x1'] / mpl.ratio;\n",
       "    var y1 = (fig.canvas.height - msg['y1']) / mpl.ratio;\n",
       "    x0 = Math.floor(x0) + 0.5;\n",
       "    y0 = Math.floor(y0) + 0.5;\n",
       "    x1 = Math.floor(x1) + 0.5;\n",
       "    y1 = Math.floor(y1) + 0.5;\n",
       "    var min_x = Math.min(x0, x1);\n",
       "    var min_y = Math.min(y0, y1);\n",
       "    var width = Math.abs(x1 - x0);\n",
       "    var height = Math.abs(y1 - y0);\n",
       "\n",
       "    fig.rubberband_context.clearRect(\n",
       "        0, 0, fig.canvas.width / mpl.ratio, fig.canvas.height / mpl.ratio);\n",
       "\n",
       "    fig.rubberband_context.strokeRect(min_x, min_y, width, height);\n",
       "}\n",
       "\n",
       "mpl.figure.prototype.handle_figure_label = function(fig, msg) {\n",
       "    // Updates the figure title.\n",
       "    fig.header.textContent = msg['label'];\n",
       "}\n",
       "\n",
       "mpl.figure.prototype.handle_cursor = function(fig, msg) {\n",
       "    var cursor = msg['cursor'];\n",
       "    switch(cursor)\n",
       "    {\n",
       "    case 0:\n",
       "        cursor = 'pointer';\n",
       "        break;\n",
       "    case 1:\n",
       "        cursor = 'default';\n",
       "        break;\n",
       "    case 2:\n",
       "        cursor = 'crosshair';\n",
       "        break;\n",
       "    case 3:\n",
       "        cursor = 'move';\n",
       "        break;\n",
       "    }\n",
       "    fig.rubberband_canvas.style.cursor = cursor;\n",
       "}\n",
       "\n",
       "mpl.figure.prototype.handle_message = function(fig, msg) {\n",
       "    fig.message.textContent = msg['message'];\n",
       "}\n",
       "\n",
       "mpl.figure.prototype.handle_draw = function(fig, msg) {\n",
       "    // Request the server to send over a new figure.\n",
       "    fig.send_draw_message();\n",
       "}\n",
       "\n",
       "mpl.figure.prototype.handle_image_mode = function(fig, msg) {\n",
       "    fig.image_mode = msg['mode'];\n",
       "}\n",
       "\n",
       "mpl.figure.prototype.updated_canvas_event = function() {\n",
       "    // Called whenever the canvas gets updated.\n",
       "    this.send_message(\"ack\", {});\n",
       "}\n",
       "\n",
       "// A function to construct a web socket function for onmessage handling.\n",
       "// Called in the figure constructor.\n",
       "mpl.figure.prototype._make_on_message_function = function(fig) {\n",
       "    return function socket_on_message(evt) {\n",
       "        if (evt.data instanceof Blob) {\n",
       "            /* FIXME: We get \"Resource interpreted as Image but\n",
       "             * transferred with MIME type text/plain:\" errors on\n",
       "             * Chrome.  But how to set the MIME type?  It doesn't seem\n",
       "             * to be part of the websocket stream */\n",
       "            evt.data.type = \"image/png\";\n",
       "\n",
       "            /* Free the memory for the previous frames */\n",
       "            if (fig.imageObj.src) {\n",
       "                (window.URL || window.webkitURL).revokeObjectURL(\n",
       "                    fig.imageObj.src);\n",
       "            }\n",
       "\n",
       "            fig.imageObj.src = (window.URL || window.webkitURL).createObjectURL(\n",
       "                evt.data);\n",
       "            fig.updated_canvas_event();\n",
       "            fig.waiting = false;\n",
       "            return;\n",
       "        }\n",
       "        else if (typeof evt.data === 'string' && evt.data.slice(0, 21) == \"data:image/png;base64\") {\n",
       "            fig.imageObj.src = evt.data;\n",
       "            fig.updated_canvas_event();\n",
       "            fig.waiting = false;\n",
       "            return;\n",
       "        }\n",
       "\n",
       "        var msg = JSON.parse(evt.data);\n",
       "        var msg_type = msg['type'];\n",
       "\n",
       "        // Call the  \"handle_{type}\" callback, which takes\n",
       "        // the figure and JSON message as its only arguments.\n",
       "        try {\n",
       "            var callback = fig[\"handle_\" + msg_type];\n",
       "        } catch (e) {\n",
       "            console.log(\"No handler for the '\" + msg_type + \"' message type: \", msg);\n",
       "            return;\n",
       "        }\n",
       "\n",
       "        if (callback) {\n",
       "            try {\n",
       "                // console.log(\"Handling '\" + msg_type + \"' message: \", msg);\n",
       "                callback(fig, msg);\n",
       "            } catch (e) {\n",
       "                console.log(\"Exception inside the 'handler_\" + msg_type + \"' callback:\", e, e.stack, msg);\n",
       "            }\n",
       "        }\n",
       "    };\n",
       "}\n",
       "\n",
       "// from http://stackoverflow.com/questions/1114465/getting-mouse-location-in-canvas\n",
       "mpl.findpos = function(e) {\n",
       "    //this section is from http://www.quirksmode.org/js/events_properties.html\n",
       "    var targ;\n",
       "    if (!e)\n",
       "        e = window.event;\n",
       "    if (e.target)\n",
       "        targ = e.target;\n",
       "    else if (e.srcElement)\n",
       "        targ = e.srcElement;\n",
       "    if (targ.nodeType == 3) // defeat Safari bug\n",
       "        targ = targ.parentNode;\n",
       "\n",
       "    // jQuery normalizes the pageX and pageY\n",
       "    // pageX,Y are the mouse positions relative to the document\n",
       "    // offset() returns the position of the element relative to the document\n",
       "    var x = e.pageX - $(targ).offset().left;\n",
       "    var y = e.pageY - $(targ).offset().top;\n",
       "\n",
       "    return {\"x\": x, \"y\": y};\n",
       "};\n",
       "\n",
       "/*\n",
       " * return a copy of an object with only non-object keys\n",
       " * we need this to avoid circular references\n",
       " * http://stackoverflow.com/a/24161582/3208463\n",
       " */\n",
       "function simpleKeys (original) {\n",
       "  return Object.keys(original).reduce(function (obj, key) {\n",
       "    if (typeof original[key] !== 'object')\n",
       "        obj[key] = original[key]\n",
       "    return obj;\n",
       "  }, {});\n",
       "}\n",
       "\n",
       "mpl.figure.prototype.mouse_event = function(event, name) {\n",
       "    var canvas_pos = mpl.findpos(event)\n",
       "\n",
       "    if (name === 'button_press')\n",
       "    {\n",
       "        this.canvas.focus();\n",
       "        this.canvas_div.focus();\n",
       "    }\n",
       "\n",
       "    var x = canvas_pos.x * mpl.ratio;\n",
       "    var y = canvas_pos.y * mpl.ratio;\n",
       "\n",
       "    this.send_message(name, {x: x, y: y, button: event.button,\n",
       "                             step: event.step,\n",
       "                             guiEvent: simpleKeys(event)});\n",
       "\n",
       "    /* This prevents the web browser from automatically changing to\n",
       "     * the text insertion cursor when the button is pressed.  We want\n",
       "     * to control all of the cursor setting manually through the\n",
       "     * 'cursor' event from matplotlib */\n",
       "    event.preventDefault();\n",
       "    return false;\n",
       "}\n",
       "\n",
       "mpl.figure.prototype._key_event_extra = function(event, name) {\n",
       "    // Handle any extra behaviour associated with a key event\n",
       "}\n",
       "\n",
       "mpl.figure.prototype.key_event = function(event, name) {\n",
       "\n",
       "    // Prevent repeat events\n",
       "    if (name == 'key_press')\n",
       "    {\n",
       "        if (event.which === this._key)\n",
       "            return;\n",
       "        else\n",
       "            this._key = event.which;\n",
       "    }\n",
       "    if (name == 'key_release')\n",
       "        this._key = null;\n",
       "\n",
       "    var value = '';\n",
       "    if (event.ctrlKey && event.which != 17)\n",
       "        value += \"ctrl+\";\n",
       "    if (event.altKey && event.which != 18)\n",
       "        value += \"alt+\";\n",
       "    if (event.shiftKey && event.which != 16)\n",
       "        value += \"shift+\";\n",
       "\n",
       "    value += 'k';\n",
       "    value += event.which.toString();\n",
       "\n",
       "    this._key_event_extra(event, name);\n",
       "\n",
       "    this.send_message(name, {key: value,\n",
       "                             guiEvent: simpleKeys(event)});\n",
       "    return false;\n",
       "}\n",
       "\n",
       "mpl.figure.prototype.toolbar_button_onclick = function(name) {\n",
       "    if (name == 'download') {\n",
       "        this.handle_save(this, null);\n",
       "    } else {\n",
       "        this.send_message(\"toolbar_button\", {name: name});\n",
       "    }\n",
       "};\n",
       "\n",
       "mpl.figure.prototype.toolbar_button_onmouseover = function(tooltip) {\n",
       "    this.message.textContent = tooltip;\n",
       "};\n",
       "mpl.toolbar_items = [[\"Home\", \"Reset original view\", \"fa fa-home icon-home\", \"home\"], [\"Back\", \"Back to previous view\", \"fa fa-arrow-left icon-arrow-left\", \"back\"], [\"Forward\", \"Forward to next view\", \"fa fa-arrow-right icon-arrow-right\", \"forward\"], [\"\", \"\", \"\", \"\"], [\"Pan\", \"Pan axes with left mouse, zoom with right\", \"fa fa-arrows icon-move\", \"pan\"], [\"Zoom\", \"Zoom to rectangle\", \"fa fa-square-o icon-check-empty\", \"zoom\"], [\"\", \"\", \"\", \"\"], [\"Download\", \"Download plot\", \"fa fa-floppy-o icon-save\", \"download\"]];\n",
       "\n",
       "mpl.extensions = [\"eps\", \"jpeg\", \"pdf\", \"png\", \"ps\", \"raw\", \"svg\", \"tif\"];\n",
       "\n",
       "mpl.default_extension = \"png\";var comm_websocket_adapter = function(comm) {\n",
       "    // Create a \"websocket\"-like object which calls the given IPython comm\n",
       "    // object with the appropriate methods. Currently this is a non binary\n",
       "    // socket, so there is still some room for performance tuning.\n",
       "    var ws = {};\n",
       "\n",
       "    ws.close = function() {\n",
       "        comm.close()\n",
       "    };\n",
       "    ws.send = function(m) {\n",
       "        //console.log('sending', m);\n",
       "        comm.send(m);\n",
       "    };\n",
       "    // Register the callback with on_msg.\n",
       "    comm.on_msg(function(msg) {\n",
       "        //console.log('receiving', msg['content']['data'], msg);\n",
       "        // Pass the mpl event to the overridden (by mpl) onmessage function.\n",
       "        ws.onmessage(msg['content']['data'])\n",
       "    });\n",
       "    return ws;\n",
       "}\n",
       "\n",
       "mpl.mpl_figure_comm = function(comm, msg) {\n",
       "    // This is the function which gets called when the mpl process\n",
       "    // starts-up an IPython Comm through the \"matplotlib\" channel.\n",
       "\n",
       "    var id = msg.content.data.id;\n",
       "    // Get hold of the div created by the display call when the Comm\n",
       "    // socket was opened in Python.\n",
       "    var element = $(\"#\" + id);\n",
       "    var ws_proxy = comm_websocket_adapter(comm)\n",
       "\n",
       "    function ondownload(figure, format) {\n",
       "        window.open(figure.imageObj.src);\n",
       "    }\n",
       "\n",
       "    var fig = new mpl.figure(id, ws_proxy,\n",
       "                           ondownload,\n",
       "                           element.get(0));\n",
       "\n",
       "    // Call onopen now - mpl needs it, as it is assuming we've passed it a real\n",
       "    // web socket which is closed, not our websocket->open comm proxy.\n",
       "    ws_proxy.onopen();\n",
       "\n",
       "    fig.parent_element = element.get(0);\n",
       "    fig.cell_info = mpl.find_output_cell(\"<div id='\" + id + \"'></div>\");\n",
       "    if (!fig.cell_info) {\n",
       "        console.error(\"Failed to find cell for figure\", id, fig);\n",
       "        return;\n",
       "    }\n",
       "\n",
       "    var output_index = fig.cell_info[2]\n",
       "    var cell = fig.cell_info[0];\n",
       "\n",
       "};\n",
       "\n",
       "mpl.figure.prototype.handle_close = function(fig, msg) {\n",
       "    var width = fig.canvas.width/mpl.ratio\n",
       "    fig.root.unbind('remove')\n",
       "\n",
       "    // Update the output cell to use the data from the current canvas.\n",
       "    fig.push_to_output();\n",
       "    var dataURL = fig.canvas.toDataURL();\n",
       "    // Re-enable the keyboard manager in IPython - without this line, in FF,\n",
       "    // the notebook keyboard shortcuts fail.\n",
       "    IPython.keyboard_manager.enable()\n",
       "    $(fig.parent_element).html('<img src=\"' + dataURL + '\" width=\"' + width + '\">');\n",
       "    fig.close_ws(fig, msg);\n",
       "}\n",
       "\n",
       "mpl.figure.prototype.close_ws = function(fig, msg){\n",
       "    fig.send_message('closing', msg);\n",
       "    // fig.ws.close()\n",
       "}\n",
       "\n",
       "mpl.figure.prototype.push_to_output = function(remove_interactive) {\n",
       "    // Turn the data on the canvas into data in the output cell.\n",
       "    var width = this.canvas.width/mpl.ratio\n",
       "    var dataURL = this.canvas.toDataURL();\n",
       "    this.cell_info[1]['text/html'] = '<img src=\"' + dataURL + '\" width=\"' + width + '\">';\n",
       "}\n",
       "\n",
       "mpl.figure.prototype.updated_canvas_event = function() {\n",
       "    // Tell IPython that the notebook contents must change.\n",
       "    IPython.notebook.set_dirty(true);\n",
       "    this.send_message(\"ack\", {});\n",
       "    var fig = this;\n",
       "    // Wait a second, then push the new image to the DOM so\n",
       "    // that it is saved nicely (might be nice to debounce this).\n",
       "    setTimeout(function () { fig.push_to_output() }, 1000);\n",
       "}\n",
       "\n",
       "mpl.figure.prototype._init_toolbar = function() {\n",
       "    var fig = this;\n",
       "\n",
       "    var nav_element = $('<div/>');\n",
       "    nav_element.attr('style', 'width: 100%');\n",
       "    this.root.append(nav_element);\n",
       "\n",
       "    // Define a callback function for later on.\n",
       "    function toolbar_event(event) {\n",
       "        return fig.toolbar_button_onclick(event['data']);\n",
       "    }\n",
       "    function toolbar_mouse_event(event) {\n",
       "        return fig.toolbar_button_onmouseover(event['data']);\n",
       "    }\n",
       "\n",
       "    for(var toolbar_ind in mpl.toolbar_items){\n",
       "        var name = mpl.toolbar_items[toolbar_ind][0];\n",
       "        var tooltip = mpl.toolbar_items[toolbar_ind][1];\n",
       "        var image = mpl.toolbar_items[toolbar_ind][2];\n",
       "        var method_name = mpl.toolbar_items[toolbar_ind][3];\n",
       "\n",
       "        if (!name) { continue; };\n",
       "\n",
       "        var button = $('<button class=\"btn btn-default\" href=\"#\" title=\"' + name + '\"><i class=\"fa ' + image + ' fa-lg\"></i></button>');\n",
       "        button.click(method_name, toolbar_event);\n",
       "        button.mouseover(tooltip, toolbar_mouse_event);\n",
       "        nav_element.append(button);\n",
       "    }\n",
       "\n",
       "    // Add the status bar.\n",
       "    var status_bar = $('<span class=\"mpl-message\" style=\"text-align:right; float: right;\"/>');\n",
       "    nav_element.append(status_bar);\n",
       "    this.message = status_bar[0];\n",
       "\n",
       "    // Add the close button to the window.\n",
       "    var buttongrp = $('<div class=\"btn-group inline pull-right\"></div>');\n",
       "    var button = $('<button class=\"btn btn-mini btn-primary\" href=\"#\" title=\"Stop Interaction\"><i class=\"fa fa-power-off icon-remove icon-large\"></i></button>');\n",
       "    button.click(function (evt) { fig.handle_close(fig, {}); } );\n",
       "    button.mouseover('Stop Interaction', toolbar_mouse_event);\n",
       "    buttongrp.append(button);\n",
       "    var titlebar = this.root.find($('.ui-dialog-titlebar'));\n",
       "    titlebar.prepend(buttongrp);\n",
       "}\n",
       "\n",
       "mpl.figure.prototype._root_extra_style = function(el){\n",
       "    var fig = this\n",
       "    el.on(\"remove\", function(){\n",
       "\tfig.close_ws(fig, {});\n",
       "    });\n",
       "}\n",
       "\n",
       "mpl.figure.prototype._canvas_extra_style = function(el){\n",
       "    // this is important to make the div 'focusable\n",
       "    el.attr('tabindex', 0)\n",
       "    // reach out to IPython and tell the keyboard manager to turn it's self\n",
       "    // off when our div gets focus\n",
       "\n",
       "    // location in version 3\n",
       "    if (IPython.notebook.keyboard_manager) {\n",
       "        IPython.notebook.keyboard_manager.register_events(el);\n",
       "    }\n",
       "    else {\n",
       "        // location in version 2\n",
       "        IPython.keyboard_manager.register_events(el);\n",
       "    }\n",
       "\n",
       "}\n",
       "\n",
       "mpl.figure.prototype._key_event_extra = function(event, name) {\n",
       "    var manager = IPython.notebook.keyboard_manager;\n",
       "    if (!manager)\n",
       "        manager = IPython.keyboard_manager;\n",
       "\n",
       "    // Check for shift+enter\n",
       "    if (event.shiftKey && event.which == 13) {\n",
       "        this.canvas_div.blur();\n",
       "        event.shiftKey = false;\n",
       "        // Send a \"J\" for go to next cell\n",
       "        event.which = 74;\n",
       "        event.keyCode = 74;\n",
       "        manager.command_mode();\n",
       "        manager.handle_keydown(event);\n",
       "    }\n",
       "}\n",
       "\n",
       "mpl.figure.prototype.handle_save = function(fig, msg) {\n",
       "    fig.ondownload(fig, null);\n",
       "}\n",
       "\n",
       "\n",
       "mpl.find_output_cell = function(html_output) {\n",
       "    // Return the cell and output element which can be found *uniquely* in the notebook.\n",
       "    // Note - this is a bit hacky, but it is done because the \"notebook_saving.Notebook\"\n",
       "    // IPython event is triggered only after the cells have been serialised, which for\n",
       "    // our purposes (turning an active figure into a static one), is too late.\n",
       "    var cells = IPython.notebook.get_cells();\n",
       "    var ncells = cells.length;\n",
       "    for (var i=0; i<ncells; i++) {\n",
       "        var cell = cells[i];\n",
       "        if (cell.cell_type === 'code'){\n",
       "            for (var j=0; j<cell.output_area.outputs.length; j++) {\n",
       "                var data = cell.output_area.outputs[j];\n",
       "                if (data.data) {\n",
       "                    // IPython >= 3 moved mimebundle to data attribute of output\n",
       "                    data = data.data;\n",
       "                }\n",
       "                if (data['text/html'] == html_output) {\n",
       "                    return [cell, data, j];\n",
       "                }\n",
       "            }\n",
       "        }\n",
       "    }\n",
       "}\n",
       "\n",
       "// Register the function which deals with the matplotlib target/channel.\n",
       "// The kernel may be null if the page has been refreshed.\n",
       "if (IPython.notebook.kernel != null) {\n",
       "    IPython.notebook.kernel.comm_manager.register_target('matplotlib', mpl.mpl_figure_comm);\n",
       "}\n"
      ],
      "text/plain": [
       "<IPython.core.display.Javascript object>"
      ]
     },
     "metadata": {},
     "output_type": "display_data"
    },
    {
     "data": {
      "text/html": [
       "<img src=\"data:image/png;base64,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\" width=\"999.99994220156\">"
      ],
      "text/plain": [
       "<IPython.core.display.HTML object>"
      ]
     },
     "metadata": {},
     "output_type": "display_data"
    },
    {
     "name": "stdout",
     "output_type": "stream",
     "text": [
      "23536\n",
      "[ 68815  59068  74365 130618  90760 115432 100424   7064 132011  73173\n",
      " 114403 129323  75871 102431  40362 138737  21068 122988  40390  38530]\n"
     ]
    },
    {
     "data": {
      "text/plain": [
       "'\\nremove images w/ low signal to noise \\nSNR = 10*log(mean(img) / std(img))\\n\\n\\n\\n'"
      ]
     },
     "execution_count": 11,
     "metadata": {},
     "output_type": "execute_result"
    }
   ],
   "source": [
    "def showIm(idx, dataset, psx, classes):\n",
    "    img, label = dataset.__getitem__(idx)\n",
    "    img = img.data.numpy().squeeze()\n",
    "    label = label\n",
    "    pred = np.argmax(psx[idx])\n",
    "    title = \"Truth: {} Prediction: {}\".format(classes[label], classes[pred])\n",
    "    middle_slice = int(img.shape[0] / 2)\n",
    "    plt.imshow(img[middle_slice], cmap = 'gray')\n",
    "    plt.title(title)\n",
    "    \n",
    "    \n",
    "def showIm2(idxs, dataset, psx, classes):\n",
    "    imgs = []\n",
    "    labels = []\n",
    "    predictions = []\n",
    "    for idx in range(len(idxs)):\n",
    "        img, label = dataset.__getitem__(idx)\n",
    "        if label == np.argmax(psx[idx]):\n",
    "            continue\n",
    "        if label == 0 and np.argmax(psx[idx]) == 1:\n",
    "            continue\n",
    "        if label == 1 and np.argmax(psx[idx]) == 0:\n",
    "            continue\n",
    "        img = img.data.numpy().squeeze()\n",
    "        middle_slice = int(img.shape[0] / 2)\n",
    "        imgs.append(img[middle_slice])\n",
    "        labels.append(label)\n",
    "        predictions.append(np.argmax(psx[idx]))\n",
    "    \n",
    "    pw = 5\n",
    "    pl = 10\n",
    "    fig, axs = plt.subplots(pl, pw, figsize=(10,10),facecolor='w', edgecolor='k')\n",
    "    axs = axs.ravel()\n",
    "    #fig.subplots_adjust(hspace = 0.25, wspace= -0.75)\n",
    "    \n",
    "    for i in range(pw*pl):\n",
    "        title = \"Truth: {} Prediction: {}\".format(classes[labels[i]], classes[predictions[i]])\n",
    "        axs[i].imshow(imgs[i], cmap = plt.cm.gray)\n",
    "        axs[i].set_title(title, fontsize = 5)\n",
    "        axs[i].set_xticks([])\n",
    "        axs[i].set_yticks([])\n",
    "\n",
    "        \n",
    "#######################################################################        \n",
    "        \n",
    "        \n",
    "label_errors_idx = cleanlab.pruning.order_label_errors(\n",
    "    label_errors_bool = label_errors_bool,\n",
    "    psx = psx,\n",
    "    labels = labels,\n",
    "    #sorted_index_method = 'normalized_margin',\n",
    "    sorted_index_method = 'prob_given_label'\n",
    ")\n",
    "\n",
    "classes = ('S1', 'S2S3', 'TAL', 'DCT', 'CD', 'cd45', 'nestin', 'cd31_glom', 'cd31_inter')\n",
    "\n",
    "toShow = 30\n",
    "\n",
    "showIm2(label_errors_idx, train_dataset, psx, classes)\n",
    "\n",
    "\n",
    "\n",
    "\n",
    "print(len(label_errors_idx))\n",
    "print(label_errors_idx[:20])\n",
    "\n",
    "#notes\n",
    "'''\n",
    "remove images w/ low signal to noise \n",
    "SNR = 10*log(mean(img) / std(img))\n",
    "\n",
    "\n",
    "\n",
    "'''"
   ]
  },
  {
   "cell_type": "code",
   "execution_count": 41,
   "metadata": {},
   "outputs": [
    {
     "name": "stdout",
     "output_type": "stream",
     "text": [
      "[0 1 2 3 4 5 6 7 8]\n",
      "fin\n"
     ]
    }
   ],
   "source": [
    "from cleanlab.latent_estimation import estimate_py_and_noise_matrices_from_probabilities\n",
    "\n",
    "print(np.unique(labels))\n",
    "\n",
    "est_py, est_nm, est_inv, confident_joint = estimate_py_and_noise_matrices_from_probabilities(\n",
    "    s=labels,\n",
    "    psx=psx\n",
    ")\n",
    "print(\"fin\")\n",
    "\n"
   ]
  },
  {
   "cell_type": "code",
   "execution_count": 8,
   "metadata": {},
   "outputs": [
    {
     "name": "stdout",
     "output_type": "stream",
     "text": [
      "NEW FILE C:/Users/awoloshu/Desktop/datasets/f33f44combined_noCNT/3d_all/f33f44combined_noCNT_3d_all_prune_bad_labels.h5\n",
      "\n",
      "Successfully created C:/Users/awoloshu/Desktop/datasets/f33f44combined_noCNT/3d_all/f33f44combined_noCNT_3d_all_prune_bad_labels.h5\n",
      "===============\n",
      "6 keys in this file: ['/Metadata', '/test_data', '/test_ids', '/test_labels', '/train_data', '/train_labels']\n",
      "Training images: 118681\n",
      "Testing images: 20936\n",
      "Training image mean = 15.022874573172926 and std = 18.438763583389793\n",
      "Testing image mean = 14.399334246014213 and std = 18.52662211585272\n",
      "96632\n",
      "Mean SNR: -0.2604929990664147\n",
      "Std SNR: 0.7069048676692846\n",
      "Total number of low snr images 11257\n"
     ]
    },
    {
     "name": "stderr",
     "output_type": "stream",
     "text": [
      "C:\\Users\\awoloshu\\Documents\\pytorch36\\lib\\site-packages\\tables\\leaf.py:353: RuntimeWarning: overflow encountered in long_scalars\n",
      "  expected_mb = (expectedrows * rowsize) // MB\n"
     ]
    },
    {
     "name": "stdout",
     "output_type": "stream",
     "text": [
      "20936\n",
      "Mean SNR: -0.2854258253268697\n",
      "Std SNR: 0.7137553278666308\n",
      "Total number of low snr images 2488\n",
      "   TrainingNum  TestingNum  TrainingMean  TrainingStd\n",
      "0        85375       18448     15.747217    19.444072\n",
      "FIN\n",
      "\n",
      "\n",
      "\n",
      "\n",
      "Successfully created C:/Users/awoloshu/Desktop/datasets/f33f44combined_noCNT/3d_all/f33f44combined_noCNT_3d_all_prune_bad_labels.h5\n",
      "===============\n",
      "6 keys in this file: ['/Metadata', '/test_data', '/test_ids', '/test_labels', '/train_data', '/train_labels']\n"
     ]
    }
   ],
   "source": [
    "#REMOVE ALL BAD LABELS FROM TRAIN DATASET\n",
    "\n",
    "filename = config['data_loader']['args']['hdf5_path']\n",
    "path = filename.split('.')\n",
    "path = path[0] + \"_prune_bad_labels.h5\"\n",
    "print(\"NEW FILE \" + path)\n",
    "store = pd.HDFStore(path)\n",
    "with pd.HDFStore(filename) as f:\n",
    "        print()\n",
    "        print(\"Successfully created \" + path)\n",
    "        print(\"===============\")\n",
    "        keys = list(f.keys())\n",
    "        print(\"{0} keys in this file: {1}\".format(len(keys), keys))\n",
    "        \n",
    "        num_images_train = f['Metadata']['TrainingNum'][0]\n",
    "        num_images_test = f['Metadata']['TestingNum'][0]\n",
    "        mean = f['Metadata']['TrainingMean'][0]\n",
    "        std = f['Metadata']['TrainingStd'][0]\n",
    "        mean_t = np.mean(f['test_data'].to_numpy())\n",
    "        std_t = np.std(f['test_data'].to_numpy())\n",
    "        \n",
    "        print(\"Training images: \" + str(num_images_train))\n",
    "        print(\"Testing images: \" + str(num_images_test))\n",
    "        print(\"Training image mean = \" + str(mean) + \" and std = \" + str(std))\n",
    "        print(\"Testing image mean = \" + str(mean_t) + \" and std = \" + str(std_t))\n",
    "        \n",
    "        train_data = f['train_data'].to_numpy()\n",
    "        train_label = f['train_labels'].to_numpy()\n",
    "        \n",
    "        train_data = np.delete(train_data, label_errors_idx, axis = 0)\n",
    "        train_label = np.delete(train_label, label_errors_idx, axis = 0)\n",
    "        \n",
    "        num_images_train = len(train_data)\n",
    "        snrs = np.empty(num_images_train)\n",
    "        for i in range(num_images_train):\n",
    "            img = train_data[i]\n",
    "            img = (img - mean) / std\n",
    "            snr = np.mean(img) / np.std(img)\n",
    "            snrs[i] = snr\n",
    "        print(len(snrs))\n",
    "        print(\"Mean SNR: {}\".format(np.mean(snrs)))\n",
    "        print(\"Std SNR: {}\".format(np.std(snrs)))\n",
    "\n",
    "        low_snr = np.where(snrs < np.mean(snrs) - np.std(snrs))[0] #all images with SNR < 1 standard deviation from the mean\n",
    "        print(\"Total number of low snr images {}\".format(len(low_snr)))\n",
    "        \n",
    "        train_data = np.delete(train_data, low_snr, axis = 0)\n",
    "        train_label = np.delete(train_label, low_snr, axis = 0)\n",
    "        \n",
    "        store.append('train_data', pd.DataFrame(train_data.astype(np.int64)))\n",
    "        store.append('train_labels', pd.DataFrame(train_label.astype(np.int64)))\n",
    "        \n",
    "        \n",
    "        #REPEAT FOR TEST\n",
    "        test_data = f['test_data'].to_numpy()\n",
    "        test_label = f['test_labels'].to_numpy()\n",
    "        snrs = np.empty(num_images_test)\n",
    "        for i in range(num_images_test):\n",
    "            img = test_data[i]\n",
    "            img = (img - mean) / std\n",
    "            snr = np.mean(img) / np.std(img)\n",
    "            snrs[i] = snr\n",
    "        print(len(snrs))\n",
    "        print(\"Mean SNR: {}\".format(np.mean(snrs)))\n",
    "        print(\"Std SNR: {}\".format(np.std(snrs)))\n",
    "\n",
    "        low_snr = np.where(snrs < np.mean(snrs) - np.std(snrs))[0] #all images with SNR < 1 standard deviation from the mean\n",
    "        print(\"Total number of low snr images {}\".format(len(low_snr)))\n",
    "        \n",
    "        test_data = np.delete(test_data, low_snr, axis = 0)\n",
    "        test_label = np.delete(test_label, low_snr, axis = 0)\n",
    "        \n",
    "        store.append('test_data', pd.DataFrame(test_data.astype(np.int64)))\n",
    "        store.append('test_labels', pd.DataFrame(test_label.astype(np.int64)))\n",
    "        \n",
    "        \n",
    "                \n",
    "        metadata = pd.DataFrame({'TrainingNum': len(train_data), 'TestingNum': len(test_data), \\\n",
    "                'TrainingMean': np.mean(train_data), 'TrainingStd': np.std(train_data)}, index=[0])      \n",
    "        store.append('Metadata', metadata)\n",
    "        store.append('test_ids', f['test_ids'])\n",
    "\n",
    "        print(metadata)\n",
    "        \n",
    "        del train_data\n",
    "        print(\"FIN\")\n",
    "store.close()\n",
    "\n",
    "with pd.HDFStore(path) as f:\n",
    "        print('\\n\\n\\n')\n",
    "        print(\"Successfully created \" + path)\n",
    "        print(\"===============\")\n",
    "        keys = list(f.keys())\n",
    "        print(\"{0} keys in this file: {1}\".format(len(keys), keys))"
   ]
  },
  {
   "cell_type": "code",
   "execution_count": null,
   "metadata": {},
   "outputs": [],
   "source": [
    "#CHANGE ALL BAD LABELS IN DATASET"
   ]
  }
 ],
 "metadata": {
  "kernelspec": {
   "display_name": "Python 3",
   "language": "python",
   "name": "python3"
  },
  "language_info": {
   "codemirror_mode": {
    "name": "ipython",
    "version": 3
   },
   "file_extension": ".py",
   "mimetype": "text/x-python",
   "name": "python",
   "nbconvert_exporter": "python",
   "pygments_lexer": "ipython3",
   "version": "3.6.7"
  }
 },
 "nbformat": 4,
 "nbformat_minor": 2
}
