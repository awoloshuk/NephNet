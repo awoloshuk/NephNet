{
 "cells": [
  {
   "cell_type": "code",
   "execution_count": 1,
   "metadata": {},
   "outputs": [
    {
     "name": "stdout",
     "output_type": "stream",
     "text": [
      "Modules loaded\n",
      "Reload complete\n",
      "GPUs available: 1\n"
     ]
    },
    {
     "name": "stderr",
     "output_type": "stream",
     "text": [
      "/home/awoloshu/miniconda3/envs/pytorch36/lib/python3.6/site-packages/tqdm/autonotebook/__init__.py:14: TqdmExperimentalWarning: Using `tqdm.autonotebook.tqdm` in notebook mode. Use `tqdm.tqdm` instead to force console mode (e.g. in jupyter console)\n",
      "  \" (e.g. in jupyter console)\", TqdmExperimentalWarning)\n"
     ]
    }
   ],
   "source": [
    "%matplotlib notebook\n",
    "#%matplotlib inline\n",
    "import sys\n",
    "sys.path.append(\"..\")\n",
    "import matplotlib.pyplot as plt\n",
    "import os\n",
    "import numpy as np\n",
    "import json\n",
    "import argparse\n",
    "import torch\n",
    "from torch.optim import lr_scheduler\n",
    "from tqdm import tqdm\n",
    "from data_loader import data_loaders as module_data\n",
    "from model import loss as module_loss\n",
    "from model import metric as module_metric\n",
    "from model import model as module_arch\n",
    "from trainer import Trainer\n",
    "from utils import Logger\n",
    "from utils import util\n",
    "from utils import torchsummary\n",
    "from utils import viewTraining\n",
    "from utils import lr_finder\n",
    "from utils import classActivationMap\n",
    "import importlib\n",
    "import math\n",
    "import torchvision\n",
    "from torch.nn import functional as F\n",
    "from torch import topk\n",
    "import skimage.transform\n",
    "import jupyter\n",
    "from IPython import display\n",
    "from ipywidgets import *\n",
    "print(\"Modules loaded\")\n",
    "\n",
    "importlib.reload(module_data) #load recent changes to data_loaders.py\n",
    "importlib.reload(module_arch)\n",
    "importlib.reload(module_loss)\n",
    "importlib.reload(module_metric)\n",
    "importlib.reload(util)\n",
    "importlib.reload(viewTraining)\n",
    "importlib.reload(lr_finder)\n",
    "importlib.reload(classActivationMap)\n",
    "print(\"Reload complete\")\n",
    "\n",
    "print(\"GPUs available: \" + str(torch.cuda.device_count()))\n",
    "os.environ[\"CUDA_VISIBLE_DEVICES\"] = \"0,1\"\n",
    "\n",
    "\n"
   ]
  },
  {
   "cell_type": "code",
   "execution_count": 2,
   "metadata": {},
   "outputs": [
    {
     "data": {
      "application/javascript": [
       "Jupyter.keyboard_manager.disable();\n",
       "//System.out.println(\"disabled\");\n",
       "//Jupyter.keyboard_manager.command_shortcuts.remove_shortcut('j');\n",
       "//System.out.println(\"remove j\");\n",
       "//Jupyter.keyboard_manager.command_shortcuts.remove_shortcut('k');\n",
       "//System.out.println(\"remove k\");\n"
      ],
      "text/plain": [
       "<IPython.core.display.Javascript object>"
      ]
     },
     "metadata": {},
     "output_type": "display_data"
    }
   ],
   "source": [
    "%%javascript\n",
    "Jupyter.keyboard_manager.disable();\n",
    "//System.out.println(\"disabled\");\n",
    "//Jupyter.keyboard_manager.command_shortcuts.remove_shortcut('j');\n",
    "//System.out.println(\"remove j\");\n",
    "//Jupyter.keyboard_manager.command_shortcuts.remove_shortcut('k');\n",
    "//System.out.println(\"remove k\");"
   ]
  },
  {
   "cell_type": "code",
   "execution_count": 15,
   "metadata": {
    "scrolled": true
   },
   "outputs": [
    {
     "name": "stdout",
     "output_type": "stream",
     "text": [
      "Total number of training images = 1946\n"
     ]
    },
    {
     "name": "stderr",
     "output_type": "stream",
     "text": [
      "/home/awoloshu/miniconda3/envs/pytorch36/lib/python3.6/site-packages/scipy/ndimage/interpolation.py:605: UserWarning: From scipy 0.13.0, the output shape of zoom() is calculated with round() instead of int() - for these inputs the size of the returned array has changed.\n",
      "  \"the returned array has changed.\", UserWarning)\n",
      "/home/awoloshu/miniconda3/envs/pytorch36/lib/python3.6/site-packages/scipy/ndimage/interpolation.py:605: UserWarning: From scipy 0.13.0, the output shape of zoom() is calculated with round() instead of int() - for these inputs the size of the returned array has changed.\n",
      "  \"the returned array has changed.\", UserWarning)\n"
     ]
    },
    {
     "data": {
      "application/javascript": [
       "/* Put everything inside the global mpl namespace */\n",
       "window.mpl = {};\n",
       "\n",
       "\n",
       "mpl.get_websocket_type = function() {\n",
       "    if (typeof(WebSocket) !== 'undefined') {\n",
       "        return WebSocket;\n",
       "    } else if (typeof(MozWebSocket) !== 'undefined') {\n",
       "        return MozWebSocket;\n",
       "    } else {\n",
       "        alert('Your browser does not have WebSocket support. ' +\n",
       "              'Please try Chrome, Safari or Firefox ≥ 6. ' +\n",
       "              'Firefox 4 and 5 are also supported but you ' +\n",
       "              'have to enable WebSockets in about:config.');\n",
       "    };\n",
       "}\n",
       "\n",
       "mpl.figure = function(figure_id, websocket, ondownload, parent_element) {\n",
       "    this.id = figure_id;\n",
       "\n",
       "    this.ws = websocket;\n",
       "\n",
       "    this.supports_binary = (this.ws.binaryType != undefined);\n",
       "\n",
       "    if (!this.supports_binary) {\n",
       "        var warnings = document.getElementById(\"mpl-warnings\");\n",
       "        if (warnings) {\n",
       "            warnings.style.display = 'block';\n",
       "            warnings.textContent = (\n",
       "                \"This browser does not support binary websocket messages. \" +\n",
       "                    \"Performance may be slow.\");\n",
       "        }\n",
       "    }\n",
       "\n",
       "    this.imageObj = new Image();\n",
       "\n",
       "    this.context = undefined;\n",
       "    this.message = undefined;\n",
       "    this.canvas = undefined;\n",
       "    this.rubberband_canvas = undefined;\n",
       "    this.rubberband_context = undefined;\n",
       "    this.format_dropdown = undefined;\n",
       "\n",
       "    this.image_mode = 'full';\n",
       "\n",
       "    this.root = $('<div/>');\n",
       "    this._root_extra_style(this.root)\n",
       "    this.root.attr('style', 'display: inline-block');\n",
       "\n",
       "    $(parent_element).append(this.root);\n",
       "\n",
       "    this._init_header(this);\n",
       "    this._init_canvas(this);\n",
       "    this._init_toolbar(this);\n",
       "\n",
       "    var fig = this;\n",
       "\n",
       "    this.waiting = false;\n",
       "\n",
       "    this.ws.onopen =  function () {\n",
       "            fig.send_message(\"supports_binary\", {value: fig.supports_binary});\n",
       "            fig.send_message(\"send_image_mode\", {});\n",
       "            if (mpl.ratio != 1) {\n",
       "                fig.send_message(\"set_dpi_ratio\", {'dpi_ratio': mpl.ratio});\n",
       "            }\n",
       "            fig.send_message(\"refresh\", {});\n",
       "        }\n",
       "\n",
       "    this.imageObj.onload = function() {\n",
       "            if (fig.image_mode == 'full') {\n",
       "                // Full images could contain transparency (where diff images\n",
       "                // almost always do), so we need to clear the canvas so that\n",
       "                // there is no ghosting.\n",
       "                fig.context.clearRect(0, 0, fig.canvas.width, fig.canvas.height);\n",
       "            }\n",
       "            fig.context.drawImage(fig.imageObj, 0, 0);\n",
       "        };\n",
       "\n",
       "    this.imageObj.onunload = function() {\n",
       "        fig.ws.close();\n",
       "    }\n",
       "\n",
       "    this.ws.onmessage = this._make_on_message_function(this);\n",
       "\n",
       "    this.ondownload = ondownload;\n",
       "}\n",
       "\n",
       "mpl.figure.prototype._init_header = function() {\n",
       "    var titlebar = $(\n",
       "        '<div class=\"ui-dialog-titlebar ui-widget-header ui-corner-all ' +\n",
       "        'ui-helper-clearfix\"/>');\n",
       "    var titletext = $(\n",
       "        '<div class=\"ui-dialog-title\" style=\"width: 100%; ' +\n",
       "        'text-align: center; padding: 3px;\"/>');\n",
       "    titlebar.append(titletext)\n",
       "    this.root.append(titlebar);\n",
       "    this.header = titletext[0];\n",
       "}\n",
       "\n",
       "\n",
       "\n",
       "mpl.figure.prototype._canvas_extra_style = function(canvas_div) {\n",
       "\n",
       "}\n",
       "\n",
       "\n",
       "mpl.figure.prototype._root_extra_style = function(canvas_div) {\n",
       "\n",
       "}\n",
       "\n",
       "mpl.figure.prototype._init_canvas = function() {\n",
       "    var fig = this;\n",
       "\n",
       "    var canvas_div = $('<div/>');\n",
       "\n",
       "    canvas_div.attr('style', 'position: relative; clear: both; outline: 0');\n",
       "\n",
       "    function canvas_keyboard_event(event) {\n",
       "        return fig.key_event(event, event['data']);\n",
       "    }\n",
       "\n",
       "    canvas_div.keydown('key_press', canvas_keyboard_event);\n",
       "    canvas_div.keyup('key_release', canvas_keyboard_event);\n",
       "    this.canvas_div = canvas_div\n",
       "    this._canvas_extra_style(canvas_div)\n",
       "    this.root.append(canvas_div);\n",
       "\n",
       "    var canvas = $('<canvas/>');\n",
       "    canvas.addClass('mpl-canvas');\n",
       "    canvas.attr('style', \"left: 0; top: 0; z-index: 0; outline: 0\")\n",
       "\n",
       "    this.canvas = canvas[0];\n",
       "    this.context = canvas[0].getContext(\"2d\");\n",
       "\n",
       "    var backingStore = this.context.backingStorePixelRatio ||\n",
       "\tthis.context.webkitBackingStorePixelRatio ||\n",
       "\tthis.context.mozBackingStorePixelRatio ||\n",
       "\tthis.context.msBackingStorePixelRatio ||\n",
       "\tthis.context.oBackingStorePixelRatio ||\n",
       "\tthis.context.backingStorePixelRatio || 1;\n",
       "\n",
       "    mpl.ratio = (window.devicePixelRatio || 1) / backingStore;\n",
       "\n",
       "    var rubberband = $('<canvas/>');\n",
       "    rubberband.attr('style', \"position: absolute; left: 0; top: 0; z-index: 1;\")\n",
       "\n",
       "    var pass_mouse_events = true;\n",
       "\n",
       "    canvas_div.resizable({\n",
       "        start: function(event, ui) {\n",
       "            pass_mouse_events = false;\n",
       "        },\n",
       "        resize: function(event, ui) {\n",
       "            fig.request_resize(ui.size.width, ui.size.height);\n",
       "        },\n",
       "        stop: function(event, ui) {\n",
       "            pass_mouse_events = true;\n",
       "            fig.request_resize(ui.size.width, ui.size.height);\n",
       "        },\n",
       "    });\n",
       "\n",
       "    function mouse_event_fn(event) {\n",
       "        if (pass_mouse_events)\n",
       "            return fig.mouse_event(event, event['data']);\n",
       "    }\n",
       "\n",
       "    rubberband.mousedown('button_press', mouse_event_fn);\n",
       "    rubberband.mouseup('button_release', mouse_event_fn);\n",
       "    // Throttle sequential mouse events to 1 every 20ms.\n",
       "    rubberband.mousemove('motion_notify', mouse_event_fn);\n",
       "\n",
       "    rubberband.mouseenter('figure_enter', mouse_event_fn);\n",
       "    rubberband.mouseleave('figure_leave', mouse_event_fn);\n",
       "\n",
       "    canvas_div.on(\"wheel\", function (event) {\n",
       "        event = event.originalEvent;\n",
       "        event['data'] = 'scroll'\n",
       "        if (event.deltaY < 0) {\n",
       "            event.step = 1;\n",
       "        } else {\n",
       "            event.step = -1;\n",
       "        }\n",
       "        mouse_event_fn(event);\n",
       "    });\n",
       "\n",
       "    canvas_div.append(canvas);\n",
       "    canvas_div.append(rubberband);\n",
       "\n",
       "    this.rubberband = rubberband;\n",
       "    this.rubberband_canvas = rubberband[0];\n",
       "    this.rubberband_context = rubberband[0].getContext(\"2d\");\n",
       "    this.rubberband_context.strokeStyle = \"#000000\";\n",
       "\n",
       "    this._resize_canvas = function(width, height) {\n",
       "        // Keep the size of the canvas, canvas container, and rubber band\n",
       "        // canvas in synch.\n",
       "        canvas_div.css('width', width)\n",
       "        canvas_div.css('height', height)\n",
       "\n",
       "        canvas.attr('width', width * mpl.ratio);\n",
       "        canvas.attr('height', height * mpl.ratio);\n",
       "        canvas.attr('style', 'width: ' + width + 'px; height: ' + height + 'px;');\n",
       "\n",
       "        rubberband.attr('width', width);\n",
       "        rubberband.attr('height', height);\n",
       "    }\n",
       "\n",
       "    // Set the figure to an initial 600x600px, this will subsequently be updated\n",
       "    // upon first draw.\n",
       "    this._resize_canvas(600, 600);\n",
       "\n",
       "    // Disable right mouse context menu.\n",
       "    $(this.rubberband_canvas).bind(\"contextmenu\",function(e){\n",
       "        return false;\n",
       "    });\n",
       "\n",
       "    function set_focus () {\n",
       "        canvas.focus();\n",
       "        canvas_div.focus();\n",
       "    }\n",
       "\n",
       "    window.setTimeout(set_focus, 100);\n",
       "}\n",
       "\n",
       "mpl.figure.prototype._init_toolbar = function() {\n",
       "    var fig = this;\n",
       "\n",
       "    var nav_element = $('<div/>');\n",
       "    nav_element.attr('style', 'width: 100%');\n",
       "    this.root.append(nav_element);\n",
       "\n",
       "    // Define a callback function for later on.\n",
       "    function toolbar_event(event) {\n",
       "        return fig.toolbar_button_onclick(event['data']);\n",
       "    }\n",
       "    function toolbar_mouse_event(event) {\n",
       "        return fig.toolbar_button_onmouseover(event['data']);\n",
       "    }\n",
       "\n",
       "    for(var toolbar_ind in mpl.toolbar_items) {\n",
       "        var name = mpl.toolbar_items[toolbar_ind][0];\n",
       "        var tooltip = mpl.toolbar_items[toolbar_ind][1];\n",
       "        var image = mpl.toolbar_items[toolbar_ind][2];\n",
       "        var method_name = mpl.toolbar_items[toolbar_ind][3];\n",
       "\n",
       "        if (!name) {\n",
       "            // put a spacer in here.\n",
       "            continue;\n",
       "        }\n",
       "        var button = $('<button/>');\n",
       "        button.addClass('ui-button ui-widget ui-state-default ui-corner-all ' +\n",
       "                        'ui-button-icon-only');\n",
       "        button.attr('role', 'button');\n",
       "        button.attr('aria-disabled', 'false');\n",
       "        button.click(method_name, toolbar_event);\n",
       "        button.mouseover(tooltip, toolbar_mouse_event);\n",
       "\n",
       "        var icon_img = $('<span/>');\n",
       "        icon_img.addClass('ui-button-icon-primary ui-icon');\n",
       "        icon_img.addClass(image);\n",
       "        icon_img.addClass('ui-corner-all');\n",
       "\n",
       "        var tooltip_span = $('<span/>');\n",
       "        tooltip_span.addClass('ui-button-text');\n",
       "        tooltip_span.html(tooltip);\n",
       "\n",
       "        button.append(icon_img);\n",
       "        button.append(tooltip_span);\n",
       "\n",
       "        nav_element.append(button);\n",
       "    }\n",
       "\n",
       "    var fmt_picker_span = $('<span/>');\n",
       "\n",
       "    var fmt_picker = $('<select/>');\n",
       "    fmt_picker.addClass('mpl-toolbar-option ui-widget ui-widget-content');\n",
       "    fmt_picker_span.append(fmt_picker);\n",
       "    nav_element.append(fmt_picker_span);\n",
       "    this.format_dropdown = fmt_picker[0];\n",
       "\n",
       "    for (var ind in mpl.extensions) {\n",
       "        var fmt = mpl.extensions[ind];\n",
       "        var option = $(\n",
       "            '<option/>', {selected: fmt === mpl.default_extension}).html(fmt);\n",
       "        fmt_picker.append(option);\n",
       "    }\n",
       "\n",
       "    // Add hover states to the ui-buttons\n",
       "    $( \".ui-button\" ).hover(\n",
       "        function() { $(this).addClass(\"ui-state-hover\");},\n",
       "        function() { $(this).removeClass(\"ui-state-hover\");}\n",
       "    );\n",
       "\n",
       "    var status_bar = $('<span class=\"mpl-message\"/>');\n",
       "    nav_element.append(status_bar);\n",
       "    this.message = status_bar[0];\n",
       "}\n",
       "\n",
       "mpl.figure.prototype.request_resize = function(x_pixels, y_pixels) {\n",
       "    // Request matplotlib to resize the figure. Matplotlib will then trigger a resize in the client,\n",
       "    // which will in turn request a refresh of the image.\n",
       "    this.send_message('resize', {'width': x_pixels, 'height': y_pixels});\n",
       "}\n",
       "\n",
       "mpl.figure.prototype.send_message = function(type, properties) {\n",
       "    properties['type'] = type;\n",
       "    properties['figure_id'] = this.id;\n",
       "    this.ws.send(JSON.stringify(properties));\n",
       "}\n",
       "\n",
       "mpl.figure.prototype.send_draw_message = function() {\n",
       "    if (!this.waiting) {\n",
       "        this.waiting = true;\n",
       "        this.ws.send(JSON.stringify({type: \"draw\", figure_id: this.id}));\n",
       "    }\n",
       "}\n",
       "\n",
       "\n",
       "mpl.figure.prototype.handle_save = function(fig, msg) {\n",
       "    var format_dropdown = fig.format_dropdown;\n",
       "    var format = format_dropdown.options[format_dropdown.selectedIndex].value;\n",
       "    fig.ondownload(fig, format);\n",
       "}\n",
       "\n",
       "\n",
       "mpl.figure.prototype.handle_resize = function(fig, msg) {\n",
       "    var size = msg['size'];\n",
       "    if (size[0] != fig.canvas.width || size[1] != fig.canvas.height) {\n",
       "        fig._resize_canvas(size[0], size[1]);\n",
       "        fig.send_message(\"refresh\", {});\n",
       "    };\n",
       "}\n",
       "\n",
       "mpl.figure.prototype.handle_rubberband = function(fig, msg) {\n",
       "    var x0 = msg['x0'] / mpl.ratio;\n",
       "    var y0 = (fig.canvas.height - msg['y0']) / mpl.ratio;\n",
       "    var x1 = msg['x1'] / mpl.ratio;\n",
       "    var y1 = (fig.canvas.height - msg['y1']) / mpl.ratio;\n",
       "    x0 = Math.floor(x0) + 0.5;\n",
       "    y0 = Math.floor(y0) + 0.5;\n",
       "    x1 = Math.floor(x1) + 0.5;\n",
       "    y1 = Math.floor(y1) + 0.5;\n",
       "    var min_x = Math.min(x0, x1);\n",
       "    var min_y = Math.min(y0, y1);\n",
       "    var width = Math.abs(x1 - x0);\n",
       "    var height = Math.abs(y1 - y0);\n",
       "\n",
       "    fig.rubberband_context.clearRect(\n",
       "        0, 0, fig.canvas.width, fig.canvas.height);\n",
       "\n",
       "    fig.rubberband_context.strokeRect(min_x, min_y, width, height);\n",
       "}\n",
       "\n",
       "mpl.figure.prototype.handle_figure_label = function(fig, msg) {\n",
       "    // Updates the figure title.\n",
       "    fig.header.textContent = msg['label'];\n",
       "}\n",
       "\n",
       "mpl.figure.prototype.handle_cursor = function(fig, msg) {\n",
       "    var cursor = msg['cursor'];\n",
       "    switch(cursor)\n",
       "    {\n",
       "    case 0:\n",
       "        cursor = 'pointer';\n",
       "        break;\n",
       "    case 1:\n",
       "        cursor = 'default';\n",
       "        break;\n",
       "    case 2:\n",
       "        cursor = 'crosshair';\n",
       "        break;\n",
       "    case 3:\n",
       "        cursor = 'move';\n",
       "        break;\n",
       "    }\n",
       "    fig.rubberband_canvas.style.cursor = cursor;\n",
       "}\n",
       "\n",
       "mpl.figure.prototype.handle_message = function(fig, msg) {\n",
       "    fig.message.textContent = msg['message'];\n",
       "}\n",
       "\n",
       "mpl.figure.prototype.handle_draw = function(fig, msg) {\n",
       "    // Request the server to send over a new figure.\n",
       "    fig.send_draw_message();\n",
       "}\n",
       "\n",
       "mpl.figure.prototype.handle_image_mode = function(fig, msg) {\n",
       "    fig.image_mode = msg['mode'];\n",
       "}\n",
       "\n",
       "mpl.figure.prototype.updated_canvas_event = function() {\n",
       "    // Called whenever the canvas gets updated.\n",
       "    this.send_message(\"ack\", {});\n",
       "}\n",
       "\n",
       "// A function to construct a web socket function for onmessage handling.\n",
       "// Called in the figure constructor.\n",
       "mpl.figure.prototype._make_on_message_function = function(fig) {\n",
       "    return function socket_on_message(evt) {\n",
       "        if (evt.data instanceof Blob) {\n",
       "            /* FIXME: We get \"Resource interpreted as Image but\n",
       "             * transferred with MIME type text/plain:\" errors on\n",
       "             * Chrome.  But how to set the MIME type?  It doesn't seem\n",
       "             * to be part of the websocket stream */\n",
       "            evt.data.type = \"image/png\";\n",
       "\n",
       "            /* Free the memory for the previous frames */\n",
       "            if (fig.imageObj.src) {\n",
       "                (window.URL || window.webkitURL).revokeObjectURL(\n",
       "                    fig.imageObj.src);\n",
       "            }\n",
       "\n",
       "            fig.imageObj.src = (window.URL || window.webkitURL).createObjectURL(\n",
       "                evt.data);\n",
       "            fig.updated_canvas_event();\n",
       "            fig.waiting = false;\n",
       "            return;\n",
       "        }\n",
       "        else if (typeof evt.data === 'string' && evt.data.slice(0, 21) == \"data:image/png;base64\") {\n",
       "            fig.imageObj.src = evt.data;\n",
       "            fig.updated_canvas_event();\n",
       "            fig.waiting = false;\n",
       "            return;\n",
       "        }\n",
       "\n",
       "        var msg = JSON.parse(evt.data);\n",
       "        var msg_type = msg['type'];\n",
       "\n",
       "        // Call the  \"handle_{type}\" callback, which takes\n",
       "        // the figure and JSON message as its only arguments.\n",
       "        try {\n",
       "            var callback = fig[\"handle_\" + msg_type];\n",
       "        } catch (e) {\n",
       "            console.log(\"No handler for the '\" + msg_type + \"' message type: \", msg);\n",
       "            return;\n",
       "        }\n",
       "\n",
       "        if (callback) {\n",
       "            try {\n",
       "                // console.log(\"Handling '\" + msg_type + \"' message: \", msg);\n",
       "                callback(fig, msg);\n",
       "            } catch (e) {\n",
       "                console.log(\"Exception inside the 'handler_\" + msg_type + \"' callback:\", e, e.stack, msg);\n",
       "            }\n",
       "        }\n",
       "    };\n",
       "}\n",
       "\n",
       "// from http://stackoverflow.com/questions/1114465/getting-mouse-location-in-canvas\n",
       "mpl.findpos = function(e) {\n",
       "    //this section is from http://www.quirksmode.org/js/events_properties.html\n",
       "    var targ;\n",
       "    if (!e)\n",
       "        e = window.event;\n",
       "    if (e.target)\n",
       "        targ = e.target;\n",
       "    else if (e.srcElement)\n",
       "        targ = e.srcElement;\n",
       "    if (targ.nodeType == 3) // defeat Safari bug\n",
       "        targ = targ.parentNode;\n",
       "\n",
       "    // jQuery normalizes the pageX and pageY\n",
       "    // pageX,Y are the mouse positions relative to the document\n",
       "    // offset() returns the position of the element relative to the document\n",
       "    var x = e.pageX - $(targ).offset().left;\n",
       "    var y = e.pageY - $(targ).offset().top;\n",
       "\n",
       "    return {\"x\": x, \"y\": y};\n",
       "};\n",
       "\n",
       "/*\n",
       " * return a copy of an object with only non-object keys\n",
       " * we need this to avoid circular references\n",
       " * http://stackoverflow.com/a/24161582/3208463\n",
       " */\n",
       "function simpleKeys (original) {\n",
       "  return Object.keys(original).reduce(function (obj, key) {\n",
       "    if (typeof original[key] !== 'object')\n",
       "        obj[key] = original[key]\n",
       "    return obj;\n",
       "  }, {});\n",
       "}\n",
       "\n",
       "mpl.figure.prototype.mouse_event = function(event, name) {\n",
       "    var canvas_pos = mpl.findpos(event)\n",
       "\n",
       "    if (name === 'button_press')\n",
       "    {\n",
       "        this.canvas.focus();\n",
       "        this.canvas_div.focus();\n",
       "    }\n",
       "\n",
       "    var x = canvas_pos.x * mpl.ratio;\n",
       "    var y = canvas_pos.y * mpl.ratio;\n",
       "\n",
       "    this.send_message(name, {x: x, y: y, button: event.button,\n",
       "                             step: event.step,\n",
       "                             guiEvent: simpleKeys(event)});\n",
       "\n",
       "    /* This prevents the web browser from automatically changing to\n",
       "     * the text insertion cursor when the button is pressed.  We want\n",
       "     * to control all of the cursor setting manually through the\n",
       "     * 'cursor' event from matplotlib */\n",
       "    event.preventDefault();\n",
       "    return false;\n",
       "}\n",
       "\n",
       "mpl.figure.prototype._key_event_extra = function(event, name) {\n",
       "    // Handle any extra behaviour associated with a key event\n",
       "}\n",
       "\n",
       "mpl.figure.prototype.key_event = function(event, name) {\n",
       "\n",
       "    // Prevent repeat events\n",
       "    if (name == 'key_press')\n",
       "    {\n",
       "        if (event.which === this._key)\n",
       "            return;\n",
       "        else\n",
       "            this._key = event.which;\n",
       "    }\n",
       "    if (name == 'key_release')\n",
       "        this._key = null;\n",
       "\n",
       "    var value = '';\n",
       "    if (event.ctrlKey && event.which != 17)\n",
       "        value += \"ctrl+\";\n",
       "    if (event.altKey && event.which != 18)\n",
       "        value += \"alt+\";\n",
       "    if (event.shiftKey && event.which != 16)\n",
       "        value += \"shift+\";\n",
       "\n",
       "    value += 'k';\n",
       "    value += event.which.toString();\n",
       "\n",
       "    this._key_event_extra(event, name);\n",
       "\n",
       "    this.send_message(name, {key: value,\n",
       "                             guiEvent: simpleKeys(event)});\n",
       "    return false;\n",
       "}\n",
       "\n",
       "mpl.figure.prototype.toolbar_button_onclick = function(name) {\n",
       "    if (name == 'download') {\n",
       "        this.handle_save(this, null);\n",
       "    } else {\n",
       "        this.send_message(\"toolbar_button\", {name: name});\n",
       "    }\n",
       "};\n",
       "\n",
       "mpl.figure.prototype.toolbar_button_onmouseover = function(tooltip) {\n",
       "    this.message.textContent = tooltip;\n",
       "};\n",
       "mpl.toolbar_items = [[\"Home\", \"Reset original view\", \"fa fa-home icon-home\", \"home\"], [\"Back\", \"Back to previous view\", \"fa fa-arrow-left icon-arrow-left\", \"back\"], [\"Forward\", \"Forward to next view\", \"fa fa-arrow-right icon-arrow-right\", \"forward\"], [\"\", \"\", \"\", \"\"], [\"Pan\", \"Pan axes with left mouse, zoom with right\", \"fa fa-arrows icon-move\", \"pan\"], [\"Zoom\", \"Zoom to rectangle\", \"fa fa-square-o icon-check-empty\", \"zoom\"], [\"\", \"\", \"\", \"\"], [\"Download\", \"Download plot\", \"fa fa-floppy-o icon-save\", \"download\"]];\n",
       "\n",
       "mpl.extensions = [\"eps\", \"jpeg\", \"pdf\", \"png\", \"ps\", \"raw\", \"svg\", \"tif\"];\n",
       "\n",
       "mpl.default_extension = \"png\";var comm_websocket_adapter = function(comm) {\n",
       "    // Create a \"websocket\"-like object which calls the given IPython comm\n",
       "    // object with the appropriate methods. Currently this is a non binary\n",
       "    // socket, so there is still some room for performance tuning.\n",
       "    var ws = {};\n",
       "\n",
       "    ws.close = function() {\n",
       "        comm.close()\n",
       "    };\n",
       "    ws.send = function(m) {\n",
       "        //console.log('sending', m);\n",
       "        comm.send(m);\n",
       "    };\n",
       "    // Register the callback with on_msg.\n",
       "    comm.on_msg(function(msg) {\n",
       "        //console.log('receiving', msg['content']['data'], msg);\n",
       "        // Pass the mpl event to the overridden (by mpl) onmessage function.\n",
       "        ws.onmessage(msg['content']['data'])\n",
       "    });\n",
       "    return ws;\n",
       "}\n",
       "\n",
       "mpl.mpl_figure_comm = function(comm, msg) {\n",
       "    // This is the function which gets called when the mpl process\n",
       "    // starts-up an IPython Comm through the \"matplotlib\" channel.\n",
       "\n",
       "    var id = msg.content.data.id;\n",
       "    // Get hold of the div created by the display call when the Comm\n",
       "    // socket was opened in Python.\n",
       "    var element = $(\"#\" + id);\n",
       "    var ws_proxy = comm_websocket_adapter(comm)\n",
       "\n",
       "    function ondownload(figure, format) {\n",
       "        window.open(figure.imageObj.src);\n",
       "    }\n",
       "\n",
       "    var fig = new mpl.figure(id, ws_proxy,\n",
       "                           ondownload,\n",
       "                           element.get(0));\n",
       "\n",
       "    // Call onopen now - mpl needs it, as it is assuming we've passed it a real\n",
       "    // web socket which is closed, not our websocket->open comm proxy.\n",
       "    ws_proxy.onopen();\n",
       "\n",
       "    fig.parent_element = element.get(0);\n",
       "    fig.cell_info = mpl.find_output_cell(\"<div id='\" + id + \"'></div>\");\n",
       "    if (!fig.cell_info) {\n",
       "        console.error(\"Failed to find cell for figure\", id, fig);\n",
       "        return;\n",
       "    }\n",
       "\n",
       "    var output_index = fig.cell_info[2]\n",
       "    var cell = fig.cell_info[0];\n",
       "\n",
       "};\n",
       "\n",
       "mpl.figure.prototype.handle_close = function(fig, msg) {\n",
       "    var width = fig.canvas.width/mpl.ratio\n",
       "    fig.root.unbind('remove')\n",
       "\n",
       "    // Update the output cell to use the data from the current canvas.\n",
       "    fig.push_to_output();\n",
       "    var dataURL = fig.canvas.toDataURL();\n",
       "    // Re-enable the keyboard manager in IPython - without this line, in FF,\n",
       "    // the notebook keyboard shortcuts fail.\n",
       "    IPython.keyboard_manager.enable()\n",
       "    $(fig.parent_element).html('<img src=\"' + dataURL + '\" width=\"' + width + '\">');\n",
       "    fig.close_ws(fig, msg);\n",
       "}\n",
       "\n",
       "mpl.figure.prototype.close_ws = function(fig, msg){\n",
       "    fig.send_message('closing', msg);\n",
       "    // fig.ws.close()\n",
       "}\n",
       "\n",
       "mpl.figure.prototype.push_to_output = function(remove_interactive) {\n",
       "    // Turn the data on the canvas into data in the output cell.\n",
       "    var width = this.canvas.width/mpl.ratio\n",
       "    var dataURL = this.canvas.toDataURL();\n",
       "    this.cell_info[1]['text/html'] = '<img src=\"' + dataURL + '\" width=\"' + width + '\">';\n",
       "}\n",
       "\n",
       "mpl.figure.prototype.updated_canvas_event = function() {\n",
       "    // Tell IPython that the notebook contents must change.\n",
       "    IPython.notebook.set_dirty(true);\n",
       "    this.send_message(\"ack\", {});\n",
       "    var fig = this;\n",
       "    // Wait a second, then push the new image to the DOM so\n",
       "    // that it is saved nicely (might be nice to debounce this).\n",
       "    setTimeout(function () { fig.push_to_output() }, 1000);\n",
       "}\n",
       "\n",
       "mpl.figure.prototype._init_toolbar = function() {\n",
       "    var fig = this;\n",
       "\n",
       "    var nav_element = $('<div/>');\n",
       "    nav_element.attr('style', 'width: 100%');\n",
       "    this.root.append(nav_element);\n",
       "\n",
       "    // Define a callback function for later on.\n",
       "    function toolbar_event(event) {\n",
       "        return fig.toolbar_button_onclick(event['data']);\n",
       "    }\n",
       "    function toolbar_mouse_event(event) {\n",
       "        return fig.toolbar_button_onmouseover(event['data']);\n",
       "    }\n",
       "\n",
       "    for(var toolbar_ind in mpl.toolbar_items){\n",
       "        var name = mpl.toolbar_items[toolbar_ind][0];\n",
       "        var tooltip = mpl.toolbar_items[toolbar_ind][1];\n",
       "        var image = mpl.toolbar_items[toolbar_ind][2];\n",
       "        var method_name = mpl.toolbar_items[toolbar_ind][3];\n",
       "\n",
       "        if (!name) { continue; };\n",
       "\n",
       "        var button = $('<button class=\"btn btn-default\" href=\"#\" title=\"' + name + '\"><i class=\"fa ' + image + ' fa-lg\"></i></button>');\n",
       "        button.click(method_name, toolbar_event);\n",
       "        button.mouseover(tooltip, toolbar_mouse_event);\n",
       "        nav_element.append(button);\n",
       "    }\n",
       "\n",
       "    // Add the status bar.\n",
       "    var status_bar = $('<span class=\"mpl-message\" style=\"text-align:right; float: right;\"/>');\n",
       "    nav_element.append(status_bar);\n",
       "    this.message = status_bar[0];\n",
       "\n",
       "    // Add the close button to the window.\n",
       "    var buttongrp = $('<div class=\"btn-group inline pull-right\"></div>');\n",
       "    var button = $('<button class=\"btn btn-mini btn-primary\" href=\"#\" title=\"Stop Interaction\"><i class=\"fa fa-power-off icon-remove icon-large\"></i></button>');\n",
       "    button.click(function (evt) { fig.handle_close(fig, {}); } );\n",
       "    button.mouseover('Stop Interaction', toolbar_mouse_event);\n",
       "    buttongrp.append(button);\n",
       "    var titlebar = this.root.find($('.ui-dialog-titlebar'));\n",
       "    titlebar.prepend(buttongrp);\n",
       "}\n",
       "\n",
       "mpl.figure.prototype._root_extra_style = function(el){\n",
       "    var fig = this\n",
       "    el.on(\"remove\", function(){\n",
       "\tfig.close_ws(fig, {});\n",
       "    });\n",
       "}\n",
       "\n",
       "mpl.figure.prototype._canvas_extra_style = function(el){\n",
       "    // this is important to make the div 'focusable\n",
       "    el.attr('tabindex', 0)\n",
       "    // reach out to IPython and tell the keyboard manager to turn it's self\n",
       "    // off when our div gets focus\n",
       "\n",
       "    // location in version 3\n",
       "    if (IPython.notebook.keyboard_manager) {\n",
       "        IPython.notebook.keyboard_manager.register_events(el);\n",
       "    }\n",
       "    else {\n",
       "        // location in version 2\n",
       "        IPython.keyboard_manager.register_events(el);\n",
       "    }\n",
       "\n",
       "}\n",
       "\n",
       "mpl.figure.prototype._key_event_extra = function(event, name) {\n",
       "    var manager = IPython.notebook.keyboard_manager;\n",
       "    if (!manager)\n",
       "        manager = IPython.keyboard_manager;\n",
       "\n",
       "    // Check for shift+enter\n",
       "    if (event.shiftKey && event.which == 13) {\n",
       "        this.canvas_div.blur();\n",
       "        event.shiftKey = false;\n",
       "        // Send a \"J\" for go to next cell\n",
       "        event.which = 74;\n",
       "        event.keyCode = 74;\n",
       "        manager.command_mode();\n",
       "        manager.handle_keydown(event);\n",
       "    }\n",
       "}\n",
       "\n",
       "mpl.figure.prototype.handle_save = function(fig, msg) {\n",
       "    fig.ondownload(fig, null);\n",
       "}\n",
       "\n",
       "\n",
       "mpl.find_output_cell = function(html_output) {\n",
       "    // Return the cell and output element which can be found *uniquely* in the notebook.\n",
       "    // Note - this is a bit hacky, but it is done because the \"notebook_saving.Notebook\"\n",
       "    // IPython event is triggered only after the cells have been serialised, which for\n",
       "    // our purposes (turning an active figure into a static one), is too late.\n",
       "    var cells = IPython.notebook.get_cells();\n",
       "    var ncells = cells.length;\n",
       "    for (var i=0; i<ncells; i++) {\n",
       "        var cell = cells[i];\n",
       "        if (cell.cell_type === 'code'){\n",
       "            for (var j=0; j<cell.output_area.outputs.length; j++) {\n",
       "                var data = cell.output_area.outputs[j];\n",
       "                if (data.data) {\n",
       "                    // IPython >= 3 moved mimebundle to data attribute of output\n",
       "                    data = data.data;\n",
       "                }\n",
       "                if (data['text/html'] == html_output) {\n",
       "                    return [cell, data, j];\n",
       "                }\n",
       "            }\n",
       "        }\n",
       "    }\n",
       "}\n",
       "\n",
       "// Register the function which deals with the matplotlib target/channel.\n",
       "// The kernel may be null if the page has been refreshed.\n",
       "if (IPython.notebook.kernel != null) {\n",
       "    IPython.notebook.kernel.comm_manager.register_target('matplotlib', mpl.mpl_figure_comm);\n",
       "}\n"
      ],
      "text/plain": [
       "<IPython.core.display.Javascript object>"
      ]
     },
     "metadata": {},
     "output_type": "display_data"
    },
    {
     "data": {
      "text/html": [
       "<img src=\"data:image/png;base64,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\" width=\"640\">"
      ],
      "text/plain": [
       "<IPython.core.display.HTML object>"
      ]
     },
     "metadata": {},
     "output_type": "display_data"
    },
    {
     "data": {
      "application/vnd.jupyter.widget-view+json": {
       "model_id": "dd4b5ab5b46a4b4d838bf72d05f001d0",
       "version_major": 2,
       "version_minor": 0
      },
      "text/plain": [
       "interactive(children=(IntSlider(value=0, description='layer', max=6), Output()), _dom_classes=('widget-interac…"
      ]
     },
     "metadata": {},
     "output_type": "display_data"
    }
   ],
   "source": [
    "#This function gets the parameters from the config.json file \n",
    "def get_instance(module, name, config, *args):\n",
    "    return getattr(module, config[name]['type'])(*args, **config[name]['args'])\n",
    "\n",
    "data_loader = get_instance(module_data, 'data_loader', config) #looks in data_loader/data_loaders.py for 'MNISTDataLoader'\n",
    "print(\"Total number of training images = \" + str(data_loader.dataset.data_len))\n",
    "valid_data_loader = data_loader.split_validation() #allocate some images as validation\n",
    "\n",
    "normalized = False\n",
    "util.visualizeBatch(data_loader, normalized) "
   ]
  },
  {
   "cell_type": "code",
   "execution_count": 2,
   "metadata": {},
   "outputs": [],
   "source": [
    "#This function gets the parameters from the config.json file \n",
    "def get_instance(module, name, config, *args):\n",
    "    return getattr(module, config[name]['type'])(*args, **config[name]['args'])\n",
    "\n",
    "def set_instance(module, name, config, *args):\n",
    "    setattr(module, config[name]['type'])(*args, **config[name]['args'])\n",
    "\n",
    "def main(config, resume):\n",
    "    train_logger = Logger() #uses entries to store training performance metrics\n",
    "    device = torch.device('cuda' if torch.cuda.is_available() else 'cpu')\n",
    "    \n",
    "    # setup data_loader instances\n",
    "    data_loader = get_instance(module_data, 'data_loader', config) #looks in data_loader/data_loaders.py for 'MNISTDataLoader'\n",
    "    print(\"Total number of training images = \" + str(data_loader.dataset.data_len))\n",
    "    valid_data_loader = data_loader.split_validation() #allocate some images as validation\n",
    "\n",
    "    # build model architecture\n",
    "    model = get_instance(module_arch, 'arch', config) #looks in the model/model.py for 'MnistModel', as specified by config\n",
    "    print(model)\n",
    "    torchsummary.summary(model, (1,7,32,32))\n",
    "     \n",
    "    \n",
    "    if torch.cuda.is_available():\n",
    "        print(\"Using GPU: \" + torch.cuda.get_device_name(0))\n",
    "    else:\n",
    "        print(\"Using CPU to train\")\n",
    "    \n",
    "    \n",
    "    # get function handles of loss and metrics\n",
    "    loss = getattr(module_loss, config['loss']) #looks in model/loss.py for criterion function specified in config\n",
    "    criterion = loss(data_loader.dataset.weight.to(device)) # for imbalanced datasets\n",
    "    metrics = [getattr(module_metric, met) for met in config['metrics']] #get all the metrics in model/metrics.py - default is accuracy and top 3 accuracy\n",
    "\n",
    "    # build optimizer, learning rate scheduler. delete every lines containing lr_scheduler for disabling scheduler\n",
    "    trainable_params = filter(lambda p: p.requires_grad, model.parameters()) #Number of training params\n",
    "    optimizer = get_instance(torch.optim, 'optimizer', config, trainable_params)\n",
    "    lr_scheduler = get_instance(torch.optim.lr_scheduler, 'lr_scheduler', config, optimizer)\n",
    "\n",
    "    \n",
    "    trainer = Trainer(model, criterion, metrics, optimizer,\n",
    "                      resume=resume, #choose a previous epoch to start training from\n",
    "                      config=config,\n",
    "                      data_loader=data_loader,\n",
    "                      valid_data_loader=valid_data_loader,\n",
    "                      lr_scheduler=lr_scheduler,\n",
    "                      train_logger=train_logger)\n",
    "    \n",
    "    \n",
    "    findLR = False\n",
    "    if findLR:\n",
    "        #set lr = 1e-7 in config file \n",
    "        device_lr = torch.device('cuda' if torch.cuda.is_available() else 'cpu')\n",
    "        lr_finder_training = lr_finder.LRFinder(model, optimizer, criterion, device=device_lr)\n",
    "        lr_finder_training.range_test(data_loader, end_lr=1, num_iter=100, val_loader = valid_data_loader)\n",
    "        lr_finder_training.plot(skip_start = 10, skip_end=5)\n",
    "        # trim the first 10 and last 5 iteration from calculating loss (num_iter > skip_start + skip_end)\n",
    "    else:\n",
    "        trainer.train()\n",
    "        a=1\n",
    "    \n",
    " "
   ]
  },
  {
   "cell_type": "code",
   "execution_count": 7,
   "metadata": {},
   "outputs": [],
   "source": [
    "config_file = '../configs/config_hdf5_rerun.json'\n",
    "\n",
    "# load config file\n",
    "with open(config_file) as handle:\n",
    "    config = json.load(handle)\n",
    "# setting path to save trained models and log files\n",
    "path = os.path.join(config['trainer']['save_dir'], config['name'])"
   ]
  },
  {
   "cell_type": "code",
   "execution_count": null,
   "metadata": {},
   "outputs": [
    {
     "name": "stdout",
     "output_type": "stream",
     "text": [
      "Total number of training images = 1946\n",
      "threeDmodel(\n",
      "  (conv_layer1): Sequential(\n",
      "    (0): Conv3d(1, 32, kernel_size=(3, 3, 3), stride=(1, 1, 1), padding=(1, 1, 1))\n",
      "    (1): BatchNorm3d(32, eps=1e-05, momentum=0.1, affine=True, track_running_stats=True)\n",
      "    (2): LeakyReLU(negative_slope=0.01)\n",
      "    (3): Conv3d(32, 32, kernel_size=(3, 3, 3), stride=(1, 1, 1), padding=(1, 1, 1))\n",
      "    (4): BatchNorm3d(32, eps=1e-05, momentum=0.1, affine=True, track_running_stats=True)\n",
      "    (5): LeakyReLU(negative_slope=0.01)\n",
      "    (6): MaxPool3d(kernel_size=(2, 2, 2), stride=(2, 2, 2), padding=0, dilation=1, ceil_mode=False)\n",
      "  )\n",
      "  (conv_layer2): Sequential(\n",
      "    (0): Conv3d(32, 64, kernel_size=(3, 3, 3), stride=(1, 1, 1), padding=(1, 1, 1))\n",
      "    (1): BatchNorm3d(64, eps=1e-05, momentum=0.1, affine=True, track_running_stats=True)\n",
      "    (2): LeakyReLU(negative_slope=0.01)\n",
      "    (3): Conv3d(64, 64, kernel_size=(3, 3, 3), stride=(1, 1, 1), padding=(1, 1, 1))\n",
      "    (4): BatchNorm3d(64, eps=1e-05, momentum=0.1, affine=True, track_running_stats=True)\n",
      "    (5): LeakyReLU(negative_slope=0.01)\n",
      "    (6): MaxPool3d(kernel_size=(2, 2, 2), stride=(2, 2, 2), padding=0, dilation=1, ceil_mode=False)\n",
      "  )\n",
      "  (conv_layer3): Sequential(\n",
      "    (0): Conv3d(64, 128, kernel_size=(3, 3, 3), stride=(1, 1, 1), padding=(1, 1, 1))\n",
      "    (1): BatchNorm3d(128, eps=1e-05, momentum=0.1, affine=True, track_running_stats=True)\n",
      "    (2): LeakyReLU(negative_slope=0.01)\n",
      "    (3): Conv3d(128, 128, kernel_size=(3, 3, 3), stride=(1, 1, 1), padding=(1, 1, 1))\n",
      "    (4): BatchNorm3d(128, eps=1e-05, momentum=0.1, affine=True, track_running_stats=True)\n",
      "    (5): LeakyReLU(negative_slope=0.01)\n",
      "    (6): MaxPool3d(kernel_size=(2, 2, 2), stride=(2, 2, 2), padding=0, dilation=1, ceil_mode=False)\n",
      "  )\n",
      "  (conv_layer4): Conv3d(128, 256, kernel_size=(1, 3, 3), stride=(1, 1, 1), padding=(0, 1, 1))\n",
      "  (fc5): Linear(in_features=4096, out_features=256, bias=True)\n",
      "  (relu): LeakyReLU(negative_slope=0.01)\n",
      "  (batch0): BatchNorm1d(256, eps=1e-05, momentum=0.1, affine=True, track_running_stats=True)\n",
      "  (drop): Dropout(p=0.5)\n",
      "  (fc6): Linear(in_features=256, out_features=128, bias=True)\n",
      "  (relu1): LeakyReLU(negative_slope=0.01)\n",
      "  (batch1): BatchNorm1d(128, eps=1e-05, momentum=0.1, affine=True, track_running_stats=True)\n",
      "  (drop1): Dropout(p=0.5)\n",
      "  (fc7): Linear(in_features=128, out_features=2, bias=True)\n",
      ")\n",
      "Trainable parameters: 2237218\n",
      "----------------------------------------------------------------\n",
      "        Layer (type)               Output Shape         Param #\n",
      "================================================================\n",
      "            Conv3d-1        [-1, 32, 7, 32, 32]             896\n",
      "       BatchNorm3d-2        [-1, 32, 7, 32, 32]              64\n",
      "         LeakyReLU-3        [-1, 32, 7, 32, 32]               0\n",
      "            Conv3d-4        [-1, 32, 7, 32, 32]          27,680\n",
      "       BatchNorm3d-5        [-1, 32, 7, 32, 32]              64\n",
      "         LeakyReLU-6        [-1, 32, 7, 32, 32]               0\n",
      "         MaxPool3d-7        [-1, 32, 3, 16, 16]               0\n",
      "            Conv3d-8        [-1, 64, 3, 16, 16]          55,360\n",
      "       BatchNorm3d-9        [-1, 64, 3, 16, 16]             128\n",
      "        LeakyReLU-10        [-1, 64, 3, 16, 16]               0\n",
      "           Conv3d-11        [-1, 64, 3, 16, 16]         110,656\n",
      "      BatchNorm3d-12        [-1, 64, 3, 16, 16]             128\n",
      "        LeakyReLU-13        [-1, 64, 3, 16, 16]               0\n",
      "        MaxPool3d-14          [-1, 64, 1, 8, 8]               0\n",
      "           Conv3d-15         [-1, 128, 1, 8, 8]         221,312\n",
      "      BatchNorm3d-16         [-1, 128, 1, 8, 8]             256\n",
      "        LeakyReLU-17         [-1, 128, 1, 8, 8]               0\n",
      "           Conv3d-18         [-1, 128, 1, 8, 8]         442,496\n",
      "      BatchNorm3d-19         [-1, 128, 1, 8, 8]             256\n",
      "        LeakyReLU-20         [-1, 128, 1, 8, 8]               0\n",
      "        MaxPool3d-21         [-1, 128, 1, 4, 4]               0\n",
      "           Conv3d-22         [-1, 256, 1, 4, 4]         295,168\n",
      "           Linear-23                  [-1, 256]       1,048,832\n",
      "        LeakyReLU-24                  [-1, 256]               0\n",
      "      BatchNorm1d-25                  [-1, 256]             512\n",
      "          Dropout-26                  [-1, 256]               0\n",
      "           Linear-27                  [-1, 128]          32,896\n",
      "        LeakyReLU-28                  [-1, 128]               0\n",
      "      BatchNorm1d-29                  [-1, 128]             256\n",
      "          Dropout-30                  [-1, 128]               0\n",
      "           Linear-31                    [-1, 2]             258\n",
      "================================================================\n",
      "Total params: 2,237,218\n",
      "Trainable params: 2,237,218\n",
      "Non-trainable params: 0\n",
      "----------------------------------------------------------------\n",
      "Input size (MB): 0.03\n",
      "Forward/backward pass size (MB): 13.40\n",
      "Params size (MB): 8.53\n",
      "Estimated Total Size (MB): 21.96\n",
      "----------------------------------------------------------------\n",
      "Using GPU: Tesla K80\n"
     ]
    },
    {
     "name": "stderr",
     "output_type": "stream",
     "text": [
      "    epoch          : 1\n",
      "    loss           : 1.001201113829246\n",
      "    my_metric      : 0.6006883741258741\n",
      "    f1             : 0.4822285868198231\n",
      "    balanced_accuracy: 0.5027909122614843\n",
      "    precision      : 0.5275707741391692\n",
      "    recall         : 0.6006883741258741\n",
      "    val_loss       : 1.0317121505737306\n",
      "    val_my_metric  : 0.6246428571428572\n",
      "    val_f1         : 0.482184806473205\n",
      "    val_balanced_accuracy: 0.5\n",
      "    val_precision  : 0.39413847257653056\n",
      "    val_recall     : 0.6246428571428572\n",
      "Saving checkpoint: ../saved/IMPRS_hdf5_volume_AllDAPI_noise/0710_173648/checkpoint-epoch1.pth ...\n",
      "Saving current best: model_best.pth ...\n",
      "    epoch          : 2\n",
      "    loss           : 0.9493167583759015\n",
      "    my_metric      : 0.6021962412587413\n",
      "    f1             : 0.48548441004784026\n",
      "    balanced_accuracy: 0.5079187521336584\n",
      "    precision      : 0.5344760218362582\n",
      "    recall         : 0.6021962412587413\n",
      "    val_loss       : 0.739762794971466\n",
      "    val_my_metric  : 0.6246428571428572\n",
      "    val_f1         : 0.4811706624819755\n",
      "    val_balanced_accuracy: 0.5\n",
      "    val_precision  : 0.3919900350765306\n",
      "    val_recall     : 0.6246428571428572\n",
      "Saving checkpoint: ../saved/IMPRS_hdf5_volume_AllDAPI_noise/0710_173648/checkpoint-epoch2.pth ...\n",
      "Saving current best: model_best.pth ...\n",
      "    epoch          : 3\n",
      "    loss           : 0.8850765755543342\n",
      "    my_metric      : 0.6016062062937063\n",
      "    f1             : 0.4876800985226607\n",
      "    balanced_accuracy: 0.5075470718185158\n",
      "    precision      : 0.5524485604376519\n",
      "    recall         : 0.6016062062937063\n",
      "    val_loss       : 0.6367486178874969\n",
      "    val_my_metric  : 0.6298214285714285\n",
      "    val_f1         : 0.4882943280299193\n",
      "    val_balanced_accuracy: 0.5\n",
      "    val_precision  : 0.4001134406887755\n",
      "    val_recall     : 0.6298214285714285\n",
      "Saving checkpoint: ../saved/IMPRS_hdf5_volume_AllDAPI_noise/0710_173648/checkpoint-epoch3.pth ...\n",
      "Saving current best: model_best.pth ...\n",
      "    epoch          : 4\n",
      "    loss           : 0.8504333519018613\n",
      "    my_metric      : 0.6191215034965035\n",
      "    f1             : 0.5132198988178941\n",
      "    balanced_accuracy: 0.5268537035253369\n",
      "    precision      : 0.6434567493821995\n",
      "    recall         : 0.6191215034965035\n",
      "    val_loss       : 0.6577840209007263\n",
      "    val_my_metric  : 0.65125\n",
      "    val_f1         : 0.5498174756412422\n",
      "    val_balanced_accuracy: 0.5541266520475553\n",
      "    val_precision  : 0.7723831755352383\n",
      "    val_recall     : 0.65125\n"
     ]
    },
    {
     "name": "stdout",
     "output_type": "stream",
     "text": [
      "Model has not improved in -------------| 1 epochs\n"
     ]
    },
    {
     "name": "stderr",
     "output_type": "stream",
     "text": [
      "    epoch          : 5\n",
      "    loss           : 0.8377048808794755\n",
      "    my_metric      : 0.6228256118881119\n",
      "    f1             : 0.5291856617297607\n",
      "    balanced_accuracy: 0.5354888751663048\n",
      "    precision      : 0.6403406847917869\n",
      "    recall         : 0.6228256118881119\n",
      "    val_loss       : 0.5685528695583344\n",
      "    val_my_metric  : 0.6527678571428572\n",
      "    val_f1         : 0.5501927040280222\n",
      "    val_balanced_accuracy: 0.5437121212121212\n",
      "    val_precision  : 0.7575178896695289\n",
      "    val_recall     : 0.6527678571428572\n",
      "Saving checkpoint: ../saved/IMPRS_hdf5_volume_AllDAPI_noise/0710_173648/checkpoint-epoch5.pth ...\n",
      "Saving current best: model_best.pth ...\n",
      "    epoch          : 6\n",
      "    loss           : 0.7537449621237241\n",
      "    my_metric      : 0.6408544580419581\n",
      "    f1             : 0.5612765007744875\n",
      "    balanced_accuracy: 0.5581882166774771\n",
      "    precision      : 0.6600522755989223\n",
      "    recall         : 0.6408544580419581\n",
      "    val_loss       : 0.5314596772193909\n",
      "    val_my_metric  : 0.6798214285714286\n",
      "    val_f1         : 0.6046972688344359\n",
      "    val_balanced_accuracy: 0.5817728442728443\n",
      "    val_precision  : 0.7464938567896192\n",
      "    val_recall     : 0.6798214285714286\n",
      "Saving checkpoint: ../saved/IMPRS_hdf5_volume_AllDAPI_noise/0710_173648/checkpoint-epoch6.pth ...\n",
      "Saving current best: model_best.pth ...\n",
      "    epoch          : 7\n",
      "    loss           : 0.7509145541832998\n",
      "    my_metric      : 0.6480659965034966\n",
      "    f1             : 0.5841176876265808\n",
      "    balanced_accuracy: 0.5724143955618742\n",
      "    precision      : 0.6651490328763224\n",
      "    recall         : 0.6480659965034966\n",
      "    val_loss       : 0.44759361147880555\n",
      "    val_my_metric  : 0.7500892857142858\n",
      "    val_f1         : 0.7232720244414337\n",
      "    val_balanced_accuracy: 0.6875600374205024\n",
      "    val_precision  : 0.7740224358974359\n",
      "    val_recall     : 0.7500892857142858\n",
      "Saving checkpoint: ../saved/IMPRS_hdf5_volume_AllDAPI_noise/0710_173648/checkpoint-epoch7.pth ...\n",
      "Saving current best: model_best.pth ...\n",
      "    epoch          : 8\n",
      "    loss           : 0.7170005005139571\n",
      "    my_metric      : 0.6613854895104895\n",
      "    f1             : 0.6056904369682381\n",
      "    balanced_accuracy: 0.587875526113467\n",
      "    precision      : 0.68513508604279\n",
      "    recall         : 0.6613854895104895\n",
      "    val_loss       : 0.4942215919494629\n",
      "    val_my_metric  : 0.7147321428571429\n",
      "    val_f1         : 0.6909204510161441\n",
      "    val_balanced_accuracy: 0.6551387994682073\n",
      "    val_precision  : 0.7205369897959183\n",
      "    val_recall     : 0.7147321428571429\n"
     ]
    },
    {
     "name": "stdout",
     "output_type": "stream",
     "text": [
      "Model has not improved in -------------| 1 epochs\n"
     ]
    },
    {
     "name": "stderr",
     "output_type": "stream",
     "text": [
      "    epoch          : 9\n",
      "    loss           : 0.6769708234530228\n",
      "    my_metric      : 0.6817198426573428\n",
      "    f1             : 0.63411793372676\n",
      "    balanced_accuracy: 0.6132702095476202\n",
      "    precision      : 0.710955188797858\n",
      "    recall         : 0.6817198426573428\n",
      "    val_loss       : 0.5965947329998016\n",
      "    val_my_metric  : 0.6959821428571429\n",
      "    val_f1         : 0.6331673329825092\n",
      "    val_balanced_accuracy: 0.6035200748350271\n",
      "    val_precision  : 0.7358616277790008\n",
      "    val_recall     : 0.6959821428571429\n"
     ]
    },
    {
     "name": "stdout",
     "output_type": "stream",
     "text": [
      "Model has not improved in -------------| 2 epochs\n"
     ]
    },
    {
     "name": "stderr",
     "output_type": "stream",
     "text": [
      "    epoch          : 10\n",
      "    loss           : 0.6524192977410096\n",
      "    my_metric      : 0.6911385489510489\n",
      "    f1             : 0.6548372982996237\n",
      "    balanced_accuracy: 0.6342216214658234\n",
      "    precision      : 0.7165095912339401\n",
      "    recall         : 0.6911385489510489\n",
      "    val_loss       : 0.7042229890823364\n",
      "    val_my_metric  : 0.6882142857142857\n",
      "    val_f1         : 0.6283395320112913\n",
      "    val_balanced_accuracy: 0.6033479455055994\n",
      "    val_precision  : 0.7421990745338736\n",
      "    val_recall     : 0.6882142857142857\n"
     ]
    },
    {
     "name": "stdout",
     "output_type": "stream",
     "text": [
      "Model has not improved in -------------| 3 epochs\n"
     ]
    },
    {
     "name": "stderr",
     "output_type": "stream",
     "text": [
      "    epoch          : 11\n",
      "    loss           : 0.6465608901702441\n",
      "    my_metric      : 0.6996503496503497\n",
      "    f1             : 0.6708084407889451\n",
      "    balanced_accuracy: 0.6430429264884816\n",
      "    precision      : 0.717696475549779\n",
      "    recall         : 0.6996503496503497\n",
      "    val_loss       : 0.5305509448051453\n",
      "    val_my_metric  : 0.7678571428571429\n",
      "    val_f1         : 0.7572512607252537\n",
      "    val_balanced_accuracy: 0.7191822389190812\n",
      "    val_precision  : 0.773206761632444\n",
      "    val_recall     : 0.7678571428571429\n"
     ]
    },
    {
     "name": "stdout",
     "output_type": "stream",
     "text": [
      "Model has not improved in -------------| 4 epochs\n"
     ]
    },
    {
     "name": "stderr",
     "output_type": "stream",
     "text": [
      "    epoch          : 12\n",
      "    loss           : 0.6249158164629569\n",
      "    my_metric      : 0.7173841783216783\n",
      "    f1             : 0.6890854489560655\n",
      "    balanced_accuracy: 0.6641419859235018\n",
      "    precision      : 0.7480224385448626\n",
      "    recall         : 0.7173841783216783\n",
      "    val_loss       : 0.501515406370163\n",
      "    val_my_metric  : 0.7314285714285714\n",
      "    val_f1         : 0.6992560418506061\n",
      "    val_balanced_accuracy: 0.6707605170327469\n",
      "    val_precision  : 0.7754235579235579\n",
      "    val_recall     : 0.7314285714285714\n"
     ]
    },
    {
     "name": "stdout",
     "output_type": "stream",
     "text": [
      "Model has not improved in -------------| 5 epochs\n"
     ]
    },
    {
     "name": "stderr",
     "output_type": "stream",
     "text": [
      "    epoch          : 13\n",
      "    loss           : 0.5899839126146756\n",
      "    my_metric      : 0.7169689685314685\n",
      "    f1             : 0.6911385636863776\n",
      "    balanced_accuracy: 0.6649038696030453\n",
      "    precision      : 0.7402669617695461\n",
      "    recall         : 0.7169689685314685\n",
      "    val_loss       : 0.6120428085327149\n",
      "    val_my_metric  : 0.7183928571428572\n",
      "    val_f1         : 0.670352754725245\n",
      "    val_balanced_accuracy: 0.6375436415436415\n",
      "    val_precision  : 0.7770663132966825\n",
      "    val_recall     : 0.7183928571428572\n"
     ]
    },
    {
     "name": "stdout",
     "output_type": "stream",
     "text": [
      "Model has not improved in -------------| 6 epochs\n"
     ]
    },
    {
     "name": "stderr",
     "output_type": "stream",
     "text": [
      "    epoch          : 14\n",
      "    loss           : 0.588448777794838\n",
      "    my_metric      : 0.7233828671328671\n",
      "    f1             : 0.6983535792855969\n",
      "    balanced_accuracy: 0.6709988747313527\n",
      "    precision      : 0.7424398177089411\n",
      "    recall         : 0.7233828671328671\n",
      "    val_loss       : 0.40690134167671205\n",
      "    val_my_metric  : 0.7875892857142858\n",
      "    val_f1         : 0.7734043729223128\n",
      "    val_balanced_accuracy: 0.7468115561315456\n",
      "    val_precision  : 0.8057896267005848\n",
      "    val_recall     : 0.7875892857142858\n",
      "Saving checkpoint: ../saved/IMPRS_hdf5_volume_AllDAPI_noise/0710_173648/checkpoint-epoch14.pth ...\n",
      "Saving current best: model_best.pth ...\n",
      "    epoch          : 15\n",
      "    loss           : 0.5724632820257773\n",
      "    my_metric      : 0.7305944055944056\n",
      "    f1             : 0.705231723324893\n",
      "    balanced_accuracy: 0.6769679680289948\n",
      "    precision      : 0.7539351007511185\n",
      "    recall         : 0.7305944055944056\n",
      "    val_loss       : 0.500518012046814\n",
      "    val_my_metric  : 0.7303571428571429\n",
      "    val_f1         : 0.692945303335503\n",
      "    val_balanced_accuracy: 0.6557110730127145\n",
      "    val_precision  : 0.7753792249976726\n",
      "    val_recall     : 0.7303571428571429\n"
     ]
    },
    {
     "name": "stdout",
     "output_type": "stream",
     "text": [
      "Model has not improved in -------------| 1 epochs\n"
     ]
    },
    {
     "name": "stderr",
     "output_type": "stream",
     "text": [
      "    epoch          : 16\n",
      "    loss           : 0.570939492720824\n",
      "    my_metric      : 0.7201704545454545\n",
      "    f1             : 0.6951049640578659\n",
      "    balanced_accuracy: 0.6688170442613018\n",
      "    precision      : 0.7409461624060385\n",
      "    recall         : 0.7201704545454545\n",
      "    val_loss       : 0.41304770708084104\n",
      "    val_my_metric  : 0.8203571428571429\n",
      "    val_f1         : 0.8111006887939481\n",
      "    val_balanced_accuracy: 0.7841810966810967\n",
      "    val_precision  : 0.8357340367901476\n",
      "    val_recall     : 0.8203571428571429\n"
     ]
    },
    {
     "name": "stdout",
     "output_type": "stream",
     "text": [
      "Model has not improved in -------------| 2 epochs\n"
     ]
    },
    {
     "name": "stderr",
     "output_type": "stream",
     "text": [
      "    epoch          : 17\n",
      "    loss           : 0.589501488667268\n",
      "    my_metric      : 0.7168706293706294\n",
      "    f1             : 0.6920335875913319\n",
      "    balanced_accuracy: 0.6655663755121803\n",
      "    precision      : 0.733686106707638\n",
      "    recall         : 0.7168706293706294\n",
      "    val_loss       : 0.43533791303634645\n",
      "    val_my_metric  : 0.781875\n",
      "    val_f1         : 0.7740300016151409\n",
      "    val_balanced_accuracy: 0.7483423593949909\n",
      "    val_precision  : 0.7811811718954575\n",
      "    val_recall     : 0.781875\n"
     ]
    },
    {
     "name": "stdout",
     "output_type": "stream",
     "text": [
      "Model has not improved in -------------| 3 epochs\n"
     ]
    },
    {
     "name": "stderr",
     "output_type": "stream",
     "text": [
      "    epoch          : 18\n",
      "    loss           : 0.5501234829425812\n",
      "    my_metric      : 0.7399038461538462\n",
      "    f1             : 0.7226707501067591\n",
      "    balanced_accuracy: 0.6955425122108427\n",
      "    precision      : 0.7567822350820398\n",
      "    recall         : 0.7399038461538462\n",
      "    val_loss       : 0.4168228268623352\n",
      "    val_my_metric  : 0.7792857142857142\n",
      "    val_f1         : 0.7657092633358438\n",
      "    val_balanced_accuracy: 0.7287638648739778\n",
      "    val_precision  : 0.7891063235526551\n",
      "    val_recall     : 0.7792857142857142\n"
     ]
    },
    {
     "name": "stdout",
     "output_type": "stream",
     "text": [
      "Model has not improved in -------------| 4 epochs\n"
     ]
    },
    {
     "name": "stderr",
     "output_type": "stream",
     "text": [
      "    epoch          : 19\n",
      "    loss           : 0.5393332380514878\n",
      "    my_metric      : 0.7420126748251749\n",
      "    f1             : 0.7232317723615778\n",
      "    balanced_accuracy: 0.696274819748655\n",
      "    precision      : 0.7582280967278845\n",
      "    recall         : 0.7420126748251749\n",
      "    val_loss       : 0.4286326467990875\n",
      "    val_my_metric  : 0.7678571428571429\n",
      "    val_f1         : 0.748138705186814\n",
      "    val_balanced_accuracy: 0.7145579345611786\n",
      "    val_precision  : 0.7883029105397525\n",
      "    val_recall     : 0.7678571428571429\n"
     ]
    },
    {
     "name": "stdout",
     "output_type": "stream",
     "text": [
      "Model has not improved in -------------| 5 epochs\n"
     ]
    },
    {
     "name": "stderr",
     "output_type": "stream",
     "text": [
      "    epoch          : 20\n",
      "    loss           : 0.5237228858929414\n",
      "    my_metric      : 0.7537259615384616\n",
      "    f1             : 0.7370555661201886\n",
      "    balanced_accuracy: 0.7141286790016663\n",
      "    precision      : 0.7751525543974348\n",
      "    recall         : 0.7537259615384616\n",
      "    val_loss       : 0.4604398846626282\n",
      "    val_my_metric  : 0.7798214285714286\n",
      "    val_f1         : 0.7740833565377724\n",
      "    val_balanced_accuracy: 0.7443359019140896\n",
      "    val_precision  : 0.7833300572101716\n",
      "    val_recall     : 0.7798214285714286\n"
     ]
    },
    {
     "name": "stdout",
     "output_type": "stream",
     "text": [
      "Model has not improved in -------------| 6 epochs\n"
     ]
    },
    {
     "name": "stderr",
     "output_type": "stream",
     "text": [
      "    epoch          : 21\n",
      "    loss           : 0.5141285612032964\n",
      "    my_metric      : 0.7566324300699301\n",
      "    f1             : 0.743323680329994\n",
      "    balanced_accuracy: 0.7183075533075709\n",
      "    precision      : 0.7712376008720784\n",
      "    recall         : 0.7566324300699301\n",
      "    val_loss       : 0.41888070702552793\n",
      "    val_my_metric  : 0.7975\n",
      "    val_f1         : 0.7869978254667364\n",
      "    val_balanced_accuracy: 0.7525808908027471\n",
      "    val_precision  : 0.8065312434558521\n",
      "    val_recall     : 0.7975\n"
     ]
    },
    {
     "name": "stdout",
     "output_type": "stream",
     "text": [
      "Model has not improved in -------------| 7 epochs\n"
     ]
    },
    {
     "name": "stderr",
     "output_type": "stream",
     "text": [
      "    epoch          : 22\n",
      "    loss           : 0.5282425502171884\n",
      "    my_metric      : 0.7480222902097903\n",
      "    f1             : 0.7328875449285956\n",
      "    balanced_accuracy: 0.7073948643601284\n",
      "    precision      : 0.7673957259936051\n",
      "    recall         : 0.7480222902097903\n",
      "    val_loss       : 0.4366204023361206\n",
      "    val_my_metric  : 0.7808035714285715\n",
      "    val_f1         : 0.7764813624375486\n",
      "    val_balanced_accuracy: 0.7479394672679609\n",
      "    val_precision  : 0.7777477344871615\n",
      "    val_recall     : 0.7808035714285715\n"
     ]
    },
    {
     "name": "stdout",
     "output_type": "stream",
     "text": [
      "Model has not improved in -------------| 8 epochs\n"
     ]
    },
    {
     "name": "stderr",
     "output_type": "stream",
     "text": [
      "    epoch          : 23\n",
      "    loss           : 0.5207794583760775\n",
      "    my_metric      : 0.7441215034965035\n",
      "    f1             : 0.7272082722808969\n",
      "    balanced_accuracy: 0.7026617144872606\n",
      "    precision      : 0.7668145560702292\n",
      "    recall         : 0.7441215034965035\n",
      "    val_loss       : 0.47266046404838563\n",
      "    val_my_metric  : 0.7480357142857142\n",
      "    val_f1         : 0.7206687768702519\n",
      "    val_balanced_accuracy: 0.6871360089186176\n",
      "    val_precision  : 0.7799080636781108\n",
      "    val_recall     : 0.7480357142857142\n"
     ]
    },
    {
     "name": "stdout",
     "output_type": "stream",
     "text": [
      "Model has not improved in -------------| 9 epochs\n"
     ]
    },
    {
     "name": "stderr",
     "output_type": "stream",
     "text": [
      "    epoch          : 24\n",
      "    loss           : 0.5316298787410443\n",
      "    my_metric      : 0.7520323426573428\n",
      "    f1             : 0.7373180854555502\n",
      "    balanced_accuracy: 0.7138227034642703\n",
      "    precision      : 0.7665567108233605\n",
      "    recall         : 0.7520323426573428\n",
      "    val_loss       : 0.4623561382293701\n",
      "    val_my_metric  : 0.8053571428571429\n",
      "    val_f1         : 0.7946450227464247\n",
      "    val_balanced_accuracy: 0.7654387571492834\n",
      "    val_precision  : 0.8170250405126589\n",
      "    val_recall     : 0.8053571428571429\n"
     ]
    },
    {
     "name": "stdout",
     "output_type": "stream",
     "text": [
      "Model has not improved in -------------| 10 epochs\n"
     ]
    },
    {
     "name": "stderr",
     "output_type": "stream",
     "text": [
      "    epoch          : 25\n",
      "    loss           : 0.5183791094101392\n",
      "    my_metric      : 0.7342001748251749\n",
      "    f1             : 0.7206522886701623\n",
      "    balanced_accuracy: 0.69619836667108\n",
      "    precision      : 0.7434223548202851\n",
      "    recall         : 0.7342001748251749\n",
      "    val_loss       : 0.43139356970787046\n",
      "    val_my_metric  : 0.788125\n",
      "    val_f1         : 0.7683982011659012\n",
      "    val_balanced_accuracy: 0.7170031502037622\n",
      "    val_precision  : 0.8102983164496322\n",
      "    val_recall     : 0.788125\n"
     ]
    },
    {
     "name": "stdout",
     "output_type": "stream",
     "text": [
      "Model has not improved in -------------| 11 epochs\n"
     ]
    },
    {
     "name": "stderr",
     "output_type": "stream",
     "text": [
      "    epoch          : 26\n",
      "    loss           : 0.4928670067053575\n",
      "    my_metric      : 0.7470170454545454\n",
      "    f1             : 0.7314647132210115\n",
      "    balanced_accuracy: 0.7040474950960932\n",
      "    precision      : 0.7615674054129135\n",
      "    recall         : 0.7470170454545454\n",
      "    val_loss       : 0.3773797392845154\n",
      "    val_my_metric  : 0.7990178571428571\n",
      "    val_f1         : 0.7895508009086933\n",
      "    val_balanced_accuracy: 0.7536604818855273\n",
      "    val_precision  : 0.811784260561091\n",
      "    val_recall     : 0.7990178571428571\n",
      "Saving checkpoint: ../saved/IMPRS_hdf5_volume_AllDAPI_noise/0710_173648/checkpoint-epoch26.pth ...\n",
      "Saving current best: model_best.pth ...\n",
      "    epoch          : 27\n",
      "    loss           : 0.5194078672390717\n",
      "    my_metric      : 0.7507320804195804\n",
      "    f1             : 0.7361576852832352\n",
      "    balanced_accuracy: 0.709146157700996\n",
      "    precision      : 0.762049481894797\n",
      "    recall         : 0.7507320804195804\n",
      "    val_loss       : 0.40092767477035524\n",
      "    val_my_metric  : 0.8063392857142857\n",
      "    val_f1         : 0.8026440020878427\n",
      "    val_balanced_accuracy: 0.7802682778472253\n",
      "    val_precision  : 0.8088534366012198\n",
      "    val_recall     : 0.8063392857142857\n"
     ]
    },
    {
     "name": "stdout",
     "output_type": "stream",
     "text": [
      "Model has not improved in -------------| 1 epochs\n"
     ]
    },
    {
     "name": "stderr",
     "output_type": "stream",
     "text": [
      "    epoch          : 28\n",
      "    loss           : 0.49547219620301175\n",
      "    my_metric      : 0.7754698426573428\n",
      "    f1             : 0.7645147636454344\n",
      "    balanced_accuracy: 0.7382334572604076\n",
      "    precision      : 0.7862698345290309\n",
      "    recall         : 0.7754698426573428\n",
      "    val_loss       : 0.44518128633499143\n",
      "    val_my_metric  : 0.7870535714285715\n",
      "    val_f1         : 0.7862568319165482\n",
      "    val_balanced_accuracy: 0.7737372965033704\n",
      "    val_precision  : 0.7912901025072541\n",
      "    val_recall     : 0.7870535714285715\n"
     ]
    },
    {
     "name": "stdout",
     "output_type": "stream",
     "text": [
      "Model has not improved in -------------| 2 epochs\n"
     ]
    },
    {
     "name": "stderr",
     "output_type": "stream",
     "text": [
      "    epoch          : 29\n",
      "    loss           : 0.4926687272695395\n",
      "    my_metric      : 0.7580310314685315\n",
      "    f1             : 0.7480138360453866\n",
      "    balanced_accuracy: 0.7238437940586258\n",
      "    precision      : 0.7686224947885425\n",
      "    recall         : 0.7580310314685315\n",
      "    val_loss       : 0.43738184571266175\n",
      "    val_my_metric  : 0.7798214285714286\n",
      "    val_f1         : 0.7726724319651636\n",
      "    val_balanced_accuracy: 0.7468897793066591\n",
      "    val_precision  : 0.7831006420252209\n",
      "    val_recall     : 0.7798214285714286\n"
     ]
    },
    {
     "name": "stdout",
     "output_type": "stream",
     "text": [
      "Model has not improved in -------------| 3 epochs\n"
     ]
    },
    {
     "name": "stderr",
     "output_type": "stream",
     "text": [
      "    epoch          : 30\n",
      "    loss           : 0.4819125063144244\n",
      "    my_metric      : 0.7658435314685315\n",
      "    f1             : 0.7543208851898677\n",
      "    balanced_accuracy: 0.7303153202696768\n",
      "    precision      : 0.7790275037869109\n",
      "    recall         : 0.7658435314685315\n",
      "    val_loss       : 0.4389000773429871\n",
      "    val_my_metric  : 0.7845535714285714\n",
      "    val_f1         : 0.782253856472309\n",
      "    val_balanced_accuracy: 0.7592275231511711\n",
      "    val_precision  : 0.7868576915515111\n",
      "    val_recall     : 0.7845535714285714\n"
     ]
    },
    {
     "name": "stdout",
     "output_type": "stream",
     "text": [
      "Model has not improved in -------------| 4 epochs\n"
     ]
    },
    {
     "name": "stderr",
     "output_type": "stream",
     "text": [
      "    epoch          : 31\n",
      "    loss           : 0.4993865478497285\n",
      "    my_metric      : 0.7608500874125874\n",
      "    f1             : 0.7503888403734007\n",
      "    balanced_accuracy: 0.7263100521600301\n",
      "    precision      : 0.7695880380248281\n",
      "    recall         : 0.7608500874125874\n",
      "    val_loss       : 0.4310662865638733\n",
      "    val_my_metric  : 0.7652678571428572\n",
      "    val_f1         : 0.7549139968785011\n",
      "    val_balanced_accuracy: 0.729923010486046\n",
      "    val_precision  : 0.7788125260840748\n",
      "    val_recall     : 0.7652678571428572\n"
     ]
    },
    {
     "name": "stdout",
     "output_type": "stream",
     "text": [
      "Model has not improved in -------------| 5 epochs\n"
     ]
    },
    {
     "name": "stderr",
     "output_type": "stream",
     "text": [
      "    epoch          : 32\n",
      "    loss           : 0.5066939661136041\n",
      "    my_metric      : 0.7483282342657342\n",
      "    f1             : 0.7371962126915997\n",
      "    balanced_accuracy: 0.7141719290356883\n",
      "    precision      : 0.7611826834919513\n",
      "    recall         : 0.7483282342657342\n",
      "    val_loss       : 0.3871622681617737\n",
      "    val_my_metric  : 0.8146428571428572\n",
      "    val_f1         : 0.813431186304309\n",
      "    val_balanced_accuracy: 0.7958078757561121\n",
      "    val_precision  : 0.8139698322510822\n",
      "    val_recall     : 0.8146428571428572\n"
     ]
    },
    {
     "name": "stdout",
     "output_type": "stream",
     "text": [
      "Model has not improved in -------------| 6 epochs\n"
     ]
    },
    {
     "name": "stderr",
     "output_type": "stream",
     "text": [
      "    epoch          : 33\n",
      "    loss           : 0.4889763066401848\n",
      "    my_metric      : 0.7617460664335665\n",
      "    f1             : 0.7512050244474401\n",
      "    balanced_accuracy: 0.7283928688007406\n",
      "    precision      : 0.7721084465314203\n",
      "    recall         : 0.7617460664335665\n",
      "    val_loss       : 0.48413040637969973\n",
      "    val_my_metric  : 0.7594642857142857\n",
      "    val_f1         : 0.7289326775596361\n",
      "    val_balanced_accuracy: 0.6750345065562456\n",
      "    val_precision  : 0.7885714600072221\n",
      "    val_recall     : 0.7594642857142857\n"
     ]
    },
    {
     "name": "stdout",
     "output_type": "stream",
     "text": [
      "Model has not improved in -------------| 7 epochs\n"
     ]
    },
    {
     "name": "stderr",
     "output_type": "stream",
     "text": [
      "    epoch          : 34\n",
      "    loss           : 0.5085019308787125\n",
      "    my_metric      : 0.7512237762237762\n",
      "    f1             : 0.7400716227743293\n",
      "    balanced_accuracy: 0.7159997192026837\n",
      "    precision      : 0.7611432925119707\n",
      "    recall         : 0.7512237762237762\n",
      "    val_loss       : 0.4354680240154266\n",
      "    val_my_metric  : 0.7824107142857143\n",
      "    val_f1         : 0.7662802166805065\n",
      "    val_balanced_accuracy: 0.7369135749331588\n",
      "    val_precision  : 0.8058366976423557\n",
      "    val_recall     : 0.7824107142857143\n"
     ]
    },
    {
     "name": "stdout",
     "output_type": "stream",
     "text": [
      "Model has not improved in -------------| 8 epochs\n"
     ]
    },
    {
     "name": "stderr",
     "output_type": "stream",
     "text": [
      "    epoch          : 35\n",
      "    loss           : 0.48645051969931674\n",
      "    my_metric      : 0.7554414335664336\n",
      "    f1             : 0.7453488258869243\n",
      "    balanced_accuracy: 0.7228070616836221\n",
      "    precision      : 0.7629017497868692\n",
      "    recall         : 0.7554414335664336\n",
      "    val_loss       : 0.35506646931171415\n",
      "    val_my_metric  : 0.8433035714285714\n",
      "    val_f1         : 0.8438343003842741\n",
      "    val_balanced_accuracy: 0.838987891845792\n",
      "    val_precision  : 0.853695420958352\n",
      "    val_recall     : 0.8433035714285714\n",
      "Saving checkpoint: ../saved/IMPRS_hdf5_volume_AllDAPI_noise/0710_173648/checkpoint-epoch35.pth ...\n",
      "Saving current best: model_best.pth ...\n",
      "    epoch          : 36\n",
      "    loss           : 0.4836685588726631\n",
      "    my_metric      : 0.775152972027972\n",
      "    f1             : 0.7648519948064882\n",
      "    balanced_accuracy: 0.7408487161913483\n",
      "    precision      : 0.7921908722438649\n",
      "    recall         : 0.775152972027972\n",
      "    val_loss       : 0.39537296295166013\n",
      "    val_my_metric  : 0.8000892857142856\n",
      "    val_f1         : 0.7928369271182164\n",
      "    val_balanced_accuracy: 0.7639430014430014\n",
      "    val_precision  : 0.8080556555699576\n",
      "    val_recall     : 0.8000892857142856\n"
     ]
    },
    {
     "name": "stdout",
     "output_type": "stream",
     "text": [
      "Model has not improved in -------------| 1 epochs\n"
     ]
    },
    {
     "name": "stderr",
     "output_type": "stream",
     "text": [
      "    epoch          : 37\n",
      "    loss           : 0.4891119496180461\n",
      "    my_metric      : 0.7573426573426574\n",
      "    f1             : 0.7469111049348658\n",
      "    balanced_accuracy: 0.7227446980087695\n",
      "    precision      : 0.7643210216278682\n",
      "    recall         : 0.7573426573426574\n",
      "    val_loss       : 0.5207278251647949\n",
      "    val_my_metric  : 0.7507142857142857\n",
      "    val_f1         : 0.7210007585184433\n",
      "    val_balanced_accuracy: 0.6943164888966603\n",
      "    val_precision  : 0.8145512043597802\n",
      "    val_recall     : 0.7507142857142857\n"
     ]
    },
    {
     "name": "stdout",
     "output_type": "stream",
     "text": [
      "Model has not improved in -------------| 2 epochs\n"
     ]
    },
    {
     "name": "stderr",
     "output_type": "stream",
     "text": [
      "    epoch          : 38\n",
      "    loss           : 0.4767246830921907\n",
      "    my_metric      : 0.7629370629370629\n",
      "    f1             : 0.7526629728969071\n",
      "    balanced_accuracy: 0.7303360800724737\n",
      "    precision      : 0.769089995393511\n",
      "    recall         : 0.7629370629370629\n",
      "    val_loss       : 0.39284191727638246\n",
      "    val_my_metric  : 0.7969642857142858\n",
      "    val_f1         : 0.794739604872728\n",
      "    val_balanced_accuracy: 0.769876605426141\n",
      "    val_precision  : 0.8012702665954846\n",
      "    val_recall     : 0.7969642857142858\n"
     ]
    },
    {
     "name": "stdout",
     "output_type": "stream",
     "text": [
      "Model has not improved in -------------| 3 epochs\n"
     ]
    },
    {
     "name": "stderr",
     "output_type": "stream",
     "text": [
      "    epoch          : 39\n",
      "    loss           : 0.5049538532128701\n",
      "    my_metric      : 0.7549278846153846\n",
      "    f1             : 0.7441429465127543\n",
      "    balanced_accuracy: 0.7232516419968675\n",
      "    precision      : 0.7694254602821484\n",
      "    recall         : 0.7549278846153846\n",
      "    val_loss       : 0.38579277992248534\n",
      "    val_my_metric  : 0.7927678571428571\n",
      "    val_f1         : 0.7739509660889744\n",
      "    val_balanced_accuracy: 0.7374211512601605\n",
      "    val_precision  : 0.8190518304030011\n",
      "    val_recall     : 0.7927678571428571\n"
     ]
    },
    {
     "name": "stdout",
     "output_type": "stream",
     "text": [
      "Model has not improved in -------------| 4 epochs\n"
     ]
    },
    {
     "name": "stderr",
     "output_type": "stream",
     "text": [
      "    epoch          : 40\n",
      "    loss           : 0.5035100751198255\n",
      "    my_metric      : 0.7550371503496505\n",
      "    f1             : 0.7444721690989973\n",
      "    balanced_accuracy: 0.7204929943922834\n",
      "    precision      : 0.7671324386031964\n",
      "    recall         : 0.7550371503496505\n",
      "    val_loss       : 0.3732443153858185\n",
      "    val_my_metric  : 0.8074107142857143\n",
      "    val_f1         : 0.8010818115628056\n",
      "    val_balanced_accuracy: 0.7699236417671289\n",
      "    val_precision  : 0.8090937665562548\n",
      "    val_recall     : 0.8074107142857143\n"
     ]
    },
    {
     "name": "stdout",
     "output_type": "stream",
     "text": [
      "Model has not improved in -------------| 5 epochs\n"
     ]
    },
    {
     "name": "stderr",
     "output_type": "stream",
     "text": [
      "    epoch          : 41\n",
      "    loss           : 0.4589345088371864\n",
      "    my_metric      : 0.7585336538461539\n",
      "    f1             : 0.7475749377092696\n",
      "    balanced_accuracy: 0.7227985486931805\n",
      "    precision      : 0.7700797076036774\n",
      "    recall         : 0.7585336538461539\n",
      "    val_loss       : 0.5612392246723175\n",
      "    val_my_metric  : 0.7360714285714286\n",
      "    val_f1         : 0.6925474951213865\n",
      "    val_balanced_accuracy: 0.6530766017608123\n",
      "    val_precision  : 0.8002115745241888\n",
      "    val_recall     : 0.7360714285714286\n"
     ]
    },
    {
     "name": "stdout",
     "output_type": "stream",
     "text": [
      "Model has not improved in -------------| 6 epochs\n"
     ]
    },
    {
     "name": "stderr",
     "output_type": "stream",
     "text": [
      "    epoch          : 42\n",
      "    loss           : 0.4604124977038457\n",
      "    my_metric      : 0.7662478146853147\n",
      "    f1             : 0.7549324914752003\n",
      "    balanced_accuracy: 0.7284244033950587\n",
      "    precision      : 0.780652250014524\n",
      "    recall         : 0.7662478146853147\n",
      "    val_loss       : 0.40430307388305664\n",
      "    val_my_metric  : 0.8240178571428572\n",
      "    val_f1         : 0.824578016529701\n",
      "    val_balanced_accuracy: 0.8214642053800741\n",
      "    val_precision  : 0.8334225797993465\n",
      "    val_recall     : 0.8240178571428572\n"
     ]
    },
    {
     "name": "stdout",
     "output_type": "stream",
     "text": [
      "Model has not improved in -------------| 7 epochs\n"
     ]
    },
    {
     "name": "stderr",
     "output_type": "stream",
     "text": [
      "    epoch          : 43\n",
      "    loss           : 0.45667373217069185\n",
      "    my_metric      : 0.7674497377622378\n",
      "    f1             : 0.7571438477247371\n",
      "    balanced_accuracy: 0.7323665568449509\n",
      "    precision      : 0.7774747464307711\n",
      "    recall         : 0.7674497377622378\n",
      "    val_loss       : 0.38960148096084596\n",
      "    val_my_metric  : 0.8099999999999999\n",
      "    val_f1         : 0.8053047941507214\n",
      "    val_balanced_accuracy: 0.7816468612980241\n",
      "    val_precision  : 0.8122623653662273\n",
      "    val_recall     : 0.8099999999999999\n"
     ]
    },
    {
     "name": "stdout",
     "output_type": "stream",
     "text": [
      "Model has not improved in -------------| 8 epochs\n"
     ]
    },
    {
     "name": "stderr",
     "output_type": "stream",
     "text": [
      "    epoch          : 44\n",
      "    loss           : 0.46422836299125964\n",
      "    my_metric      : 0.767646416083916\n",
      "    f1             : 0.7595895602214427\n",
      "    balanced_accuracy: 0.7403741616751156\n",
      "    precision      : 0.7804414260077646\n",
      "    recall         : 0.767646416083916\n",
      "    val_loss       : 0.4001883089542389\n",
      "    val_my_metric  : 0.7975\n",
      "    val_f1         : 0.7952257013968376\n",
      "    val_balanced_accuracy: 0.7732219460714187\n",
      "    val_precision  : 0.8006137356369329\n",
      "    val_recall     : 0.7975\n"
     ]
    },
    {
     "name": "stdout",
     "output_type": "stream",
     "text": [
      "Model has not improved in -------------| 9 epochs\n"
     ]
    },
    {
     "name": "stderr",
     "output_type": "stream",
     "text": [
      "    epoch          : 45\n",
      "    loss           : 0.44645256721056426\n",
      "    my_metric      : 0.7801682692307692\n",
      "    f1             : 0.7718707163832458\n",
      "    balanced_accuracy: 0.7522271930328167\n",
      "    precision      : 0.7901532477915789\n",
      "    recall         : 0.7801682692307692\n",
      "    val_loss       : 0.39635240435600283\n",
      "    val_my_metric  : 0.8151785714285713\n",
      "    val_f1         : 0.8072055599953639\n",
      "    val_balanced_accuracy: 0.7804805283635652\n",
      "    val_precision  : 0.8293729069672466\n",
      "    val_recall     : 0.8151785714285713\n"
     ]
    },
    {
     "name": "stdout",
     "output_type": "stream",
     "text": [
      "Model has not improved in -------------| 10 epochs\n"
     ]
    },
    {
     "name": "stderr",
     "output_type": "stream",
     "text": [
      "    epoch          : 46\n",
      "    loss           : 0.4623350535447781\n",
      "    my_metric      : 0.7744536713286714\n",
      "    f1             : 0.7663300645223138\n",
      "    balanced_accuracy: 0.7463240231100173\n",
      "    precision      : 0.784713160362229\n",
      "    recall         : 0.7744536713286714\n",
      "    val_loss       : 0.39872419834136963\n",
      "    val_my_metric  : 0.8042857142857143\n",
      "    val_f1         : 0.804457394303823\n",
      "    val_balanced_accuracy: 0.7785759233926128\n",
      "    val_precision  : 0.8071589909747804\n",
      "    val_recall     : 0.8042857142857143\n"
     ]
    },
    {
     "name": "stdout",
     "output_type": "stream",
     "text": [
      "Model has not improved in -------------| 11 epochs\n"
     ]
    },
    {
     "name": "stderr",
     "output_type": "stream",
     "text": [
      "    epoch          : 47\n",
      "    loss           : 0.4554128429064384\n",
      "    my_metric      : 0.771055506993007\n",
      "    f1             : 0.7599382168507687\n",
      "    balanced_accuracy: 0.7349306529211636\n",
      "    precision      : 0.7829481617337569\n",
      "    recall         : 0.771055506993007\n",
      "    val_loss       : 0.42106167078018186\n",
      "    val_my_metric  : 0.7954464285714286\n",
      "    val_f1         : 0.7891425127740421\n",
      "    val_balanced_accuracy: 0.7566263144423935\n",
      "    val_precision  : 0.8018567892268551\n",
      "    val_recall     : 0.7954464285714286\n"
     ]
    },
    {
     "name": "stdout",
     "output_type": "stream",
     "text": [
      "Model has not improved in -------------| 12 epochs\n"
     ]
    },
    {
     "name": "stderr",
     "output_type": "stream",
     "text": [
      "    epoch          : 48\n",
      "    loss           : 0.4541735179149188\n",
      "    my_metric      : 0.7868771853146852\n",
      "    f1             : 0.7781991176892227\n",
      "    balanced_accuracy: 0.7553779469474813\n",
      "    precision      : 0.7956203389168596\n",
      "    recall         : 0.7868771853146852\n",
      "    val_loss       : 0.34580213725566866\n",
      "    val_my_metric  : 0.8297321428571429\n",
      "    val_f1         : 0.8231876915847737\n",
      "    val_balanced_accuracy: 0.7929584689929517\n",
      "    val_precision  : 0.8380897716694606\n",
      "    val_recall     : 0.8297321428571429\n",
      "Saving checkpoint: ../saved/IMPRS_hdf5_volume_AllDAPI_noise/0710_173648/checkpoint-epoch48.pth ...\n",
      "Saving current best: model_best.pth ...\n",
      "    epoch          : 49\n",
      "    loss           : 0.44529893879707044\n",
      "    my_metric      : 0.7850743006993006\n",
      "    f1             : 0.777603576407501\n",
      "    balanced_accuracy: 0.7569813141819198\n",
      "    precision      : 0.7965236507167709\n",
      "    recall         : 0.7850743006993006\n",
      "    val_loss       : 0.38530140519142153\n",
      "    val_my_metric  : 0.7860714285714285\n",
      "    val_f1         : 0.7673622720030654\n",
      "    val_balanced_accuracy: 0.733404113011155\n",
      "    val_precision  : 0.8195099399620732\n",
      "    val_recall     : 0.7860714285714285\n"
     ]
    },
    {
     "name": "stdout",
     "output_type": "stream",
     "text": [
      "Model has not improved in -------------| 1 epochs\n"
     ]
    },
    {
     "name": "stderr",
     "output_type": "stream",
     "text": [
      "    epoch          : 50\n",
      "    loss           : 0.47431047833882845\n",
      "    my_metric      : 0.7611451048951049\n",
      "    f1             : 0.7512492088420817\n",
      "    balanced_accuracy: 0.732238652375821\n",
      "    precision      : 0.774084566979464\n",
      "    recall         : 0.7611451048951049\n",
      "    val_loss       : 0.38290712237358093\n",
      "    val_my_metric  : 0.7923214285714286\n",
      "    val_f1         : 0.7861127376338133\n",
      "    val_balanced_accuracy: 0.7588452928007541\n",
      "    val_precision  : 0.7961931913116123\n",
      "    val_recall     : 0.7923214285714286\n"
     ]
    },
    {
     "name": "stdout",
     "output_type": "stream",
     "text": [
      "Model has not improved in -------------| 2 epochs\n"
     ]
    },
    {
     "name": "stderr",
     "output_type": "stream",
     "text": [
      "    epoch          : 51\n",
      "    loss           : 0.4466371284081386\n",
      "    my_metric      : 0.7875874125874126\n",
      "    f1             : 0.7799461903553018\n",
      "    balanced_accuracy: 0.7567010373994877\n",
      "    precision      : 0.795904485846192\n",
      "    recall         : 0.7875874125874126\n",
      "    val_loss       : 0.35389068722724915\n",
      "    val_my_metric  : 0.8365178571428572\n",
      "    val_f1         : 0.8332387862316899\n",
      "    val_balanced_accuracy: 0.8093035913035912\n",
      "    val_precision  : 0.8396983023454971\n",
      "    val_recall     : 0.8365178571428572\n"
     ]
    },
    {
     "name": "stdout",
     "output_type": "stream",
     "text": [
      "Model has not improved in -------------| 3 epochs\n"
     ]
    },
    {
     "name": "stderr",
     "output_type": "stream",
     "text": [
      "    epoch          : 52\n",
      "    loss           : 0.4458091167303232\n",
      "    my_metric      : 0.7749672202797202\n",
      "    f1             : 0.7657204465422129\n",
      "    balanced_accuracy: 0.7420712481206574\n",
      "    precision      : 0.7861855084290721\n",
      "    recall         : 0.7749672202797202\n",
      "    val_loss       : 0.37769622802734376\n",
      "    val_my_metric  : 0.8188392857142857\n",
      "    val_f1         : 0.8148363621157818\n",
      "    val_balanced_accuracy: 0.7979670667496755\n",
      "    val_precision  : 0.8243654557379617\n",
      "    val_recall     : 0.8188392857142857\n"
     ]
    },
    {
     "name": "stdout",
     "output_type": "stream",
     "text": [
      "Model has not improved in -------------| 4 epochs\n"
     ]
    },
    {
     "name": "stderr",
     "output_type": "stream",
     "text": [
      "    epoch          : 53\n",
      "    loss           : 0.4503670919399995\n",
      "    my_metric      : 0.7701486013986014\n",
      "    f1             : 0.7615278815106369\n",
      "    balanced_accuracy: 0.7395725418533383\n",
      "    precision      : 0.7795305607414024\n",
      "    recall         : 0.7701486013986014\n",
      "    val_loss       : 0.37811134457588197\n",
      "    val_my_metric  : 0.7927678571428571\n",
      "    val_f1         : 0.7831753571839227\n",
      "    val_balanced_accuracy: 0.754689407724235\n",
      "    val_precision  : 0.797118244677612\n",
      "    val_recall     : 0.7927678571428571\n"
     ]
    },
    {
     "name": "stdout",
     "output_type": "stream",
     "text": [
      "Model has not improved in -------------| 5 epochs\n"
     ]
    },
    {
     "name": "stderr",
     "output_type": "stream",
     "text": [
      "    epoch          : 54\n",
      "    loss           : 0.4680420080056557\n",
      "    my_metric      : 0.7670563811188812\n",
      "    f1             : 0.759361825154329\n",
      "    balanced_accuracy: 0.7385617139247274\n",
      "    precision      : 0.7803247565715773\n",
      "    recall         : 0.7670563811188812\n",
      "    val_loss       : 0.4021732211112976\n",
      "    val_my_metric  : 0.8042857142857143\n",
      "    val_f1         : 0.8023398956457651\n",
      "    val_balanced_accuracy: 0.7942840992881494\n",
      "    val_precision  : 0.8124036747374388\n",
      "    val_recall     : 0.8042857142857143\n"
     ]
    },
    {
     "name": "stdout",
     "output_type": "stream",
     "text": [
      "Model has not improved in -------------| 6 epochs\n"
     ]
    },
    {
     "name": "stderr",
     "output_type": "stream",
     "text": [
      "    epoch          : 55\n",
      "    loss           : 0.4513346472611794\n",
      "    my_metric      : 0.7595388986013987\n",
      "    f1             : 0.7511605344590303\n",
      "    balanced_accuracy: 0.7345141676665091\n",
      "    precision      : 0.7744948993557066\n",
      "    recall         : 0.7595388986013987\n",
      "    val_loss       : 0.4497625887393951\n",
      "    val_my_metric  : 0.7366071428571429\n",
      "    val_f1         : 0.7084236147437462\n",
      "    val_balanced_accuracy: 0.6723553477938287\n",
      "    val_precision  : 0.7684756320723303\n",
      "    val_recall     : 0.7366071428571429\n"
     ]
    },
    {
     "name": "stdout",
     "output_type": "stream",
     "text": [
      "Model has not improved in -------------| 7 epochs\n"
     ]
    },
    {
     "name": "stderr",
     "output_type": "stream",
     "text": [
      "    epoch          : 56\n",
      "    loss           : 0.445345900952816\n",
      "    my_metric      : 0.772159090909091\n",
      "    f1             : 0.7642688064507532\n",
      "    balanced_accuracy: 0.7444559063405196\n",
      "    precision      : 0.7784780215216571\n",
      "    recall         : 0.772159090909091\n",
      "    val_loss       : 0.354094535112381\n",
      "    val_my_metric  : 0.8063392857142857\n",
      "    val_f1         : 0.7970246457839616\n",
      "    val_balanced_accuracy: 0.7630496020035662\n",
      "    val_precision  : 0.812710356477667\n",
      "    val_recall     : 0.8063392857142857\n"
     ]
    },
    {
     "name": "stdout",
     "output_type": "stream",
     "text": [
      "Model has not improved in -------------| 8 epochs\n"
     ]
    },
    {
     "name": "stderr",
     "output_type": "stream",
     "text": [
      "    epoch          : 57\n",
      "    loss           : 0.4258705675601959\n",
      "    my_metric      : 0.7775677447552448\n",
      "    f1             : 0.7700658808645785\n",
      "    balanced_accuracy: 0.7494180338063233\n",
      "    precision      : 0.7857840111517093\n",
      "    recall         : 0.7775677447552448\n",
      "    val_loss       : 0.35452277064323423\n",
      "    val_my_metric  : 0.8125892857142857\n",
      "    val_f1         : 0.8033635390573683\n",
      "    val_balanced_accuracy: 0.7725397335068596\n",
      "    val_precision  : 0.8233789968654746\n",
      "    val_recall     : 0.8125892857142857\n"
     ]
    },
    {
     "name": "stdout",
     "output_type": "stream",
     "text": [
      "Model has not improved in -------------| 9 epochs\n"
     ]
    },
    {
     "name": "stderr",
     "output_type": "stream",
     "text": [
      "    epoch          : 58\n",
      "    loss           : 0.4495673661048596\n",
      "    my_metric      : 0.7663570804195804\n",
      "    f1             : 0.7577141108882004\n",
      "    balanced_accuracy: 0.7390504244465931\n",
      "    precision      : 0.7793320900164655\n",
      "    recall         : 0.7663570804195804\n",
      "    val_loss       : 0.4242470622062683\n",
      "    val_my_metric  : 0.7901785714285714\n",
      "    val_f1         : 0.7753599070454043\n",
      "    val_balanced_accuracy: 0.7386053902873124\n",
      "    val_precision  : 0.8047669671015258\n",
      "    val_recall     : 0.7901785714285714\n"
     ]
    },
    {
     "name": "stdout",
     "output_type": "stream",
     "text": [
      "Model has not improved in -------------| 10 epochs\n"
     ]
    },
    {
     "name": "stderr",
     "output_type": "stream",
     "text": [
      "    epoch          : 59\n",
      "    loss           : 0.47606587409973145\n",
      "    my_metric      : 0.7625437062937064\n",
      "    f1             : 0.753478795370638\n",
      "    balanced_accuracy: 0.7313690587502363\n",
      "    precision      : 0.7775544885082293\n",
      "    recall         : 0.7625437062937064\n",
      "    val_loss       : 0.3974333882331848\n",
      "    val_my_metric  : 0.7938392857142857\n",
      "    val_f1         : 0.7841641908857611\n",
      "    val_balanced_accuracy: 0.7578740384937329\n",
      "    val_precision  : 0.8160473958333334\n",
      "    val_recall     : 0.7938392857142857\n"
     ]
    },
    {
     "name": "stdout",
     "output_type": "stream",
     "text": [
      "Model has not improved in -------------| 11 epochs\n"
     ]
    },
    {
     "name": "stderr",
     "output_type": "stream",
     "text": [
      "    epoch          : 60\n",
      "    loss           : 0.45174268690439373\n",
      "    my_metric      : 0.7760598776223776\n",
      "    f1             : 0.7695309566626866\n",
      "    balanced_accuracy: 0.749296203194999\n",
      "    precision      : 0.7866888864619958\n",
      "    recall         : 0.7760598776223776\n",
      "    val_loss       : 0.3658929347991943\n",
      "    val_my_metric  : 0.8375892857142857\n",
      "    val_f1         : 0.8359727124257674\n",
      "    val_balanced_accuracy: 0.8203993073729915\n",
      "    val_precision  : 0.8398790532833956\n",
      "    val_recall     : 0.8375892857142857\n"
     ]
    },
    {
     "name": "stdout",
     "output_type": "stream",
     "text": [
      "Model has not improved in -------------| 12 epochs\n"
     ]
    },
    {
     "name": "stderr",
     "output_type": "stream",
     "text": [
      "    epoch          : 61\n",
      "    loss           : 0.44691499838462245\n",
      "    my_metric      : 0.7759724650349651\n",
      "    f1             : 0.7686313383908543\n",
      "    balanced_accuracy: 0.7482425454860712\n",
      "    precision      : 0.7893698912416357\n",
      "    recall         : 0.7759724650349651\n",
      "    val_loss       : 0.38646692633628843\n",
      "    val_my_metric  : 0.8032142857142857\n",
      "    val_f1         : 0.7948797892347043\n",
      "    val_balanced_accuracy: 0.7663620497937069\n",
      "    val_precision  : 0.8087912660434979\n",
      "    val_recall     : 0.8032142857142857\n"
     ]
    },
    {
     "name": "stdout",
     "output_type": "stream",
     "text": [
      "Model has not improved in -------------| 13 epochs\n"
     ]
    },
    {
     "name": "stderr",
     "output_type": "stream",
     "text": [
      "    epoch          : 62\n",
      "    loss           : 0.4270437015936925\n",
      "    my_metric      : 0.7831730769230769\n",
      "    f1             : 0.7755660097485274\n",
      "    balanced_accuracy: 0.7543914563477792\n",
      "    precision      : 0.7924359818594463\n",
      "    recall         : 0.7831730769230769\n",
      "    val_loss       : 0.35330581068992617\n",
      "    val_my_metric  : 0.8141071428571429\n",
      "    val_f1         : 0.801445694149438\n",
      "    val_balanced_accuracy: 0.7679748591811159\n",
      "    val_precision  : 0.8240347921492657\n",
      "    val_recall     : 0.8141071428571429\n"
     ]
    },
    {
     "name": "stdout",
     "output_type": "stream",
     "text": [
      "Model has not improved in -------------| 14 epochs\n"
     ]
    },
    {
     "name": "stderr",
     "output_type": "stream",
     "text": [
      "    epoch          : 63\n",
      "    loss           : 0.42808068371736085\n",
      "    my_metric      : 0.7879807692307692\n",
      "    f1             : 0.7801939891532108\n",
      "    balanced_accuracy: 0.7580648831038123\n",
      "    precision      : 0.7971044580706195\n",
      "    recall         : 0.7879807692307692\n",
      "    val_loss       : 0.36379519701004026\n",
      "    val_my_metric  : 0.8214285714285714\n",
      "    val_f1         : 0.8195280240598795\n",
      "    val_balanced_accuracy: 0.8061042302890129\n",
      "    val_precision  : 0.8338107805584398\n",
      "    val_recall     : 0.8214285714285714\n"
     ]
    },
    {
     "name": "stdout",
     "output_type": "stream",
     "text": [
      "Model has not improved in -------------| 15 epochs\n"
     ]
    },
    {
     "name": "stderr",
     "output_type": "stream",
     "text": [
      "    epoch          : 64\n",
      "    loss           : 0.4337812742361656\n",
      "    my_metric      : 0.780277534965035\n",
      "    f1             : 0.7726285107441461\n",
      "    balanced_accuracy: 0.752174102912281\n",
      "    precision      : 0.7907310851914638\n",
      "    recall         : 0.780277534965035\n",
      "    val_loss       : 0.37178738713264464\n",
      "    val_my_metric  : 0.8104464285714286\n",
      "    val_f1         : 0.799499331484762\n",
      "    val_balanced_accuracy: 0.7707675688511741\n",
      "    val_precision  : 0.8224920169364826\n",
      "    val_recall     : 0.8104464285714286\n"
     ]
    },
    {
     "name": "stdout",
     "output_type": "stream",
     "text": [
      "Model has not improved in -------------| 16 epochs\n"
     ]
    },
    {
     "name": "stderr",
     "output_type": "stream",
     "text": [
      "    epoch          : 65\n",
      "    loss           : 0.43900300791630376\n",
      "    my_metric      : 0.7780703671328671\n",
      "    f1             : 0.7706477808074911\n",
      "    balanced_accuracy: 0.7486089530916094\n",
      "    precision      : 0.7918049606370865\n",
      "    recall         : 0.7780703671328671\n",
      "    val_loss       : 0.3815720617771149\n",
      "    val_my_metric  : 0.8385714285714286\n",
      "    val_f1         : 0.8403270021135771\n",
      "    val_balanced_accuracy: 0.8384640426907909\n",
      "    val_precision  : 0.8475478848816993\n",
      "    val_recall     : 0.8385714285714286\n"
     ]
    },
    {
     "name": "stdout",
     "output_type": "stream",
     "text": [
      "Model has not improved in -------------| 17 epochs\n"
     ]
    },
    {
     "name": "stderr",
     "output_type": "stream",
     "text": [
      "    epoch          : 66\n",
      "    loss           : 0.4401884526014328\n",
      "    my_metric      : 0.7862762237762237\n",
      "    f1             : 0.780229713459549\n",
      "    balanced_accuracy: 0.7607578148101923\n",
      "    precision      : 0.795404430059153\n",
      "    recall         : 0.7862762237762237\n",
      "    val_loss       : 0.4082499623298645\n",
      "    val_my_metric  : 0.8469642857142856\n",
      "    val_f1         : 0.8453597943032036\n",
      "    val_balanced_accuracy: 0.8253883592736221\n",
      "    val_precision  : 0.8495156788011646\n",
      "    val_recall     : 0.8469642857142856\n"
     ]
    },
    {
     "name": "stdout",
     "output_type": "stream",
     "text": [
      "Model has not improved in -------------| 18 epochs\n"
     ]
    },
    {
     "name": "stderr",
     "output_type": "stream",
     "text": [
      "    epoch          : 67\n",
      "    loss           : 0.4384376463981775\n",
      "    my_metric      : 0.7790756118881119\n",
      "    f1             : 0.77297422548398\n",
      "    balanced_accuracy: 0.7548985801685337\n",
      "    precision      : 0.7889771152305574\n",
      "    recall         : 0.7790756118881119\n",
      "    val_loss       : 0.41081479787826536\n",
      "    val_my_metric  : 0.7855357142857142\n",
      "    val_f1         : 0.7750240267631479\n",
      "    val_balanced_accuracy: 0.7394836153347623\n",
      "    val_precision  : 0.7884895431171279\n",
      "    val_recall     : 0.7855357142857142\n"
     ]
    },
    {
     "name": "stdout",
     "output_type": "stream",
     "text": [
      "Model has not improved in -------------| 19 epochs\n"
     ]
    },
    {
     "name": "stderr",
     "output_type": "stream",
     "text": [
      "    epoch          : 68\n",
      "    loss           : 0.4512443267382108\n",
      "    my_metric      : 0.7775677447552448\n",
      "    f1             : 0.7706511666166729\n",
      "    balanced_accuracy: 0.7478709816511002\n",
      "    precision      : 0.7845313426440502\n",
      "    recall         : 0.7775677447552448\n",
      "    val_loss       : 0.37528382539749144\n",
      "    val_my_metric  : 0.8147321428571429\n",
      "    val_f1         : 0.8129389422509019\n",
      "    val_balanced_accuracy: 0.7987741884767058\n",
      "    val_precision  : 0.8166709796803749\n",
      "    val_recall     : 0.8147321428571429\n"
     ]
    },
    {
     "name": "stdout",
     "output_type": "stream",
     "text": [
      "Model has not improved in -------------| 20 epochs\n"
     ]
    },
    {
     "name": "stderr",
     "output_type": "stream",
     "text": [
      "    epoch          : 69\n",
      "    loss           : 0.45475779244532955\n",
      "    my_metric      : 0.7704545454545454\n",
      "    f1             : 0.7635151691028964\n",
      "    balanced_accuracy: 0.7464454346209443\n",
      "    precision      : 0.7839748213296656\n",
      "    recall         : 0.7704545454545454\n",
      "    val_loss       : 0.3657368242740631\n",
      "    val_my_metric  : 0.8033035714285715\n",
      "    val_f1         : 0.8003679403431814\n",
      "    val_balanced_accuracy: 0.7803269936143743\n",
      "    val_precision  : 0.8081955421223513\n",
      "    val_recall     : 0.8033035714285715\n"
     ]
    },
    {
     "name": "stdout",
     "output_type": "stream",
     "text": [
      "Model has not improved in -------------| 21 epochs\n"
     ]
    },
    {
     "name": "stderr",
     "output_type": "stream",
     "text": [
      "    epoch          : 70\n",
      "    loss           : 0.42095633997366977\n",
      "    my_metric      : 0.7827797202797202\n",
      "    f1             : 0.7754424189167874\n",
      "    balanced_accuracy: 0.7554537508480799\n",
      "    precision      : 0.7973137596962131\n",
      "    recall         : 0.7827797202797202\n",
      "    val_loss       : 0.3652254819869995\n",
      "    val_my_metric  : 0.7975\n",
      "    val_f1         : 0.7894224455158029\n",
      "    val_balanced_accuracy: 0.7629673725591011\n",
      "    val_precision  : 0.8060799288430868\n",
      "    val_recall     : 0.7975\n"
     ]
    },
    {
     "name": "stdout",
     "output_type": "stream",
     "text": [
      "Model has not improved in -------------| 22 epochs\n"
     ]
    },
    {
     "name": "stderr",
     "output_type": "stream",
     "text": [
      "    epoch          : 71\n",
      "    loss           : 0.4269353850529744\n",
      "    my_metric      : 0.7890843531468531\n",
      "    f1             : 0.7829985982010672\n",
      "    balanced_accuracy: 0.7647932844007267\n",
      "    precision      : 0.7991763896156541\n",
      "    recall         : 0.7890843531468531\n",
      "    val_loss       : 0.3550285518169403\n",
      "    val_my_metric  : 0.8141964285714286\n",
      "    val_f1         : 0.8075801332607989\n",
      "    val_balanced_accuracy: 0.7834362010575041\n",
      "    val_precision  : 0.8221302520709111\n",
      "    val_recall     : 0.8141964285714286\n"
     ]
    },
    {
     "name": "stdout",
     "output_type": "stream",
     "text": [
      "Model has not improved in -------------| 23 epochs\n"
     ]
    },
    {
     "name": "stderr",
     "output_type": "stream",
     "text": [
      "    epoch          : 72\n",
      "    loss           : 0.43207012116909027\n",
      "    my_metric      : 0.7738636363636364\n",
      "    f1             : 0.7649917474963354\n",
      "    balanced_accuracy: 0.7445188959952245\n",
      "    precision      : 0.7808676421934629\n",
      "    recall         : 0.7738636363636364\n",
      "    val_loss       : 0.37340660095214845\n",
      "    val_my_metric  : 0.7938392857142857\n",
      "    val_f1         : 0.7812495661917677\n",
      "    val_balanced_accuracy: 0.7470967365967367\n",
      "    val_precision  : 0.8109636690191625\n",
      "    val_recall     : 0.7938392857142857\n"
     ]
    },
    {
     "name": "stdout",
     "output_type": "stream",
     "text": [
      "Model has not improved in -------------| 24 epochs\n"
     ]
    },
    {
     "name": "stderr",
     "output_type": "stream",
     "text": [
      "    epoch          : 73\n",
      "    loss           : 0.4363496211858896\n",
      "    my_metric      : 0.7829763986013987\n",
      "    f1             : 0.7768267328653458\n",
      "    balanced_accuracy: 0.7573001095879851\n",
      "    precision      : 0.7937591687958422\n",
      "    recall         : 0.7829763986013987\n",
      "    val_loss       : 0.35516259968280794\n",
      "    val_my_metric  : 0.8599107142857143\n",
      "    val_f1         : 0.8552340799388913\n",
      "    val_balanced_accuracy: 0.8339278512372885\n",
      "    val_precision  : 0.8676986324474395\n",
      "    val_recall     : 0.8599107142857143\n"
     ]
    },
    {
     "name": "stdout",
     "output_type": "stream",
     "text": [
      "Model has not improved in -------------| 25 epochs\n"
     ]
    },
    {
     "name": "stderr",
     "output_type": "stream",
     "text": [
      "    epoch          : 74\n",
      "    loss           : 0.44691383838653564\n",
      "    my_metric      : 0.7816652097902098\n",
      "    f1             : 0.774918491159544\n",
      "    balanced_accuracy: 0.7598376001678957\n",
      "    precision      : 0.7945430607244975\n",
      "    recall         : 0.7816652097902098\n",
      "    val_loss       : 0.40170674324035643\n",
      "    val_my_metric  : 0.8199107142857143\n",
      "    val_f1         : 0.8218409474111251\n",
      "    val_balanced_accuracy: 0.8163595866401863\n",
      "    val_precision  : 0.830325560148751\n",
      "    val_recall     : 0.8199107142857143\n"
     ]
    },
    {
     "name": "stdout",
     "output_type": "stream",
     "text": [
      "Model has not improved in -------------| 26 epochs\n"
     ]
    },
    {
     "name": "stderr",
     "output_type": "stream",
     "text": [
      "    epoch          : 75\n",
      "    loss           : 0.4329107931027046\n",
      "    my_metric      : 0.7775677447552448\n",
      "    f1             : 0.7706418304869005\n",
      "    balanced_accuracy: 0.7492319472160648\n",
      "    precision      : 0.7853385040926592\n",
      "    recall         : 0.7775677447552448\n",
      "    val_loss       : 0.3710918724536896\n",
      "    val_my_metric  : 0.8188392857142857\n",
      "    val_f1         : 0.8160431770621266\n",
      "    val_balanced_accuracy: 0.7944635794313213\n",
      "    val_precision  : 0.8215981924043796\n",
      "    val_recall     : 0.8188392857142857\n"
     ]
    },
    {
     "name": "stdout",
     "output_type": "stream",
     "text": [
      "Model has not improved in -------------| 27 epochs\n"
     ]
    },
    {
     "name": "stderr",
     "output_type": "stream",
     "text": [
      "    epoch          : 76\n",
      "    loss           : 0.431424081325531\n",
      "    my_metric      : 0.7742569930069929\n",
      "    f1             : 0.7664609921391323\n",
      "    balanced_accuracy: 0.7445877700887811\n",
      "    precision      : 0.7812635809196615\n",
      "    recall         : 0.7742569930069929\n",
      "    val_loss       : 0.40270147025585173\n",
      "    val_my_metric  : 0.7980357142857143\n",
      "    val_f1         : 0.7838849278004789\n",
      "    val_balanced_accuracy: 0.7293850972340961\n",
      "    val_precision  : 0.8111360238767367\n",
      "    val_recall     : 0.7980357142857143\n"
     ]
    },
    {
     "name": "stdout",
     "output_type": "stream",
     "text": [
      "Model has not improved in -------------| 28 epochs\n"
     ]
    },
    {
     "name": "stderr",
     "output_type": "stream",
     "text": [
      "    epoch          : 77\n",
      "    loss           : 0.43146785577902425\n",
      "    my_metric      : 0.7890843531468531\n",
      "    f1             : 0.7833573588963911\n",
      "    balanced_accuracy: 0.7633212521444778\n",
      "    precision      : 0.79508636960271\n",
      "    recall         : 0.7890843531468531\n",
      "    val_loss       : 0.40156957507133484\n",
      "    val_my_metric  : 0.8162499999999999\n",
      "    val_f1         : 0.8144274627691572\n",
      "    val_balanced_accuracy: 0.7982307468157434\n",
      "    val_precision  : 0.8182200794517197\n",
      "    val_recall     : 0.8162499999999999\n"
     ]
    },
    {
     "name": "stdout",
     "output_type": "stream",
     "text": [
      "Model has not improved in -------------| 29 epochs\n"
     ]
    },
    {
     "name": "stderr",
     "output_type": "stream",
     "text": [
      "    epoch          : 78\n",
      "    loss           : 0.44937075674533844\n",
      "    my_metric      : 0.7784637237762237\n",
      "    f1             : 0.7724495093743914\n",
      "    balanced_accuracy: 0.7504531437565178\n",
      "    precision      : 0.7869667667804977\n",
      "    recall         : 0.7784637237762237\n",
      "    val_loss       : 0.38266563415527344\n",
      "    val_my_metric  : 0.7886607142857143\n",
      "    val_f1         : 0.7726319955593206\n",
      "    val_balanced_accuracy: 0.7396217252290116\n",
      "    val_precision  : 0.8151246628722244\n",
      "    val_recall     : 0.7886607142857143\n"
     ]
    },
    {
     "name": "stdout",
     "output_type": "stream",
     "text": [
      "Model has not improved in -------------| 30 epochs\n"
     ]
    },
    {
     "name": "stderr",
     "output_type": "stream",
     "text": [
      "    epoch          : 79\n",
      "    loss           : 0.4366886489666425\n",
      "    my_metric      : 0.7723557692307692\n",
      "    f1             : 0.7651079331969801\n",
      "    balanced_accuracy: 0.7448696774142578\n",
      "    precision      : 0.7839652264627952\n",
      "    recall         : 0.7723557692307692\n",
      "    val_loss       : 0.3754411518573761\n",
      "    val_my_metric  : 0.8183035714285714\n",
      "    val_f1         : 0.8162996749562461\n",
      "    val_balanced_accuracy: 0.7979148753263775\n",
      "    val_precision  : 0.8184163810552441\n",
      "    val_recall     : 0.8183035714285714\n"
     ]
    },
    {
     "name": "stdout",
     "output_type": "stream",
     "text": [
      "Model has not improved in -------------| 31 epochs\n"
     ]
    },
    {
     "name": "stderr",
     "output_type": "stream",
     "text": [
      "    epoch          : 80\n",
      "    loss           : 0.42590990376013976\n",
      "    my_metric      : 0.7882867132867133\n",
      "    f1             : 0.7821189783940533\n",
      "    balanced_accuracy: 0.7629465226690786\n",
      "    precision      : 0.7965832477105951\n",
      "    recall         : 0.7882867132867133\n",
      "    val_loss       : 0.38456461429595945\n",
      "    val_my_metric  : 0.8048214285714286\n",
      "    val_f1         : 0.7976047620517641\n",
      "    val_balanced_accuracy: 0.7687774754590493\n",
      "    val_precision  : 0.8085880003701341\n",
      "    val_recall     : 0.8048214285714286\n"
     ]
    },
    {
     "name": "stdout",
     "output_type": "stream",
     "text": [
      "Model has not improved in -------------| 32 epochs\n"
     ]
    },
    {
     "name": "stderr",
     "output_type": "stream",
     "text": [
      "    epoch          : 81\n",
      "    loss           : 0.4144012778997421\n",
      "    my_metric      : 0.7900786713286714\n",
      "    f1             : 0.7839067182411481\n",
      "    balanced_accuracy: 0.7637715367156436\n",
      "    precision      : 0.8003512103058598\n",
      "    recall         : 0.7900786713286714\n",
      "    val_loss       : 0.3514277458190918\n",
      "    val_my_metric  : 0.8500892857142857\n",
      "    val_f1         : 0.8484834192619694\n",
      "    val_balanced_accuracy: 0.8363672037442061\n",
      "    val_precision  : 0.8518807394772784\n",
      "    val_recall     : 0.8500892857142857\n"
     ]
    },
    {
     "name": "stdout",
     "output_type": "stream",
     "text": [
      "Model has not improved in -------------| 33 epochs\n"
     ]
    },
    {
     "name": "stderr",
     "output_type": "stream",
     "text": [
      "    epoch          : 82\n",
      "    loss           : 0.4184313382093723\n",
      "    my_metric      : 0.7787696678321679\n",
      "    f1             : 0.7716318799985218\n",
      "    balanced_accuracy: 0.7502661851643034\n",
      "    precision      : 0.7873010211285828\n",
      "    recall         : 0.7787696678321679\n",
      "    val_loss       : 0.408419007062912\n",
      "    val_my_metric  : 0.8016964285714285\n",
      "    val_f1         : 0.7985424390854001\n",
      "    val_balanced_accuracy: 0.7848208013714133\n",
      "    val_precision  : 0.806025433720196\n",
      "    val_recall     : 0.8016964285714285\n"
     ]
    },
    {
     "name": "stdout",
     "output_type": "stream",
     "text": [
      "Model has not improved in -------------| 34 epochs\n"
     ]
    },
    {
     "name": "stderr",
     "output_type": "stream",
     "text": [
      "    epoch          : 83\n",
      "    loss           : 0.4235606617652453\n",
      "    my_metric      : 0.7884833916083915\n",
      "    f1             : 0.782521885425017\n",
      "    balanced_accuracy: 0.7635761374446017\n",
      "    precision      : 0.7946982040110946\n",
      "    recall         : 0.7884833916083915\n",
      "    val_loss       : 0.35416522026062014\n",
      "    val_my_metric  : 0.8058035714285714\n",
      "    val_f1         : 0.7972549764870182\n",
      "    val_balanced_accuracy: 0.767738995842279\n",
      "    val_precision  : 0.8137951219193817\n",
      "    val_recall     : 0.8058035714285714\n"
     ]
    },
    {
     "name": "stdout",
     "output_type": "stream",
     "text": [
      "Model has not improved in -------------| 35 epochs\n"
     ]
    },
    {
     "name": "stderr",
     "output_type": "stream",
     "text": [
      "    epoch          : 84\n",
      "    loss           : 0.43007890306986296\n",
      "    my_metric      : 0.7786713286713287\n",
      "    f1             : 0.7725550391189857\n",
      "    balanced_accuracy: 0.7519988407417019\n",
      "    precision      : 0.7865537272888262\n",
      "    recall         : 0.7786713286713287\n",
      "    val_loss       : 0.340432870388031\n",
      "    val_my_metric  : 0.8365178571428572\n",
      "    val_f1         : 0.8317481314181311\n",
      "    val_balanced_accuracy: 0.804248646936941\n",
      "    val_precision  : 0.8370959855038853\n",
      "    val_recall     : 0.8365178571428572\n",
      "Saving checkpoint: ../saved/IMPRS_hdf5_volume_AllDAPI_noise/0710_173648/checkpoint-epoch84.pth ...\n",
      "Saving current best: model_best.pth ...\n",
      "    epoch          : 85\n",
      "    loss           : 0.4171243802859233\n",
      "    my_metric      : 0.7931818181818181\n",
      "    f1             : 0.7864585536294342\n",
      "    balanced_accuracy: 0.7655570458143538\n",
      "    precision      : 0.8029822163931448\n",
      "    recall         : 0.7931818181818181\n",
      "    val_loss       : 0.3476005971431732\n",
      "    val_my_metric  : 0.8188392857142857\n",
      "    val_f1         : 0.8088271157138797\n",
      "    val_balanced_accuracy: 0.7740957863762011\n",
      "    val_precision  : 0.831933807030971\n",
      "    val_recall     : 0.8188392857142857\n"
     ]
    },
    {
     "name": "stdout",
     "output_type": "stream",
     "text": [
      "Model has not improved in -------------| 1 epochs\n"
     ]
    },
    {
     "name": "stderr",
     "output_type": "stream",
     "text": [
      "    epoch          : 86\n",
      "    loss           : 0.41297870243971163\n",
      "    my_metric      : 0.7909965034965035\n",
      "    f1             : 0.7855052574263751\n",
      "    balanced_accuracy: 0.768027140673992\n",
      "    precision      : 0.7984584309593399\n",
      "    recall         : 0.7909965034965035\n",
      "    val_loss       : 0.3989961266517639\n",
      "    val_my_metric  : 0.8266071428571429\n",
      "    val_f1         : 0.8270044202194846\n",
      "    val_balanced_accuracy: 0.816092629647617\n",
      "    val_precision  : 0.8292140224971108\n",
      "    val_recall     : 0.8266071428571429\n"
     ]
    },
    {
     "name": "stdout",
     "output_type": "stream",
     "text": [
      "Model has not improved in -------------| 2 epochs\n"
     ]
    },
    {
     "name": "stderr",
     "output_type": "stream",
     "text": [
      "    epoch          : 87\n",
      "    loss           : 0.42695068510679096\n",
      "    my_metric      : 0.7780703671328671\n",
      "    f1             : 0.7699578679700333\n",
      "    balanced_accuracy: 0.7479811444405914\n",
      "    precision      : 0.7876254981426762\n",
      "    recall         : 0.7780703671328671\n",
      "    val_loss       : 0.3701032757759094\n",
      "    val_my_metric  : 0.806875\n",
      "    val_f1         : 0.8043947143278525\n",
      "    val_balanced_accuracy: 0.7878491727910333\n",
      "    val_precision  : 0.8183891035587825\n",
      "    val_recall     : 0.806875\n"
     ]
    },
    {
     "name": "stdout",
     "output_type": "stream",
     "text": [
      "Model has not improved in -------------| 3 epochs\n"
     ]
    },
    {
     "name": "stderr",
     "output_type": "stream",
     "text": [
      "    epoch          : 88\n",
      "    loss           : 0.4235415911445251\n",
      "    my_metric      : 0.7860795454545454\n",
      "    f1             : 0.7789978165599138\n",
      "    balanced_accuracy: 0.7575480887074133\n",
      "    precision      : 0.7921602506920606\n",
      "    recall         : 0.7860795454545454\n",
      "    val_loss       : 0.3607472777366638\n",
      "    val_my_metric  : 0.8339285714285714\n",
      "    val_f1         : 0.8339577320872997\n",
      "    val_balanced_accuracy: 0.8208293582760021\n",
      "    val_precision  : 0.8374865291871872\n",
      "    val_recall     : 0.8339285714285714\n"
     ]
    },
    {
     "name": "stdout",
     "output_type": "stream",
     "text": [
      "Model has not improved in -------------| 4 epochs\n"
     ]
    },
    {
     "name": "stderr",
     "output_type": "stream",
     "text": [
      "    epoch          : 89\n",
      "    loss           : 0.4086844462614793\n",
      "    my_metric      : 0.794798951048951\n",
      "    f1             : 0.7888118885223819\n",
      "    balanced_accuracy: 0.7694099674224422\n",
      "    precision      : 0.8061194742507992\n",
      "    recall         : 0.794798951048951\n",
      "    val_loss       : 0.3603936553001404\n",
      "    val_my_metric  : 0.8074107142857143\n",
      "    val_f1         : 0.7992345855683227\n",
      "    val_balanced_accuracy: 0.7686116413573377\n",
      "    val_precision  : 0.8139987178692566\n",
      "    val_recall     : 0.8074107142857143\n"
     ]
    },
    {
     "name": "stdout",
     "output_type": "stream",
     "text": [
      "Model has not improved in -------------| 5 epochs\n"
     ]
    },
    {
     "name": "stderr",
     "output_type": "stream",
     "text": [
      "    epoch          : 90\n",
      "    loss           : 0.4148208023263858\n",
      "    my_metric      : 0.7951923076923078\n",
      "    f1             : 0.7898357050700339\n",
      "    balanced_accuracy: 0.7727906576977139\n",
      "    precision      : 0.808194749118524\n",
      "    recall         : 0.7951923076923078\n",
      "    val_loss       : 0.38375636339187624\n",
      "    val_my_metric  : 0.7970535714285714\n",
      "    val_f1         : 0.7925238950095088\n",
      "    val_balanced_accuracy: 0.7736263056263056\n",
      "    val_precision  : 0.7961820685089223\n",
      "    val_recall     : 0.7970535714285714\n"
     ]
    },
    {
     "name": "stdout",
     "output_type": "stream",
     "text": [
      "Model has not improved in -------------| 6 epochs\n"
     ]
    },
    {
     "name": "stderr",
     "output_type": "stream",
     "text": [
      "    epoch          : 91\n",
      "    loss           : 0.41886229927723223\n",
      "    my_metric      : 0.7805834790209791\n",
      "    f1             : 0.7744522205888954\n",
      "    balanced_accuracy: 0.7537105120234842\n",
      "    precision      : 0.7886563760085269\n",
      "    recall         : 0.7805834790209791\n",
      "    val_loss       : 0.377867192029953\n",
      "    val_my_metric  : 0.8033035714285715\n",
      "    val_f1         : 0.8004916788042159\n",
      "    val_balanced_accuracy: 0.7807437223226696\n",
      "    val_precision  : 0.8060729230464021\n",
      "    val_recall     : 0.8033035714285715\n"
     ]
    },
    {
     "name": "stdout",
     "output_type": "stream",
     "text": [
      "Model has not improved in -------------| 7 epochs\n"
     ]
    },
    {
     "name": "stderr",
     "output_type": "stream",
     "text": [
      "    epoch          : 92\n",
      "    loss           : 0.4111393346236302\n",
      "    my_metric      : 0.7926901223776224\n",
      "    f1             : 0.78638869124567\n",
      "    balanced_accuracy: 0.7692561265944029\n",
      "    precision      : 0.8051182005746086\n",
      "    recall         : 0.7926901223776224\n",
      "    val_loss       : 0.38415085077285765\n",
      "    val_my_metric  : 0.8147321428571429\n",
      "    val_f1         : 0.8107777619781361\n",
      "    val_balanced_accuracy: 0.7972261403279894\n",
      "    val_precision  : 0.8261185052316179\n",
      "    val_recall     : 0.8147321428571429\n"
     ]
    },
    {
     "name": "stdout",
     "output_type": "stream",
     "text": [
      "Model has not improved in -------------| 8 epochs\n"
     ]
    },
    {
     "name": "stderr",
     "output_type": "stream",
     "text": [
      "    epoch          : 93\n",
      "    loss           : 0.4121535523579671\n",
      "    my_metric      : 0.807506555944056\n",
      "    f1             : 0.8015050892852901\n",
      "    balanced_accuracy: 0.7814765772659596\n",
      "    precision      : 0.8186153789927962\n",
      "    recall         : 0.807506555944056\n",
      "    val_loss       : 0.36204705238342283\n",
      "    val_my_metric  : 0.8375892857142857\n",
      "    val_f1         : 0.8352682503019855\n",
      "    val_balanced_accuracy: 0.817116812138021\n",
      "    val_precision  : 0.8403032913560077\n",
      "    val_recall     : 0.8375892857142857\n"
     ]
    },
    {
     "name": "stdout",
     "output_type": "stream",
     "text": [
      "Model has not improved in -------------| 9 epochs\n"
     ]
    },
    {
     "name": "stderr",
     "output_type": "stream",
     "text": [
      "    epoch          : 94\n",
      "    loss           : 0.4241207562960111\n",
      "    my_metric      : 0.7851726398601399\n",
      "    f1             : 0.7790304448081572\n",
      "    balanced_accuracy: 0.7583812591281427\n",
      "    precision      : 0.7938719708688633\n",
      "    recall         : 0.7851726398601399\n",
      "    val_loss       : 0.37829885482788084\n",
      "    val_my_metric  : 0.8308035714285713\n",
      "    val_f1         : 0.8299045188161973\n",
      "    val_balanced_accuracy: 0.8186488106917587\n",
      "    val_precision  : 0.8326036372059201\n",
      "    val_recall     : 0.8308035714285713\n"
     ]
    },
    {
     "name": "stdout",
     "output_type": "stream",
     "text": [
      "Model has not improved in -------------| 10 epochs\n"
     ]
    },
    {
     "name": "stderr",
     "output_type": "stream",
     "text": [
      "    epoch          : 95\n",
      "    loss           : 0.4078834160016133\n",
      "    my_metric      : 0.7938920454545454\n",
      "    f1             : 0.787885213575336\n",
      "    balanced_accuracy: 0.7689230254261268\n",
      "    precision      : 0.8046750947444828\n",
      "    recall         : 0.7938920454545454\n",
      "    val_loss       : 0.3904229700565338\n",
      "    val_my_metric  : 0.835\n",
      "    val_f1         : 0.8339386133434097\n",
      "    val_balanced_accuracy: 0.8208350570891035\n",
      "    val_precision  : 0.8350672062561811\n",
      "    val_recall     : 0.835\n"
     ]
    },
    {
     "name": "stdout",
     "output_type": "stream",
     "text": [
      "Model has not improved in -------------| 11 epochs\n"
     ]
    },
    {
     "name": "stderr",
     "output_type": "stream",
     "text": [
      "    epoch          : 96\n",
      "    loss           : 0.4208903805567668\n",
      "    my_metric      : 0.7917832167832167\n",
      "    f1             : 0.7855773686232127\n",
      "    balanced_accuracy: 0.7666147334605863\n",
      "    precision      : 0.800827256930778\n",
      "    recall         : 0.7917832167832167\n",
      "    val_loss       : 0.3624678134918213\n",
      "    val_my_metric  : 0.8495535714285714\n",
      "    val_f1         : 0.8498217855694052\n",
      "    val_balanced_accuracy: 0.8456458565589001\n",
      "    val_precision  : 0.8603171911937233\n",
      "    val_recall     : 0.8495535714285714\n"
     ]
    },
    {
     "name": "stdout",
     "output_type": "stream",
     "text": [
      "Model has not improved in -------------| 12 epochs\n"
     ]
    },
    {
     "name": "stderr",
     "output_type": "stream",
     "text": [
      "    epoch          : 97\n",
      "    loss           : 0.3999841591486564\n",
      "    my_metric      : 0.7904829545454545\n",
      "    f1             : 0.7841467760146692\n",
      "    balanced_accuracy: 0.7632916048636224\n",
      "    precision      : 0.7977000414072746\n",
      "    recall         : 0.7904829545454545\n",
      "    val_loss       : 0.3638619124889374\n",
      "    val_my_metric  : 0.8339285714285714\n",
      "    val_f1         : 0.8306584341695349\n",
      "    val_balanced_accuracy: 0.8008907753907755\n",
      "    val_precision  : 0.8349410741955369\n",
      "    val_recall     : 0.8339285714285714\n"
     ]
    },
    {
     "name": "stdout",
     "output_type": "stream",
     "text": [
      "Model has not improved in -------------| 13 epochs\n"
     ]
    },
    {
     "name": "stderr",
     "output_type": "stream",
     "text": [
      "    epoch          : 98\n",
      "    loss           : 0.4223364499899057\n",
      "    my_metric      : 0.7820694930069929\n",
      "    f1             : 0.7773974830770535\n",
      "    balanced_accuracy: 0.760091835854529\n",
      "    precision      : 0.7900575347084794\n",
      "    recall         : 0.7820694930069929\n",
      "    val_loss       : 0.3616467654705048\n",
      "    val_my_metric  : 0.8282142857142857\n",
      "    val_f1         : 0.8253303917276049\n",
      "    val_balanced_accuracy: 0.8080197526376434\n",
      "    val_precision  : 0.8322458898773192\n",
      "    val_recall     : 0.8282142857142857\n"
     ]
    },
    {
     "name": "stdout",
     "output_type": "stream",
     "text": [
      "Model has not improved in -------------| 14 epochs\n"
     ]
    },
    {
     "name": "stderr",
     "output_type": "stream",
     "text": [
      "    epoch          : 99\n",
      "    loss           : 0.41104230685875964\n",
      "    my_metric      : 0.7906796328671329\n",
      "    f1             : 0.7840499478848547\n",
      "    balanced_accuracy: 0.7645188298348959\n",
      "    precision      : 0.7972822341893747\n",
      "    recall         : 0.7906796328671329\n",
      "    val_loss       : 0.3466197460889816\n",
      "    val_my_metric  : 0.8344642857142857\n",
      "    val_f1         : 0.8337797330118869\n",
      "    val_balanced_accuracy: 0.8199723344007545\n",
      "    val_precision  : 0.8355055808660673\n",
      "    val_recall     : 0.8344642857142857\n"
     ]
    },
    {
     "name": "stdout",
     "output_type": "stream",
     "text": [
      "Model has not improved in -------------| 15 epochs\n"
     ]
    },
    {
     "name": "stderr",
     "output_type": "stream",
     "text": [
      "    epoch          : 100\n",
      "    loss           : 0.4036041899369313\n",
      "    my_metric      : 0.795596590909091\n",
      "    f1             : 0.7897840487281341\n",
      "    balanced_accuracy: 0.768488476151981\n",
      "    precision      : 0.8029754588764538\n",
      "    recall         : 0.795596590909091\n",
      "    val_loss       : 0.3966443419456482\n",
      "    val_my_metric  : 0.7730357142857143\n",
      "    val_f1         : 0.7604724280732345\n",
      "    val_balanced_accuracy: 0.7258313025810375\n",
      "    val_precision  : 0.7824982249446423\n",
      "    val_recall     : 0.7730357142857143\n",
      "Saving checkpoint: ../saved/IMPRS_hdf5_volume_AllDAPI_noise/0710_173648/checkpoint-epoch100.pth ...\n"
     ]
    },
    {
     "name": "stdout",
     "output_type": "stream",
     "text": [
      "Model has not improved in -------------| 16 epochs\n"
     ]
    },
    {
     "name": "stderr",
     "output_type": "stream",
     "text": [
      "    epoch          : 101\n",
      "    loss           : 0.4112152892809648\n",
      "    my_metric      : 0.7942854020979021\n",
      "    f1             : 0.787686521571476\n",
      "    balanced_accuracy: 0.7653075145778486\n",
      "    precision      : 0.8020662177285713\n",
      "    recall         : 0.7942854020979021\n",
      "    val_loss       : 0.3871187806129456\n",
      "    val_my_metric  : 0.8282142857142857\n",
      "    val_f1         : 0.8285632563724186\n",
      "    val_balanced_accuracy: 0.8205885979503345\n",
      "    val_precision  : 0.8305141485197325\n",
      "    val_recall     : 0.8282142857142857\n"
     ]
    },
    {
     "name": "stdout",
     "output_type": "stream",
     "text": [
      "Model has not improved in -------------| 17 epochs\n"
     ]
    },
    {
     "name": "stderr",
     "output_type": "stream",
     "text": [
      "    epoch          : 102\n",
      "    loss           : 0.426005468918727\n",
      "    my_metric      : 0.7887784090909091\n",
      "    f1             : 0.7825594206428905\n",
      "    balanced_accuracy: 0.7634570817115188\n",
      "    precision      : 0.7962996206588612\n",
      "    recall         : 0.7887784090909091\n",
      "    val_loss       : 0.38055657148361205\n",
      "    val_my_metric  : 0.8006249999999999\n",
      "    val_f1         : 0.7889814549992128\n",
      "    val_balanced_accuracy: 0.7575156444827706\n",
      "    val_precision  : 0.8136109662580526\n",
      "    val_recall     : 0.8006249999999999\n"
     ]
    },
    {
     "name": "stdout",
     "output_type": "stream",
     "text": [
      "Model has not improved in -------------| 18 epochs\n"
     ]
    },
    {
     "name": "stderr",
     "output_type": "stream",
     "text": [
      "    epoch          : 103\n",
      "    loss           : 0.4299278293664639\n",
      "    my_metric      : 0.7822770979020979\n",
      "    f1             : 0.7773505795945064\n",
      "    balanced_accuracy: 0.7582029150358783\n",
      "    precision      : 0.7910436507558802\n",
      "    recall         : 0.7822770979020979\n",
      "    val_loss       : 0.3586122393608093\n",
      "    val_my_metric  : 0.8433035714285714\n",
      "    val_f1         : 0.8416450767442354\n",
      "    val_balanced_accuracy: 0.8273417088483506\n",
      "    val_precision  : 0.8433036775316186\n",
      "    val_recall     : 0.8433035714285714\n"
     ]
    },
    {
     "name": "stdout",
     "output_type": "stream",
     "text": [
      "Model has not improved in -------------| 19 epochs\n"
     ]
    },
    {
     "name": "stderr",
     "output_type": "stream",
     "text": [
      "    epoch          : 104\n",
      "    loss           : 0.4279395089699672\n",
      "    my_metric      : 0.787576486013986\n",
      "    f1             : 0.782243437551319\n",
      "    balanced_accuracy: 0.7657801130086704\n",
      "    precision      : 0.7983003556456182\n",
      "    recall         : 0.787576486013986\n",
      "    val_loss       : 0.3678117662668228\n",
      "    val_my_metric  : 0.8313392857142856\n",
      "    val_f1         : 0.824257100412974\n",
      "    val_balanced_accuracy: 0.7954871794871795\n",
      "    val_precision  : 0.8387667352344763\n",
      "    val_recall     : 0.8313392857142856\n"
     ]
    },
    {
     "name": "stdout",
     "output_type": "stream",
     "text": [
      "Model has not improved in -------------| 20 epochs\n"
     ]
    },
    {
     "name": "stderr",
     "output_type": "stream",
     "text": [
      "    epoch          : 105\n",
      "    loss           : 0.3997389485056584\n",
      "    my_metric      : 0.8070148601398602\n",
      "    f1             : 0.8020655785725082\n",
      "    balanced_accuracy: 0.7806744311845534\n",
      "    precision      : 0.8160943494695773\n",
      "    recall         : 0.8070148601398602\n",
      "    val_loss       : 0.3663112998008728\n",
      "    val_my_metric  : 0.8230357142857143\n",
      "    val_f1         : 0.8213904622220844\n",
      "    val_balanced_accuracy: 0.8064172723799057\n",
      "    val_precision  : 0.8251358885804446\n",
      "    val_recall     : 0.8230357142857143\n"
     ]
    },
    {
     "name": "stdout",
     "output_type": "stream",
     "text": [
      "Model has not improved in -------------| 21 epochs\n"
     ]
    },
    {
     "name": "stderr",
     "output_type": "stream",
     "text": [
      "    epoch          : 106\n",
      "    loss           : 0.4066082823735017\n",
      "    my_metric      : 0.7948972902097903\n",
      "    f1             : 0.7879454470389112\n",
      "    balanced_accuracy: 0.7680620817316898\n",
      "    precision      : 0.8058376959272455\n",
      "    recall         : 0.7948972902097903\n",
      "    val_loss       : 0.35228900909423827\n",
      "    val_my_metric  : 0.8412499999999999\n",
      "    val_f1         : 0.8324236234043727\n",
      "    val_balanced_accuracy: 0.7947772541049956\n",
      "    val_precision  : 0.850077215782368\n",
      "    val_recall     : 0.8412499999999999\n"
     ]
    },
    {
     "name": "stdout",
     "output_type": "stream",
     "text": [
      "Model has not improved in -------------| 22 epochs\n"
     ]
    },
    {
     "name": "stderr",
     "output_type": "stream",
     "text": [
      "    epoch          : 107\n",
      "    loss           : 0.3937702580140187\n",
      "    my_metric      : 0.8077141608391608\n",
      "    f1             : 0.801518540522835\n",
      "    balanced_accuracy: 0.7828636323029367\n",
      "    precision      : 0.8184410107583978\n",
      "    recall         : 0.8077141608391608\n",
      "    val_loss       : 0.36257860660552976\n",
      "    val_my_metric  : 0.8298214285714286\n",
      "    val_f1         : 0.8264193496941724\n",
      "    val_balanced_accuracy: 0.809548358074674\n",
      "    val_precision  : 0.8345988372093023\n",
      "    val_recall     : 0.8298214285714286\n"
     ]
    },
    {
     "name": "stdout",
     "output_type": "stream",
     "text": [
      "Model has not improved in -------------| 23 epochs\n"
     ]
    },
    {
     "name": "stderr",
     "output_type": "stream",
     "text": [
      "    epoch          : 108\n",
      "    loss           : 0.4111418196788201\n",
      "    my_metric      : 0.7836756993006992\n",
      "    f1             : 0.7767657895147516\n",
      "    balanced_accuracy: 0.7554601704502377\n",
      "    precision      : 0.7930713511798243\n",
      "    recall         : 0.7836756993006992\n",
      "    val_loss       : 0.35731934309005736\n",
      "    val_my_metric  : 0.8609821428571429\n",
      "    val_f1         : 0.8599876340374738\n",
      "    val_balanced_accuracy: 0.8471495250112764\n",
      "    val_precision  : 0.8615249801255237\n",
      "    val_recall     : 0.8609821428571429\n"
     ]
    },
    {
     "name": "stdout",
     "output_type": "stream",
     "text": [
      "Model has not improved in -------------| 24 epochs\n"
     ]
    },
    {
     "name": "stderr",
     "output_type": "stream",
     "text": [
      "    epoch          : 109\n",
      "    loss           : 0.411891364134275\n",
      "    my_metric      : 0.7922967657342658\n",
      "    f1             : 0.7860626585796002\n",
      "    balanced_accuracy: 0.7667831080631289\n",
      "    precision      : 0.8027953751039681\n",
      "    recall         : 0.7922967657342658\n",
      "    val_loss       : 0.3303436517715454\n",
      "    val_my_metric  : 0.832857142857143\n",
      "    val_f1         : 0.8272234283511588\n",
      "    val_balanced_accuracy: 0.796671810324577\n",
      "    val_precision  : 0.8396954014014071\n",
      "    val_recall     : 0.832857142857143\n",
      "Saving checkpoint: ../saved/IMPRS_hdf5_volume_AllDAPI_noise/0710_173648/checkpoint-epoch109.pth ...\n",
      "Saving current best: model_best.pth ...\n",
      "    epoch          : 110\n",
      "    loss           : 0.40823805446808153\n",
      "    my_metric      : 0.7863854895104895\n",
      "    f1             : 0.7802053918168645\n",
      "    balanced_accuracy: 0.7613138027244628\n",
      "    precision      : 0.7964849522170951\n",
      "    recall         : 0.7863854895104895\n",
      "    val_loss       : 0.3645543158054352\n",
      "    val_my_metric  : 0.8125892857142857\n",
      "    val_f1         : 0.8094873889732046\n",
      "    val_balanced_accuracy: 0.787917945457404\n",
      "    val_precision  : 0.8139365763112856\n",
      "    val_recall     : 0.8125892857142857\n"
     ]
    },
    {
     "name": "stdout",
     "output_type": "stream",
     "text": [
      "Model has not improved in -------------| 1 epochs\n"
     ]
    },
    {
     "name": "stderr",
     "output_type": "stream",
     "text": [
      "    epoch          : 111\n",
      "    loss           : 0.40741786475364977\n",
      "    my_metric      : 0.7854785839160839\n",
      "    f1             : 0.7787821574947507\n",
      "    balanced_accuracy: 0.7592890761369736\n",
      "    precision      : 0.7954062141715769\n",
      "    recall         : 0.7854785839160839\n",
      "    val_loss       : 0.37055152654647827\n",
      "    val_my_metric  : 0.7980357142857143\n",
      "    val_f1         : 0.7875701198915279\n",
      "    val_balanced_accuracy: 0.7521015319053496\n",
      "    val_precision  : 0.8008716717631973\n",
      "    val_recall     : 0.7980357142857143\n"
     ]
    },
    {
     "name": "stdout",
     "output_type": "stream",
     "text": [
      "Model has not improved in -------------| 2 epochs\n"
     ]
    },
    {
     "name": "stderr",
     "output_type": "stream",
     "text": [
      "    epoch          : 112\n",
      "    loss           : 0.40566894526665026\n",
      "    my_metric      : 0.7945913461538462\n",
      "    f1             : 0.7867238026694292\n",
      "    balanced_accuracy: 0.7666316951310523\n",
      "    precision      : 0.8070717523055886\n",
      "    recall         : 0.7945913461538462\n",
      "    val_loss       : 0.35783128142356874\n",
      "    val_my_metric  : 0.8386607142857143\n",
      "    val_f1         : 0.8364830696049737\n",
      "    val_balanced_accuracy: 0.8173849751979461\n",
      "    val_precision  : 0.8387049760881113\n",
      "    val_recall     : 0.8386607142857143\n"
     ]
    },
    {
     "name": "stdout",
     "output_type": "stream",
     "text": [
      "Model has not improved in -------------| 3 epochs\n"
     ]
    },
    {
     "name": "stderr",
     "output_type": "stream",
     "text": [
      "    epoch          : 113\n",
      "    loss           : 0.4063888146327092\n",
      "    my_metric      : 0.7964051573426574\n",
      "    f1             : 0.7900598654069861\n",
      "    balanced_accuracy: 0.7704007102644334\n",
      "    precision      : 0.8060033343897408\n",
      "    recall         : 0.7964051573426574\n",
      "    val_loss       : 0.3575063407421112\n",
      "    val_my_metric  : 0.806875\n",
      "    val_f1         : 0.7986761752605522\n",
      "    val_balanced_accuracy: 0.7681018895999082\n",
      "    val_precision  : 0.8152765591433943\n",
      "    val_recall     : 0.806875\n"
     ]
    },
    {
     "name": "stdout",
     "output_type": "stream",
     "text": [
      "Model has not improved in -------------| 4 epochs\n"
     ]
    },
    {
     "name": "stderr",
     "output_type": "stream",
     "text": [
      "    epoch          : 114\n",
      "    loss           : 0.4038604704233316\n",
      "    my_metric      : 0.7985030594405594\n",
      "    f1             : 0.7927076858150529\n",
      "    balanced_accuracy: 0.7730411614107986\n",
      "    precision      : 0.8082464090576635\n",
      "    recall         : 0.7985030594405594\n",
      "    val_loss       : 0.35455924868583677\n",
      "    val_my_metric  : 0.8386607142857143\n",
      "    val_f1         : 0.8357799935723473\n",
      "    val_balanced_accuracy: 0.8117307954529587\n",
      "    val_precision  : 0.8411370620888503\n",
      "    val_recall     : 0.8386607142857143\n"
     ]
    },
    {
     "name": "stdout",
     "output_type": "stream",
     "text": [
      "Model has not improved in -------------| 5 epochs\n"
     ]
    },
    {
     "name": "stderr",
     "output_type": "stream",
     "text": [
      "    epoch          : 115\n",
      "    loss           : 0.4220306219962927\n",
      "    my_metric      : 0.7945913461538462\n",
      "    f1             : 0.7886699566265908\n",
      "    balanced_accuracy: 0.7689699087693285\n",
      "    precision      : 0.7998802161491891\n",
      "    recall         : 0.7945913461538462\n",
      "    val_loss       : 0.33973791599273684\n",
      "    val_my_metric  : 0.8333928571428573\n",
      "    val_f1         : 0.830181889378356\n",
      "    val_balanced_accuracy: 0.8141444777958625\n",
      "    val_precision  : 0.8406030694634314\n",
      "    val_recall     : 0.8333928571428573\n"
     ]
    },
    {
     "name": "stdout",
     "output_type": "stream",
     "text": [
      "Model has not improved in -------------| 6 epochs\n"
     ]
    },
    {
     "name": "stderr",
     "output_type": "stream",
     "text": [
      "    epoch          : 116\n",
      "    loss           : 0.39103583189157337\n",
      "    my_metric      : 0.8073098776223776\n",
      "    f1             : 0.8022120347200905\n",
      "    balanced_accuracy: 0.7838958509506474\n",
      "    precision      : 0.8172479301929031\n",
      "    recall         : 0.8073098776223776\n",
      "    val_loss       : 0.3508125126361847\n",
      "    val_my_metric  : 0.8521428571428572\n",
      "    val_f1         : 0.8503688128224052\n",
      "    val_balanced_accuracy: 0.8338406808374732\n",
      "    val_precision  : 0.8566491979690036\n",
      "    val_recall     : 0.8521428571428572\n"
     ]
    },
    {
     "name": "stdout",
     "output_type": "stream",
     "text": [
      "Model has not improved in -------------| 7 epochs\n"
     ]
    },
    {
     "name": "stderr",
     "output_type": "stream",
     "text": [
      "    epoch          : 117\n",
      "    loss           : 0.41085856694441575\n",
      "    my_metric      : 0.7868771853146852\n",
      "    f1             : 0.7810735931749039\n",
      "    balanced_accuracy: 0.7626625413039995\n",
      "    precision      : 0.796422716400165\n",
      "    recall         : 0.7868771853146852\n",
      "    val_loss       : 0.3365356385707855\n",
      "    val_my_metric  : 0.8500892857142857\n",
      "    val_f1         : 0.846329397885944\n",
      "    val_balanced_accuracy: 0.8223606829420783\n",
      "    val_precision  : 0.853762426229339\n",
      "    val_recall     : 0.8500892857142857\n"
     ]
    },
    {
     "name": "stdout",
     "output_type": "stream",
     "text": [
      "Model has not improved in -------------| 8 epochs\n"
     ]
    },
    {
     "name": "stderr",
     "output_type": "stream",
     "text": [
      "    epoch          : 118\n",
      "    loss           : 0.4031160771846771\n",
      "    my_metric      : 0.7970935314685315\n",
      "    f1             : 0.791931674115079\n",
      "    balanced_accuracy: 0.7723627773728613\n",
      "    precision      : 0.8057036338759083\n",
      "    recall         : 0.7970935314685315\n",
      "    val_loss       : 0.3437076389789581\n",
      "    val_my_metric  : 0.8490178571428573\n",
      "    val_f1         : 0.8457197403024989\n",
      "    val_balanced_accuracy: 0.8222639680534417\n",
      "    val_precision  : 0.8517399156494797\n",
      "    val_recall     : 0.8490178571428573\n"
     ]
    },
    {
     "name": "stdout",
     "output_type": "stream",
     "text": [
      "Model has not improved in -------------| 9 epochs\n"
     ]
    },
    {
     "name": "stderr",
     "output_type": "stream",
     "text": [
      "    epoch          : 119\n",
      "    loss           : 0.3964204639196396\n",
      "    my_metric      : 0.7973994755244755\n",
      "    f1             : 0.7924607783902112\n",
      "    balanced_accuracy: 0.7728513850698838\n",
      "    precision      : 0.8052645548595295\n",
      "    recall         : 0.7973994755244755\n",
      "    val_loss       : 0.3538008689880371\n",
      "    val_my_metric  : 0.819375\n",
      "    val_f1         : 0.809822381070239\n",
      "    val_balanced_accuracy: 0.763059887856262\n",
      "    val_precision  : 0.8186514613523542\n",
      "    val_recall     : 0.819375\n"
     ]
    },
    {
     "name": "stdout",
     "output_type": "stream",
     "text": [
      "Model has not improved in -------------| 10 epochs\n"
     ]
    },
    {
     "name": "stderr",
     "output_type": "stream",
     "text": [
      "    epoch          : 120\n",
      "    loss           : 0.42087913476503813\n",
      "    my_metric      : 0.7887784090909091\n",
      "    f1             : 0.7835401431922304\n",
      "    balanced_accuracy: 0.7652202409933726\n",
      "    precision      : 0.798452456361552\n",
      "    recall         : 0.7887784090909091\n",
      "    val_loss       : 0.382544732093811\n",
      "    val_my_metric  : 0.8162499999999999\n",
      "    val_f1         : 0.8137891478208603\n",
      "    val_balanced_accuracy: 0.7934327453342733\n",
      "    val_precision  : 0.8191923480731227\n",
      "    val_recall     : 0.8162499999999999\n"
     ]
    },
    {
     "name": "stdout",
     "output_type": "stream",
     "text": [
      "Model has not improved in -------------| 11 epochs\n"
     ]
    },
    {
     "name": "stderr",
     "output_type": "stream",
     "text": [
      "    epoch          : 121\n",
      "    loss           : 0.39876292645931244\n",
      "    my_metric      : 0.7950939685314685\n",
      "    f1             : 0.7882866179442133\n",
      "    balanced_accuracy: 0.768532110417856\n",
      "    precision      : 0.801282749217004\n",
      "    recall         : 0.7950939685314685\n",
      "    val_loss       : 0.3458932101726532\n",
      "    val_my_metric  : 0.8256249999999999\n",
      "    val_f1         : 0.8228627905232215\n",
      "    val_balanced_accuracy: 0.8013682983682984\n",
      "    val_precision  : 0.826510561611008\n",
      "    val_recall     : 0.8256249999999999\n"
     ]
    },
    {
     "name": "stdout",
     "output_type": "stream",
     "text": [
      "Model has not improved in -------------| 12 epochs\n"
     ]
    },
    {
     "name": "stderr",
     "output_type": "stream",
     "text": [
      "    epoch          : 122\n",
      "    loss           : 0.4113912433385849\n",
      "    my_metric      : 0.7980987762237762\n",
      "    f1             : 0.7923145522147956\n",
      "    balanced_accuracy: 0.7732358856731867\n",
      "    precision      : 0.8066032882804091\n",
      "    recall         : 0.7980987762237762\n",
      "    val_loss       : 0.34281644225120544\n",
      "    val_my_metric  : 0.8635714285714287\n",
      "    val_f1         : 0.8615063808060963\n",
      "    val_balanced_accuracy: 0.8448085454277404\n",
      "    val_precision  : 0.8661614789990078\n",
      "    val_recall     : 0.8635714285714287\n"
     ]
    },
    {
     "name": "stdout",
     "output_type": "stream",
     "text": [
      "Model has not improved in -------------| 13 epochs\n"
     ]
    },
    {
     "name": "stderr",
     "output_type": "stream",
     "text": [
      "    epoch          : 123\n",
      "    loss           : 0.41108585320986235\n",
      "    my_metric      : 0.7966892482517482\n",
      "    f1             : 0.7905764906193694\n",
      "    balanced_accuracy: 0.7705334280576193\n",
      "    precision      : 0.8062349319237355\n",
      "    recall         : 0.7966892482517482\n",
      "    val_loss       : 0.36326190233230593\n",
      "    val_my_metric  : 0.8385714285714286\n",
      "    val_f1         : 0.8369367333248148\n",
      "    val_balanced_accuracy: 0.8215108777898308\n",
      "    val_precision  : 0.8383446206497638\n",
      "    val_recall     : 0.8385714285714286\n"
     ]
    },
    {
     "name": "stdout",
     "output_type": "stream",
     "text": [
      "Model has not improved in -------------| 14 epochs\n"
     ]
    },
    {
     "name": "stderr",
     "output_type": "stream",
     "text": [
      "    epoch          : 124\n",
      "    loss           : 0.41011817294817704\n",
      "    my_metric      : 0.7921875\n",
      "    f1             : 0.7871681384954244\n",
      "    balanced_accuracy: 0.7691159011827169\n",
      "    precision      : 0.8011949068026111\n",
      "    recall         : 0.7921875\n",
      "    val_loss       : 0.34978182315826417\n",
      "    val_my_metric  : 0.8578571428571429\n",
      "    val_f1         : 0.8547093458187\n",
      "    val_balanced_accuracy: 0.835704954969553\n",
      "    val_precision  : 0.8622749086887677\n",
      "    val_recall     : 0.8578571428571429\n"
     ]
    },
    {
     "name": "stdout",
     "output_type": "stream",
     "text": [
      "Model has not improved in -------------| 15 epochs\n"
     ]
    },
    {
     "name": "stderr",
     "output_type": "stream",
     "text": [
      "    epoch          : 125\n",
      "    loss           : 0.4320032355877069\n",
      "    my_metric      : 0.7845826048951049\n",
      "    f1             : 0.7794949532124875\n",
      "    balanced_accuracy: 0.7626349146735157\n",
      "    precision      : 0.7952540050372325\n",
      "    recall         : 0.7845826048951049\n",
      "    val_loss       : 0.3632301688194275\n",
      "    val_my_metric  : 0.8282142857142857\n",
      "    val_f1         : 0.8239162630361813\n",
      "    val_balanced_accuracy: 0.8065319165319165\n",
      "    val_precision  : 0.8427671244239671\n",
      "    val_recall     : 0.8282142857142857\n"
     ]
    },
    {
     "name": "stdout",
     "output_type": "stream",
     "text": [
      "Model has not improved in -------------| 16 epochs\n"
     ]
    },
    {
     "name": "stderr",
     "output_type": "stream",
     "text": [
      "    epoch          : 126\n",
      "    loss           : 0.404949976847722\n",
      "    my_metric      : 0.7957932692307692\n",
      "    f1             : 0.7902827587452428\n",
      "    balanced_accuracy: 0.7722366885288618\n",
      "    precision      : 0.8064673160258642\n",
      "    recall         : 0.7957932692307692\n",
      "    val_loss       : 0.37607879042625425\n",
      "    val_my_metric  : 0.8490178571428573\n",
      "    val_f1         : 0.8476191198252524\n",
      "    val_balanced_accuracy: 0.8347540155143548\n",
      "    val_precision  : 0.8512881552576461\n",
      "    val_recall     : 0.8490178571428573\n"
     ]
    },
    {
     "name": "stdout",
     "output_type": "stream",
     "text": [
      "Model has not improved in -------------| 17 epochs\n"
     ]
    },
    {
     "name": "stderr",
     "output_type": "stream",
     "text": [
      "    epoch          : 127\n",
      "    loss           : 0.40574375368081605\n",
      "    my_metric      : 0.7972027972027972\n",
      "    f1             : 0.7911433623560279\n",
      "    balanced_accuracy: 0.7726157272427954\n",
      "    precision      : 0.8102507242094734\n",
      "    recall         : 0.7972027972027972\n",
      "    val_loss       : 0.3450210690498352\n",
      "    val_my_metric  : 0.8157142857142856\n",
      "    val_f1         : 0.8102302755294566\n",
      "    val_balanced_accuracy: 0.774592182035146\n",
      "    val_precision  : 0.8192212730009759\n",
      "    val_recall     : 0.8157142857142856\n"
     ]
    },
    {
     "name": "stdout",
     "output_type": "stream",
     "text": [
      "Model has not improved in -------------| 18 epochs\n"
     ]
    },
    {
     "name": "stderr",
     "output_type": "stream",
     "text": [
      "    epoch          : 128\n",
      "    loss           : 0.42223978501099807\n",
      "    my_metric      : 0.7926901223776224\n",
      "    f1             : 0.7863208809902668\n",
      "    balanced_accuracy: 0.7660357911043482\n",
      "    precision      : 0.8033137400161358\n",
      "    recall         : 0.7926901223776224\n",
      "    val_loss       : 0.35804249346256256\n",
      "    val_my_metric  : 0.8542857142857143\n",
      "    val_f1         : 0.8534259514774221\n",
      "    val_balanced_accuracy: 0.8419452644002765\n",
      "    val_precision  : 0.8610350635855626\n",
      "    val_recall     : 0.8542857142857143\n"
     ]
    },
    {
     "name": "stdout",
     "output_type": "stream",
     "text": [
      "Model has not improved in -------------| 19 epochs\n"
     ]
    },
    {
     "name": "stderr",
     "output_type": "stream",
     "text": [
      "    epoch          : 129\n",
      "    loss           : 0.405192589530578\n",
      "    my_metric      : 0.8004042832167833\n",
      "    f1             : 0.7948263713673955\n",
      "    balanced_accuracy: 0.775539618560008\n",
      "    precision      : 0.8097640942120884\n",
      "    recall         : 0.8004042832167833\n",
      "    val_loss       : 0.3607286036014557\n",
      "    val_my_metric  : 0.8552678571428572\n",
      "    val_f1         : 0.8536811596422446\n",
      "    val_balanced_accuracy: 0.8334778844022541\n",
      "    val_precision  : 0.8612805975734027\n",
      "    val_recall     : 0.8552678571428572\n"
     ]
    },
    {
     "name": "stdout",
     "output_type": "stream",
     "text": [
      "Model has not improved in -------------| 20 epochs\n"
     ]
    },
    {
     "name": "stderr",
     "output_type": "stream",
     "text": [
      "    epoch          : 130\n",
      "    loss           : 0.4081189208305799\n",
      "    my_metric      : 0.7934877622377622\n",
      "    f1             : 0.788423590247102\n",
      "    balanced_accuracy: 0.7709482999951669\n",
      "    precision      : 0.8016724159077762\n",
      "    recall         : 0.7934877622377622\n",
      "    val_loss       : 0.3782340049743652\n",
      "    val_my_metric  : 0.806875\n",
      "    val_f1         : 0.8023426390276169\n",
      "    val_balanced_accuracy: 0.7708807906272506\n",
      "    val_precision  : 0.8100602457566526\n",
      "    val_recall     : 0.806875\n"
     ]
    },
    {
     "name": "stdout",
     "output_type": "stream",
     "text": [
      "Model has not improved in -------------| 21 epochs\n"
     ]
    },
    {
     "name": "stderr",
     "output_type": "stream",
     "text": [
      "    epoch          : 131\n",
      "    loss           : 0.4184747361219846\n",
      "    my_metric      : 0.7940887237762237\n",
      "    f1             : 0.7889129442604931\n",
      "    balanced_accuracy: 0.7690746817231505\n",
      "    precision      : 0.8029321438769832\n",
      "    recall         : 0.7940887237762237\n",
      "    val_loss       : 0.36975819170475005\n",
      "    val_my_metric  : 0.7975892857142857\n",
      "    val_f1         : 0.7889032628953696\n",
      "    val_balanced_accuracy: 0.7611174563933953\n",
      "    val_precision  : 0.7944480601025362\n",
      "    val_recall     : 0.7975892857142857\n"
     ]
    },
    {
     "name": "stdout",
     "output_type": "stream",
     "text": [
      "Model has not improved in -------------| 22 epochs\n"
     ]
    },
    {
     "name": "stderr",
     "output_type": "stream",
     "text": [
      "    epoch          : 132\n",
      "    loss           : 0.41231108743410844\n",
      "    my_metric      : 0.7919908216783218\n",
      "    f1             : 0.7867473633291765\n",
      "    balanced_accuracy: 0.7683813742377996\n",
      "    precision      : 0.7992869390551985\n",
      "    recall         : 0.7919908216783218\n",
      "    val_loss       : 0.3648096203804016\n",
      "    val_my_metric  : 0.8245535714285713\n",
      "    val_f1         : 0.819100454993132\n",
      "    val_balanced_accuracy: 0.7905255356468703\n",
      "    val_precision  : 0.8265780726293634\n",
      "    val_recall     : 0.8245535714285713\n"
     ]
    },
    {
     "name": "stdout",
     "output_type": "stream",
     "text": [
      "Model has not improved in -------------| 23 epochs\n"
     ]
    },
    {
     "name": "stderr",
     "output_type": "stream",
     "text": [
      "    epoch          : 133\n",
      "    loss           : 0.40076941137130445\n",
      "    my_metric      : 0.8006009615384616\n",
      "    f1             : 0.7952298422937805\n",
      "    balanced_accuracy: 0.7776209028868865\n",
      "    precision      : 0.8126678405486955\n",
      "    recall         : 0.8006009615384616\n",
      "    val_loss       : 0.36777336001396177\n",
      "    val_my_metric  : 0.8256249999999999\n",
      "    val_f1         : 0.822078155104316\n",
      "    val_balanced_accuracy: 0.7999512099848445\n",
      "    val_precision  : 0.829904053724586\n",
      "    val_recall     : 0.8256249999999999\n"
     ]
    },
    {
     "name": "stdout",
     "output_type": "stream",
     "text": [
      "Model has not improved in -------------| 24 epochs\n"
     ]
    },
    {
     "name": "stderr",
     "output_type": "stream",
     "text": [
      "    epoch          : 134\n",
      "    loss           : 0.39742094908769315\n",
      "    my_metric      : 0.7933020104895104\n",
      "    f1             : 0.7856049780641231\n",
      "    balanced_accuracy: 0.7676263449955548\n",
      "    precision      : 0.8089555899253236\n",
      "    recall         : 0.7933020104895104\n",
      "    val_loss       : 0.35427395105361936\n",
      "    val_my_metric  : 0.8245535714285713\n",
      "    val_f1         : 0.820580326305507\n",
      "    val_balanced_accuracy: 0.7997591708118025\n",
      "    val_precision  : 0.8257873383767261\n",
      "    val_recall     : 0.8245535714285713\n"
     ]
    },
    {
     "name": "stdout",
     "output_type": "stream",
     "text": [
      "Model has not improved in -------------| 25 epochs\n"
     ]
    },
    {
     "name": "stderr",
     "output_type": "stream",
     "text": [
      "    epoch          : 135\n",
      "    loss           : 0.39707034940903\n",
      "    my_metric      : 0.8002950174825175\n",
      "    f1             : 0.7950148940424923\n",
      "    balanced_accuracy: 0.7754226978618722\n",
      "    precision      : 0.8080186686337512\n",
      "    recall         : 0.8002950174825175\n",
      "    val_loss       : 0.3342441976070404\n",
      "    val_my_metric  : 0.8495535714285714\n",
      "    val_f1         : 0.8432318746063958\n",
      "    val_balanced_accuracy: 0.8186376256376257\n",
      "    val_precision  : 0.8547889352970282\n",
      "    val_recall     : 0.8495535714285714\n"
     ]
    },
    {
     "name": "stdout",
     "output_type": "stream",
     "text": [
      "Model has not improved in -------------| 26 epochs\n"
     ]
    },
    {
     "name": "stderr",
     "output_type": "stream",
     "text": [
      "    epoch          : 136\n",
      "    loss           : 0.39504656424889195\n",
      "    my_metric      : 0.8026005244755244\n",
      "    f1             : 0.7961693108441978\n",
      "    balanced_accuracy: 0.7777371945173133\n",
      "    precision      : 0.8127963800391503\n",
      "    recall         : 0.8026005244755244\n",
      "    val_loss       : 0.35886840224266053\n",
      "    val_my_metric  : 0.8074107142857143\n",
      "    val_f1         : 0.8017372408277694\n",
      "    val_balanced_accuracy: 0.7806647300068352\n",
      "    val_precision  : 0.8154580309850475\n",
      "    val_recall     : 0.8074107142857143\n"
     ]
    },
    {
     "name": "stdout",
     "output_type": "stream",
     "text": [
      "Model has not improved in -------------| 27 epochs\n"
     ]
    },
    {
     "name": "stderr",
     "output_type": "stream",
     "text": [
      "    epoch          : 137\n",
      "    loss           : 0.4117684066295624\n",
      "    my_metric      : 0.7872814685314685\n",
      "    f1             : 0.7800438251078613\n",
      "    balanced_accuracy: 0.7598542511283388\n",
      "    precision      : 0.8006794989952633\n",
      "    recall         : 0.7872814685314685\n",
      "    val_loss       : 0.3450194150209427\n",
      "    val_my_metric  : 0.8521428571428572\n",
      "    val_f1         : 0.8514901123689826\n",
      "    val_balanced_accuracy: 0.8430681402995981\n",
      "    val_precision  : 0.8592945440804606\n",
      "    val_recall     : 0.8521428571428572\n"
     ]
    },
    {
     "name": "stdout",
     "output_type": "stream",
     "text": [
      "Model has not improved in -------------| 28 epochs\n"
     ]
    },
    {
     "name": "stderr",
     "output_type": "stream",
     "text": [
      "    epoch          : 138\n",
      "    loss           : 0.40581265779641956\n",
      "    my_metric      : 0.7951923076923078\n",
      "    f1             : 0.7908927049040553\n",
      "    balanced_accuracy: 0.7722387751675674\n",
      "    precision      : 0.8051889636405438\n",
      "    recall         : 0.7951923076923078\n",
      "    val_loss       : 0.35669924020767213\n",
      "    val_my_metric  : 0.8199107142857143\n",
      "    val_f1         : 0.8091707365900156\n",
      "    val_balanced_accuracy: 0.7744748956638545\n",
      "    val_precision  : 0.8303271441487489\n",
      "    val_recall     : 0.8199107142857143\n"
     ]
    },
    {
     "name": "stdout",
     "output_type": "stream",
     "text": [
      "Model has not improved in -------------| 29 epochs\n"
     ]
    },
    {
     "name": "stderr",
     "output_type": "stream",
     "text": [
      "    epoch          : 139\n",
      "    loss           : 0.4107205489507088\n",
      "    my_metric      : 0.7964925699300699\n",
      "    f1             : 0.7911373031199118\n",
      "    balanced_accuracy: 0.7738609445408394\n",
      "    precision      : 0.8090342646309866\n",
      "    recall         : 0.7964925699300699\n",
      "    val_loss       : 0.3467761278152466\n",
      "    val_my_metric  : 0.8490178571428573\n",
      "    val_f1         : 0.8463056315043029\n",
      "    val_balanced_accuracy: 0.8240695194098098\n",
      "    val_precision  : 0.8521211241778024\n",
      "    val_recall     : 0.8490178571428573\n"
     ]
    },
    {
     "name": "stdout",
     "output_type": "stream",
     "text": [
      "Model has not improved in -------------| 30 epochs\n"
     ]
    },
    {
     "name": "stderr",
     "output_type": "stream",
     "text": [
      "    epoch          : 140\n",
      "    loss           : 0.41491632622021896\n",
      "    my_metric      : 0.796284965034965\n",
      "    f1             : 0.7919788417329793\n",
      "    balanced_accuracy: 0.7743408892741926\n",
      "    precision      : 0.8063646600646587\n",
      "    recall         : 0.796284965034965\n",
      "    val_loss       : 0.34956561028957367\n",
      "    val_my_metric  : 0.8448214285714286\n",
      "    val_f1         : 0.8423450781738298\n",
      "    val_balanced_accuracy: 0.8245519383368036\n",
      "    val_precision  : 0.8467517477104536\n",
      "    val_recall     : 0.8448214285714286\n"
     ]
    },
    {
     "name": "stdout",
     "output_type": "stream",
     "text": [
      "Model has not improved in -------------| 31 epochs\n"
     ]
    },
    {
     "name": "stderr",
     "output_type": "stream",
     "text": [
      "    epoch          : 141\n",
      "    loss           : 0.4173804349624194\n",
      "    my_metric      : 0.7777644230769231\n",
      "    f1             : 0.7708033835398918\n",
      "    balanced_accuracy: 0.7505792077860137\n",
      "    precision      : 0.788661245204172\n",
      "    recall         : 0.7777644230769231\n",
      "    val_loss       : 0.33597920536994935\n",
      "    val_my_metric  : 0.8318749999999999\n",
      "    val_f1         : 0.8279466685316779\n",
      "    val_balanced_accuracy: 0.8009438184905079\n",
      "    val_precision  : 0.8404588477755894\n",
      "    val_recall     : 0.8318749999999999\n"
     ]
    },
    {
     "name": "stdout",
     "output_type": "stream",
     "text": [
      "Model has not improved in -------------| 32 epochs\n"
     ]
    },
    {
     "name": "stderr",
     "output_type": "stream",
     "text": [
      "    epoch          : 142\n",
      "    loss           : 0.4107869233076389\n",
      "    my_metric      : 0.7938920454545454\n",
      "    f1             : 0.7883552747371083\n",
      "    balanced_accuracy: 0.7692421083983884\n",
      "    precision      : 0.8014470581219577\n",
      "    recall         : 0.7938920454545454\n",
      "    val_loss       : 0.3484460562467575\n",
      "    val_my_metric  : 0.8276785714285714\n",
      "    val_f1         : 0.8233718948072093\n",
      "    val_balanced_accuracy: 0.7964566644566645\n",
      "    val_precision  : 0.8307287044000263\n",
      "    val_recall     : 0.8276785714285714\n"
     ]
    },
    {
     "name": "stdout",
     "output_type": "stream",
     "text": [
      "Model has not improved in -------------| 33 epochs\n"
     ]
    },
    {
     "name": "stderr",
     "output_type": "stream",
     "text": [
      "    epoch          : 143\n",
      "    loss           : 0.3906761912199167\n",
      "    my_metric      : 0.8059112762237762\n",
      "    f1             : 0.8007471352545529\n",
      "    balanced_accuracy: 0.7819032933240327\n",
      "    precision      : 0.8132398098331325\n",
      "    recall         : 0.8059112762237762\n",
      "    val_loss       : 0.35239222049713137\n",
      "    val_my_metric  : 0.8583928571428572\n",
      "    val_f1         : 0.8565564387948342\n",
      "    val_balanced_accuracy: 0.8425982635982635\n",
      "    val_precision  : 0.862517479581143\n",
      "    val_recall     : 0.8583928571428572\n"
     ]
    },
    {
     "name": "stdout",
     "output_type": "stream",
     "text": [
      "Model has not improved in -------------| 34 epochs\n"
     ]
    },
    {
     "name": "stderr",
     "output_type": "stream",
     "text": [
      "    epoch          : 144\n",
      "    loss           : 0.40803433037721193\n",
      "    my_metric      : 0.7932910839160839\n",
      "    f1             : 0.7872800960669721\n",
      "    balanced_accuracy: 0.7685972287944255\n",
      "    precision      : 0.8054171982579437\n",
      "    recall         : 0.7932910839160839\n",
      "    val_loss       : 0.36455574035644533\n",
      "    val_my_metric  : 0.806875\n",
      "    val_f1         : 0.7974104951091969\n",
      "    val_balanced_accuracy: 0.7616733346187217\n",
      "    val_precision  : 0.8138437917780749\n",
      "    val_recall     : 0.806875\n"
     ]
    },
    {
     "name": "stdout",
     "output_type": "stream",
     "text": [
      "Model has not improved in -------------| 35 epochs\n"
     ]
    },
    {
     "name": "stderr",
     "output_type": "stream",
     "text": [
      "    epoch          : 145\n",
      "    loss           : 0.39475884288549423\n",
      "    my_metric      : 0.795596590909091\n",
      "    f1             : 0.7893473358344166\n",
      "    balanced_accuracy: 0.7709381548637916\n",
      "    precision      : 0.801858272004966\n",
      "    recall         : 0.795596590909091\n",
      "    val_loss       : 0.3541433155536652\n",
      "    val_my_metric  : 0.8219642857142857\n",
      "    val_f1         : 0.8177228736003894\n",
      "    val_balanced_accuracy: 0.7968979021794199\n",
      "    val_precision  : 0.8288587502561857\n",
      "    val_recall     : 0.8219642857142857\n"
     ]
    },
    {
     "name": "stdout",
     "output_type": "stream",
     "text": [
      "Model has not improved in -------------| 36 epochs\n"
     ]
    },
    {
     "name": "stderr",
     "output_type": "stream",
     "text": [
      "    epoch          : 146\n",
      "    loss           : 0.4179958976232089\n",
      "    my_metric      : 0.7911822552447553\n",
      "    f1             : 0.7841260614503577\n",
      "    balanced_accuracy: 0.7661897911749043\n",
      "    precision      : 0.8018121067671309\n",
      "    recall         : 0.7911822552447553\n",
      "    val_loss       : 0.3503889858722687\n",
      "    val_my_metric  : 0.8375892857142857\n",
      "    val_f1         : 0.8357092265278171\n",
      "    val_balanced_accuracy: 0.8217429792429792\n",
      "    val_precision  : 0.8427025947033531\n",
      "    val_recall     : 0.8375892857142857\n"
     ]
    },
    {
     "name": "stdout",
     "output_type": "stream",
     "text": [
      "Model has not improved in -------------| 37 epochs\n"
     ]
    },
    {
     "name": "stderr",
     "output_type": "stream",
     "text": [
      "    epoch          : 147\n",
      "    loss           : 0.41200951830698895\n",
      "    my_metric      : 0.7820694930069929\n",
      "    f1             : 0.7753371488383979\n",
      "    balanced_accuracy: 0.7569830801153368\n",
      "    precision      : 0.7935033473811562\n",
      "    recall         : 0.7820694930069929\n",
      "    val_loss       : 0.3382025420665741\n",
      "    val_my_metric  : 0.8464285714285713\n",
      "    val_f1         : 0.8453187691432431\n",
      "    val_balanced_accuracy: 0.8318185236385192\n",
      "    val_precision  : 0.8481872610201746\n",
      "    val_recall     : 0.8464285714285713\n"
     ]
    },
    {
     "name": "stdout",
     "output_type": "stream",
     "text": [
      "Model has not improved in -------------| 38 epochs\n"
     ]
    },
    {
     "name": "stderr",
     "output_type": "stream",
     "text": [
      "    epoch          : 148\n",
      "    loss           : 0.39547778092897856\n",
      "    my_metric      : 0.7916848776223776\n",
      "    f1             : 0.7859414536608481\n",
      "    balanced_accuracy: 0.7663686965363637\n",
      "    precision      : 0.8024303434396036\n",
      "    recall         : 0.7916848776223776\n",
      "    val_loss       : 0.3363136351108551\n",
      "    val_my_metric  : 0.8354464285714286\n",
      "    val_f1         : 0.8313722810545521\n",
      "    val_balanced_accuracy: 0.8083552546844361\n",
      "    val_precision  : 0.8353668199075714\n",
      "    val_recall     : 0.8354464285714286\n"
     ]
    },
    {
     "name": "stdout",
     "output_type": "stream",
     "text": [
      "Model has not improved in -------------| 39 epochs\n"
     ]
    },
    {
     "name": "stderr",
     "output_type": "stream",
     "text": [
      "    epoch          : 149\n",
      "    loss           : 0.4048713468588315\n",
      "    my_metric      : 0.795596590909091\n",
      "    f1             : 0.7893524306092446\n",
      "    balanced_accuracy: 0.7714396044045257\n",
      "    precision      : 0.8076476422471391\n",
      "    recall         : 0.795596590909091\n",
      "    val_loss       : 0.33504064977169035\n",
      "    val_my_metric  : 0.8047321428571429\n",
      "    val_f1         : 0.8004346006892694\n",
      "    val_balanced_accuracy: 0.7745994371969616\n",
      "    val_precision  : 0.8080370105732071\n",
      "    val_recall     : 0.8047321428571429\n"
     ]
    },
    {
     "name": "stdout",
     "output_type": "stream",
     "text": [
      "Model has not improved in -------------| 40 epochs\n"
     ]
    },
    {
     "name": "stderr",
     "output_type": "stream",
     "text": [
      "    epoch          : 150\n",
      "    loss           : 0.4041489683664762\n",
      "    my_metric      : 0.7904829545454545\n",
      "    f1             : 0.7849877388328975\n",
      "    balanced_accuracy: 0.765735304156147\n",
      "    precision      : 0.7997799889641489\n",
      "    recall         : 0.7904829545454545\n",
      "    val_loss       : 0.35524181723594667\n",
      "    val_my_metric  : 0.8438392857142857\n",
      "    val_f1         : 0.842845938764432\n",
      "    val_balanced_accuracy: 0.8265491851386418\n",
      "    val_precision  : 0.8442407902769744\n",
      "    val_recall     : 0.8438392857142857\n"
     ]
    },
    {
     "name": "stdout",
     "output_type": "stream",
     "text": [
      "Model has not improved in -------------| 41 epochs\n"
     ]
    },
    {
     "name": "stderr",
     "output_type": "stream",
     "text": [
      "    epoch          : 151\n",
      "    loss           : 0.388394839488543\n",
      "    my_metric      : 0.8024038461538462\n",
      "    f1             : 0.7960801374615775\n",
      "    balanced_accuracy: 0.7752177144542801\n",
      "    precision      : 0.8153605053167181\n",
      "    recall         : 0.8024038461538462\n",
      "    val_loss       : 0.356055223941803\n",
      "    val_my_metric  : 0.8433035714285714\n",
      "    val_f1         : 0.8390293260427969\n",
      "    val_balanced_accuracy: 0.8119010611219913\n",
      "    val_precision  : 0.8427824227837888\n",
      "    val_recall     : 0.8433035714285714\n"
     ]
    },
    {
     "name": "stdout",
     "output_type": "stream",
     "text": [
      "Model has not improved in -------------| 42 epochs\n"
     ]
    },
    {
     "name": "stderr",
     "output_type": "stream",
     "text": [
      "    epoch          : 152\n",
      "    loss           : 0.3975165543647913\n",
      "    my_metric      : 0.8\n",
      "    f1             : 0.7942229455011034\n",
      "    balanced_accuracy: 0.7770889270382457\n",
      "    precision      : 0.8141464908465765\n",
      "    recall         : 0.8\n",
      "    val_loss       : 0.34398645758628843\n",
      "    val_my_metric  : 0.8255357142857143\n",
      "    val_f1         : 0.8174287178551843\n",
      "    val_balanced_accuracy: 0.7899042425416326\n",
      "    val_precision  : 0.8370232434663791\n",
      "    val_recall     : 0.8255357142857143\n"
     ]
    },
    {
     "name": "stdout",
     "output_type": "stream",
     "text": [
      "Model has not improved in -------------| 43 epochs\n"
     ]
    },
    {
     "name": "stderr",
     "output_type": "stream",
     "text": [
      "    epoch          : 153\n",
      "    loss           : 0.4087470517708705\n",
      "    my_metric      : 0.7885708041958043\n",
      "    f1             : 0.7827709284644686\n",
      "    balanced_accuracy: 0.7652977528930384\n",
      "    precision      : 0.7977235198007512\n",
      "    recall         : 0.7885708041958043\n",
      "    val_loss       : 0.3213613659143448\n",
      "    val_my_metric  : 0.864107142857143\n",
      "    val_f1         : 0.8626058376266478\n",
      "    val_balanced_accuracy: 0.8501886141274356\n",
      "    val_precision  : 0.8708082992475887\n",
      "    val_recall     : 0.864107142857143\n",
      "Saving checkpoint: ../saved/IMPRS_hdf5_volume_AllDAPI_noise/0710_173648/checkpoint-epoch153.pth ...\n",
      "Saving current best: model_best.pth ...\n",
      "    epoch          : 154\n",
      "    loss           : 0.38797837495803833\n",
      "    my_metric      : 0.8005026223776224\n",
      "    f1             : 0.7961878399143237\n",
      "    balanced_accuracy: 0.7793620814218454\n",
      "    precision      : 0.812433027420346\n",
      "    recall         : 0.8005026223776224\n",
      "    val_loss       : 0.34098483324050904\n",
      "    val_my_metric  : 0.8333928571428573\n",
      "    val_f1         : 0.8304916703991714\n",
      "    val_balanced_accuracy: 0.8096626973959953\n",
      "    val_precision  : 0.8378834755855638\n",
      "    val_recall     : 0.8333928571428573\n"
     ]
    },
    {
     "name": "stdout",
     "output_type": "stream",
     "text": [
      "Model has not improved in -------------| 1 epochs\n"
     ]
    },
    {
     "name": "stderr",
     "output_type": "stream",
     "text": [
      "    epoch          : 155\n",
      "    loss           : 0.40239138901233673\n",
      "    my_metric      : 0.8012019230769231\n",
      "    f1             : 0.7963334502564597\n",
      "    balanced_accuracy: 0.7780513822701892\n",
      "    precision      : 0.8117119810467526\n",
      "    recall         : 0.8012019230769231\n",
      "    val_loss       : 0.34669104516506194\n",
      "    val_my_metric  : 0.8255357142857143\n",
      "    val_f1         : 0.8210376472372836\n",
      "    val_balanced_accuracy: 0.7981819859726837\n",
      "    val_precision  : 0.8255244800999005\n",
      "    val_recall     : 0.8255357142857143\n"
     ]
    },
    {
     "name": "stdout",
     "output_type": "stream",
     "text": [
      "Model has not improved in -------------| 2 epochs\n"
     ]
    },
    {
     "name": "stderr",
     "output_type": "stream",
     "text": [
      "    epoch          : 156\n",
      "    loss           : 0.39755856876189893\n",
      "    my_metric      : 0.7969951923076923\n",
      "    f1             : 0.7913718538234824\n",
      "    balanced_accuracy: 0.7708718267595815\n",
      "    precision      : 0.802227280424249\n",
      "    recall         : 0.7969951923076923\n",
      "    val_loss       : 0.3407978743314743\n",
      "    val_my_metric  : 0.8521428571428572\n",
      "    val_f1         : 0.849733802914576\n",
      "    val_balanced_accuracy: 0.8324292645760037\n",
      "    val_precision  : 0.8569585591896638\n",
      "    val_recall     : 0.8521428571428572\n"
     ]
    },
    {
     "name": "stdout",
     "output_type": "stream",
     "text": [
      "Model has not improved in -------------| 3 epochs\n"
     ]
    },
    {
     "name": "stderr",
     "output_type": "stream",
     "text": [
      "    epoch          : 157\n",
      "    loss           : 0.39340077111354244\n",
      "    my_metric      : 0.7993990384615385\n",
      "    f1             : 0.7949310920581281\n",
      "    balanced_accuracy: 0.7760489010373277\n",
      "    precision      : 0.808076030184828\n",
      "    recall         : 0.7993990384615385\n",
      "    val_loss       : 0.33588975965976714\n",
      "    val_my_metric  : 0.8490178571428573\n",
      "    val_f1         : 0.844277338822739\n",
      "    val_balanced_accuracy: 0.8186286714101894\n",
      "    val_precision  : 0.8535752173148874\n",
      "    val_recall     : 0.8490178571428573\n"
     ]
    },
    {
     "name": "stdout",
     "output_type": "stream",
     "text": [
      "Model has not improved in -------------| 4 epochs\n"
     ]
    },
    {
     "name": "stderr",
     "output_type": "stream",
     "text": [
      "    epoch          : 158\n",
      "    loss           : 0.3991902436201389\n",
      "    my_metric      : 0.798208041958042\n",
      "    f1             : 0.7927206206910016\n",
      "    balanced_accuracy: 0.7738539867299873\n",
      "    precision      : 0.8067807548334638\n",
      "    recall         : 0.798208041958042\n",
      "    val_loss       : 0.34022836685180663\n",
      "    val_my_metric  : 0.8256249999999999\n",
      "    val_f1         : 0.820817078684877\n",
      "    val_balanced_accuracy: 0.7964020955602973\n",
      "    val_precision  : 0.8291607013539533\n",
      "    val_recall     : 0.8256249999999999\n"
     ]
    },
    {
     "name": "stdout",
     "output_type": "stream",
     "text": [
      "Model has not improved in -------------| 5 epochs\n"
     ]
    },
    {
     "name": "stderr",
     "output_type": "stream",
     "text": [
      "    epoch          : 159\n",
      "    loss           : 0.38525337210068333\n",
      "    my_metric      : 0.8065013111888112\n",
      "    f1             : 0.8009597647627745\n",
      "    balanced_accuracy: 0.781663876386565\n",
      "    precision      : 0.8160050334680098\n",
      "    recall         : 0.8065013111888112\n",
      "    val_loss       : 0.35972464084625244\n",
      "    val_my_metric  : 0.8219642857142857\n",
      "    val_f1         : 0.8154334273372609\n",
      "    val_balanced_accuracy: 0.7965962053330474\n",
      "    val_precision  : 0.8285556148259952\n",
      "    val_recall     : 0.8219642857142857\n"
     ]
    },
    {
     "name": "stdout",
     "output_type": "stream",
     "text": [
      "Model has not improved in -------------| 6 epochs\n"
     ]
    },
    {
     "name": "stderr",
     "output_type": "stream",
     "text": [
      "    epoch          : 160\n",
      "    loss           : 0.4071239152779946\n",
      "    my_metric      : 0.7941870629370629\n",
      "    f1             : 0.7886539996937082\n",
      "    balanced_accuracy: 0.7706802251498986\n",
      "    precision      : 0.8051560995865141\n",
      "    recall         : 0.7941870629370629\n",
      "    val_loss       : 0.37134829759597776\n",
      "    val_my_metric  : 0.8355357142857143\n",
      "    val_f1         : 0.8335836038961038\n",
      "    val_balanced_accuracy: 0.8142643967268117\n",
      "    val_precision  : 0.8441176964857089\n",
      "    val_recall     : 0.8355357142857143\n"
     ]
    },
    {
     "name": "stdout",
     "output_type": "stream",
     "text": [
      "Model has not improved in -------------| 7 epochs\n"
     ]
    },
    {
     "name": "stderr",
     "output_type": "stream",
     "text": [
      "    epoch          : 161\n",
      "    loss           : 0.40338535836109746\n",
      "    my_metric      : 0.7868771853146852\n",
      "    f1             : 0.7796928901922704\n",
      "    balanced_accuracy: 0.758856862718553\n",
      "    precision      : 0.7995076573653269\n",
      "    recall         : 0.7868771853146852\n",
      "    val_loss       : 0.3437400758266449\n",
      "    val_my_metric  : 0.8490178571428573\n",
      "    val_f1         : 0.8487309562927032\n",
      "    val_balanced_accuracy: 0.8354496702150177\n",
      "    val_precision  : 0.8536375863286162\n",
      "    val_recall     : 0.8490178571428573\n"
     ]
    },
    {
     "name": "stdout",
     "output_type": "stream",
     "text": [
      "Model has not improved in -------------| 8 epochs\n"
     ]
    },
    {
     "name": "stderr",
     "output_type": "stream",
     "text": [
      "    epoch          : 162\n",
      "    loss           : 0.3917497339156958\n",
      "    my_metric      : 0.8045017482517482\n",
      "    f1             : 0.7988550525890177\n",
      "    balanced_accuracy: 0.7790385415419772\n",
      "    precision      : 0.816192939326291\n",
      "    recall         : 0.8045017482517482\n",
      "    val_loss       : 0.3560443878173828\n",
      "    val_my_metric  : 0.8339285714285714\n",
      "    val_f1         : 0.830280186674961\n",
      "    val_balanced_accuracy: 0.8034561979661798\n",
      "    val_precision  : 0.8409217404628118\n",
      "    val_recall     : 0.8339285714285714\n"
     ]
    },
    {
     "name": "stdout",
     "output_type": "stream",
     "text": [
      "Model has not improved in -------------| 9 epochs\n"
     ]
    },
    {
     "name": "stderr",
     "output_type": "stream",
     "text": [
      "    epoch          : 163\n",
      "    loss           : 0.38868320217499364\n",
      "    my_metric      : 0.8086101398601399\n",
      "    f1             : 0.8037131447993129\n",
      "    balanced_accuracy: 0.7850511188738494\n",
      "    precision      : 0.8184907903243303\n",
      "    recall         : 0.8086101398601399\n",
      "    val_loss       : 0.3292478650808334\n",
      "    val_my_metric  : 0.8302678571428572\n",
      "    val_f1         : 0.8239759904837586\n",
      "    val_balanced_accuracy: 0.7851343694903029\n",
      "    val_precision  : 0.8386451354230544\n",
      "    val_recall     : 0.8302678571428572\n"
     ]
    },
    {
     "name": "stdout",
     "output_type": "stream",
     "text": [
      "Model has not improved in -------------| 10 epochs\n"
     ]
    },
    {
     "name": "stderr",
     "output_type": "stream",
     "text": [
      "    epoch          : 164\n",
      "    loss           : 0.40278383172475374\n",
      "    my_metric      : 0.7981971153846155\n",
      "    f1             : 0.7933000299540113\n",
      "    balanced_accuracy: 0.7748550184425794\n",
      "    precision      : 0.8044865128299201\n",
      "    recall         : 0.7981971153846155\n",
      "    val_loss       : 0.32925363481044767\n",
      "    val_my_metric  : 0.8365178571428572\n",
      "    val_f1         : 0.8341132843808985\n",
      "    val_balanced_accuracy: 0.8165216442058547\n",
      "    val_precision  : 0.8407634794846965\n",
      "    val_recall     : 0.8365178571428572\n"
     ]
    },
    {
     "name": "stdout",
     "output_type": "stream",
     "text": [
      "Model has not improved in -------------| 11 epochs\n"
     ]
    },
    {
     "name": "stderr",
     "output_type": "stream",
     "text": [
      "    epoch          : 165\n",
      "    loss           : 0.40502043068408966\n",
      "    my_metric      : 0.7964925699300699\n",
      "    f1             : 0.7902001328573603\n",
      "    balanced_accuracy: 0.7717887888455883\n",
      "    precision      : 0.8061882465890834\n",
      "    recall         : 0.7964925699300699\n",
      "    val_loss       : 0.3524740397930145\n",
      "    val_my_metric  : 0.8344642857142857\n",
      "    val_f1         : 0.8323264956606804\n",
      "    val_balanced_accuracy: 0.816065009166198\n",
      "    val_precision  : 0.8367460295622549\n",
      "    val_recall     : 0.8344642857142857\n"
     ]
    },
    {
     "name": "stdout",
     "output_type": "stream",
     "text": [
      "Model has not improved in -------------| 12 epochs\n"
     ]
    },
    {
     "name": "stderr",
     "output_type": "stream",
     "text": [
      "    epoch          : 166\n",
      "    loss           : 0.3831603326476537\n",
      "    my_metric      : 0.8002950174825175\n",
      "    f1             : 0.7950406923619655\n",
      "    balanced_accuracy: 0.7771990512722101\n",
      "    precision      : 0.8083070977465108\n",
      "    recall         : 0.8002950174825175\n",
      "    val_loss       : 0.3512792944908142\n",
      "    val_my_metric  : 0.8511607142857143\n",
      "    val_f1         : 0.8479373130629284\n",
      "    val_balanced_accuracy: 0.8287155060253781\n",
      "    val_precision  : 0.8535311295956186\n",
      "    val_recall     : 0.8511607142857143\n"
     ]
    },
    {
     "name": "stdout",
     "output_type": "stream",
     "text": [
      "Model has not improved in -------------| 13 epochs\n"
     ]
    },
    {
     "name": "stderr",
     "output_type": "stream",
     "text": [
      "    epoch          : 167\n",
      "    loss           : 0.39477370794002825\n",
      "    my_metric      : 0.7954982517482517\n",
      "    f1             : 0.7905821564336736\n",
      "    balanced_accuracy: 0.7709274537664432\n",
      "    precision      : 0.8053911956021362\n",
      "    recall         : 0.7954982517482517\n",
      "    val_loss       : 0.32566618323326113\n",
      "    val_my_metric  : 0.8615178571428572\n",
      "    val_f1         : 0.8589616098506756\n",
      "    val_balanced_accuracy: 0.8392650657683867\n",
      "    val_precision  : 0.8654474138455038\n",
      "    val_recall     : 0.8615178571428572\n"
     ]
    },
    {
     "name": "stdout",
     "output_type": "stream",
     "text": [
      "Model has not improved in -------------| 14 epochs\n"
     ]
    },
    {
     "name": "stderr",
     "output_type": "stream",
     "text": [
      "    epoch          : 168\n",
      "    loss           : 0.4233785168482707\n",
      "    my_metric      : 0.7791630244755244\n",
      "    f1             : 0.7719255415487548\n",
      "    balanced_accuracy: 0.7516431767666263\n",
      "    precision      : 0.7882223522329256\n",
      "    recall         : 0.7791630244755244\n",
      "    val_loss       : 0.34963048696517945\n",
      "    val_my_metric  : 0.8225\n",
      "    val_f1         : 0.8126150992455262\n",
      "    val_balanced_accuracy: 0.7801622938465044\n",
      "    val_precision  : 0.8390980055296865\n",
      "    val_recall     : 0.8225\n"
     ]
    },
    {
     "name": "stdout",
     "output_type": "stream",
     "text": [
      "Model has not improved in -------------| 15 epochs\n"
     ]
    },
    {
     "name": "stderr",
     "output_type": "stream",
     "text": [
      "    epoch          : 169\n",
      "    loss           : 0.40782058926729053\n",
      "    my_metric      : 0.8016062062937064\n",
      "    f1             : 0.7959860416889887\n",
      "    balanced_accuracy: 0.7774662373414293\n",
      "    precision      : 0.8125106780203775\n",
      "    recall         : 0.8016062062937064\n",
      "    val_loss       : 0.34875727891922\n",
      "    val_my_metric  : 0.8318749999999999\n",
      "    val_f1         : 0.8313706556253093\n",
      "    val_balanced_accuracy: 0.819398069036227\n",
      "    val_precision  : 0.8451280856083395\n",
      "    val_recall     : 0.8318749999999999\n"
     ]
    },
    {
     "name": "stdout",
     "output_type": "stream",
     "text": [
      "Model has not improved in -------------| 16 epochs\n"
     ]
    },
    {
     "name": "stderr",
     "output_type": "stream",
     "text": [
      "    epoch          : 170\n",
      "    loss           : 0.3933462489109773\n",
      "    my_metric      : 0.8005026223776224\n",
      "    f1             : 0.7942282181624025\n",
      "    balanced_accuracy: 0.7749509970143781\n",
      "    precision      : 0.8104641675020026\n",
      "    recall         : 0.8005026223776224\n",
      "    val_loss       : 0.3528156101703644\n",
      "    val_my_metric  : 0.8302678571428572\n",
      "    val_f1         : 0.8277161980340721\n",
      "    val_balanced_accuracy: 0.8091661376159539\n",
      "    val_precision  : 0.8365378368674377\n",
      "    val_recall     : 0.8302678571428572\n"
     ]
    },
    {
     "name": "stdout",
     "output_type": "stream",
     "text": [
      "Model has not improved in -------------| 17 epochs\n"
     ]
    },
    {
     "name": "stderr",
     "output_type": "stream",
     "text": [
      "    epoch          : 171\n",
      "    loss           : 0.3899836437060283\n",
      "    my_metric      : 0.798896416083916\n",
      "    f1             : 0.7942197209529721\n",
      "    balanced_accuracy: 0.7773636804467345\n",
      "    precision      : 0.8056638768328335\n",
      "    recall         : 0.798896416083916\n",
      "    val_loss       : 0.35696917176246645\n",
      "    val_my_metric  : 0.8370535714285714\n",
      "    val_f1         : 0.8295248974493946\n",
      "    val_balanced_accuracy: 0.7971661106296082\n",
      "    val_precision  : 0.8506086949226483\n",
      "    val_recall     : 0.8370535714285714\n"
     ]
    },
    {
     "name": "stdout",
     "output_type": "stream",
     "text": [
      "Model has not improved in -------------| 18 epochs\n"
     ]
    },
    {
     "name": "stderr",
     "output_type": "stream",
     "text": [
      "    epoch          : 172\n",
      "    loss           : 0.3931424795435025\n",
      "    my_metric      : 0.7997923951048951\n",
      "    f1             : 0.7946252317043787\n",
      "    balanced_accuracy: 0.773809555018622\n",
      "    precision      : 0.809753366239739\n",
      "    recall         : 0.7997923951048951\n",
      "    val_loss       : 0.33783063292503357\n",
      "    val_my_metric  : 0.8365178571428572\n",
      "    val_f1         : 0.8350530609282896\n",
      "    val_balanced_accuracy: 0.8194739881581986\n",
      "    val_precision  : 0.839017230285655\n",
      "    val_recall     : 0.8365178571428572\n"
     ]
    },
    {
     "name": "stdout",
     "output_type": "stream",
     "text": [
      "Model has not improved in -------------| 19 epochs\n"
     ]
    },
    {
     "name": "stderr",
     "output_type": "stream",
     "text": [
      "    epoch          : 173\n",
      "    loss           : 0.4153767233857742\n",
      "    my_metric      : 0.7868881118881119\n",
      "    f1             : 0.7813775397434422\n",
      "    balanced_accuracy: 0.7617838812705844\n",
      "    precision      : 0.7946070637446649\n",
      "    recall         : 0.7868881118881119\n",
      "    val_loss       : 0.3509426474571228\n",
      "    val_my_metric  : 0.8116071428571429\n",
      "    val_f1         : 0.7968694440849354\n",
      "    val_balanced_accuracy: 0.7634406204260855\n",
      "    val_precision  : 0.8242918669871795\n",
      "    val_recall     : 0.8116071428571429\n"
     ]
    },
    {
     "name": "stdout",
     "output_type": "stream",
     "text": [
      "Model has not improved in -------------| 20 epochs\n"
     ]
    },
    {
     "name": "stderr",
     "output_type": "stream",
     "text": [
      "    epoch          : 174\n",
      "    loss           : 0.39871039241552353\n",
      "    my_metric      : 0.7973011363636364\n",
      "    f1             : 0.7915691571496652\n",
      "    balanced_accuracy: 0.7713670715485359\n",
      "    precision      : 0.8073345709611084\n",
      "    recall         : 0.7973011363636364\n",
      "    val_loss       : 0.3428008913993835\n",
      "    val_my_metric  : 0.8578571428571429\n",
      "    val_f1         : 0.8571765420949093\n",
      "    val_balanced_accuracy: 0.8441714369343186\n",
      "    val_precision  : 0.8614948384948384\n",
      "    val_recall     : 0.8578571428571429\n"
     ]
    },
    {
     "name": "stdout",
     "output_type": "stream",
     "text": [
      "Model has not improved in -------------| 21 epochs\n"
     ]
    },
    {
     "name": "stderr",
     "output_type": "stream",
     "text": [
      "    epoch          : 175\n",
      "    loss           : 0.3977890220972208\n",
      "    my_metric      : 0.7958916083916083\n",
      "    f1             : 0.7893084700383827\n",
      "    balanced_accuracy: 0.7685694448627924\n",
      "    precision      : 0.8052943054566808\n",
      "    recall         : 0.7958916083916083\n",
      "    val_loss       : 0.32983139157295227\n",
      "    val_my_metric  : 0.8453571428571429\n",
      "    val_f1         : 0.8432888320089429\n",
      "    val_balanced_accuracy: 0.8237023976442581\n",
      "    val_precision  : 0.8504321925651868\n",
      "    val_recall     : 0.8453571428571429\n"
     ]
    },
    {
     "name": "stdout",
     "output_type": "stream",
     "text": [
      "Model has not improved in -------------| 22 epochs\n"
     ]
    },
    {
     "name": "stderr",
     "output_type": "stream",
     "text": [
      "    epoch          : 176\n",
      "    loss           : 0.4013270437717438\n",
      "    my_metric      : 0.8022071678321679\n",
      "    f1             : 0.7978665880943545\n",
      "    balanced_accuracy: 0.7813160290610501\n",
      "    precision      : 0.8133667497068184\n",
      "    recall         : 0.8022071678321679\n",
      "    val_loss       : 0.36494062542915345\n",
      "    val_my_metric  : 0.8151785714285713\n",
      "    val_f1         : 0.8047304057513063\n",
      "    val_balanced_accuracy: 0.7661366115573689\n",
      "    val_precision  : 0.8315707536815274\n",
      "    val_recall     : 0.8151785714285713\n"
     ]
    },
    {
     "name": "stdout",
     "output_type": "stream",
     "text": [
      "Model has not improved in -------------| 23 epochs\n"
     ]
    },
    {
     "name": "stderr",
     "output_type": "stream",
     "text": [
      "    epoch          : 177\n",
      "    loss           : 0.39149767733537233\n",
      "    my_metric      : 0.8003059440559441\n",
      "    f1             : 0.7940403574140499\n",
      "    balanced_accuracy: 0.7739473955464884\n",
      "    precision      : 0.8061637861559964\n",
      "    recall         : 0.8003059440559441\n",
      "    val_loss       : 0.3829274415969849\n",
      "    val_my_metric  : 0.8230357142857143\n",
      "    val_f1         : 0.8225848407544836\n",
      "    val_balanced_accuracy: 0.8117022296349102\n",
      "    val_precision  : 0.8238441105554044\n",
      "    val_recall     : 0.8230357142857143\n"
     ]
    },
    {
     "name": "stdout",
     "output_type": "stream",
     "text": [
      "Model has not improved in -------------| 24 epochs\n"
     ]
    },
    {
     "name": "stderr",
     "output_type": "stream",
     "text": [
      "    epoch          : 178\n",
      "    loss           : 0.4052864725773151\n",
      "    my_metric      : 0.8030048076923078\n",
      "    f1             : 0.7980452882187616\n",
      "    balanced_accuracy: 0.7786146764166836\n",
      "    precision      : 0.8104422078530801\n",
      "    recall         : 0.8030048076923078\n",
      "    val_loss       : 0.3478678107261658\n",
      "    val_my_metric  : 0.8292857142857143\n",
      "    val_f1         : 0.8245262573938567\n",
      "    val_balanced_accuracy: 0.8076437880225484\n",
      "    val_precision  : 0.8439422610058822\n",
      "    val_recall     : 0.8292857142857143\n"
     ]
    },
    {
     "name": "stdout",
     "output_type": "stream",
     "text": [
      "Model has not improved in -------------| 25 epochs\n"
     ]
    },
    {
     "name": "stderr",
     "output_type": "stream",
     "text": [
      "    epoch          : 179\n",
      "    loss           : 0.3888664898964075\n",
      "    my_metric      : 0.794798951048951\n",
      "    f1             : 0.7885027682026613\n",
      "    balanced_accuracy: 0.7686502081191426\n",
      "    precision      : 0.8037357662590586\n",
      "    recall         : 0.794798951048951\n",
      "    val_loss       : 0.34943967461586\n",
      "    val_my_metric  : 0.80375\n",
      "    val_f1         : 0.7958130982174622\n",
      "    val_balanced_accuracy: 0.7660291960091034\n",
      "    val_precision  : 0.8110843762371969\n",
      "    val_recall     : 0.80375\n"
     ]
    },
    {
     "name": "stdout",
     "output_type": "stream",
     "text": [
      "Model has not improved in -------------| 26 epochs\n"
     ]
    },
    {
     "name": "stderr",
     "output_type": "stream",
     "text": [
      "    epoch          : 180\n",
      "    loss           : 0.39596299253977263\n",
      "    my_metric      : 0.8005026223776224\n",
      "    f1             : 0.7949974148870798\n",
      "    balanced_accuracy: 0.7740022588529991\n",
      "    precision      : 0.812126411290866\n",
      "    recall         : 0.8005026223776224\n",
      "    val_loss       : 0.33868624567985534\n",
      "    val_my_metric  : 0.8615178571428572\n",
      "    val_f1         : 0.8602071699772804\n",
      "    val_balanced_accuracy: 0.84727015155223\n",
      "    val_precision  : 0.8626937375490007\n",
      "    val_recall     : 0.8615178571428572\n"
     ]
    },
    {
     "name": "stdout",
     "output_type": "stream",
     "text": [
      "Model has not improved in -------------| 27 epochs\n"
     ]
    },
    {
     "name": "stderr",
     "output_type": "stream",
     "text": [
      "    epoch          : 181\n",
      "    loss           : 0.39445766978538954\n",
      "    my_metric      : 0.7933784965034966\n",
      "    f1             : 0.7879492790505415\n",
      "    balanced_accuracy: 0.7681599810565564\n",
      "    precision      : 0.8068136120975322\n",
      "    recall         : 0.7933784965034966\n",
      "    val_loss       : 0.336931386590004\n",
      "    val_my_metric  : 0.8240178571428572\n",
      "    val_f1         : 0.8191119797980999\n",
      "    val_balanced_accuracy: 0.7908291439743054\n",
      "    val_precision  : 0.8251665033280966\n",
      "    val_recall     : 0.8240178571428572\n"
     ]
    },
    {
     "name": "stdout",
     "output_type": "stream",
     "text": [
      "Model has not improved in -------------| 28 epochs\n"
     ]
    },
    {
     "name": "stderr",
     "output_type": "stream",
     "text": [
      "    epoch          : 182\n",
      "    loss           : 0.3892919604594891\n",
      "    my_metric      : 0.8061953671328671\n",
      "    f1             : 0.800696120621025\n",
      "    balanced_accuracy: 0.7843628302871346\n",
      "    precision      : 0.8171862171804286\n",
      "    recall         : 0.8061953671328671\n",
      "    val_loss       : 0.34057648181915284\n",
      "    val_my_metric  : 0.8532142857142857\n",
      "    val_f1         : 0.8502050085155581\n",
      "    val_balanced_accuracy: 0.831916217197735\n",
      "    val_precision  : 0.8563459648394242\n",
      "    val_recall     : 0.8532142857142857\n"
     ]
    },
    {
     "name": "stdout",
     "output_type": "stream",
     "text": [
      "Model has not improved in -------------| 29 epochs\n"
     ]
    },
    {
     "name": "stderr",
     "output_type": "stream",
     "text": [
      "    epoch          : 183\n",
      "    loss           : 0.3823103835949531\n",
      "    my_metric      : 0.7975961538461539\n",
      "    f1             : 0.7921766170938273\n",
      "    balanced_accuracy: 0.7729432877174466\n",
      "    precision      : 0.8056412588706253\n",
      "    recall         : 0.7975961538461539\n",
      "    val_loss       : 0.34865390658378603\n",
      "    val_my_metric  : 0.8385714285714286\n",
      "    val_f1         : 0.8329892406250821\n",
      "    val_balanced_accuracy: 0.8112670092061748\n",
      "    val_precision  : 0.8480617865154197\n",
      "    val_recall     : 0.8385714285714286\n"
     ]
    },
    {
     "name": "stdout",
     "output_type": "stream",
     "text": [
      "Model has not improved in -------------| 30 epochs\n"
     ]
    },
    {
     "name": "stderr",
     "output_type": "stream",
     "text": [
      "    epoch          : 184\n",
      "    loss           : 0.39592744410037994\n",
      "    my_metric      : 0.8106097027972028\n",
      "    f1             : 0.8046060649501214\n",
      "    balanced_accuracy: 0.7855017131839095\n",
      "    precision      : 0.8195011464657314\n",
      "    recall         : 0.8106097027972028\n",
      "    val_loss       : 0.38398088812828063\n",
      "    val_my_metric  : 0.8292857142857143\n",
      "    val_f1         : 0.827831640919866\n",
      "    val_balanced_accuracy: 0.8102791285745562\n",
      "    val_precision  : 0.8310535836817202\n",
      "    val_recall     : 0.8292857142857143\n"
     ]
    },
    {
     "name": "stdout",
     "output_type": "stream",
     "text": [
      "Model has not improved in -------------| 31 epochs\n"
     ]
    },
    {
     "name": "stderr",
     "output_type": "stream",
     "text": [
      "    epoch          : 185\n",
      "    loss           : 0.38683008746458936\n",
      "    my_metric      : 0.8019995629370629\n",
      "    f1             : 0.7973874321485177\n",
      "    balanced_accuracy: 0.7799028843608564\n",
      "    precision      : 0.8099834511492569\n",
      "    recall         : 0.8019995629370629\n",
      "    val_loss       : 0.3221412539482117\n",
      "    val_my_metric  : 0.8412499999999999\n",
      "    val_f1         : 0.838683753794365\n",
      "    val_balanced_accuracy: 0.8121897685647685\n",
      "    val_precision  : 0.8425970645008029\n",
      "    val_recall     : 0.8412499999999999\n"
     ]
    },
    {
     "name": "stdout",
     "output_type": "stream",
     "text": [
      "Model has not improved in -------------| 32 epochs\n"
     ]
    },
    {
     "name": "stderr",
     "output_type": "stream",
     "text": [
      "    epoch          : 186\n",
      "    loss           : 0.39626777745210207\n",
      "    my_metric      : 0.8009069055944056\n",
      "    f1             : 0.7949099149597861\n",
      "    balanced_accuracy: 0.775603286584148\n",
      "    precision      : 0.8092999737400388\n",
      "    recall         : 0.8009069055944056\n",
      "    val_loss       : 0.31405122578144073\n",
      "    val_my_metric  : 0.8453571428571429\n",
      "    val_f1         : 0.8399356966143839\n",
      "    val_balanced_accuracy: 0.8161524031524031\n",
      "    val_precision  : 0.8510805387328564\n",
      "    val_recall     : 0.8453571428571429\n",
      "Saving checkpoint: ../saved/IMPRS_hdf5_volume_AllDAPI_noise/0710_173648/checkpoint-epoch186.pth ...\n",
      "Saving current best: model_best.pth ...\n",
      "    epoch          : 187\n",
      "    loss           : 0.3832103174466353\n",
      "    my_metric      : 0.8106097027972028\n",
      "    f1             : 0.8051155067848553\n",
      "    balanced_accuracy: 0.7856834240650467\n",
      "    precision      : 0.8199677362431144\n",
      "    recall         : 0.8106097027972028\n",
      "    val_loss       : 0.3584634065628052\n",
      "    val_my_metric  : 0.8256249999999999\n",
      "    val_f1         : 0.8187926238111516\n",
      "    val_balanced_accuracy: 0.7922175561736859\n",
      "    val_precision  : 0.8363506818189826\n",
      "    val_recall     : 0.8256249999999999\n"
     ]
    },
    {
     "name": "stdout",
     "output_type": "stream",
     "text": [
      "Model has not improved in -------------| 1 epochs\n"
     ]
    },
    {
     "name": "stderr",
     "output_type": "stream",
     "text": [
      "    epoch          : 188\n",
      "    loss           : 0.3854477944282385\n",
      "    my_metric      : 0.8066105769230769\n",
      "    f1             : 0.8014122786832006\n",
      "    balanced_accuracy: 0.7831977814578698\n",
      "    precision      : 0.8166562218704322\n",
      "    recall         : 0.8066105769230769\n",
      "    val_loss       : 0.34973244071006776\n",
      "    val_my_metric  : 0.8292857142857143\n",
      "    val_f1         : 0.8248891124001148\n",
      "    val_balanced_accuracy: 0.7983532308532308\n",
      "    val_precision  : 0.8300177538174409\n",
      "    val_recall     : 0.8292857142857143\n"
     ]
    },
    {
     "name": "stdout",
     "output_type": "stream",
     "text": [
      "Model has not improved in -------------| 2 epochs\n"
     ]
    },
    {
     "name": "stderr",
     "output_type": "stream",
     "text": [
      "    epoch          : 189\n",
      "    loss           : 0.4005181984259532\n",
      "    my_metric      : 0.7956949300699301\n",
      "    f1             : 0.7895075375598529\n",
      "    balanced_accuracy: 0.7694832744519959\n",
      "    precision      : 0.804504159852418\n",
      "    recall         : 0.7956949300699301\n",
      "    val_loss       : 0.3319459050893784\n",
      "    val_my_metric  : 0.8344642857142857\n",
      "    val_f1         : 0.8311536201706977\n",
      "    val_balanced_accuracy: 0.8150532581453633\n",
      "    val_precision  : 0.8443247787205168\n",
      "    val_recall     : 0.8344642857142857\n"
     ]
    },
    {
     "name": "stdout",
     "output_type": "stream",
     "text": [
      "Model has not improved in -------------| 3 epochs\n"
     ]
    },
    {
     "name": "stderr",
     "output_type": "stream",
     "text": [
      "    epoch          : 190\n",
      "    loss           : 0.401079922914505\n",
      "    my_metric      : 0.8025021853146852\n",
      "    f1             : 0.7979904495788523\n",
      "    balanced_accuracy: 0.7788818492050644\n",
      "    precision      : 0.8101856292743244\n",
      "    recall         : 0.8025021853146852\n",
      "    val_loss       : 0.32305262684822084\n",
      "    val_my_metric  : 0.8458928571428572\n",
      "    val_f1         : 0.8436636930796484\n",
      "    val_balanced_accuracy: 0.8273416690789036\n",
      "    val_precision  : 0.8525558038685925\n",
      "    val_recall     : 0.8458928571428572\n"
     ]
    },
    {
     "name": "stdout",
     "output_type": "stream",
     "text": [
      "Model has not improved in -------------| 4 epochs\n"
     ]
    },
    {
     "name": "stderr",
     "output_type": "stream",
     "text": [
      "    epoch          : 191\n",
      "    loss           : 0.39759628703961003\n",
      "    my_metric      : 0.8031140734265735\n",
      "    f1             : 0.7966018797259188\n",
      "    balanced_accuracy: 0.7781937679223865\n",
      "    precision      : 0.8164396833203207\n",
      "    recall         : 0.8031140734265735\n",
      "    val_loss       : 0.34731083512306216\n",
      "    val_my_metric  : 0.848482142857143\n",
      "    val_f1         : 0.8449842283736361\n",
      "    val_balanced_accuracy: 0.8222172352172352\n",
      "    val_precision  : 0.8523249606821567\n",
      "    val_recall     : 0.848482142857143\n"
     ]
    },
    {
     "name": "stdout",
     "output_type": "stream",
     "text": [
      "Model has not improved in -------------| 5 epochs\n"
     ]
    },
    {
     "name": "stderr",
     "output_type": "stream",
     "text": [
      "    epoch          : 192\n",
      "    loss           : 0.3844779454744779\n",
      "    my_metric      : 0.8117132867132868\n",
      "    f1             : 0.8061522012826452\n",
      "    balanced_accuracy: 0.7879314830549975\n",
      "    precision      : 0.8209916019850377\n",
      "    recall         : 0.8117132867132868\n",
      "    val_loss       : 0.3230219900608063\n",
      "    val_my_metric  : 0.8657142857142857\n",
      "    val_f1         : 0.8645130032753949\n",
      "    val_balanced_accuracy: 0.8515876455965756\n",
      "    val_precision  : 0.8686830100489067\n",
      "    val_recall     : 0.8657142857142857\n"
     ]
    },
    {
     "name": "stdout",
     "output_type": "stream",
     "text": [
      "Model has not improved in -------------| 6 epochs\n"
     ]
    },
    {
     "name": "stderr",
     "output_type": "stream",
     "text": [
      "    epoch          : 193\n",
      "    loss           : 0.391196893957945\n",
      "    my_metric      : 0.8000983391608391\n",
      "    f1             : 0.7951311022793006\n",
      "    balanced_accuracy: 0.7756663868504948\n",
      "    precision      : 0.8093095726792462\n",
      "    recall         : 0.8000983391608391\n",
      "    val_loss       : 0.3517984837293625\n",
      "    val_my_metric  : 0.8391071428571429\n",
      "    val_f1         : 0.8395440876404303\n",
      "    val_balanced_accuracy: 0.829625378328152\n",
      "    val_precision  : 0.8412713941022764\n",
      "    val_recall     : 0.8391071428571429\n"
     ]
    },
    {
     "name": "stdout",
     "output_type": "stream",
     "text": [
      "Model has not improved in -------------| 7 epochs\n"
     ]
    },
    {
     "name": "stderr",
     "output_type": "stream",
     "text": [
      "    epoch          : 194\n",
      "    loss           : 0.379798877124603\n",
      "    my_metric      : 0.8059986888111889\n",
      "    f1             : 0.8007001898415237\n",
      "    balanced_accuracy: 0.7824706184885145\n",
      "    precision      : 0.8157126523478629\n",
      "    recall         : 0.8059986888111889\n",
      "    val_loss       : 0.35105312466621397\n",
      "    val_my_metric  : 0.8308035714285713\n",
      "    val_f1         : 0.8264226500613354\n",
      "    val_balanced_accuracy: 0.8046648290973183\n",
      "    val_precision  : 0.8295525668989017\n",
      "    val_recall     : 0.8308035714285713\n"
     ]
    },
    {
     "name": "stdout",
     "output_type": "stream",
     "text": [
      "Model has not improved in -------------| 8 epochs\n"
     ]
    },
    {
     "name": "stderr",
     "output_type": "stream",
     "text": [
      "    epoch          : 195\n",
      "    loss           : 0.39066122701534856\n",
      "    my_metric      : 0.8048076923076923\n",
      "    f1             : 0.8010902734903703\n",
      "    balanced_accuracy: 0.7837240347143475\n",
      "    precision      : 0.8154296522528385\n",
      "    recall         : 0.8048076923076923\n",
      "    val_loss       : 0.34046278297901156\n",
      "    val_my_metric  : 0.8151785714285713\n",
      "    val_f1         : 0.8111550791778612\n",
      "    val_balanced_accuracy: 0.7924575075589274\n",
      "    val_precision  : 0.8246268159033667\n",
      "    val_recall     : 0.8151785714285713\n"
     ]
    },
    {
     "name": "stdout",
     "output_type": "stream",
     "text": [
      "Model has not improved in -------------| 9 epochs\n"
     ]
    },
    {
     "name": "stderr",
     "output_type": "stream",
     "text": [
      "    epoch          : 196\n",
      "    loss           : 0.3961127962057407\n",
      "    my_metric      : 0.7942963286713287\n",
      "    f1             : 0.7886144748250058\n",
      "    balanced_accuracy: 0.7723647538965204\n",
      "    precision      : 0.8031118597841125\n",
      "    recall         : 0.7942963286713287\n",
      "    val_loss       : 0.3367444097995758\n",
      "    val_my_metric  : 0.8490178571428573\n",
      "    val_f1         : 0.8465352029306003\n",
      "    val_balanced_accuracy: 0.8309414074677918\n",
      "    val_precision  : 0.853655177966092\n",
      "    val_recall     : 0.8490178571428573\n"
     ]
    },
    {
     "name": "stdout",
     "output_type": "stream",
     "text": [
      "Model has not improved in -------------| 10 epochs\n"
     ]
    },
    {
     "name": "stderr",
     "output_type": "stream",
     "text": [
      "    epoch          : 197\n",
      "    loss           : 0.3788597537921025\n",
      "    my_metric      : 0.7967875874125874\n",
      "    f1             : 0.7911559073476161\n",
      "    balanced_accuracy: 0.7731997411726143\n",
      "    precision      : 0.805981561020495\n",
      "    recall         : 0.7967875874125874\n",
      "    val_loss       : 0.3653226435184479\n",
      "    val_my_metric  : 0.8058928571428572\n",
      "    val_f1         : 0.7978888568999449\n",
      "    val_balanced_accuracy: 0.776003787878788\n",
      "    val_precision  : 0.8158153918200503\n",
      "    val_recall     : 0.8058928571428572\n"
     ]
    },
    {
     "name": "stdout",
     "output_type": "stream",
     "text": [
      "Model has not improved in -------------| 11 epochs\n"
     ]
    },
    {
     "name": "stderr",
     "output_type": "stream",
     "text": [
      "    epoch          : 198\n",
      "    loss           : 0.39355354125683123\n",
      "    my_metric      : 0.806402972027972\n",
      "    f1             : 0.8008387024124741\n",
      "    balanced_accuracy: 0.7816617452821742\n",
      "    precision      : 0.816415666330286\n",
      "    recall         : 0.806402972027972\n",
      "    val_loss       : 0.35812702775001526\n",
      "    val_my_metric  : 0.8308035714285713\n",
      "    val_f1         : 0.8250913987475039\n",
      "    val_balanced_accuracy: 0.8017050202356837\n",
      "    val_precision  : 0.8475605865300159\n",
      "    val_recall     : 0.8308035714285713\n"
     ]
    },
    {
     "name": "stdout",
     "output_type": "stream",
     "text": [
      "Model has not improved in -------------| 12 epochs\n"
     ]
    },
    {
     "name": "stderr",
     "output_type": "stream",
     "text": [
      "    epoch          : 199\n",
      "    loss           : 0.3989016253214616\n",
      "    my_metric      : 0.7927884615384616\n",
      "    f1             : 0.7878553242063367\n",
      "    balanced_accuracy: 0.7688427046890276\n",
      "    precision      : 0.8006400455205048\n",
      "    recall         : 0.7927884615384616\n",
      "    val_loss       : 0.3498123049736023\n",
      "    val_my_metric  : 0.8157142857142856\n",
      "    val_f1         : 0.8072844415936521\n",
      "    val_balanced_accuracy: 0.7796623718638876\n",
      "    val_precision  : 0.8207752946885373\n",
      "    val_recall     : 0.8157142857142856\n"
     ]
    },
    {
     "name": "stdout",
     "output_type": "stream",
     "text": [
      "Model has not improved in -------------| 13 epochs\n"
     ]
    },
    {
     "name": "stderr",
     "output_type": "stream",
     "text": [
      "    epoch          : 200\n",
      "    loss           : 0.3981260107113765\n",
      "    my_metric      : 0.8030048076923078\n",
      "    f1             : 0.7973997505739603\n",
      "    balanced_accuracy: 0.7777207299220653\n",
      "    precision      : 0.8110278008566755\n",
      "    recall         : 0.8030048076923078\n",
      "    val_loss       : 0.3478455513715744\n",
      "    val_my_metric  : 0.8365178571428572\n",
      "    val_f1         : 0.834289610424101\n",
      "    val_balanced_accuracy: 0.8158105829499018\n",
      "    val_precision  : 0.8353931295922443\n",
      "    val_recall     : 0.8365178571428572\n",
      "Saving checkpoint: ../saved/IMPRS_hdf5_volume_AllDAPI_noise/0710_173648/checkpoint-epoch200.pth ...\n"
     ]
    },
    {
     "name": "stdout",
     "output_type": "stream",
     "text": [
      "Model has not improved in -------------| 14 epochs\n"
     ]
    },
    {
     "name": "stderr",
     "output_type": "stream",
     "text": [
      "    epoch          : 201\n",
      "    loss           : 0.389983227619758\n",
      "    my_metric      : 0.8053103146853147\n",
      "    f1             : 0.8005085349181165\n",
      "    balanced_accuracy: 0.7824309595524487\n",
      "    precision      : 0.8138888588480673\n",
      "    recall         : 0.8053103146853147\n",
      "    val_loss       : 0.3347680360078812\n",
      "    val_my_metric  : 0.8380357142857143\n",
      "    val_f1         : 0.8338499765433094\n",
      "    val_balanced_accuracy: 0.8139072434781536\n",
      "    val_precision  : 0.8585705988382186\n",
      "    val_recall     : 0.8380357142857143\n"
     ]
    },
    {
     "name": "stdout",
     "output_type": "stream",
     "text": [
      "Model has not improved in -------------| 15 epochs\n"
     ]
    },
    {
     "name": "stderr",
     "output_type": "stream",
     "text": [
      "    epoch          : 202\n",
      "    loss           : 0.38065734047156113\n",
      "    my_metric      : 0.8083041958041958\n",
      "    f1             : 0.8035798486838337\n",
      "    balanced_accuracy: 0.784735953752999\n",
      "    precision      : 0.8169421819212043\n",
      "    recall         : 0.8083041958041958\n",
      "    val_loss       : 0.34989959597587583\n",
      "    val_my_metric  : 0.8318749999999999\n",
      "    val_f1         : 0.8278536773002745\n",
      "    val_balanced_accuracy: 0.8004473343043532\n",
      "    val_precision  : 0.830668210050559\n",
      "    val_recall     : 0.8318749999999999\n"
     ]
    },
    {
     "name": "stdout",
     "output_type": "stream",
     "text": [
      "Model has not improved in -------------| 16 epochs\n"
     ]
    },
    {
     "name": "stderr",
     "output_type": "stream",
     "text": [
      "    epoch          : 203\n",
      "    loss           : 0.3761903918706454\n",
      "    my_metric      : 0.8099104020979021\n",
      "    f1             : 0.8052798308368737\n",
      "    balanced_accuracy: 0.7876839885367725\n",
      "    precision      : 0.8194330487417816\n",
      "    recall         : 0.8099104020979021\n",
      "    val_loss       : 0.3528312236070633\n",
      "    val_my_metric  : 0.8162499999999999\n",
      "    val_f1         : 0.8110892214037081\n",
      "    val_balanced_accuracy: 0.7848783395295024\n",
      "    val_precision  : 0.8200213460361032\n",
      "    val_recall     : 0.8162499999999999\n"
     ]
    },
    {
     "name": "stdout",
     "output_type": "stream",
     "text": [
      "Model has not improved in -------------| 17 epochs\n"
     ]
    },
    {
     "name": "stderr",
     "output_type": "stream",
     "text": [
      "    epoch          : 204\n",
      "    loss           : 0.39390068558546215\n",
      "    my_metric      : 0.7934003496503497\n",
      "    f1             : 0.7875324066692679\n",
      "    balanced_accuracy: 0.769377112581152\n",
      "    precision      : 0.8029018798675571\n",
      "    recall         : 0.7934003496503497\n",
      "    val_loss       : 0.3286518186330795\n",
      "    val_my_metric  : 0.8359821428571429\n",
      "    val_f1         : 0.8316905464759511\n",
      "    val_balanced_accuracy: 0.8081185335132703\n",
      "    val_precision  : 0.8380834600139002\n",
      "    val_recall     : 0.8359821428571429\n"
     ]
    },
    {
     "name": "stdout",
     "output_type": "stream",
     "text": [
      "Model has not improved in -------------| 18 epochs\n"
     ]
    },
    {
     "name": "stderr",
     "output_type": "stream",
     "text": [
      "    epoch          : 205\n",
      "    loss           : 0.3812038806768564\n",
      "    my_metric      : 0.8115056818181817\n",
      "    f1             : 0.8064582035819298\n",
      "    balanced_accuracy: 0.7884804101643709\n",
      "    precision      : 0.8210945515936655\n",
      "    recall         : 0.8115056818181817\n",
      "    val_loss       : 0.3635337889194489\n",
      "    val_my_metric  : 0.8344642857142857\n",
      "    val_f1         : 0.832072653654485\n",
      "    val_balanced_accuracy: 0.8114508177869789\n",
      "    val_precision  : 0.8361769882056201\n",
      "    val_recall     : 0.8344642857142857\n"
     ]
    },
    {
     "name": "stdout",
     "output_type": "stream",
     "text": [
      "Model has not improved in -------------| 19 epochs\n"
     ]
    },
    {
     "name": "stderr",
     "output_type": "stream",
     "text": [
      "    epoch          : 206\n",
      "    loss           : 0.38622602820396423\n",
      "    my_metric      : 0.7992023601398602\n",
      "    f1             : 0.7941113550676633\n",
      "    balanced_accuracy: 0.7721011481937421\n",
      "    precision      : 0.8058776564808201\n",
      "    recall         : 0.7992023601398602\n",
      "    val_loss       : 0.3354750782251358\n",
      "    val_my_metric  : 0.8391071428571429\n",
      "    val_f1         : 0.8359354265557837\n",
      "    val_balanced_accuracy: 0.814996702004796\n",
      "    val_precision  : 0.8481193497036585\n",
      "    val_recall     : 0.8391071428571429\n"
     ]
    },
    {
     "name": "stdout",
     "output_type": "stream",
     "text": [
      "Model has not improved in -------------| 20 epochs\n"
     ]
    },
    {
     "name": "stderr",
     "output_type": "stream",
     "text": [
      "    epoch          : 207\n",
      "    loss           : 0.39376425169981444\n",
      "    my_metric      : 0.8046110139860141\n",
      "    f1             : 0.7997213622546285\n",
      "    balanced_accuracy: 0.7837054621286298\n",
      "    precision      : 0.8138776759622706\n",
      "    recall         : 0.8046110139860141\n",
      "    val_loss       : 0.35549221038818357\n",
      "    val_my_metric  : 0.8433035714285714\n",
      "    val_f1         : 0.8411459818481972\n",
      "    val_balanced_accuracy: 0.8273064495890583\n",
      "    val_precision  : 0.8501458024796842\n",
      "    val_recall     : 0.8433035714285714\n"
     ]
    },
    {
     "name": "stdout",
     "output_type": "stream",
     "text": [
      "Model has not improved in -------------| 21 epochs\n"
     ]
    },
    {
     "name": "stderr",
     "output_type": "stream",
     "text": [
      "    epoch          : 208\n",
      "    loss           : 0.3921481233376723\n",
      "    my_metric      : 0.8027097902097903\n",
      "    f1             : 0.7971843997985817\n",
      "    balanced_accuracy: 0.7777026153721022\n",
      "    precision      : 0.8088078168650139\n",
      "    recall         : 0.8027097902097903\n",
      "    val_loss       : 0.3473099946975708\n",
      "    val_my_metric  : 0.8635714285714287\n",
      "    val_f1         : 0.8606039812712872\n",
      "    val_balanced_accuracy: 0.8392222329337917\n",
      "    val_precision  : 0.8681759439056899\n",
      "    val_recall     : 0.8635714285714287\n"
     ]
    },
    {
     "name": "stdout",
     "output_type": "stream",
     "text": [
      "Model has not improved in -------------| 22 epochs\n"
     ]
    },
    {
     "name": "stderr",
     "output_type": "stream",
     "text": [
      "    epoch          : 209\n",
      "    loss           : 0.4057419913319441\n",
      "    my_metric      : 0.7936953671328671\n",
      "    f1             : 0.7886671189019814\n",
      "    balanced_accuracy: 0.7730335658335915\n",
      "    precision      : 0.8071971255805118\n",
      "    recall         : 0.7936953671328671\n",
      "    val_loss       : 0.325296151638031\n",
      "    val_my_metric  : 0.8313392857142856\n",
      "    val_f1         : 0.8268597448831938\n",
      "    val_balanced_accuracy: 0.8049416443309741\n",
      "    val_precision  : 0.8390568158809387\n",
      "    val_recall     : 0.8313392857142856\n"
     ]
    },
    {
     "name": "stdout",
     "output_type": "stream",
     "text": [
      "Model has not improved in -------------| 23 epochs\n"
     ]
    },
    {
     "name": "stderr",
     "output_type": "stream",
     "text": [
      "    epoch          : 210\n",
      "    loss           : 0.4009205229007281\n",
      "    my_metric      : 0.7969951923076923\n",
      "    f1             : 0.7919966918953715\n",
      "    balanced_accuracy: 0.7724528689134131\n",
      "    precision      : 0.8038867462094385\n",
      "    recall         : 0.7969951923076923\n",
      "    val_loss       : 0.3711236357688904\n",
      "    val_my_metric  : 0.8074107142857143\n",
      "    val_f1         : 0.8052205916127042\n",
      "    val_balanced_accuracy: 0.7930605569863881\n",
      "    val_precision  : 0.8168793844825493\n",
      "    val_recall     : 0.8074107142857143\n"
     ]
    },
    {
     "name": "stdout",
     "output_type": "stream",
     "text": [
      "Model has not improved in -------------| 24 epochs\n"
     ]
    },
    {
     "name": "stderr",
     "output_type": "stream",
     "text": [
      "    epoch          : 211\n",
      "    loss           : 0.39275150344921994\n",
      "    my_metric      : 0.8042067307692308\n",
      "    f1             : 0.7996049760672174\n",
      "    balanced_accuracy: 0.7844033050848359\n",
      "    precision      : 0.817201062332551\n",
      "    recall         : 0.8042067307692308\n",
      "    val_loss       : 0.3359979778528214\n",
      "    val_my_metric  : 0.8365178571428572\n",
      "    val_f1         : 0.8345301220083587\n",
      "    val_balanced_accuracy: 0.8154325395424182\n",
      "    val_precision  : 0.8389670244437866\n",
      "    val_recall     : 0.8365178571428572\n"
     ]
    },
    {
     "name": "stdout",
     "output_type": "stream",
     "text": [
      "Model has not improved in -------------| 25 epochs\n"
     ]
    },
    {
     "name": "stderr",
     "output_type": "stream",
     "text": [
      "    epoch          : 212\n",
      "    loss           : 0.3868901775433467\n",
      "    my_metric      : 0.8116149475524476\n",
      "    f1             : 0.8069532122375098\n",
      "    balanced_accuracy: 0.7881087331270143\n",
      "    precision      : 0.8206210296293777\n",
      "    recall         : 0.8116149475524476\n",
      "    val_loss       : 0.3424829959869385\n",
      "    val_my_metric  : 0.8339285714285714\n",
      "    val_f1         : 0.8321916444622047\n",
      "    val_balanced_accuracy: 0.8148922637559256\n",
      "    val_precision  : 0.8390452464202465\n",
      "    val_recall     : 0.8339285714285714\n"
     ]
    },
    {
     "name": "stdout",
     "output_type": "stream",
     "text": [
      "Model has not improved in -------------| 26 epochs\n"
     ]
    },
    {
     "name": "stderr",
     "output_type": "stream",
     "text": [
      "    epoch          : 213\n",
      "    loss           : 0.38822313340810627\n",
      "    my_metric      : 0.8120192307692308\n",
      "    f1             : 0.807865135583657\n",
      "    balanced_accuracy: 0.7894891997535844\n",
      "    precision      : 0.8189158938486603\n",
      "    recall         : 0.8120192307692308\n",
      "    val_loss       : 0.32647801041603086\n",
      "    val_my_metric  : 0.8500892857142857\n",
      "    val_f1         : 0.847320220903967\n",
      "    val_balanced_accuracy: 0.8238816249709762\n",
      "    val_precision  : 0.8499074819780468\n",
      "    val_recall     : 0.8500892857142857\n"
     ]
    },
    {
     "name": "stdout",
     "output_type": "stream",
     "text": [
      "Model has not improved in -------------| 27 epochs\n"
     ]
    },
    {
     "name": "stderr",
     "output_type": "stream",
     "text": [
      "    epoch          : 214\n",
      "    loss           : 0.3903101109541379\n",
      "    my_metric      : 0.8154173951048951\n",
      "    f1             : 0.8112949518611549\n",
      "    balanced_accuracy: 0.7937474033941103\n",
      "    precision      : 0.818936413518621\n",
      "    recall         : 0.8154173951048951\n",
      "    val_loss       : 0.3395858407020569\n",
      "    val_my_metric  : 0.8474999999999999\n",
      "    val_f1         : 0.8392485119047619\n",
      "    val_balanced_accuracy: 0.802695726915422\n",
      "    val_precision  : 0.8513133356856672\n",
      "    val_recall     : 0.8474999999999999\n"
     ]
    },
    {
     "name": "stdout",
     "output_type": "stream",
     "text": [
      "Model has not improved in -------------| 28 epochs\n"
     ]
    },
    {
     "name": "stderr",
     "output_type": "stream",
     "text": [
      "    epoch          : 215\n",
      "    loss           : 0.3798459699520698\n",
      "    my_metric      : 0.806708916083916\n",
      "    f1             : 0.8020237962427732\n",
      "    balanced_accuracy: 0.783347538964754\n",
      "    precision      : 0.8156926813141727\n",
      "    recall         : 0.806708916083916\n",
      "    val_loss       : 0.32977314889431\n",
      "    val_my_metric  : 0.864107142857143\n",
      "    val_f1         : 0.8619659696938793\n",
      "    val_balanced_accuracy: 0.8430098226238204\n",
      "    val_precision  : 0.868585641843943\n",
      "    val_recall     : 0.864107142857143\n"
     ]
    },
    {
     "name": "stdout",
     "output_type": "stream",
     "text": [
      "Model has not improved in -------------| 29 epochs\n"
     ]
    },
    {
     "name": "stderr",
     "output_type": "stream",
     "text": [
      "    epoch          : 216\n",
      "    loss           : 0.3768881800083014\n",
      "    my_metric      : 0.8073098776223776\n",
      "    f1             : 0.8014033686034371\n",
      "    balanced_accuracy: 0.7788951689824329\n",
      "    precision      : 0.813747614477614\n",
      "    recall         : 0.8073098776223776\n",
      "    val_loss       : 0.3330158919095993\n",
      "    val_my_metric  : 0.846875\n",
      "    val_f1         : 0.8430369359757657\n",
      "    val_balanced_accuracy: 0.8270638330638331\n",
      "    val_precision  : 0.8481370195966755\n",
      "    val_recall     : 0.846875\n"
     ]
    },
    {
     "name": "stdout",
     "output_type": "stream",
     "text": [
      "Model has not improved in -------------| 30 epochs\n"
     ]
    },
    {
     "name": "stderr",
     "output_type": "stream",
     "text": [
      "    epoch          : 217\n",
      "    loss           : 0.39004755134765917\n",
      "    my_metric      : 0.8133194930069929\n",
      "    f1             : 0.8086421132990348\n",
      "    balanced_accuracy: 0.7890925561734922\n",
      "    precision      : 0.8208644891184628\n",
      "    recall         : 0.8133194930069929\n",
      "    val_loss       : 0.321332710981369\n",
      "    val_my_metric  : 0.8609821428571429\n",
      "    val_f1         : 0.8600281219017158\n",
      "    val_balanced_accuracy: 0.8502730359954643\n",
      "    val_precision  : 0.8679601750999026\n",
      "    val_recall     : 0.8609821428571429\n"
     ]
    },
    {
     "name": "stdout",
     "output_type": "stream",
     "text": [
      "Model has not improved in -------------| 31 epochs\n"
     ]
    },
    {
     "name": "stderr",
     "output_type": "stream",
     "text": [
      "    epoch          : 218\n",
      "    loss           : 0.3832107335329056\n",
      "    my_metric      : 0.8131228146853147\n",
      "    f1             : 0.8078764077067433\n",
      "    balanced_accuracy: 0.7885199419720934\n",
      "    precision      : 0.8238004414389068\n",
      "    recall         : 0.8131228146853147\n",
      "    val_loss       : 0.3365107119083405\n",
      "    val_my_metric  : 0.8464285714285713\n",
      "    val_f1         : 0.8426815592992064\n",
      "    val_balanced_accuracy: 0.8260249756125116\n",
      "    val_precision  : 0.8561070304838182\n",
      "    val_recall     : 0.8464285714285713\n"
     ]
    },
    {
     "name": "stdout",
     "output_type": "stream",
     "text": [
      "Model has not improved in -------------| 32 epochs\n"
     ]
    },
    {
     "name": "stderr",
     "output_type": "stream",
     "text": [
      "    epoch          : 219\n",
      "    loss           : 0.38514266163110733\n",
      "    my_metric      : 0.8058129370629371\n",
      "    f1             : 0.800394769445818\n",
      "    balanced_accuracy: 0.7794658338949021\n",
      "    precision      : 0.8128303307171577\n",
      "    recall         : 0.8058129370629371\n",
      "    val_loss       : 0.35439389646053315\n",
      "    val_my_metric  : 0.8412499999999999\n",
      "    val_f1         : 0.8372483111280786\n",
      "    val_balanced_accuracy: 0.8132437553794925\n",
      "    val_precision  : 0.8466225867080416\n",
      "    val_recall     : 0.8412499999999999\n"
     ]
    },
    {
     "name": "stdout",
     "output_type": "stream",
     "text": [
      "Model has not improved in -------------| 33 epochs\n"
     ]
    },
    {
     "name": "stderr",
     "output_type": "stream",
     "text": [
      "    epoch          : 220\n",
      "    loss           : 0.41690338345674366\n",
      "    my_metric      : 0.7853802447552448\n",
      "    f1             : 0.7794666250854323\n",
      "    balanced_accuracy: 0.7620615782948298\n",
      "    precision      : 0.7976602629992711\n",
      "    recall         : 0.7853802447552448\n",
      "    val_loss       : 0.3705302864313126\n",
      "    val_my_metric  : 0.8158035714285715\n",
      "    val_f1         : 0.8128503567801693\n",
      "    val_balanced_accuracy: 0.7922540599806883\n",
      "    val_precision  : 0.8147336721249765\n",
      "    val_recall     : 0.8158035714285715\n"
     ]
    },
    {
     "name": "stdout",
     "output_type": "stream",
     "text": [
      "Model has not improved in -------------| 34 epochs\n"
     ]
    },
    {
     "name": "stderr",
     "output_type": "stream",
     "text": [
      "    epoch          : 221\n",
      "    loss           : 0.3936242793615048\n",
      "    my_metric      : 0.7964051573426574\n",
      "    f1             : 0.7921728908297426\n",
      "    balanced_accuracy: 0.7762350920411587\n",
      "    precision      : 0.8063946634248098\n",
      "    recall         : 0.7964051573426574\n",
      "    val_loss       : 0.3486566603183746\n",
      "    val_my_metric  : 0.8339285714285714\n",
      "    val_f1         : 0.8295611825319973\n",
      "    val_balanced_accuracy: 0.8038638793127957\n",
      "    val_precision  : 0.8356857526854615\n",
      "    val_recall     : 0.8339285714285714\n"
     ]
    },
    {
     "name": "stdout",
     "output_type": "stream",
     "text": [
      "Model has not improved in -------------| 35 epochs\n"
     ]
    },
    {
     "name": "stderr",
     "output_type": "stream",
     "text": [
      "    epoch          : 222\n",
      "    loss           : 0.3873776203164688\n",
      "    my_metric      : 0.8031031468531468\n",
      "    f1             : 0.7980313884253394\n",
      "    balanced_accuracy: 0.7801121127070846\n",
      "    precision      : 0.8127091991433241\n",
      "    recall         : 0.8031031468531468\n",
      "    val_loss       : 0.3382974326610565\n",
      "    val_my_metric  : 0.8458928571428572\n",
      "    val_f1         : 0.8420002185886026\n",
      "    val_balanced_accuracy: 0.8219398214398215\n",
      "    val_precision  : 0.8499527564905854\n",
      "    val_recall     : 0.8458928571428572\n"
     ]
    },
    {
     "name": "stdout",
     "output_type": "stream",
     "text": [
      "Model has not improved in -------------| 36 epochs\n"
     ]
    },
    {
     "name": "stderr",
     "output_type": "stream",
     "text": [
      "    epoch          : 223\n",
      "    loss           : 0.3927024190242474\n",
      "    my_metric      : 0.8035074300699301\n",
      "    f1             : 0.7974950235626811\n",
      "    balanced_accuracy: 0.778210903834051\n",
      "    precision      : 0.8125083075719151\n",
      "    recall         : 0.8035074300699301\n",
      "    val_loss       : 0.3371408462524414\n",
      "    val_my_metric  : 0.8547321428571429\n",
      "    val_f1         : 0.8506129794864379\n",
      "    val_balanced_accuracy: 0.8228306897593184\n",
      "    val_precision  : 0.8616896146799009\n",
      "    val_recall     : 0.8547321428571429\n"
     ]
    },
    {
     "name": "stdout",
     "output_type": "stream",
     "text": [
      "Model has not improved in -------------| 37 epochs\n"
     ]
    },
    {
     "name": "stderr",
     "output_type": "stream",
     "text": [
      "    epoch          : 224\n",
      "    loss           : 0.3894304850926766\n",
      "    my_metric      : 0.8011909965034966\n",
      "    f1             : 0.796167736229675\n",
      "    balanced_accuracy: 0.7801281185499913\n",
      "    precision      : 0.8114711805801671\n",
      "    recall         : 0.8011909965034966\n",
      "    val_loss       : 0.34591622948646544\n",
      "    val_my_metric  : 0.8240178571428572\n",
      "    val_f1         : 0.8207732479868216\n",
      "    val_balanced_accuracy: 0.7999987374312264\n",
      "    val_precision  : 0.8241559075313235\n",
      "    val_recall     : 0.8240178571428572\n"
     ]
    },
    {
     "name": "stdout",
     "output_type": "stream",
     "text": [
      "Model has not improved in -------------| 38 epochs\n"
     ]
    },
    {
     "name": "stderr",
     "output_type": "stream",
     "text": [
      "    epoch          : 225\n",
      "    loss           : 0.38693345624666947\n",
      "    my_metric      : 0.8061079545454545\n",
      "    f1             : 0.8014934768512378\n",
      "    balanced_accuracy: 0.784661562257752\n",
      "    precision      : 0.8170397599249853\n",
      "    recall         : 0.8061079545454545\n",
      "    val_loss       : 0.3350862503051758\n",
      "    val_my_metric  : 0.8401785714285713\n",
      "    val_f1         : 0.8332185828606395\n",
      "    val_balanced_accuracy: 0.7889131004533553\n",
      "    val_precision  : 0.8458378059805153\n",
      "    val_recall     : 0.8401785714285713\n"
     ]
    },
    {
     "name": "stdout",
     "output_type": "stream",
     "text": [
      "Model has not improved in -------------| 39 epochs\n"
     ]
    },
    {
     "name": "stderr",
     "output_type": "stream",
     "text": [
      "    epoch          : 226\n",
      "    loss           : 0.3810027912259102\n",
      "    my_metric      : 0.8020104895104895\n",
      "    f1             : 0.7969100382308041\n",
      "    balanced_accuracy: 0.7775266275397781\n",
      "    precision      : 0.8080171073781417\n",
      "    recall         : 0.8020104895104895\n",
      "    val_loss       : 0.349739271402359\n",
      "    val_my_metric  : 0.8125892857142857\n",
      "    val_f1         : 0.8088466379946595\n",
      "    val_balanced_accuracy: 0.789679530828049\n",
      "    val_precision  : 0.8197706238074123\n",
      "    val_recall     : 0.8125892857142857\n"
     ]
    },
    {
     "name": "stdout",
     "output_type": "stream",
     "text": [
      "Model has not improved in -------------| 40 epochs\n"
     ]
    },
    {
     "name": "stderr",
     "output_type": "stream",
     "text": [
      "    epoch          : 227\n",
      "    loss           : 0.39926534776504224\n",
      "    my_metric      : 0.7945913461538462\n",
      "    f1             : 0.7896173026515705\n",
      "    balanced_accuracy: 0.7735331000134452\n",
      "    precision      : 0.8067628604815075\n",
      "    recall         : 0.7945913461538462\n",
      "    val_loss       : 0.3334943354129791\n",
      "    val_my_metric  : 0.8333928571428573\n",
      "    val_f1         : 0.8284614096350922\n",
      "    val_balanced_accuracy: 0.8031450886190215\n",
      "    val_precision  : 0.834801125279354\n",
      "    val_recall     : 0.8333928571428573\n"
     ]
    },
    {
     "name": "stdout",
     "output_type": "stream",
     "text": [
      "Model has not improved in -------------| 41 epochs\n"
     ]
    },
    {
     "name": "stderr",
     "output_type": "stream",
     "text": [
      "    epoch          : 228\n",
      "    loss           : 0.39147580243073976\n",
      "    my_metric      : 0.7976070804195804\n",
      "    f1             : 0.7924285710094268\n",
      "    balanced_accuracy: 0.7731212312356295\n",
      "    precision      : 0.8052838296855754\n",
      "    recall         : 0.7976070804195804\n",
      "    val_loss       : 0.3277801930904388\n",
      "    val_my_metric  : 0.8401785714285713\n",
      "    val_f1         : 0.8352518863503088\n",
      "    val_balanced_accuracy: 0.8040315496614309\n",
      "    val_precision  : 0.8467169756261057\n",
      "    val_recall     : 0.8401785714285713\n"
     ]
    },
    {
     "name": "stdout",
     "output_type": "stream",
     "text": [
      "Model has not improved in -------------| 42 epochs\n"
     ]
    },
    {
     "name": "stderr",
     "output_type": "stream",
     "text": [
      "    epoch          : 229\n",
      "    loss           : 0.39766913996292996\n",
      "    my_metric      : 0.8006009615384616\n",
      "    f1             : 0.7947167814967646\n",
      "    balanced_accuracy: 0.7766972063616386\n",
      "    precision      : 0.8117414423991037\n",
      "    recall         : 0.8006009615384616\n",
      "    val_loss       : 0.32299565076828\n",
      "    val_my_metric  : 0.8729464285714286\n",
      "    val_f1         : 0.871324224937083\n",
      "    val_balanced_accuracy: 0.8533908664434982\n",
      "    val_precision  : 0.8736003130872794\n",
      "    val_recall     : 0.8729464285714286\n"
     ]
    },
    {
     "name": "stdout",
     "output_type": "stream",
     "text": [
      "Model has not improved in -------------| 43 epochs\n"
     ]
    },
    {
     "name": "stderr",
     "output_type": "stream",
     "text": [
      "    epoch          : 230\n",
      "    loss           : 0.38710612459824634\n",
      "    my_metric      : 0.7976070804195804\n",
      "    f1             : 0.7916137768542355\n",
      "    balanced_accuracy: 0.7713073064210665\n",
      "    precision      : 0.806998366057868\n",
      "    recall         : 0.7976070804195804\n",
      "    val_loss       : 0.3380295217037201\n",
      "    val_my_metric  : 0.8609821428571429\n",
      "    val_f1         : 0.858542043644092\n",
      "    val_balanced_accuracy: 0.8357834197834197\n",
      "    val_precision  : 0.8621633713435145\n",
      "    val_recall     : 0.8609821428571429\n"
     ]
    },
    {
     "name": "stdout",
     "output_type": "stream",
     "text": [
      "Model has not improved in -------------| 44 epochs\n"
     ]
    },
    {
     "name": "stderr",
     "output_type": "stream",
     "text": [
      "    epoch          : 231\n",
      "    loss           : 0.3874045427028949\n",
      "    my_metric      : 0.7907888986013987\n",
      "    f1             : 0.7841925443141686\n",
      "    balanced_accuracy: 0.7624979379334162\n",
      "    precision      : 0.7971903290763371\n",
      "    recall         : 0.7907888986013987\n",
      "    val_loss       : 0.3572287350893021\n",
      "    val_my_metric  : 0.8292857142857143\n",
      "    val_f1         : 0.8266456088912172\n",
      "    val_balanced_accuracy: 0.8045875601080297\n",
      "    val_precision  : 0.8323742275736056\n",
      "    val_recall     : 0.8292857142857143\n"
     ]
    },
    {
     "name": "stdout",
     "output_type": "stream",
     "text": [
      "Model has not improved in -------------| 45 epochs\n"
     ]
    },
    {
     "name": "stderr",
     "output_type": "stream",
     "text": [
      "    epoch          : 232\n",
      "    loss           : 0.3839701689206637\n",
      "    my_metric      : 0.8071131993006992\n",
      "    f1             : 0.8025826195107288\n",
      "    balanced_accuracy: 0.7843568848350337\n",
      "    precision      : 0.8149524829502751\n",
      "    recall         : 0.8071131993006992\n",
      "    val_loss       : 0.34665235280990603\n",
      "    val_my_metric  : 0.8256249999999999\n",
      "    val_f1         : 0.822310563127834\n",
      "    val_balanced_accuracy: 0.7957057304660698\n",
      "    val_precision  : 0.8337115799252427\n",
      "    val_recall     : 0.8256249999999999\n"
     ]
    },
    {
     "name": "stdout",
     "output_type": "stream",
     "text": [
      "Model has not improved in -------------| 46 epochs\n"
     ]
    },
    {
     "name": "stderr",
     "output_type": "stream",
     "text": [
      "    epoch          : 233\n",
      "    loss           : 0.39277736154886395\n",
      "    my_metric      : 0.8030048076923078\n",
      "    f1             : 0.7975599962952106\n",
      "    balanced_accuracy: 0.7783205190990301\n",
      "    precision      : 0.8118321130338765\n",
      "    recall         : 0.8030048076923078\n",
      "    val_loss       : 0.34181334972381594\n",
      "    val_my_metric  : 0.8230357142857143\n",
      "    val_f1         : 0.8210871857524374\n",
      "    val_balanced_accuracy: 0.7890928184075057\n",
      "    val_precision  : 0.8336440505076235\n",
      "    val_recall     : 0.8230357142857143\n"
     ]
    },
    {
     "name": "stdout",
     "output_type": "stream",
     "text": [
      "Model has not improved in -------------| 47 epochs\n"
     ]
    },
    {
     "name": "stderr",
     "output_type": "stream",
     "text": [
      "    epoch          : 234\n",
      "    loss           : 0.3836882171722559\n",
      "    my_metric      : 0.8013986013986014\n",
      "    f1             : 0.7970760186634286\n",
      "    balanced_accuracy: 0.7822742653817976\n",
      "    precision      : 0.8131330717878629\n",
      "    recall         : 0.8013986013986014\n",
      "    val_loss       : 0.3302353501319885\n",
      "    val_my_metric  : 0.8370535714285714\n",
      "    val_f1         : 0.831899107810297\n",
      "    val_balanced_accuracy: 0.7986977479338504\n",
      "    val_precision  : 0.8354728574121957\n",
      "    val_recall     : 0.8370535714285714\n"
     ]
    },
    {
     "name": "stdout",
     "output_type": "stream",
     "text": [
      "Model has not improved in -------------| 48 epochs\n"
     ]
    },
    {
     "name": "stderr",
     "output_type": "stream",
     "text": [
      "    epoch          : 235\n",
      "    loss           : 0.39913422671648174\n",
      "    my_metric      : 0.7899912587412588\n",
      "    f1             : 0.784812172048235\n",
      "    balanced_accuracy: 0.7691496471935584\n",
      "    precision      : 0.806461324649278\n",
      "    recall         : 0.7899912587412588\n",
      "    val_loss       : 0.3371136486530304\n",
      "    val_my_metric  : 0.8324107142857142\n",
      "    val_f1         : 0.8297894594585202\n",
      "    val_balanced_accuracy: 0.8058957203846175\n",
      "    val_precision  : 0.8372140099483849\n",
      "    val_recall     : 0.8324107142857142\n"
     ]
    },
    {
     "name": "stdout",
     "output_type": "stream",
     "text": [
      "Model has not improved in -------------| 49 epochs\n"
     ]
    },
    {
     "name": "stderr",
     "output_type": "stream",
     "text": [
      "    epoch          : 236\n",
      "    loss           : 0.3945297724925555\n",
      "    my_metric      : 0.7992023601398602\n",
      "    f1             : 0.7944454421790342\n",
      "    balanced_accuracy: 0.7783054108306983\n",
      "    precision      : 0.8101632459988019\n",
      "    recall         : 0.7992023601398602\n",
      "    val_loss       : 0.3348199188709259\n",
      "    val_my_metric  : 0.8490178571428573\n",
      "    val_f1         : 0.8462706743377563\n",
      "    val_balanced_accuracy: 0.8254258634806664\n",
      "    val_precision  : 0.8543074098757515\n",
      "    val_recall     : 0.8490178571428573\n"
     ]
    },
    {
     "name": "stdout",
     "output_type": "stream",
     "text": [
      "Model has not improved in -------------| 50 epochs\n"
     ]
    },
    {
     "name": "stderr",
     "output_type": "stream",
     "text": [
      "    epoch          : 237\n",
      "    loss           : 0.38923927683096665\n",
      "    my_metric      : 0.8000983391608391\n",
      "    f1             : 0.7944827449957279\n",
      "    balanced_accuracy: 0.775007750854885\n",
      "    precision      : 0.8089196288753813\n",
      "    recall         : 0.8000983391608391\n",
      "    val_loss       : 0.3318864732980728\n",
      "    val_my_metric  : 0.8427678571428572\n",
      "    val_f1         : 0.838779824318495\n",
      "    val_balanced_accuracy: 0.8185490942371507\n",
      "    val_precision  : 0.8443996752434252\n",
      "    val_recall     : 0.8427678571428572\n"
     ]
    },
    {
     "name": "stdout",
     "output_type": "stream",
     "text": [
      "Model has not improved in -------------| 51 epochs\n"
     ]
    },
    {
     "name": "stderr",
     "output_type": "stream",
     "text": [
      "    epoch          : 238\n",
      "    loss           : 0.3969556941435887\n",
      "    my_metric      : 0.7988090034965035\n",
      "    f1             : 0.7934426716482393\n",
      "    balanced_accuracy: 0.774040129946423\n",
      "    precision      : 0.8074639611960521\n",
      "    recall         : 0.7988090034965035\n",
      "    val_loss       : 0.34768290519714357\n",
      "    val_my_metric  : 0.7959821428571429\n",
      "    val_f1         : 0.7914735137578932\n",
      "    val_balanced_accuracy: 0.7535141352076835\n",
      "    val_precision  : 0.8058247101868383\n",
      "    val_recall     : 0.7959821428571429\n"
     ]
    },
    {
     "name": "stdout",
     "output_type": "stream",
     "text": [
      "Model has not improved in -------------| 52 epochs\n"
     ]
    },
    {
     "name": "stderr",
     "output_type": "stream",
     "text": [
      "    epoch          : 239\n",
      "    loss           : 0.3830014415658437\n",
      "    my_metric      : 0.8105222902097903\n",
      "    f1             : 0.8064003980632586\n",
      "    balanced_accuracy: 0.7931851267915018\n",
      "    precision      : 0.8217210612978734\n",
      "    recall         : 0.8105222902097903\n",
      "    val_loss       : 0.3385460376739502\n",
      "    val_my_metric  : 0.8344642857142857\n",
      "    val_f1         : 0.8308057558446524\n",
      "    val_balanced_accuracy: 0.8092883930654828\n",
      "    val_precision  : 0.8447864420029241\n",
      "    val_recall     : 0.8344642857142857\n"
     ]
    },
    {
     "name": "stdout",
     "output_type": "stream",
     "text": [
      "Model has not improved in -------------| 53 epochs\n"
     ]
    },
    {
     "name": "stderr",
     "output_type": "stream",
     "text": [
      "    epoch          : 240\n",
      "    loss           : 0.39989613798948437\n",
      "    my_metric      : 0.8014095279720279\n",
      "    f1             : 0.7963955766781731\n",
      "    balanced_accuracy: 0.7763122247778325\n",
      "    precision      : 0.8054884057719901\n",
      "    recall         : 0.8014095279720279\n",
      "    val_loss       : 0.3261504590511322\n",
      "    val_my_metric  : 0.8578571428571429\n",
      "    val_f1         : 0.8551563891232025\n",
      "    val_balanced_accuracy: 0.8315809573568194\n",
      "    val_precision  : 0.8624135148152826\n",
      "    val_recall     : 0.8578571428571429\n"
     ]
    },
    {
     "name": "stdout",
     "output_type": "stream",
     "text": [
      "Model has not improved in -------------| 54 epochs\n"
     ]
    },
    {
     "name": "stderr",
     "output_type": "stream",
     "text": [
      "    epoch          : 241\n",
      "    loss           : 0.3719892490368623\n",
      "    my_metric      : 0.8105113636363637\n",
      "    f1             : 0.8056514645325995\n",
      "    balanced_accuracy: 0.7873256323597253\n",
      "    precision      : 0.8177392695024278\n",
      "    recall         : 0.8105113636363637\n",
      "    val_loss       : 0.34756243228912354\n",
      "    val_my_metric  : 0.8297321428571429\n",
      "    val_f1         : 0.8282715432600277\n",
      "    val_balanced_accuracy: 0.8129089660414166\n",
      "    val_precision  : 0.8314086122211123\n",
      "    val_recall     : 0.8297321428571429\n"
     ]
    },
    {
     "name": "stdout",
     "output_type": "stream",
     "text": [
      "Model has not improved in -------------| 55 epochs\n"
     ]
    },
    {
     "name": "stderr",
     "output_type": "stream",
     "text": [
      "    epoch          : 242\n",
      "    loss           : 0.3947259388290919\n",
      "    my_metric      : 0.8048076923076923\n",
      "    f1             : 0.7997680558799186\n",
      "    balanced_accuracy: 0.7859073516433654\n",
      "    precision      : 0.815313906722162\n",
      "    recall         : 0.8048076923076923\n",
      "    val_loss       : 0.34137028455734253\n",
      "    val_my_metric  : 0.8500892857142857\n",
      "    val_f1         : 0.847718747189272\n",
      "    val_balanced_accuracy: 0.8247008838528485\n",
      "    val_precision  : 0.8515362936694458\n",
      "    val_recall     : 0.8500892857142857\n"
     ]
    },
    {
     "name": "stdout",
     "output_type": "stream",
     "text": [
      "Model has not improved in -------------| 56 epochs\n"
     ]
    },
    {
     "name": "stderr",
     "output_type": "stream",
     "text": [
      "    epoch          : 243\n",
      "    loss           : 0.3835706470104364\n",
      "    my_metric      : 0.8084134615384616\n",
      "    f1             : 0.803611114344482\n",
      "    balanced_accuracy: 0.7855054533775676\n",
      "    precision      : 0.818483520039661\n",
      "    recall         : 0.8084134615384616\n",
      "    val_loss       : 0.3500889867544174\n",
      "    val_my_metric  : 0.8500892857142857\n",
      "    val_f1         : 0.8489165939639056\n",
      "    val_balanced_accuracy: 0.8337257831994673\n",
      "    val_precision  : 0.850935333461828\n",
      "    val_recall     : 0.8500892857142857\n"
     ]
    },
    {
     "name": "stdout",
     "output_type": "stream",
     "text": [
      "Model has not improved in -------------| 57 epochs\n"
     ]
    },
    {
     "name": "stderr",
     "output_type": "stream",
     "text": [
      "    epoch          : 244\n",
      "    loss           : 0.38365832888163054\n",
      "    my_metric      : 0.8067198426573428\n",
      "    f1             : 0.8022674867104267\n",
      "    balanced_accuracy: 0.7851490165464792\n",
      "    precision      : 0.8124538296643486\n",
      "    recall         : 0.8067198426573428\n",
      "    val_loss       : 0.3430240571498871\n",
      "    val_my_metric  : 0.8308035714285713\n",
      "    val_f1         : 0.8247106823145416\n",
      "    val_balanced_accuracy: 0.7898839062479042\n",
      "    val_precision  : 0.8303631845383299\n",
      "    val_recall     : 0.8308035714285713\n"
     ]
    },
    {
     "name": "stdout",
     "output_type": "stream",
     "text": [
      "Model has not improved in -------------| 58 epochs\n"
     ]
    },
    {
     "name": "stderr",
     "output_type": "stream",
     "text": [
      "    epoch          : 245\n",
      "    loss           : 0.37617068451184493\n",
      "    my_metric      : 0.8146197552447553\n",
      "    f1             : 0.8089195338922786\n",
      "    balanced_accuracy: 0.7894857356602021\n",
      "    precision      : 0.8219940111339242\n",
      "    recall         : 0.8146197552447553\n",
      "    val_loss       : 0.3361920714378357\n",
      "    val_my_metric  : 0.8495535714285714\n",
      "    val_f1         : 0.8449079241459657\n",
      "    val_balanced_accuracy: 0.8200234424465602\n",
      "    val_precision  : 0.856830231352318\n",
      "    val_recall     : 0.8495535714285714\n"
     ]
    },
    {
     "name": "stdout",
     "output_type": "stream",
     "text": [
      "Model has not improved in -------------| 59 epochs\n"
     ]
    },
    {
     "name": "stderr",
     "output_type": "stream",
     "text": [
      "    epoch          : 246\n",
      "    loss           : 0.3813495429662558\n",
      "    my_metric      : 0.8122159090909091\n",
      "    f1             : 0.8077956552121056\n",
      "    balanced_accuracy: 0.7905783266289005\n",
      "    precision      : 0.8193875161066895\n",
      "    recall         : 0.8122159090909091\n",
      "    val_loss       : 0.32871473431587217\n",
      "    val_my_metric  : 0.8438392857142857\n",
      "    val_f1         : 0.8409854596942246\n",
      "    val_balanced_accuracy: 0.8268586082253165\n",
      "    val_precision  : 0.8545733617351916\n",
      "    val_recall     : 0.8438392857142857\n"
     ]
    },
    {
     "name": "stdout",
     "output_type": "stream",
     "text": [
      "Model has not improved in -------------| 60 epochs\n"
     ]
    },
    {
     "name": "stderr",
     "output_type": "stream",
     "text": [
      "    epoch          : 247\n",
      "    loss           : 0.3934891132208017\n",
      "    my_metric      : 0.8063046328671329\n",
      "    f1             : 0.8016782941690734\n",
      "    balanced_accuracy: 0.7826569334408148\n",
      "    precision      : 0.813797953409779\n",
      "    recall         : 0.8063046328671329\n",
      "    val_loss       : 0.34775964021682737\n",
      "    val_my_metric  : 0.819375\n",
      "    val_f1         : 0.818194778777252\n",
      "    val_balanced_accuracy: 0.8008505531108412\n",
      "    val_precision  : 0.8276420671955613\n",
      "    val_recall     : 0.819375\n"
     ]
    },
    {
     "name": "stdout",
     "output_type": "stream",
     "text": [
      "Model has not improved in -------------| 61 epochs\n"
     ]
    },
    {
     "name": "stderr",
     "output_type": "stream",
     "text": [
      "    epoch          : 248\n",
      "    loss           : 0.39171712559003097\n",
      "    my_metric      : 0.7963068181818181\n",
      "    f1             : 0.7912053334756225\n",
      "    balanced_accuracy: 0.7704972876720698\n",
      "    precision      : 0.8037034316728671\n",
      "    recall         : 0.7963068181818181\n",
      "    val_loss       : 0.34898240566253663\n",
      "    val_my_metric  : 0.8011607142857142\n",
      "    val_f1         : 0.7928602987498643\n",
      "    val_balanced_accuracy: 0.7593962839927008\n",
      "    val_precision  : 0.8074276020599129\n",
      "    val_recall     : 0.8011607142857142\n"
     ]
    },
    {
     "name": "stdout",
     "output_type": "stream",
     "text": [
      "Model has not improved in -------------| 62 epochs\n"
     ]
    },
    {
     "name": "stderr",
     "output_type": "stream",
     "text": [
      "    epoch          : 249\n",
      "    loss           : 0.3753096575920398\n",
      "    my_metric      : 0.8071022727272728\n",
      "    f1             : 0.8026536536438459\n",
      "    balanced_accuracy: 0.7841151958913405\n",
      "    precision      : 0.8166303734311726\n",
      "    recall         : 0.8071022727272728\n",
      "    val_loss       : 0.3486158549785614\n",
      "    val_my_metric  : 0.8225\n",
      "    val_f1         : 0.821119642823746\n",
      "    val_balanced_accuracy: 0.8055102997847691\n",
      "    val_precision  : 0.8264022191916197\n",
      "    val_recall     : 0.8225\n"
     ]
    },
    {
     "name": "stdout",
     "output_type": "stream",
     "text": [
      "Model has not improved in -------------| 63 epochs\n"
     ]
    },
    {
     "name": "stderr",
     "output_type": "stream",
     "text": [
      "    epoch          : 250\n",
      "    loss           : 0.37742412778047413\n",
      "    my_metric      : 0.8155266608391608\n",
      "    f1             : 0.8111443462834362\n",
      "    balanced_accuracy: 0.7929758848594755\n",
      "    precision      : 0.8203793929191661\n",
      "    recall         : 0.8155266608391608\n",
      "    val_loss       : 0.34765089452266695\n",
      "    val_my_metric  : 0.8298214285714286\n",
      "    val_f1         : 0.822627252410528\n",
      "    val_balanced_accuracy: 0.7972808857808859\n",
      "    val_precision  : 0.8362531715035597\n",
      "    val_recall     : 0.8298214285714286\n"
     ]
    },
    {
     "name": "stdout",
     "output_type": "stream",
     "text": [
      "Model has not improved in -------------| 64 epochs\n"
     ]
    },
    {
     "name": "stderr",
     "output_type": "stream",
     "text": [
      "    epoch          : 251\n",
      "    loss           : 0.3805867456472837\n",
      "    my_metric      : 0.8031140734265735\n",
      "    f1             : 0.7985858434483117\n",
      "    balanced_accuracy: 0.7804526940272785\n",
      "    precision      : 0.8113863350080609\n",
      "    recall         : 0.8031140734265735\n",
      "    val_loss       : 0.3354266703128815\n",
      "    val_my_metric  : 0.8339285714285714\n",
      "    val_f1         : 0.8296792052642263\n",
      "    val_balanced_accuracy: 0.8055842383124843\n",
      "    val_precision  : 0.8398690624731089\n",
      "    val_recall     : 0.8339285714285714\n"
     ]
    },
    {
     "name": "stdout",
     "output_type": "stream",
     "text": [
      "Model has not improved in -------------| 65 epochs\n"
     ]
    },
    {
     "name": "stderr",
     "output_type": "stream",
     "text": [
      "    epoch          : 252\n",
      "    loss           : 0.38201736486875093\n",
      "    my_metric      : 0.8112106643356642\n",
      "    f1             : 0.8067265989006592\n",
      "    balanced_accuracy: 0.7889062572074211\n",
      "    precision      : 0.8221017894720143\n",
      "    recall         : 0.8112106643356642\n",
      "    val_loss       : 0.34093608856201174\n",
      "    val_my_metric  : 0.8755357142857143\n",
      "    val_f1         : 0.8746046136998672\n",
      "    val_balanced_accuracy: 0.8630629383536359\n",
      "    val_precision  : 0.8767112255275871\n",
      "    val_recall     : 0.8755357142857143\n"
     ]
    },
    {
     "name": "stdout",
     "output_type": "stream",
     "text": [
      "Model has not improved in -------------| 66 epochs\n"
     ]
    },
    {
     "name": "stderr",
     "output_type": "stream",
     "text": [
      "    epoch          : 253\n",
      "    loss           : 0.38438669305581313\n",
      "    my_metric      : 0.8080091783216783\n",
      "    f1             : 0.8036476847927125\n",
      "    balanced_accuracy: 0.78564607681393\n",
      "    precision      : 0.8171297051977464\n",
      "    recall         : 0.8080091783216783\n",
      "    val_loss       : 0.3611766040325165\n",
      "    val_my_metric  : 0.7923214285714286\n",
      "    val_f1         : 0.7858695653097729\n",
      "    val_balanced_accuracy: 0.7590184228172495\n",
      "    val_precision  : 0.7992381273983376\n",
      "    val_recall     : 0.7923214285714286\n"
     ]
    },
    {
     "name": "stdout",
     "output_type": "stream",
     "text": [
      "Model has not improved in -------------| 67 epochs\n"
     ]
    },
    {
     "name": "stderr",
     "output_type": "stream",
     "text": [
      "    epoch          : 254\n",
      "    loss           : 0.3844944490836217\n",
      "    my_metric      : 0.8000983391608391\n",
      "    f1             : 0.7939989460559426\n",
      "    balanced_accuracy: 0.7742403655554865\n",
      "    precision      : 0.8080309799410276\n",
      "    recall         : 0.8000983391608391\n",
      "    val_loss       : 0.3289516568183899\n",
      "    val_my_metric  : 0.8490178571428573\n",
      "    val_f1         : 0.8450622249674238\n",
      "    val_balanced_accuracy: 0.8219340766456356\n",
      "    val_precision  : 0.8561765958801315\n",
      "    val_recall     : 0.8490178571428573\n"
     ]
    },
    {
     "name": "stdout",
     "output_type": "stream",
     "text": [
      "Model has not improved in -------------| 68 epochs\n"
     ]
    },
    {
     "name": "stderr",
     "output_type": "stream",
     "text": [
      "    epoch          : 255\n",
      "    loss           : 0.38178438062851244\n",
      "    my_metric      : 0.8094187062937064\n",
      "    f1             : 0.805335858121723\n",
      "    balanced_accuracy: 0.7872516951345888\n",
      "    precision      : 0.8147228018240619\n",
      "    recall         : 0.8094187062937064\n",
      "    val_loss       : 0.3227107524871826\n",
      "    val_my_metric  : 0.844375\n",
      "    val_f1         : 0.8420307655782782\n",
      "    val_balanced_accuracy: 0.8196534927061243\n",
      "    val_precision  : 0.8455767462155054\n",
      "    val_recall     : 0.844375\n"
     ]
    },
    {
     "name": "stdout",
     "output_type": "stream",
     "text": [
      "Model has not improved in -------------| 69 epochs\n"
     ]
    },
    {
     "name": "stderr",
     "output_type": "stream",
     "text": [
      "    epoch          : 256\n",
      "    loss           : 0.39152047553887737\n",
      "    my_metric      : 0.8046000874125874\n",
      "    f1             : 0.7989481235902745\n",
      "    balanced_accuracy: 0.7809461196442468\n",
      "    precision      : 0.8153525507955303\n",
      "    recall         : 0.8046000874125874\n",
      "    val_loss       : 0.34349705576896666\n",
      "    val_my_metric  : 0.8167857142857142\n",
      "    val_f1         : 0.8127289138676084\n",
      "    val_balanced_accuracy: 0.7896647759786106\n",
      "    val_precision  : 0.8227494068431568\n",
      "    val_recall     : 0.8167857142857142\n"
     ]
    },
    {
     "name": "stdout",
     "output_type": "stream",
     "text": [
      "Model has not improved in -------------| 70 epochs\n"
     ]
    },
    {
     "name": "stderr",
     "output_type": "stream",
     "text": [
      "    epoch          : 257\n",
      "    loss           : 0.38260670923269713\n",
      "    my_metric      : 0.8096153846153846\n",
      "    f1             : 0.8058061513435\n",
      "    balanced_accuracy: 0.7897437467616734\n",
      "    precision      : 0.8164829598853607\n",
      "    recall         : 0.8096153846153846\n",
      "    val_loss       : 0.3588756799697876\n",
      "    val_my_metric  : 0.838125\n",
      "    val_f1         : 0.8362222810073175\n",
      "    val_balanced_accuracy: 0.8162283310196023\n",
      "    val_precision  : 0.839204813506495\n",
      "    val_recall     : 0.838125\n"
     ]
    },
    {
     "name": "stdout",
     "output_type": "stream",
     "text": [
      "Model has not improved in -------------| 71 epochs\n"
     ]
    },
    {
     "name": "stderr",
     "output_type": "stream",
     "text": [
      "    epoch          : 258\n",
      "    loss           : 0.3896464785704246\n",
      "    my_metric      : 0.8039117132867133\n",
      "    f1             : 0.7983990119065191\n",
      "    balanced_accuracy: 0.7803037718729247\n",
      "    precision      : 0.8143464429298337\n",
      "    recall         : 0.8039117132867133\n",
      "    val_loss       : 0.33327035009860995\n",
      "    val_my_metric  : 0.8547321428571429\n",
      "    val_f1         : 0.8540752941547061\n",
      "    val_balanced_accuracy: 0.8431200878257613\n",
      "    val_precision  : 0.8587158985020829\n",
      "    val_recall     : 0.8547321428571429\n"
     ]
    },
    {
     "name": "stdout",
     "output_type": "stream",
     "text": [
      "Model has not improved in -------------| 72 epochs\n"
     ]
    },
    {
     "name": "stderr",
     "output_type": "stream",
     "text": [
      "    epoch          : 259\n",
      "    loss           : 0.38719739707616657\n",
      "    my_metric      : 0.7949847027972028\n",
      "    f1             : 0.7898051641436438\n",
      "    balanced_accuracy: 0.7690287685307138\n",
      "    precision      : 0.8029745429779991\n",
      "    recall         : 0.7949847027972028\n",
      "    val_loss       : 0.3408831298351288\n",
      "    val_my_metric  : 0.8370535714285714\n",
      "    val_f1         : 0.8335398668548226\n",
      "    val_balanced_accuracy: 0.8118008168901681\n",
      "    val_precision  : 0.8394493891156556\n",
      "    val_recall     : 0.8370535714285714\n"
     ]
    },
    {
     "name": "stdout",
     "output_type": "stream",
     "text": [
      "Model has not improved in -------------| 73 epochs\n"
     ]
    },
    {
     "name": "stderr",
     "output_type": "stream",
     "text": [
      "    epoch          : 260\n",
      "    loss           : 0.38112881550422084\n",
      "    my_metric      : 0.8074082167832167\n",
      "    f1             : 0.8035921893778498\n",
      "    balanced_accuracy: 0.7873776083088446\n",
      "    precision      : 0.8154761730203691\n",
      "    recall         : 0.8074082167832167\n",
      "    val_loss       : 0.33934047222137453\n",
      "    val_my_metric  : 0.8365178571428572\n",
      "    val_f1         : 0.83456213957055\n",
      "    val_balanced_accuracy: 0.8175205974706883\n",
      "    val_precision  : 0.8422288831453784\n",
      "    val_recall     : 0.8365178571428572\n"
     ]
    },
    {
     "name": "stdout",
     "output_type": "stream",
     "text": [
      "Model has not improved in -------------| 74 epochs\n"
     ]
    },
    {
     "name": "stderr",
     "output_type": "stream",
     "text": [
      "    epoch          : 261\n",
      "    loss           : 0.3912836668583063\n",
      "    my_metric      : 0.8003933566433565\n",
      "    f1             : 0.7955570013963397\n",
      "    balanced_accuracy: 0.782171776837284\n",
      "    precision      : 0.8132227987891502\n",
      "    recall         : 0.8003933566433565\n",
      "    val_loss       : 0.34194645285606384\n",
      "    val_my_metric  : 0.8308035714285713\n",
      "    val_f1         : 0.8289048384510582\n",
      "    val_balanced_accuracy: 0.8116157614253042\n",
      "    val_precision  : 0.839237514613869\n",
      "    val_recall     : 0.8308035714285713\n"
     ]
    },
    {
     "name": "stdout",
     "output_type": "stream",
     "text": [
      "Model has not improved in -------------| 75 epochs\n"
     ]
    },
    {
     "name": "stderr",
     "output_type": "stream",
     "text": [
      "    epoch          : 262\n",
      "    loss           : 0.39723994181706357\n",
      "    my_metric      : 0.7961975524475525\n",
      "    f1             : 0.7904326358304457\n",
      "    balanced_accuracy: 0.770934142542081\n",
      "    precision      : 0.8057252615928141\n",
      "    recall         : 0.7961975524475525\n",
      "    val_loss       : 0.3416954159736633\n",
      "    val_my_metric  : 0.8609821428571429\n",
      "    val_f1         : 0.8590284660967324\n",
      "    val_balanced_accuracy: 0.8421518957653635\n",
      "    val_precision  : 0.861404942145556\n",
      "    val_recall     : 0.8609821428571429\n"
     ]
    },
    {
     "name": "stdout",
     "output_type": "stream",
     "text": [
      "Model has not improved in -------------| 76 epochs\n"
     ]
    },
    {
     "name": "stderr",
     "output_type": "stream",
     "text": [
      "    epoch          : 263\n",
      "    loss           : 0.38675036625220227\n",
      "    my_metric      : 0.7932801573426573\n",
      "    f1             : 0.7880408330786373\n",
      "    balanced_accuracy: 0.7714337578731469\n",
      "    precision      : 0.8044476711588082\n",
      "    recall         : 0.7932801573426573\n",
      "    val_loss       : 0.34617167711257935\n",
      "    val_my_metric  : 0.8583928571428572\n",
      "    val_f1         : 0.8563234913013258\n",
      "    val_balanced_accuracy: 0.8380069788260892\n",
      "    val_precision  : 0.8605951594432699\n",
      "    val_recall     : 0.8583928571428572\n"
     ]
    },
    {
     "name": "stdout",
     "output_type": "stream",
     "text": [
      "Model has not improved in -------------| 77 epochs\n"
     ]
    },
    {
     "name": "stderr",
     "output_type": "stream",
     "text": [
      "    epoch          : 264\n",
      "    loss           : 0.3926504850387573\n",
      "    my_metric      : 0.8047093531468531\n",
      "    f1             : 0.7999693292375578\n",
      "    balanced_accuracy: 0.7834007918691429\n",
      "    precision      : 0.8150907592358135\n",
      "    recall         : 0.8047093531468531\n",
      "    val_loss       : 0.32240447998046873\n",
      "    val_my_metric  : 0.8490178571428573\n",
      "    val_f1         : 0.8454262916762916\n",
      "    val_balanced_accuracy: 0.8225617201352652\n",
      "    val_precision  : 0.853005089302304\n",
      "    val_recall     : 0.8490178571428573\n"
     ]
    },
    {
     "name": "stdout",
     "output_type": "stream",
     "text": [
      "Model has not improved in -------------| 78 epochs\n"
     ]
    },
    {
     "name": "stderr",
     "output_type": "stream",
     "text": [
      "    epoch          : 265\n",
      "    loss           : 0.39000020233484417\n",
      "    my_metric      : 0.8087194055944056\n",
      "    f1             : 0.8035460326725293\n",
      "    balanced_accuracy: 0.7874423842891083\n",
      "    precision      : 0.819941006690708\n",
      "    recall         : 0.8087194055944056\n",
      "    val_loss       : 0.33614295721054077\n",
      "    val_my_metric  : 0.8532142857142857\n",
      "    val_f1         : 0.8504214833790833\n",
      "    val_balanced_accuracy: 0.8293477307006718\n",
      "    val_precision  : 0.8555473030146354\n",
      "    val_recall     : 0.8532142857142857\n"
     ]
    },
    {
     "name": "stdout",
     "output_type": "stream",
     "text": [
      "Model has not improved in -------------| 79 epochs\n"
     ]
    },
    {
     "name": "stderr",
     "output_type": "stream",
     "text": [
      "    epoch          : 266\n",
      "    loss           : 0.39191334408063155\n",
      "    my_metric      : 0.8007102272727273\n",
      "    f1             : 0.7956028350765665\n",
      "    balanced_accuracy: 0.7781927959374662\n",
      "    precision      : 0.8089858145938742\n",
      "    recall         : 0.8007102272727273\n",
      "    val_loss       : 0.3350162744522095\n",
      "    val_my_metric  : 0.8297321428571429\n",
      "    val_f1         : 0.8269310867311344\n",
      "    val_balanced_accuracy: 0.8043131219271199\n",
      "    val_precision  : 0.8313741125018298\n",
      "    val_recall     : 0.8297321428571429\n"
     ]
    },
    {
     "name": "stdout",
     "output_type": "stream",
     "text": [
      "Model has not improved in -------------| 80 epochs\n"
     ]
    },
    {
     "name": "stderr",
     "output_type": "stream",
     "text": [
      "    epoch          : 267\n",
      "    loss           : 0.39152907866698045\n",
      "    my_metric      : 0.8118225524475525\n",
      "    f1             : 0.8065812569331947\n",
      "    balanced_accuracy: 0.7895809796359751\n",
      "    precision      : 0.8253746800416464\n",
      "    recall         : 0.8118225524475525\n",
      "    val_loss       : 0.36081455945968627\n",
      "    val_my_metric  : 0.8235714285714286\n",
      "    val_f1         : 0.8179191454068342\n",
      "    val_balanced_accuracy: 0.7971575763864627\n",
      "    val_precision  : 0.8292846551059263\n",
      "    val_recall     : 0.8235714285714286\n"
     ]
    },
    {
     "name": "stdout",
     "output_type": "stream",
     "text": [
      "Model has not improved in -------------| 81 epochs\n"
     ]
    },
    {
     "name": "stderr",
     "output_type": "stream",
     "text": [
      "    epoch          : 268\n",
      "    loss           : 0.37924406218987244\n",
      "    my_metric      : 0.8042067307692308\n",
      "    f1             : 0.7985723751919462\n",
      "    balanced_accuracy: 0.7789116024776679\n",
      "    precision      : 0.8143307917579053\n",
      "    recall         : 0.8042067307692308\n",
      "    val_loss       : 0.3474562972784042\n",
      "    val_my_metric  : 0.8219642857142857\n",
      "    val_f1         : 0.8175330393290918\n",
      "    val_balanced_accuracy: 0.7920033119283083\n",
      "    val_precision  : 0.8301188187230075\n",
      "    val_recall     : 0.8219642857142857\n"
     ]
    },
    {
     "name": "stdout",
     "output_type": "stream",
     "text": [
      "Model has not improved in -------------| 82 epochs\n"
     ]
    },
    {
     "name": "stderr",
     "output_type": "stream",
     "text": [
      "    epoch          : 269\n",
      "    loss           : 0.390269289796169\n",
      "    my_metric      : 0.8033107517482517\n",
      "    f1             : 0.798476044659889\n",
      "    balanced_accuracy: 0.7779757968185226\n",
      "    precision      : 0.8098716520235224\n",
      "    recall         : 0.8033107517482517\n",
      "    val_loss       : 0.3609233915805817\n",
      "    val_my_metric  : 0.8136607142857143\n",
      "    val_f1         : 0.8071719339909876\n",
      "    val_balanced_accuracy: 0.7976957723498945\n",
      "    val_precision  : 0.8365757851913376\n",
      "    val_recall     : 0.8136607142857143\n"
     ]
    },
    {
     "name": "stdout",
     "output_type": "stream",
     "text": [
      "Model has not improved in -------------| 83 epochs\n"
     ]
    },
    {
     "name": "stderr",
     "output_type": "stream",
     "text": [
      "    epoch          : 270\n",
      "    loss           : 0.3775649013427588\n",
      "    my_metric      : 0.8080091783216783\n",
      "    f1             : 0.8035631079146024\n",
      "    balanced_accuracy: 0.784508932509101\n",
      "    precision      : 0.8150328436307043\n",
      "    recall         : 0.8080091783216783\n",
      "    val_loss       : 0.33586464524269105\n",
      "    val_my_metric  : 0.8276785714285714\n",
      "    val_f1         : 0.8213574174568979\n",
      "    val_balanced_accuracy: 0.7912920649762756\n",
      "    val_precision  : 0.8318675946829546\n",
      "    val_recall     : 0.8276785714285714\n"
     ]
    },
    {
     "name": "stdout",
     "output_type": "stream",
     "text": [
      "Model has not improved in -------------| 84 epochs\n"
     ]
    },
    {
     "name": "stderr",
     "output_type": "stream",
     "text": [
      "    epoch          : 271\n",
      "    loss           : 0.3907034190801474\n",
      "    my_metric      : 0.8010926573426573\n",
      "    f1             : 0.7960699997584828\n",
      "    balanced_accuracy: 0.775779030125981\n",
      "    precision      : 0.806568329215536\n",
      "    recall         : 0.8010926573426573\n",
      "    val_loss       : 0.33319641947746276\n",
      "    val_my_metric  : 0.8516071428571429\n",
      "    val_f1         : 0.8486931561684656\n",
      "    val_balanced_accuracy: 0.8204999463261397\n",
      "    val_precision  : 0.8545325510945826\n",
      "    val_recall     : 0.8516071428571429\n"
     ]
    },
    {
     "name": "stdout",
     "output_type": "stream",
     "text": [
      "Model has not improved in -------------| 85 epochs\n"
     ]
    },
    {
     "name": "stderr",
     "output_type": "stream",
     "text": [
      "    epoch          : 272\n",
      "    loss           : 0.38765422655985904\n",
      "    my_metric      : 0.7919908216783218\n",
      "    f1             : 0.786726687873278\n",
      "    balanced_accuracy: 0.7687016186221883\n",
      "    precision      : 0.8028853079990659\n",
      "    recall         : 0.7919908216783218\n",
      "    val_loss       : 0.35590057969093325\n",
      "    val_my_metric  : 0.8308035714285713\n",
      "    val_f1         : 0.8248720168559289\n",
      "    val_balanced_accuracy: 0.803785379245759\n",
      "    val_precision  : 0.8446629134980507\n",
      "    val_recall     : 0.8308035714285713\n"
     ]
    },
    {
     "name": "stdout",
     "output_type": "stream",
     "text": [
      "Model has not improved in -------------| 86 epochs\n"
     ]
    },
    {
     "name": "stderr",
     "output_type": "stream",
     "text": [
      "    epoch          : 273\n",
      "    loss           : 0.3770501109269949\n",
      "    my_metric      : 0.8086101398601399\n",
      "    f1             : 0.8036581376363704\n",
      "    balanced_accuracy: 0.7843842924242277\n",
      "    precision      : 0.8159975762363698\n",
      "    recall         : 0.8086101398601399\n",
      "    val_loss       : 0.33489581644535066\n",
      "    val_my_metric  : 0.8651785714285714\n",
      "    val_f1         : 0.8626293893576864\n",
      "    val_balanced_accuracy: 0.8363396669967516\n",
      "    val_precision  : 0.8666305817798031\n",
      "    val_recall     : 0.8651785714285714\n"
     ]
    },
    {
     "name": "stdout",
     "output_type": "stream",
     "text": [
      "Model has not improved in -------------| 87 epochs\n"
     ]
    },
    {
     "name": "stderr",
     "output_type": "stream",
     "text": [
      "    epoch          : 274\n",
      "    loss           : 0.381985855790285\n",
      "    my_metric      : 0.7972027972027972\n",
      "    f1             : 0.7926765907731309\n",
      "    balanced_accuracy: 0.7772845291739668\n",
      "    precision      : 0.8103109551582689\n",
      "    recall         : 0.7972027972027972\n",
      "    val_loss       : 0.3395725965499878\n",
      "    val_my_metric  : 0.8365178571428572\n",
      "    val_f1         : 0.8340208634184574\n",
      "    val_balanced_accuracy: 0.8141797986959277\n",
      "    val_precision  : 0.8382951283284845\n",
      "    val_recall     : 0.8365178571428572\n"
     ]
    },
    {
     "name": "stdout",
     "output_type": "stream",
     "text": [
      "Model has not improved in -------------| 88 epochs\n"
     ]
    },
    {
     "name": "stderr",
     "output_type": "stream",
     "text": [
      "    epoch          : 275\n",
      "    loss           : 0.4036587534042505\n",
      "    my_metric      : 0.7927884615384616\n",
      "    f1             : 0.7884288589984236\n",
      "    balanced_accuracy: 0.7715071322291411\n",
      "    precision      : 0.802111134115806\n",
      "    recall         : 0.7927884615384616\n",
      "    val_loss       : 0.3226956337690353\n",
      "    val_my_metric  : 0.848482142857143\n",
      "    val_f1         : 0.8459458268669252\n",
      "    val_balanced_accuracy: 0.8252711174421702\n",
      "    val_precision  : 0.85048402638822\n",
      "    val_recall     : 0.848482142857143\n"
     ]
    },
    {
     "name": "stdout",
     "output_type": "stream",
     "text": [
      "Model has not improved in -------------| 89 epochs\n"
     ]
    },
    {
     "name": "stderr",
     "output_type": "stream",
     "text": [
      "    epoch          : 276\n",
      "    loss           : 0.37670126213477206\n",
      "    my_metric      : 0.8092111013986014\n",
      "    f1             : 0.8039050508980441\n",
      "    balanced_accuracy: 0.7849336203024981\n",
      "    precision      : 0.8166786969981611\n",
      "    recall         : 0.8092111013986014\n",
      "    val_loss       : 0.350584676861763\n",
      "    val_my_metric  : 0.8256249999999999\n",
      "    val_f1         : 0.8236354130552105\n",
      "    val_balanced_accuracy: 0.8026559968187751\n",
      "    val_precision  : 0.8245749653132398\n",
      "    val_recall     : 0.8256249999999999\n"
     ]
    },
    {
     "name": "stdout",
     "output_type": "stream",
     "text": [
      "Model has not improved in -------------| 90 epochs\n"
     ]
    },
    {
     "name": "stderr",
     "output_type": "stream",
     "text": [
      "    epoch          : 277\n",
      "    loss           : 0.38454534571904403\n",
      "    my_metric      : 0.8119208916083915\n",
      "    f1             : 0.8080384141253549\n",
      "    balanced_accuracy: 0.7914939647950587\n",
      "    precision      : 0.8210331782951342\n",
      "    recall         : 0.8119208916083915\n",
      "    val_loss       : 0.32709598243236543\n",
      "    val_my_metric  : 0.8677678571428572\n",
      "    val_f1         : 0.8657700022994603\n",
      "    val_balanced_accuracy: 0.8493257157872808\n",
      "    val_precision  : 0.8731630203614215\n",
      "    val_recall     : 0.8677678571428572\n"
     ]
    },
    {
     "name": "stdout",
     "output_type": "stream",
     "text": [
      "Model has not improved in -------------| 91 epochs\n"
     ]
    },
    {
     "name": "stderr",
     "output_type": "stream",
     "text": [
      "    epoch          : 278\n",
      "    loss           : 0.3865720732853963\n",
      "    my_metric      : 0.8000983391608391\n",
      "    f1             : 0.7945230316462999\n",
      "    balanced_accuracy: 0.775001734409895\n",
      "    precision      : 0.8080623014071556\n",
      "    recall         : 0.8000983391608391\n",
      "    val_loss       : 0.36747861504554746\n",
      "    val_my_metric  : 0.8469642857142856\n",
      "    val_f1         : 0.844477638611058\n",
      "    val_balanced_accuracy: 0.8223219998392413\n",
      "    val_precision  : 0.8502187497637994\n",
      "    val_recall     : 0.8469642857142856\n"
     ]
    },
    {
     "name": "stdout",
     "output_type": "stream",
     "text": [
      "Model has not improved in -------------| 92 epochs\n"
     ]
    },
    {
     "name": "stderr",
     "output_type": "stream",
     "text": [
      "    epoch          : 279\n",
      "    loss           : 0.38698479991692764\n",
      "    my_metric      : 0.8019995629370629\n",
      "    f1             : 0.7968677459711107\n",
      "    balanced_accuracy: 0.7771265674878942\n",
      "    precision      : 0.8104044264332718\n",
      "    recall         : 0.8019995629370629\n",
      "    val_loss       : 0.3337802976369858\n",
      "    val_my_metric  : 0.8339285714285714\n",
      "    val_f1         : 0.8290952582887613\n",
      "    val_balanced_accuracy: 0.8038205128205128\n",
      "    val_precision  : 0.8403025366630985\n",
      "    val_recall     : 0.8339285714285714\n"
     ]
    },
    {
     "name": "stdout",
     "output_type": "stream",
     "text": [
      "Model has not improved in -------------| 93 epochs\n"
     ]
    },
    {
     "name": "stderr",
     "output_type": "stream",
     "text": [
      "    epoch          : 280\n",
      "    loss           : 0.382950111077382\n",
      "    my_metric      : 0.8013986013986014\n",
      "    f1             : 0.7966165268066917\n",
      "    balanced_accuracy: 0.7781337268915242\n",
      "    precision      : 0.8101749757301905\n",
      "    recall         : 0.8013986013986014\n",
      "    val_loss       : 0.3540863275527954\n",
      "    val_my_metric  : 0.8199107142857143\n",
      "    val_f1         : 0.8173594110762255\n",
      "    val_balanced_accuracy: 0.7978295031821012\n",
      "    val_precision  : 0.8189402467329234\n",
      "    val_recall     : 0.8199107142857143\n"
     ]
    },
    {
     "name": "stdout",
     "output_type": "stream",
     "text": [
      "Model has not improved in -------------| 94 epochs\n"
     ]
    },
    {
     "name": "stderr",
     "output_type": "stream",
     "text": [
      "    epoch          : 281\n",
      "    loss           : 0.3708184051972169\n",
      "    my_metric      : 0.8075174825174826\n",
      "    f1             : 0.802789310258595\n",
      "    balanced_accuracy: 0.7865018867664104\n",
      "    precision      : 0.8181537748640125\n",
      "    recall         : 0.8075174825174826\n",
      "    val_loss       : 0.3342717349529266\n",
      "    val_my_metric  : 0.8469642857142856\n",
      "    val_f1         : 0.845966983151903\n",
      "    val_balanced_accuracy: 0.8343833592932481\n",
      "    val_precision  : 0.8518079682720996\n",
      "    val_recall     : 0.8469642857142856\n"
     ]
    },
    {
     "name": "stdout",
     "output_type": "stream",
     "text": [
      "Model has not improved in -------------| 95 epochs\n"
     ]
    },
    {
     "name": "stderr",
     "output_type": "stream",
     "text": [
      "    epoch          : 282\n",
      "    loss           : 0.3783991096111444\n",
      "    my_metric      : 0.7967001748251749\n",
      "    f1             : 0.7908535309756789\n",
      "    balanced_accuracy: 0.7759094288793905\n",
      "    precision      : 0.810679654076912\n",
      "    recall         : 0.7967001748251749\n",
      "    val_loss       : 0.35546109080314636\n",
      "    val_my_metric  : 0.8250892857142856\n",
      "    val_f1         : 0.8222017436506194\n",
      "    val_balanced_accuracy: 0.8024819346001741\n",
      "    val_precision  : 0.8298181679643966\n",
      "    val_recall     : 0.8250892857142856\n"
     ]
    },
    {
     "name": "stdout",
     "output_type": "stream",
     "text": [
      "Model has not improved in -------------| 96 epochs\n"
     ]
    },
    {
     "name": "stderr",
     "output_type": "stream",
     "text": [
      "    epoch          : 283\n",
      "    loss           : 0.372676935333472\n",
      "    my_metric      : 0.806708916083916\n",
      "    f1             : 0.8019212502425758\n",
      "    balanced_accuracy: 0.7822110845861256\n",
      "    precision      : 0.8138806419833061\n",
      "    recall         : 0.806708916083916\n",
      "    val_loss       : 0.35413063764572145\n",
      "    val_my_metric  : 0.8209821428571429\n",
      "    val_f1         : 0.8200496075251114\n",
      "    val_balanced_accuracy: 0.8036602849839418\n",
      "    val_precision  : 0.8288946448594082\n",
      "    val_recall     : 0.8209821428571429\n"
     ]
    },
    {
     "name": "stdout",
     "output_type": "stream",
     "text": [
      "Model has not improved in -------------| 97 epochs\n"
     ]
    },
    {
     "name": "stderr",
     "output_type": "stream",
     "text": [
      "    epoch          : 284\n",
      "    loss           : 0.38127582176373553\n",
      "    my_metric      : 0.8096044580419581\n",
      "    f1             : 0.8051771129897143\n",
      "    balanced_accuracy: 0.7866357160306661\n",
      "    precision      : 0.8145408827577817\n",
      "    recall         : 0.8096044580419581\n",
      "    val_loss       : 0.3632390320301056\n",
      "    val_my_metric  : 0.8339285714285714\n",
      "    val_f1         : 0.8325756377077236\n",
      "    val_balanced_accuracy: 0.8200288115717596\n",
      "    val_precision  : 0.8426085786996891\n",
      "    val_recall     : 0.8339285714285714\n"
     ]
    },
    {
     "name": "stdout",
     "output_type": "stream",
     "text": [
      "Model has not improved in -------------| 98 epochs\n"
     ]
    },
    {
     "name": "stderr",
     "output_type": "stream",
     "text": [
      "    epoch          : 285\n",
      "    loss           : 0.37783883626644427\n",
      "    my_metric      : 0.803201486013986\n",
      "    f1             : 0.7977417256082956\n",
      "    balanced_accuracy: 0.7788707073328414\n",
      "    precision      : 0.8102782636164144\n",
      "    recall         : 0.803201486013986\n",
      "    val_loss       : 0.32847152948379515\n",
      "    val_my_metric  : 0.844375\n",
      "    val_f1         : 0.8408937907960563\n",
      "    val_balanced_accuracy: 0.823009748871818\n",
      "    val_precision  : 0.8525618069518851\n",
      "    val_recall     : 0.844375\n"
     ]
    },
    {
     "name": "stdout",
     "output_type": "stream",
     "text": [
      "Model has not improved in -------------| 99 epochs\n"
     ]
    },
    {
     "name": "stderr",
     "output_type": "stream",
     "text": [
      "    epoch          : 286\n",
      "    loss           : 0.3788064592159711\n",
      "    my_metric      : 0.8111232517482517\n",
      "    f1             : 0.8068799727976889\n",
      "    balanced_accuracy: 0.7902863663463298\n",
      "    precision      : 0.8170059233151861\n",
      "    recall         : 0.8111232517482517\n",
      "    val_loss       : 0.33942370414733886\n",
      "    val_my_metric  : 0.844375\n",
      "    val_f1         : 0.8402737101169582\n",
      "    val_balanced_accuracy: 0.8086362082690112\n",
      "    val_precision  : 0.8505205142835587\n",
      "    val_recall     : 0.844375\n"
     ]
    },
    {
     "name": "stdout",
     "output_type": "stream",
     "text": [
      "Model has not improved in -------------| 100 epochs\n"
     ]
    },
    {
     "name": "stderr",
     "output_type": "stream",
     "text": [
      "    epoch          : 287\n",
      "    loss           : 0.3978191579763706\n",
      "    my_metric      : 0.7958916083916083\n",
      "    f1             : 0.7903320653130071\n",
      "    balanced_accuracy: 0.7709673678295546\n",
      "    precision      : 0.8041430611492915\n",
      "    recall         : 0.7958916083916083\n",
      "    val_loss       : 0.3542534112930298\n",
      "    val_my_metric  : 0.8324107142857142\n",
      "    val_f1         : 0.831549055277135\n",
      "    val_balanced_accuracy: 0.8181967670011149\n",
      "    val_precision  : 0.8347129197520436\n",
      "    val_recall     : 0.8324107142857142\n"
     ]
    },
    {
     "name": "stdout",
     "output_type": "stream",
     "text": [
      "Model has not improved in -------------| 101 epochs\n"
     ]
    },
    {
     "name": "stderr",
     "output_type": "stream",
     "text": [
      "    epoch          : 288\n",
      "    loss           : 0.3763217501915418\n",
      "    my_metric      : 0.7999016608391608\n",
      "    f1             : 0.7940247895157846\n",
      "    balanced_accuracy: 0.7757310153260127\n",
      "    precision      : 0.8075037704788588\n",
      "    recall         : 0.7999016608391608\n",
      "    val_loss       : 0.3403752565383911\n",
      "    val_my_metric  : 0.8573214285714286\n",
      "    val_f1         : 0.8559686801570523\n",
      "    val_balanced_accuracy: 0.8371326284920915\n",
      "    val_precision  : 0.8592320328250562\n",
      "    val_recall     : 0.8573214285714286\n"
     ]
    },
    {
     "name": "stdout",
     "output_type": "stream",
     "text": [
      "Model has not improved in -------------| 102 epochs\n"
     ]
    },
    {
     "name": "stderr",
     "output_type": "stream",
     "text": [
      "    epoch          : 289\n",
      "    loss           : 0.39124136704664964\n",
      "    my_metric      : 0.8054086538461539\n",
      "    f1             : 0.8005919908130225\n",
      "    balanced_accuracy: 0.7834675639322667\n",
      "    precision      : 0.813157261873145\n",
      "    recall         : 0.8054086538461539\n",
      "    val_loss       : 0.3398182153701782\n",
      "    val_my_metric  : 0.8141964285714286\n",
      "    val_f1         : 0.8110559501972279\n",
      "    val_balanced_accuracy: 0.7875894501095739\n",
      "    val_precision  : 0.8163999168442683\n",
      "    val_recall     : 0.8141964285714286\n"
     ]
    },
    {
     "name": "stdout",
     "output_type": "stream",
     "text": [
      "Model has not improved in -------------| 103 epochs\n"
     ]
    },
    {
     "name": "stderr",
     "output_type": "stream",
     "text": [
      "    epoch          : 290\n",
      "    loss           : 0.38853331024830157\n",
      "    my_metric      : 0.7924825174825175\n",
      "    f1             : 0.7864930872085073\n",
      "    balanced_accuracy: 0.7675810162783787\n",
      "    precision      : 0.799463948133722\n",
      "    recall         : 0.7924825174825175\n",
      "    val_loss       : 0.34406537413597105\n",
      "    val_my_metric  : 0.8344642857142857\n",
      "    val_f1         : 0.8291972590460832\n",
      "    val_balanced_accuracy: 0.8013860045260326\n",
      "    val_precision  : 0.8385305784245517\n",
      "    val_recall     : 0.8344642857142857\n"
     ]
    },
    {
     "name": "stdout",
     "output_type": "stream",
     "text": [
      "Model has not improved in -------------| 104 epochs\n"
     ]
    },
    {
     "name": "stderr",
     "output_type": "stream",
     "text": [
      "    epoch          : 291\n",
      "    loss           : 0.38627065145052397\n",
      "    my_metric      : 0.8043050699300699\n",
      "    f1             : 0.7985451244198282\n",
      "    balanced_accuracy: 0.7804474597159446\n",
      "    precision      : 0.814717640515362\n",
      "    recall         : 0.8043050699300699\n",
      "    val_loss       : 0.3428695797920227\n",
      "    val_my_metric  : 0.8458928571428572\n",
      "    val_f1         : 0.8440315846548095\n",
      "    val_balanced_accuracy: 0.8262352451470099\n",
      "    val_precision  : 0.8479835448395161\n",
      "    val_recall     : 0.8458928571428572\n"
     ]
    },
    {
     "name": "stdout",
     "output_type": "stream",
     "text": [
      "Model has not improved in -------------| 105 epochs\n"
     ]
    },
    {
     "name": "stderr",
     "output_type": "stream",
     "text": [
      "    epoch          : 292\n",
      "    loss           : 0.3746201992034912\n",
      "    my_metric      : 0.8112106643356642\n",
      "    f1             : 0.8054769883078227\n",
      "    balanced_accuracy: 0.7880463867753126\n",
      "    precision      : 0.8216722687808697\n",
      "    recall         : 0.8112106643356642\n",
      "    val_loss       : 0.3282050520181656\n",
      "    val_my_metric  : 0.8453571428571429\n",
      "    val_f1         : 0.8428471272467322\n",
      "    val_balanced_accuracy: 0.8254494556085744\n",
      "    val_precision  : 0.8511021552877424\n",
      "    val_recall     : 0.8453571428571429\n"
     ]
    },
    {
     "name": "stdout",
     "output_type": "stream",
     "text": [
      "Model has not improved in -------------| 106 epochs\n"
     ]
    },
    {
     "name": "stderr",
     "output_type": "stream",
     "text": [
      "    epoch          : 293\n",
      "    loss           : 0.38487599274286854\n",
      "    my_metric      : 0.8058020104895104\n",
      "    f1             : 0.8014157427595335\n",
      "    balanced_accuracy: 0.7823910764286519\n",
      "    precision      : 0.8126031986016676\n",
      "    recall         : 0.8058020104895104\n",
      "    val_loss       : 0.3371793508529663\n",
      "    val_my_metric  : 0.838125\n",
      "    val_f1         : 0.8336521454960284\n",
      "    val_balanced_accuracy: 0.8071579995950063\n",
      "    val_precision  : 0.8447184049111265\n",
      "    val_recall     : 0.838125\n"
     ]
    },
    {
     "name": "stdout",
     "output_type": "stream",
     "text": [
      "Model has not improved in -------------| 107 epochs\n"
     ]
    },
    {
     "name": "stderr",
     "output_type": "stream",
     "text": [
      "    epoch          : 294\n",
      "    loss           : 0.3810966851619574\n",
      "    my_metric      : 0.8230332167832167\n",
      "    f1             : 0.8195221420623766\n",
      "    balanced_accuracy: 0.8041111026529111\n",
      "    precision      : 0.8365249269539989\n",
      "    recall         : 0.8230332167832167\n",
      "    val_loss       : 0.33862291276454926\n",
      "    val_my_metric  : 0.8391071428571429\n",
      "    val_f1         : 0.8370577124157709\n",
      "    val_balanced_accuracy: 0.8253461912736894\n",
      "    val_precision  : 0.8432317999320551\n",
      "    val_recall     : 0.8391071428571429\n"
     ]
    },
    {
     "name": "stdout",
     "output_type": "stream",
     "text": [
      "Model has not improved in -------------| 108 epochs\n"
     ]
    },
    {
     "name": "stderr",
     "output_type": "stream",
     "text": [
      "    epoch          : 295\n",
      "    loss           : 0.38458477705717087\n",
      "    my_metric      : 0.8061188811188812\n",
      "    f1             : 0.8010633906535077\n",
      "    balanced_accuracy: 0.7820146722292516\n",
      "    precision      : 0.8161879374450474\n",
      "    recall         : 0.8061188811188812\n",
      "    val_loss       : 0.34660314321517943\n",
      "    val_my_metric  : 0.8490178571428573\n",
      "    val_f1         : 0.8460032852538404\n",
      "    val_balanced_accuracy: 0.8241371901887573\n",
      "    val_precision  : 0.8515515306289876\n",
      "    val_recall     : 0.8490178571428573\n"
     ]
    },
    {
     "name": "stdout",
     "output_type": "stream",
     "text": [
      "Model has not improved in -------------| 109 epochs\n"
     ]
    },
    {
     "name": "stderr",
     "output_type": "stream",
     "text": [
      "    epoch          : 296\n",
      "    loss           : 0.3873801827430725\n",
      "    my_metric      : 0.8031031468531468\n",
      "    f1             : 0.7977446276298001\n",
      "    balanced_accuracy: 0.7810533208482605\n",
      "    precision      : 0.8145990122440251\n",
      "    recall         : 0.8031031468531468\n",
      "    val_loss       : 0.3465070277452469\n",
      "    val_my_metric  : 0.8272321428571429\n",
      "    val_f1         : 0.8242159664625264\n",
      "    val_balanced_accuracy: 0.8054927647995915\n",
      "    val_precision  : 0.8282332423564638\n",
      "    val_recall     : 0.8272321428571429\n"
     ]
    },
    {
     "name": "stdout",
     "output_type": "stream",
     "text": [
      "Model has not improved in -------------| 110 epochs\n"
     ]
    },
    {
     "name": "stderr",
     "output_type": "stream",
     "text": [
      "    epoch          : 297\n",
      "    loss           : 0.3855263860179828\n",
      "    my_metric      : 0.8000983391608391\n",
      "    f1             : 0.7951698335888095\n",
      "    balanced_accuracy: 0.7785827236023656\n",
      "    precision      : 0.8086381748488134\n",
      "    recall         : 0.8000983391608391\n",
      "    val_loss       : 0.341498339176178\n",
      "    val_my_metric  : 0.8469642857142856\n",
      "    val_f1         : 0.843945331657717\n",
      "    val_balanced_accuracy: 0.8246412861663461\n",
      "    val_precision  : 0.8506690981524596\n",
      "    val_recall     : 0.8469642857142856\n"
     ]
    },
    {
     "name": "stdout",
     "output_type": "stream",
     "text": [
      "Model has not improved in -------------| 111 epochs\n"
     ]
    },
    {
     "name": "stderr",
     "output_type": "stream",
     "text": [
      "    epoch          : 298\n",
      "    loss           : 0.3731023119046138\n",
      "    my_metric      : 0.8127185314685315\n",
      "    f1             : 0.8088183447921206\n",
      "    balanced_accuracy: 0.7943201764156771\n",
      "    precision      : 0.8202027001471903\n",
      "    recall         : 0.8127185314685315\n",
      "    val_loss       : 0.33293857574462893\n",
      "    val_my_metric  : 0.8261607142857142\n",
      "    val_f1         : 0.820101749299521\n",
      "    val_balanced_accuracy: 0.7913912761866726\n",
      "    val_precision  : 0.8283616333280728\n",
      "    val_recall     : 0.8261607142857142\n"
     ]
    },
    {
     "name": "stdout",
     "output_type": "stream",
     "text": [
      "Model has not improved in -------------| 112 epochs\n"
     ]
    },
    {
     "name": "stderr",
     "output_type": "stream",
     "text": [
      "    epoch          : 299\n",
      "    loss           : 0.3780943751335144\n",
      "    my_metric      : 0.7968968531468531\n",
      "    f1             : 0.7903942400807232\n",
      "    balanced_accuracy: 0.7712217643078273\n",
      "    precision      : 0.8064382063373373\n",
      "    recall         : 0.7968968531468531\n",
      "    val_loss       : 0.3590335726737976\n",
      "    val_my_metric  : 0.8396428571428572\n",
      "    val_f1         : 0.8368310163431625\n",
      "    val_balanced_accuracy: 0.8136161337462158\n",
      "    val_precision  : 0.8459582325686255\n",
      "    val_recall     : 0.8396428571428572\n"
     ]
    },
    {
     "name": "stdout",
     "output_type": "stream",
     "text": [
      "Model has not improved in -------------| 113 epochs\n"
     ]
    },
    {
     "name": "stderr",
     "output_type": "stream",
     "text": [
      "    epoch          : 300\n",
      "    loss           : 0.3788877473427699\n",
      "    my_metric      : 0.8152207167832167\n",
      "    f1             : 0.810616831280464\n",
      "    balanced_accuracy: 0.7941245840104318\n",
      "    precision      : 0.8245309889110793\n",
      "    recall         : 0.8152207167832167\n",
      "    val_loss       : 0.36045348048210146\n",
      "    val_my_metric  : 0.8339285714285714\n",
      "    val_f1         : 0.8311856025971694\n",
      "    val_balanced_accuracy: 0.8146886142080649\n",
      "    val_precision  : 0.8393293503219799\n",
      "    val_recall     : 0.8339285714285714\n",
      "Saving checkpoint: ../saved/IMPRS_hdf5_volume_AllDAPI_noise/0710_173648/checkpoint-epoch300.pth ...\n"
     ]
    },
    {
     "name": "stdout",
     "output_type": "stream",
     "text": [
      "Model has not improved in -------------| 114 epochs\n"
     ]
    },
    {
     "name": "stderr",
     "output_type": "stream",
     "text": [
      "    epoch          : 301\n",
      "    loss           : 0.3784766002343251\n",
      "    my_metric      : 0.8091018356643356\n",
      "    f1             : 0.8048988384882931\n",
      "    balanced_accuracy: 0.7921029922814766\n",
      "    precision      : 0.8205028407524294\n",
      "    recall         : 0.8091018356643356\n",
      "    val_loss       : 0.36218884587287903\n",
      "    val_my_metric  : 0.8313392857142856\n",
      "    val_f1         : 0.8302434169245029\n",
      "    val_balanced_accuracy: 0.8203015483600191\n",
      "    val_precision  : 0.8434801839242629\n",
      "    val_recall     : 0.8313392857142856\n"
     ]
    },
    {
     "name": "stdout",
     "output_type": "stream",
     "text": [
      "Model has not improved in -------------| 115 epochs\n"
     ]
    },
    {
     "name": "stderr",
     "output_type": "stream",
     "text": [
      "    epoch          : 302\n",
      "    loss           : 0.3820102856709407\n",
      "    my_metric      : 0.8024038461538462\n",
      "    f1             : 0.7974801397243515\n",
      "    balanced_accuracy: 0.7776724681113731\n",
      "    precision      : 0.8111895591698345\n",
      "    recall         : 0.8024038461538462\n",
      "    val_loss       : 0.37473814487457274\n",
      "    val_my_metric  : 0.8261607142857142\n",
      "    val_f1         : 0.8200796937430361\n",
      "    val_balanced_accuracy: 0.7972225334286357\n",
      "    val_precision  : 0.8348270799915454\n",
      "    val_recall     : 0.8261607142857142\n"
     ]
    },
    {
     "name": "stdout",
     "output_type": "stream",
     "text": [
      "Model has not improved in -------------| 116 epochs\n"
     ]
    },
    {
     "name": "stderr",
     "output_type": "stream",
     "text": [
      "    epoch          : 303\n",
      "    loss           : 0.37532670394732404\n",
      "    my_metric      : 0.806402972027972\n",
      "    f1             : 0.801087239282562\n",
      "    balanced_accuracy: 0.7824757391684642\n",
      "    precision      : 0.816576088395003\n",
      "    recall         : 0.806402972027972\n",
      "    val_loss       : 0.3524340808391571\n",
      "    val_my_metric  : 0.8162499999999999\n",
      "    val_f1         : 0.8129382657621612\n",
      "    val_balanced_accuracy: 0.7926872637789922\n",
      "    val_precision  : 0.8162149658876274\n",
      "    val_recall     : 0.8162499999999999\n"
     ]
    },
    {
     "name": "stdout",
     "output_type": "stream",
     "text": [
      "Model has not improved in -------------| 117 epochs\n"
     ]
    },
    {
     "name": "stderr",
     "output_type": "stream",
     "text": [
      "    epoch          : 304\n",
      "    loss           : 0.3902490654816994\n",
      "    my_metric      : 0.8030048076923078\n",
      "    f1             : 0.7975903891469266\n",
      "    balanced_accuracy: 0.7845148250717074\n",
      "    precision      : 0.8188534543578568\n",
      "    recall         : 0.8030048076923078\n",
      "    val_loss       : 0.3450426906347275\n",
      "    val_my_metric  : 0.8214285714285714\n",
      "    val_f1         : 0.8150888080689829\n",
      "    val_balanced_accuracy: 0.7864984015630888\n",
      "    val_precision  : 0.8282551425050556\n",
      "    val_recall     : 0.8214285714285714\n"
     ]
    },
    {
     "name": "stdout",
     "output_type": "stream",
     "text": [
      "Model has not improved in -------------| 118 epochs\n"
     ]
    }
   ],
   "source": [
    "# Train the network\n",
    "main(config, None)"
   ]
  },
  {
   "cell_type": "code",
   "execution_count": 3,
   "metadata": {},
   "outputs": [
    {
     "name": "stdout",
     "output_type": "stream",
     "text": [
      "skipped file: config.json\n"
     ]
    },
    {
     "data": {
      "application/javascript": [
       "/* Put everything inside the global mpl namespace */\n",
       "window.mpl = {};\n",
       "\n",
       "\n",
       "mpl.get_websocket_type = function() {\n",
       "    if (typeof(WebSocket) !== 'undefined') {\n",
       "        return WebSocket;\n",
       "    } else if (typeof(MozWebSocket) !== 'undefined') {\n",
       "        return MozWebSocket;\n",
       "    } else {\n",
       "        alert('Your browser does not have WebSocket support. ' +\n",
       "              'Please try Chrome, Safari or Firefox ≥ 6. ' +\n",
       "              'Firefox 4 and 5 are also supported but you ' +\n",
       "              'have to enable WebSockets in about:config.');\n",
       "    };\n",
       "}\n",
       "\n",
       "mpl.figure = function(figure_id, websocket, ondownload, parent_element) {\n",
       "    this.id = figure_id;\n",
       "\n",
       "    this.ws = websocket;\n",
       "\n",
       "    this.supports_binary = (this.ws.binaryType != undefined);\n",
       "\n",
       "    if (!this.supports_binary) {\n",
       "        var warnings = document.getElementById(\"mpl-warnings\");\n",
       "        if (warnings) {\n",
       "            warnings.style.display = 'block';\n",
       "            warnings.textContent = (\n",
       "                \"This browser does not support binary websocket messages. \" +\n",
       "                    \"Performance may be slow.\");\n",
       "        }\n",
       "    }\n",
       "\n",
       "    this.imageObj = new Image();\n",
       "\n",
       "    this.context = undefined;\n",
       "    this.message = undefined;\n",
       "    this.canvas = undefined;\n",
       "    this.rubberband_canvas = undefined;\n",
       "    this.rubberband_context = undefined;\n",
       "    this.format_dropdown = undefined;\n",
       "\n",
       "    this.image_mode = 'full';\n",
       "\n",
       "    this.root = $('<div/>');\n",
       "    this._root_extra_style(this.root)\n",
       "    this.root.attr('style', 'display: inline-block');\n",
       "\n",
       "    $(parent_element).append(this.root);\n",
       "\n",
       "    this._init_header(this);\n",
       "    this._init_canvas(this);\n",
       "    this._init_toolbar(this);\n",
       "\n",
       "    var fig = this;\n",
       "\n",
       "    this.waiting = false;\n",
       "\n",
       "    this.ws.onopen =  function () {\n",
       "            fig.send_message(\"supports_binary\", {value: fig.supports_binary});\n",
       "            fig.send_message(\"send_image_mode\", {});\n",
       "            if (mpl.ratio != 1) {\n",
       "                fig.send_message(\"set_dpi_ratio\", {'dpi_ratio': mpl.ratio});\n",
       "            }\n",
       "            fig.send_message(\"refresh\", {});\n",
       "        }\n",
       "\n",
       "    this.imageObj.onload = function() {\n",
       "            if (fig.image_mode == 'full') {\n",
       "                // Full images could contain transparency (where diff images\n",
       "                // almost always do), so we need to clear the canvas so that\n",
       "                // there is no ghosting.\n",
       "                fig.context.clearRect(0, 0, fig.canvas.width, fig.canvas.height);\n",
       "            }\n",
       "            fig.context.drawImage(fig.imageObj, 0, 0);\n",
       "        };\n",
       "\n",
       "    this.imageObj.onunload = function() {\n",
       "        fig.ws.close();\n",
       "    }\n",
       "\n",
       "    this.ws.onmessage = this._make_on_message_function(this);\n",
       "\n",
       "    this.ondownload = ondownload;\n",
       "}\n",
       "\n",
       "mpl.figure.prototype._init_header = function() {\n",
       "    var titlebar = $(\n",
       "        '<div class=\"ui-dialog-titlebar ui-widget-header ui-corner-all ' +\n",
       "        'ui-helper-clearfix\"/>');\n",
       "    var titletext = $(\n",
       "        '<div class=\"ui-dialog-title\" style=\"width: 100%; ' +\n",
       "        'text-align: center; padding: 3px;\"/>');\n",
       "    titlebar.append(titletext)\n",
       "    this.root.append(titlebar);\n",
       "    this.header = titletext[0];\n",
       "}\n",
       "\n",
       "\n",
       "\n",
       "mpl.figure.prototype._canvas_extra_style = function(canvas_div) {\n",
       "\n",
       "}\n",
       "\n",
       "\n",
       "mpl.figure.prototype._root_extra_style = function(canvas_div) {\n",
       "\n",
       "}\n",
       "\n",
       "mpl.figure.prototype._init_canvas = function() {\n",
       "    var fig = this;\n",
       "\n",
       "    var canvas_div = $('<div/>');\n",
       "\n",
       "    canvas_div.attr('style', 'position: relative; clear: both; outline: 0');\n",
       "\n",
       "    function canvas_keyboard_event(event) {\n",
       "        return fig.key_event(event, event['data']);\n",
       "    }\n",
       "\n",
       "    canvas_div.keydown('key_press', canvas_keyboard_event);\n",
       "    canvas_div.keyup('key_release', canvas_keyboard_event);\n",
       "    this.canvas_div = canvas_div\n",
       "    this._canvas_extra_style(canvas_div)\n",
       "    this.root.append(canvas_div);\n",
       "\n",
       "    var canvas = $('<canvas/>');\n",
       "    canvas.addClass('mpl-canvas');\n",
       "    canvas.attr('style', \"left: 0; top: 0; z-index: 0; outline: 0\")\n",
       "\n",
       "    this.canvas = canvas[0];\n",
       "    this.context = canvas[0].getContext(\"2d\");\n",
       "\n",
       "    var backingStore = this.context.backingStorePixelRatio ||\n",
       "\tthis.context.webkitBackingStorePixelRatio ||\n",
       "\tthis.context.mozBackingStorePixelRatio ||\n",
       "\tthis.context.msBackingStorePixelRatio ||\n",
       "\tthis.context.oBackingStorePixelRatio ||\n",
       "\tthis.context.backingStorePixelRatio || 1;\n",
       "\n",
       "    mpl.ratio = (window.devicePixelRatio || 1) / backingStore;\n",
       "\n",
       "    var rubberband = $('<canvas/>');\n",
       "    rubberband.attr('style', \"position: absolute; left: 0; top: 0; z-index: 1;\")\n",
       "\n",
       "    var pass_mouse_events = true;\n",
       "\n",
       "    canvas_div.resizable({\n",
       "        start: function(event, ui) {\n",
       "            pass_mouse_events = false;\n",
       "        },\n",
       "        resize: function(event, ui) {\n",
       "            fig.request_resize(ui.size.width, ui.size.height);\n",
       "        },\n",
       "        stop: function(event, ui) {\n",
       "            pass_mouse_events = true;\n",
       "            fig.request_resize(ui.size.width, ui.size.height);\n",
       "        },\n",
       "    });\n",
       "\n",
       "    function mouse_event_fn(event) {\n",
       "        if (pass_mouse_events)\n",
       "            return fig.mouse_event(event, event['data']);\n",
       "    }\n",
       "\n",
       "    rubberband.mousedown('button_press', mouse_event_fn);\n",
       "    rubberband.mouseup('button_release', mouse_event_fn);\n",
       "    // Throttle sequential mouse events to 1 every 20ms.\n",
       "    rubberband.mousemove('motion_notify', mouse_event_fn);\n",
       "\n",
       "    rubberband.mouseenter('figure_enter', mouse_event_fn);\n",
       "    rubberband.mouseleave('figure_leave', mouse_event_fn);\n",
       "\n",
       "    canvas_div.on(\"wheel\", function (event) {\n",
       "        event = event.originalEvent;\n",
       "        event['data'] = 'scroll'\n",
       "        if (event.deltaY < 0) {\n",
       "            event.step = 1;\n",
       "        } else {\n",
       "            event.step = -1;\n",
       "        }\n",
       "        mouse_event_fn(event);\n",
       "    });\n",
       "\n",
       "    canvas_div.append(canvas);\n",
       "    canvas_div.append(rubberband);\n",
       "\n",
       "    this.rubberband = rubberband;\n",
       "    this.rubberband_canvas = rubberband[0];\n",
       "    this.rubberband_context = rubberband[0].getContext(\"2d\");\n",
       "    this.rubberband_context.strokeStyle = \"#000000\";\n",
       "\n",
       "    this._resize_canvas = function(width, height) {\n",
       "        // Keep the size of the canvas, canvas container, and rubber band\n",
       "        // canvas in synch.\n",
       "        canvas_div.css('width', width)\n",
       "        canvas_div.css('height', height)\n",
       "\n",
       "        canvas.attr('width', width * mpl.ratio);\n",
       "        canvas.attr('height', height * mpl.ratio);\n",
       "        canvas.attr('style', 'width: ' + width + 'px; height: ' + height + 'px;');\n",
       "\n",
       "        rubberband.attr('width', width);\n",
       "        rubberband.attr('height', height);\n",
       "    }\n",
       "\n",
       "    // Set the figure to an initial 600x600px, this will subsequently be updated\n",
       "    // upon first draw.\n",
       "    this._resize_canvas(600, 600);\n",
       "\n",
       "    // Disable right mouse context menu.\n",
       "    $(this.rubberband_canvas).bind(\"contextmenu\",function(e){\n",
       "        return false;\n",
       "    });\n",
       "\n",
       "    function set_focus () {\n",
       "        canvas.focus();\n",
       "        canvas_div.focus();\n",
       "    }\n",
       "\n",
       "    window.setTimeout(set_focus, 100);\n",
       "}\n",
       "\n",
       "mpl.figure.prototype._init_toolbar = function() {\n",
       "    var fig = this;\n",
       "\n",
       "    var nav_element = $('<div/>');\n",
       "    nav_element.attr('style', 'width: 100%');\n",
       "    this.root.append(nav_element);\n",
       "\n",
       "    // Define a callback function for later on.\n",
       "    function toolbar_event(event) {\n",
       "        return fig.toolbar_button_onclick(event['data']);\n",
       "    }\n",
       "    function toolbar_mouse_event(event) {\n",
       "        return fig.toolbar_button_onmouseover(event['data']);\n",
       "    }\n",
       "\n",
       "    for(var toolbar_ind in mpl.toolbar_items) {\n",
       "        var name = mpl.toolbar_items[toolbar_ind][0];\n",
       "        var tooltip = mpl.toolbar_items[toolbar_ind][1];\n",
       "        var image = mpl.toolbar_items[toolbar_ind][2];\n",
       "        var method_name = mpl.toolbar_items[toolbar_ind][3];\n",
       "\n",
       "        if (!name) {\n",
       "            // put a spacer in here.\n",
       "            continue;\n",
       "        }\n",
       "        var button = $('<button/>');\n",
       "        button.addClass('ui-button ui-widget ui-state-default ui-corner-all ' +\n",
       "                        'ui-button-icon-only');\n",
       "        button.attr('role', 'button');\n",
       "        button.attr('aria-disabled', 'false');\n",
       "        button.click(method_name, toolbar_event);\n",
       "        button.mouseover(tooltip, toolbar_mouse_event);\n",
       "\n",
       "        var icon_img = $('<span/>');\n",
       "        icon_img.addClass('ui-button-icon-primary ui-icon');\n",
       "        icon_img.addClass(image);\n",
       "        icon_img.addClass('ui-corner-all');\n",
       "\n",
       "        var tooltip_span = $('<span/>');\n",
       "        tooltip_span.addClass('ui-button-text');\n",
       "        tooltip_span.html(tooltip);\n",
       "\n",
       "        button.append(icon_img);\n",
       "        button.append(tooltip_span);\n",
       "\n",
       "        nav_element.append(button);\n",
       "    }\n",
       "\n",
       "    var fmt_picker_span = $('<span/>');\n",
       "\n",
       "    var fmt_picker = $('<select/>');\n",
       "    fmt_picker.addClass('mpl-toolbar-option ui-widget ui-widget-content');\n",
       "    fmt_picker_span.append(fmt_picker);\n",
       "    nav_element.append(fmt_picker_span);\n",
       "    this.format_dropdown = fmt_picker[0];\n",
       "\n",
       "    for (var ind in mpl.extensions) {\n",
       "        var fmt = mpl.extensions[ind];\n",
       "        var option = $(\n",
       "            '<option/>', {selected: fmt === mpl.default_extension}).html(fmt);\n",
       "        fmt_picker.append(option);\n",
       "    }\n",
       "\n",
       "    // Add hover states to the ui-buttons\n",
       "    $( \".ui-button\" ).hover(\n",
       "        function() { $(this).addClass(\"ui-state-hover\");},\n",
       "        function() { $(this).removeClass(\"ui-state-hover\");}\n",
       "    );\n",
       "\n",
       "    var status_bar = $('<span class=\"mpl-message\"/>');\n",
       "    nav_element.append(status_bar);\n",
       "    this.message = status_bar[0];\n",
       "}\n",
       "\n",
       "mpl.figure.prototype.request_resize = function(x_pixels, y_pixels) {\n",
       "    // Request matplotlib to resize the figure. Matplotlib will then trigger a resize in the client,\n",
       "    // which will in turn request a refresh of the image.\n",
       "    this.send_message('resize', {'width': x_pixels, 'height': y_pixels});\n",
       "}\n",
       "\n",
       "mpl.figure.prototype.send_message = function(type, properties) {\n",
       "    properties['type'] = type;\n",
       "    properties['figure_id'] = this.id;\n",
       "    this.ws.send(JSON.stringify(properties));\n",
       "}\n",
       "\n",
       "mpl.figure.prototype.send_draw_message = function() {\n",
       "    if (!this.waiting) {\n",
       "        this.waiting = true;\n",
       "        this.ws.send(JSON.stringify({type: \"draw\", figure_id: this.id}));\n",
       "    }\n",
       "}\n",
       "\n",
       "\n",
       "mpl.figure.prototype.handle_save = function(fig, msg) {\n",
       "    var format_dropdown = fig.format_dropdown;\n",
       "    var format = format_dropdown.options[format_dropdown.selectedIndex].value;\n",
       "    fig.ondownload(fig, format);\n",
       "}\n",
       "\n",
       "\n",
       "mpl.figure.prototype.handle_resize = function(fig, msg) {\n",
       "    var size = msg['size'];\n",
       "    if (size[0] != fig.canvas.width || size[1] != fig.canvas.height) {\n",
       "        fig._resize_canvas(size[0], size[1]);\n",
       "        fig.send_message(\"refresh\", {});\n",
       "    };\n",
       "}\n",
       "\n",
       "mpl.figure.prototype.handle_rubberband = function(fig, msg) {\n",
       "    var x0 = msg['x0'] / mpl.ratio;\n",
       "    var y0 = (fig.canvas.height - msg['y0']) / mpl.ratio;\n",
       "    var x1 = msg['x1'] / mpl.ratio;\n",
       "    var y1 = (fig.canvas.height - msg['y1']) / mpl.ratio;\n",
       "    x0 = Math.floor(x0) + 0.5;\n",
       "    y0 = Math.floor(y0) + 0.5;\n",
       "    x1 = Math.floor(x1) + 0.5;\n",
       "    y1 = Math.floor(y1) + 0.5;\n",
       "    var min_x = Math.min(x0, x1);\n",
       "    var min_y = Math.min(y0, y1);\n",
       "    var width = Math.abs(x1 - x0);\n",
       "    var height = Math.abs(y1 - y0);\n",
       "\n",
       "    fig.rubberband_context.clearRect(\n",
       "        0, 0, fig.canvas.width, fig.canvas.height);\n",
       "\n",
       "    fig.rubberband_context.strokeRect(min_x, min_y, width, height);\n",
       "}\n",
       "\n",
       "mpl.figure.prototype.handle_figure_label = function(fig, msg) {\n",
       "    // Updates the figure title.\n",
       "    fig.header.textContent = msg['label'];\n",
       "}\n",
       "\n",
       "mpl.figure.prototype.handle_cursor = function(fig, msg) {\n",
       "    var cursor = msg['cursor'];\n",
       "    switch(cursor)\n",
       "    {\n",
       "    case 0:\n",
       "        cursor = 'pointer';\n",
       "        break;\n",
       "    case 1:\n",
       "        cursor = 'default';\n",
       "        break;\n",
       "    case 2:\n",
       "        cursor = 'crosshair';\n",
       "        break;\n",
       "    case 3:\n",
       "        cursor = 'move';\n",
       "        break;\n",
       "    }\n",
       "    fig.rubberband_canvas.style.cursor = cursor;\n",
       "}\n",
       "\n",
       "mpl.figure.prototype.handle_message = function(fig, msg) {\n",
       "    fig.message.textContent = msg['message'];\n",
       "}\n",
       "\n",
       "mpl.figure.prototype.handle_draw = function(fig, msg) {\n",
       "    // Request the server to send over a new figure.\n",
       "    fig.send_draw_message();\n",
       "}\n",
       "\n",
       "mpl.figure.prototype.handle_image_mode = function(fig, msg) {\n",
       "    fig.image_mode = msg['mode'];\n",
       "}\n",
       "\n",
       "mpl.figure.prototype.updated_canvas_event = function() {\n",
       "    // Called whenever the canvas gets updated.\n",
       "    this.send_message(\"ack\", {});\n",
       "}\n",
       "\n",
       "// A function to construct a web socket function for onmessage handling.\n",
       "// Called in the figure constructor.\n",
       "mpl.figure.prototype._make_on_message_function = function(fig) {\n",
       "    return function socket_on_message(evt) {\n",
       "        if (evt.data instanceof Blob) {\n",
       "            /* FIXME: We get \"Resource interpreted as Image but\n",
       "             * transferred with MIME type text/plain:\" errors on\n",
       "             * Chrome.  But how to set the MIME type?  It doesn't seem\n",
       "             * to be part of the websocket stream */\n",
       "            evt.data.type = \"image/png\";\n",
       "\n",
       "            /* Free the memory for the previous frames */\n",
       "            if (fig.imageObj.src) {\n",
       "                (window.URL || window.webkitURL).revokeObjectURL(\n",
       "                    fig.imageObj.src);\n",
       "            }\n",
       "\n",
       "            fig.imageObj.src = (window.URL || window.webkitURL).createObjectURL(\n",
       "                evt.data);\n",
       "            fig.updated_canvas_event();\n",
       "            fig.waiting = false;\n",
       "            return;\n",
       "        }\n",
       "        else if (typeof evt.data === 'string' && evt.data.slice(0, 21) == \"data:image/png;base64\") {\n",
       "            fig.imageObj.src = evt.data;\n",
       "            fig.updated_canvas_event();\n",
       "            fig.waiting = false;\n",
       "            return;\n",
       "        }\n",
       "\n",
       "        var msg = JSON.parse(evt.data);\n",
       "        var msg_type = msg['type'];\n",
       "\n",
       "        // Call the  \"handle_{type}\" callback, which takes\n",
       "        // the figure and JSON message as its only arguments.\n",
       "        try {\n",
       "            var callback = fig[\"handle_\" + msg_type];\n",
       "        } catch (e) {\n",
       "            console.log(\"No handler for the '\" + msg_type + \"' message type: \", msg);\n",
       "            return;\n",
       "        }\n",
       "\n",
       "        if (callback) {\n",
       "            try {\n",
       "                // console.log(\"Handling '\" + msg_type + \"' message: \", msg);\n",
       "                callback(fig, msg);\n",
       "            } catch (e) {\n",
       "                console.log(\"Exception inside the 'handler_\" + msg_type + \"' callback:\", e, e.stack, msg);\n",
       "            }\n",
       "        }\n",
       "    };\n",
       "}\n",
       "\n",
       "// from http://stackoverflow.com/questions/1114465/getting-mouse-location-in-canvas\n",
       "mpl.findpos = function(e) {\n",
       "    //this section is from http://www.quirksmode.org/js/events_properties.html\n",
       "    var targ;\n",
       "    if (!e)\n",
       "        e = window.event;\n",
       "    if (e.target)\n",
       "        targ = e.target;\n",
       "    else if (e.srcElement)\n",
       "        targ = e.srcElement;\n",
       "    if (targ.nodeType == 3) // defeat Safari bug\n",
       "        targ = targ.parentNode;\n",
       "\n",
       "    // jQuery normalizes the pageX and pageY\n",
       "    // pageX,Y are the mouse positions relative to the document\n",
       "    // offset() returns the position of the element relative to the document\n",
       "    var x = e.pageX - $(targ).offset().left;\n",
       "    var y = e.pageY - $(targ).offset().top;\n",
       "\n",
       "    return {\"x\": x, \"y\": y};\n",
       "};\n",
       "\n",
       "/*\n",
       " * return a copy of an object with only non-object keys\n",
       " * we need this to avoid circular references\n",
       " * http://stackoverflow.com/a/24161582/3208463\n",
       " */\n",
       "function simpleKeys (original) {\n",
       "  return Object.keys(original).reduce(function (obj, key) {\n",
       "    if (typeof original[key] !== 'object')\n",
       "        obj[key] = original[key]\n",
       "    return obj;\n",
       "  }, {});\n",
       "}\n",
       "\n",
       "mpl.figure.prototype.mouse_event = function(event, name) {\n",
       "    var canvas_pos = mpl.findpos(event)\n",
       "\n",
       "    if (name === 'button_press')\n",
       "    {\n",
       "        this.canvas.focus();\n",
       "        this.canvas_div.focus();\n",
       "    }\n",
       "\n",
       "    var x = canvas_pos.x * mpl.ratio;\n",
       "    var y = canvas_pos.y * mpl.ratio;\n",
       "\n",
       "    this.send_message(name, {x: x, y: y, button: event.button,\n",
       "                             step: event.step,\n",
       "                             guiEvent: simpleKeys(event)});\n",
       "\n",
       "    /* This prevents the web browser from automatically changing to\n",
       "     * the text insertion cursor when the button is pressed.  We want\n",
       "     * to control all of the cursor setting manually through the\n",
       "     * 'cursor' event from matplotlib */\n",
       "    event.preventDefault();\n",
       "    return false;\n",
       "}\n",
       "\n",
       "mpl.figure.prototype._key_event_extra = function(event, name) {\n",
       "    // Handle any extra behaviour associated with a key event\n",
       "}\n",
       "\n",
       "mpl.figure.prototype.key_event = function(event, name) {\n",
       "\n",
       "    // Prevent repeat events\n",
       "    if (name == 'key_press')\n",
       "    {\n",
       "        if (event.which === this._key)\n",
       "            return;\n",
       "        else\n",
       "            this._key = event.which;\n",
       "    }\n",
       "    if (name == 'key_release')\n",
       "        this._key = null;\n",
       "\n",
       "    var value = '';\n",
       "    if (event.ctrlKey && event.which != 17)\n",
       "        value += \"ctrl+\";\n",
       "    if (event.altKey && event.which != 18)\n",
       "        value += \"alt+\";\n",
       "    if (event.shiftKey && event.which != 16)\n",
       "        value += \"shift+\";\n",
       "\n",
       "    value += 'k';\n",
       "    value += event.which.toString();\n",
       "\n",
       "    this._key_event_extra(event, name);\n",
       "\n",
       "    this.send_message(name, {key: value,\n",
       "                             guiEvent: simpleKeys(event)});\n",
       "    return false;\n",
       "}\n",
       "\n",
       "mpl.figure.prototype.toolbar_button_onclick = function(name) {\n",
       "    if (name == 'download') {\n",
       "        this.handle_save(this, null);\n",
       "    } else {\n",
       "        this.send_message(\"toolbar_button\", {name: name});\n",
       "    }\n",
       "};\n",
       "\n",
       "mpl.figure.prototype.toolbar_button_onmouseover = function(tooltip) {\n",
       "    this.message.textContent = tooltip;\n",
       "};\n",
       "mpl.toolbar_items = [[\"Home\", \"Reset original view\", \"fa fa-home icon-home\", \"home\"], [\"Back\", \"Back to previous view\", \"fa fa-arrow-left icon-arrow-left\", \"back\"], [\"Forward\", \"Forward to next view\", \"fa fa-arrow-right icon-arrow-right\", \"forward\"], [\"\", \"\", \"\", \"\"], [\"Pan\", \"Pan axes with left mouse, zoom with right\", \"fa fa-arrows icon-move\", \"pan\"], [\"Zoom\", \"Zoom to rectangle\", \"fa fa-square-o icon-check-empty\", \"zoom\"], [\"\", \"\", \"\", \"\"], [\"Download\", \"Download plot\", \"fa fa-floppy-o icon-save\", \"download\"]];\n",
       "\n",
       "mpl.extensions = [\"eps\", \"jpeg\", \"pdf\", \"png\", \"ps\", \"raw\", \"svg\", \"tif\"];\n",
       "\n",
       "mpl.default_extension = \"png\";var comm_websocket_adapter = function(comm) {\n",
       "    // Create a \"websocket\"-like object which calls the given IPython comm\n",
       "    // object with the appropriate methods. Currently this is a non binary\n",
       "    // socket, so there is still some room for performance tuning.\n",
       "    var ws = {};\n",
       "\n",
       "    ws.close = function() {\n",
       "        comm.close()\n",
       "    };\n",
       "    ws.send = function(m) {\n",
       "        //console.log('sending', m);\n",
       "        comm.send(m);\n",
       "    };\n",
       "    // Register the callback with on_msg.\n",
       "    comm.on_msg(function(msg) {\n",
       "        //console.log('receiving', msg['content']['data'], msg);\n",
       "        // Pass the mpl event to the overridden (by mpl) onmessage function.\n",
       "        ws.onmessage(msg['content']['data'])\n",
       "    });\n",
       "    return ws;\n",
       "}\n",
       "\n",
       "mpl.mpl_figure_comm = function(comm, msg) {\n",
       "    // This is the function which gets called when the mpl process\n",
       "    // starts-up an IPython Comm through the \"matplotlib\" channel.\n",
       "\n",
       "    var id = msg.content.data.id;\n",
       "    // Get hold of the div created by the display call when the Comm\n",
       "    // socket was opened in Python.\n",
       "    var element = $(\"#\" + id);\n",
       "    var ws_proxy = comm_websocket_adapter(comm)\n",
       "\n",
       "    function ondownload(figure, format) {\n",
       "        window.open(figure.imageObj.src);\n",
       "    }\n",
       "\n",
       "    var fig = new mpl.figure(id, ws_proxy,\n",
       "                           ondownload,\n",
       "                           element.get(0));\n",
       "\n",
       "    // Call onopen now - mpl needs it, as it is assuming we've passed it a real\n",
       "    // web socket which is closed, not our websocket->open comm proxy.\n",
       "    ws_proxy.onopen();\n",
       "\n",
       "    fig.parent_element = element.get(0);\n",
       "    fig.cell_info = mpl.find_output_cell(\"<div id='\" + id + \"'></div>\");\n",
       "    if (!fig.cell_info) {\n",
       "        console.error(\"Failed to find cell for figure\", id, fig);\n",
       "        return;\n",
       "    }\n",
       "\n",
       "    var output_index = fig.cell_info[2]\n",
       "    var cell = fig.cell_info[0];\n",
       "\n",
       "};\n",
       "\n",
       "mpl.figure.prototype.handle_close = function(fig, msg) {\n",
       "    var width = fig.canvas.width/mpl.ratio\n",
       "    fig.root.unbind('remove')\n",
       "\n",
       "    // Update the output cell to use the data from the current canvas.\n",
       "    fig.push_to_output();\n",
       "    var dataURL = fig.canvas.toDataURL();\n",
       "    // Re-enable the keyboard manager in IPython - without this line, in FF,\n",
       "    // the notebook keyboard shortcuts fail.\n",
       "    IPython.keyboard_manager.enable()\n",
       "    $(fig.parent_element).html('<img src=\"' + dataURL + '\" width=\"' + width + '\">');\n",
       "    fig.close_ws(fig, msg);\n",
       "}\n",
       "\n",
       "mpl.figure.prototype.close_ws = function(fig, msg){\n",
       "    fig.send_message('closing', msg);\n",
       "    // fig.ws.close()\n",
       "}\n",
       "\n",
       "mpl.figure.prototype.push_to_output = function(remove_interactive) {\n",
       "    // Turn the data on the canvas into data in the output cell.\n",
       "    var width = this.canvas.width/mpl.ratio\n",
       "    var dataURL = this.canvas.toDataURL();\n",
       "    this.cell_info[1]['text/html'] = '<img src=\"' + dataURL + '\" width=\"' + width + '\">';\n",
       "}\n",
       "\n",
       "mpl.figure.prototype.updated_canvas_event = function() {\n",
       "    // Tell IPython that the notebook contents must change.\n",
       "    IPython.notebook.set_dirty(true);\n",
       "    this.send_message(\"ack\", {});\n",
       "    var fig = this;\n",
       "    // Wait a second, then push the new image to the DOM so\n",
       "    // that it is saved nicely (might be nice to debounce this).\n",
       "    setTimeout(function () { fig.push_to_output() }, 1000);\n",
       "}\n",
       "\n",
       "mpl.figure.prototype._init_toolbar = function() {\n",
       "    var fig = this;\n",
       "\n",
       "    var nav_element = $('<div/>');\n",
       "    nav_element.attr('style', 'width: 100%');\n",
       "    this.root.append(nav_element);\n",
       "\n",
       "    // Define a callback function for later on.\n",
       "    function toolbar_event(event) {\n",
       "        return fig.toolbar_button_onclick(event['data']);\n",
       "    }\n",
       "    function toolbar_mouse_event(event) {\n",
       "        return fig.toolbar_button_onmouseover(event['data']);\n",
       "    }\n",
       "\n",
       "    for(var toolbar_ind in mpl.toolbar_items){\n",
       "        var name = mpl.toolbar_items[toolbar_ind][0];\n",
       "        var tooltip = mpl.toolbar_items[toolbar_ind][1];\n",
       "        var image = mpl.toolbar_items[toolbar_ind][2];\n",
       "        var method_name = mpl.toolbar_items[toolbar_ind][3];\n",
       "\n",
       "        if (!name) { continue; };\n",
       "\n",
       "        var button = $('<button class=\"btn btn-default\" href=\"#\" title=\"' + name + '\"><i class=\"fa ' + image + ' fa-lg\"></i></button>');\n",
       "        button.click(method_name, toolbar_event);\n",
       "        button.mouseover(tooltip, toolbar_mouse_event);\n",
       "        nav_element.append(button);\n",
       "    }\n",
       "\n",
       "    // Add the status bar.\n",
       "    var status_bar = $('<span class=\"mpl-message\" style=\"text-align:right; float: right;\"/>');\n",
       "    nav_element.append(status_bar);\n",
       "    this.message = status_bar[0];\n",
       "\n",
       "    // Add the close button to the window.\n",
       "    var buttongrp = $('<div class=\"btn-group inline pull-right\"></div>');\n",
       "    var button = $('<button class=\"btn btn-mini btn-primary\" href=\"#\" title=\"Stop Interaction\"><i class=\"fa fa-power-off icon-remove icon-large\"></i></button>');\n",
       "    button.click(function (evt) { fig.handle_close(fig, {}); } );\n",
       "    button.mouseover('Stop Interaction', toolbar_mouse_event);\n",
       "    buttongrp.append(button);\n",
       "    var titlebar = this.root.find($('.ui-dialog-titlebar'));\n",
       "    titlebar.prepend(buttongrp);\n",
       "}\n",
       "\n",
       "mpl.figure.prototype._root_extra_style = function(el){\n",
       "    var fig = this\n",
       "    el.on(\"remove\", function(){\n",
       "\tfig.close_ws(fig, {});\n",
       "    });\n",
       "}\n",
       "\n",
       "mpl.figure.prototype._canvas_extra_style = function(el){\n",
       "    // this is important to make the div 'focusable\n",
       "    el.attr('tabindex', 0)\n",
       "    // reach out to IPython and tell the keyboard manager to turn it's self\n",
       "    // off when our div gets focus\n",
       "\n",
       "    // location in version 3\n",
       "    if (IPython.notebook.keyboard_manager) {\n",
       "        IPython.notebook.keyboard_manager.register_events(el);\n",
       "    }\n",
       "    else {\n",
       "        // location in version 2\n",
       "        IPython.keyboard_manager.register_events(el);\n",
       "    }\n",
       "\n",
       "}\n",
       "\n",
       "mpl.figure.prototype._key_event_extra = function(event, name) {\n",
       "    var manager = IPython.notebook.keyboard_manager;\n",
       "    if (!manager)\n",
       "        manager = IPython.keyboard_manager;\n",
       "\n",
       "    // Check for shift+enter\n",
       "    if (event.shiftKey && event.which == 13) {\n",
       "        this.canvas_div.blur();\n",
       "        event.shiftKey = false;\n",
       "        // Send a \"J\" for go to next cell\n",
       "        event.which = 74;\n",
       "        event.keyCode = 74;\n",
       "        manager.command_mode();\n",
       "        manager.handle_keydown(event);\n",
       "    }\n",
       "}\n",
       "\n",
       "mpl.figure.prototype.handle_save = function(fig, msg) {\n",
       "    fig.ondownload(fig, null);\n",
       "}\n",
       "\n",
       "\n",
       "mpl.find_output_cell = function(html_output) {\n",
       "    // Return the cell and output element which can be found *uniquely* in the notebook.\n",
       "    // Note - this is a bit hacky, but it is done because the \"notebook_saving.Notebook\"\n",
       "    // IPython event is triggered only after the cells have been serialised, which for\n",
       "    // our purposes (turning an active figure into a static one), is too late.\n",
       "    var cells = IPython.notebook.get_cells();\n",
       "    var ncells = cells.length;\n",
       "    for (var i=0; i<ncells; i++) {\n",
       "        var cell = cells[i];\n",
       "        if (cell.cell_type === 'code'){\n",
       "            for (var j=0; j<cell.output_area.outputs.length; j++) {\n",
       "                var data = cell.output_area.outputs[j];\n",
       "                if (data.data) {\n",
       "                    // IPython >= 3 moved mimebundle to data attribute of output\n",
       "                    data = data.data;\n",
       "                }\n",
       "                if (data['text/html'] == html_output) {\n",
       "                    return [cell, data, j];\n",
       "                }\n",
       "            }\n",
       "        }\n",
       "    }\n",
       "}\n",
       "\n",
       "// Register the function which deals with the matplotlib target/channel.\n",
       "// The kernel may be null if the page has been refreshed.\n",
       "if (IPython.notebook.kernel != null) {\n",
       "    IPython.notebook.kernel.comm_manager.register_target('matplotlib', mpl.mpl_figure_comm);\n",
       "}\n"
      ],
      "text/plain": [
       "<IPython.core.display.Javascript object>"
      ]
     },
     "metadata": {},
     "output_type": "display_data"
    },
    {
     "data": {
      "text/html": [
       "<img src=\"data:image/png;base64,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\" width=\"640\">"
      ],
      "text/plain": [
       "<IPython.core.display.HTML object>"
      ]
     },
     "metadata": {},
     "output_type": "display_data"
    },
    {
     "data": {
      "application/javascript": [
       "/* Put everything inside the global mpl namespace */\n",
       "window.mpl = {};\n",
       "\n",
       "\n",
       "mpl.get_websocket_type = function() {\n",
       "    if (typeof(WebSocket) !== 'undefined') {\n",
       "        return WebSocket;\n",
       "    } else if (typeof(MozWebSocket) !== 'undefined') {\n",
       "        return MozWebSocket;\n",
       "    } else {\n",
       "        alert('Your browser does not have WebSocket support. ' +\n",
       "              'Please try Chrome, Safari or Firefox ≥ 6. ' +\n",
       "              'Firefox 4 and 5 are also supported but you ' +\n",
       "              'have to enable WebSockets in about:config.');\n",
       "    };\n",
       "}\n",
       "\n",
       "mpl.figure = function(figure_id, websocket, ondownload, parent_element) {\n",
       "    this.id = figure_id;\n",
       "\n",
       "    this.ws = websocket;\n",
       "\n",
       "    this.supports_binary = (this.ws.binaryType != undefined);\n",
       "\n",
       "    if (!this.supports_binary) {\n",
       "        var warnings = document.getElementById(\"mpl-warnings\");\n",
       "        if (warnings) {\n",
       "            warnings.style.display = 'block';\n",
       "            warnings.textContent = (\n",
       "                \"This browser does not support binary websocket messages. \" +\n",
       "                    \"Performance may be slow.\");\n",
       "        }\n",
       "    }\n",
       "\n",
       "    this.imageObj = new Image();\n",
       "\n",
       "    this.context = undefined;\n",
       "    this.message = undefined;\n",
       "    this.canvas = undefined;\n",
       "    this.rubberband_canvas = undefined;\n",
       "    this.rubberband_context = undefined;\n",
       "    this.format_dropdown = undefined;\n",
       "\n",
       "    this.image_mode = 'full';\n",
       "\n",
       "    this.root = $('<div/>');\n",
       "    this._root_extra_style(this.root)\n",
       "    this.root.attr('style', 'display: inline-block');\n",
       "\n",
       "    $(parent_element).append(this.root);\n",
       "\n",
       "    this._init_header(this);\n",
       "    this._init_canvas(this);\n",
       "    this._init_toolbar(this);\n",
       "\n",
       "    var fig = this;\n",
       "\n",
       "    this.waiting = false;\n",
       "\n",
       "    this.ws.onopen =  function () {\n",
       "            fig.send_message(\"supports_binary\", {value: fig.supports_binary});\n",
       "            fig.send_message(\"send_image_mode\", {});\n",
       "            if (mpl.ratio != 1) {\n",
       "                fig.send_message(\"set_dpi_ratio\", {'dpi_ratio': mpl.ratio});\n",
       "            }\n",
       "            fig.send_message(\"refresh\", {});\n",
       "        }\n",
       "\n",
       "    this.imageObj.onload = function() {\n",
       "            if (fig.image_mode == 'full') {\n",
       "                // Full images could contain transparency (where diff images\n",
       "                // almost always do), so we need to clear the canvas so that\n",
       "                // there is no ghosting.\n",
       "                fig.context.clearRect(0, 0, fig.canvas.width, fig.canvas.height);\n",
       "            }\n",
       "            fig.context.drawImage(fig.imageObj, 0, 0);\n",
       "        };\n",
       "\n",
       "    this.imageObj.onunload = function() {\n",
       "        fig.ws.close();\n",
       "    }\n",
       "\n",
       "    this.ws.onmessage = this._make_on_message_function(this);\n",
       "\n",
       "    this.ondownload = ondownload;\n",
       "}\n",
       "\n",
       "mpl.figure.prototype._init_header = function() {\n",
       "    var titlebar = $(\n",
       "        '<div class=\"ui-dialog-titlebar ui-widget-header ui-corner-all ' +\n",
       "        'ui-helper-clearfix\"/>');\n",
       "    var titletext = $(\n",
       "        '<div class=\"ui-dialog-title\" style=\"width: 100%; ' +\n",
       "        'text-align: center; padding: 3px;\"/>');\n",
       "    titlebar.append(titletext)\n",
       "    this.root.append(titlebar);\n",
       "    this.header = titletext[0];\n",
       "}\n",
       "\n",
       "\n",
       "\n",
       "mpl.figure.prototype._canvas_extra_style = function(canvas_div) {\n",
       "\n",
       "}\n",
       "\n",
       "\n",
       "mpl.figure.prototype._root_extra_style = function(canvas_div) {\n",
       "\n",
       "}\n",
       "\n",
       "mpl.figure.prototype._init_canvas = function() {\n",
       "    var fig = this;\n",
       "\n",
       "    var canvas_div = $('<div/>');\n",
       "\n",
       "    canvas_div.attr('style', 'position: relative; clear: both; outline: 0');\n",
       "\n",
       "    function canvas_keyboard_event(event) {\n",
       "        return fig.key_event(event, event['data']);\n",
       "    }\n",
       "\n",
       "    canvas_div.keydown('key_press', canvas_keyboard_event);\n",
       "    canvas_div.keyup('key_release', canvas_keyboard_event);\n",
       "    this.canvas_div = canvas_div\n",
       "    this._canvas_extra_style(canvas_div)\n",
       "    this.root.append(canvas_div);\n",
       "\n",
       "    var canvas = $('<canvas/>');\n",
       "    canvas.addClass('mpl-canvas');\n",
       "    canvas.attr('style', \"left: 0; top: 0; z-index: 0; outline: 0\")\n",
       "\n",
       "    this.canvas = canvas[0];\n",
       "    this.context = canvas[0].getContext(\"2d\");\n",
       "\n",
       "    var backingStore = this.context.backingStorePixelRatio ||\n",
       "\tthis.context.webkitBackingStorePixelRatio ||\n",
       "\tthis.context.mozBackingStorePixelRatio ||\n",
       "\tthis.context.msBackingStorePixelRatio ||\n",
       "\tthis.context.oBackingStorePixelRatio ||\n",
       "\tthis.context.backingStorePixelRatio || 1;\n",
       "\n",
       "    mpl.ratio = (window.devicePixelRatio || 1) / backingStore;\n",
       "\n",
       "    var rubberband = $('<canvas/>');\n",
       "    rubberband.attr('style', \"position: absolute; left: 0; top: 0; z-index: 1;\")\n",
       "\n",
       "    var pass_mouse_events = true;\n",
       "\n",
       "    canvas_div.resizable({\n",
       "        start: function(event, ui) {\n",
       "            pass_mouse_events = false;\n",
       "        },\n",
       "        resize: function(event, ui) {\n",
       "            fig.request_resize(ui.size.width, ui.size.height);\n",
       "        },\n",
       "        stop: function(event, ui) {\n",
       "            pass_mouse_events = true;\n",
       "            fig.request_resize(ui.size.width, ui.size.height);\n",
       "        },\n",
       "    });\n",
       "\n",
       "    function mouse_event_fn(event) {\n",
       "        if (pass_mouse_events)\n",
       "            return fig.mouse_event(event, event['data']);\n",
       "    }\n",
       "\n",
       "    rubberband.mousedown('button_press', mouse_event_fn);\n",
       "    rubberband.mouseup('button_release', mouse_event_fn);\n",
       "    // Throttle sequential mouse events to 1 every 20ms.\n",
       "    rubberband.mousemove('motion_notify', mouse_event_fn);\n",
       "\n",
       "    rubberband.mouseenter('figure_enter', mouse_event_fn);\n",
       "    rubberband.mouseleave('figure_leave', mouse_event_fn);\n",
       "\n",
       "    canvas_div.on(\"wheel\", function (event) {\n",
       "        event = event.originalEvent;\n",
       "        event['data'] = 'scroll'\n",
       "        if (event.deltaY < 0) {\n",
       "            event.step = 1;\n",
       "        } else {\n",
       "            event.step = -1;\n",
       "        }\n",
       "        mouse_event_fn(event);\n",
       "    });\n",
       "\n",
       "    canvas_div.append(canvas);\n",
       "    canvas_div.append(rubberband);\n",
       "\n",
       "    this.rubberband = rubberband;\n",
       "    this.rubberband_canvas = rubberband[0];\n",
       "    this.rubberband_context = rubberband[0].getContext(\"2d\");\n",
       "    this.rubberband_context.strokeStyle = \"#000000\";\n",
       "\n",
       "    this._resize_canvas = function(width, height) {\n",
       "        // Keep the size of the canvas, canvas container, and rubber band\n",
       "        // canvas in synch.\n",
       "        canvas_div.css('width', width)\n",
       "        canvas_div.css('height', height)\n",
       "\n",
       "        canvas.attr('width', width * mpl.ratio);\n",
       "        canvas.attr('height', height * mpl.ratio);\n",
       "        canvas.attr('style', 'width: ' + width + 'px; height: ' + height + 'px;');\n",
       "\n",
       "        rubberband.attr('width', width);\n",
       "        rubberband.attr('height', height);\n",
       "    }\n",
       "\n",
       "    // Set the figure to an initial 600x600px, this will subsequently be updated\n",
       "    // upon first draw.\n",
       "    this._resize_canvas(600, 600);\n",
       "\n",
       "    // Disable right mouse context menu.\n",
       "    $(this.rubberband_canvas).bind(\"contextmenu\",function(e){\n",
       "        return false;\n",
       "    });\n",
       "\n",
       "    function set_focus () {\n",
       "        canvas.focus();\n",
       "        canvas_div.focus();\n",
       "    }\n",
       "\n",
       "    window.setTimeout(set_focus, 100);\n",
       "}\n",
       "\n",
       "mpl.figure.prototype._init_toolbar = function() {\n",
       "    var fig = this;\n",
       "\n",
       "    var nav_element = $('<div/>');\n",
       "    nav_element.attr('style', 'width: 100%');\n",
       "    this.root.append(nav_element);\n",
       "\n",
       "    // Define a callback function for later on.\n",
       "    function toolbar_event(event) {\n",
       "        return fig.toolbar_button_onclick(event['data']);\n",
       "    }\n",
       "    function toolbar_mouse_event(event) {\n",
       "        return fig.toolbar_button_onmouseover(event['data']);\n",
       "    }\n",
       "\n",
       "    for(var toolbar_ind in mpl.toolbar_items) {\n",
       "        var name = mpl.toolbar_items[toolbar_ind][0];\n",
       "        var tooltip = mpl.toolbar_items[toolbar_ind][1];\n",
       "        var image = mpl.toolbar_items[toolbar_ind][2];\n",
       "        var method_name = mpl.toolbar_items[toolbar_ind][3];\n",
       "\n",
       "        if (!name) {\n",
       "            // put a spacer in here.\n",
       "            continue;\n",
       "        }\n",
       "        var button = $('<button/>');\n",
       "        button.addClass('ui-button ui-widget ui-state-default ui-corner-all ' +\n",
       "                        'ui-button-icon-only');\n",
       "        button.attr('role', 'button');\n",
       "        button.attr('aria-disabled', 'false');\n",
       "        button.click(method_name, toolbar_event);\n",
       "        button.mouseover(tooltip, toolbar_mouse_event);\n",
       "\n",
       "        var icon_img = $('<span/>');\n",
       "        icon_img.addClass('ui-button-icon-primary ui-icon');\n",
       "        icon_img.addClass(image);\n",
       "        icon_img.addClass('ui-corner-all');\n",
       "\n",
       "        var tooltip_span = $('<span/>');\n",
       "        tooltip_span.addClass('ui-button-text');\n",
       "        tooltip_span.html(tooltip);\n",
       "\n",
       "        button.append(icon_img);\n",
       "        button.append(tooltip_span);\n",
       "\n",
       "        nav_element.append(button);\n",
       "    }\n",
       "\n",
       "    var fmt_picker_span = $('<span/>');\n",
       "\n",
       "    var fmt_picker = $('<select/>');\n",
       "    fmt_picker.addClass('mpl-toolbar-option ui-widget ui-widget-content');\n",
       "    fmt_picker_span.append(fmt_picker);\n",
       "    nav_element.append(fmt_picker_span);\n",
       "    this.format_dropdown = fmt_picker[0];\n",
       "\n",
       "    for (var ind in mpl.extensions) {\n",
       "        var fmt = mpl.extensions[ind];\n",
       "        var option = $(\n",
       "            '<option/>', {selected: fmt === mpl.default_extension}).html(fmt);\n",
       "        fmt_picker.append(option);\n",
       "    }\n",
       "\n",
       "    // Add hover states to the ui-buttons\n",
       "    $( \".ui-button\" ).hover(\n",
       "        function() { $(this).addClass(\"ui-state-hover\");},\n",
       "        function() { $(this).removeClass(\"ui-state-hover\");}\n",
       "    );\n",
       "\n",
       "    var status_bar = $('<span class=\"mpl-message\"/>');\n",
       "    nav_element.append(status_bar);\n",
       "    this.message = status_bar[0];\n",
       "}\n",
       "\n",
       "mpl.figure.prototype.request_resize = function(x_pixels, y_pixels) {\n",
       "    // Request matplotlib to resize the figure. Matplotlib will then trigger a resize in the client,\n",
       "    // which will in turn request a refresh of the image.\n",
       "    this.send_message('resize', {'width': x_pixels, 'height': y_pixels});\n",
       "}\n",
       "\n",
       "mpl.figure.prototype.send_message = function(type, properties) {\n",
       "    properties['type'] = type;\n",
       "    properties['figure_id'] = this.id;\n",
       "    this.ws.send(JSON.stringify(properties));\n",
       "}\n",
       "\n",
       "mpl.figure.prototype.send_draw_message = function() {\n",
       "    if (!this.waiting) {\n",
       "        this.waiting = true;\n",
       "        this.ws.send(JSON.stringify({type: \"draw\", figure_id: this.id}));\n",
       "    }\n",
       "}\n",
       "\n",
       "\n",
       "mpl.figure.prototype.handle_save = function(fig, msg) {\n",
       "    var format_dropdown = fig.format_dropdown;\n",
       "    var format = format_dropdown.options[format_dropdown.selectedIndex].value;\n",
       "    fig.ondownload(fig, format);\n",
       "}\n",
       "\n",
       "\n",
       "mpl.figure.prototype.handle_resize = function(fig, msg) {\n",
       "    var size = msg['size'];\n",
       "    if (size[0] != fig.canvas.width || size[1] != fig.canvas.height) {\n",
       "        fig._resize_canvas(size[0], size[1]);\n",
       "        fig.send_message(\"refresh\", {});\n",
       "    };\n",
       "}\n",
       "\n",
       "mpl.figure.prototype.handle_rubberband = function(fig, msg) {\n",
       "    var x0 = msg['x0'] / mpl.ratio;\n",
       "    var y0 = (fig.canvas.height - msg['y0']) / mpl.ratio;\n",
       "    var x1 = msg['x1'] / mpl.ratio;\n",
       "    var y1 = (fig.canvas.height - msg['y1']) / mpl.ratio;\n",
       "    x0 = Math.floor(x0) + 0.5;\n",
       "    y0 = Math.floor(y0) + 0.5;\n",
       "    x1 = Math.floor(x1) + 0.5;\n",
       "    y1 = Math.floor(y1) + 0.5;\n",
       "    var min_x = Math.min(x0, x1);\n",
       "    var min_y = Math.min(y0, y1);\n",
       "    var width = Math.abs(x1 - x0);\n",
       "    var height = Math.abs(y1 - y0);\n",
       "\n",
       "    fig.rubberband_context.clearRect(\n",
       "        0, 0, fig.canvas.width, fig.canvas.height);\n",
       "\n",
       "    fig.rubberband_context.strokeRect(min_x, min_y, width, height);\n",
       "}\n",
       "\n",
       "mpl.figure.prototype.handle_figure_label = function(fig, msg) {\n",
       "    // Updates the figure title.\n",
       "    fig.header.textContent = msg['label'];\n",
       "}\n",
       "\n",
       "mpl.figure.prototype.handle_cursor = function(fig, msg) {\n",
       "    var cursor = msg['cursor'];\n",
       "    switch(cursor)\n",
       "    {\n",
       "    case 0:\n",
       "        cursor = 'pointer';\n",
       "        break;\n",
       "    case 1:\n",
       "        cursor = 'default';\n",
       "        break;\n",
       "    case 2:\n",
       "        cursor = 'crosshair';\n",
       "        break;\n",
       "    case 3:\n",
       "        cursor = 'move';\n",
       "        break;\n",
       "    }\n",
       "    fig.rubberband_canvas.style.cursor = cursor;\n",
       "}\n",
       "\n",
       "mpl.figure.prototype.handle_message = function(fig, msg) {\n",
       "    fig.message.textContent = msg['message'];\n",
       "}\n",
       "\n",
       "mpl.figure.prototype.handle_draw = function(fig, msg) {\n",
       "    // Request the server to send over a new figure.\n",
       "    fig.send_draw_message();\n",
       "}\n",
       "\n",
       "mpl.figure.prototype.handle_image_mode = function(fig, msg) {\n",
       "    fig.image_mode = msg['mode'];\n",
       "}\n",
       "\n",
       "mpl.figure.prototype.updated_canvas_event = function() {\n",
       "    // Called whenever the canvas gets updated.\n",
       "    this.send_message(\"ack\", {});\n",
       "}\n",
       "\n",
       "// A function to construct a web socket function for onmessage handling.\n",
       "// Called in the figure constructor.\n",
       "mpl.figure.prototype._make_on_message_function = function(fig) {\n",
       "    return function socket_on_message(evt) {\n",
       "        if (evt.data instanceof Blob) {\n",
       "            /* FIXME: We get \"Resource interpreted as Image but\n",
       "             * transferred with MIME type text/plain:\" errors on\n",
       "             * Chrome.  But how to set the MIME type?  It doesn't seem\n",
       "             * to be part of the websocket stream */\n",
       "            evt.data.type = \"image/png\";\n",
       "\n",
       "            /* Free the memory for the previous frames */\n",
       "            if (fig.imageObj.src) {\n",
       "                (window.URL || window.webkitURL).revokeObjectURL(\n",
       "                    fig.imageObj.src);\n",
       "            }\n",
       "\n",
       "            fig.imageObj.src = (window.URL || window.webkitURL).createObjectURL(\n",
       "                evt.data);\n",
       "            fig.updated_canvas_event();\n",
       "            fig.waiting = false;\n",
       "            return;\n",
       "        }\n",
       "        else if (typeof evt.data === 'string' && evt.data.slice(0, 21) == \"data:image/png;base64\") {\n",
       "            fig.imageObj.src = evt.data;\n",
       "            fig.updated_canvas_event();\n",
       "            fig.waiting = false;\n",
       "            return;\n",
       "        }\n",
       "\n",
       "        var msg = JSON.parse(evt.data);\n",
       "        var msg_type = msg['type'];\n",
       "\n",
       "        // Call the  \"handle_{type}\" callback, which takes\n",
       "        // the figure and JSON message as its only arguments.\n",
       "        try {\n",
       "            var callback = fig[\"handle_\" + msg_type];\n",
       "        } catch (e) {\n",
       "            console.log(\"No handler for the '\" + msg_type + \"' message type: \", msg);\n",
       "            return;\n",
       "        }\n",
       "\n",
       "        if (callback) {\n",
       "            try {\n",
       "                // console.log(\"Handling '\" + msg_type + \"' message: \", msg);\n",
       "                callback(fig, msg);\n",
       "            } catch (e) {\n",
       "                console.log(\"Exception inside the 'handler_\" + msg_type + \"' callback:\", e, e.stack, msg);\n",
       "            }\n",
       "        }\n",
       "    };\n",
       "}\n",
       "\n",
       "// from http://stackoverflow.com/questions/1114465/getting-mouse-location-in-canvas\n",
       "mpl.findpos = function(e) {\n",
       "    //this section is from http://www.quirksmode.org/js/events_properties.html\n",
       "    var targ;\n",
       "    if (!e)\n",
       "        e = window.event;\n",
       "    if (e.target)\n",
       "        targ = e.target;\n",
       "    else if (e.srcElement)\n",
       "        targ = e.srcElement;\n",
       "    if (targ.nodeType == 3) // defeat Safari bug\n",
       "        targ = targ.parentNode;\n",
       "\n",
       "    // jQuery normalizes the pageX and pageY\n",
       "    // pageX,Y are the mouse positions relative to the document\n",
       "    // offset() returns the position of the element relative to the document\n",
       "    var x = e.pageX - $(targ).offset().left;\n",
       "    var y = e.pageY - $(targ).offset().top;\n",
       "\n",
       "    return {\"x\": x, \"y\": y};\n",
       "};\n",
       "\n",
       "/*\n",
       " * return a copy of an object with only non-object keys\n",
       " * we need this to avoid circular references\n",
       " * http://stackoverflow.com/a/24161582/3208463\n",
       " */\n",
       "function simpleKeys (original) {\n",
       "  return Object.keys(original).reduce(function (obj, key) {\n",
       "    if (typeof original[key] !== 'object')\n",
       "        obj[key] = original[key]\n",
       "    return obj;\n",
       "  }, {});\n",
       "}\n",
       "\n",
       "mpl.figure.prototype.mouse_event = function(event, name) {\n",
       "    var canvas_pos = mpl.findpos(event)\n",
       "\n",
       "    if (name === 'button_press')\n",
       "    {\n",
       "        this.canvas.focus();\n",
       "        this.canvas_div.focus();\n",
       "    }\n",
       "\n",
       "    var x = canvas_pos.x * mpl.ratio;\n",
       "    var y = canvas_pos.y * mpl.ratio;\n",
       "\n",
       "    this.send_message(name, {x: x, y: y, button: event.button,\n",
       "                             step: event.step,\n",
       "                             guiEvent: simpleKeys(event)});\n",
       "\n",
       "    /* This prevents the web browser from automatically changing to\n",
       "     * the text insertion cursor when the button is pressed.  We want\n",
       "     * to control all of the cursor setting manually through the\n",
       "     * 'cursor' event from matplotlib */\n",
       "    event.preventDefault();\n",
       "    return false;\n",
       "}\n",
       "\n",
       "mpl.figure.prototype._key_event_extra = function(event, name) {\n",
       "    // Handle any extra behaviour associated with a key event\n",
       "}\n",
       "\n",
       "mpl.figure.prototype.key_event = function(event, name) {\n",
       "\n",
       "    // Prevent repeat events\n",
       "    if (name == 'key_press')\n",
       "    {\n",
       "        if (event.which === this._key)\n",
       "            return;\n",
       "        else\n",
       "            this._key = event.which;\n",
       "    }\n",
       "    if (name == 'key_release')\n",
       "        this._key = null;\n",
       "\n",
       "    var value = '';\n",
       "    if (event.ctrlKey && event.which != 17)\n",
       "        value += \"ctrl+\";\n",
       "    if (event.altKey && event.which != 18)\n",
       "        value += \"alt+\";\n",
       "    if (event.shiftKey && event.which != 16)\n",
       "        value += \"shift+\";\n",
       "\n",
       "    value += 'k';\n",
       "    value += event.which.toString();\n",
       "\n",
       "    this._key_event_extra(event, name);\n",
       "\n",
       "    this.send_message(name, {key: value,\n",
       "                             guiEvent: simpleKeys(event)});\n",
       "    return false;\n",
       "}\n",
       "\n",
       "mpl.figure.prototype.toolbar_button_onclick = function(name) {\n",
       "    if (name == 'download') {\n",
       "        this.handle_save(this, null);\n",
       "    } else {\n",
       "        this.send_message(\"toolbar_button\", {name: name});\n",
       "    }\n",
       "};\n",
       "\n",
       "mpl.figure.prototype.toolbar_button_onmouseover = function(tooltip) {\n",
       "    this.message.textContent = tooltip;\n",
       "};\n",
       "mpl.toolbar_items = [[\"Home\", \"Reset original view\", \"fa fa-home icon-home\", \"home\"], [\"Back\", \"Back to previous view\", \"fa fa-arrow-left icon-arrow-left\", \"back\"], [\"Forward\", \"Forward to next view\", \"fa fa-arrow-right icon-arrow-right\", \"forward\"], [\"\", \"\", \"\", \"\"], [\"Pan\", \"Pan axes with left mouse, zoom with right\", \"fa fa-arrows icon-move\", \"pan\"], [\"Zoom\", \"Zoom to rectangle\", \"fa fa-square-o icon-check-empty\", \"zoom\"], [\"\", \"\", \"\", \"\"], [\"Download\", \"Download plot\", \"fa fa-floppy-o icon-save\", \"download\"]];\n",
       "\n",
       "mpl.extensions = [\"eps\", \"jpeg\", \"pdf\", \"png\", \"ps\", \"raw\", \"svg\", \"tif\"];\n",
       "\n",
       "mpl.default_extension = \"png\";var comm_websocket_adapter = function(comm) {\n",
       "    // Create a \"websocket\"-like object which calls the given IPython comm\n",
       "    // object with the appropriate methods. Currently this is a non binary\n",
       "    // socket, so there is still some room for performance tuning.\n",
       "    var ws = {};\n",
       "\n",
       "    ws.close = function() {\n",
       "        comm.close()\n",
       "    };\n",
       "    ws.send = function(m) {\n",
       "        //console.log('sending', m);\n",
       "        comm.send(m);\n",
       "    };\n",
       "    // Register the callback with on_msg.\n",
       "    comm.on_msg(function(msg) {\n",
       "        //console.log('receiving', msg['content']['data'], msg);\n",
       "        // Pass the mpl event to the overridden (by mpl) onmessage function.\n",
       "        ws.onmessage(msg['content']['data'])\n",
       "    });\n",
       "    return ws;\n",
       "}\n",
       "\n",
       "mpl.mpl_figure_comm = function(comm, msg) {\n",
       "    // This is the function which gets called when the mpl process\n",
       "    // starts-up an IPython Comm through the \"matplotlib\" channel.\n",
       "\n",
       "    var id = msg.content.data.id;\n",
       "    // Get hold of the div created by the display call when the Comm\n",
       "    // socket was opened in Python.\n",
       "    var element = $(\"#\" + id);\n",
       "    var ws_proxy = comm_websocket_adapter(comm)\n",
       "\n",
       "    function ondownload(figure, format) {\n",
       "        window.open(figure.imageObj.src);\n",
       "    }\n",
       "\n",
       "    var fig = new mpl.figure(id, ws_proxy,\n",
       "                           ondownload,\n",
       "                           element.get(0));\n",
       "\n",
       "    // Call onopen now - mpl needs it, as it is assuming we've passed it a real\n",
       "    // web socket which is closed, not our websocket->open comm proxy.\n",
       "    ws_proxy.onopen();\n",
       "\n",
       "    fig.parent_element = element.get(0);\n",
       "    fig.cell_info = mpl.find_output_cell(\"<div id='\" + id + \"'></div>\");\n",
       "    if (!fig.cell_info) {\n",
       "        console.error(\"Failed to find cell for figure\", id, fig);\n",
       "        return;\n",
       "    }\n",
       "\n",
       "    var output_index = fig.cell_info[2]\n",
       "    var cell = fig.cell_info[0];\n",
       "\n",
       "};\n",
       "\n",
       "mpl.figure.prototype.handle_close = function(fig, msg) {\n",
       "    var width = fig.canvas.width/mpl.ratio\n",
       "    fig.root.unbind('remove')\n",
       "\n",
       "    // Update the output cell to use the data from the current canvas.\n",
       "    fig.push_to_output();\n",
       "    var dataURL = fig.canvas.toDataURL();\n",
       "    // Re-enable the keyboard manager in IPython - without this line, in FF,\n",
       "    // the notebook keyboard shortcuts fail.\n",
       "    IPython.keyboard_manager.enable()\n",
       "    $(fig.parent_element).html('<img src=\"' + dataURL + '\" width=\"' + width + '\">');\n",
       "    fig.close_ws(fig, msg);\n",
       "}\n",
       "\n",
       "mpl.figure.prototype.close_ws = function(fig, msg){\n",
       "    fig.send_message('closing', msg);\n",
       "    // fig.ws.close()\n",
       "}\n",
       "\n",
       "mpl.figure.prototype.push_to_output = function(remove_interactive) {\n",
       "    // Turn the data on the canvas into data in the output cell.\n",
       "    var width = this.canvas.width/mpl.ratio\n",
       "    var dataURL = this.canvas.toDataURL();\n",
       "    this.cell_info[1]['text/html'] = '<img src=\"' + dataURL + '\" width=\"' + width + '\">';\n",
       "}\n",
       "\n",
       "mpl.figure.prototype.updated_canvas_event = function() {\n",
       "    // Tell IPython that the notebook contents must change.\n",
       "    IPython.notebook.set_dirty(true);\n",
       "    this.send_message(\"ack\", {});\n",
       "    var fig = this;\n",
       "    // Wait a second, then push the new image to the DOM so\n",
       "    // that it is saved nicely (might be nice to debounce this).\n",
       "    setTimeout(function () { fig.push_to_output() }, 1000);\n",
       "}\n",
       "\n",
       "mpl.figure.prototype._init_toolbar = function() {\n",
       "    var fig = this;\n",
       "\n",
       "    var nav_element = $('<div/>');\n",
       "    nav_element.attr('style', 'width: 100%');\n",
       "    this.root.append(nav_element);\n",
       "\n",
       "    // Define a callback function for later on.\n",
       "    function toolbar_event(event) {\n",
       "        return fig.toolbar_button_onclick(event['data']);\n",
       "    }\n",
       "    function toolbar_mouse_event(event) {\n",
       "        return fig.toolbar_button_onmouseover(event['data']);\n",
       "    }\n",
       "\n",
       "    for(var toolbar_ind in mpl.toolbar_items){\n",
       "        var name = mpl.toolbar_items[toolbar_ind][0];\n",
       "        var tooltip = mpl.toolbar_items[toolbar_ind][1];\n",
       "        var image = mpl.toolbar_items[toolbar_ind][2];\n",
       "        var method_name = mpl.toolbar_items[toolbar_ind][3];\n",
       "\n",
       "        if (!name) { continue; };\n",
       "\n",
       "        var button = $('<button class=\"btn btn-default\" href=\"#\" title=\"' + name + '\"><i class=\"fa ' + image + ' fa-lg\"></i></button>');\n",
       "        button.click(method_name, toolbar_event);\n",
       "        button.mouseover(tooltip, toolbar_mouse_event);\n",
       "        nav_element.append(button);\n",
       "    }\n",
       "\n",
       "    // Add the status bar.\n",
       "    var status_bar = $('<span class=\"mpl-message\" style=\"text-align:right; float: right;\"/>');\n",
       "    nav_element.append(status_bar);\n",
       "    this.message = status_bar[0];\n",
       "\n",
       "    // Add the close button to the window.\n",
       "    var buttongrp = $('<div class=\"btn-group inline pull-right\"></div>');\n",
       "    var button = $('<button class=\"btn btn-mini btn-primary\" href=\"#\" title=\"Stop Interaction\"><i class=\"fa fa-power-off icon-remove icon-large\"></i></button>');\n",
       "    button.click(function (evt) { fig.handle_close(fig, {}); } );\n",
       "    button.mouseover('Stop Interaction', toolbar_mouse_event);\n",
       "    buttongrp.append(button);\n",
       "    var titlebar = this.root.find($('.ui-dialog-titlebar'));\n",
       "    titlebar.prepend(buttongrp);\n",
       "}\n",
       "\n",
       "mpl.figure.prototype._root_extra_style = function(el){\n",
       "    var fig = this\n",
       "    el.on(\"remove\", function(){\n",
       "\tfig.close_ws(fig, {});\n",
       "    });\n",
       "}\n",
       "\n",
       "mpl.figure.prototype._canvas_extra_style = function(el){\n",
       "    // this is important to make the div 'focusable\n",
       "    el.attr('tabindex', 0)\n",
       "    // reach out to IPython and tell the keyboard manager to turn it's self\n",
       "    // off when our div gets focus\n",
       "\n",
       "    // location in version 3\n",
       "    if (IPython.notebook.keyboard_manager) {\n",
       "        IPython.notebook.keyboard_manager.register_events(el);\n",
       "    }\n",
       "    else {\n",
       "        // location in version 2\n",
       "        IPython.keyboard_manager.register_events(el);\n",
       "    }\n",
       "\n",
       "}\n",
       "\n",
       "mpl.figure.prototype._key_event_extra = function(event, name) {\n",
       "    var manager = IPython.notebook.keyboard_manager;\n",
       "    if (!manager)\n",
       "        manager = IPython.keyboard_manager;\n",
       "\n",
       "    // Check for shift+enter\n",
       "    if (event.shiftKey && event.which == 13) {\n",
       "        this.canvas_div.blur();\n",
       "        event.shiftKey = false;\n",
       "        // Send a \"J\" for go to next cell\n",
       "        event.which = 74;\n",
       "        event.keyCode = 74;\n",
       "        manager.command_mode();\n",
       "        manager.handle_keydown(event);\n",
       "    }\n",
       "}\n",
       "\n",
       "mpl.figure.prototype.handle_save = function(fig, msg) {\n",
       "    fig.ondownload(fig, null);\n",
       "}\n",
       "\n",
       "\n",
       "mpl.find_output_cell = function(html_output) {\n",
       "    // Return the cell and output element which can be found *uniquely* in the notebook.\n",
       "    // Note - this is a bit hacky, but it is done because the \"notebook_saving.Notebook\"\n",
       "    // IPython event is triggered only after the cells have been serialised, which for\n",
       "    // our purposes (turning an active figure into a static one), is too late.\n",
       "    var cells = IPython.notebook.get_cells();\n",
       "    var ncells = cells.length;\n",
       "    for (var i=0; i<ncells; i++) {\n",
       "        var cell = cells[i];\n",
       "        if (cell.cell_type === 'code'){\n",
       "            for (var j=0; j<cell.output_area.outputs.length; j++) {\n",
       "                var data = cell.output_area.outputs[j];\n",
       "                if (data.data) {\n",
       "                    // IPython >= 3 moved mimebundle to data attribute of output\n",
       "                    data = data.data;\n",
       "                }\n",
       "                if (data['text/html'] == html_output) {\n",
       "                    return [cell, data, j];\n",
       "                }\n",
       "            }\n",
       "        }\n",
       "    }\n",
       "}\n",
       "\n",
       "// Register the function which deals with the matplotlib target/channel.\n",
       "// The kernel may be null if the page has been refreshed.\n",
       "if (IPython.notebook.kernel != null) {\n",
       "    IPython.notebook.kernel.comm_manager.register_target('matplotlib', mpl.mpl_figure_comm);\n",
       "}\n"
      ],
      "text/plain": [
       "<IPython.core.display.Javascript object>"
      ]
     },
     "metadata": {},
     "output_type": "display_data"
    },
    {
     "data": {
      "text/html": [
       "<img src=\"data:image/png;base64,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\" width=\"640\">"
      ],
      "text/plain": [
       "<IPython.core.display.HTML object>"
      ]
     },
     "metadata": {},
     "output_type": "display_data"
    },
    {
     "name": "stdout",
     "output_type": "stream",
     "text": [
      "done\n"
     ]
    }
   ],
   "source": [
    "saved_dir = '../saved/IMPRS_hdf5_volume_AllDAPI_noise/0710_173648'\n",
    "config_saved_filename = os.path.join(saved_dir, \"config.json\")\n",
    "#os.system('tensorboard --logdir ' + log_dir) cannot use with google VM without paying $$$\n",
    "viewTraining.graphLoss(saved_dir, best=False) #imported from utils\n",
    "\n",
    "print('done')"
   ]
  },
  {
   "cell_type": "code",
   "execution_count": 4,
   "metadata": {},
   "outputs": [],
   "source": [
    "def main2(config, resume):\n",
    "    # setup data_loader instances\n",
    "    data_loader = get_instance(module_data, 'data_loader_test', config)\n",
    "    '''\n",
    "    \n",
    "    data_loader = getattr(module_data, config['data_loader']['type'])(\n",
    "        config['data_loader']['args']['data_dir'],\n",
    "        batch_size=1,\n",
    "        shuffle=False,\n",
    "        validation_split=0.0,\n",
    "        training=False,\n",
    "        num_workers=2\n",
    "    )\n",
    "    '''\n",
    "    # build model architecture\n",
    "    model = get_instance(module_arch, 'arch', config)\n",
    "    #print(model)\n",
    "    print(torch.cuda.get_device_name(0))\n",
    "    normalized = False\n",
    "\n",
    "    \n",
    "    # get function handles of loss and metrics\n",
    "    loss_fn = getattr(module_loss, config['loss'])\n",
    "    criterion = loss_fn(None)\n",
    "    metric_fns = [getattr(module_metric, met) for met in config['metrics']]\n",
    "    \n",
    "    # load state dict\n",
    "    checkpoint = torch.load(resume)\n",
    "    state_dict = checkpoint['state_dict'] #dictionary of model parameters from saved file\n",
    "    if config['n_gpu'] > 1:\n",
    "        model = torch.nn.DataParallel(model)\n",
    "    model.load_state_dict(state_dict) \n",
    "    \n",
    "    # prepare model for testing\n",
    "    device = torch.device('cuda' if torch.cuda.is_available() else 'cpu')\n",
    "    model = model.to(device)\n",
    "    model.eval() #tells model to ignore dropout and batch normalization\n",
    "    \n",
    "    total_loss = 0.0\n",
    "    total_metrics = torch.zeros(len(metric_fns))\n",
    "    \n",
    "    #classes = ('endothelium', 'pct', 'vasculature')\n",
    "    classes = ('endothelium', 'pct')\n",
    "    all_pred = []\n",
    "    all_true = []\n",
    "    #hm_layers = {'final_layer': 'layer', 'fc_layer': 'fc_layer', 'conv_num': 17, 'fc_num': 3}\n",
    "    \n",
    "    #heatmapper = classActivationMap.CAMgenerator(hm_layers, config, model)\n",
    "    #heatmapper.generateImage(num_images=10)\n",
    "    \n",
    "    with torch.no_grad(): #speed up calculations, unable to perform back propogation\n",
    "        for i, (data, target) in enumerate(tqdm(data_loader)): #tqdm is a progress bar\n",
    "            data, target = data.to(device), target.to(device)\n",
    "            output = model(data)\n",
    "            image = np.squeeze(data[0].cpu().data.numpy())\n",
    "            label = np.squeeze(target[0].cpu().data.numpy())\n",
    "            all_true.extend(target.cpu().data.numpy())\n",
    "            all_pred.extend(np.argmax(output.cpu().data.numpy(), axis=1))\n",
    "            \n",
    "            #\n",
    "            # save sample images, or do something with output here\n",
    "            #\n",
    "            \n",
    "            \n",
    "            if i < 2:\n",
    "                m = torch.nn.Softmax(dim=0)\n",
    "                print(\"prediction percentages\")\n",
    "                print(m(output.cpu()[0]))\n",
    "                print(all_true[i])\n",
    "                #util.visualizationOutGray(data, output, target, classes, normalized)\n",
    "                a=1\n",
    "                \n",
    "                \n",
    "                \n",
    "            # computing loss, metrics on test set\n",
    "            loss = criterion(output, target)\n",
    "            batch_size = data.shape[0]\n",
    "            total_loss += loss.item() * batch_size\n",
    "            if output.is_cuda: output = output.cpu()\n",
    "            if target.is_cuda: target = target.cpu()\n",
    "            \n",
    "            for i, metric in enumerate(metric_fns):\n",
    "                total_metrics[i] += metric(output, target) * batch_size\n",
    "        \n",
    "        #plt.show()\n",
    "        \n",
    "    \n",
    "    n_samples = len(data_loader.sampler)\n",
    "    print(\"num test images = \" + str(n_samples))\n",
    "    log = {'loss': total_loss / n_samples}\n",
    "    log.update({met.__name__: total_metrics[i].item() / n_samples for i, met in enumerate(metric_fns)})\n",
    "    for key in log:\n",
    "        print(\"{} = {:.4f}\".format(key, log[key]))\n",
    "    #print(log)\n",
    "    log['classes'] = classes\n",
    "    log['test_targets'] = all_true\n",
    "    log['test_predictions'] = all_pred\n",
    "    print(\"My_metric is accuracy\")\n",
    "    util.plot_confusion_matrix(all_true, all_pred, classes=classes, normalize=False) \n",
    "    \n"
   ]
  },
  {
   "cell_type": "code",
   "execution_count": 5,
   "metadata": {},
   "outputs": [
    {
     "name": "stdout",
     "output_type": "stream",
     "text": [
      "True\n",
      "True\n"
     ]
    }
   ],
   "source": [
    "#saved_dir = \"saved/GroundTruth_cellData/0529_191042/\"\n",
    "resume = os.path.join(saved_dir, \"model_best.pth\")\n",
    "\n",
    "print(os.path.isdir(saved_dir))\n",
    "print(os.path.exists(resume))\n",
    "\n",
    "#config = torch.load(saved_dir + \"config.json\")\n",
    "os.environ[\"CUDA_VISIBLE_DEVICES\"] = \"0,1\""
   ]
  },
  {
   "cell_type": "code",
   "execution_count": 8,
   "metadata": {
    "scrolled": true
   },
   "outputs": [
    {
     "name": "stderr",
     "output_type": "stream",
     "text": [
      "\r",
      "  0%|          | 0/6 [00:00<?, ?it/s]"
     ]
    },
    {
     "name": "stdout",
     "output_type": "stream",
     "text": [
      "Tesla K80\n"
     ]
    },
    {
     "name": "stderr",
     "output_type": "stream",
     "text": [
      "/home/awoloshu/miniconda3/envs/pytorch36/lib/python3.6/site-packages/sklearn/metrics/classification.py:1145: UndefinedMetricWarning: F-score is ill-defined and being set to 0.0 in labels with no true samples.\n",
      "  'recall', 'true', average, warn_for)\n",
      "/home/awoloshu/miniconda3/envs/pytorch36/lib/python3.6/site-packages/sklearn/metrics/classification.py:1437: UserWarning: y_pred contains classes not in y_true\n",
      "  warnings.warn('y_pred contains classes not in y_true')\n",
      "/home/awoloshu/miniconda3/envs/pytorch36/lib/python3.6/site-packages/sklearn/metrics/classification.py:1145: UndefinedMetricWarning: Recall is ill-defined and being set to 0.0 in labels with no true samples.\n",
      "  'recall', 'true', average, warn_for)\n",
      "\r",
      " 17%|█▋        | 1/6 [00:00<00:03,  1.55it/s]"
     ]
    },
    {
     "name": "stdout",
     "output_type": "stream",
     "text": [
      "prediction percentages\n",
      "tensor([0.0173, 0.9827])\n",
      "1\n",
      "prediction percentages\n",
      "tensor([0.0420, 0.9580])\n",
      "1\n"
     ]
    },
    {
     "name": "stderr",
     "output_type": "stream",
     "text": [
      "100%|██████████| 6/6 [00:01<00:00,  5.65it/s]"
     ]
    },
    {
     "name": "stdout",
     "output_type": "stream",
     "text": [
      "num test images = 340\n",
      "loss = 0.4484\n",
      "my_metric = 0.7853\n",
      "f1 = 0.8404\n",
      "balanced_accuracy = 0.7954\n",
      "precision = 0.9439\n",
      "recall = 0.7853\n",
      "My_metric is accuracy\n",
      "Confusion matrix, without normalization\n",
      "[[ 80  54]\n",
      " [ 19 187]]\n"
     ]
    },
    {
     "name": "stderr",
     "output_type": "stream",
     "text": [
      "\n"
     ]
    },
    {
     "data": {
      "application/javascript": [
       "/* Put everything inside the global mpl namespace */\n",
       "window.mpl = {};\n",
       "\n",
       "\n",
       "mpl.get_websocket_type = function() {\n",
       "    if (typeof(WebSocket) !== 'undefined') {\n",
       "        return WebSocket;\n",
       "    } else if (typeof(MozWebSocket) !== 'undefined') {\n",
       "        return MozWebSocket;\n",
       "    } else {\n",
       "        alert('Your browser does not have WebSocket support. ' +\n",
       "              'Please try Chrome, Safari or Firefox ≥ 6. ' +\n",
       "              'Firefox 4 and 5 are also supported but you ' +\n",
       "              'have to enable WebSockets in about:config.');\n",
       "    };\n",
       "}\n",
       "\n",
       "mpl.figure = function(figure_id, websocket, ondownload, parent_element) {\n",
       "    this.id = figure_id;\n",
       "\n",
       "    this.ws = websocket;\n",
       "\n",
       "    this.supports_binary = (this.ws.binaryType != undefined);\n",
       "\n",
       "    if (!this.supports_binary) {\n",
       "        var warnings = document.getElementById(\"mpl-warnings\");\n",
       "        if (warnings) {\n",
       "            warnings.style.display = 'block';\n",
       "            warnings.textContent = (\n",
       "                \"This browser does not support binary websocket messages. \" +\n",
       "                    \"Performance may be slow.\");\n",
       "        }\n",
       "    }\n",
       "\n",
       "    this.imageObj = new Image();\n",
       "\n",
       "    this.context = undefined;\n",
       "    this.message = undefined;\n",
       "    this.canvas = undefined;\n",
       "    this.rubberband_canvas = undefined;\n",
       "    this.rubberband_context = undefined;\n",
       "    this.format_dropdown = undefined;\n",
       "\n",
       "    this.image_mode = 'full';\n",
       "\n",
       "    this.root = $('<div/>');\n",
       "    this._root_extra_style(this.root)\n",
       "    this.root.attr('style', 'display: inline-block');\n",
       "\n",
       "    $(parent_element).append(this.root);\n",
       "\n",
       "    this._init_header(this);\n",
       "    this._init_canvas(this);\n",
       "    this._init_toolbar(this);\n",
       "\n",
       "    var fig = this;\n",
       "\n",
       "    this.waiting = false;\n",
       "\n",
       "    this.ws.onopen =  function () {\n",
       "            fig.send_message(\"supports_binary\", {value: fig.supports_binary});\n",
       "            fig.send_message(\"send_image_mode\", {});\n",
       "            if (mpl.ratio != 1) {\n",
       "                fig.send_message(\"set_dpi_ratio\", {'dpi_ratio': mpl.ratio});\n",
       "            }\n",
       "            fig.send_message(\"refresh\", {});\n",
       "        }\n",
       "\n",
       "    this.imageObj.onload = function() {\n",
       "            if (fig.image_mode == 'full') {\n",
       "                // Full images could contain transparency (where diff images\n",
       "                // almost always do), so we need to clear the canvas so that\n",
       "                // there is no ghosting.\n",
       "                fig.context.clearRect(0, 0, fig.canvas.width, fig.canvas.height);\n",
       "            }\n",
       "            fig.context.drawImage(fig.imageObj, 0, 0);\n",
       "        };\n",
       "\n",
       "    this.imageObj.onunload = function() {\n",
       "        fig.ws.close();\n",
       "    }\n",
       "\n",
       "    this.ws.onmessage = this._make_on_message_function(this);\n",
       "\n",
       "    this.ondownload = ondownload;\n",
       "}\n",
       "\n",
       "mpl.figure.prototype._init_header = function() {\n",
       "    var titlebar = $(\n",
       "        '<div class=\"ui-dialog-titlebar ui-widget-header ui-corner-all ' +\n",
       "        'ui-helper-clearfix\"/>');\n",
       "    var titletext = $(\n",
       "        '<div class=\"ui-dialog-title\" style=\"width: 100%; ' +\n",
       "        'text-align: center; padding: 3px;\"/>');\n",
       "    titlebar.append(titletext)\n",
       "    this.root.append(titlebar);\n",
       "    this.header = titletext[0];\n",
       "}\n",
       "\n",
       "\n",
       "\n",
       "mpl.figure.prototype._canvas_extra_style = function(canvas_div) {\n",
       "\n",
       "}\n",
       "\n",
       "\n",
       "mpl.figure.prototype._root_extra_style = function(canvas_div) {\n",
       "\n",
       "}\n",
       "\n",
       "mpl.figure.prototype._init_canvas = function() {\n",
       "    var fig = this;\n",
       "\n",
       "    var canvas_div = $('<div/>');\n",
       "\n",
       "    canvas_div.attr('style', 'position: relative; clear: both; outline: 0');\n",
       "\n",
       "    function canvas_keyboard_event(event) {\n",
       "        return fig.key_event(event, event['data']);\n",
       "    }\n",
       "\n",
       "    canvas_div.keydown('key_press', canvas_keyboard_event);\n",
       "    canvas_div.keyup('key_release', canvas_keyboard_event);\n",
       "    this.canvas_div = canvas_div\n",
       "    this._canvas_extra_style(canvas_div)\n",
       "    this.root.append(canvas_div);\n",
       "\n",
       "    var canvas = $('<canvas/>');\n",
       "    canvas.addClass('mpl-canvas');\n",
       "    canvas.attr('style', \"left: 0; top: 0; z-index: 0; outline: 0\")\n",
       "\n",
       "    this.canvas = canvas[0];\n",
       "    this.context = canvas[0].getContext(\"2d\");\n",
       "\n",
       "    var backingStore = this.context.backingStorePixelRatio ||\n",
       "\tthis.context.webkitBackingStorePixelRatio ||\n",
       "\tthis.context.mozBackingStorePixelRatio ||\n",
       "\tthis.context.msBackingStorePixelRatio ||\n",
       "\tthis.context.oBackingStorePixelRatio ||\n",
       "\tthis.context.backingStorePixelRatio || 1;\n",
       "\n",
       "    mpl.ratio = (window.devicePixelRatio || 1) / backingStore;\n",
       "\n",
       "    var rubberband = $('<canvas/>');\n",
       "    rubberband.attr('style', \"position: absolute; left: 0; top: 0; z-index: 1;\")\n",
       "\n",
       "    var pass_mouse_events = true;\n",
       "\n",
       "    canvas_div.resizable({\n",
       "        start: function(event, ui) {\n",
       "            pass_mouse_events = false;\n",
       "        },\n",
       "        resize: function(event, ui) {\n",
       "            fig.request_resize(ui.size.width, ui.size.height);\n",
       "        },\n",
       "        stop: function(event, ui) {\n",
       "            pass_mouse_events = true;\n",
       "            fig.request_resize(ui.size.width, ui.size.height);\n",
       "        },\n",
       "    });\n",
       "\n",
       "    function mouse_event_fn(event) {\n",
       "        if (pass_mouse_events)\n",
       "            return fig.mouse_event(event, event['data']);\n",
       "    }\n",
       "\n",
       "    rubberband.mousedown('button_press', mouse_event_fn);\n",
       "    rubberband.mouseup('button_release', mouse_event_fn);\n",
       "    // Throttle sequential mouse events to 1 every 20ms.\n",
       "    rubberband.mousemove('motion_notify', mouse_event_fn);\n",
       "\n",
       "    rubberband.mouseenter('figure_enter', mouse_event_fn);\n",
       "    rubberband.mouseleave('figure_leave', mouse_event_fn);\n",
       "\n",
       "    canvas_div.on(\"wheel\", function (event) {\n",
       "        event = event.originalEvent;\n",
       "        event['data'] = 'scroll'\n",
       "        if (event.deltaY < 0) {\n",
       "            event.step = 1;\n",
       "        } else {\n",
       "            event.step = -1;\n",
       "        }\n",
       "        mouse_event_fn(event);\n",
       "    });\n",
       "\n",
       "    canvas_div.append(canvas);\n",
       "    canvas_div.append(rubberband);\n",
       "\n",
       "    this.rubberband = rubberband;\n",
       "    this.rubberband_canvas = rubberband[0];\n",
       "    this.rubberband_context = rubberband[0].getContext(\"2d\");\n",
       "    this.rubberband_context.strokeStyle = \"#000000\";\n",
       "\n",
       "    this._resize_canvas = function(width, height) {\n",
       "        // Keep the size of the canvas, canvas container, and rubber band\n",
       "        // canvas in synch.\n",
       "        canvas_div.css('width', width)\n",
       "        canvas_div.css('height', height)\n",
       "\n",
       "        canvas.attr('width', width * mpl.ratio);\n",
       "        canvas.attr('height', height * mpl.ratio);\n",
       "        canvas.attr('style', 'width: ' + width + 'px; height: ' + height + 'px;');\n",
       "\n",
       "        rubberband.attr('width', width);\n",
       "        rubberband.attr('height', height);\n",
       "    }\n",
       "\n",
       "    // Set the figure to an initial 600x600px, this will subsequently be updated\n",
       "    // upon first draw.\n",
       "    this._resize_canvas(600, 600);\n",
       "\n",
       "    // Disable right mouse context menu.\n",
       "    $(this.rubberband_canvas).bind(\"contextmenu\",function(e){\n",
       "        return false;\n",
       "    });\n",
       "\n",
       "    function set_focus () {\n",
       "        canvas.focus();\n",
       "        canvas_div.focus();\n",
       "    }\n",
       "\n",
       "    window.setTimeout(set_focus, 100);\n",
       "}\n",
       "\n",
       "mpl.figure.prototype._init_toolbar = function() {\n",
       "    var fig = this;\n",
       "\n",
       "    var nav_element = $('<div/>');\n",
       "    nav_element.attr('style', 'width: 100%');\n",
       "    this.root.append(nav_element);\n",
       "\n",
       "    // Define a callback function for later on.\n",
       "    function toolbar_event(event) {\n",
       "        return fig.toolbar_button_onclick(event['data']);\n",
       "    }\n",
       "    function toolbar_mouse_event(event) {\n",
       "        return fig.toolbar_button_onmouseover(event['data']);\n",
       "    }\n",
       "\n",
       "    for(var toolbar_ind in mpl.toolbar_items) {\n",
       "        var name = mpl.toolbar_items[toolbar_ind][0];\n",
       "        var tooltip = mpl.toolbar_items[toolbar_ind][1];\n",
       "        var image = mpl.toolbar_items[toolbar_ind][2];\n",
       "        var method_name = mpl.toolbar_items[toolbar_ind][3];\n",
       "\n",
       "        if (!name) {\n",
       "            // put a spacer in here.\n",
       "            continue;\n",
       "        }\n",
       "        var button = $('<button/>');\n",
       "        button.addClass('ui-button ui-widget ui-state-default ui-corner-all ' +\n",
       "                        'ui-button-icon-only');\n",
       "        button.attr('role', 'button');\n",
       "        button.attr('aria-disabled', 'false');\n",
       "        button.click(method_name, toolbar_event);\n",
       "        button.mouseover(tooltip, toolbar_mouse_event);\n",
       "\n",
       "        var icon_img = $('<span/>');\n",
       "        icon_img.addClass('ui-button-icon-primary ui-icon');\n",
       "        icon_img.addClass(image);\n",
       "        icon_img.addClass('ui-corner-all');\n",
       "\n",
       "        var tooltip_span = $('<span/>');\n",
       "        tooltip_span.addClass('ui-button-text');\n",
       "        tooltip_span.html(tooltip);\n",
       "\n",
       "        button.append(icon_img);\n",
       "        button.append(tooltip_span);\n",
       "\n",
       "        nav_element.append(button);\n",
       "    }\n",
       "\n",
       "    var fmt_picker_span = $('<span/>');\n",
       "\n",
       "    var fmt_picker = $('<select/>');\n",
       "    fmt_picker.addClass('mpl-toolbar-option ui-widget ui-widget-content');\n",
       "    fmt_picker_span.append(fmt_picker);\n",
       "    nav_element.append(fmt_picker_span);\n",
       "    this.format_dropdown = fmt_picker[0];\n",
       "\n",
       "    for (var ind in mpl.extensions) {\n",
       "        var fmt = mpl.extensions[ind];\n",
       "        var option = $(\n",
       "            '<option/>', {selected: fmt === mpl.default_extension}).html(fmt);\n",
       "        fmt_picker.append(option);\n",
       "    }\n",
       "\n",
       "    // Add hover states to the ui-buttons\n",
       "    $( \".ui-button\" ).hover(\n",
       "        function() { $(this).addClass(\"ui-state-hover\");},\n",
       "        function() { $(this).removeClass(\"ui-state-hover\");}\n",
       "    );\n",
       "\n",
       "    var status_bar = $('<span class=\"mpl-message\"/>');\n",
       "    nav_element.append(status_bar);\n",
       "    this.message = status_bar[0];\n",
       "}\n",
       "\n",
       "mpl.figure.prototype.request_resize = function(x_pixels, y_pixels) {\n",
       "    // Request matplotlib to resize the figure. Matplotlib will then trigger a resize in the client,\n",
       "    // which will in turn request a refresh of the image.\n",
       "    this.send_message('resize', {'width': x_pixels, 'height': y_pixels});\n",
       "}\n",
       "\n",
       "mpl.figure.prototype.send_message = function(type, properties) {\n",
       "    properties['type'] = type;\n",
       "    properties['figure_id'] = this.id;\n",
       "    this.ws.send(JSON.stringify(properties));\n",
       "}\n",
       "\n",
       "mpl.figure.prototype.send_draw_message = function() {\n",
       "    if (!this.waiting) {\n",
       "        this.waiting = true;\n",
       "        this.ws.send(JSON.stringify({type: \"draw\", figure_id: this.id}));\n",
       "    }\n",
       "}\n",
       "\n",
       "\n",
       "mpl.figure.prototype.handle_save = function(fig, msg) {\n",
       "    var format_dropdown = fig.format_dropdown;\n",
       "    var format = format_dropdown.options[format_dropdown.selectedIndex].value;\n",
       "    fig.ondownload(fig, format);\n",
       "}\n",
       "\n",
       "\n",
       "mpl.figure.prototype.handle_resize = function(fig, msg) {\n",
       "    var size = msg['size'];\n",
       "    if (size[0] != fig.canvas.width || size[1] != fig.canvas.height) {\n",
       "        fig._resize_canvas(size[0], size[1]);\n",
       "        fig.send_message(\"refresh\", {});\n",
       "    };\n",
       "}\n",
       "\n",
       "mpl.figure.prototype.handle_rubberband = function(fig, msg) {\n",
       "    var x0 = msg['x0'] / mpl.ratio;\n",
       "    var y0 = (fig.canvas.height - msg['y0']) / mpl.ratio;\n",
       "    var x1 = msg['x1'] / mpl.ratio;\n",
       "    var y1 = (fig.canvas.height - msg['y1']) / mpl.ratio;\n",
       "    x0 = Math.floor(x0) + 0.5;\n",
       "    y0 = Math.floor(y0) + 0.5;\n",
       "    x1 = Math.floor(x1) + 0.5;\n",
       "    y1 = Math.floor(y1) + 0.5;\n",
       "    var min_x = Math.min(x0, x1);\n",
       "    var min_y = Math.min(y0, y1);\n",
       "    var width = Math.abs(x1 - x0);\n",
       "    var height = Math.abs(y1 - y0);\n",
       "\n",
       "    fig.rubberband_context.clearRect(\n",
       "        0, 0, fig.canvas.width, fig.canvas.height);\n",
       "\n",
       "    fig.rubberband_context.strokeRect(min_x, min_y, width, height);\n",
       "}\n",
       "\n",
       "mpl.figure.prototype.handle_figure_label = function(fig, msg) {\n",
       "    // Updates the figure title.\n",
       "    fig.header.textContent = msg['label'];\n",
       "}\n",
       "\n",
       "mpl.figure.prototype.handle_cursor = function(fig, msg) {\n",
       "    var cursor = msg['cursor'];\n",
       "    switch(cursor)\n",
       "    {\n",
       "    case 0:\n",
       "        cursor = 'pointer';\n",
       "        break;\n",
       "    case 1:\n",
       "        cursor = 'default';\n",
       "        break;\n",
       "    case 2:\n",
       "        cursor = 'crosshair';\n",
       "        break;\n",
       "    case 3:\n",
       "        cursor = 'move';\n",
       "        break;\n",
       "    }\n",
       "    fig.rubberband_canvas.style.cursor = cursor;\n",
       "}\n",
       "\n",
       "mpl.figure.prototype.handle_message = function(fig, msg) {\n",
       "    fig.message.textContent = msg['message'];\n",
       "}\n",
       "\n",
       "mpl.figure.prototype.handle_draw = function(fig, msg) {\n",
       "    // Request the server to send over a new figure.\n",
       "    fig.send_draw_message();\n",
       "}\n",
       "\n",
       "mpl.figure.prototype.handle_image_mode = function(fig, msg) {\n",
       "    fig.image_mode = msg['mode'];\n",
       "}\n",
       "\n",
       "mpl.figure.prototype.updated_canvas_event = function() {\n",
       "    // Called whenever the canvas gets updated.\n",
       "    this.send_message(\"ack\", {});\n",
       "}\n",
       "\n",
       "// A function to construct a web socket function for onmessage handling.\n",
       "// Called in the figure constructor.\n",
       "mpl.figure.prototype._make_on_message_function = function(fig) {\n",
       "    return function socket_on_message(evt) {\n",
       "        if (evt.data instanceof Blob) {\n",
       "            /* FIXME: We get \"Resource interpreted as Image but\n",
       "             * transferred with MIME type text/plain:\" errors on\n",
       "             * Chrome.  But how to set the MIME type?  It doesn't seem\n",
       "             * to be part of the websocket stream */\n",
       "            evt.data.type = \"image/png\";\n",
       "\n",
       "            /* Free the memory for the previous frames */\n",
       "            if (fig.imageObj.src) {\n",
       "                (window.URL || window.webkitURL).revokeObjectURL(\n",
       "                    fig.imageObj.src);\n",
       "            }\n",
       "\n",
       "            fig.imageObj.src = (window.URL || window.webkitURL).createObjectURL(\n",
       "                evt.data);\n",
       "            fig.updated_canvas_event();\n",
       "            fig.waiting = false;\n",
       "            return;\n",
       "        }\n",
       "        else if (typeof evt.data === 'string' && evt.data.slice(0, 21) == \"data:image/png;base64\") {\n",
       "            fig.imageObj.src = evt.data;\n",
       "            fig.updated_canvas_event();\n",
       "            fig.waiting = false;\n",
       "            return;\n",
       "        }\n",
       "\n",
       "        var msg = JSON.parse(evt.data);\n",
       "        var msg_type = msg['type'];\n",
       "\n",
       "        // Call the  \"handle_{type}\" callback, which takes\n",
       "        // the figure and JSON message as its only arguments.\n",
       "        try {\n",
       "            var callback = fig[\"handle_\" + msg_type];\n",
       "        } catch (e) {\n",
       "            console.log(\"No handler for the '\" + msg_type + \"' message type: \", msg);\n",
       "            return;\n",
       "        }\n",
       "\n",
       "        if (callback) {\n",
       "            try {\n",
       "                // console.log(\"Handling '\" + msg_type + \"' message: \", msg);\n",
       "                callback(fig, msg);\n",
       "            } catch (e) {\n",
       "                console.log(\"Exception inside the 'handler_\" + msg_type + \"' callback:\", e, e.stack, msg);\n",
       "            }\n",
       "        }\n",
       "    };\n",
       "}\n",
       "\n",
       "// from http://stackoverflow.com/questions/1114465/getting-mouse-location-in-canvas\n",
       "mpl.findpos = function(e) {\n",
       "    //this section is from http://www.quirksmode.org/js/events_properties.html\n",
       "    var targ;\n",
       "    if (!e)\n",
       "        e = window.event;\n",
       "    if (e.target)\n",
       "        targ = e.target;\n",
       "    else if (e.srcElement)\n",
       "        targ = e.srcElement;\n",
       "    if (targ.nodeType == 3) // defeat Safari bug\n",
       "        targ = targ.parentNode;\n",
       "\n",
       "    // jQuery normalizes the pageX and pageY\n",
       "    // pageX,Y are the mouse positions relative to the document\n",
       "    // offset() returns the position of the element relative to the document\n",
       "    var x = e.pageX - $(targ).offset().left;\n",
       "    var y = e.pageY - $(targ).offset().top;\n",
       "\n",
       "    return {\"x\": x, \"y\": y};\n",
       "};\n",
       "\n",
       "/*\n",
       " * return a copy of an object with only non-object keys\n",
       " * we need this to avoid circular references\n",
       " * http://stackoverflow.com/a/24161582/3208463\n",
       " */\n",
       "function simpleKeys (original) {\n",
       "  return Object.keys(original).reduce(function (obj, key) {\n",
       "    if (typeof original[key] !== 'object')\n",
       "        obj[key] = original[key]\n",
       "    return obj;\n",
       "  }, {});\n",
       "}\n",
       "\n",
       "mpl.figure.prototype.mouse_event = function(event, name) {\n",
       "    var canvas_pos = mpl.findpos(event)\n",
       "\n",
       "    if (name === 'button_press')\n",
       "    {\n",
       "        this.canvas.focus();\n",
       "        this.canvas_div.focus();\n",
       "    }\n",
       "\n",
       "    var x = canvas_pos.x * mpl.ratio;\n",
       "    var y = canvas_pos.y * mpl.ratio;\n",
       "\n",
       "    this.send_message(name, {x: x, y: y, button: event.button,\n",
       "                             step: event.step,\n",
       "                             guiEvent: simpleKeys(event)});\n",
       "\n",
       "    /* This prevents the web browser from automatically changing to\n",
       "     * the text insertion cursor when the button is pressed.  We want\n",
       "     * to control all of the cursor setting manually through the\n",
       "     * 'cursor' event from matplotlib */\n",
       "    event.preventDefault();\n",
       "    return false;\n",
       "}\n",
       "\n",
       "mpl.figure.prototype._key_event_extra = function(event, name) {\n",
       "    // Handle any extra behaviour associated with a key event\n",
       "}\n",
       "\n",
       "mpl.figure.prototype.key_event = function(event, name) {\n",
       "\n",
       "    // Prevent repeat events\n",
       "    if (name == 'key_press')\n",
       "    {\n",
       "        if (event.which === this._key)\n",
       "            return;\n",
       "        else\n",
       "            this._key = event.which;\n",
       "    }\n",
       "    if (name == 'key_release')\n",
       "        this._key = null;\n",
       "\n",
       "    var value = '';\n",
       "    if (event.ctrlKey && event.which != 17)\n",
       "        value += \"ctrl+\";\n",
       "    if (event.altKey && event.which != 18)\n",
       "        value += \"alt+\";\n",
       "    if (event.shiftKey && event.which != 16)\n",
       "        value += \"shift+\";\n",
       "\n",
       "    value += 'k';\n",
       "    value += event.which.toString();\n",
       "\n",
       "    this._key_event_extra(event, name);\n",
       "\n",
       "    this.send_message(name, {key: value,\n",
       "                             guiEvent: simpleKeys(event)});\n",
       "    return false;\n",
       "}\n",
       "\n",
       "mpl.figure.prototype.toolbar_button_onclick = function(name) {\n",
       "    if (name == 'download') {\n",
       "        this.handle_save(this, null);\n",
       "    } else {\n",
       "        this.send_message(\"toolbar_button\", {name: name});\n",
       "    }\n",
       "};\n",
       "\n",
       "mpl.figure.prototype.toolbar_button_onmouseover = function(tooltip) {\n",
       "    this.message.textContent = tooltip;\n",
       "};\n",
       "mpl.toolbar_items = [[\"Home\", \"Reset original view\", \"fa fa-home icon-home\", \"home\"], [\"Back\", \"Back to previous view\", \"fa fa-arrow-left icon-arrow-left\", \"back\"], [\"Forward\", \"Forward to next view\", \"fa fa-arrow-right icon-arrow-right\", \"forward\"], [\"\", \"\", \"\", \"\"], [\"Pan\", \"Pan axes with left mouse, zoom with right\", \"fa fa-arrows icon-move\", \"pan\"], [\"Zoom\", \"Zoom to rectangle\", \"fa fa-square-o icon-check-empty\", \"zoom\"], [\"\", \"\", \"\", \"\"], [\"Download\", \"Download plot\", \"fa fa-floppy-o icon-save\", \"download\"]];\n",
       "\n",
       "mpl.extensions = [\"eps\", \"jpeg\", \"pdf\", \"png\", \"ps\", \"raw\", \"svg\", \"tif\"];\n",
       "\n",
       "mpl.default_extension = \"png\";var comm_websocket_adapter = function(comm) {\n",
       "    // Create a \"websocket\"-like object which calls the given IPython comm\n",
       "    // object with the appropriate methods. Currently this is a non binary\n",
       "    // socket, so there is still some room for performance tuning.\n",
       "    var ws = {};\n",
       "\n",
       "    ws.close = function() {\n",
       "        comm.close()\n",
       "    };\n",
       "    ws.send = function(m) {\n",
       "        //console.log('sending', m);\n",
       "        comm.send(m);\n",
       "    };\n",
       "    // Register the callback with on_msg.\n",
       "    comm.on_msg(function(msg) {\n",
       "        //console.log('receiving', msg['content']['data'], msg);\n",
       "        // Pass the mpl event to the overridden (by mpl) onmessage function.\n",
       "        ws.onmessage(msg['content']['data'])\n",
       "    });\n",
       "    return ws;\n",
       "}\n",
       "\n",
       "mpl.mpl_figure_comm = function(comm, msg) {\n",
       "    // This is the function which gets called when the mpl process\n",
       "    // starts-up an IPython Comm through the \"matplotlib\" channel.\n",
       "\n",
       "    var id = msg.content.data.id;\n",
       "    // Get hold of the div created by the display call when the Comm\n",
       "    // socket was opened in Python.\n",
       "    var element = $(\"#\" + id);\n",
       "    var ws_proxy = comm_websocket_adapter(comm)\n",
       "\n",
       "    function ondownload(figure, format) {\n",
       "        window.open(figure.imageObj.src);\n",
       "    }\n",
       "\n",
       "    var fig = new mpl.figure(id, ws_proxy,\n",
       "                           ondownload,\n",
       "                           element.get(0));\n",
       "\n",
       "    // Call onopen now - mpl needs it, as it is assuming we've passed it a real\n",
       "    // web socket which is closed, not our websocket->open comm proxy.\n",
       "    ws_proxy.onopen();\n",
       "\n",
       "    fig.parent_element = element.get(0);\n",
       "    fig.cell_info = mpl.find_output_cell(\"<div id='\" + id + \"'></div>\");\n",
       "    if (!fig.cell_info) {\n",
       "        console.error(\"Failed to find cell for figure\", id, fig);\n",
       "        return;\n",
       "    }\n",
       "\n",
       "    var output_index = fig.cell_info[2]\n",
       "    var cell = fig.cell_info[0];\n",
       "\n",
       "};\n",
       "\n",
       "mpl.figure.prototype.handle_close = function(fig, msg) {\n",
       "    var width = fig.canvas.width/mpl.ratio\n",
       "    fig.root.unbind('remove')\n",
       "\n",
       "    // Update the output cell to use the data from the current canvas.\n",
       "    fig.push_to_output();\n",
       "    var dataURL = fig.canvas.toDataURL();\n",
       "    // Re-enable the keyboard manager in IPython - without this line, in FF,\n",
       "    // the notebook keyboard shortcuts fail.\n",
       "    IPython.keyboard_manager.enable()\n",
       "    $(fig.parent_element).html('<img src=\"' + dataURL + '\" width=\"' + width + '\">');\n",
       "    fig.close_ws(fig, msg);\n",
       "}\n",
       "\n",
       "mpl.figure.prototype.close_ws = function(fig, msg){\n",
       "    fig.send_message('closing', msg);\n",
       "    // fig.ws.close()\n",
       "}\n",
       "\n",
       "mpl.figure.prototype.push_to_output = function(remove_interactive) {\n",
       "    // Turn the data on the canvas into data in the output cell.\n",
       "    var width = this.canvas.width/mpl.ratio\n",
       "    var dataURL = this.canvas.toDataURL();\n",
       "    this.cell_info[1]['text/html'] = '<img src=\"' + dataURL + '\" width=\"' + width + '\">';\n",
       "}\n",
       "\n",
       "mpl.figure.prototype.updated_canvas_event = function() {\n",
       "    // Tell IPython that the notebook contents must change.\n",
       "    IPython.notebook.set_dirty(true);\n",
       "    this.send_message(\"ack\", {});\n",
       "    var fig = this;\n",
       "    // Wait a second, then push the new image to the DOM so\n",
       "    // that it is saved nicely (might be nice to debounce this).\n",
       "    setTimeout(function () { fig.push_to_output() }, 1000);\n",
       "}\n",
       "\n",
       "mpl.figure.prototype._init_toolbar = function() {\n",
       "    var fig = this;\n",
       "\n",
       "    var nav_element = $('<div/>');\n",
       "    nav_element.attr('style', 'width: 100%');\n",
       "    this.root.append(nav_element);\n",
       "\n",
       "    // Define a callback function for later on.\n",
       "    function toolbar_event(event) {\n",
       "        return fig.toolbar_button_onclick(event['data']);\n",
       "    }\n",
       "    function toolbar_mouse_event(event) {\n",
       "        return fig.toolbar_button_onmouseover(event['data']);\n",
       "    }\n",
       "\n",
       "    for(var toolbar_ind in mpl.toolbar_items){\n",
       "        var name = mpl.toolbar_items[toolbar_ind][0];\n",
       "        var tooltip = mpl.toolbar_items[toolbar_ind][1];\n",
       "        var image = mpl.toolbar_items[toolbar_ind][2];\n",
       "        var method_name = mpl.toolbar_items[toolbar_ind][3];\n",
       "\n",
       "        if (!name) { continue; };\n",
       "\n",
       "        var button = $('<button class=\"btn btn-default\" href=\"#\" title=\"' + name + '\"><i class=\"fa ' + image + ' fa-lg\"></i></button>');\n",
       "        button.click(method_name, toolbar_event);\n",
       "        button.mouseover(tooltip, toolbar_mouse_event);\n",
       "        nav_element.append(button);\n",
       "    }\n",
       "\n",
       "    // Add the status bar.\n",
       "    var status_bar = $('<span class=\"mpl-message\" style=\"text-align:right; float: right;\"/>');\n",
       "    nav_element.append(status_bar);\n",
       "    this.message = status_bar[0];\n",
       "\n",
       "    // Add the close button to the window.\n",
       "    var buttongrp = $('<div class=\"btn-group inline pull-right\"></div>');\n",
       "    var button = $('<button class=\"btn btn-mini btn-primary\" href=\"#\" title=\"Stop Interaction\"><i class=\"fa fa-power-off icon-remove icon-large\"></i></button>');\n",
       "    button.click(function (evt) { fig.handle_close(fig, {}); } );\n",
       "    button.mouseover('Stop Interaction', toolbar_mouse_event);\n",
       "    buttongrp.append(button);\n",
       "    var titlebar = this.root.find($('.ui-dialog-titlebar'));\n",
       "    titlebar.prepend(buttongrp);\n",
       "}\n",
       "\n",
       "mpl.figure.prototype._root_extra_style = function(el){\n",
       "    var fig = this\n",
       "    el.on(\"remove\", function(){\n",
       "\tfig.close_ws(fig, {});\n",
       "    });\n",
       "}\n",
       "\n",
       "mpl.figure.prototype._canvas_extra_style = function(el){\n",
       "    // this is important to make the div 'focusable\n",
       "    el.attr('tabindex', 0)\n",
       "    // reach out to IPython and tell the keyboard manager to turn it's self\n",
       "    // off when our div gets focus\n",
       "\n",
       "    // location in version 3\n",
       "    if (IPython.notebook.keyboard_manager) {\n",
       "        IPython.notebook.keyboard_manager.register_events(el);\n",
       "    }\n",
       "    else {\n",
       "        // location in version 2\n",
       "        IPython.keyboard_manager.register_events(el);\n",
       "    }\n",
       "\n",
       "}\n",
       "\n",
       "mpl.figure.prototype._key_event_extra = function(event, name) {\n",
       "    var manager = IPython.notebook.keyboard_manager;\n",
       "    if (!manager)\n",
       "        manager = IPython.keyboard_manager;\n",
       "\n",
       "    // Check for shift+enter\n",
       "    if (event.shiftKey && event.which == 13) {\n",
       "        this.canvas_div.blur();\n",
       "        event.shiftKey = false;\n",
       "        // Send a \"J\" for go to next cell\n",
       "        event.which = 74;\n",
       "        event.keyCode = 74;\n",
       "        manager.command_mode();\n",
       "        manager.handle_keydown(event);\n",
       "    }\n",
       "}\n",
       "\n",
       "mpl.figure.prototype.handle_save = function(fig, msg) {\n",
       "    fig.ondownload(fig, null);\n",
       "}\n",
       "\n",
       "\n",
       "mpl.find_output_cell = function(html_output) {\n",
       "    // Return the cell and output element which can be found *uniquely* in the notebook.\n",
       "    // Note - this is a bit hacky, but it is done because the \"notebook_saving.Notebook\"\n",
       "    // IPython event is triggered only after the cells have been serialised, which for\n",
       "    // our purposes (turning an active figure into a static one), is too late.\n",
       "    var cells = IPython.notebook.get_cells();\n",
       "    var ncells = cells.length;\n",
       "    for (var i=0; i<ncells; i++) {\n",
       "        var cell = cells[i];\n",
       "        if (cell.cell_type === 'code'){\n",
       "            for (var j=0; j<cell.output_area.outputs.length; j++) {\n",
       "                var data = cell.output_area.outputs[j];\n",
       "                if (data.data) {\n",
       "                    // IPython >= 3 moved mimebundle to data attribute of output\n",
       "                    data = data.data;\n",
       "                }\n",
       "                if (data['text/html'] == html_output) {\n",
       "                    return [cell, data, j];\n",
       "                }\n",
       "            }\n",
       "        }\n",
       "    }\n",
       "}\n",
       "\n",
       "// Register the function which deals with the matplotlib target/channel.\n",
       "// The kernel may be null if the page has been refreshed.\n",
       "if (IPython.notebook.kernel != null) {\n",
       "    IPython.notebook.kernel.comm_manager.register_target('matplotlib', mpl.mpl_figure_comm);\n",
       "}\n"
      ],
      "text/plain": [
       "<IPython.core.display.Javascript object>"
      ]
     },
     "metadata": {},
     "output_type": "display_data"
    },
    {
     "data": {
      "text/html": [
       "<img src=\"data:image/png;base64,iVBORw0KGgoAAAANSUhEUgAABQAAAAPACAYAAABq3NR5AAAAAXNSR0IArs4c6QAAQABJREFUeAHs3QncVdP+x/FfVErRoCRKhkSmixSRMhO5blwuLpU54zWT6ZqiPyFjhpB5znARXVMDkWvMlSlKuakMUdHE+e/vYu32c54zPs+ZnnM+yytnn73Xnt57n3Oe8zu/tVa9WFCMggACCCCAAAIIIIAAAggggAACCCCAAAJlKbBCWZ4VJ4UAAggggAACCCCAAAIIIIAAAggggAACToAAIDcCAggggAACCCCAAAIIIIAAAggggAACZSxAALCMLy6nhgACCCCAAAIIIIAAAggggAACCCCAAAFA7gEEEEAAAQQQQAABBBBAAAEEEEAAAQTKWIAAYBlfXE4NAQQQQAABBBBAAAEEEEAAAQQQQAABAoDcAwgggAACCCCAAAIIIIAAAggggAACCJSxAAHAMr64nBoCCCCAAAIIIIAAAggggAACCCCAAAIEALkHEEAAAQQQQAABBBBAAAEEEEAAAQQQKGMBAoBlfHE5NQQQQAABBBBAAAEEEEAAAQQQQAABBAgAcg8ggAACCCCAAAIIIIAAAggggAACCCBQxgIEAMv44nJqCCCAAAIIIIAAAggggAACCCCAAAIIEADkHkAAAQQQQAABBBBAAAEEEEAAAQQQQKCMBQgAlvHF5dQQQAABBBBAAAEEEEAAAQQQQAABBBAgAMg9gAACCCCAAAIIIIAAAggggAACCCCAQBkLEAAs44vLqSGAAAIIIIAAAggggAACCCCAAAIIIEAAkHsAAQQQQAABBBBAAAEEEEAAAQQQQACBMhYgAFjGF5dTQwABBBBAAAEEEEAAAQQQQAABBBBAgAAg9wACCCCAAAIIIIAAAggggAACCCCAAAJlLEAAsIwvLqeGAAIIIIAAAggggAACCCCAAAIIIIAAAUDuAQQQQAABBBBAAAEEEEAAAQQQQAABBMpYgABgGV9cTg0BBBBAAAEEEEAAAQQQQAABBBBAAAECgNwDCCCAAAIIIIAAAggggAACCCCAAAIIlLEAAcAyvricGgIIIIAAAggggAACCCCAAAIIIIAAAgQAuQcQQAABBBBAAAEEEEAAAQQQQAABBBAoYwECgGV8cTk1BBBAAAEEEEAAAQQQQAABBBBAAAEECAByDyCAAAIIIIAAAggggAACCCCAAAIIIFDGAgQAy/jicmoIIIAAAggggAACCCCAAAIIIIAAAggQAOQeQAABBBCoSIGZM2faWWedZVtuuaU1a9bMVlhhBatXr5779+qrr5a8yY477linjrfkQSvgALlnsr/II0eODF9nAwYMyH4DSdbQe4x/v9F1oSBQqQJ6XfnXgl5viUq+XoeJ9lUK8yrtfEvBnGNAoFIE6lfKiXKeCCCAAAKJBX788UcbPXq0/fvf/7a3337b5s6da99++601bNjQWrRoYRtuuKF17drV9tlnH+vevXvijdSxuf/5z39s9913tx9++KGOHTmHiwACCCCAAAIIIIAAAghkL0AGYPZmrIEAAgiUhcDPP/9sl19+ua277rp28MEH25133mnvv/++/e9//7MlS5bYggULbMaMGfbiiy/aFVdcYdttt50LBj744IMWi8XqrIGO/bDDDguDf82bN7f99tvPjjvuODvhhBPcv7XWWqvOnh8HXrcELrroojD7RdOUuicwbdq08Bqus846de8ECnzEZDcVGJzdFVWA+72o/OwcAQTiBMgAjAPhKQIIIFAJAl999ZXL6Pvggw+qnO7aa69tm2++ubVu3dp+/fVX++abb1xQcPbs2a7ep59+aocccogLDKr5bF0sb775pn388cfu0HWeH330kbVq1aoungrHjAACCCCAAAIIIIAAAghkJEAAMCMmKiGAAALlI6BsFTXlVXBPRX3vKAPw3HPPtU022aTaiSpjTk1mb7jhBrv//vvtt99+M2UP1tXyzjvvhIe+77771tngX13opzCEZqIkBLhnsr8M6p8sl33/ZX8ErIEAApX2Oqy08+UORwCBwgnQBLhw1uwJAQQQKLqAmvYecMABYfCvUaNGNmrUKBfYSxT80wErQKg+AO+55x6XDbjpppsW/TxqcwDRfv/atm1bm02xLgIIIIAAAggggAACCCBQJwTIAKwTl4mDRAABBHIjcOWVV7psPr+1u+++2/7yl7/4p2kfFfx744037L333ktbt1QrLF26NDw0jfxLQQABBBBAAAEEEEAAAQTKXYBvPuV+hTk/BBBA4A+BX375xa6//vrQQwNfHHjggeHzTCeaNGli22+/fcrq6mPwwgsvtG233dbatGnjRhTWo57/85//dH0IptxAsFDNFZV9qH877rhjWP3ll1+2gw46yNZbbz1TBuNqq61mPXv2tBtvvNGiwb1whWAi2gn3xRdfHC7StN+Hf1RdX7IdoCHZMfvtRR/feustO/HEE22rrbZyoy03aNDAWrZsaZ06dbIePXrYaaedZi+88ILpuiUqMvHHnEnTTo3sPGTIEOvVq5cp83GllVZyzZ+33HJLO/PMM11fiIn2E52XbLADNRE/6qij3LGvvPLK7ny6devmBplZuHBhdBO1mo5eR98sU31VKjt1t912Mw3eotGr11xzTfv73/9ukydPrra/+fPnu+bsGtRG92Tjxo3dcZ9++ulu9OtqKySYMX36dBs+fLhrOq+geLNmzUzXT/ei+tDUgDIKlKcq/vqlux91jf25+u3pub/2/n6dN2+eXXfdde61IIf69eu7Oprvi9+n1k10z/Tp0yfc7tZbb5309eS399prr4X70TaffPJJvygvjzL1573DDjsk3Ye6KNB9kEndRYsWufcR1dV7W/x7SKJ7zu/YL1s3GEjJF90bfr/xj75OqseavL8l257eP4444gh3f6+66qruXu/QoYP17dvX7rrrrmrnmmg76e6Z+HVSvWf6+/bwww8PV9OPUPFOeq791rSsEwzE4rep9yyVmTNn2gUXXGB/+tOfTAM/6VpvtNFGdtJJJ5muWTYln59vzz33nHtf2WCDDaxp06buPIYNGxYeXiJf3e8333yz6TWxxhpruHtfBsccc0zCc9NnweDBg02vcb1nyWKzzTYzvRdl+n49ZcoUu/baa90AWhtuuKGtssoq7j1Q/epqu6eeempGnynhiaWZ8K81Xdf490OtGnXx1z6Tx2T32Zw5c9xrpH///qbPSH026z1e947uG93Den2lKrW539Odb/x+1VXLo48+6u6d9ddf3907un80rX6bH3vssYwGb0v0ev/+++/t//7v/1xLEPWXrM9M/f115JFH2ocffhh/KDxHAIFSFwjeMCgIIIAAAhUgEARJNHRv+G/ChAl5Oevgi0UsCMyF+4nu009reTCycMr9v/LKK+E2gqBVbPHixbHgC004z28r+hgE02Jz586ttt3gy27K9aLbUF1fgmBluJ6m05X4Y05UPwgwpD2P6PGcd955iTYTk4mvp/2mKnfccUcsCFKF9f160ccVV1wxdsopp8SWLVuWdFNffvlluI0gkBAL+oOMBYHeWJBJGc6PblPTQXAkNnXq1KTbzGZB9DoGX8xiweA0sSD4m3TfQRAoFnyhDncxceLEWBAcTFo/+PIcCwaICesnmjjjjDNiwRfLpNuInn/Qt2Ys+EKdaDNVrl90nUTTOtdo0XNfTyZ6Lbdv3z6c55fpMWjyHq6a7p4JvvTGZODXDwb6CdeNnwgCi7EgyBDWPfroo+Or5Py5XjvBl1q3z+DLeFLbMWPGhMelc0lVNwi4hXV33XXXasccf89FK0SXebNUj9F1498ravP+Ft2upvW62GWXXcLzSnZMQZApFvwQEb96lefp7pkqlYMnep/0+9N0tETvW18n2aP2W9Oi9ya/Xb1nPfHEEynf/4KARuyZZ57JaHf5+nzT6ykIzIbH7Y9fj0GgLTy2eN/PPvssFvwIkXA9rav3/bfffjtc/+mnn05pEQTzYkH/wGH9RBNBNyJJ9xc9br1PpvtM0faj94VeU4lK9LWm+vEl6hI9hnTTie6z4IeUmD4P062r5TvvvHMsCKjGH457Hj2vdNuKP4505xvdYTA4WywIUqY93i5dusQ+//zz6KrVpuNf7/psCX5QSrptOd12223VtsMMBBAoXQGaAAfvyBQEEECgEgSUWeKLRvtNl8Xn62bzqIy2m266KVxFmQXBH8guK0GDjgRfem3BggWmrJtBgwaZRhdWFkEm5dhjjzX9Kq5mu9tss437FV4Dkigr6JNPPnGb0AAf/fr1M2VRREvnzp3thBNOcLMmTZpkyr5TUd+GylSLFtXNZwkCSBb8wRzuQtlaOgb9sh78uWDfffedy5zw5xRWrOHE0KFDXYafX12Zf8Ef+aZ7QP0h6proF35l0inTRNkwjz/+uMs88eske1TGyCWXXOIWb7HFFi6LRFkSaiLuB1sJvoC7ZubBl1CXQZFsW9nODwKVLvtEWWjKOlTmgiyVufHiiy+6TBb1ealMV2UpaHr33Xc3ZQAq80/ZMi1atLAgOOmy4XQv6R5VdtT777+f9FhnzJjhrpOyS5T5on/KotF569q9++67bps6nwcffNB+/PFHC4IL1Ty1H2UPprsftR1lziYrwRc6C75ku/0oC0fZsMqA1LUdN25cstUSzlf2jl5jvXv3dueoe2ePPfZwr+H4FZTl6LOrZBDNUoqvm6vnymrU+5Yyb5Spp2uvzM/4Ep/dmGld3UPZFP++ontKWagqugZ6D8q21Ob9LbovvafKSPe1L8oC0numXvsa9VwjoasEwSPbaaed7Pnnn8/L54Hfv38MAqwuM0mjsL/00ktutrKpgmClrxI+KgMuF0X7ka3e3/SepwGwlA2p9yXdJ3ofUZa1suH1PhHN5ozff74+3/S+f+ihh4bvE/pc0r2l+TomvdckKj/99JPttdde7joqM033r17Deo/S573e8/T+o9ew3if0nrz//vu7144yQWWhLLH//ve/Fvw44nahzx0dy7///e9Eu3TzlAGpotfjxhtvbLpW2n8QDHLvv/p8/frrr93x630hCG67DEW3Up7+p89Q/xmfbhePPPKIBT8UumqJbP/3v/+5+0UVlOmmayFXtThQRrUyy2WmImfd1/o7RK+vaCnE/a5MTH2e+/PR/pXNqc9jnZs+j3wmvD6D9d6gzwW1NEhXdO/p7zT9zbb66qu7z0x91una6rz1utHrauDAge6zTPcTBQEE6oBA6cYmOTIEEEAAgVwKBF8Cw19x9Qt+rsvDDz8cbj/4+IsFX4JjwZePKrvR8+DLRZV6QdOUKnX8k2iGTPCHtVsn+GIUC/7g9VXco7LQgi8ZVbY5duzYKnWiT6KZAvEZKtF6ms6mrupHjzn+F30tV3Zi8KXJHat+OQ+CLS6LTsviS/AlJBY02Y6NGDEifpF7Hv9LfaJKr7/+epVMhj333DM2a9asKlWDYGwsaAJcxe/qq6+uUsc/UTaNrq3+Kbsu+IIR030VBBR8lfAx+JLlMq98/aCpX7isphPRrAjtX9sOvtBWy8AIvqDEgkFtwmPVvajsBx2vMniCL8ZVDiEIJMWCwE1YX9clWQn60YzpOBJlmvp1gi9YsY4dO4bbu/fee/2iao/Z3mPaQDSzxN9PwZffWBCIqrJ9nWfwBS2cl8k9o8rK2vHXTdkfQWAz3IYmdC39cmXXBU3AqyzP5xNlDvt9B19OE+4qaN7t6gRf2tPWDQLBYZ1EWdHRe07uiUr0daHss0xK9L0il+9vQfA2PJ8gMB4LRm6vdjjK+gsCG2E9ZY9GM0WjK2R6z/h1MrmfMzH126vJYzQDULbBD1ExvQb1WREtQYCjSnZT0KwzurjKdD4/3/xrOAjcxD744IMq+9UTvUf7EvX174F67cdnGutzMprtrPf4du3aufdtfabEWwQ/+oSfTXp9BcFRv8tqj+ecc05M7+/xn+++oratTMPo62/8+PF+cbXH6PuZ7o1EJVf3zO233x7e98pcf/bZZ6vtThnzN9xwQyxoNl5tmZ8R/EgUC5o6h9u69NJL/aJqjzU59kzWUdZw0KQ9PAZ5Bz+OVNu/5gU/MIb11FIi/jPQrxR9veu1o79T9PeAsq+jJQgCV8k8DX5IiC5mGgEESlhAv85QEEAAAQQqQMB/ydAf90F/OTk9YwUZ1NTTfzFXUCb+C4bfoebvu+++YV0FkKJBCl8v+gVZ21VztfgAh6+rx7/+9a/hNoNfpKOLqkxHv0BpOlXJpq62Ez1m/SEdX/71r3+Fxxj0URe/OKvn0T/Utd9EJdo8Nsgic82oE9XTvJNPPjk8tiBDJhZkl1SrGg106JoE2QAxBduSFTWX9feEgo+1LdEvRdquml8lune0HzX39fv2j6m+pF1++eVh/Vwcq6x8U/ggOyXpqWd7j2lD0S/MOreg/8Wk248uyOSeUX0FHKJfLIMsynAzas4dDZYGfUOFywoxEWTahNcpyDiptksFQhSUlEvQ/10syDBz04nqBn2nxXzwTcGyRF+Ko/dcvgKAOtZcvL8FWTmhjbb51FNPVfPxM3R/RrsFCLJ5/aIqj5neM36lTO7nTEz99mryGA0AKug/evTopJtR019Z6Z+al8cHOrRiIT7f1PQ+1Y8K/gSivjrmoJ85v6jaY5CBHJ6bP8dUP0ZEu9hI9RlabUdJZkRfq0GGZZJaVd/PdG8kKrm4Z/Q56d8b5HHNNdck2lXG89Rs23eZEPSrm7T7jJoceybr3HnnneH1TfdDTJBpXiXAm+wHuejrXUa33nprUo8gszDsDkOvM/1oSUEAgdIXWCF4cVMQQAABBMpcQE2F1NTJFzXXyWUJ+txyTaq0zSArwQ2yEPxBmHAXmq9mwsEfrG65mqqlam7kN6IBLNRcKVlRZ/e++Ca+/nmpPOo6+KImRfksahoUbQIqc12bZCUIgLlmyFqu43zggQeSVQ3nn3vuua65aTgjbiLf1yT4AueahMft1j1Vs9kgEBAuCr6o2dlnnx0+j5/QwDK+5OL+WSfohF/NK1W0vei19/vJxaOapWl071yWICjmrr86e1cZNWqUBVlD7j1Eg6uoyauKzk9N2gtZgkxO18xW+5SrmqdFS5DFFw5uoSaR0WsQXzfIkHXNE7W+msb596To9go1nYv3t+DLeni4++yzj/35z38On8dP6P7U69eXW265RUkB/mnZPGpgmyCgn/R81IRW7w0quj/UPDm+FOLzTYNmqRuIbIrezzU4Q7Lyl7/8pUqzVA04pea9yUqu3wPV7Nx3qeGbfCfbd77n6++M4EfC8L1Bg1ZpoJLaFA3+pK4cVILM+pwOepLJcUVf72qGq/fGZEXNyoN+WsPFGsQqXVFTYg0kk6yoCwttV0XvHWpiTEEAgdIXoA/A0r9GHCECCCBQawH/hd1vKFUgzdfJ5lH9wfii/sM0ymyqor7a9KUsyIhz1YJf5l0/RcnWUZBDX+RSFY3U54vvm8w/L5VH9UHli/rZU0DKf/n083P1KFNfNPKlvvylKuqvMRi0wgVvVU/rq++sVCVoSp5qseunUUEk9RWk/vH0BTtX917QxNaN6JnqAIJmwOEomAqIpArwqO8vGWgUTB2rXjPqzy1VUV9Y6sMv6ITd9Q2l84wGUYIsK7e65qlfwVQj16baT6pl6tdQfRnmuqhvr6Dplx1//PFu0+pnUH3uqa8rFY2KqX7v1CdnIUuQyeyCdeq3Tj9qKOAXDfAETRfDw1HwT8FMfdlNV1fBwmKVXL2/RV/z0eB7svPSSKbq4yvIynYBDPX/pj75yqmke4/SD1J6f1T/nyr67FBgI1ry/fmmY/jb3/4W3WVG0+rvU32zJSu6r9T/o/p9VFH/f6lK9Lz9e1eq+lqm9z6NAq8Am/obVH9/0fdAzVPRe6r6Jgyam7vnhfyfjkHv/zoGFb3WNWpyJkV9yuo9Tz+oqV9VfT5Ez0/n7ov6vlXQrBBFn6XRfWfyelfQ0wf+9OOJzkWfeclKuteO1tPfXfoMVNFrh4IAAqUvQACw9K8RR4gAAgjUWiA+kBGfCVPbHaijaV+USZNJUT0fAPQDRiRbT4MMpMpe03rqnNoX/6XDPy+VR2VEKCtNA23oy5ACVEGzQvflRBlrPuMqF8db02sS9H3kdp/umij7Id2XOX2xVXBKgTEVXZdcBQBll65EA2MKaKUryozVlyIVZezFv278+uowP+gHy4J+rap8GfTLEz0GI0Umml3reamyPmq7cQ30ETSfdK9TuQR9I4ab1EA2QZ9i4fNCTugLvAKAKgp6JQoAKkCs41NdX+LrRgNm0Xq+fqEec/H+po75FazwJegH0U8mfVQWsgYD8Flves2XWwAwk4BMus+Omr6XZvr5pmxMBdSzLbl+D4y+X6bLWA76zrMLLrjADTKR6XHrPTDdZ0am28q0XtB825TZqACeit4X9ONbqh+DVE9BU/1Ap/c/bSOTkq/3+ET71g9K/rj0mbr55psnqlZlngYG8T9yaV1tI9X7RC5eO1UOgCcIIFASAiuUxFFwEAgggAACeRXQqIfKnPFFI9nlskRHoIs2u0y1D33p8SXdH84KNqUr0T/oo82d061XyOU6xvvuu8+NQqn9avRdjYKskZIVfNIoevrSoaa70SyDmhxjKVwTHXf0umg01lyVTO6J6D2fbf1kxxr0uxSOpJjNNYrPws2VQ76bkut84zN6jzzyyLTZRLk6v0TbiQbrohl/ClL6rBhfRxlSPvgbrRv0/xeOBq4vxb4pW6L95XteJvdm9HWU6P0t+nrXDwmpMsOi55PN+3B0vboyna1totd91DYfn281fQ1ncm7ZvAdG6ya6x/w1D/oQdhn50cCoX5bqMV/vgan2edppp4U/FshLQdl0wVaNMq6MeY3e7oNsqfbhlxXy/KL3pIKqmWRiq040AJvrv7sSvXa8DY8IIFA6AgQAS+dacCQIIIBAXgWiX1x8k6Bc7TCaUZiqSUl0f9F66f5wViZZuZQePXq4X97VZCdqEAxA4JoaqT+3oCNul4nzxBNP1Pi0y/2aZHtPZFs/EbyySNQs2gf+lHURjNTsAknKvvJNgLVc/5Td6YuaWeaj5DJrNNHxBYNjVMuEVN9ixSzB6JvhManfKZ+tpCbK/kuo7/tPx+mDgfF19ZpTKXb/f7m4N2vyete5R9+D0r0Pq35dK8Wyzca1pq/hbM8t2/qJrrX66w0GjAkX6fMsGFnXZQIqoBQMIOTe+/x7oD7LfMnXe6DffvyjspT1/qwSjGZrwcjFaTNcFVhTc2w1ZVZR1xDqZ1HvLcEgF6YfDnQe/vyCQVlcPf2vkOdXiNd7Lu6XEIcJBBAoGQECgCVzKTgQBBBAIL8C+kPdlzfffNNP5uQx2qzTN6FMt+FovWRNLdNto9SWZ/oFQFk3d9xxh+nLxosvvmjqAF4Bi+gXQfWtFIy+ahrooiaFa1ITtdTrKFvTZ8Zo8ABlm5100kmmgJSyeNTnVrSUQ0BFff/pXowWdTiv7NViFX2Z9+9nytBRU2yVZE16fTAwWjeaDegDhMU6n1zstyavd+031+/Dmb4H5uKcC7WNmtjm2rVQ55puP1dddVVYRQNE6LWnvuXUvFRNqdXnZrQU6z1Qr+8TTzwxPJRhw4aZ+ktNVxTM9F2IqH+7Dz74wM466yzXVFaZ0PqMjgbGinV+Nbknde7lel+mu64sRwCB5QIEAJdbMIUAAgiUtYCamfqiPug0AmauSrQJkwZGyKToGHzJdvRDv16+H9M1u4vfv//iED8/2XN9mdhll11cRoU6mlcn5eqfSJ3S+6JO+tW/V7alXK9Jtg65rB8dyfLSSy+t0rw50X6i93ii5aU+78knn3TZPTpONQ/UgAIquh+jI0q6mQX+XzRo5wN/PqinPvXWXHPN8IhU139p93X9oypFtxWuVMcmoq93ZaKma97nTy96jyZ6H873e6A/jlJ+jNqW0+dbtuYKoI8dO9atpuakl112WdpNZOqVdkNZVPj8889dFwU+G1h9mUaDgak2FX2PP//889P2WRt9/aTabq6XRe9J9SesjMR0RcF51fUl0evdL+MRAQTKV4AAYPleW84MAQQQqCKgEd2if/DVNLOsykb/eBIdgTfTwKKa1PiSboRaX6/Qj9HMRD+CYKpjmDx5cqrFaZcpIKisPwUn/OjAaqaoPomyLeV6TbJ1yGV9NQHzJV0H/AoGK3skXfGBqXT1Cr1c56rMHl/U75cCgj7LcdSoUS6L1S8v9GM0aKfAnzJb4vv/88ek9z1/veLrqqlmbfv/K4VrqJHVo/3+ZfI+rPc0jfzrS6L34Xy8B5aClz/nTB55L/1dSUFl32xe91o0CJXIUV2NZBqITrR+TebpfVcj/voM5V133TVsBpzJ9rJ5j1dANPp3TLLt5+N+14+EyoRWUXPgTP720KAfPgNQ60Z/aEx27MxHAIHyEyAAWH7XlDNCAAEEEgoouHTyySeHy5Rppn/ZFv0BGf/lMppd+Nxzz1UZjTLR9r/55puwY24tj66fqH6x5qn/H1/ee+89P5n0UX0M5aJoNMbo6HyzZ8/OerNRU3XWrj/+UxVlDT300ENhlej64cwKn4h2tK6+oFKVESNGhP3RparnA2qq4zNWUtUvxDLff6EPequ5rUY93nTTTV1/WP4Y/vGPf9hnn33mnxb0UaMfa3AjFd3f6rDfN8/2TX6jB+QDhr6ut1b/f9HBD6LrZDpdKtcwet7REZuTncfdd98d9lumjEllTsaXbN4DFTyZMGFC/CaqPS8Vr2oHlmRG9L2wnD7fkpxu0tnR9z/f32nSysGC4cOHp1qc82UKyKn/Pj+qte7nRx99NKvXd/Qc073H6wcR/S2TruTjflcTYHU94Usmr/e77rrLV7du3bpV6f8zXMAEAgiUvQABwLK/xJwgAgggsFxAfdlEszwOO+wwNyre8hqpp/Qr8zbbbGNjxoypUlF96/gviuo8W/2GJSsKLigQ6TMJ1KxQv9KXYlFmkP/1Xv0mahCIZOXmm2+2//73v8kWu/k+oJKy0h8Lo02n0mVaJNreRhttZD179gwXqa86H/QIZ0YmLrjggjBwq8DKIYccElnKpATWW2+9EOKpp54Kp+MnFBSLdpQfvzz6XP1m+VKTpt5+3Vw+Xn311a5vSm1TI2dq5GqfbaLXbu/evd3u9GPA3//+95T3VS6PK7qtaD+AatoWbY7og33R+j44Fl/Xz4/WzXZaI3j7wIEGg0n1Ost229nU1wA1vmgAoeeff94/rfaopoBRM63r3+uilRUo8OXBBx8MB0fw86KPp556akbnXor3fPQ84qfL9fMt/jzTPdd180F3Zdr55sCJ1lNmXKEDgPq7w2fL60c0jfir12Y2JdP3ePXfq/s9k5Kv+z36er/ppptSZpzrh49bbrklPFz140pBAIHKFCAAWJnXnbNGAIEKFVAH3fpF3DcV06/4GtGzX79+SYNbCti99dZbbkRTdfSdKMilL79DhgwJVfVFUX2ERUeq00J1mH3kkUe6Y/CVNcKe//Ls55XKo5rh+gCBHA4++GCbOXNmlcNT1pECJgqMxHeAXqVi8OSGG25wnaUrWDhr1qz4xe65jM4+++ywOaMCHXvssUfCuulm6pr4wI06a99///3DIJ9fV4HY8847z52Dn6eRDaOdjPv5lf7Yp0+fkOC0004Lv2yGM4MJ9SGlAJSuY3Qk0Gid6PRmm20WPtWX12z7kQxXztGEMl11P/iiL5bREcQ1X5kkPiit94boSJh+veijAkv+XyaZKtF1U01HA30ffvihq9q5c2dr06ZNtdU0GqkPcPm6qhTdRrWVMpyh132nTp1cbb0f1Gb07gx3mbCa3qt8cFYV1O2D3u/ji4IB6nv0hx9+cIvat29fJTs8Wl/NKX0zYPV3pmbh+tyIFjW31GeIMqDTvQdqveg9rx9Woj92RLdbKtPl+vmWra8cNPiRL4cffrhNmjTJPw0fdR+onjLyMnkPDFesxcStt95qN954o9uCMnofe+wx22CDDbLeYvQ9Xp+f+vEjvrzzzjum9xMF0TM5v3zd7/rxxTfj1ee4/k6I9m3qj1ufSXvuuWcYnNePwPpbhoIAApUpUL8yT5uzRgABBCpXQL9w60uXvtjpi7AyYu699173T6PTbr755q6vQP3xruYtCgjEN0H1XwijigceeKCNGzfOFDBQURPIhx9+2AXQ9IVcmTEa6CI6ap5+sVdQqpTL5Zdf7prjyknNaPVFX1+e1WROX3x1zjo3BcyuuOIKNypsqvPRNk444QTXKbmyH9WsUn2UKWtITejUvNr306PtqOmlvqDXpHTv3t0FZs8880y3ujIi1l57bXdNtE0FANQnWrSfpr59+2ac2VCTY6rL6yjjw4/eLDt9qdKXqY033tgFl/TF0AfI9WVMgXa9tlIVZZnqmigIotebMjeVcaR7wgesVEdN2/JdFNhR5qfPztW0vmTGF72e77zzTvceomUK4ssimnEav04+nicK3vmAffz+lIWjL+LRfhnjm9HFr5PNc72PDR482K1y6KGHmprXduzYscpAMUOHDs1mkzWqq+CsmjVPnTrV/QCj92UFQpS53bBhQ/dDzxtvvBEOGqAAhn6wSZYptfLKK5uyg5U9rqKAiDLA5axsMAVB9B6o5pJ6L9N9rx9EUhXdPzpGZYktWrTIBTF0/2iUVf9jkN4bNXhDqZRy/XzL1lf3grKf9V4xbdo023bbbU2fM/pc1PvGxIkT7csvv3Sb1Y+AGkE8VaZgtvtPVj/6A6T+xlEfpfqXrui1oa4MfBkwYICpf2Qdt1ozqJWE/gZQoE1NefU3k+9rVPN0v1955ZV+9YSP+brf9XrWa1fBSGUk6vNDzdV1XPqxVkV/v0W7/9BnktaJDu6T8KCZiQAC5SsQZDRQEEAAAQQqUCAIxMUuueSSWPDFT8PHZfQv+MMyFvxRnVIrGB01FmSBpNxe8Id0LPijOuV2gl+yw20Ef+CmrOsXRs/Dz4t/DLKVwu1qOpMSBH1iQSZduF50P5oOvrjGgi/BsXTHHAQAkm4jfpvBH/exoBlp0sOTiV9H+01VgmBsLPiyHtb360UfdX7BF6FYkMGUdFPBF7twG0FWWNJ60QWq5/ej9WtTguBGuK3+/fun3ZTq+H1r3XQlk2MNArSxIDgXbtdvP/oYZNXG5s2bF8t0/88++2zK10z8uWa63fjzTXfPBM3CwvOShc4hVQkCNGH9IIgZC4Ki1aoHgfOwjozuueeeanVqOkP3avx9HWS8Jd1ckKVb5ViCL+9J6/oFmd5zQeZmLAgEV9l+9J7QdLSke6+I1vXT0e35eYkeg0BALAgEpDwWbSsIUMaCDK5Em6gyL/gxKBZk/qXcXhAIigXBwFim769vv/12tWsXPb9M3/OrHOgfTzJ5HUfXy+b1VMzPNx1zpr7+/NK95n09/xi9Bn5e/GPQ910sCAynvB+OOeaYWBDcjWWy/0z8070Oo9c8eg7pphPdZ8HAOLEgiJjy/IIAdixoDZDx9cj2fk93vtFrouMNBqpJebxyCH6sigUjJEdXrTadyfWKrpTt/Rhdl2kEECiOAE2Ag3dECgIIIFCJAsp+0a/5+hX//vvvN/3yrQwZNXvVL8tarswkZSOpXvAHrPs1WRliqcr555/vRpbUozKXlMmkJjl6VH9S2pZGnhw0aFCqzZTUsiOOOMJlDqn5svo6VCaAMmY0OqT60VJW0Q477JD2mE8//XSXHXHbbbc5bw1koMwk/RqvpnPKFFBWUxCYdRkIF154YdptZlJBx62MIGUy6Di1H+2zZcuWLltAx6VzGDZsWNhkOJPtVmIdZbsoy0/3rzKelCGlf8pYUpbQ008/7ZqAqu+8TIuay+n1pX6ZtE1l2Prsv0y3Udt6yg71fUQpC0uZi+nOQZleyn5UUQZjon6loqNT6rz23nvv2h5quL6at0dfdzILvsCGy+Mn4rMDE2UQxq+T6XNlw6k55FVXXeUyIdVEulhZNnp9q9mf+gDU+7oyEfV+rvcYZf7++c9/dhmcGqVV79Hpiu6H22+/3YJAte27777uM0Ln5rtIUFassgDbtWuXblPhcmXO6j1H7z16H9W95rsrCCuV4EQ5fr5ly6x7QJlwJ554osv80+eh7i9lAapZsDL+1CQ3k+bg2e67EPV1Hmomr89LDbSh9y2dSxBkNDURfuCBB+zVIHNeI29nWvJ5v+t4lZWoFhf6DFJLDv+5pGllj6srANXR5xQFAQQqW6Ce4o6VTcDZI4AAAggggAACCORD4LrrrgsHBVLwJMigysdu2CYCCCCAAAIIIIBAGgEyANMAsRgBBBBAAAEEEECgZgLq91NFGXIaOIWCAAIIIIAAAgggUBwBAoDFcWevCCCAAAIIIIBAWQto4Bw1DVXRgD8tWrQo6/Pl5BBAAAEEEEAAgVIWoAlwKV8djg0BBBBAAAEEEKijAurXUH1oqX+3aUFfo8lGmq2jp8dhI4AAAggggAACdUqAAGCdulwcLAIIIIAAAggggAACCCCAAAIIIIAAAtkJ0AQ4Oy9qI4AAAggggAACCCCAAAIIIIAAAgggUKcECADWqcvFwSKAAAIIIIAAAggggAACCCCAAAIIIJCdAAHA7LyojQACCCCAAAIIIIAAAggggAACCCCAQJ0SIABYpy4XB4sAAggggAACCCCAAAIIIIAAAggggEB2AgQAs/OiNgIIIIAAAggggAACCCCAAAIIIIAAAnVKgABgnbpcHCwCCCCAAAIIIIAAAggggAACCCCAAALZCRAAzM6L2ggggAACCCCAAAIIIIAAAggggAACCNQpAQKAdepycbAIIIAAAggggAACCCCAAAIIIIAAAghkJ0AAMDsvaiOAAAIIIIAAAggggAACCCCAAAIIIFCnBAgA1qnLxcEigAACCCCAAAIIIIAAAggggAACCCCQnUD97KpTGwEEEECgrgssWrTIJk+e7E6jdevWVr8+HwV1/Zpy/AgggAACCCCAQCEEli1bZnPnznW72myzzaxRo0aF2G3e9qHz+eabb/K2/Ww3vMYaa/C3ebZo1M9YgG99GVNREQEEECgPAQX/unXrVh4nw1kggAACCCCAAAIIFEVg0qRJ1rVr16LsO1c7VfCvffv2udpcrbczY8YMa9euXa23wwYQSCRAE+BEKsxDAAEEEEAAAQQQQAABBBBAAAEEEECgTATIACyTC8lpIIAAApkKqNmvLxeNfNqat2rjn/KIAAIIIPCHwIarrYIFAggggECcwNw531i/fXd2c6N/U8ZVq5NPG3b6q9Wr36Tgxx5bttCWfPpYwffLDitPgABg5V1zzhgBBCpcINrnn4J/Ldu0rXARTh8BBBCoLtCmdbPqM5mDAAIIIBAKRP+mDGfW4QkF/+o1bFqHz4BDRyC1AAHA1D4sRQABBBBAAAEEEEAAAQQQQACBcheoF/SQpn+FLsXYZ6HPkf2VhEAR7u6SOG8OAgEEEEAAAQQQQAABBBBAAAEEEEAAgYoQIAOwIi4zJ4kAAggggAACCCCAAAIIIIAAAkkF6gVL6ul/BS5F2GWBz5DdlYgAGYAlciE4DAQQQAABBBBAAAEEEEAAAQQQQAABBPIhQAAwH6psEwEEEEAAAQQQQAABBBBAAAEEEEAAgRIRoAlwiVwIDgMBBBBAAAEEEEAAAQQQQAABBIokwCAgRYJnt4USIAOwUNLsBwEEEEAAAQQQQAABBBBAAAEEEEAAgSIIkAFYBHR2iQACCCCAAAIIIIAAAggggAACJSSgAUCKMggIo4CU0F1Q1odCBmBZX15ODgEEEEAAAQQQQAABBBBAAAEEEECg0gUIAFb6HcD5I4AAAggggAACCCCAAAIIIIAAAgiUtQBNgMv68nJyCCCAAAIIIIAAAggggAACCCCQVoBBQNISUaFuC5ABWLevH0ePAAIIIIAAAggggAACCCCAAAIIIIBASgECgCl5WIgAAggggAACCCCAAAIIIIAAAggggEDdFqAJcN2+fhw9AggggAACCCCAAAIIIIAAAgjUVoBRgGsryPolLkAGYIlfIA4PAQQQQAABBBBAAAEEEEAAAQQQqInAnDlz7JlnnrELL7zQevfuba1atbJ6QbBT/wYMGJDVJqdPn27nnHOOdenSxZo3b24NGjSwli1b2nbbbWeXXnqpzZ07N6Pt/fzzz3bVVVdZt27d3PpNmza1zp072xlnnGFfffVVRtugUvYCZABmb8YaCCCAAAIIIIAAAggggAACCCBQVgJBfpQGAil4ye8+27Rpk5MzeuCBB+zoo482Be+i5YcffrCJEye6f9ddd5098sgjtvPOO0erVJmeOnWq7b333vbJJ59Umf/xxx+b/o0YMcK0r7322qvKcp7UXiC/d1rtj48tIIAAAggggAACCCCAAAIIIIAAAgjUUqB9+/a2++67Z70VBfj69evngn8rrLCCHX744fbkk0/apEmT7LHHHrN99tnHbfO7776zP//5zzZt2rSE+1iwYIH16dMnDP4poPjSSy/Z66+/boMHDzZlAv744492wAEH2AcffJBwG8ysuQAZgDW3Y00EEEAAAQQQQAABBBBAAAEEEECgZAXU9Ldr167un7IBFZxbd911szreyy+/3H799Ve3zg033GDHH398uL62vf/++9vpp59u11xzjS1cuNA9Xn/99WEdPzF06FCX5afnV155pZ155pl+kXXv3t122mkn69mzpws0nnLKKfbyyy+Hy5movQAZgLU3ZAsIIIAAAggggAACCCCAAAIIIFCXBeoFB+8HAinoY37RLr74Ypd1V5umwK+99po7yNVWW61K8C965Ao0+qKMvviydOlSUxNhFfX3p4BhfFEQ8Mgjj3SzX3nlFXv77bfjq/C8FgIEAGuBx6oIIIAAAggggAACCCCAAAIIIIBAOQssWbLEnV6qzMFmzZq5AUZUcfHixdU4Xn31VZs3b56b379/f1NT4kQlOjDJqFGjElVhXg0FEovXcGOshgACCCCAAAIIIIAAAggggAACCNQ5AQ0AUqx/JY7VqVMnd4Rffvll0iP96aef7Ntvv3XLff1o5fHjx4dPe/XqFU7HT2y99dbWpEkTN3vChAnxi3leCwECgLXAY1UEEEAAAQQQQAABBBBAAAEEEECgnAWOPfZYd3oa5OOWW25JeKqXXnppON/XD2cEE1OmTAmfbrTRRuF0/ET9+vVt/fXXd7Oj68TX43n2AgwCkr0ZayCAAAIIIIAAAggggAACCCCAAAI5FZg1a1ba7bVr1y5tnVxXOOqoo0wZfPfff7+dcMIJrm8+jfbbtm1b++qrr+y+++6zJ554wu327LPPTjjS8IwZM9xyZfc1b9485SFqtGKNAjx37lzXnHillVZKWZ+FmQkQAMzMiVoIIIAAAggggAACCCCAAAIIIFCuAn7gj0Kfn/b7R+nWrZufTPoYi8WSLsvXghVXXNEF+RT0GzJkiI0YMcL9i+5PI/iec845CYN/qjd//nxXvWnTptHVEk77JsBauGDBAiMAmJAp65k0Ac6ajBUQQAABBBBAAAEEEEAAAQQQQACByhH4+OOP7YEHHrDJkycnPOmJEyfaPffcY8myGBctWuTWa9iwYcL1ozOjAb9ffvkluojpWgiQAVgLPFZFAAEEEEAAAQQQQAABBBBAAIEyEPADgBT6VLTfP8qkSZNcs1r/vFQe1fxX2X8axbdDhw522WWX2W677WYtW7a02bNn29NPP23nn3++ayI8duxYGzNmjHXu3LnK4Tdq1Mg99yMKV1kY9yQ6inDjxo3jlvK0pgIEAGsqx3oIIIAAAggggAACCCCAAAIIIIBAjgTUp14x+vhLdfgKxh188MEu+LfGGmvYG2+8YXr0Rcd7/PHHm0b21Qi+M2fOtH79+tlbb73lq7jHVVZZxT2qSW+6snDhwrBKJk2Gw8pMpBRYHmpOWY2FCCCAAAIIIIAAAggggAACCCCAAAKVJPD888/b119/7U75pJNOqhL8izpssskmduihh7pZ//nPf+z999+PLg4DmwruKZMwVfEDhrRu3Zr+/1JBZbmMAGCWYFRHAAEEEEAAAQQQQAABBBBAAIEyE/CDgBTjsYQpp0yZEh7dVlttFU4nmujSpUs4W30GRsvGG28cPo1fFi4IJpYtW2ZTp051s+KbEUfrMZ29AAHA7M1YAwEEEEAAAQQQQAABBBBAAAEEECh7gfr1l/ccp+BcqrJ06dJwcXQ9zezRo0e4TP0EJivKHvRNgLfffvtk1ZhfAwECgDVAYxUEEEAAAQQQQAABBBBAAAEEEECg3AXWXXfd8BQ1GEiqEg3sRdfTOjvuuKM1a9bMrX733XdbLBZLuKmRI0eG8/v27RtOM1F7AQKAtTdkCwgggAACCCCAAAIIIIAAAgggUJcF/CjAxXgsYbdddtnFVl55ZXeEw4cPt8mTJyc82tGjR9sTTzzhlq211lq2xRZbVKnXsGFDO/nkk908NSseOnRoleV6MnHiRLvjjjvcfA0q0rVr12p1mFFzgeW5nDXfBmsigAACCCCAAAIIIIAAAggggAACCJSYwIQJE+zzzz8Pj+rbb78NpzU/mnGnBQMGDAiXa6J58+Z2zjnn2IUXXmjz58+37bbbzjQYyG677WYtWrSw2bNn21NPPWW33367/fbbb27dIUOG2AorVM83O/PMM+3hhx+2Tz/91M466yx3XAcddJA1btzYXnnlFbv88stdH4B6PmzYsCrHwZPaC9QL0i4T513WfttsAQEEEECgBAVmzpxp7du3d0c27Jk3rWWbtiV4lBwSAgggUFyBTVv/3kypuEfB3hFAAIHSEpg962vr3f33wRw0Umu7du1K6wCzPJro38UrbXOa1Vup8O/9scU/2uI3r3FHng9TBfTU5DbTkihEpHmnnXaaXXfddUmb7mr7DRo0cEG8M844I+nuFHTca6+97LPPPktYZ9VVV7X777/f+vTpk3A5M2suQAZgze1YEwEEEEAAAQQQQAABBBBAAAEEEChrgXrByMjXXnutHXrooTZixAhTVuH06dPt559/tqZNm1rHjh1NTXaPPfZY69SpU0oL1X333XftpptuskcffdRlAS5ZssQlKCgw+I9//MM6dOiQchssrJkAAcCaubEWAggggAACCCCAAAIIIIAAAgggUNICauIb38y3pgfcpUsX07/aliZNmrgmwGoGTCmcAAHAwlmzJwQQQAABBBBAAAEEEEAAAQQQKEWBIMvNVgj+FbpovxQECiBQvVfGAuyUXSCAAAIIIIAAAggggAACCCCAAAIIIIBAYQTIACyMM3tBAAEEEEAAAQQQQAABBBBAAIFSFagX5EfpX6FLMfZZ6HNkfyUhUIS7uyTOm4NAAAEEEEAAAQQQQAABBBBAAAEEEECgIgQIAFbEZeYkEUAAAQQQQAABBBBAAAEEEEAAAQQqVYAmwJV65TlvBBBAAAEEEEAAAQQQQAABBBD4XUCDcRRjQI5i7JNrXpECZABW5GXnpBFAAAEEEEAAAQQQQAABBBBAAAEEKkWADMBKudKcJwIIIIAAAggggAACCCCAAAIIJBZgEJDELswtGwEyAMvmUnIiCCCAAAIIIIAAAggggAACCCCAAAIIVBcgAFjdhDkIIIAAAggggAACCCCAAAIIIIAAAgiUjQBNgMvmUnIiCCCAAAIIIIAAAggggAACCCBQIwEGAakRGyvVHQEyAOvOteJIEUAAAQQQQAABBBBAAAEEEEAAAQQQyFqAAGDWZKyAAAIIIIAAAggggAACCCCAAAIIIIBA3RGgCXDduVYcKQIIIIAAAggggAACCCCAAAII5EPANQEuQo6U9ktBoAACRbi7C3BW7AIBBBBAAAEEEEAAAQQQQAABBBBAAAEEnAAZgNwICCCAAAIIIIAAAggggAACCCBQ2QIMAlLZ178Czp4MwAq4yJwiAggggAACCCCAAAIIIIAAAggggEDlChAArNxrz5kjgAACCCCAAAIIIIAAAggggAACCFSAAE2AK+Aic4oIIIAAAggggAACCCCAAAIIIJBCoF6QH6V/hS7F2Gehz5H9lYRAEe7ukjhvDgIBBBBAAAEEEEAAAQQQQAABBBBAAIGKECADsCIuMyeJAAIIIIAAAggggAACCCCAAAJJBRgEJCkNC8pDgAzA8riOnAUCCCCAAAIIIIAAAggggAACCCCAAAIJBQgAJmRhJgIIIIAAAggggAACCCCAAAIIIIAAAuUhQBPg8riOnAUCCCCAAAIIIIAAAggggAACCNRYIMiPKsqAHORl1fiSsWJWAtxpWXFRGQEEEEAAAQQQQAABBBBAAAEEEEAAgbolQAZg3bpeHC0CCCCAAAIIIIAAAggggAACCORagEFAci3K9kpMgAzAErsgHA4CCCCAAAIIIIAAAggggAACCCCAAAK5FCAAmEtNtoUAAggggAACCCCAAAIIIIAAAggggECJCdAEuMQuCIeDAAIIIIAAAggggAACCCCAAAIFFnBNgIuQI6X9UhAogEAR7u4CnBW7QAABBBBAAAEEEEAAAQQQQAABBBBAAAEnQACQGwEBBBBAAAEEEEAAAQQQQAABBBBAAIEyFqAJcBlfXE4NAQQQQAABBBBAAAEEEEAAAQQyEKgX5EfpX6FLMfZZ6HNkfyUhUIS7uyTOm4NAAAEEEEAAAQQQQAABBBBAAAEEEECgIgTIAKyIy8xJIoAAAggggAACCCCAAAIIIIBAUgE3CEgRBuRgEJCkl4QFuRUgAzC3nmwNAQQQQAABBBBAAAEEEEAAAQQQQACBkhIgAFhSl4ODQQABBBBAAAEEEEAAAQQQQAABBBBAILcCNAHOrSdbQwABBBBAAAEEEEAAAQQQQACBuibAICB17YpxvFkKkAGYJRjVEUAAAQQQQAABBBBAAAEEEEAAAQQQqEsCZADWpavFsSKAAAIIIIAAAggggAACCCCAQO4FGAQk96ZssaQEyAAsqcvBwSCAAAIIIIAAAggggAACCCCAAAIIIJBbAQKAufVkawgggAACCCCAAAIIIIAAAggggAACCJSUAE2AS+pycDAIIIAAAggggAACCCCAAAIIIFBwAdcEuAg5UtovBYECCBTh7i7AWbELBBBAAAEEEEAAAQQQQAABBBBAAAEEEHACZAByIyCAAAIIIIAAAggggAACCCCAQGULMAhIZV//Cjh7MgAr4CJziggggAACCCCAAAIIIIAAAggggAAClStAALByrz1njgACCCCAAAIIIIAAAggggAACCCBQAQI0Aa6Ai8wpIoAAAggggAACCCCAAAIIIIBAcoF6FvxXlAE5GAQk+VVhSS4FyADMpSbbQgABBBBAAAEEEEAAAQQQQAABBBBAoMQEyAAssQvC4SCAAAIIIIAAAggggAACCCCAQIEFguy/YmQAxoqSdVhgW3ZXEgJkAJbEZeAgEEAAAQQQQAABBBBAAAEEEEAAAQQQyI8AAcD8uLJVBBBAAAEEEEAAAQQQQAABBBBAAAEESkKAJsAlcRk4CAQQQAABBBBAAAEEEEAAAQQQKJqAxuIoxngcxdhn0ZDZcTEFyAAspj77RgABBBBAAAEEEEAAAQQQQAABBBBAIM8CBADzDMzmEUAAAQQQQAABBBBAAAEEEEAAAQQQKKYATYCLqc++EUAAAQQQQAABBBBAAAEEEECg6AIaAbgYowAXY59Fx+YAiiJABmBR2NkpAggggAACCCCAAAIIIIAAAggggAAChREgAFgYZ/aCAAIIIIAAAggggAACCCCAAAIlKuAzAIvxmE+SOXPm2DPPPGMXXnih9e7d21q1auUyHXWeAwYMqNGuJ02aZMcff7x17tzZVl11VWvatKmtv/76tvfee9s111xjc+fOTbndZcuW2a233mo9e/a01q1bW+PGja1jx442cOBA++ijj1Kuy8KaC9AEuOZ2rIkAAggggAACCCCAAAIIIMaeOpkAAEAASURBVIAAAgiUrECbNm1ydmyLFy+2E0880e644w6LxWJVtvvFF1+Y/j333HO23nrr2V/+8pcqy/2T7777zgUK33zzTT/LPU6dOtX0b+TIkXbzzTfbEUccUWU5T2ovQACw9oZsAQEEEEAAAQQQQAABBBBAAAEEEChpgfbt27usvTFjxmR9nEuWLLG+ffva6NGj3bo77LCD9evXz22vfv36Nn36dHv//fft0UcfTbrtX3/91fbbbz/zwT9NH3300dayZUs377LLLjNlLB5zzDG21lpr2R577JF0WyzIXoAAYPZmrIEAAggggAACCCCAAAIIIIAAAmUk4Jv+FvqUtN98FjX97dq1q/unbMBp06bZuuuum/UuFZzzwb+hQ4fa6aefXmUb22yzjR144IE2ePBgW7p0aZVl/sm9995r48aNc0/VhPimm27yi6xbt26uiXKXLl3sp59+spNOOsk1B1ZwkZIbAfoAzI0jW0EAAQQQQAABBBBAAAEEEEAAAQRKSuDiiy+2Pn36WG2aAqtp75AhQ9x5qd/A+OBf/Ak3aNAgfpZ7ftVVV7nHFi1amJ+OVlQ/gIMGDXKzPvvsM3vqqaeii5mupQABwFoCsjoCCCCAAAIIIIAAAggggAACCNRtAZ8BWIzHUpe77bbbXFafbJRRWJOigJ4f4ONvf/ubrbzyygk3Ex2YZNSoUQnrMLNmAgQAa+bGWggggAACCCCAAAIIIIAAAggggEDZC/h+/bbeeuuw+fBvv/1mM2fOtC+//NJ++eWXtAbjx48P6/Tq1Sucjp9YY401rFOnTm72hAkT4hfzvBYCBABrgceqCCCAAAIIIIAAAggggAACCCCAQLkKzJ07143uq/Pr3r2765/vlFNOsVatWpkGFdGIv6uuuqopqPfss88mZZgyZUq4bKONNgqnE0345TNmzLCFCxcmqsK8GgjQm2IN0FgFAQQQQAABBBBAAAEEEEAAAQTKSEBjceR3PI7EWJF9zpo1K3GdyNx27dpFnuV/0jfb1Z4aN25sW221lU2dOrXKjpctW+YG99AAH6eeeqpdc801VZbriYJ5vqQ7BwUWVWKxmMsy3HDDDf2qPNZCgABgLfBYFQEEEEAAAQQQQAABBBBAAAEEEMiFgEbCTVcUFCtk+f7778PdDRs2zBYvXmzbbbedXXHFFW5k4UWLFrnRgc844wxTAPPaa691TXgHDhwYrqeJ+fPnh8+bNm0aTieaaNKkSTh7wYIF4TQTtROgCXDt/FgbAQQQQAABBBBAAAEEEEAAAQTquEAxBv/w+yxlumgTXAX/unTpYi+99JL17NnTZQRqRN9DDjnExo4daz5wp4FC4vsFVKDQl4YNG/rJhI8rrbRSOD9+O+ECJrIWIAMwazJWQAABBBBAAAEEEEAAAQQQQAABBHIrMGnSJGvbtm1uN1rLrTVq1KjKFgYPHmzx81Rhgw02sOOOO86GDh1q6jfwxRdftH322SdcN7rOkiVLEm7DV1ag0Rc1O6bkRoAMwNw4shUEEEAAAQQQQAABBBBAAAEEEECgxgIK/ql/vFT/arzxGq64yiqrhGsqc2+nnXYKn8dP7LHHHuGst956K5zWRHQ76Zr1RrMO0zUXrrITnqQUIAMwJQ8LEUAAAQQQQAABBBBAAAEEEECg3AXqBYNxqEluoUsRdpnVKfoBObRSmzZtLFXz3WjdOXPmVNlPdOCPmTNnulGEq1SIPPEDhuh6RNeLVGGyBgJkANYAjVUQQAABBBBAAAEEEEAAAQQQQACBchdQ094GDRq40/z1119Tnm50ef36VfPNNt5443Ddjz/+OJxONOGXK6Do+xVMVI952QkQAMzOi9oIIIAAAggggAACCCCAAAIIIIBARQgo+Ne9e3d3rrNnz7Zo89x4gKlTp4az1lprrXBaEz169Aifa8CQZOWbb76xTz/91C3efvvtk1Vjfg0ECADWAI1VEEAAAQQQQAABBBBAAAEEEECgfATqWfBf0OS04P+C/ZZ62X///d0hKsPvqaeeSnq4o0aNCpftsMMO4bQmOnXqZJ07d3bzHnnkEfv555+rLPdPRo4c6Setb9++4TQTtRcgAFh7Q7aAAAIIIIAAAggggAACCCCAAAIIlKXAEUccYauvvro7t3PPPdeUCRhfXn31Vbv33nvd7E033dQSZe+dccYZbvn3339vZ511VvwmTBmEV1xxhZu//vrrEwCsJlS7GVUbZdduW6yNAAIIIIAAAggggAACCCCAAAII1DkBn/lX6APXfvNZJkyYYJ9//nm4i2+//Tac1vxoxp0WDBgwIFzuJzQS7/XXX28HH3ywTZ8+3bp27WrnnHOOdevWzRYtWmSjR4+2a6+91pQhqL7/brnlloQDqvTv39/uvPNOe+211+ymm24yNfc9+uijrUWLFjZp0iS79NJL7aeffrIVVljBbrjhBrctfww81l6AAGDtDdkCAggggAACCCCAAAIIIIAAAgggUHICI0aMsLvvvjvhcSkQp3/RkigAqOV/+9vfTMHD0047zTRK7wknnBBdzU0rUHjfffclzP5ThRVXXNGefPJJ22uvveytt96yxx9/3P2LbkijDN94443Wu3fv6GymcyBAE+AcILIJBBBAAAEEEEAAAQQQQAABBBBAoJwFFPR755137LjjjrOOHTta48aNTUG/zTff3DXp1eAd++67b0qCVq1a2euvv24333yzGxhktdVWs0aNGtl6663nsgG1fWUFUnIvQAZg7k3ZIgIIIIAAAggggAACCCCAAAII1CUBtcTNb2vcxBp53qea+MY38018IJnN3WSTTVzwLrPaiWupmbCCiPpHKZwAGYCFs2ZPCCCAAAIIIIAAAggggAACCCCAAAIIFFyADMCCk7NDBBBAAAEEEEAAAQQQQAABBBAoKYFgMI58D8iR8HzzPAhIwn0ysyIFyACsyMvOSSOAAAIIIIAAAggggAACCCCAAAIIVIoAAcBKudKcJwIIIIAAAggggAACCCCAAAIIIIBARQrQBLgiLzsnjQACCCCAAAIIIIAAAggggAACXkDNf4vRBLgY+/TnzGNlCZABWFnXm7NFAAEEEEAAAQQQQAABBBBAAAEEEKgwATIAK+yCc7oIIIAAAggggAACCCCAAAIIIFBVgAzAqh48Kz8BMgDL75pyRggggAACCCCAAAIIIIAAAggggAACCIQCBABDCiYQQAABBBBAAAEEEEAAAQQQQAABBBAoPwGaAJffNeWMEEAAAQQQQAABBBBAAAEEEEAgG4F6QWX9K3Qpxj4LfY7sryQEyAAsicvAQSCAAAIIIIAAAggggAACCCCAAAIIIJAfAQKA+XFlqwgggAACCCCAAAIIIIAAAggggAACCJSEAE2AS+IycBAIIIAAAggggAACCCCAAAIIIFAsAUYBLpY8+y2UABmAhZJmPwgggAACCCCAAAIIIIAAAggggAACCBRBgAzAIqCzSwQQQAABBBBAAAEEEEAAAQQQKB0BMgBL51pwJPkRIAMwP65sFQEEEEAAAQQQQAABBBBAAAEEEEAAgZIQIABYEpeBg0AAAQQQQAABBBBAAAEEEEAAAQQQQCA/AjQBzo8rW0UAAQQQQAABBBBAAAEEEEAAgToiUM+C/+rVK/jRar8UBAohQAZgIZTZBwIIIIAAAggggAACCCCAAAIIIIAAAkUSIAOwSPDsFgEEEEAAAQQQQAABBBBAAAEESkOAQUBK4zpwFPkTIAMwf7ZsGQEEEEAAAQQQQAABBBBAAAEEEEAAgaILEAAs+iXgABBAAAEEEEAAAQQQQAABBBBAAAEEEMifAE2A82fLlhFAAAEEEEAAAQQQQAABBBBAoC4IaCyOYozHUYx91oXrwTHmXIAMwJyTskEEEEAAAQQQQAABBBBAAAEEEEAAAQRKR4AMwNK5FhwJAggggAACCCCAAAIIIIAAAggUQaBekImngUAKXYqwy0KfIvsrEQEyAEvkQnAYCCCAAAIIIIAAAggggAACCCCAAAII5EOAAGA+VNkmAggggAACCCCAAAIIIIAAAggggAACJSJAE+ASuRAcBgIIIIAAAggggAACCCCAAAIIFEdAzX+L0wS48M2OiyPMXostQAZgsa8A+0cAAQQQQAABBBBAAAEEEEAAAQQQQCCPAgQA84jLphFAAAEEEEAAAQQQQAABBBBAAAEEECi2AE2Ai30F2D8CCCCAAAIIIIAAAggggAACCBRXoEhNgIN2x8U9b/ZeMQJkAFbMpeZEEUAAAQQQQAABBBBAAAEEEEAAAQQqUYAMwEq86pwzAggggAACCCCAAAIIIIAAAggsF1AiXjGS8Yqxz+VnzVQFCZABWEEXm1NFAAEEEEAAAQQQQAABBBBAAAEEEKg8ATIAK++ac8YIIIAAAgjkXWDZ0iX22nOjbNKLz9pXn31kC3/60VasX99atF7DNvjT1rZT30Os42ZbpT2OD15/1V554gH74qP3bP4P39sqLVraehtv4dbffLsd065PBQQQQKCUBLZap1lGh9Nlmx52+8PPZlRXlX755Wc7cPdt7esZ0906bdda2559bXLG61MRAQQQQKD8BQgAlv815gwRQAABBBAoqMB33/zPrjl1gM34/OMq+1VQ8JuvvnD/xv/rEdvjkKPskFMuCPq+rt72JRaL2cgrBrngX3QjP8z5xt6e87y9/erzLgg4YNAVCdePrsM0AgggUO4Ct1wzOAz+lfu5cn4I5EtAf48k+pskX/vz2y3GPv2+eawsAQKAlXW9Ods6LjBgwAC7++67rUOHDjZt2rSins3IkSPt8MMPd8fw5Zdf2jrrrFO047nooovs4osvdvtX0CC+7LjjjjZ27Fjr1auXvfrqq/GLeY4AAjkU+HXZsirBv/YbdLY9g0Bf2w7r26KfF9in771lo++/3RYH2SovPDDCmrda3fY+bGC1I3hs+FVh8K/Dhpva3v0G2uprdbA5X0+3Z++5xaZ/8qFbvkqL1eyvx51ZbX1mIIAAAqUscMChR9oBhx2V9BAbr7xy0mXxCz7+8H174M7httJKjax+gwa2cMH8+Co8RwABBBBAwAgAchMggAACCCCAQM4E3hk3Jsz867hZFzv/9sdshRVXDLe/6TY9bcueu9klR/S1X5cttWdG3mR7HnyUax7sK82eMc2eC4J8Kut23tzOu+0xa9iokXu+3iZ/cutffswB9uWUD+zZu4fbDvscYG3areOW8z8EEECgLgi0WK21ddxw41of6q+//mqXDjrZ9HjMP86xJx++lwBgrVXZQKUKkAFYqVe+cs6bQUAq51pzpgikFVBWof/gU4YfBQEEEMhW4NP3/xOuss+A46sE//wCBfW26LGLe6q+AWdNm+oXucfng8zAX39d5qYPO/OSMPjnK63UqLFpvorqvfDgnX4RjwgggEBFCTx413CbMvk9W2e9DWzAwFMq6tw5WQQQQACB7AQIAGbnRW0EEKiDAmr2q6bBNP+tgxePQ65zAr8uXRoec+ugE/pkZfV2HcJFS5cuDqf1WlUWoUrbdTomHShEA4ioWbHKO6++4F7j7gn/QwABBCpE4H8zv7Lh11zuznbQZddYg4YNK+TMOU0EEEAAgZoIEACsiRrrIIAAAggggEBCgTXWXjecP/frr8Lp+Ik5M6e7Wco6XqN91XU00IfKRltt4x6T/c8v/37OLPv2fzOSVWM+AgggUJYCQy443X75eaHtvd9B1nW7nmV5jpwUAoUUCIYACVtD+VZRBXkM9ktBoBACBAALocw+EEAAAQQQqBCBbffY1xo3WcWd7TP3DLffgn6p4su0YACP91972c3eZvc/W+Omv9fXjP9N+zys7jP8whlxE8oQ9CW6np/HIwIIIFCqAi8+96T13bmLdd+wjfXYZC3bd8ct7cLTBtpbr4/L6JBfePoxm/DKGFu1WXM79dzLMlqHSggggAAClS1AALCyrz9nHxGYNGmSHX300dapUydr2rSpNWnSxDbaaCM74YQT7LPPPovUXD6pfvL8r0LqP++3336z2267zbbbbjtr0aKF28bmm29ugwcPtp9//nn5ikmmPvroI+vfv7+1b9/eGgUd3uvxkEMOsbfeeivJGolnT5gwwQ477DA3Mq+207x5c9tyyy3t/PPPt7lz5yZcSeex7rrLs3A0wq8/N/+o0XaTldqeu5r9PfbYY7b//vuH5y/Dbt262aWXXmrz5s1Ltuu08zUKsM5Bj/FFzYL9+aVrIuzrJXLQPL9c+/jpp59M8zbbbDN3P7Vp08b22msve/3116scwpw5c9x12WSTTdz9stpqq9m+++5r7777bpV6PEGgrgisGozKe/Q/r7aGwWiUnwX9Af6z/z424dnH7PPJ79iHb463J26/1i4/9kBbtnSJrd1pEzvklAuqnNr3s/8XPm/Zpm04nWgiuvy7yHqJ6jIPAQQQKCWBLz772KZ/8bktXrzIfl64wGZM+8KeGfWgHXvIPnb6MX+3+UH/qMnKTz/+YEMvGeQWn3T2RdayVetkVZmPAAJZCPi/5YvxmMVhUhWBGgvUr/GarIhAmQgsW7bMTj75ZBs+fHi1M/rkk09M/26//Xa76aabXICwWqU/ZixcuNB22203e/nl37NafL3Jkyeb/j399NNumQKLicpDDz3kgn9LliwJF8+cOdMefPBBe/TRR+3WW28N5yebUBBO56JjjZbFixfbe++95/7deOONbns61lyV2p67gpJ9+/a11157rcoh6bgV/NQ/ndNTTz1l22yTuklglQ0U6cmMGTNs1113tU8//TQ8AhmNHj3axowZ467pAQccYB988IELCn799ddhPQWKda+88MIL9txzz9nOO+8cLmMCgboisPVOe9rF9zxjGsxj3NMP220XnVbl0Ju1bG37HXOa7dT3EFup8cpVlqk5my+NGid+v/TLV2q0fN3FGfzI4tfjEQEEECiWQKPgPa/Xrr2t2/a9bJ31O9nKKzexH77/1t5+8zV7/P47bd4P39srY56xn46eZzff96Q1aNCg2qEOu/wC++7bObb5Vt1sv4MHVFvODAQQQAABBBIJkAGYSIV5FSVw5JFHhsG/3r1723333WfKBlTQSYE/ZWYtDTq1P+aYY+xf//pXUhstVwaZMvieffZZe/vtt+2JJ56w7t27u3W0zcsuuyzh+m+++abL2FPwb6WVVrJzzjnHxo0bZ5p//fXXW6tWrWzgwIEugJdwA3/M1Ho++KdsvltuucWdyyuvvGKnnnqq+yPyxx9/tD59+tj7779fZVMKUiro5IuO1Qcv/ePxxx/vF1d5rM25KzDWq1cvF/xr2LChHXvssS7Q984779j48eNd9qSy4mbPnm26PtOn/95vWJUDKLEnCu4peDto0CAbO3asu5euvfZaW3XVVYMRS3813XNffvmluw6//PKLO0dlbep6X3zxxSYHBT+VhRkNCJfYaXI4CCQVWLZsqU184Sl7d/yLCQfn+PH7ufZGsHzK2xOrbWNpcO/7Uj/BF1+/TI/RDu+XBFk0FAQQQKDUBV54Y4pdccOd1veg/rZl1+624Sab27Y77GwnnHGBPTrmTdsoeK7y9psT7LH77qh2OgoUPvXIfVa/fn07d/C1rvVBtUrMQAABBBBAIIEAGYAJUJhVOQKPP/643XPPPe6EFew76qijqpz81ltvbYceeqjtvffeLntP2XUKQumPrviipp333nuvq++XbbXVVq6+tvPhhx+6gKKas8avr2bGykTUr7zKEOvZc3lHzmoCu99++9m2225bLWjn96NHBemuvvpqN2vTTTd1wTM1/fVFzV933313dy4KKilop4CTL1pHTZ99WWuttUzzMim1OXcFLadMmWLNmjWzF1980WQVLT169LC///3vLpA6a9Ys11xWzqVclG2pwF80W1Hnpeblupfmz5/vlqnZswLD66//+0imOiddbwV8dU989dVXLpis7MhsioKPqYocKQjkS2DxLz/b0H/0t0/efdNWWHFF27vfQNthnwNt9WBEYAX3pv73XXtyxHX26Xtv2bWnHWGHnHqh7XHwkeHhNAh+BPFlWWREYT8v+rg0kjGtJscUBBBAoNQFVgn67EtWVmu9ul05/B7bf9dupve3h+6+1Q4+fGBYfUnwHjp40D/cDyua36lzZn+nhRtgAgEEUgtoLI5ijMdRjH2mlmBpmQqQAVimF5bTykzgiiuucBUVYIkP/vktqA89NZtVUT9/yvJLVBSkU7Awviij78QTT3Szv/vuO1M/f9GiAJCyBVWU/RYN/vl6Csb54J6fF/+oJsxqAqyiYGY0+Ofr7rnnnnbEEUe4pz7L0S+rzWNNz/3bb7+1ESNGuF1fcskl1YJ//pg6dOhgF1zwez9hDz/8cEb9Kfp1i/F4yimnVAn++WNQH4A6FxU1e1aWZTT45+sp80/3nYqyILMt6jsy1T8FGSkI5Etg1K3XuOCftn/k+Vfa304619YMBuuo36ChG+xj02162qDhD1vnrbdzX2IfGHapffXZlPBwGgfN4XxZ9Mvy5sB+XvRx8aLlfauutPLy5sDROkwjgAACdUmgXTCS+jY9dnKHrH4B585e/qPdHTcNtWlffGZrrNnOjj1lUF06LY4VAQQQQKAEBAgAlsBF4BCKI6B+13zg7cADD0x5EJ07d3ZZWao0ceLEhHWVpZasdOnSJVz0xRdfhNOaUNabLwr8JCsKUiYK6vn6fjsbb7yxyxb08+MfNdCJL34d/7ymjzU9dzU5XrTo92Z76a6BD4yqOba/bjU93nyvd9BBByXdhQaFUVHnwsnOuXHjxrbBBhu4evH3i5vJ/xAoUQFltY575hF3dGusvZ7t0OeAhEe6YpBFvf/A092yWPDDxfh//b6OZrRYvW24zveRL77hzMhEdPlqbdaMLGESAQQQqLsC622wYXjwc75ZPjDSyFuGufndtt/Rxr/0vGkk4Ph/v/zxw4ke/bJJr48Nt8cEAggggEDlClRvx1i5Fpx5hQn85z//Cc/44IMPNv3LpHzzzTcJq2nE4GSlZcuW4SI1/4wWNd1VUb9vPjgUXe6n1TxYI/mqP7/4ov7i/EjF0Wan8fX0XNvQthRIU7PkXJSannv0GrRtu/xLf7pjSnYN0q1XqOVq6pus+CCumvlqlONkxdeLv1+S1Y/O1yAkqYqaAJMFmEqIZTUV+PG7ubbwx99H7O6w4SYpN7PORpuFy2dNmxpOr7Xu78FvzZg1ffn8sEJkYta0z8NnyjKkIIAAAuUgoB9TEhXf7cHTj95n+peqzPv+Oxt08u/dK3TZpod1265XquosQwCBQMCP/ltoDO2XgkAhBAgAFkKZfZSkwJw5c2p0XBqlNVFZOUXzsxVWWJ5sq0EgouWHH35wTxUkjO8bMFpP023atImf5Z77baSq41dU8E+DaiiI9v333/vZtXqs6bnn+hrU6iRyuHImHqnq6FD8PRN/v2RymO3atcukGnUQyLmAMvt8+e3XZX4y4eOvQb+nvqivQF9aB30Ftmjdxn6YO9s+fmd5P6V+efTx43cnuactVl/DWq3ZPrqIaQQQQKDOCnz52Sfhsbduk/kPpOFKTCCAAAIIIJBAYPlf6gkWMguBchaIBlbuv//+lNl3UYdUWVvReplO+195M/nlx9dNte1cbSfVPnK1zF8DZT9m06yXAFeurgDbQSC3Ak1WbW6Nm6xivyycb59PfscU5IsGBaN7+/idN8KnrddaHrzTe9iWPXe3lx+/15Thp+103GyrsK6f0HyfAbhVUD+T9z6/Lo8IIIBAqQrM/OpLe2PC76092q29jq2+xvLuDd6Z9mPaw957+81s1tdfWdvgx5RnX/u9lUnalaiAAAJOQH9LFOPviWLsk0temQIEACvzunPWgYCy4HzRm26mI976dXL16JsHa4AQBcRWjGTCxO8jWcZcNCiZrnmsRhv2mX9+3/H7KdRzfw00KrGms2kGnKtj9Jl22p4fRCXRthcuTD0YQaJ1mIdApQno9fSnHjvbGy885TL4nr7rBut79KnVGBb+NM8eueGKcP4WPXYNpzWhUYHHPvlg8J64zO696kI777bHrOEfA+No+ZKg71DNV1lxxfpVRhF2M/kfAgggUIICY18cbdvvuFvSFh/fzZ1jZx3Xz/wI6Af2W95vcwmeDoeEAAIIIFDHBAgA1rELxuHmTkB94fkyZsyYjPsA9Ovk6nGzzTazhx56yBQEe//9922rrapnumhfCty99957CXerkYY1aIT6AXzzzdRN5t59913X/582FB/0LPSvT/HXoH///gnPL58zV1lllXDz0abU4cw/Jj75ZHlznPhlPEcAgeUCfznqH/bO2DFBkO4Xe+K2a23alMnWo89fTU17lwb9lU798F174cE77LtvvnYrbdx1e9ts257LNxBMte2wnvU+9Bh75u6b7cspH9ilR+1ne/cbaKu362BzZk63Z++5xaZ/8nsfpnsddqytEYyaSUEAAQRKXeDKf54V/D231Hbp/WfbfMtu1rbd2tYo+HFj3g/f2X/emGCP339nMP179yxbdO1uBx5GALDUrynHhwACCNQlAQKAdelqcaw5FejYsaNpxNyPPvrIBeAuvvhiW3vttXO6j0w2tuuuu9p5553nqt59991JA4BPPPGEpQpQaTsKAOp83njjjaQjAY8YMSI8LK0TLfoj1BcNLJLv0rt373BAkmuvvdY0mnC6fhBzfUzrrrs8cKBBSfbff/+Eu3jggQcSzmcmAghUFdBgHKcMHWHDzz/J5s/73t4d/6L7V7XW78823no7O2nI8ESL7K/Hn2U/BV+Kxz39sAv23XzeidXq9dr3INv/uDOrzWcGAgggUKoCc4PRzR8aeav7l+wYFSC8cMgN1jD4gZeCAAKFE9BYHPpX6FKMfRb6HNlfaQgsH5mgNI6Ho0CgoALnn3++29+ioDnZfvvtZ3Pnzk26fwXEbr75ZlPdXBaNxuqz/oYPH24TJkyotnmN2nrGGWdUmx+dcdxxx4UDRxxzzDH244/V+4lRpuMdd9zhVtN+u3btGt2Ea4ar/vhUpk6dWmVZPp6stdZadvjhh7tNK/vx2GOPdZmOyfalJtDRAGayetnM12i7fvTlu+66K2weHd3GuHHj7Prrr4/OYhoBBFIIbLrNDjbk0VfsbycNss5dutsqLVYL+gJsEHyZbWStg8E6uu3ax/4RBAnPvvlBU7+BiYqaEx91wVV2+rCRtlWv3d3AIPUbNHSPen76sLvtyPOvDN/3Em2DeQgggEApCVxy9XAbeOq5tl2vXa3Deh2tWfMW7ofPVVZtZh032sT2P+Rwu+vxf9tVw++1VZolfm8spfPhWBBAAAEE6pYAGYB163pxtDkWOPjgg+2FF14wZd5pEAplBCoI1atXL2vdurWp3zcFwsaPH2+jRo1ywaF+/frl+CjMBRZ79Ojhmubutttuduqpp9pee+1latqrJr2XX365ffvtt/anP/3JNRNOdABqSnz66afbVVddZZMnT3ZBxbPPPtvUzFYjF//rX/9yQSz1M6gg36233lptM8q+U1DwtddeszvvvNOtu8UWW7gsPVVWn4G57jfw6quvttdff90+/PBDt09lLyqA2aVLF2vatKnNmzfP/vvf/9qLL75ozz33nOk8jzrqqGrHXpsZxx9/vA0cONBmz55tO+ywg11wwQW24YYbuuv9zDPPmAKzW2+9tU2cOLE2u2FdBCpKYJXgi+3e/Y5z/2pz4n/afmfTPwoCCCBQ1wW6bNvD9C+fhYE/8qnLtstd4PcMwMKnAJIBWO53VumcHwHA0rkWHEmRBJQR16ZNG1MgSkG2wYMHu3+JDqdJkyYpB+lItE4m87bZZhu75557bMCAAS7D8IorrjD980WBOZ8dqEy5ZGXIkCEuaKlMxS+++MIFM+PrNmvWzB555BFTYC9RGTRokO2zzz6mQUkOOeSQKlX++c9/2kUXXVRlXm2fKMg3duxY1/z3+eefd02YTznllKSbXXXVVZMuq+mCo48+2rTvJ5980u1fgeFoUV+Jjz/+uK255vKR+KLLmUYAAQQQQAABBBBAAAEEEECglAVoAlzKV4djK4iARt39v//7Pxf4UQadMuY0qq7ma4CITTbZxAWnlCWopriNGzfOy3Ep6KQBOg477DAXaFKWnprIHnjgga5ZcCZZb2oyd9NNN5marKo/PfVpqCxCBc0U8Dv33HNdP4G777570nPYe++97aWXXrJ9993XHUeDBg2S1s3VAmUVjh492u1XTYI1oIkCgwp8apmyEk844QSXAfjvf/87V7sNtyO3xx57zNlpXwr06p+aBisgrCzMYoxQHB4gEwgggAACCCCAAAIIIIBADQTUjZJaNV144YWmPthbtWoV9HVYz/1TAkptilqarbfeeuH21llnnYw2p/XUck3dUun7nr77de7c2XV79dVXX2W0DSplL1AvFpTsV2MNBBBAAIG6KjBz5kxr3769O/xhz7xpLdu0raunwnEjgAACeRPYtHWzvG2bDSOAAAJ1VWD2rK+td/eN3eHPmDHD2rVrV1dPxR139O/idQbeYw1WaV3w81k6f65Nu+X3bqbyYapgX7LSv39/GzlyZLLFaeern3q1pPOlQ4cONm3aNP804aO62FLSySeffJJwuVqsaQBGdYlFya0AGYC59WRrCCCAAAIIIIAAAggggAACCCCAQMkJKAkgVWuwbA5YrdeGDRtmjRo1ci3nMll3wYIF1qdPnzD4p66Y1PpMfcKr5ZUyATWY5QEHHGAffPBBJpukThYC9AGYBRZVEUAAAQQQQAABBBBAAAEEEECg/AR8s9hCn1mqDL1cHIua/qqbI/1T3/fK0Ft33XVrtWkNLKngnR7VT7z61Z8/f37abQ4dOtQ+/vhjV+/KK6+0M888M1yne/futtNOO1nPnj3dIJbqF/7ll18OlzNRewEyAGtvyBYQQAABBBBAAAEEEEAAAQQQQACBkhO4+OKLXdadgn+5Ktddd529/fbbtuGGG9rZZ5+d0WaXLl1qWk9F/f2p//34oiDgkUce6Wa/8sorbh/xdXhecwECgDW3Y00EEEAAAQQQQAABBBBAAAEEEECgYgSmT5/uBhTRCQ8fPtw0eGUm5dVXX7V58+a5qup7UAMxJirRgUlGjRqVqArzaihAE+AawrEaAggggAACCCCAAAIIIIAAAgiUh4CGykgxXkbeTjL5EB1522WtNnz88cfbwoUL7bDDDnNNdjPd2Pjx48OqvXr1CqfjJ7beemtr0qSJ28eECRPiF/O8FgKJQ6612CCrIoAAAggggAACCCCAAAIIIIAAAgiUl8BDDz1kzz33nLVo0cLUn182ZcqUKWH1jTbaKJyOn6hfv76tv/76bnZ0nfh6PM9egAzA7M1YAwEEEEAAAQQQQAABBBBAAAEEykhghRXqBc1SC5+PF93nrFmz0oq2a9cubZ18VPjhhx9MA3OoDBkyxFZfffWsdjNjxgxXX9l9zZs3T7muRivWKMBz5861xYsX20orrZSyPgszEyAAmJkTtRBAAAEEEEAAAQQQQAABBBBAAIG8CXTr1i3ttmOxWNo6+aigEXtnz55tGqhDIwBnW/wowU2bNk27qoKEvixYsIAAoMeo5SNNgGsJyOoIIIAAAggggAACCCCAAAIIIIBAuQqMGzfO7rzzTlPz3FtuuSXoKzH7TMlFixY5nkwGDYlm/P3yyy/lylrw8yIDsODk7BABBBBAAAEEEEAAAQQQQAABBEpJQDGtGsS1an0K0X1OmjTJ2rZt+//s3Qe839P9OP5XpmyCUHuPROtLI0ajYo9IaRRFKTWLxqb/9tsabfGNmWqpahA/u2qVUFvsEVtjJY09UgQRM5H/Pe/4fHzuzc2dn3XvfR6Pt8/7836f9znn/TyRyOue0eoyi1lAmoK7//77Rxp5eOihh8aaa67ZouJ79OiRPffFF180+nyqM5d69uyZO/XZSgEBwFYCepwAAQIECBAgQIAAAQIECBAg0FqBFPyr1Bp/82v7iSeeGC+88EKkdfmOP/74+WVr9Hrfvn2zPGlKb2Mp7TKcS02ZMpzL67NhAQHAhn3cJUCAAAECBAgQIECAAAECBAh0SIHRo0dn77355pvHjTfeWK9BLmCXPtNOwSmlTUI23XTTfP4U2Hz44Ycj5fnggw8a3Agkt2HIgAEDrP+XF2z9iQBg6w2VQIAAAQIECBAgQIAAAQIECLRhgbSuXUvWtmvtK1eizua0OTdl98ILL4x0NJTefffd2HXXXbMsw4YNqxUAHDRoUFx99dXZveeffz7WX3/9eouaNWtWTJkyJbs3cODAevO42DIBm4C0zM1TBAgQIECAAAECBAgQIECAAAECTRDYcMMN87kmTJiQP697MnHixGyUYLo+dOjQurd9b4WAAGAr8DxKgAABAgQIECBAgAABAgQItH2B3CYglfisZr20+Udjx3LLLZe9QvrM5b377rtrvdbGG28cCy64YHbtoosuyvLVyvD1l3HjxuUvjxw5Mn/upPUCAoCtN1QCAQIECBAgQIAAAQIECBAgQIDAfAS6d+8ehxxySHb3ueeei9NOO22enA8++GCcf/752fU0hXjIkCHz5HGh5QLWAGy5nScJECBAgAABAgQIECBAgAABAlUrcN9998XkyZPz7Uvr9OVSul444i5d32uvvXK3i/559NFHx5VXXhkvvvhiHHPMMVm7dtlll+jZs2fcddddcdJJJ0VaAzB9HzNmTNHr7+gFCgB29F8B3p8AAQIECBAgQIAAAQIECHRwgfa6CcjYsWMjTbmtL91///2RjsJUygBg3759Y/z48TF8+PB46aWX4rzzzsuOwvr79esXl156aay11lqFl50XQcAU4CIgKoIAAQIECBAgQIAAAQIECBAgQKBhgZVXXjmeeOKJGD16dKyzzjqx0EILRa9evWK11VaLww8/PJ5++ukYMWJEw4W42yIBIwBbxOYhAgQIECBAgAABAgQIECBAoN0I1Oz+kUYBlj2VuM40xbfuNN9iv+PLL7/crCJ79+6dTQFO04Cl8gkYAVg+azURIECAAAECBAgQIECAAAECBAgQKLuAAGDZyVVIgAABAgQIECBAgAABAgQIECBAoHwCpgCXz1pNBAgQIECAAAECBAgQIECAQBUKpJm4JZ6NW+9bV6LOehviYrsXMAKw3XexFyRAgAABAgQIECBAgAABAgQIEOjIAkYAduTe9+4ECBAgQIAAAQIECBAgQIBA1GwBUpFNQFK9EoFyCBgBWA5ldRAgQIAAAQIECBAgQIAAAQIECBCokIAAYIXgVUuAAAECBAgQIECAAAECBAgQIECgHAKmAJdDWR0ECBAgQIAAAQIECBAgQIBA1QrYBKRqu0bDiiRgBGCRIBVDgAABAgQIECBAgAABAgQIECBAoBoFBACrsVe0iQABAgQIECBAgAABAgQIECBAgECRBEwBLhKkYggQIECAAAECBAgQIECAAIG2KdCpZg5wOsqdKlFnud9RfdUhYARgdfSDVhAgQIAAAQIECBAgQIAAAQIECBAoiYARgCVhVSgBAgQIECBAgAABAgQIECDQVgRsAtJWeko7WypgBGBL5TxHgAABAgQIECBAgAABAgQIECBAoA0ICAC2gU7SRAIECBAgQIAAAQIECBAgQIAAAQItFTAFuKVyniNAgAABAgQIECBAgAABAgTahYBNQNpFN3qJBgSMAGwAxy0CBAgQIECAAAECBAgQIECAAAECbV3ACMC23oPaT4AAAQIECBAgQIAAAQIECLRKwCYgreLzcBsQMAKwDXSSJhIgQIAAAQIECBAgQIAAAQIECBBoqYAAYEvlPEeAAAECBAgQIECAAAECBAgQIECgDQiYAtwGOkkTCRAgQIAAAQIECBAgQIAAgdIJzJ0C3Kl0Fcyn5FSvRKAcAkYAlkNZHQQIECBAgAABAgQIECBAgAABAgQqJGAEYIXgVUuAAAECBAgQIECAAAECBAhUiUDNSLyKjMYzArBKfgG0/2YYAdj++9gbEiBAgAABAgQIECBAgAABAgQIdGABAcAO3PlenQABAgQIECBAgAABAgQIECBAoP0LmALc/vvYGxIgQIAAAQIECBAgQIAAAQINCHSqmf+bjnKnStRZ7ndUX3UIGAFYHf2gFQQIECBAgAABAgQIECBAgAABAgRKIiAAWBJWhRIgQIAAAQIECBAgQIAAAQIECBCoDgFTgKujH7SCAAECBAgQIECAAAECBAgQqJBAmvxbgRnAUf5JxxUCVm3FBYwArHgXaAABAgQIECBAgAABAgQIECBAgACB0gkYAVg6WyUTIECAAAECBAgQIECAAAECbUDAJiBtoJM0sVUCRgC2is/DBAgQIECAAAECBAgQIECAAAECBKpbQACwuvtH6wgQIECAAAECBAgQIECAAAECBAi0SsAU4FbxeZgAAQIECBAgQIAAAQIECBBo6wJpA5CKbAJiF5C2/kunzbTfCMA201UaSoAAAQIECBAgQIAAAQIECBAgQKD5AkYANt/MEwQIECBAgAABAgQIECBAgEA7ErAJSDvqTK9Sr4ARgPWyuEiAAAECBAgQIECAAAECBAgQIECgfQgIALaPfvQWBAgQIECAAAECBAgQIECAAAECBOoVMAW4XhYXCRAgQIAAAQIECBAgQIAAgY4iYApwR+npjvueRgB23L735gQIECBAgAABAgQIECBAgAABAh1AwAjADtDJXpEAAQIECBAgQIAAAQIECBCYv0CnThHpKHeqRJ3lfkf1VYeAEYDV0Q9aQYAAAQIECBAgQIAAAQIECBAgQKAkAgKAJWFVKAECBAgQIECAAAECBAgQIECAAIHqEDAFuDr6QSsIECBAgAABAgQIECBAgACBCgnYBKRC8Kotm4ARgGWjVhEBAgQIECBAgAABAgQIECBAgACB8gsIAJbfXI0ECBAgQIAAAQIECBAgQIAAAQIEyiZgCnDZqFVEgAABAgQIECBAgAABAgQIVKVAhXYBjgrsPFyV/hpVcgEjAEtOrAICBAgQIECAAAECBAgQIECAAAEClRMwArBy9momQIAAAQIECBAgQIAAAQIEqkDAJiBV0AmaUFIBIwBLyqtwAgQIECBAgAABAgQIECBAgAABApUVEACsrL/aCRAgQIAAAQIECBAgQIAAAQIECJRUwBTgkvIqnAABAgQIECBAgAABAgQIEKh2gbQXR6cKbMhRgSqrvSu0r0QCRgCWCFaxBAgQIECAAAECBAgQIECAAAECBKpBwAjAaugFbSBAgAABAgQIECBAgAABAgQqJtC5ZvhfOsqdKlFnud9RfdUhYARgdfSDVhAgQIAAAQIECBAgQIAAAQIECBAoiYAAYElYFUqAAAECBAgQIECAAAECBAgQIECgOgQEAKujH7SCAAECBAgQIECAAAECBAgQqJBAmv1bqaOUrzxt2rS48cYb49hjj41tttkmFl100Zr37JQde+21V5Oq/uyzz+L666+PUaNGxXrrrRcLL7xwdOvWLfvcYIMN4vjjj4+33nqrSWWlTJ988kmceuqpse6662Zl9OnTJwYOHBhHHXVUvPrqq00uR8bmCVgDsHlechMgQIAAAQIECBAgQIAAAQIE2oTA4osv3qp2Pv3007HhhhvGjBkz5iln+vTp8dBDD2XHGWecEWPHjo2dd955nnyFF6ZMmRLbbrttvPDCC4WX4/nnn8+OVMZll10Ww4cPr3Xfl9YLGAHYekMlECBAgAABAgQIECBAgAABAm1YIDcqrhKf5WJbZpllYsstt2xWdR999FE++Dd06NA4+eST47bbbovHH388brnlljjggAOiS5cuWZ7ddtstbr755vmW//HHH8eIESPywb/99tsv7rjjjnjggQfixBNPjDQS8MMPP4yddtopUuBRKq6AEYDF9VQaAQIECBAgQIAAAQIECBAgQKAqBNLU3yFDhmRHGg348ssvxworrNDktnXu3Dkb1XfcccfFoEGD5nkuBRTT1OKRI0fG7Nmzs2nCL730UjbFuG7m0047LRvll66fcsopcfTRR+ezpKnEm2yySWy00UbZFOHDDjss7rzzzvx9J60XMAKw9YZKIECAAAECBAgQIECAAAECBAhUncAJJ5yQjbpr6VTg733ve3HllVfWG/zLvez2228fO+ywQ/Y1TfF98sknc7fyn19++WX88Y9/zL6n9f6OPPLI/L3cSQoC7rPPPtnXu+66Kx577LHcLZ9FEBAALAKiIggQIECAAAECBAgQIECAAIG2K9C5ZhOQSh1tV+2blqfRe7mUgoB109133x0ffPBBdnnPPfeMNLKwvlS4Mck111xTXxbXWihQv3gLC/MYAQIECBAgQIAAAQIECBAgQIBAxxL4/PPP8y9cX3Dv3nvvzd8fNmxY/rzuyTrrrBO9e/fOLt933311b/veCgEBwFbgeZQAAQIECBAgQIAAAQIECBAg0NEFJkyYkCdYffXV8+e5k+eeey53GvXdz93s2rVrrLTSStnXwmdy9322XMAmIC238yQBAgQIECBAgAABAgQIECDQHgRqpgCnHYDLngqqfOuttxqtfumll240T7kzPPXUUzF+/Pis2jXWWKPe9QJfe+217H4a3bfQQgs12MS0W3HaBfi///1vpJGFCyywQIP53WyagABg05zkIkCAAAECBAgQIECAAAECBAiUTGDddddttOw5c+Y0mqecGVKAbt999812AE71nnTSSfVWP2PGjOx6nz596r1feDE3BThd+/jjjwUAC3FacS4A2Ao8j85f4Igjjpj/zVbcOeOMM1rxtEcJECBAgAABAgQIECBAgMC8AmnwX0UGABaMAJy3VdV/5Re/+EVMnDgxa2ja3GO77bart9GfffZZdr179+713i+8WDji79NPPy285bwVAgKArcDz6PwFxowZU5Lh0wKA8zd3hwABAgQIECBAgAABAgTarsAjjzwSSyyxRJt5gZNPPjnGjh2btXfw4MFx9tlnz7ftPXr0yO598cUX882Tu1G4oUjPnj1zl322UkAAsJWAHq9foF+/fiUJANZfm6sECBAgQIAAAQIECBAgQKBtC6TgXzWu8Vef6l//+tf49a9/nd1abbXV4uabb87v3ltf/r59+2aX05TextLMmTPzWZoyZTif2UmDAgKADfK42VKBDz74oKWPeo4AAQIECBAgQIAAAQIECJRVoFPM/aesldZUlmpta+nyyy+Pgw46KGv2csstF7fffnsMGDCgwddIgc2HH344UnAvxQsa2ggkt2FIKrNwOnCDFbjZqEDnRnPIQIAAAQIECBAgQIAAAQIECBAg0OEF/vnPf8ZPf/rT+Oqrr7LpynfccUeTRi0OGjQob/f888/nz+uezJo1K6ZMmZJdHjhwYN3bvrdCQACwFXgeJUCAAAECBAgQIECAAAECBNq+QOeagXiVOtqKXgr27bzzzpGCdIssskjcdtttsdJKKzWp+RtuuGE+34QJE/LndU/ShiK5KcBDhw6te9v3VggIALYCz6MECBAgQIAAAQIECBAgQIAAgfYu8MADD8T2228faYOOtOb/LbfcEmussUaTX3vjjTeOBRdcMMt/0UUXxZw5c+p9dty4cfnrI0eOzJ87ab2AAGDrDZXQQoEnnngiDjnkkBgyZEgss8wyseiii8YLL7xQq7RHH300LrvssrjhhhtqXfeFAAECBAgQIECAAAECBAgQKL3Ak08+Gdtuu202Mq93795x0003Rdr1tzmpe/fu2d//0zPPPfdcnHbaafM8/uCDD8b555+fXR82bFgWK5gnkwstFrAJSIvpPNhSgbTt98EHHxwXXHBBVkQu8t+pU6eYPXt2rWJnzJgRu+++e3Tp0iUmT54caYFRiQABAgQIECBAgAABAgQIFFMg/X00HeVOpa7zvvvuy/4unXuvd999N3eaXS8ccZdu7LXXXvn76SStx7fVVltlG3ek73/4wx+ykXzPPvts+lpvWmyxxSIdddPRRx8dV155Zbz44otxzDHHZPXvsssu0bNnz7jrrrvipJNOyqYXp+9jxoyp+7jvrRQQAGwloMebL7DnnnvG3//+92zI7+qrrx5pLYCxY8fWW9Cmm24aKU8aGXjVVVfFUUcdVW8+FwkQIECAAAECBAgQIECAAIHaAunv2mnKbX3p/vvvj3QUproBwHvvvTemTZuWz3L44Yfnz+d3ctxxx8Xxxx8/z+2+ffvG+PHjY/jw4fHSSy/Feeedlx2FGdP04ksvvTTWWmutwsvOiyBgCnAREBXRdIGbb745i/inJ0455ZSYNGnSPP/B1y3tRz/6URYsvPvuu+ve8p0AAQIECBAgQIAAAQIECLRaII39SwMAy360uuVtq4CVV1450nJgo0ePjnXWWScWWmih6NWrV6y22mqRgotPP/10jBgxom29VBtprRGAbaSj2kszc/P5U1CvqaP50hqBKaVgoUSAAAECBAgQIECAAAECBAg0TSBN8a07zbdpT87NlUYE1h0V2Jzn68ub1hFMU4DTIZVPwAjA8lmrqUbgoYceytZV2GOPPZrsseSSS2Z5C4cdN/lhGQkQIECAAAECBAgQIECAAAECHVzACMAO/gug3K+fW3B02WWXbXLVnTvPjVPPmjWryc/ISIAAAQIECBAgQIAAAQIEmirQuWbubzrKnSpRZ7nfUX3VIWAEYHX0Q4dpRZ8+fbJ3/fjjj5v8zi+//HKWd5FFFmnyMzISIECAAAECBAgQIECAAAECBAjMFRAA9CuhrAIrrrhiVt/EiRObXO91112X5V1jjTWa/IyMBAgQIECAAAECBAgQIECAAAECcwUEAP1KKKvA1ltvne3oe+6550ZTpvSmLccvv/zybN3AtFW4RIAAAQIECBAgQIAAAQIEii5QiR2As62Hi/4mCiRQr4AAYL0sLpZKYNSoUZGmAb/44oux2267xcyZM+ut6quvvoq0Y3Da/nv27Nmx8MILx3777VdvXhcJECBAgAABAgQIECBAgAABAgTmL2ATkPnbuFMCgQEDBsTYsWNj1113jauvvjruuOOO2GqrrfI1jRkzJmbMmBF33XVX/Pe//81GC6ZNQC666KJIW4VLBAgQIECAAAECBAgQIECg2AKdajYASUe5UyXqLPc7qq86BAQAq6MfOlQrdt555+jSpUvsu+++MX369Ljyyivzv9GmUX8pzZkzJ/tMowVT8M/034zDvwgQIECAAAECBAgQIECAAAECzRYwBbjZZB4ohsCPfvSjmDJlSvzud7+LwYMHZwHBFPTLHWnDj1/96lcxefLkGDlyZDGqVAYBAgQIECBAgAABAgQIECBAoEMKGAHYIbu9Ol46rev3m9/8JjvSmn/vv/9+fr2/bt26VUcjtYIAAQIECBAgQIAAAQIE2r1Amv1bgRnAFamz3XemF6xXQACwXhYXyy2Q1vlbdNFFy12t+ggQIECAAAECBAgQIECAAAEC7V5AALDdd7EXJECAAAECBAgQIECAAAECBBoS6Fwz/C8d5U6VqLPc76i+6hAQAKyOfuiwrUi7AN9+++3x7LPPZlOAE0SaGvztb387Nt9889hss806rI0XJ0CAAAECBAgQIECAAAECBAgUQ0AAsBiKymi2wJ133hkHH3xwvPjii/U+e9NNN8Upp5wSq666apxzzjmxySab1JvPRQIECBAgQIAAAQIECBAgQIAAgYYF7ALcsI+7JRAYO3ZsbLnlllnwL7fr70ILLRSrrbZaFvBL57nrL7zwQmyxxRZxwQUXlKAliiRAgAABAgQIECBAgAABAjUbgNQgVOrgT6AcAgKA5VBWR17gySefjIMOOijSrr8LLLBA/OpXv4qXXnop3nvvvZg0aVI899xz2fnkyZOzez179szyHnjggfHUU0/ly3FCgAABAgQIECBAgAABAgRgj39HAABAAElEQVQIECDQNAEBwKY5yVUkgVNPPTVmzZoVvXv3jgkTJsSJJ54YK6200jylr7jiitm9e+65J8ubnknPSgQIECBAgAABAgQIECBAoNgCnWo2AKnUUex3UR6B+gQEAOtTca1kAnfffXf2m+pRRx0VQ4YMabSewYMHR8qbpgTfddddjeaXgQABAgQIECBAgAABAgQIECBAoLaAAGBtD99KLPD+++9nNaQ1AJuacnlzzzb1OfkIECBAgAABAgQIECBAgAABAgQiBAD9KiirwOKLL57V17Vr0zegzuXNPVvWBquMAAECBAgQIECAAAECBNq9QOeaHUAqdbR7XC9YFQICgFXRDR2nEcOGDcte9oEHHmjyS99///1Z3o022qjJz8hIgAABAgQIECBAgAABAgQIECAwV0AA0K+EsgoceeSR0b179zjppJPitddea7TulOfkk0+OHj16ZGsBNvqADAQIECBAgAABAgQIECBAoJkCldoAJNUrESiHgABgOZTVkRdYc8014+KLL46ZM2fGuuuuG+PGjYvPPvssfz93kq5ddNFFsf7662d503l6ViJAgAABAgQIECBAgAABAgQIEGieQNMXYmteuXJ3cIEddtihQYEVVlgh/v3vf8c+++wTBx98cAwaNCgWW2yxbIfgd955JyZNmpQPDKZ7l19+eVxxxRVx9dVXN1iumwQIECBAgAABAgQIECBAgAABArUFBABre/hWJIHrrrsuC+Y1VtycOXPi008/jcceeyyfP10rTCkYmIKFhkYXqjgnQIAAAQIECBAgQIAAgWIKmI1bTE1lVZuAAGC19Ug7aU+aritg104602sQIECAAAECBAgQIECAAAECbVpAALBNd1/1Nv7JJ5+s3sZpGQECBAgQIECAAAECBAgQIECgAwkIAHagzvaqBAgQIECAAAECBAgQIECAwLwCuV2A571T2itmzpXWV+nfCNgF+BsLZwQIECBAgAABAgQIECBAgAABAgTanYARgO2uS70QAQIECBAgQIAAAQIECBAg0ByBzp0i0lHuVIk6y/2O6qsOAQHA6uiHDt2KDz74IN59991sN+C6OwDXhUmbi0gECBAgQIAAAQIECBAgQIAAAQJNFxAAbLqVnEUUeO211+K0006L6667Ll5//fUmlZzWRpg1a1aT8spEgAABAgQIECBAgAABAgQIECAwV0AA0K+EsgvcfvvtsdNOO8VHH30UjY34K3vjVEiAAAECBAgQIECAAAECHU6gZrxJVGJDjlSvRKAcAgKA5VBWR17g7bffjh133DEL/i2yyCIxatSo6Nu3bxx55JHZb7b/+Mc/Yvr06TFx4sS48sorI00PHjp0aBxxxBEV+c0433AnBAgQIECAAAECBAgQIECAAIE2KiAA2EY7rq02+6yzzsqCf7169YqHH344Vlxxxfj3v/+df52RI0dm53vvvXecfPLJsfvuu8dNN90UgwYNinPPPTefzwkBAgQIECBAgAABAgQIECiWQBqIV4nBeJWos1hmymlbAp3bVnO1tq0L3HbbbdlIvv333z8L/jX0PgsuuGBcc801WfDvb3/7W4wfP76h7O4RIECAAAECBAgQIECAAAECBAjUIyAAWA+KS6UT+M9//pMVPmzYsHwlhess1N3ko1u3bnHooYdmawWOHTs2/4wTAgQIECBAgAABAgQIECBAgACBpgmYAtw0J7mKJDBjxoyspGWXXTZfYs+ePfPn6X7//v3z39PJWmutlX1P6wJKBAgQIECAAAECBAgQIECg2AKda3bjSEe5UyXqLPc7qq86BIwArI5+6DCt6NevX/auX3zxRf6d02YguZQbIZj7nj5nzpyZff3vf/9beNk5AQIECBAgQIAAAQIECBAgQIBAEwQEAJuAJEvxBFZZZZWssJdffjlfaAoKLrXUUtn322+/PX89dzJhwoTsNBc8zF33SYAAAQIECBAgQIAAAQIEiiGQBv9V6ihG+5VBoDEBAcDGhNwvqsD666+flZd2AC5Mw4cPz9b5O/XUU+Oxxx7L30oBwdNPPz3bOCT3bP6mEwIECBAgQIAAAQIECBAgQIAAgUYFBAAbJZKhmAJbb711Fui79tprs89c2UcffXR07949pk+fHuuuu26kkYJpVOBWW20VaV3AtFHIEUcckcvukwABAgQIECBAgAABAgQIECBAoIkCAoBNhJKtOAKbb755HHLIITFixIh45ZVX8oWuvPLKcfHFF0ePHj2ywOCUKVPirbfeys67dOkSZ5xxRmy88cb5/E4IECBAgAABAgQIECBAgEDRBGoGnaSBJ+U+aios2isoiEBDAnYBbkjHvaILpGDemDFj6i13p512ig022CAuvfTS+Pe//x2zZs3KRgLutttusdpqq9X7jIsECBAgQIAAAQIECBAgQIAAAQINCwgANuzjbpkFll566fjlL39Z5lpVR4AAAQIECBAgQIAAAQIECBBovwICgO23b70ZAQIECBAgQIAAAQIECBAg0ASBNBO3ErNxK1FnEzhkaYcC1gBsh53qlQgQIECAAAECBAgQIECAAAECBAjkBIwAzEn4LKrARx99VNTycoX169cvd+qTAAECBAgQIECAAAECBAgURaBzzVC8dJQ7VaLOcr+j+qpDQACwOvqh3bWif//+RX+ntBtT2hhEIkCAAAECBAgQIECAAAECBAgQaLqAAGDTreRshsCcOXOakVtWAgQIECBAgAABAgQIECBAgACBUgkIAJZKtoOXe+aZZ3ZwAa9PgAABAgQIECBAgAABAm1FIM3+rcAM4IrU2Vb6RDuLKyAAWFxPpX0tcOihh7IgQIAAAQIECBAgQIAAAQIECBCoAgEBwCroBE0gQIAAAQIECBAgQIAAAQIEKifQKWr+qcAQwFSvRKAcAgKA5VBWBwECBKpUYNs1loyll166SlunWQQIEKicQP8hv6hc5WomQIBAlQrM+eLjKm2ZZhEg0JhA58YyuE+AAAECBAgQIECAAAECBAgQIECAQNsVMAKw7fadlhMgQIAAAQIECBAgQIAAAQJFEEijoyoxQqoSdRaBSxFtUMCvtTbYaZpMgAABAgQIECBAgAABAgQIEGhMYNq0aXHjjTfGscceG9tss00suuii2VqHab3Dvfbaq7HH57n/r3/9K3bYYYdsGaEFFlgg+0zf0/WmplmzZsVf//rX2GijjWLAgAHRs2fPWHnllePnP/95TJo0qanFyNdMASMAmwkmOwECBAgQIECAAAECBAgQINC+BFJArCKbgJR445HFF1+8KB01Z86cLEB33nnn1SrvjTfeiGuvvTY79t9//zj33HMbdHzvvfdi2223jYcffrhWOVOmTIl0jBs3Ls4555zYe++9a933pfUCRgC23lAJBAgQIECAAAECBAgQIECAAIGqFlhmmWViyy23bFEbf/Ob30Qu+Lf22mvH5ZdfHo888kj2mb6nlO7/9re/nW/5s2fPzkYP5oJ/aeTgzTffnAUDzzrrrFhsscXi888/jxRIvOWWW+ZbjhstEzACsGVuniJAgAABAgQIECBAgAABAgQIVLVAmvo7ZMiQ7EijAV9++eVYYYUVmtXmyZMnxymnnJI9s84668Q999yTTdtNF1LZ2223XQwbNiwmTpwYo0ePjp/97Gex0korzVPHxRdfnD2bbhx00EFx9tln5/Osu+662RTlwYMHx0cffRSjRo3KpgN37SpslUdq5YkRgK0E9DgBAgQIECBAgAABAgQIECDQtgXSTNzOFThKPAM4TjjhhBgxYkS0ZirwmWeeGWndvpT+9Kc/5YN/uR7v1atXdj19T/nGjBmTu1Xr89RTT82+9+/fP3LnhRnSOoC/+tWvsksvvfRSXH/99YW3nbdSQACwlYAeJ0CAAAECBAgQIECAAAECBAi0R4G09l8uELf66qvH+uuvX+9rpuurrbZadu+6666L9FxhSgG93AYfP/7xjyMFDetLhRuTXHPNNfVlca2FAgKALYTzGAECBAgQIECAAAECBAgQIECgPQtMnTo10kYfKaVpvg2l3P3XX389m2pcmPfee+/Nf83ly18oOPnWt74Vq666anblvvvuK7jjtLUCJlO3VtDzrRJ4/PHH48EHH4y33347Pvnkk/jlL3+ZLfzZqkI9TIAAAQIECBAgQIAAAQIEmiGQm/7bjEeKkjXVW83pueeeyzcvjQBsKBXeT88VrjXY3HJefPHFeO2112LmzJnRu3fvhqp1r4kCAoBNhJKtuAJp0dBDDjkknnnmmVoF77PPPrUCgGknoKOOOioWXHDB7D/+Hj161MrvCwECBAgQIECAAAECBAgQaA8Cb731VqOvsfTSSzeap5gZUhAulxqrO+0ynEuFz6Vrhd+bWk6aRpxGE+amFufK9tkyAQHAlrl5qhUCV1xxRfz0pz+NtAV4+g+6W7du8eWXX0anelY/3W+//SLtWvT+++9n6w6ktQIkAgQIECBAgAABAgQIECBQTIH099H6/k5azDrqK6uwzrQTbmOp7tp6jeVv7f0ZM2bki+jTp0/+vL6TwpF6H3/8ca0sxSqnVqG+NEvAGoDN4pK5tQIp6r/33ntnOwOl7cLT9N/PPvtsvsX27NkzdthhhyxQeMstt8w3nxsECBAgQIAAAQIECBAgQIBAcQUK/77evXv3BgtfYIEF8vc//fTT/Hk6KVY5tQr1pVkCRgA2i0vm1gqk7cPTf/irrLJK3HnnnfPd+aewno022ijGjRsXab1AiQABAgQIECBAgAABAgQItEeBRx55JJZYYomqerXCZbi++OKLBtv2+eef5++nwTyFqW45hd8L86Xzhsqpm9f3pgsIADbdSs4iCNx6663ZsOojjjiiScG/VGUKFqb06quvZp/+RYAAAQIECBAgQIAAAQIEiilQDZuApOBfY+vjFfOdm1JW375989nqTuvN3/j6JG3YkUt1pwvXLaehAGBD5eTK99l8AVOAm2/miVYI5IJ4gwcPbnIpud84GvvNpskFykiAAAECBAgQIECAAAECBAg0KlAYkEwbcjSUCjf6KNwQJD3TknLS+oiFzzVUt3uNCwgANm4kRxEF0sYfKXXu3PRfemkDkJQKf2KQXfAvAgQIECBAgAABAgQIECBQBIG0J2WljiI0v2RFDBo0KF/2888/nz+v76Tw/sCBA2tlaUk5KYhYuLFIrQJ9abZA06MwzS7aAwTmFcitZzBlypR5b87nyn333ZfdWXbZZeeTw2UCBAgQIECAAAECBAgQIECg2AIrrLBCLLnkklmxEyZMaLD4e+65J7u/1FJLxfLLL18r74Ybbpj/3lA5b7/9drz44otZ3qFDh+afcdJ6AQHA1hsqoRkCaUOPtG353//+9yY99eGHH8Zf/vKXbN3AjTfeuEnPyESAAAECBAgQIECAAAECBAi0XiBNw91+++2zgtIIv4ceeqjeQtP13AjAlD89V5hWXXXVyI0KTPGATz75pPB2/jxtAJpLI0eOzJ36LIKAAGAREBXRdIGf/exnWeZrrrkmrr766gYffO+997LfaNJPANJvHvvtt1+D+d0kQIAAAQIECBAgQIAAAQItEUh/5+xcgaNuoKwlbS/1M4cddlh07Tp3D9lRo0bFp59+WqvK9D1dTynlS/nrS0cddVR2OS3zdcwxx8yTJc0UPPnkk7PrK620UggAzkPUqgt2AW4Vn4ebK/D9738/dt9997jkkktil112ib322it22mmnfDFTp06NtHBo2i34wgsvjDQCMP2GeOCBB0bhmgH5B5wQIECAAAECBAgQIECAAAEC9QqkJbUmT56cv/fuu+/mz9P1whF36Ub6O3rdlEbvpeDd//3f/8XEiRMjTc395S9/GSlIl4J2o0ePjieeeCJ77Oijj45VVlmlbhHZ9z333DMuuOCCuP/+++Pss8+ONNgnDfTp379/PPLII/H73/8+Pvroo2zPgD/96U/5oGO9hbnYbIFONdMx5zT7KQ8QaIXAF198ETvvvHP885//nGdYcGGxuV+aO+ywQ1x55ZXRpUuXwtvOCRBooUDavSu3K9dLU1+zs1YLHT1GgED7Fug/5Bft+wW9HQECBFogMOeLj+PzSRdlT6aBG219h9bC/y8++KIJ0W/Rb7VApXWPfPTu23H2nsNKZpoCehddNLfPmtLS3N/D6+b96quvsmBdCuDNL+2zzz5x3nnnNbjpZwpADh8+PB599NF6i+nevXv8+c9/NgOwXp3WXTQFuHV+nm6BQPoP+rrrrou//e1v2U8M0m8w9R3pD5Nzzjkn/vGPfwj+tcDZIwQIECBAgAABAgQIECBAoBgCnTt3jvPPPz/Gjx+fLdWVNgZJf7dPn2nNv5tuuinGjh3bYPAvtWPRRReNBx54IPu7ftoYZJFFFokePXrEiiuumAX9Hn/8ccG/YnRYPWUYAVgPikvlFZg0aVI2jHjatGkxe/bs7DeAtddeO7773e82OEKwvK1UG4H2I1D4k04jANtPv3oTAgSKK2AEYHE9lUaAQPsQMAKw+P1Y6hGAxW+xEtuqgDUA22rPtaN2p7X9rO/XjjrUqxAgQIAAAQIECBAgQKCNCdQsPV8zAKX8ja5EneV/SzVWg4ApwNXQC9pAgAABAgQIECBAgAABAgQIECBAoEQCAoAlglUsAQIECBAgQIAAAQIECBAgQIAAgWoQMAW4GnqhA7XhrLPOatXbHnLIIa163sMECBAgQIAAAQIECBAgQKCuQOfoFJ0rMB831SsRKIeAAGA5lNWRFzjssMNavLFHp5rfjAUA85ROCBAgQIAAAQIECBAgQIAAAQJNEhAAbBKTTMUUmDNnTouKa+lzLarMQwQIECBAgAABAgQIECDQYQTS4L8KDACsSJ0dplO9aC0BAcBaHL6UWmD69OmNVjFz5sx44YUX4tJLL41x48bF+uuvH5dcckn079+/0WdlIECAAAECBAgQIECAAAECBAgQqC0gAFjbw7cSCyy44IKN1pDyLLnkkrHJJpvEyJEjs2PXXXeNe++9t9FnZSBAgAABAgQIECBAgAABAgQIEKgtYBfg2h6+VZnAtttuG/vuu2888sgj8ec//7nKWqc5BAgQIECAAAECBAgQINAeBDrXTAGu1NEe/LxD9QsIAFZ/H3X4FqZRgGn9vzQNWCJAgAABAgQIECBAgAABAgQIEGiegCnAzfOSuwICAwYMyGqdPHlyBWpXJQECBAgQIECAAAECBAi0d4G0AUjnCuwCUoEq23tXer/5CBgBOB8Yl6tHYMqUKVljZs+eXT2N0hICBAgQIECAAAECBAgQIECAQBsREABsIx3VUZv5ySefxMknn5y9/mqrrdZRGbw3AQIECBAgQIAAAQIECBAgQKDFAqYAt5jOgy0RePrppxt97Kuvvorp06fHxIkT469//WtMnTo1OtWMi959990bfVYGAgQIECBAgAABAgQIECDQXIE0FbcS03ErUWdzbeRvHwICgO2jH9vMW6y11lpZMK+pDU6bf6S0+eabxy9+8YumPiYfAQIECBAgQIAAAQIECBAgQIDA1wICgH4plF0gF9RrSsXLLrtsHHTQQXHEEUdE165+uTbFTB4CBAgQIECAAAECBAgQaJ5A52wTkOY9U4zcqV6JQDkERFTKoayOvMC1116bP5/fSefOnaNv376xwgorxHLLLTe/bK4TIECAAAECBAgQIECAAAECBAg0QUAAsAlIshRPYPvtty9eYUoiQIAAAQIECBAgQIAAAQIECBBoVEAAsFEiGYopkNsEZOGFF46ll166mEUriwABAgQIECBAgAABAgQItEigU8z9p0UPt+KhVKtEoBwCnctRiToI5ATSJiBrr7123HzzzblLPgkQIECAAAECBAgQIECAAAECBEooIABYQlxFzyvQu3fv7GIKAkoECBAgQIAAAQIECBAgQIAAAQKlFxAALL2xGgoEctN+P//884KrTgkQIECAAAECBAgQIECAQOUEcrsAV+Kzcm+t5o4kIADYkXq7Ct51m222yVoxYcKEKmiNJhAgQIAAAQIECBAgQIAAAQIE2r+AAGD77+OqesPDDjss+vbtG6effnpMmTKlqtqmMQQIECBAgAABAgQIECDQMQU61ezFUYnRf6leiUA5BAQAy6GsjrzAsssuG9dcc0107tw5NthggzjnnHNi+vTp+ftOCBAgQIAAAQIECBAgQIAAAQIEiivQtbjFKY1AwwLf/e53sww9evSIN954I0aNGpUdSy21VPTv3z+6dOky3wI61fxo5LHHHpvvfTcIECBAgAABAgQIECBAgAABAgTmFRAAnNfElRIKPPnkk5ECeXPmzMlqyX2+/vrrkY6GUnpOIkCAAAECBAgQIECAAAECxRZIf9+sxN85K1Fnse2U1zYEBADbRj+1m1Zut912FflNtd0AehECBAgQIECAAAECBAgQIECAQDMFBACbCSZ76wSuu+661hXgaQIECBAgQIAAAQIECBAgUGSBtEFC2gSk3MnGDOUW77j1+bXWcfu+5G+eNvro2rVrTJo0qeR1qYAAAQIECBAgQIAAAQIECBAgQKB+AQHA+l1cLZJAbo2/IhWnGAIECBAgQIAAAQIECBAgQIAAgWYKmALcTDDZCRAgQIAAAQIECBAgQIAAgfYlkPacrMS+k5Wos331nLdpqoARgE2Vko8AAQIECBAgQIAAAQIECBAgQIBAGxQwArANdpomEyBAgAABAgQIECBAgAABAsUT6FwzFC8d5U6VqLPc76i+6hAwArA6+kErCBAgQIAAAQIECBAgQIAAAQIECJREQACwJKwKLRToVIGfohTW75wAAQIECBAgQIAAAQIECBAg0JEFTAHuyL1fpnffcssto1u3bq2uLQUSp0yZ0upyFECAAAECBAgQIECAAAECBAoFOtfM/k1HuVMl6iz3O6qvOgQEAKujH9p1K954442ivJ+RhEVhVAgBAgQIECBAgAABAgQIECDQwQQEADtYh1fidZdccsmijACsRNvVSYAAAQIECBAgQIAAAQIECBBo6wICgG29B9tA+2+99dYYNGhQG2ipJhIgQIAAAQIECBAgQIBAhxSomf5bkeXrKzDtuEP2r5cOm4D4RUCAAAECBAgQIECAAAECBAgQIECgHQsYAdiOO9erESBAgAABAgQIECBAgAABAo0LdI5ONSOkyj8crxJ1Nq4hR3sUMAKwPfaqdyJAgAABAgQIECBAgAABAgQIECDwtYAAoF8KBAgQIECAAAECBAgQIECAAAECBNqxgCnA7bhzvRoBAgQIECBAgAABAgQIECDQuEDaAKQSm4BUos7GNeRojwJGALbHXvVOBAgQIECAAAECBAgQIECAAAECBL4WMALQL4WSCUydOjUre6mllipZHQomQIAAAQIECBAgQIAAAQKtFehcMwIwHeVOlaiz3O+ovuoQEACsjn5ol61Ybrnl2uV7eSkCBAgQIECAAAECBAgQIECAQFsSMAW4LfWWthIgQIAAAQIECBAgQIAAAQIECBBopoARgM0Ek50AAQIECBAgQIAAAQIECBBoXwKda3bjSEe5UyXqLPc7qq86BIwArI5+0AoCBAgQIECAAAECBAgQIECAAAECJREwArAkrAolQIAAAQIECBAgQIAAAQIE2opAGvxXgQGAFamzrfSJdhZXwAjA4noqjQABAgQIECBAgAABAgQIECBAgEBVCQgAVlV3aAwBAgQIECBAgAABAgQIECBAgACB4gqYAlxcT6URIECAAAECBAgQIECAAAECbUygU1RmE5BUr0SgHAJGAJZDWR0ECBAgQIAAAQIECBAgQIAAAQIEKiQgAFgheNUSIECAAAECBAgQIECAAAEC1SGQ2wSkEp/lEPjiiy/i/PPPj6233jqWWGKJWGCBBaJPnz6x2mqrxd577x0PPfRQk5rxr3/9K3bYYYdYeumlszLSZ/qerkvVLWAKcHX3j9YRIECAAAECBAgQIECAAAECBFos8Nprr8W2224bzzzzTK0yUlDwxRdfzI4LL7wwDj/88Dj99NNrdiaed1rynDlz4uc//3mcd955tcp444034tprr82O/fffP84999x6n6/1kC8VETACsCLsKiVAgAABAgQIECBAgAABAgQIlFZg1qxZtYJ/a665ZowbNy4efPDBuPXWW+PYY4+N3r17Z40488wz47TTTqu3Qb/5zW/ywb+11147Lr/88njkkUeyz/Q9pRQc/O1vf1vv8y5WXqBTTRR3TuWboQUECBAgUC6B119/PZZZZpmsupemvpYN3y9X3eohQIBAWxHoP+QXbaWp2kmAAIGyCcz54uP4fNJFWX1pVFma/tmWU+H/F59+w0Ox8OJLlP113n/nrTjyB+uXzPTqq6+OHXfcMSt/gw02iHvvvTe6dOlS6z0fe+yxSPe+/PLL6N+/f0ybNi26dv1mwujkyZNj4MCBkYKJ66yzTtxzzz3Rs2fPfBmffPJJDBs2LCZOnJg99/zzz8dKK62Uv++kOgSMAKyOftAKAgQIECBAgAABAgQIECBAgEBRBe6///58eb/61a/mCf6lm4MHD44RI0Zk+aZPnx4pgFeY0sjAFPxL6U9/+lOt4F+61qtXr+x6Ok/5xowZk06lKhMQAKyyDtEcAgQIECBAgAABAgQIECBAgEAxBNI6f7m04oor5k7n+Swcsff555/n76dJo9dff332ffXVV4/11587WjGf4euTdD1tKJLSddddFyabfg1TRR8CgFXUGZpCgAABAgQIECBAgAABAgQIlF8gbXxRqaOUb7vqqqvmi//Pf/6TP697MmXKlOxSMlhllVXyt6dOnRppo4+U0jTfhlLufppa/fLLLzeU1b0KCAgAVgBdlQQIECBAgAABAgQIECBAgACBUgvsuuuu0a9fv6ya0aNHx+zZs+ep8oknnojx48dn13fZZZd8/nThueeey+dPIwAbSoX3C59r6Bn3yifwzaqO5atTTQQIECBAgAABAgQIECBAgACBqhHoVNOSdJQ7Fdb51ltvNVp9czdeGTBgQLbr709+8pNI6wEOGTIkDjvssEgjAz/++OPs2umnnx5pqvBaa60VZ5xxRq02pM1ecqmxunMbDab8hc/lnvdZWQEBwMr6q50AAQIECBAgQIAAAQIECBAgEOuuu26jCi1ZW2/kyJHZDr0puHfBBRfEnnvuWauexRdfPE444YTYf//9o3fv3rXuzZgxI/+9T58++fP6TgqfTcFFqboETAGurv7QGgIECBAgQIAAAQIECBAgQIBA0QS+/PLLuOyyy+KGG26od3OOd955Jy6//PK4++6756nzs88+y1/r3r17/ry+kwUWWCB/+dNPP82fO6kOASMAq6MftIIAAQIECBAgQIAAAQIECBCokEDnms0v0lHuVFjnI488EksssURRmzBz5swYPnx43HPPPdGlS5c45phj4mc/+1mkHYFTcO/hhx+O3/3ud3HffffFD37wgzjzzDPj0EMPzbehR48e+fPCHYXzFwtOCncP7tmzZ8Edp9UgIABYDb2gDQQIECBAgAABAgQIECBAgECHFkjBv8bW2Wsu0HHHHZcF/9Jz559/fq3pv2lE3xZbbBGbbLJJbLnllnHXXXfFEUcckX1fc801s6r69u2br7Kxab0p2JhLjU0XzuXzWT4BU4DLZ60mAgQIECBAgAABAgQIECBAoEoFchuBlPOzlBRpvcALL7wwqyJt+lF37b9c3V27do3f//732devvvoq/0y6UBiQfP3113OP1PtZuPFH4YYg9WZ2sewCAoBlJ1chAQIECBAgQIAAAQIECBAgQKC0Amltv/fffz+rZO21126wssGDB+fvP//88/nzQYMG5c8Lr+cvFpwU3h84cGDBHafVICAAWA29oA0ECBAgQIAAAQIECBAgQIAAgSIKpJF9uTRr1qzcab2faaOQXCp8boUVVogll1wyuzVhwoRclno/0zqDKS211FKx/PLLZ+f+VT0CAoDV0xdaQoAAAQIECBAgQIAAAQIECFRAIO3/UamjVK+78MILR79+/bLiH3zwwWgoCFgY3EtBv1zqVIOy/fbbZ1/TCL+HHnood6vWZ7qeGwGY8qfnpOoSEACsrv7QGgIECBAgQIAAAQIECBAgQIBAqwU6d+4c2267bVbOm2++GSeeeGK9ZU6fPj1++ctf5u+NGDEif55ODjvssMiNChw1alR8+umnte6n7+l6Silfyi9Vn4AAYPX1iRYRIECAAAECBAgQIECAAAECZRSYO/qvUzZyLY1eK99R2pc89thjo1evXlklxx9/fGy33XZx9dVXxxNPPBFpVOCZZ54Za621VkyaNCnLs9lmm2U7Ahe2Km0gctRRR2WXJk6cGEOHDo0rr7wy0nn6TN/TeUpHH310rLLKKtm5f1WXwDcTwqurXVpDgAABAgQIECBAgAABAgQIECDQCoHVV189rr/++th1113j3XffjRtuuCE76ity0003jauuuqq+W9nowWnTpsUFF1yQBQ932WWXefLts88+8Yc//GGe6y5Uh4ARgNXRD1pBgAABAgQIECBAgAABAgQIECi6wOabb56tzzd69OjYeOONY8CAAdGtW7fo2bNnpPX+dt5557juuuvi9ttvj/79+9dbf5pOfP7558f48eOzNQHTxiDdu3fPNghJa/7ddNNNMXbs2Ej5pOoUMAKwOvtFqwgQIECAAAECBAgQIECAAIEyCaSwVSVCV+Wqc5FFFoljjjkmO1pDOnz48EiH1PYEyvVrre3JaDEBAgQIECBAgAABAgQIECBAgACBdiAgANgOOtErECBAgAABAgQIECBAgAABAgQIEJifgCnA85NxnQABAgQIECBAgAABAgQIEOgQArldf8v9sqleiUA5BIwALIeyOggQIECAAAECBAgQIECAAAECBAhUSMAIwArBq5YAAQIECBAgQIAAAQIECBCoDoE0Dq8SY/EqUWd1iGtFuQWMACy3uPoIECBAgAABAgQIECBAgAABAgQIlFFAALCM2KoiQIAAAQIECBAgQIAAAQIECBAgUG4BU4DLLa4+AgQIECBAgAABAgQIECBAoKoEbAJSVd2hMSUQMAKwBKiKJECAAAECBAgQIECAAAECBAgQIFAtAkYAVktPaAcBAgQIECBAgAABAgQIECBQEYE0OqoSI6QqUWdFgFVacQG/1ireBRpAgAABAgQIECBAgAABAgQIECBAoHQCAoCls1UyAQIECBAgQIAAAQIECBAgQIAAgYoLmAJc8S7QAAIECBAgQIAAAQIECBAgQKCiAp06RdoIpOypEnWW/SVVWA0CRgBWQy9oAwECBAgQIECAAAECBAgQIECAAIESCRgBWCJYxRIgQIAAAQIECBAgQIAAAQJtQyCN/avA+L+K1Nk2ekQriy1gBGCxRZVHgAABAgQIECBAgAABAgQIECBAoIoEBACrqDM0hQABAgQIECBAgAABAgQIECBAgECxBUwBLrao8ggQIECAAAECBAgQIECAAIE2JZBNAa7AHOAKVNmm+kVjiydgBGDxLJVEgAABAgQIECBAgAABAgQIECBAoOoEBACrrks0iAABAgQIECBAgAABAgQIECBAgEDxBEwBLp6lkggQIECAAAECBAgQIECAAIE2KNC5Zj/edJQ7VaLOcr+j+qpDwAjA6ugHrSBAgAABAgQIECBAgAABAgQIECBQEgEjAEvCqlACBAgQIECAAAECBAgQIECgrQh0qhn8l45yp0rUWe53VF91CBgBWB39oBUECBAgQIAAAQIECBAgQIAAAQIESiIgAFgSVoUSIECAAAECBAgQIECAAAECBAgQqA4BU4Crox+0ggABAgQIECBAgAABAgQIEKiQQKeaDUDSP+VOlaiz3O+ovuoQMAKwOvpBKwgQIECAAAECBAgQIECAAAECBAiURMAIwJKwKpQAAQIECBAgQIAAAQIECBBoKwI2AWkrPaWdLRUwArClcp4jQIAAAQIECBAgQIAAAQIECBAg0AYEBADbQCdpIgECBAgQIECAAAECBAgQIECAAIGWCpgC3FI5zxEgQIAAAQIECBAgQIAAAQLtQiBtxtHZJiDtoi+9RP0CRgDW7+IqAQIECBAgQIAAAQIECBAgQIAAgXYhYARgu+hGL0GAAAECBAgQIECAAAECBAi0VMAmIC2V81xbETACsK30lHYSIECAAAECBAgQIECAAAECBAgQaIGAAGAL0DxCgAABAgQIECBAgAABAgQIECBAoK0ImALcVnpKOwkQIECAAAECBAgQIECAAIGSCJgCXBJWhVaRgBGAVdQZmkKAAAECBAgQIECAAAECBAgQIECg2AICgMUWVR4BAgQIECBAgAABAgQIECBAgACBKhIwBbiKOkNTCBAgQIAAAQIECBAgQIAAgfILdIq5/5S75lSrRKAcAkYAlkNZHQQIECBAgAABAgQIECBAgAABAgQqJGAEYIXgVUuAAAECBAgQIECAAAECBAhUh0DnmoF46Sh3qkSd5X5H9VWHgBGA1dEPWkGAAAECBAgQIECAAAECBAgQIECgJAICgCVhVSgBAgQIECBAgAABAgQIECBAgACB6hAwBbg6+kErCBAgQIAAAQIECBAgQIAAgQoJ2ASkQvCqLZuAEYBlo1YRAQIECBAgQIAAAQIECBAgQIAAgfILGAFYfnM1EiBAgAABAgQIECBAgAABAlUk0KlmA5B0lDtVos5yv6P6qkPACMDq6AetIECAAAECBAgQIECAAAECBAgQIFASAQHAkrAqlAABAgQIECBAgAABAgQIECBAgEB1CJgCXB39oBUECBAgQIAAAQIECBAgQIBAhQTS7N+0EUi5U/lrLPcbqq9aBIwArJae0A4CBAgQIECAAAECBAgQIECAAAECJRAwArAEqIokQIAAAQIdVWDatGkx8dFHsuOxiY9GOt57772MY/c99oy/XTCuyTQvT50aZ//5rLjzjtvi1Vdeia+++iqWXGqp2GyzLWL/nx8Ug9ZYo8llyUiAAIFSCwzo3yfW+fbyNcdyMXiNZWPwoOVi0ZprKV38z4di/+MuaXITll2if+y30/dj0/VWjxWXWTR691ggZnzyWbz48jtxy/2TYuw/7ot3p39cb3n/e8Dw+M3Ph9d7b34X/3DuTXHiX2+a323XCXQIgbQZR+cKDMezCUiH+OVVFS8pAFgV3aARBAgQIECgfQgst9TiRXmR8/92Xhxx2Kj44osvapU3+aWXIh0XXjA2Tj19TE0g8MBa930hQIBApQRevfP/ilL1j7deJ84+dtfo3XOBWuUtvGDvWP9/VsyOg3fdOHb/5QUx4dEXa+Vp6ZeXXnmnpY96jgABAgTaiIAAYBvpKM0kQIAAAQJtTWDpZZaJ1VcfGLffdmuzmv73K6+IXxx0QPbMggsuGIcefmQM23jTWGCBBeKpJ5+IM04/JaZMnhyHHXJwLDpgQOzwox2bVb7MBAgQKLXAa2+9H89PfSe2+N7AZlW13porxNjf7xFdu3aJ2bO/iktueDhunPB0vDXtw1hmiYXjJz9YL0YM+042svAfYw6IwTueGK/W1FWYzvv7PXHt7U8UXprnvEuXznHb2MNiwb4948MZn8Y/73p6njwuECBAgED7EhAAbF/96W0IECBAgEBFBX79m2Nj8DpDsmPxxRePV15+OVZfZYUmt+mTTz6Jo484NMvfp0+fuOPu+2KNb387//zgddaJHXf+cWw2bMN49tln4siaUYJbbb1N9O7dO5/HCQECBCohkKbQPvbvV2uOV2La+zNi2ZqA3Qs3/a5ZTTl67y2z4F966IjRV8V5V92bf/6xSa/GdXc8Gf93xMg4dI/Nok+vBWo+N40jT/lHPk86+W/N1OB0NJS2HDooC/6lPNfUBAs/+/zLhrK7R6BDCKQNQCqzCUgF5h13iB71knUFbAJSV8R3AgQIVEjg+OOPj041i4CkQyLQVgV+e9wJMXzbEZGCfy1Jt/zr5kjrCKZ08KhDawX/cuX169cvRp92Rvb17bffjosvGpe75ZMAAQIVE0jr6N1877NZ8K+ljdhgrRWzR9P6foXBv8LyTjrv5vzX9WqmBLck/WTEuvnHLr3x4fy5EwIECBBovwICgO23b70ZAQIECBBocwJp05Bc2nKrbXKn83xuNGzj6NGjR3b92mtqj36ZJ7MLBAgQaCMC3bvNnaD1yptzN0+qr9kfffxZzQi/GdmtBb7OX1+++V3r27tHzTTiNbPbU19/N+5/fMr8srpOgAABAu1IQACwHXWmVyFAgAABAm1dYPr736xl1dAowq5du0b/hRfOXvehBx+IWbNmtfVX134CBAjES6/MHQG93JKLzFcjBfAG9O+b3Z/86tz8881cz40dtlg7evXsnt25bPwj9eRwiUDHFEiTcCp1dExxb11uAQHAcourjwABAgQIEJivQK+Ctfw+/PDD+eabM2dOzPjoo+x+2ik4bQoiESBAoK0LnH/1fdkrLNq/T+y744b1vs6v9ts6f33sP+bmz19owknt6b8CgE0gk4VAuxF4991345RTTomhQ4fGt771rWyDtSWXXDLWW2+9OProo+PBBx9s9F1Tnj322COWX375bDbGEkssEVtvvXVcccUVjT4rQ2UF5o4xr2wb1E6AAIGqEEhr8J1wwglZW1Jw4YMPPogzzzwz/vGPf8Qrr7wS3bt3jzXXXDP222+/+MlPftJgm1NAYty4cXH99dfHk08+GekP27Sb6TI1u6JusMEG8eMf/zg23HDDbL2/lO9nP/tZrfLqWwdw6tSp2R+0tTL6QqCdCaRdg3Pp3nsmxHcHD859rfX55BNPxMcff7PI/WuvvRqrrb56rTy+ECBAoK0JXHjtAzF07ZVi123XjTH/386x9sBlYvyEZ+Ltdz+KZb7VP3YdPiS232yt7LVOu/DWuOOh55v1issu0T8rPz30wBNTIk0BlggQmCtQMwCwZhOQ8qdy1XnVVVfFgQceGO+9V3uJgbfeeivS8cgjj8RLL70U11133XwRfve732V/X/rqq6/yedJ6zOm45ZZb4rLLLou///3v+WVa8pmcVIWAAGBVdINGECBQbQIp2LbFFlvElCnfrIszc+bMmDBhQnakPxgvv/zymp365v1tNAX8dthhh0hlFKb//ve/kY7HH388zj777Ox++smZRIDANwJbbTM8unXrFl9++WWc9ccz4id7/DQWXXTRbzLUnKX/6Tz+2P+tdW3GjLnrYdW66AsBAgTamMBXX82JvX/z/7Kg35E/2zL23mFodhS+xt2PvBCnXXhbs4N/qYzdRqwXnTvPnQR2yQ02/yh0dU6gPQv8v//3/7IBB+n/oRZbbLEsEJgGIyxcs5xKCt6lv/PccMMN2f+Dzc9h7Nixcdxxx2W3V1pppfj1r38d3/nOd+LNN9+MP/7xj3HXXXdlZey7775xySWXzK8Y1ysoMO/fXCvYGFUTIECgWgTSCL0UwPv5z38eO+64YzZ67+mnn47Ro0fHiy++mI0KTMPdzzrrrFpNnjRpUnz/+9/Pj0waOXJk7LLLLrHiiivG7Nmz44UXXojbbrstrr322vxzP/zhD2OdddaJc845J/7yl79k15955pn8/dzJUkstlTv1SaDdCiy99NKx3wEHxjl/PivefOON2HTY0Djx5FNi2MabZKNwn6oJsJ/4++Pjtltvyb6n0bYpffbpp+3WxIsRINCxBFZdfvH48TbrxLdXXrLeF19vzRUiTeP99+Q3s5GB9Waaz8U0gjClTz/7Iq6+7fH55HKZAIH2JPDcc8/F/vvvn/0ANf09JQX60sykumnUqFGR+/+quvfSzKg0RTilZZddNh566KFaP6AdMWJEpL/3pLIvvfTSrL6NNtqobjG+V1hAALDCHaB6AgSqU+DRRx/NhrDvuuuu+QamIN1OO+2UBfieeuqpbBRfmg6cfvKVS7vvvnsW/Es/XU9/+KXgX2FK62v89Kc/zYbe9+rVK7u10EILRTrST+Ny6dvf/nbutNmfr7/+eoPPpCH+EoFqFjh59KnxystTY/yNN8RLNQH3nX/0w3mau0JNUH37H+4QY844LbvXp+/cBfHnyegCAQIE2pBAmv571ZgDon+/XpF2Aj7+7Bvjzpppvu9/NDMWX7hfbDvsO3HcwSOyKcLfH7xKjDjoz/HC1Hea9Ibrfmf5SMHFlG6smVacdhOWCBD4RqBzzQTgzp3KNSG3dr3ffCv+WQrsff7551nA7pprrqk3+JerNS15VF/629/+li2PlO6lARF1Z2d06dIlG8xw0003ZYMeTj311BAArE+ystdsAlJZf7UTIFClAumnWIXBv1wz+9YEGc4777zsaxpCf+655+ZuZetePFGzLllK6Q/ausG/fMaak0UWWSR69uxZeKlo52mdwYaOddddt2h1KYhAKQTS/3xedc31cd7YC+O73x2cn66W6krB8gMPHhUPPvJ4pLU6c6l///65U58ECBBokwLdu3WNi07eKwv+vfXfD2PYT0+LK256NKa9P6Nmp/Ov4o1pH8R5V90bm+99ZjaCb+maNQHP//1Pm/yuu9WMGsylS280/Tdn4ZNAexZ4/vnn44477she8Re/+MU8gbumvntuXcB+/fplSx3V91yaxbH55ptnt9KMp8K1muvL71r5BQQAy2+uRgIE2oBA3U05CpucAmhrrLFGdun222/P3xo/fnz+/PDDD8+fOyFAoPkCaSOcPfbcK+5/eGK8896H8e/nJ8eL/3k1Xn/73ThjzFnZT6+ffebpfMGrDxyUP3dCgACBtiiw5dCBsdTic3+Y8ZcrJtT83lf/2qbP/eftuLwmMJjS4DWWi++s2vgSId26dokdt5y7qVLaUOS2B55ri0TaTKCkAmnsX6WOUr1Y2vgjl9JMplyaPn16tuFH3Q1BcvcLP9O04LRBSEppM8P5jRJM94cNG5Y+shGHaUaVVF0CAoDV1R9aQ4BAlQgMGTJ3jZz5NSc3ii7tlJVbKyM3+i+ti7HccsvN79GSX3/ttdeioSP3B3jJG6ICAkUS6NOnT6xYs9h0GtmappiklP67m/jo3P8ZTdOB605FKVLViiFAgEDZBFZf4Vv5up58/rX8eX0nTzz3zf3Vvp7WW1++3LXhG307Flmod/b1ypsfrVkL7JsR1Lk8PgkQaH8Caa2+lNKafwMHDsyWKPqf//mfbPOPVVddNfv/p7RW+QknnDDfEXvp7zuzZs3Kyll99dWzz/n9q/B+WntQqi4BawBWV39oDQECVSJQuB5ffU1afPG5a+ikKYjpJ2jp+7vvvptlTZuDVDKl4fcSgfYu8K+bb4oPP/wwe80f7bhze39d70eAQAcQSNN8c6nr1z/syH2v+5lG9OXSrNnfPJe7VvczbRqSS5feOPeHJ7nvPgkQqB6BpqzV3Zz/108bFKa0/PLLZ0sUnX322fO8bNr48Pjjj882ObzllltiySVrb0CUBhbkUmN1px/W5lLhc7lrPisrYARgZf3VToBAlQqk6YcNpcK1x+rma+zZuvl9J0CgeQLpp9B/OOG47KFu3brF3vvs17wC5CZAgEAVCrxcs+lHLqXNQBpK3x+8cv72y2/M/QFk/kKdk4UX7B1bbbhGdvWpF16PZ158o04OXwkQyAQqNf+34K8daZZRQ2t5FwbYmtJr77//fpYtrQWYgn9pLeW0hvm0adPis88+izRNd5tttsnyPPvss9mGh2md88I0Y8Y3yxGkWRkNpd695440TnmsAdiQVGXuCQBWxl2tBAhUucA77zS8o176QzOlFOzLbT6Qm4L45ptvVvnbaR6B6hZIo2k/+eSTehuZpv4esO/e8czX6/8defQvI00BlggQINDWBe56+IWY+enn2Wvst9OGscbKtUfh5N5vy6GDYrtN/if7+sY70+OpFxoO6O289eBIG4ykdJnRf5mDfxHoKAIzZ87MXjXtApyWUbn55pvjgAMOiAEDBsQCCywQ66yzTtx44435IOADDzwQaafgwpQChbnU0Pp/KU8qM5c+/fTT3KnPKhEwBbhKOkIzCBCoLoH007CGfsKWW9R2lVVWyS+E+93vfjfuu+++ePXVV+OVV15p9jqARg5W168BrWmZwP01/w38Z8rk/MPvvvfNyJQpNdcvvmhc/l46SRt91E33TLg7Dv75fvHjXX8Sm262ec1/i8tmAcGnnnwixv7t3Hju6+ksm2+xZfzqf39b93HfCRAgUBGB7621Yqy4zIB83Ysu9M1ImZVqru/+g/Xy99LJJTfU3on3w48/jdMuvC2OO2hE9OvTM+4ad0SkzUDueOj5+OCjT2KxRfrFiI2/E3uPHFrzF/m54zh+c9Y/a+2IXquCr7/kpv/OmjU721W4vjyuESCQNgCZ+0+5LVKtuZTW6i7mckI9evSIXBAwbQKy/vrr56rKf3bu3DlOPfXULDiYLl5++eWx44475u+nMnIpt/Z57nvdzxRozKWePXvmTn1WiYAAYJV0hGYQIFBdAhdddNF8t7ifOHFipCHyKeW2uk/nP/jBD+Kss85Kp3HmmWfGmDFjsvOm/qvwD9f0h2fhT9CaWoZ8BCotMO6CsXHJxRfV24wHH7g/0lGY6gsApvsffPBB/PUvZ2dHYf7c+R4/3SvOOvsv+QB87rpPAgQIVEpgr5Hfiz22m/cv16k936uZ0puOwlQ3AJju/d/f/hUL9+sVB++2cfTt3SOO2Wer7Ch8Lp1/8eWsOO5PNzQa0FtlucVinW8vnz1+24PPxbT3v5nKl130LwIEqkogBf8aW2evOQ3u27dvPgCYm+pb3/NrrLFGLLXUUvHGG29k04IL86Qycqmxab25YGPK39h04VyZPssnYApw+azVRIBAGxL45z//GX//+9/naXH6Q2///ffPrqeflqUh9LmUgoGDBw/Ovv7pT3+KK664Indrns+0HkfdYfGFP+2bMmXKPM+4QKCjCAzd8Ptx0uhTY6utt4nlV1ghevXqlf1P5Co1u9Xtu98Bcfe9D8Z5518YhUHzjmLjPQkQaP8Cx5x+TWy4+6lx3lX3xrMvvRkf1YwMTKP3PpjxSTw26dX448V3xOAdT4oxNZ+NpZ+M+GbUoem/jWm5T6D9CRTOaGossJjLm1vqKKdR+Nzrr7+eu1zvZ+HGH7ny6s3oYkUEjACsCLtKCRCodoG0HsZuu+0WEyZMyIbA9+vXL55++ukYPXp0vPDCC1nzDz744FhzzTVrvcrFF18cafHeFCjcdddd46qrropddtklVqxZo2z27NkxefLkuO2227Jdtp555plsR65cAd/73vdyp3H44YfH//7v/2ZTAHJTg9PuXV27+m07j+SkKgX+dsG4SEdrUtpV+/AjjsqO1pTjWQIECJRTYP/jLol0FCM98dxr8cRzV7a6qOPPviHSIREg0ASBmpm4jewD2IRCWpDlmxnALXi44UfSyL7c0kXp7yINpdz9un/fWLXmB7Bp/cB0P20m0lAqvD9w4MCGsrpXAQF/k6wAuioJEKh+gTT6b7PNNotzzjknO+q2+Ec/+lGcccYZdS9H+oPu7rvvjpEjR0b6CVhaRLfuQrrzPPT1hZVXXjl23nnnbOThrbfeGukoTFOnTq0VMCy855wAAQIECBAgQIAAAQKFAhtttFGMGzcuu5RmGG2xxRaFt2ud/+c//8m+p6nAhSlt/JEGODz44IPZkdYBnN9mIGnwREq5DUYKy3FeeQFTgCvfB1pAgEAVCqxQM+3wsccei1//+tdZUC9NQVxwwQUj/SF6ySWXZCP46v50LPcaaRpwGiWY1gPcdNNNY7HFFotu3brFt771rWyK8KGHHpr94ZlG9NVNqexTTjkl+0M21ZemGUsECBAgQIAAAQIECJRWIA3Eq9RRqjfbbrvtsr+HpPIbGpSQAnfvvfde1ozvf//78zTnhz/8YXbto48+mm85aXrw7bffbJa2fgAAQABJREFUnuVLAykK1w6cp0AXKiLQaU5NqkjNKiVAgECVCRx//PFxwgknZK1qz781pj+cc2tyvDT1taIuNFxlXao5BAgQaLFA/yG/aPGzHiRAgEB7FZjzxcfx+aSLstdLs10K14dri+9c+P/FN9z371h8idqj38rxTu+89Ub8YMM1SmZ60EEHxV/+8pes/LTDb1qeqDDNmDEjG+Tw5JNPZpfTTsRDhgwpzBJp/fK0pNGHH34Yyy23XDZQYpFFFsnnSdOD0wyoG26Yu+TAnXfeGZtsskn+vpPqEDC0pDr6QSsIECBAgAABAgQIECBAgAABAkUVSAMcll122azMPfbYI0aNGhV33XVXFsRL04PT9N5c8O/AAw+cJ/iXHlx44YWztdDT+SuvvBLrrbdeXHjhhTFx4sRImyemqcW54F9aB13wL0lVX7IGYPX1iRYRIECAAAECBAgQIECAAAEC5RTIzf8tZ52prlRvCdOAAQPiX//6V6TpwGlDwj//+c/ZUbfKvffeO/74xz/WvZz/fsABB8Sbb74Zv//97yOtJ5jy103Dhw+PCy64oO5l36tEwAjAKukIzSBAgAABAgQIECBAgAABAgQIFFsgbVSYRvmdeuqp2ei9NKIvbeSRpnD/+Mc/jjRl9/zzz8+vFzi/+tNowvvuuy922223bEmhVEZa7zyNALzsssti/Pjx0aNHj/k97nqFBYwArHAHqJ4AAQIECBAgQIAAAQIECBAgUEqB3r17x1FHHZUdranne9/7XqRDansCAoBtr8+0mAABAgQIECBAgAABAgQIECiiQKeaubjpn3KnStRZ7ndUX3UImAJcHf2gFQQIVIFA2gU47f7bnncArgJmTSBAgAABAgQIECBAgACBMgsYAVhmcNURIECAAAECBAgQIECAAAEC1SXQqWbwXzrKnSpRZ7nfUX3VIWAEYHX0g1YQIECAAAECBAgQIECAAAECBAgQKImAAGBJWBVKgAABAgQIECBAgAABAgQIECBAoDoETAGujn7QCgIECBAgQIAAAQIECBAgQKBCAmn2bwVmAFekzgoRq7bCAkYAVrgDVE+AAAECBAgQIECAAAECBAgQIECglAJGAJZSV9kECBAgQIAAAQIECBAgQIBA9QsYAlj9faSFrRIwArBVfB4mQIAAAQIECBAgQIAAAQIECBAgUN0CAoDV3T9aR4AAAQIECBAgQIAAAQIECBAgQKBVAqYAt4rPwwQIECBAgAABAgQIECBAgEBbF+hUsx1H+qfcqRJ1lvsd1VcdAkYAVkc/aAUBAgQIECBAgAABAgQIECBAgACBkggYAVgSVoUSIECAAAECBAgQIECAAAECbUWgU83gv3SUO1WiznK/o/qqQ8AIwOroB60gQIAAAQIECBAgQIAAAQIECBAgUBIBAcCSsCqUAAECBAgQIECAAAECBAgQIECAQHUImAJcHf2gFQQIECBAgAABAgQIECBAgECFBNLs3wrMAK5InRUiVm2FBYwArHAHqJ4AAQIECBAgQIAAAQIECBAgQIBAKQUEAEupq2wCBAgQIECAAAECBAgQIECAAAECFRYwBbjCHaB6AgQIECBAgAABAgQIECBAoMIC5gBXuANUX2oBIwBLLax8AgQIECBAgAABAgQIECBAgAABAhUUMAKwgviqJkCAAAECBAgQIECAAAECBCov0KlmO470T7lTJeos9zuqrzoEjACsjn7QCgIECBAgQIAAAQIECBAgQIAAAQIlERAALAmrQgkQIECAAAECBAgQIECAAAECBAhUh4ApwNXRD1pBgAABAgQIECBAgAABAgQIVEqgZvZvp/LPAK6ptFIvrN6OJmAEYEfrce9LgAABAgQIECBAgAABAgQIECDQoQSMAOxQ3e1lCRAgQIAAAQIECBAgQIAAgboCaSBeJQbjVaLOuu/ue8cQMAKwY/SztyRAgAABAgQIECBAgAABAgQIEOigAgKAHbTjvTYBAgQIECBAgAABAgQIECBAgEDHEDAFuGP0s7ckQIAAAQIECBAgQIAAAQIEGhIwH7chHffauIARgG28AzWfAAECBAgQIECAAAECBAgQIECAQEMCRgA2pOMeAQIECBAgQIAAAQIECBAg0O4FOtVsAZL+KXeqRJ3lfkf1VYeAEYDV0Q9aQYAAAQIECBAgQIAAAQIE/n/27gM+imp9+PgTCAkdRDpEQm9KkSKCFBFRFLArqCCIoOJVQRFFQCygcNULIgoiKEUvTVS8giJXEZEXpPfeEzpKDR3y7nP8z9xJsunJ7uzu79xPsrMzZ+ac+Q6fve6T55yDAAIIIJAtAgQAs4WViyKAAAIIIIAAAggggAACCCCAAAIIIOAOAYYAu+M50AsEEEAAAQQQQAABBBBAAAEEEPCTQJhn9K/++Lr4o01f3yPtuUOADEB3PAd6gQACCCCAAAIIIIAAAggggAACCCCAQLYIEADMFlYuigACCCCAAAIIIIAAAggggAACCCCAgDsEGALsjudALxBAAAEEEEAAAQQQQAABBBBAwE8COvrXDyOA/dKmn4hp1s8CZAD6+QHQPAIIIIAAAggggAACCCCAAAIIIIAAAtkpQAZgdupybQQQQAABBBBAAAEEEEAAAQQQcL8AKYDuf0b0MFMCZABmio+TEUAAAQQQQAABBBBAAAEEEEAAAQQQcLcAAUB3Px96hwACCCCAAAIIIIAAAggggAACCCCAQKYEGAKcKT5ORgABBBBAAAEEEEAAAQQQQACBQBcI8yzHof/zdfFHm76+R9pzhwAZgO54DvQCAQQQQAABBBBAAAEEEEAAAQQQQACBbBEgAzBbWLkoAggggAACCCCAAAIIIIAAAggEikCYJ/lPf3xd/NGmr++R9twhQAagO54DvUAAAQQQQAABBBBAAAEEEEAAAQQQQCBbBAgAZgsrF0UAAQQQQAABBBBAAAEEEEAAAQQQQMAdAgwBdsdzoBcIIIAAAggggAACCCCAAAIIIOAnAR3964cRwH5p00/ENOtnATIA/fwAaB4BBBBAAAEEEEAAAQQQQAABBBBAAIHsFCADMDt1uTYCCCCAAAIIIIAAAggggAACCLhfgBRA9z8jepgpATIAM8XHyQgggAACCCCAAAIIIIAAAggggAACCLhbgACgu58PvUMAAQQQQAABBBBAAAEEEEAAAQQQQCBTAgwBzhQfJyOAAAIIIIAAAggggAACCCCAQKAL/D0C2PfLgPi+xUB/UvQ/owJkAGZUjvMQQAABBBBAAAEEEEAAAQQQQAABBBAIAAECgAHwkOgiAggggAACCCCAAAIIIIAAAggggAACGRVgCHBG5TgPAQQQQAABBBBAAAEEEEAAAQSCQ8AzFjfMH+Nx/dFmcDwx7iKdAmQAphOM6ggggAACCCCAAAIIIIAAAggggAACCASSAAHAQHpa9BUBBBBAAAEEEEAAAQQQQAABBLJcQBPx/PWT5TeTxgv27dvXk/UYZv/8+uuvqZ75448/yr333itly5aVyMhI86rvdT/F3QIEAN39fOgdAggggAACCCCAAAIIIIAAAgggkKUCa9askeHDh6f5mvHx8fLkk09KmzZt5JtvvpF9+/bJhQsXzKu+1/16XOtR3ClAANCdz4VeIYAAAggggAACCCCAAAIIIIAAAlkucOXKFenevbtcunRJihcvnqbrDxgwQMaOHWvq1q1bV6ZMmSJLly41r/peix4fOHCg2eaX+wQIALrvmdAjBBBAAAEEEEAAAQQQQAABBBDwpYC/xv/6YRGQkSNHyrJly6RatWrSrVu3VJW3b98u//znP029+vXry6JFi6RDhw7SoEED8/r777+L7tcybNgw2bFjh9nml7sECAC663nQGwQQQAABBBBAAAEEEEAAAQQQQCBbBGJiYuwsvdGjR0tERESq7ehQYc0W1PLhhx9Knjx5EpyTN29es193ar0RI0YkOM4bdwgQAHTHc6AXCCCAAAIIIIAAAggggAACCCDgJwHPUhh++58vb7lnz55y+vRpeeyxx6RFixapNq1z+s2aNcvU04zBRo0aeT1H91etWtUc+/bbb5kL0KuSf3cSAPSvP60jgAACCCCAAAIIIIAAAggggAAC2S4wffp0+f7776VIkSLy7rvvpqm9Xbt2mYU+tHLz5s1TPMc6HhsbK7t3706xLgd9L0AA0PfmtIgAAggggAACCCCAAAIIIIAAAgj4TOD48ePy/PPPm/Z0nr5ixYqlqe1NmzbZ9TQDMKXiPO48L6VzOOY7gXDfNUVLCCCAAAIIIIAAAggggAACCCCAgPsEwjyLceiPr4uzzQMHDqTafNmyZVOt461C37595eDBg9K4ceM0LfxhXUPnDLRKam1HRUVZVcV5nr2TDb8KEAD0Kz+NI4AAAggggAACCCCAAAIIIIAAAiINGzZMlUHn5Etv0VV6x40bJ+Hh4TJmzBhPoDPtkc5Tp07ZzeXPn9/e9raRL18+e7fOM0hxlwABQHc9D3qDAAIIIIAAAggggAACCCCAAAI+FtCQWNrDYlnXuexu88KFC9KjRw+zKEfv3r3luuuuS1fnz507Z9dPbcXgyMhIu+7Zs2ftbTbcIUAA0B3PgV4ggAACCCCAAAIIIIAAAggggEAICyxdulRKlSqVpQJvv/226Hx811xzjQwaNCjd186dO7d9jgYTUyrnz5+3D+fJk8feZsMdAgQA3fEc6AUCCCCAAAIIIIAAAggggAACCISwgAb/UptnLz08mzdvlnfeecec8uGHH4pziG5ar1OgQAG7amrDeuPi4uy6qQ0Xtiuy4TMBAoA+o6YhBBBAAAEEEEAAAQQQQAABBBBwpUAQjgEePny4aNZehQoV5MyZMzJ16tQk9OvXr7f3/fLLL2ahEN3Rrl07EzB0BiRjY2Ptut42nAt/OBcE8VaXfb4XIADoe3NaRAABBBBAAAEEEEAAAQQQQAABBLJVwBqSu3PnTunYsWOqbb311lt2nV27dpkAYI0aNex9mlGYUnEer169ekpVOeYHgRx+aJMmEUAAAQQQQAABBBBAAAEEEEAAAQRcLlC+fHkpXbq06eWCBQtS7O1vv/1mjpcpU0aio6NTrMtB3wsQAPS9OS0igAACCCCAAAIIIIAAAggggICLBMI8awD763/ZxTBhwgSz+m98fHyyr86FQebPn2/XswJ4YWFhctddd5kuaobfkiVLvHZX91sZgFpfz6O4S4AAoLueB71BAAEEEEAAAQQQQAABBBBAAAEEXCPQq1cvCQ//ewa5Z599Vs6ePZugb/pe92vRelqf4j4BAoDueyb0CAEEEEAAAQQQQAABBBBAAAEEfChg1gDx/NLENZ/++PAeM9pUlSpVpE+fPub05cuXS5MmTWTatGmi2/qq73Vby0svvSSVK1c22/xylwCLgLjredAbBBBAAAEEEEAAAQQQQAABBBBAwFUCQ4YMkcOHD8tnn30mq1atkg4dOiTpX7du3WTw4MFJ9rPDHQJkALrjOdALBBBAAAEEEEAAAQQQQAABBBBAwJUCOXLkkPHjx8vs2bPNnIC6MEhERIRZIETn/JszZ46MGzdOtB7FnQJkALrzudArBBBAAAEEEEAAAQQQQAABBBDwkYAZAuyjtpzNaLv+LK+//rroT1rLHXfcIfpDCTwBQrOB98zoMQIIIIAAAggggAACCCCAAAIIIIAAAmkWIAMwzVRURAABBBBAAAEEEEAAAQQQQACBYBSwFv7w9b1puxQEfCFABqAvlGkDAQQQQAABBBBAAAEEEEAAAQQQQAABPwkQAPQTPM0igAACCCCAAAIIIIAAAggggAACCCDgCwGGAPtCmTYQQAABBBBAAAEEEEAAAQQQQMDFAqG6DIiLHwldy1IBMgCzlJOLIYAAAggggAACCCCAAAIIIIAAAggg4C4BMgDd9TzoDQIIIIAAAggggAACCCCAAAII+FrAkwDolwU5WATE1086ZNsjAzBkHz03jgACCCCAAAIIIIAAAggggAACCCAQCgIEAEPhKXOPCCCAAAIIIIAAAggggAACCCCAAAIhK8AQ4JB99Nw4AggggAACCCCAAAIIIIAAAgioAEuA8O8g2AXIAAz2J8z9IYAAAggggAACCCCAAAIIIIAAAgiEtAABwJB+/Nw8AggggAACCCCAAAIIIIAAAggggECwCzAEONifMPeHAAIIIIAAAggggAACCCCAAAIpCugKwP5YBdgfbaYIwcGgFSADMGgfLTeGAAIIIIAAAggggAACCCCAAAIIIICACBmA/CtAAAEEEEAAAQQQQAABBBBAAIGQFgjzLAOi//N18Uebvr5H2nOHABmA7ngO9AIBBBBAAAEEEEAAAQQQQAABBBBAAIFsESAAmC2sXBQBBBBAAAEEEEAAAQQQQAABBBBAAAF3CDAE2B3PgV4ggAACCCCAAAIIIIAAAggggIC/BHT0r+9HAPunTX8Z065fBcgA9Cs/jSOAAAIIIIAAAggggAACCCCAAAIIIJC9AmQAZq8vV0cAAQQQQAABBBBAAAEEEEAAAZcLkADo8gdE9zItQAZgpgm5AAIIIIAAAggggAACCCCAAAIIIIAAAu4VIADo3mdDzxBAAAEEEEAAAQQQQAABBBBAAAEEEMi0AEOAM03IBRBAAAEEEEAAAQQQQAABBBBAIJAFwjxjgPXH18Ufbfr6HmnPHQJkALrjOdALBBBAAAEEEEAAAQQQQAABBBBAAAEEskWADMBsYeWiCCCAAAIIIIAAAggggAACCCAQKAJh8vf/fN1fbZWCgC8EyAD0hTJtIIAAAggggAACCCCAAAIIIIAAAggg4CcBAoB+gqdZBBBAAAEEEEAAAQQQQAABBBBAAAEEfCHAEGBfKNMGAggggAACCCCAAAIIIIAAAgi4V0BH4vpjNK4/2nTvU6Bn2ShABmA24nJpBBBAAAEEEEAAAQQQQAABBBBAAAEE/C1ABqC/nwDtI4AAAggggAACCCCAAAIIIICAXwVIAPQrP437QIAMQB8g0wQCCCCAAAIIIIAAAggggAACCCCAAAL+EiAA6C952kUAAQQQQAABBBBAAAEEEEAAAQQQQMAHAgwB9gEyTSCAAAIIIIAAAggggAACCCCAgHsFwjxjgPXH18Ufbfr6HmnPHQJkALrjOdALBBBAAAEEEEAAAQQQQAABBBBAAAEEskWAAGC2sHJRBBBAAAEEEEAAAQQQQAABBBBAAAEE3CHAEGB3PAd6gQACCCCAAAIIIIAAAggggAACfhMIE/2f74s/2vT9XdKi/wXIAPT/M6AHCCCAAAIIIIAAAggggAACCCCAAAIIZJsAGYDZRsuFEUAAAQQQQAABBBBAAAEEEEAgEARYBCQQnhJ9zIwAGYCZ0eNcBBBAAAEEEEAAAQQQQAABBBBAAAEEXC5AANDlD4juIYAAAggggAACCCCAAAIIIIAAAgggkBkBAoCZ0eNcBBBAAAEEEEAAAQQQQAABBBBAAAEEXC5AANDlD4juIYAAAggggAACCCCAAAIIIIAAAgggkBkBFgHJjB7nIoAAAggggAACCCCAAAIIIIBAwAuEee5AFwLxdfFDk76+RdpziQAZgC55EHQDAQQQQAABBBBAAAEEEEAAAQQQQACB7BAgAJgdqlwTAQQQQAABBBBAAAEEEEAAAQQQQAABlwgwBNglD4JuIIAAAggggAACCCCAAAIIIICAfwTC5O//+bp1bZWCgC8EyAD0hTJtIIAAAggggAACCCCAAAIIIIAAAggg4CcBMgD9BE+zCCCAAAIIIIAAAggggAACCCDgDgFdAMQvi4CQAOiOfwAh0AsyAEPgIXOLCCCAAAIIIIAAAggggAACCCCAAAKhK0AAMHSfPXeOAAIIIIAAAggggAACCCCAAAIIIBACAgwBDoGHzC0igAACCCCAAAIIIIAAAggggEDyAjoS1x+jcf3RZvIKHAlmATIAg/npcm8IIIAAAggggAACCCCAAAIIIIAAAiEvQAAw5P8JAIAAAggggAACCCCAAAIIIIAAAgggEMwCDAEO5qfLvSGAAAIIIIAAAggggAACCCCAQOoCjAFO3YgaAS1ABmBAPz46jwACCCCAAAIIIIAAAggggAACCCCAQMoCZACm7MNRBBBAAAEEEEAAAQQQQAABBBAIcoEwzxIg+j9fF3+06et7pD13CJAB6I7nQC8QQAABBBBAAAEEEEAAAQQQQACBLBVYuXKlvP3229KmTRuJioqSyMhIyZ8/v1SpUkW6dOkiCxcuTFd7P/74o9x7771StmxZcy191fe6n+JuATIA3f186B0CCCCAAAIIIIAAAggggAACCCCQboHmzZvLb7/9luS8CxcuyLZt28zPxIkTpVOnTjJu3DiJiIhIUtfaER8fL0899ZSMHTvW2mVe9+3bJ99884356dGjh4wZM0bCwnyfSZmgU7zxKkAGoFcWdiKAAAIIIIAAAggggAACCCCAQKgIaMzKXz/ZZazBOS2lS5eW559/Xr766itZunSpLF68WP71r39JmTJlzPHJkyebbEDzJplfAwYMsIN/devWlSlTpphr6au+16LBwYEDByZzBXb7WyDME8WN93cnaB8BBBBAwHcCsbGxJv1fW9y2K8ak7/uudVpCAAEEAkPgqgb/CIyO0ksEEEDAhwLxF07L+Y0TTYsxMYH/35HO/y7esmOvlPEMZ/V12ef5b/OqFa/JFtO2bdtK586d5b777pOcOXMmubWjR49KkyZNZOvWreaYZgs2bdo0Sb3t27dL9erV5dKlS1K/fn2TVZgnTx673pkzZ0SzDZcvXy7h4eGyefNmqVixon2cDXcIkAHojudALxBAAAEEEEAAAQQQQAABBBBAwE8COmjVXz/Zdcvff/+9PPjgg16Df9pm0aJF5f3337eb1wxBb2X48OEm+KfHPvzwQ3EG/3Rf3rx5zX7d1iDhiBEjdJPiMgECgC57IHQHAQQQQAABBBBAAAEEEEAAAQQQ8IVAixYt7GZ27Nhhb1sbOmh01qxZ5m21atWkUaNG1qEEr7q/atWqZt+3334rDDZNwOOKNwQAXfEY6AQCCCCAAAIIIIAAAggggAACCCDgWwFdEMQqOXIkDRHt2rVLrLkEdZhvSsU6rkOrd+/enVJVjvlBIOnT9UMnaBIBBBBAAAEEEEAAAQQQQAABBBDwm4C/xv9qu34sCxYssFvXDL/EZdOmTfYub8ftg54N53Hnec46bPtPINx/TdMyAggggAACCCCAAAIIIIAAAggggIAKHDhwIFWIslm4UMmVK1dk6NChdps6X2Dioou9WCW1tqOioqyq4jzP3smGXwUIAPqVn8YRQAABBBBAAAEEEEAAAQQQQMD/AmGeRUD8kY73vzYbNmyYKkNWzq2ni3ssXbrUtHnPPfeYFX4Td+DUqVP2rvz589vb3jby5ctn7z59+rS9zYY7BBgC7I7nQC8QQAABBBBAAAEEEEAAAQQQQAABnwjo0N9XXnnFtFW8eHEZPXq013bPnTtn74+IiLC3vW1ERkbau8+ePWtvs+EOATIA3fEc6AUCCCCAAAIIIIAAAggggAACCISwgGbjlSpVKtsFNmzYIJrxd+nSJdGg3fTp06VEiRJe282dO7e937lgiL3TsXH+/Hn7XZ48eextNtwhQADQHc+BXiCAAAI+E9D/o7dKWuYZseryigACCISSQPwFhi6F0vPmXhFAIG0C8Rfj7IrO/6a0dwbwxqGDByTsf6NxfXYn2q5VNPiX2jx7Vt2Mvuqqvq1bt5Zjx45Jzpw5ZcqUKWKt3uvtmgUKFLB3pzasNy7uf/8+UhsubF+UDZ8JEAD0GTUNIYAAAu4QOHLkiN2RZo1Tn2fErswGAggggAACCCCAAAL/J6D/TRkdHR00Hk1D4L+L9+/fL61atRJ9DfNEOz/77DOTCZjSQ3QGJGNjY1OqmmDhD+eCICmexEGfCTAHoM+oaQgBBBBAAAEEEEAAAQQQQAABBBDwvcDRo0fl1ltvlZ07d5rGP/zwQ+ncuXOqHalRo4ZdZ/Pmzfa2tw3n8erVq3urwj4/CoR5VpCJ92P7NI0AAggg4GMBnch33bp1ptVixYpJeDjJ4D5+BDSXSECHolur3vlq7ptEXeAtAggg4EoBPh9d+VhCulM67NcaTXLdddeJc364QITR+zl48KBrul6yZMls+W/zEydOSMuWLWXlypXmXocOHSovv/xymu5bQ0aaBahZg9WqVZNNmzYle54G/TQIWKZMGZMNqFmGFPcI8K3PPc+CniCAAAI+EdD/UGvQoIFP2qIRBNIr4Iu5b9LbJ+ojgAACbhDg89ENT4E+qEAwDfvVP4Q7h7gG4xM+c+aM3HnnnXbwr3///mkO/qmHBvHuuusus0qwBveWLFkijRo1SkKl+60MQK1P8C8Jkd93MATY74+ADiCAAAIIIIAAAggggAACCCCAAAJZK6Cr9upqv4sWLTIXfv7552Xw4MHpbqRXr152ZuKzzz4rZ8+eTXANfa/7tWhQVetT3CdABqD7ngk9QgABBBBAAAEEEEAAAQQQQAABBDIl0LFjR/npp5/MNXQIcLdu3WT9+vXJXjMiIkKqVKmS5Lju69Onj+jQ4eXLl0uTJk1MFmHFihVlx44dMmzYMFm1apU576WXXpLKlSsnuQY7/C/AHID+fwb0AAEEEEAAgZAW0BXlrJXiYmJign4oTkg/bG4eAQTSJcDnY7q4qIwAAokE0jsMt1y5crJ79+5EV/n77ZUrV6R79+5m5WCvFTw7NcA4duxYyZGDwabJGflzP0/Fn/q0jQACCCCAAAIIIIAAAggggAACCLhcQIN648ePl9mzZ5s5AUuXLi2aMaivOuffnDlzZNy4cQT/XPwcGQLs4odD1xBAAAEEEEAAAQQQQAABBBBAAIGMCOgKvlld7rjjDtEfSuAJkAEYeM+MHiOAAAIIIIAAAggggAACCCCAAAIIIJBmAQKAaaaiIgIIIIAAAggggAACCCCAAAIIIIAAAoEnwCIggffM6DECCCCAAAIIIIAAAggggAACCCCAAAJpFiADMM1UVEQAAQQQQAABBBBAAAEEEEAAAQQQQCDwBAgABt4zo8cIIIAAAggggAACCCCAAAIIIIAAAgikWYAAYJqpqIgAAggggAACCCCAAAIIIIAAAggggEDgCRAADLxnRo8RQAABBBBAAAEEEEAAAQQQQAABBBBIswABwDRTUREBBBBAAAEEEEAAAQQQQAABBBBAAIHAEyAAGHjPjB4jgAACCCCAAAIIIIAAAggggAACCCCQZgECgGmmoiICCCCAAAIIIIAAAggggAACCCCAAAKBJ0AAMPCeGT1GAAEEEEAAAQQQQAABBBBAAAEEEEAgzQIEANNMRUUEEEAAAQQQQAABBBBAAAEEEEAAAQQCT4AAYOA9M3qMAAIIIIAAAggggAACCCCAAAIIIIBAmgUIAKaZiooIIIAAAggggAACCCCAAAIIIIAAAggEngABwMB7ZvQYAQQQQAABBBBAAAEEEEAAAQQQQACBNAsQAEwzFRURQAABBBBAAAEEEEAAAQQQQAABBBAIPAECgIH3zOgxAggggAACCCCAAAIIIIAAAggggAACaRYgAJhmKioigAACCCCAAAIIIIAAAv4TuHz5sv8ap2UEEEAAgYAWIAAY0I+PziOAAAIIIIAAAggggEAwC1y6dMncngb/cubMKTExMbJw4cJgvmXuDQEEEEAgGwQIAGYDKpdEAAEEEEAAAQQQQAABBDIj0KtXL4mNjZXw8HA5d+6cCf7t2bNHatSoIc2bN5fly5dn5vKciwACCCAQYgIEAEPsgXO7CCCAAAIIuEngypUrbuoOfUEAAQRcIfCPf/xDRo4cKS1atJC9e/dK7ty5Zfv27XLTTTdJXFyc1KxZU/Lnz++KvtIJBBBAAIHAEAgPjG7SSwQQQAABBBAINgFrOJve16xZs2Tr1q3mC26RIkWkc+fOUqpUKSlcuHCw3Tb3gwACCKQo8Ndff5lsv6ioKNm5c6e0atVKJk+eLA899JDs27dPbrzxRvn000+lWrVqKV6HgwgggAACCDgFwuI9xbmDbQQQQAABBBBAILsFNPMvR46/ByK89dZb8uabb4rus/6zRL/43nfffdKpUyepW7dudneH6yOAAAKuEtChv2PGjJEvvvjCZADqMGCdC7BZs2bywQcfSO3atV3VXzqDAAIIIOB+AQKA7n9G9BABBBBAAIGgFRg+fLi8+OKL5v40m0WDgsePH5f9+/eb4W316tUTDRDqsDcKAgggEEoCFy9elBdeeEHGjh0rYWFh5vNx9uzZcvPNN4szgzqUTLhXBBBAAIGMCxAAzLgdZyKAAAIIIIBAJgQ2bNgg7dq1k927d8s777wjd999txQrVkyOHTsmPXv2lJ9//tlcXTMA//Wvf0nTpk0z0RqnIoAAAoElcOLECSlbtqyZ80/nANSFQMqXLy+///67mSJBMwI1M5CCAAIIIIBAWgRYBCQtStRBAAEEEEAAgSwX2LVrlwn+Pffcc6IT3letWlV0/r+KFSvK119/Ld26dZM8efLIypUrpXfv3rJw4cIs7wMXRAABBNwooNMhLF682GT96WejToegwUD93NSMaM2StoYFu7H/9AkBBBBAwH0CBADd90zoEQIIIIAAAiEhsGXLFnOft956q+TLl8++Zx3apu9HjBghjz76qOTNm1dWrVpFENAWYgMBBIJRwJoDVe9Nh/xq1vN3331nsqEHDRokjz32mJQpU8YEAfUYQcBg/FfAPSGAAALZJ0AAMPtsuTICCCCAAAIIeAR0cQ9vJX/+/KLD2m655RZz2PrymzNnTjO/lWb/6dBfgoDe9NiHAALBJKCfkxr002G+27dvlzVr1pg/hGigr3Tp0ubnySeflC5duhAEDKYHz70ggAACPhQgAOhDbJpCAAEEEEAg1AQ0m89a7Vcnr9eAng73HTx4sNmvx//44w/Dol9+rUIQ0JLgFQEEgl3A+pw8dOiQvPTSS3L77beb1c/nzJljf36qgQ4BTk8Q8N///rfMmzcv2Pm4PwQQQACBNAowa2waoaiGAAIIIIAAAukT0IwWDeRp0UU+dDVfzW6xig7t1VUuN2/eLM2bNzeZglawUOskDgLqvi+++MIMB+7bt68MGTJEWrZsqbspCCCAQEAKaPBPP+tiYmLk/vvvl2XLlkmJEiVEV0X3VqwgoB6bMGGCPRx4wYIFJkBonTNp0iSTLajv9TO2SpUq1iFeEUAAAQRCVIBVgEP0wXPbCCCAAAII+EpAs/769OljmtMvoTr0d8eOHaIrXGqJjIwU/fLasGFD0WHAzkxAPW59QT579qy88MILMm3aNDl+/LgJGmqGjA4VpiCAAAKBJqB/JNE/esTGxkqLFi1k586dUqdOHXnxxRelVatWJhCY3D3pOZ988okJAu7bt0+io6Plyy+/lFy5csny5cvNSup6bvfu3U295K7DfgQQQACB0BEgABg6z5o7RQABBBBAwOcCq1evlvbt25svuG+//bbce++9EhUVJXv27DFBQf2ievjwYfPldcaMGVKvXr1Ug4A9evSQ+fPny08//SQ1atTw+T3RIAIIIJBVAseOHZPOnTuLTpHQoEEDGTNmjNSqVcvOnk6pHQ38jRs3TiZOnGhWVL/66qslIiJCDh48aD5HdfX0999/31zC+kNKStfjGAIIIIBAcAsQAAzu58vdIYAAAggg4FOBxF8yZ86cKQ8++KCZ908DgM7VfnW+q6FDh8r06dPlwIEDUqFCBbN9/fXXew0CWtkymgmoGYClSpXy6b3RGAIIIJBVAtbn2ddff22y9TTzeezYsdK2bdskWdAptamfo7pS8PDhw81QX62rKwXrH0oGDhxoTk38uZzS9TiGAAIIIBC8AswBGLzPljtDAAEEEEDApwI6fNea80/n53v44YclLi7OBPN0OJsz+KdffnWeqwEDBpghcFOnTjXD3zRYqAFBb0FAHSqn5+mQX4b9+vTR0hgCCGSxgDXf6ffff2+yoOvXry833nhjuoJ/2iX9HO3WrZvJtNZMQJ0jUAOAOq+qFoJ/hoFfCCCAAAIeATIA+WeAAAIIIIAAAlkqMGzYMOnXr5+ULFlSOnToIPoFVye2L1SoUIKFPqz5/v7880/R7EANAqYlEzBLO8vFEEAAAT8KNGnSRBYvXmxW/9XPzowE7KxswsS3kdz+xPV4jwACCCAQGgI5QuM2uUsEEEAAAQQQ8IXA6dOnRQN6Os+fzkM1cuRI2b59uwkAavtW1otu65A3DQLqvFWvvvqqdOzY0Qzr1YnwNRNw5cqVpo5+iaUggAACwSag0xnoPH5a9u7da16tLGrzxssv6/PwwoUL9lHrc1U/T53F2u/cxzYCCCCAQOgKEAAM3WfPnSOAAAIIIJDlArrCr67UqytP6jA0/bKqk9KvXbvWtGV9ebUadgYBNWvQGQR85JFH5I8//kgQNLTO4xUBBBAIZAEN1ulUBroyupajR4+KBgS1JA7kmZ3/98sK6ulKwbpwkrMkXkHdeYxtBBBAAAEEcr7uKTAggAACCCCAAALpFdBgnvMLpxXcK1CggP2lVrP/dJVLzea7/fbbzbBgHeJmfYnVNq0gYN68ec0qwLrAh2bFaCbgihUrpEuXLmZuQWdb6e0r9RFAAAF/CWhAz/r8srat97oiuq5qvmvXLvO5Wbt2bfsz0aqTuN8LFy40C4fMmzdPHn/88QTzqyauy3sEEEAAAQQsATIALQleEUAAAQQQQCDNAs4g3oIFC+TIkSN2UE+/4Or8f7oK5RNPPCHlypUz2S233Xab+ZKrQ9z0fGfRL7p6ng4H1kxADRZWrVpVdFL7yMhI+8uz8xy2EUAAATcL6GeaFmcgz9q2PgPvvPNOueGGG0y9vn37yty5c+1zrPPNjv/7dfLkSfnmm28kV65c0q5dOzO3qvM42wgggAACCCQnQAZgcjLsRwABBBBAAIFkBawMvqeeekpee+010ey96tWrm1frJM0E1CCeZgZqdotm9emQtXvuuccE+pxBRD3HCgLqtRo3biydO3eWChUqWJfjFQEEEAgYAevzTTOaNZP5q6++kiVLlsjq1aulWLFiEh4ebv64odu7d+82dTS4p8ejo6OlcuXKCQKHeuNnzpyRCRMmyKBBg8zUChow1IxBCgIIIIAAAmkRYBXgtChRBwEEEEAAAQSSCBw6dMgs2qEHqlWrJo899pjJ+NMsPitzRYN6uhjI2LFj5fPPPxcd7laqVCnRIWwa3NMvyYknvddzrSyZJI2yAwEEEHC5gPW5FhMTY4bobtq0Sfbv32/3Wj8DmzVrZuZKbdmypZw/f95MdTBt2jRTR+dSHTp0qGjW9DXXXGOy/TTT+r///a8MGTLE1Hnrrbekf//+ZpvPTJuWDQQQQACBFAQIAKaAwyEEEEAAAQQQ8C5gfeFct26d6BdYXfm3UqVK0q1btywJAnpvlb0IIICAuwWsz8bY2Fjz2ajzoObOndtk7Fnzpp46dcr8kUOzAD/99FOT7Xzu3DkTEJw9e7Zo1qAW/cOKZlLr+evXrzfzqep+XQDk3Xff1U2TYW1lZJsd/EIAAQQQQCAZAQKAycCwGwEEEEAAAQRSFrCyXPSLadOmTeXEiRMZDgJeunTJDIlLuUWOIoAAAu4X0KG8uoq5BvPq169vFuzQz0j9zNTVft98801ZtWqVmTtV7+ajjz6Sp59+2mQCjhgxQn755RfRBT40sGctrqTb1157rXTq1MkEAPU86zNYtykIIIAAAgikJkAAMDUhjiOAAAIIIIBAsgLWF9CMBgGjoqLMsDad74qCAAIIBKqABuqsTLy1a9dK69atpWjRojJ58mQzT591TO9P5/LToN/UqVNNIFD3ffnll9KxY0c7SPj999/Ljh07ZOvWrXLVVVdJq1atTEagNeef9dmr51IQQAABBBBIiwABwLQoUQcBBBBAAIEQFbCGs6V0+9YX0fQGAb/44gvR4XG6UIh+YdbhcMz9l5I0xxBAwI0C1megzotaokQJ+fbbb+Xee++VV1991SzYoSv2WsWqq/P+6SrnH3/8sfn8K1KkiMyaNUuaNGliVU321RlsTLYSBxBAAAEEEEgkkCPRe94igAACCCCAQAgKWMPMnLeuX1StgNzhw4edhxJs6yIeWleHp/3+++9SuHBhE9gbP368md9K5we0rqMBxZIlS8qTTz4p9913n9SqVUumTJliJrm36iS4OG8QQAABlwvoZ6Cu5KuLe9x5553m80zn7bv++uvNtrP7Wlc/ByMjI83cf3fffbdZPV2zAjUAqJ/F+nmaUnFmE6ZUj2MIIIAAAgg4BcgAdGqwjQACCCCAQIgJ6FxVBQsWNHdtZaYkJujZs6ds3rxZPvzwQ6lZs2biw/Z76/wNGzbITTfdZOYErFixolkYpHv37pJ4dWANKuoXWR0mR0EAAQQCVUA/+/r06SMffPCBuQUNBOrq5zNmzDCZgN4yqa19cXFxcsstt8jSpUvNHKp//PGHGfIbqBb0GwEEEEDAvQI5X/cU93aPniGAAAIIIIBAdgns2rXLzFOlGXrNmjWz569ytjd//nx57rnnTHaLBuw0y69YsWLOKva2BvP0i7AOgbvxxhtl5syZokPidB4rze6rXr26yXSxTsifP3+C99Z+XhFAAIFAEtDPPv1s1D+obNy40V7FN2/evOYz1jkE2Lov/UzUz0vNBNTjP/zwg+jqwDp3YLly5axqvCKAAAIIIJBlAgQAs4ySCyGAAAIIIBA4AqdPn5Z27drJ6tWrZdmyZWb+PW9zTxUoUMBkCP7666/mi+3+/fvluuuuSzEIqEPYNAMmJibGTHB//PhxEwTUOf6qVKki+fLls4cEB44YPUUAAQSSF9BMal3xV//osWnTJhPc0wCfLt6hfzTR7cRDd633ujKwzol64cIFefDBB00mYPItcQQBBBBAAIGMCTAHYMbcOAsBBBBAAIGAFtDsuyeeeMJ8MdVgYKNGjRLcjw5P06LDc59++mkZPHiwea+T2w8YMMAEA80OL7/0S63Of1WjRg0z15Vmt+z2zI81bNgws9Klt/kGvVyGXQgggEBACZQuXVrefvtts5qvZvatW7fODA3Wm9C5/5L77NuzZ49cunTJZAIyJUJAPXI6iwACCASUAAHAgHpcdBYBBBBAAIHMC1hfQnv06GGCcrpwR9OmTRNcWIen6RdSLbo6pdYdMmSIeZ9aENC6/jXXXCNly5aVSZMmmfP++usvadu2bZIsGHOQXwgggEAQCDiDgPqHEB3ae88995jPUyvjz/ps1dvVYb+aia3HbrjhBtHzKQgggAACCGSHAAHA7FDlmggggAACCLhcwArSdenSRRo3bmz3VjP93njjDfNeh+xaX1R1AY/UgoBW1qB+kdWhbDp/YGxsrFkQRDNhdG6sSpUq2W2xgQACCASjgE6BoH8w6dChg8mG1tV9dXXgRYsWmXkC9bNVi86rOnHiRPnoo49MdmD79u0JAAbjPwjuCQEEEHCJwN//7+OSztANBBBAAAEEEMgeAV2IQ+f60y+kGqCzAoDO1nSI7muvvWaG/eoQ4RdffNHMDahBQP3CagUB9Zz+/fuLZgJq0XN0AnzrS63u02Dfzz//LLoKsE6EX6ZMGd1NQQABBEJCQIOA1tQJU6dOlXnz5pm5UHWBjzZt2si+ffvM6upz5841Hn379rWHC1srBIcEFDeJAAIIIOAzARYB8Rk1DSGAAAIIIOAfgQMHDpgVeKdNmybR0dFSp04dswiHBgF1qK9VNEtv7dq1ohPSr1q1yuzW7EANGGoQUF81mFezZk0pVKiQ/PLLL+YL7M6dO80E91WrVpUzZ87I8uXL5eWXX5YVK1bI7bffLnfffbdERERYzfCKAAIIhISALqLUsGFDk+mnC4PoZ6vOh7p48WLz+bh582bRxZf69Olj/qiiKN4WCwkJLG4SAQQQQCDbBcI8f2H6e5bvbG+KBhBAAAEEEEDAHwKaqadZeuvXrzfNjx8/Xrp27Wq2NQiogT2r6Hx9gwYNEp2Uvnjx4uaLqX451WJlAuq2zuen19FAnxZdAVMzBPVa586dM9ktUVFRZhhwhQoVTB1+IYAAAqEooH+E6devn2gmoE6PoCupf//99yZrWhdJshb+0OCfLhZCQQABBBBAIDsEyADMDlWuiQACCCCAgIsEqlSpYoJzOt/U3r175bvvvhNdoKNu3bp2JqA15Kx27dpSuHBhMyn9/v37Zc2aNeZOEmcC5smTx2S26Eq/OrRNg35//vmnHDt2TC5evGjm+ps9e7ZUrlzZRRJ0BQEEEPC9gJUJeOjQIZM1rZ+tOj/q448/brKqNfCn2djOP8b4vpe0iAACCCAQ7AIEAIP9CXN/CCCAAAIhLaCBPf1SqYE6DdodOXLEaxBQ61lBQB0inFIQ0BqippkqOvffHXfcYQJ9ek6DBg3kscceMxPgk/kX0v/0uHkEEHAIaBBQV/nVP8To0F+dbkF/HnroIfMZbX2uOk5hEwEEEEAAgSwVIACYpZxcDAEEEEAAAXcJaFaJFQTUufs0CJhcJmBGgoB6tyVKlDBfbO+77z656667TGagDgmmIIAAAgj8T8DKBLSCgDotgzMIaM21+r8z2EIAAQQQQCDrBAgAZp0lV0IAAQQQQMCVAt6CgFmRCehcRMS5bWUSuhKDTiGAAAJ+FEgtCEgmoB8fDk0jgAACQS5AADDIHzC3hwACCCCAgAp4CwJmNhNQr2kF/nTbKs5tax+vCCCAAAJ/C2gQUKdLcGYC/v7779K5c2fmAeQfCQIIIIBAtgkQAMw2Wi6MAAIIIICAuwS8BQEzmwnoDAK6627pDQIIIOBeASsTUBdPWrVqlezatUu6detmVlR3b6/pGQIIIIBAIAsQAAzkp0ffEUAAAQQQSKdAVgUBN27cKKdPn5bmzZub7MJ0doPqCCCAQMgLaBDw+uuvlwsXLsjEiROFhZNC/p8EAAgggEC2ChAAzFZeLo4AAggggIB/BKx5+KxXqxfWe51sXlfxtRYGSU8moE5cv2fPHomNjZWHH35Y8ubNa12eVwQQQACBdAjogkmtW7eW4sWLp+MsqiKAAAIIIJB+AQKA6TfjDAQQQAABBFwtoPPy5ciRw/RRM/40UKfDzE6ePGn2R0ZGmlernhUETOucgHr+3r175auvvpJy5cq52oLOIYAAAm4XsD6v3d5P+ocAAgggENgCYZ5MgPjAvgV6jwACCCCAAAKWgK4gqZl9WqZMmSI//PCDCdSFh4eLZv3pcLMHHnhAevbsKbly5bJOM4t5TJs2TUaPHi06Gb2W8ePHS9euXc22Bgu1WF9UT5w4IYUKFTL7+IUAAggggAACCCCAAALuFiAD0N3Ph94hgAACCCCQZgEN0lnBvyFDhsg//vEPWbt2rQn8FS1aVI4dOyYxMTEyd+5c2bdvn0RFRUnJkiXNHH6aKZieTMDcuXOnuV9URAABBBBAAAEEEEAAAf8KEAD0rz+tI4AAAgggkGUCGsTT8vbbb8vAgQPN9jPPPCO9e/eWd999V+rXry/XXXed/Prrr7J69WrZtGmTyQjUIKAOCNDsPisI6JwTMDo6WurUqWMHCs2F+YUAAggggAACCCCAAAIBIxAeMD2lowgggAACCCCQqsDMmTPl9ddfN/U06PfEE0/YQ3V16K8G/YYPHy7Hjx83cwJeffXVpq5zdeCHHnrIbmfhwoVmGLAOIX7kkUfs/WwggAACCCCAAAIIIIBA4AgQAAycZ0VPEUAAAQQQSFZAh/9qFp8O79W5/rp3724CdzpPn7XYx/bt26Vly5Ym+Ne0aVMZM2aMlC1b1r6mBgGtuhoE1IxADRSuW7dOatWqZddjAwEEEEAAAQQQQAABBAJLgABgYD0veosAAggggIBXAQ3WWSvzaoVbb71VihQpYgf0NPinQb9Dhw5Js2bNTPCvWrVqSa6l19EAomb8acagvtarV090GDAFAQQQQAABBBBAAAEEAlOAVYAD87nRawQQQAABBJII6PDeG264QUqXLm3m+LMW6khL8G/Lli1mYRDNENTiXE04SUPsQAABBBBAAAEEEEAAgYASyBFQvaWzCCCAAAIIIOBVQIf//vnnn3L69GmJjY2VrVu3mnqpBf/0PC0aPOzSpYt8/vnn5r21mrB5wy8EEEAAAQQQQAABBBAIaAECgAH9+Og8AggggAACfwvo/H2VK1eWSpUqSa5cuUwG3/79++Wmm25KcdivnnfgwAF55513TOBQA4EUBBBAAAEEEEAAAQQQCC4B5gAMrufJ3SCAAAIIhLDAVVddJVFRUaJZf7qIx4kTJ+TIkSMmCKgLfnib8+/ixYsyZ84cc44GEDt06GAENTNQg4MUBBBAAAEEEEAAAQQQCHwBAoCB/wy5AwQQQACBEBCwAnL6qj+6WIe1T29fV++NiIiQgQMHmuG/GgTU0rhxY5kxY4aUKFHCvHeeozs2btwon3zyiRw7dkwefPBBk0Wo+wn+qQIFAQQQQAABBBBAAIHgEGAIcHA8R+4CAQQQQCCIBTS4ZwXk9FXn+dOiq/Vq0eMaENRSvXp1adu2reTNm9e81yxAq57u0ACglrNnz8qqVaukd+/esnz5cqlZs6b069dPChQoYI7zCwEEEEAAAQQQQAABBIJHgFWAg+dZcicIIIAAAgEsoEG68PCkifnO1XgnT54s8+fPNz861190dLQJ2lWoUCHBna9Zs0YGDBggCxYsMMHCihUrmgU+WrRoIWXKlJG4uDiZPn26zJ49W1auXCnFixc3datWrZrgOrxBAAEEEEAAAQQQQACB4BAgABgcz5G7QAABBBAIYIFt27bJ008/LSNGjJBrr73WvhNnZt+bb74pr7/+un3M2ihZsqS8++67ctttt0nRokWt3bJixQp577335JdffjHzAEZGRprsv2LFisnx48dNEFAr67yA33zzjRD8s+nYQAABBBBAAAEEEEAg6ARyer5MvB50d8UNIYAAAgggECACJ0+elDvuuEOWLFkiS5culWbNmtmBPGvYrwYGdXiulkaNGknTpk3NSr+62q+u9Pvbb79Jvnz5pHz58vYQ3tKlS0udOnXMvq1bt5o5/nTBj1OnTom+1q1b18z5N2rUKNEMQQoCCCCAAAIIIIAAAggErwAZgMH7bLkzBBBAAIEAEDh69KiMHTtWdJXe2NhYqVWrlkydOtVk5ul8fVu2bJF27drJjh07ZNiwYfLwww+bYbx//vmnmbvvtddek2XLlomuAPzSSy9Jp06dzHHnrWvGnw4H3r17t+TOndssFqLzBOp8f/qeggACCCCAAAIIIIAAAsEtQAAwuJ8vd4cAAgggEAAChw8fli+//NIM5T148GCCIOBPP/0kbdq0kW7dupkhvQULFkxwRxoY7Ny5syxevNgOAup7zQDU4pxDMMGJvEEAAQQQQAABBBBAAIGQEWAV4JB51NwoAggggIBbBXQRjkceecRk8OmcfmvXrpWHHnrIZP3p8F3NBLz11lslcfBP70eH737xxRdy4403mmG+Oh/gpEmTZN++feZ2c+bM6dbbpl8IIIAAAggggAACCCDgIwHmAPQRNM0ggAACCCCQkoDO4afBPB2WqwHAnTt3mnkBCxcuLDExMdK/f3+T4acLg1hzA1rX0+G/t9xyi5lDUBcU0ZV98+fPL7o6sF6PggACCCCAAAIIIIAAAqEtQAAwtJ8/d48AAggg4AIBzfDToJ61kIdm+mkQULP/NJh37NgxMw+gBvQSB/+s7mugkCCgpcErAggggAACCCCAAAIIOAUIADo12EYAAQQQQMDHAjpHX44c/5uRQzP3oqOjpVChQib4p6v2RkREmDn9dJivrvybXEkcBFy3bp0ZPlytWjUyAZNDYz8CCCCAAAuBZH8AACxlSURBVAIIIIAAAiEg8L9vHCFws9wiAggggAAC/hLQobta4uLi7C5cvHhRrDn6xo8fb+bu04OlSpUyq/3269dPihUrJhcuXJAZM2bIhg0b7HOT29DgoS4o0rRpU9HFRXR+QA0gUhBAAAEEEEAAAQQQQCB0BcgADN1nz50jgAACCPhQQIfu/vzzz2al3zJlypggnxX80/n9+vbtK7oCcPPmzaVIkSJmDj+dE1AzAdesWSN79+6VP/74Q1q0aCFFixZNseeaCdisWTPZsmWLfPrpp2YuwBRP4CACCCCAAAIIIIAAAggEtQABwKB+vNwcAggggIBbBLZv3y4NGzaUVatWiWYD6nx+uvrvoEGDZMiQIaabvXr1kttuu80eEmwtDGLNCbhjxw5ZuHBhmoKAGkTs0KGDGTrsFgP6gQACCCCAAAIIIIAAAv4RIADoH3daRQABBBAIMQGd2+/QoUNmXj8NAmr59ttvZcSIEWZ7+PDh8swzzySZ488KAlqrA6cnCOicW9A0wi8EEEAAAQQQQAABBBAISYEwz8qD8SF559w0AggggAACPhbQ+f8GDhxoB/2s5jX49+yzz9qZf9Z+56vO56dz+7377rtmqHCtWrVk6tSpogt8UBBAAAEEEEAAAQQQQACBlARYBCQlHY4hgAACCCCQRQL69zbN5vvXv/4ljRo1kvDwcNF5AW+44QZp3LixHfxL7u9yOlz4kUcekZdeeklKliwpa9euNUN8N2/enEU95DIIIIAAAggggAACCCAQrAIMAQ7WJ8t9IYAAAgi4SkCDfVpefvllmT59utnWYN++ffvk8uXLUq5cORPYs+qZCol+eRsOvGTJEhNA1AAhBQEEEEAAAQQQQAABBBDwJkAA0JsK+xBAAAEEEMgmAZ3Db/bs2WbhDx2+u2zZMlm9erVcuHDBDgKm1LQzCLhx40az0q9mAz766KNirSqc0vkcQwABBBBAAAEEEEAAgdATIAAYes+cO0YAAQQQ8KNA/fr15cEHH5R27dpJ69at5eTJk/LHH3+kOwhYvnx5E/CLjY2Vzz77TMqUKePHu6JpBBBAAAEEEEAAAQQQcLMAi4C4+enQNwQQQACBoBLQob6Js/TOnz9vhgWPHDnS3GvXrl3NgiB16tQx73WYsHNY8JkzZyRv3rzmmK4qnCtXLilSpEhQOXEzCCCAAAIIIIAAAgggkLUCZABmrSdXQwABBBBAQK5cuZIgaGeR5MiRcO0tracBvJYtWyabCajBP+t6e/fulaFDh5p5A+vWrSv58+eXPHnyWJfnFQEEEEAAAQQQQAABBBDwKkAA0CsLOxFAAAEEEMiYgDPLT4f2LliwQN5//32ZMmWK6Iq9mrVXuXJlkwmowT2tn1wQsHTp0mZor9bT4F+3bt3k3//+twkI6hDiiIiIjHWSsxBAAAEEEEAAAQQQQCCkBBgCHFKPm5tFAAEEEMhOAWfwb/jw4TJq1CjROfouXrxomtXhv1qnQ4cO0r59e3nooYdMpqB1ni4EoqsEf/DBB6b+fffdZ7IDy5YtKyNGjJD58+dLoUKFZNGiRVKjRo3svBWujQACCCCAAAIIIIAAAkEkQAAwiB4mt4IAAggg4D8B51x9b7zxhuiPlujoaImKipLTp0/L0aNHJSYmxuyvXr26PPDAA/Laa6+JDg22goAaLHz11VdN1qCp6PlVsGBBM0RYF/qYN2+e6OrBFAQQQAABBBBAAAEEEEAgrQIEANMqRT0EEEAAAQTSIPDRRx+ZRTy0qgYBdaiuLuih2X3Lli2TH3/8UYYMGWKuVKJECTOs98033zRBQJ3rz5oncNiwYfLxxx+bgGHJkiWlVq1aJqOwUqVKaegFVRBAAAEEEEAAAQQQQACB/wkQAPyfBVsIIIAAAgikKODM8vNWcdeuXWZ4rwb6+vfvL6+88orky5cvSdUJEyZIz5495dy5c1K+fHl56aWX5KmnnjL1nEHATZs2mTkDixUrZuYCLFy4cJJrsQMBBBBAAAEEEEAAAQQQSE0g4XKEqdXmOAIIIIAAAiEocObMGXPXuhiHBgGTK1u2bDFZfprF17x58yTBP+vcLl26yCeffGIuo0HD7777zh4abK36qwd1mHCLFi2kZs2aQvAvOXX2I4AAAggggAACCCCAQGoCBABTE+I4AggggEBIC+zcuVPq1q0rX375pXHwFgTUrD0tixcvNq86TLdVq1Zm2/nLeW6nTp3kn//8pzmsw4K/+uors611rGHAznPZRgABBBBAAAEEEEAAAQQyKkAAMKNynIcAAgggEPQCJ0+elM6dO8u2bdukV69eCYJ0VjafIlgBO2u4759//mnO0cCgs57WdWb46WrATZo00d3yww8/mIVAEtc3B/mFAAIIIIAAAggggAACCGRCgABgJvA4FQEEEEAguAU0oNe6dWszFFeDek888USyQUCVuPrqqw2I1l2zZo0JDGrAL3GxAoZly5Y1KwTr8fXr10tcXJwJECauz3sEEEAAAQQQQAABBBBAIDMCBAAzo8e5CCCAAAJBK6DZezlz5jSLeXTt2lUqV64smhGYUhCwTZs2ZriwogwePFg2bNiQrM+lS5fMMR1erEHCAgUKEPxLVosDCCCAAAIIIIAAAgggkBkBAoCZ0eNcBBBAAIGgFdAsPSsI2Lt3b+nevXuCIODMmTPNvWvwzhq2qxmAGtDTsnfvXhkzZozs3r3bvE/8Kzw8XM6ePStLly415+tqwBoEpCCAAAIIIIAAAggggAACWS1AADCrRbkeAggggEDQCDiDgDoHoAYBK1asaDIBH3/88QTDgTWjLzIyUoYNGyZVqlSR48ePm+OjRo0SXR1YixUotIA0Q3Djxo2SK1cuufXWW73WseryigACCCCAAAIIIIAAAghkVCDn656S0ZM5DwEEEEAAgVAR0OHAjRs3Ngt17N+/X2JjY2Xu3LkmIFizZk0z39+FCxdMFp8G83RRD62jC4isWrVKSpcuLdHR0WaY74kTJ2TZsmXy6quvyvLly6VWrVoyZMgQKViwIMOAQ+UfFPeJAAIIIIAAAggggIAPBcI82QjxPmyPphBAAAEEEAgYgcuXL5t5ALXDOpT32LFjsn37dpk0aZIJ4B0+fFgKFy4sn3zyiTzwwAPmvjQTUIf36qIed911l+zatcu+3+bNm5uFQnbs2GEyBPfs2SOlSpWS+fPnm6xBuyIbCCCAAAIIIIAAAggggEAWChAAzEJMLoUAAgggEDwCOv+ftVqvDuMdO3asCep5u0MNAurx+++/3xy2goAaIOzRo4esXbvWBBCd5xYpUsQE/SZMmEDwzwnDNgIIIIAAAggggAACCGS5AAHALCflgggggAACgS6gyfG6uIeWN954w/zo9sMPPyz16tUTXbBj3bp18u2335rhvXpMh++OGzfODgLqcOCIiAiJi4szw3znzJlj5vs7d+6cREVFyZ133ilNmjSRkiVL6ukUBBBAAAEEEEAAAQQQQCDbBAgAZhstF0YAAQQQCHSBzz//XLp162ZuQxf3eOKJJ+Sqq66yb0uDfH369JFZs2ZJTExMkiDgxYsXzQIf1gmaVajFyiy09vOKAAIIIIAAAggggAACCGSnAKsAZ6cu10YAAQQQCGiBX3/91cwB2L59e3n00Uft4J9mCOowX83we//99+Xpp582C3ycPHnSrBQ8Y8YMc9+6uq8G/ZzT7VqZhc59AY1E5xFAAAEEEEAAAQQQQMD1AgQAXf+I6CACCCCAgD8EDh06JP/5z3/Mqr8VKlQwi3VY/dAgni70ocE9DfJpFmCHDh3MPl3h98knnxQrCOjM9tNtKwBovVrX5BUBBBBAAAEEEEAAAQQQyC4BAoDZJct1EUAAAQQCWkCH72qQT0t0dLR5tYbwmjeeXxrQ031ab/DgwWZOPz12/Phxs/jHV199ZapqsI+MP0PBLwQQQAABBBBAAAEEEPCDAAFAP6DTJAIIIICA+wWKFSsmpUuXNh395Zdf5PTp017n7tMgoA4H1teXX35ZIiMjJW/evKKZgE899ZT8+9//Ntcg48/9z5weIoAAAggggAACCCAQrAIEAIP1yXJfCCCAAAKZEtCsPmuF3k2bNsm+ffvM9TTYl7g4MwV1YZBy5cpJnTp15K+//pJ+/frJqVOnyABMjMZ7BBBAAAEEEEAAAQQQ8JkAAUCfUdMQAggggECgCOhw3Zw5c5qMvsKFC8u2bdvkmWeeMUE8DfZdvnzZ663kzp3bLAzSvHlzueeee6Ru3boye/ZsKVCggD33n9cT2YkAAggggAACCCCAAAIIZKMAAcBsxOXSCCCAAALuFEg8l5+zl3rMGq577bXXyv333y958uQRHQbcsWNHEwTU4KAVBLTm9tPXhQsXyvnz582CIQMHDpR58+aJXoOCAAIIIIAAAggggAACCPhT4O/Zzf3ZA9pGAAEEEEDAhwIauNMAnpZ169bJ4cOHzfDeKlWqmGG7msVnFZ0HsFOnTqbeihUrZPr06WY47+TJk0UzA7VosFCvuXXrVhkzZox5X6NGDXOsSJEi5pVfCCCAAAIIIIAAAggggIA/BcI8GQvx/uwAbSOAAAIIIOArAc3u08U6tLz33nvy2WefyY4dO0RX/C1atKhUrlxZRo0aJRrA08U8rPLDDz+IZvRt2LDBZPjVrl1b2rdvLzfddJNZ8GPx4sXy9ddfy5IlS6RBgwYya9Yse/5A6xq8IoAAAggggAACCCCAAAL+EiAA6C952kUAAQQQ8KmA/r3LGto7ePBgee2110z7uk/n9dPgoGbylS9fXgYMGGACfFdffbXdx59//llGjx4t+qor/EZERIgu+KEBRb22/pQqVUrmz58vmk1IQQABBBBAAAEEEEAAAQTcIkAA0C1Pgn4ggAACCPhEYOrUqfLwww+btvr06SP16tUTHeo7d+5cmTlzpuzcuVPKlCkjffv2lQ4dOphjVsf0mGb5aQDx6NGj5kePVaxYUapWrSojRoyQSpUqWdV5RQABBBBAAAEEEEAAAQRcIUAA0BWPgU4ggAACCGSXgDXs13rt2rWrTJw4UYYMGSLPPfec5MuXzzQdFxcnq1evlh49esimTZukdOnSZhXgxEFArXz69GnZv3+/GT6s73VIcP78+aVgwYL6loIAAggggAACCCCAAAIIuEqAAKCrHgedQQABBBDISgHngh/Hjh0zq/nq8FzN+JsxY4ZUqFAhSXPr1683mX8bN270GgR0XjPJyexAAAEEEEAAAQQQQAABBFwo8PdM6C7sGF1CAAEEEEAgswLWar9PPvmk3HzzzRITE2Ov0ust+KftXXvttaLDhHUhEM3yGzZsmHl/5MgR0x3rmpntG+cjgAACCCCAAAIIIIAAAr4SIADoK2naQQABBBDwi8Avv/win376qaxdu1YeeOAB0aG+5cqVM325dOmS1z6lFgT0ehI7EUAAAQQQQAABBBBAAAGXCuR83VNc2je6hQACCCCAQKYFdJXeIkWKyJo1a2TPnj1y9uxZs+LvvffeK3nz5k32+sWLF5dmzZrJggULzMIgGkDU62jwUOf7oyCAAAIIIIAAAggggAACgSJAADBQnhT9RAABBBDIkEDhwoXNKr25c+eW5cuXy4ULF0SDgg0aNPA6B6CzkcRBwPnz50v58uWlbt26Ziixsy7bCCCAAAIIIIAAAggggIBbBVgExK1Phn4hgAACCGRawFr5Vy8UGxsrn3/+ubz33nty6tQpady4sXz55Zf2cOCUGtuwYYO0bt1aDhw4IJs3bxZdSISCAAIIIIAAAggggAACCASKAAHAQHlS9BMBBBBAIFkBZ6BPK+ncfuHh4Unq7927VyZNmmSCgCdPnjRDfCdPnixRUVFJ6ibesWnTJomIiDDZhImP8R4BBBBAAAEEEEAAAQQQcLMAAUA3Px36hgACCCCQqsDly5fFWpl30aJFooG6n376SXR/dHS0tGjRwvwUKFDAXEvnAdSgn2YCpjcImGpnqIAAAggggAACCCCAAAIIuFCAAKALHwpdQgABBBBIm4Az+Pf+++/L8OHDzTDd+Pj4BBfo2rWr6KIfd955p9lPEDABD28QQAABBBBAAAEEEEAgyAVYBCTIHzC3hwACCASrgAb5dDEPLW+++ab079/fntuvffv2csMNN0jZsmVNRuDq1atFh/9evHhR6tevL7owSIUKFcwqwCtWrJCtW7fKypUr5ZZbbpFChQoFKxn3hQACCCCAAAIIIIAAAiEqQAZgiD54bhsBBBAIFoHRo0fLM888Y25n6NCh8tBDDyVY2KNfv34ybNgwc7xTp04ycuRIO8inC4NMmDCB4cDB8o+B+0AAAQQQQAABBBBAAAGvAn+nTng9xE4EEEAAAQTcLbBz50757LPPTCdfe+01efbZZ03wT4cGa9m9e7dMnDjRbDds2FA0GOjM8NMMwS5dukifPn2kYMGC8ttvv4lmD+7bt8+cwy8EEEAAAQQQQAABBBBAIBgECAAGw1PkHhBAAIEQFdAFP3QIb9WqVeWee+6RPHnymMU/dFGQ7du3S6NGjeTgwYNmtV/N9KtWrVoSKSsI+PLLL5tja9asMUOFk1RkBwIIIIAAAggggAACCCAQoALhAdpvuo0AAgggEMICV65cMfP/zZ071yhodl/t2rXNthX8a9q0qRw+fNgE/8aMGZMk+HfkyBEpVqyYOUeDgA8//LDkypVL2rZta1YPDmFebh0BBBBAAAEEEEAAAQSCTIAMwCB7oNwOAgggEAoC1uIf1r1ec8011qZs27ZNbrrpJjl06JA0b95cPvnkkwTBPw0eannjjTfkiy++sM8rV66c9OrVK0Fd+yAbCCCAAAIIIIAAAggggEAACxAADOCHR9cRQACBUBfIly+fIfj999/Nq84JaGX+afBPM/90eLCzaPBQ5wbUY507d5bly5eLriisJTycxHinFdsIIIAAAggggAACCCAQHAIEAIPjOXIXCCCAQEgJWAG7xo0bS+7cuU2237hx4+TGG2+0h/3q6sCJg3+KdPr0aRk7dqxoJmCTJk2kbt26EhYWFlJ+3CwCCCCAAAIIIIAAAgiElgCpDqH1vLlbBBBAICgErIBd/fr1pWTJkrJ582Z5/vnn5ezZs2bOPw3wValSxeu9asbfN998I5GRkXL33XebOhpQtK7p9SR2IoAAAggggAACCCCAAAIBLEAGYAA/PLqOAAIIhLpAqVKlZOTIkZI3b14T/CtSpIgJBFaoUMHQaJafNeefBvk2btwogwYNki1btohmDz7yyCOii4YQ/Av1f0ncPwIIIIAAAggggAACwS2Q83VPCe5b5O4QQAABBIJZICoqSi5duiTLli2TU6dOya5du+Ty5ctSvHhxueqqq0xwTxcE+emnn+TVV1+VRYsWSZkyZWTmzJniXDwkmI24NwQQQAABBBBAAAEEEAhtgTBPRsTfM5+HtgN3jwACCCAQwAJ//fWXDBs2TD7++GOJi4sTzQSMiIiQli1bmtfFixeL1jly5IgJ+s2dO9fr/IABTEDXEUAAAQQQQAABBBBAAIFkBQgAJkvDAQQQQACBQBI4ceKETJs2TV555RU5fvx4kq5r1t91110no0aNEmuIcJJK7EAAAQQQQAABBBBAAAEEglCAAGAQPlRuCQEEEAhlAV0QZPLkybJ+/XrZs2ePyQasVKmSdOjQQWrVqiVFixYNZR7uHQEEEEAAAQQQQAABBEJQgABgCD50bhkBBBAIdgFrVV8dDqyr/YaHs+h9sD9z7g8BBBBAAAEEEEAAAQSSFyAAmLwNRxBAAAEEAlTACgDqCsC6wq/+WPsC9JboNgIIIIAAAggggAACCCCQYQECgBmm40QEEEAAAQQQQAABBBBAAAEEEEAAAQTcL5DD/V2khwgggAACCCCAAAIIIIAAAggggAACCCCQUQECgBmV4zwEEEAAAQQQQAABBBBAAAEEEEAAAQQCQIAAYAA8JLqIAAIIIIAAAggggAACCCCAAAIIIIBARgUIAGZUjvMQQAABBBBAAAEEEEAAAQQQQAABBBAIAAECgAHwkOgiAggggAACCCCAAAIIIIAAAggggAACGRUgAJhROc5DAAEEEEAAAQQQQAABBBBAAAEEEEAgAAQIAAbAQ6KLCCCAAAIIIIAAAggggAACCCCAAAIIZFSAAGBG5TgPAQQQQAABBBBAAAEEEEAAAQQQQACBABAgABgAD4kuIoAAAggggAACCCCAAAIIIIAAAgggkFEBAoAZleM8BBBAAAEEEEAAAQQQQAABBBBAAAEEAkCAAGAAPCS6iAACCCCAAAIIIIAAAggggAACCCCAQEYFCABmVI7zEEAAAQQQQAABBBBAAAEEEEAAAQQQCAABAoAB8JDoIgIIIIAAAggggAACCCCAAAIIIIAAAhkVIACYUTnOQwABBBBAAAEEEEAAAQQQQAABBBBAIAAECAAGwEOiiwgggAACCCCAAAIIIIAAAggggAACCGRUgABgRuU4DwEEEEAAAQQQQCBVgejoaAkLC5MuXbokqfvrr7+aY3pct0OhZMU9t2jRwrjpa3aU3bt3289lwoQJ2dFEmq+ZFV5pboyKCCCAAAIIBLEAAcAgfrjcGgIIIIAAAgi4X8AZ4NBAmPMnT548EhUVJW3btpVx48bJuXPn3H9D9BABBBBAAAEEEEDAdQIEAF33SOgQAggggAACCCDwt4AG/GJjY2X27NnSvXt3qVOnjmzduhWeNAg4A6u6TUEAAQQQQAABBEJZIDyUb557RwABBBBAAAEE3CTw9NNPS8+ePe0unTlzRlavXi0jRoyQTZs2yZYtW+T222+XDRs2iGYHBnrRIazx8fGBfhv0HwEEEEAAAQQQcL0AGYCuf0R0EAEEEEAAAQRCRaB48eJy7bXX2j8NGzaUHj16yIoVK0S3tezatUvGjx8fKiTcJwIIIIAAAggggEAWCBAAzAJELoEAAggggAACCGSngGb7DRkyxG7ihx9+sLfZQAABBBBAAAEEEEAgNQECgKkJcRwBBBBAAAEEEHCBQKNGjexe7Nmzx97WDV1hVxcPifasuKvlwIED8vLLL0vNmjWlQIEC5pi3efCOHTsmgwcPlhtvvFGKFi0qkZGRUrp0abnrrrvk66+/NtdK7decOXOkTZs2UqxYMcmbN69UqVJFXnjhBdm/f39qp0p65unTdh599FGpUKGC5MuXTwoVKmTur0OHDjJz5kw5e/asac9awfbmm2+229dt5+Iqup3c6rZLly418y3qfeTPn9+0Va1aNXnmmWdk27Zt9jWT29B+aLC2du3a5tyrr75amjRpIp9++qlcuXIludOydL8+188//9x41ahRw9xHRESElCxZUm677TYZO3asXLhwIV1tzpgxQ1q1aiWapaoBaTV55ZVXRNtKS8msa1raoA4CCCCAAAIIpCDgmXeFggACCCCAAAIIIOAngfnz5+skeOZn0KBByfbCE1iy63mCLwnqPfbYY+ZYuXLl4hcvXhzvCebZda1razvO4llYJL5w4cJJ6ln19fXOO++MP3XqlPO0BNvPP/98sud7AkXxy5cvj9c+6bW0j4mL894T98+qe/To0fhbbrkl2Xas/noCXuYUzxDpVOvqOVZ9q52LFy/Ge+ZgTPHcXLlyxXuCZ9YpSV737dsXr8/G6lPiV8/8jfFz5861jyd3z0kunGhH8+bNzTX01VuxzBO373xft27deE+g2Nvp8U5DdXr88cftPjuvodulSpWK98xJ6fU6ujOzrmn5N5Js4xxAAAEEEEAAAVuARUA8/+VCQQABBBBAAAEE3C6wdu1au4uapeetnD59Wu677z7R1YP79+8vt956q8nKW7dunXgCNfYp8+bNk/bt28vly5dN1qAuPnLDDTdIwYIFxRPEkmnTpskXX3xhVh/2BO5Mhp198v9tvP/++/LBBx+Yd9qffv36mXkKtW1dtVgXLrn//vtFFzLJaNFzNXtP+6+lXr16Zk5EnSdRsxVjYmLkt99+M/212ihTpoypv2zZMvEErszuzz77TBo0aGBVMa9ly5ZN8L5bt24yadIks08zGh955BGTzajZgtZCLLr4is7JqJl07dq1S3D+pUuXpG3btrJ582azv3Xr1qKuUVFRsnfvXvn444/lxx9/lD///DPBednxRp+rPk/tjyfQJyVKlDAZfzp/pD5X7ceqVatEsyc1CzOlov1WS52Dsnfv3lK5cmU5fPiwTJw40bhrtqlmFaqN/vtJXDLrmvh6vEcAAQQQQACBDArYoUA2EEAAAQQQQAABBHwu4MxwSikD0DMs187CevPNNxP008oA9PznYLxn2Gq8J2CV4LjzjSdIGO8JCJlreYJU8XFxcc7D9rZmuun19Oe///2vvV83Dh48GO8Z7muOabaZt0yyn3/+OT48PNy+RkYyAHv16mWf7xmCG+8ZQpugH9ab8+fPmz5Z7/XV6arbKZWvvvrKbsczVNdrVc3AbNmypannGWptMtucFUeOHGlfwxMkdB6ytxNn0qXWL/vERBupZQBu3bo10RkJ33oConZfEz9brenMANTnf8cddyS5X62n/w6tfyN9+vTRXQlKVrim5zkmaJw3CCCAAAIIIJBAgDkAPf/VQkEAAQQQQAABBNwooPPJeYb0mmy9WbNmmS5qltVTTz2VbHf79u1r5p9LroJnSKccOnRIcufOLZMnTzYZgt7qdu/e3V55WM9xFs3+sjL7NBNQM+ISF0+wzMyll3h/Wt/r3HI6V52W66+/3mQbajaet6Lz22mWW0bLO++8Y06955575IknnvB6GfUaNWqUOabzDCbOnBs9erQ5pv0YPny412toxqTOlZjdRbP0Uipdu3Y1mYFa59tvv02pqsm01PkLPcHcJPU0y1SzMbXoytSeQGyCOlnhmuCCvEEAAQQQQACBDAsQAMwwHScigAACCCCAAAJZK/DGG28kWKxCF9Vo3Lix/Oc//zENafBPF7xIKYikQ1dTKlYg0ZNFZhZ0SKlus2bNzGENQjqLJ2vMvL3qqqvMgiHOY85tawiuc19atz2ZX3aQ8bnnnpOcOXOm9dR01dMhzytWrDDnPPjggymeW716dbNYilZymuiCJ5s2bbKvoc/NW9FFRVJrw9t5mdnn+dO/eDI2xZMVKOvXr7d/rGHka9asSfHyOpTZqpu4Yo4cOUSHiGvRgO3KlSvtKlnhal+MDQQQQAABBBDItEDSP+Vl+pJcAAEEEEAAAQQQQCArBXQeubvvvls8wyzlmmuuSfbSGmDSVXJTKp6FOcxhz2IUJtiYUl3rmAaQnMWak0/nl/OWGWbVrVOnjmh2XnpXnNXzdY46q1iBSOt9Vr5aHnrNjh07mp+0XN9pYnnoeYnnGkx8LZ1L76OPPkq8O8vf6zyMmpWocyR6FnJJ9vqeRVaSPaYH0nI/1gU0wKgrSmvJClfrurwigAACCCCAQOYFCABm3pArIIAAAggggAACWSKgi0b07NnTvpYOO7366qtFM+3SUjyr+qZYzbMiqxw/fjzFOt4OWsN9rWOa7aXFs9KvtcvrqwYHixQpYjLQvFZIYaczMOVcwCSFUzJ0SBe0yEhxmlgeep3UTDIzVDkt/dSMPx2+rUNy01J0mHlKJT3389dff9mXygpX+2JsIIAAAggggECmBQgAZpqQCyCAAAIIIIAAAlkjoMEWa061jFwxtWGyujqsVXQo6sCBA623GXpNbk4+58U0IOXm4jT58ssvpVatWmnqrjMo67zH1EycddPUUDor6YrHVvBPMzA9C6mYFYF1dWQdmmz9G+ncubOZAzK1/mT0frLCNZ23TnUEEEAAAQQQSEGAAGAKOBxCAAEEEEAAAQSCSUAzCjUIpNlrmgmY0WCjBr90CKwuJpJSuXTpkpkbLqU6yR0rWrSofcizyrCUL1/efp+VG5phaRUNdmXERLMcrZKaSUYz46zrp/aqC3ZoqVixovy///f/JE+ePF5PcWYteq3wfzvTcz9Oh6xwTalfHEMAAQQQQACB9AmwCEj6vKiNAAIIIIAAAggEtIDO26dl0aJF9iIb6b2h6667zpyyevVq0SBfckUXmMjI/H96PV351yo6j116S2qZa9b1LA99/9NPP1m70/VqeehJy5YtS/Hc1I6neHIaDm7YsMHUuuuuu5IN/mnWn3PBjpQum1p/ncedwdOscE2pXxxDAAEEEEAAgfQJEABMnxe1EUAAAQQQQACBgBZo37696X9cXFyGF6No1aqVuYbO+WatUOwNRYejZrTcfPPNki9fPnP6hx9+KM4hpWm5pmY7WuX8+fPWZpLXSpUqSY0aNcz+qVOnyt69e5PUSW2HrpKrKwRrmTFjhiQ3r56aT58+PbXLZeq4FZB1zlGY+ILfffed6MrFaSkaFNUMTG/lypUrMnHiRHNIs0KdQduscPXWJvsQQAABBBBAIGMCBAAz5sZZCCCAAAIIIIBAQAo89dRTYg2v1TkAf/jhhxTvQzMFE2fgPfbYY3Z22QsvvOB1KPCCBQtk7NixKV47pYO6oMmTTz5pqqxYscLMZZfcfHW6uEniobXOhUN27NiRUlMyYMAAc/zcuXNy7733ypEjR5Ktr8HEjz/+WLSus+gCLlp0aPSLL77oPGRv9+7dO0k/7YNZtFG5cmVzJQ3MehvmqxbOhWZSa1bvV5+DtwDs0KFDxVoB+fHHH5fIyMgEl8sK1wQX5A0CCCCAAAIIZFiAAGCG6TgRAQQQQAABBBAIPIGCBQvKlClTRFfo1eBO27ZtRRcEmTZtmixfvtz8aPDo9ddfl9q1a8tNN90ka9euTXCjupLtW2+9Zfbt3r1b6tWrZ7IJdTjowoULpV+/fnLbbbeJLjxRrFixBOem5422YQ2vHTVqlDRo0EB0jrslS5aYIayayda3b18zP+CcOXMSXPqaa66RsmXLmn3vvfeezJo1SzZv3izbt283P6dOnbLrd+zYUTSoqUWDjZoRqMGrefPmiQ5z1iDopEmTzOq6mu33zDPPJBn6rAFAa9jr6NGjpU2bNqZNHWqrbauH9l3vITuLLu6hZd++fdK4cWP5/PPPZenSpSaI+//bu3td2KIoAMDnFnRa0YiOQquQSBCFeAAaGk/gBRQaCiUPoaOTUIhH0Gk9yrl77dyZyPwIm5ublfud5GaYmXXOmm9NIeuufXbUNGoVk5vvp/U+ymdtba1OeW5sbNTvSHyeh4eHLsxOT09raDhP2lDmJ1w/ys1rBAgQIECAwBcEyv+kOggQIECAAAECBP6RwPPzc2yTW/+dnZ01ZVGaVzV+aWnp0/FPT0/9wsLC8NqDHCY9lmWeE897cnIyNb5MGfalIdhHTnHOyHH0eP/Z4+dJR5nG6zc3N6deZ5BvaXSNhZdJvalxo+8vS2f70kzsyy65U2MG1ypLk/uyxHbseqXp1q+srEyN393d7R8fH4evT/vMYyceeWJra6ueIx5Hj3LPxT6uM8h19LFsCtKXZci1HvHapO/M29vbMD6cjo+Ph7+Pnq9MWvblvoOjaQx//67rZ74jw4v5gQABAgQIEJgqYAKw/BXjIECAAAECBAj8bwI7OztdLAeNybq9vb0ulszOzs52ce+8xcXFrjSRuouLizo1N5gqGzW6urrq7u/v63Rb7AAbsXHvt9IY7F5eXrqYHvvuEcuVYznx3d1dt7+/X6f6Yqlp3HMuNp04OjqqE3aHh4djl4qpvNvb2/pZ5ufn69Tj2Jv+PFEaf93l5WX3+vpal/DGNF9cI56fm5vrVldX67XinndxT7xJu+vGdGB87vPz85pbvCeWMq+vr9dlw7HcOoz/5jEzM1Nrcn19Xf1j1+fII+oSy79jgu/g4OBLKZQmYHdzc9Ntb293sbtv+C8vL9fpy9h0ZHAPxUkn/QnXSef1HAECBAgQIPA1gV/RGvxaiHcTIECAAAECBAgQIECAAAECBAgQIJBFwARglkrJkwABAgQIECBAgAABAgQIECBAgECDgAZgA5oQAgQIECBAgAABAgQIECBAgAABAlkENACzVEqeBAgQIECAAAECBAgQIECAAAECBBoENAAb0IQQIECAAAECBAgQIECAAAECBAgQyCKgAZilUvIkQIAAAQIECBAgQIAAAQIECBAg0CCgAdiAJoQAAQIECBAgQIAAAQIECBAgQIBAFgENwCyVkicBAgQIECBAgAABAgQIECBAgACBBgENwAY0IQQIECBAgAABAgQIECBAgAABAgSyCGgAZqmUPAkQIECAAAECBAgQIECAAAECBAg0CGgANqAJIUCAAAECBAgQIECAAAECBAgQIJBFQAMwS6XkSYAAAQIECBAgQIAAAQIECBAgQKBBQAOwAU0IAQIECBAgQIAAAQIECBAgQIAAgSwCGoBZKiVPAgQIECBAgAABAgQIECBAgAABAg0CGoANaEIIECBAgAABAgQIECBAgAABAgQIZBHQAMxSKXkSIECAAAECBAgQIECAAAECBAgQaBDQAGxAE0KAAAECBAgQIECAAAECBAgQIEAgi4AGYJZKyZMAAQIECBAgQIAAAQIECBAgQIBAg4AGYAOaEAIECBAgQIAAAQIECBAgQIAAAQJZBDQAs1RKngQIECBAgAABAgQIECBAgAABAgQaBDQAG9CEECBAgAABAgQIECBAgAABAgQIEMgioAGYpVLyJECAAAECBAgQIECAAAECBAgQINAgoAHYgCaEAAECBAgQIECAAAECBAgQIECAQBYBDcAslZInAQIECBAgQIAAAQIECBAgQIAAgQYBDcAGNCEECBAgQIAAAQIECBAgQIAAAQIEsghoAGaplDwJECBAgAABAgQIECBAgAABAgQINAhoADagCSFAgAABAgQIECBAgAABAgQIECCQRUADMEul5EmAAAECBAgQIECAAAECBAgQIECgQUADsAFNCAECBAgQIECAAAECBAgQIECAAIEsAhqAWSolTwIECBAgQIAAAQIECBAgQIAAAQINAhqADWhCCBAgQIAAAQIECBAgQIAAAQIECGQR0ADMUil5EiBAgAABAgQIECBAgAABAgQIEGgQ0ABsQBNCgAABAgQIECBAgAABAgQIECBAIIuABmCWSsmTAAECBAgQIECAAAECBAgQIECAQIOABmADmhACBAgQIECAAAECBAgQIECAAAECWQQ0ALNUSp4ECBAgQIAAAQIECBAgQIAAAQIEGgR+A2RiTlk3llNEAAAAAElFTkSuQmCC\" width=\"640\">"
      ],
      "text/plain": [
       "<IPython.core.display.HTML object>"
      ]
     },
     "metadata": {},
     "output_type": "display_data"
    }
   ],
   "source": [
    "#Test\n",
    "main2(config, resume)\n"
   ]
  },
  {
   "cell_type": "code",
   "execution_count": null,
   "metadata": {},
   "outputs": [],
   "source": []
  }
 ],
 "metadata": {
  "kernelspec": {
   "display_name": "Python 3",
   "language": "python",
   "name": "python3"
  },
  "language_info": {
   "codemirror_mode": {
    "name": "ipython",
    "version": 3
   },
   "file_extension": ".py",
   "mimetype": "text/x-python",
   "name": "python",
   "nbconvert_exporter": "python",
   "pygments_lexer": "ipython3",
   "version": "3.6.8"
  }
 },
 "nbformat": 4,
 "nbformat_minor": 2
}
