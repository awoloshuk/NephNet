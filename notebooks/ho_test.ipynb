{
 "cells": [
  {
   "cell_type": "code",
   "execution_count": 1,
   "metadata": {},
   "outputs": [
    {
     "name": "stderr",
     "output_type": "stream",
     "text": [
      "C:\\Users\\awoloshu\\Documents\\pytorch36\\lib\\site-packages\\tqdm\\autonotebook.py:17: TqdmExperimentalWarning: Using `tqdm.autonotebook.tqdm` in notebook mode. Use `tqdm.tqdm` instead to force console mode (e.g. in jupyter console)\n",
      "  \" (e.g. in jupyter console)\", TqdmExperimentalWarning)\n"
     ]
    },
    {
     "name": "stdout",
     "output_type": "stream",
     "text": [
      "Modules loaded\n",
      "Reload complete\n",
      "GPUs available: 1\n"
     ]
    }
   ],
   "source": [
    "%matplotlib notebook\n",
    "#%matplotlib inline\n",
    "import sys\n",
    "sys.path.append(\"../../CellTemplate\")\n",
    "import matplotlib.pyplot as plt\n",
    "import os\n",
    "import numpy as np\n",
    "import json\n",
    "import argparse\n",
    "import torch\n",
    "from torch.optim import lr_scheduler\n",
    "from tqdm import tqdm\n",
    "from data_loader import data_loaders as module_data\n",
    "from model import loss as module_loss\n",
    "from model import metric as module_metric\n",
    "from model import model as module_arch\n",
    "from trainer import Trainer\n",
    "from utils import Logger\n",
    "from utils import util\n",
    "from utils import torchsummary\n",
    "from utils import viewTraining\n",
    "from utils import lr_finder\n",
    "from utils import classActivationMap\n",
    "import importlib\n",
    "import math\n",
    "import torchvision\n",
    "from torch.nn import functional as F\n",
    "from torch import topk\n",
    "import skimage.transform\n",
    "import jupyter\n",
    "from IPython import display\n",
    "from ipywidgets import *\n",
    "from utils import hyperband as HypOpt\n",
    "import argparse\n",
    "print(\"Modules loaded\")\n",
    "\n",
    "\n",
    "importlib.reload(module_data) #load recent changes to data_loaders.py\n",
    "importlib.reload(module_arch)\n",
    "importlib.reload(module_loss)\n",
    "importlib.reload(module_metric)\n",
    "importlib.reload(util)\n",
    "importlib.reload(viewTraining)\n",
    "importlib.reload(lr_finder)\n",
    "importlib.reload(classActivationMap)\n",
    "importlib.reload(HypOpt)\n",
    "print(\"Reload complete\")\n",
    "\n",
    "print(\"GPUs available: \" + str(torch.cuda.device_count()))\n",
    "os.environ[\"CUDA_VISIBLE_DEVICES\"] = \"0,1\""
   ]
  },
  {
   "cell_type": "code",
   "execution_count": 2,
   "metadata": {},
   "outputs": [
    {
     "name": "stdout",
     "output_type": "stream",
     "text": [
      "loaded\n"
     ]
    }
   ],
   "source": [
    "params = {\n",
    "    \"num_feature\": [4, 8, 16,32],\n",
    "    \"batch_size\": [4, 8, 16, 32, 64, 128, 256],\n",
    "    #\"optim_type\": ['adam', 'sgd'],\n",
    "    \"lr\": [0.00001, 0.1],\n",
    "    \"weight_decay\": [0.00001, 0.01],\n",
    "    \"step_size\": [20, 150],\n",
    "    \"gamma\": [0.05, 0.5]\n",
    "}\n",
    "\n",
    "def get_instance(module, name, config, *args):\n",
    "    return getattr(module, config[name]['type'])(*args, **config[name]['args'])\n",
    "\n",
    "config_file = '..\\\\configs\\\\config_hdf5_hypop.json'\n",
    "\n",
    "# load config file\n",
    "with open(config_file) as handle:\n",
    "    config = json.load(handle)\n",
    "# setting path to save trained models and log files\n",
    "path = os.path.join(config['trainer']['save_dir'], config['name'])\n",
    "print(\"loaded\")\n",
    "\n",
    "args = argparse.ArgumentParser()\n",
    "args.epoch_scale = 1\n",
    "args.max_iter = 81\n",
    "args.eta = 3\n",
    "args.num_gpu = 1"
   ]
  },
  {
   "cell_type": "code",
   "execution_count": 3,
   "metadata": {},
   "outputs": [
    {
     "name": "stderr",
     "output_type": "stream",
     "text": [
      "Note: NumExpr detected 20 cores but \"NUMEXPR_MAX_THREADS\" not set, so enforcing safe limit of 8.\n",
      "NumExpr defaulting to 8 threads.\n"
     ]
    },
    {
     "name": "stdout",
     "output_type": "stream",
     "text": [
      "Total number of training images = 2071\n"
     ]
    },
    {
     "data": {
      "application/javascript": [
       "/* Put everything inside the global mpl namespace */\n",
       "window.mpl = {};\n",
       "\n",
       "\n",
       "mpl.get_websocket_type = function() {\n",
       "    if (typeof(WebSocket) !== 'undefined') {\n",
       "        return WebSocket;\n",
       "    } else if (typeof(MozWebSocket) !== 'undefined') {\n",
       "        return MozWebSocket;\n",
       "    } else {\n",
       "        alert('Your browser does not have WebSocket support. ' +\n",
       "              'Please try Chrome, Safari or Firefox ≥ 6. ' +\n",
       "              'Firefox 4 and 5 are also supported but you ' +\n",
       "              'have to enable WebSockets in about:config.');\n",
       "    };\n",
       "}\n",
       "\n",
       "mpl.figure = function(figure_id, websocket, ondownload, parent_element) {\n",
       "    this.id = figure_id;\n",
       "\n",
       "    this.ws = websocket;\n",
       "\n",
       "    this.supports_binary = (this.ws.binaryType != undefined);\n",
       "\n",
       "    if (!this.supports_binary) {\n",
       "        var warnings = document.getElementById(\"mpl-warnings\");\n",
       "        if (warnings) {\n",
       "            warnings.style.display = 'block';\n",
       "            warnings.textContent = (\n",
       "                \"This browser does not support binary websocket messages. \" +\n",
       "                    \"Performance may be slow.\");\n",
       "        }\n",
       "    }\n",
       "\n",
       "    this.imageObj = new Image();\n",
       "\n",
       "    this.context = undefined;\n",
       "    this.message = undefined;\n",
       "    this.canvas = undefined;\n",
       "    this.rubberband_canvas = undefined;\n",
       "    this.rubberband_context = undefined;\n",
       "    this.format_dropdown = undefined;\n",
       "\n",
       "    this.image_mode = 'full';\n",
       "\n",
       "    this.root = $('<div/>');\n",
       "    this._root_extra_style(this.root)\n",
       "    this.root.attr('style', 'display: inline-block');\n",
       "\n",
       "    $(parent_element).append(this.root);\n",
       "\n",
       "    this._init_header(this);\n",
       "    this._init_canvas(this);\n",
       "    this._init_toolbar(this);\n",
       "\n",
       "    var fig = this;\n",
       "\n",
       "    this.waiting = false;\n",
       "\n",
       "    this.ws.onopen =  function () {\n",
       "            fig.send_message(\"supports_binary\", {value: fig.supports_binary});\n",
       "            fig.send_message(\"send_image_mode\", {});\n",
       "            if (mpl.ratio != 1) {\n",
       "                fig.send_message(\"set_dpi_ratio\", {'dpi_ratio': mpl.ratio});\n",
       "            }\n",
       "            fig.send_message(\"refresh\", {});\n",
       "        }\n",
       "\n",
       "    this.imageObj.onload = function() {\n",
       "            if (fig.image_mode == 'full') {\n",
       "                // Full images could contain transparency (where diff images\n",
       "                // almost always do), so we need to clear the canvas so that\n",
       "                // there is no ghosting.\n",
       "                fig.context.clearRect(0, 0, fig.canvas.width, fig.canvas.height);\n",
       "            }\n",
       "            fig.context.drawImage(fig.imageObj, 0, 0);\n",
       "        };\n",
       "\n",
       "    this.imageObj.onunload = function() {\n",
       "        fig.ws.close();\n",
       "    }\n",
       "\n",
       "    this.ws.onmessage = this._make_on_message_function(this);\n",
       "\n",
       "    this.ondownload = ondownload;\n",
       "}\n",
       "\n",
       "mpl.figure.prototype._init_header = function() {\n",
       "    var titlebar = $(\n",
       "        '<div class=\"ui-dialog-titlebar ui-widget-header ui-corner-all ' +\n",
       "        'ui-helper-clearfix\"/>');\n",
       "    var titletext = $(\n",
       "        '<div class=\"ui-dialog-title\" style=\"width: 100%; ' +\n",
       "        'text-align: center; padding: 3px;\"/>');\n",
       "    titlebar.append(titletext)\n",
       "    this.root.append(titlebar);\n",
       "    this.header = titletext[0];\n",
       "}\n",
       "\n",
       "\n",
       "\n",
       "mpl.figure.prototype._canvas_extra_style = function(canvas_div) {\n",
       "\n",
       "}\n",
       "\n",
       "\n",
       "mpl.figure.prototype._root_extra_style = function(canvas_div) {\n",
       "\n",
       "}\n",
       "\n",
       "mpl.figure.prototype._init_canvas = function() {\n",
       "    var fig = this;\n",
       "\n",
       "    var canvas_div = $('<div/>');\n",
       "\n",
       "    canvas_div.attr('style', 'position: relative; clear: both; outline: 0');\n",
       "\n",
       "    function canvas_keyboard_event(event) {\n",
       "        return fig.key_event(event, event['data']);\n",
       "    }\n",
       "\n",
       "    canvas_div.keydown('key_press', canvas_keyboard_event);\n",
       "    canvas_div.keyup('key_release', canvas_keyboard_event);\n",
       "    this.canvas_div = canvas_div\n",
       "    this._canvas_extra_style(canvas_div)\n",
       "    this.root.append(canvas_div);\n",
       "\n",
       "    var canvas = $('<canvas/>');\n",
       "    canvas.addClass('mpl-canvas');\n",
       "    canvas.attr('style', \"left: 0; top: 0; z-index: 0; outline: 0\")\n",
       "\n",
       "    this.canvas = canvas[0];\n",
       "    this.context = canvas[0].getContext(\"2d\");\n",
       "\n",
       "    var backingStore = this.context.backingStorePixelRatio ||\n",
       "\tthis.context.webkitBackingStorePixelRatio ||\n",
       "\tthis.context.mozBackingStorePixelRatio ||\n",
       "\tthis.context.msBackingStorePixelRatio ||\n",
       "\tthis.context.oBackingStorePixelRatio ||\n",
       "\tthis.context.backingStorePixelRatio || 1;\n",
       "\n",
       "    mpl.ratio = (window.devicePixelRatio || 1) / backingStore;\n",
       "\n",
       "    var rubberband = $('<canvas/>');\n",
       "    rubberband.attr('style', \"position: absolute; left: 0; top: 0; z-index: 1;\")\n",
       "\n",
       "    var pass_mouse_events = true;\n",
       "\n",
       "    canvas_div.resizable({\n",
       "        start: function(event, ui) {\n",
       "            pass_mouse_events = false;\n",
       "        },\n",
       "        resize: function(event, ui) {\n",
       "            fig.request_resize(ui.size.width, ui.size.height);\n",
       "        },\n",
       "        stop: function(event, ui) {\n",
       "            pass_mouse_events = true;\n",
       "            fig.request_resize(ui.size.width, ui.size.height);\n",
       "        },\n",
       "    });\n",
       "\n",
       "    function mouse_event_fn(event) {\n",
       "        if (pass_mouse_events)\n",
       "            return fig.mouse_event(event, event['data']);\n",
       "    }\n",
       "\n",
       "    rubberband.mousedown('button_press', mouse_event_fn);\n",
       "    rubberband.mouseup('button_release', mouse_event_fn);\n",
       "    // Throttle sequential mouse events to 1 every 20ms.\n",
       "    rubberband.mousemove('motion_notify', mouse_event_fn);\n",
       "\n",
       "    rubberband.mouseenter('figure_enter', mouse_event_fn);\n",
       "    rubberband.mouseleave('figure_leave', mouse_event_fn);\n",
       "\n",
       "    canvas_div.on(\"wheel\", function (event) {\n",
       "        event = event.originalEvent;\n",
       "        event['data'] = 'scroll'\n",
       "        if (event.deltaY < 0) {\n",
       "            event.step = 1;\n",
       "        } else {\n",
       "            event.step = -1;\n",
       "        }\n",
       "        mouse_event_fn(event);\n",
       "    });\n",
       "\n",
       "    canvas_div.append(canvas);\n",
       "    canvas_div.append(rubberband);\n",
       "\n",
       "    this.rubberband = rubberband;\n",
       "    this.rubberband_canvas = rubberband[0];\n",
       "    this.rubberband_context = rubberband[0].getContext(\"2d\");\n",
       "    this.rubberband_context.strokeStyle = \"#000000\";\n",
       "\n",
       "    this._resize_canvas = function(width, height) {\n",
       "        // Keep the size of the canvas, canvas container, and rubber band\n",
       "        // canvas in synch.\n",
       "        canvas_div.css('width', width)\n",
       "        canvas_div.css('height', height)\n",
       "\n",
       "        canvas.attr('width', width * mpl.ratio);\n",
       "        canvas.attr('height', height * mpl.ratio);\n",
       "        canvas.attr('style', 'width: ' + width + 'px; height: ' + height + 'px;');\n",
       "\n",
       "        rubberband.attr('width', width);\n",
       "        rubberband.attr('height', height);\n",
       "    }\n",
       "\n",
       "    // Set the figure to an initial 600x600px, this will subsequently be updated\n",
       "    // upon first draw.\n",
       "    this._resize_canvas(600, 600);\n",
       "\n",
       "    // Disable right mouse context menu.\n",
       "    $(this.rubberband_canvas).bind(\"contextmenu\",function(e){\n",
       "        return false;\n",
       "    });\n",
       "\n",
       "    function set_focus () {\n",
       "        canvas.focus();\n",
       "        canvas_div.focus();\n",
       "    }\n",
       "\n",
       "    window.setTimeout(set_focus, 100);\n",
       "}\n",
       "\n",
       "mpl.figure.prototype._init_toolbar = function() {\n",
       "    var fig = this;\n",
       "\n",
       "    var nav_element = $('<div/>');\n",
       "    nav_element.attr('style', 'width: 100%');\n",
       "    this.root.append(nav_element);\n",
       "\n",
       "    // Define a callback function for later on.\n",
       "    function toolbar_event(event) {\n",
       "        return fig.toolbar_button_onclick(event['data']);\n",
       "    }\n",
       "    function toolbar_mouse_event(event) {\n",
       "        return fig.toolbar_button_onmouseover(event['data']);\n",
       "    }\n",
       "\n",
       "    for(var toolbar_ind in mpl.toolbar_items) {\n",
       "        var name = mpl.toolbar_items[toolbar_ind][0];\n",
       "        var tooltip = mpl.toolbar_items[toolbar_ind][1];\n",
       "        var image = mpl.toolbar_items[toolbar_ind][2];\n",
       "        var method_name = mpl.toolbar_items[toolbar_ind][3];\n",
       "\n",
       "        if (!name) {\n",
       "            // put a spacer in here.\n",
       "            continue;\n",
       "        }\n",
       "        var button = $('<button/>');\n",
       "        button.addClass('ui-button ui-widget ui-state-default ui-corner-all ' +\n",
       "                        'ui-button-icon-only');\n",
       "        button.attr('role', 'button');\n",
       "        button.attr('aria-disabled', 'false');\n",
       "        button.click(method_name, toolbar_event);\n",
       "        button.mouseover(tooltip, toolbar_mouse_event);\n",
       "\n",
       "        var icon_img = $('<span/>');\n",
       "        icon_img.addClass('ui-button-icon-primary ui-icon');\n",
       "        icon_img.addClass(image);\n",
       "        icon_img.addClass('ui-corner-all');\n",
       "\n",
       "        var tooltip_span = $('<span/>');\n",
       "        tooltip_span.addClass('ui-button-text');\n",
       "        tooltip_span.html(tooltip);\n",
       "\n",
       "        button.append(icon_img);\n",
       "        button.append(tooltip_span);\n",
       "\n",
       "        nav_element.append(button);\n",
       "    }\n",
       "\n",
       "    var fmt_picker_span = $('<span/>');\n",
       "\n",
       "    var fmt_picker = $('<select/>');\n",
       "    fmt_picker.addClass('mpl-toolbar-option ui-widget ui-widget-content');\n",
       "    fmt_picker_span.append(fmt_picker);\n",
       "    nav_element.append(fmt_picker_span);\n",
       "    this.format_dropdown = fmt_picker[0];\n",
       "\n",
       "    for (var ind in mpl.extensions) {\n",
       "        var fmt = mpl.extensions[ind];\n",
       "        var option = $(\n",
       "            '<option/>', {selected: fmt === mpl.default_extension}).html(fmt);\n",
       "        fmt_picker.append(option);\n",
       "    }\n",
       "\n",
       "    // Add hover states to the ui-buttons\n",
       "    $( \".ui-button\" ).hover(\n",
       "        function() { $(this).addClass(\"ui-state-hover\");},\n",
       "        function() { $(this).removeClass(\"ui-state-hover\");}\n",
       "    );\n",
       "\n",
       "    var status_bar = $('<span class=\"mpl-message\"/>');\n",
       "    nav_element.append(status_bar);\n",
       "    this.message = status_bar[0];\n",
       "}\n",
       "\n",
       "mpl.figure.prototype.request_resize = function(x_pixels, y_pixels) {\n",
       "    // Request matplotlib to resize the figure. Matplotlib will then trigger a resize in the client,\n",
       "    // which will in turn request a refresh of the image.\n",
       "    this.send_message('resize', {'width': x_pixels, 'height': y_pixels});\n",
       "}\n",
       "\n",
       "mpl.figure.prototype.send_message = function(type, properties) {\n",
       "    properties['type'] = type;\n",
       "    properties['figure_id'] = this.id;\n",
       "    this.ws.send(JSON.stringify(properties));\n",
       "}\n",
       "\n",
       "mpl.figure.prototype.send_draw_message = function() {\n",
       "    if (!this.waiting) {\n",
       "        this.waiting = true;\n",
       "        this.ws.send(JSON.stringify({type: \"draw\", figure_id: this.id}));\n",
       "    }\n",
       "}\n",
       "\n",
       "\n",
       "mpl.figure.prototype.handle_save = function(fig, msg) {\n",
       "    var format_dropdown = fig.format_dropdown;\n",
       "    var format = format_dropdown.options[format_dropdown.selectedIndex].value;\n",
       "    fig.ondownload(fig, format);\n",
       "}\n",
       "\n",
       "\n",
       "mpl.figure.prototype.handle_resize = function(fig, msg) {\n",
       "    var size = msg['size'];\n",
       "    if (size[0] != fig.canvas.width || size[1] != fig.canvas.height) {\n",
       "        fig._resize_canvas(size[0], size[1]);\n",
       "        fig.send_message(\"refresh\", {});\n",
       "    };\n",
       "}\n",
       "\n",
       "mpl.figure.prototype.handle_rubberband = function(fig, msg) {\n",
       "    var x0 = msg['x0'] / mpl.ratio;\n",
       "    var y0 = (fig.canvas.height - msg['y0']) / mpl.ratio;\n",
       "    var x1 = msg['x1'] / mpl.ratio;\n",
       "    var y1 = (fig.canvas.height - msg['y1']) / mpl.ratio;\n",
       "    x0 = Math.floor(x0) + 0.5;\n",
       "    y0 = Math.floor(y0) + 0.5;\n",
       "    x1 = Math.floor(x1) + 0.5;\n",
       "    y1 = Math.floor(y1) + 0.5;\n",
       "    var min_x = Math.min(x0, x1);\n",
       "    var min_y = Math.min(y0, y1);\n",
       "    var width = Math.abs(x1 - x0);\n",
       "    var height = Math.abs(y1 - y0);\n",
       "\n",
       "    fig.rubberband_context.clearRect(\n",
       "        0, 0, fig.canvas.width / mpl.ratio, fig.canvas.height / mpl.ratio);\n",
       "\n",
       "    fig.rubberband_context.strokeRect(min_x, min_y, width, height);\n",
       "}\n",
       "\n",
       "mpl.figure.prototype.handle_figure_label = function(fig, msg) {\n",
       "    // Updates the figure title.\n",
       "    fig.header.textContent = msg['label'];\n",
       "}\n",
       "\n",
       "mpl.figure.prototype.handle_cursor = function(fig, msg) {\n",
       "    var cursor = msg['cursor'];\n",
       "    switch(cursor)\n",
       "    {\n",
       "    case 0:\n",
       "        cursor = 'pointer';\n",
       "        break;\n",
       "    case 1:\n",
       "        cursor = 'default';\n",
       "        break;\n",
       "    case 2:\n",
       "        cursor = 'crosshair';\n",
       "        break;\n",
       "    case 3:\n",
       "        cursor = 'move';\n",
       "        break;\n",
       "    }\n",
       "    fig.rubberband_canvas.style.cursor = cursor;\n",
       "}\n",
       "\n",
       "mpl.figure.prototype.handle_message = function(fig, msg) {\n",
       "    fig.message.textContent = msg['message'];\n",
       "}\n",
       "\n",
       "mpl.figure.prototype.handle_draw = function(fig, msg) {\n",
       "    // Request the server to send over a new figure.\n",
       "    fig.send_draw_message();\n",
       "}\n",
       "\n",
       "mpl.figure.prototype.handle_image_mode = function(fig, msg) {\n",
       "    fig.image_mode = msg['mode'];\n",
       "}\n",
       "\n",
       "mpl.figure.prototype.updated_canvas_event = function() {\n",
       "    // Called whenever the canvas gets updated.\n",
       "    this.send_message(\"ack\", {});\n",
       "}\n",
       "\n",
       "// A function to construct a web socket function for onmessage handling.\n",
       "// Called in the figure constructor.\n",
       "mpl.figure.prototype._make_on_message_function = function(fig) {\n",
       "    return function socket_on_message(evt) {\n",
       "        if (evt.data instanceof Blob) {\n",
       "            /* FIXME: We get \"Resource interpreted as Image but\n",
       "             * transferred with MIME type text/plain:\" errors on\n",
       "             * Chrome.  But how to set the MIME type?  It doesn't seem\n",
       "             * to be part of the websocket stream */\n",
       "            evt.data.type = \"image/png\";\n",
       "\n",
       "            /* Free the memory for the previous frames */\n",
       "            if (fig.imageObj.src) {\n",
       "                (window.URL || window.webkitURL).revokeObjectURL(\n",
       "                    fig.imageObj.src);\n",
       "            }\n",
       "\n",
       "            fig.imageObj.src = (window.URL || window.webkitURL).createObjectURL(\n",
       "                evt.data);\n",
       "            fig.updated_canvas_event();\n",
       "            fig.waiting = false;\n",
       "            return;\n",
       "        }\n",
       "        else if (typeof evt.data === 'string' && evt.data.slice(0, 21) == \"data:image/png;base64\") {\n",
       "            fig.imageObj.src = evt.data;\n",
       "            fig.updated_canvas_event();\n",
       "            fig.waiting = false;\n",
       "            return;\n",
       "        }\n",
       "\n",
       "        var msg = JSON.parse(evt.data);\n",
       "        var msg_type = msg['type'];\n",
       "\n",
       "        // Call the  \"handle_{type}\" callback, which takes\n",
       "        // the figure and JSON message as its only arguments.\n",
       "        try {\n",
       "            var callback = fig[\"handle_\" + msg_type];\n",
       "        } catch (e) {\n",
       "            console.log(\"No handler for the '\" + msg_type + \"' message type: \", msg);\n",
       "            return;\n",
       "        }\n",
       "\n",
       "        if (callback) {\n",
       "            try {\n",
       "                // console.log(\"Handling '\" + msg_type + \"' message: \", msg);\n",
       "                callback(fig, msg);\n",
       "            } catch (e) {\n",
       "                console.log(\"Exception inside the 'handler_\" + msg_type + \"' callback:\", e, e.stack, msg);\n",
       "            }\n",
       "        }\n",
       "    };\n",
       "}\n",
       "\n",
       "// from http://stackoverflow.com/questions/1114465/getting-mouse-location-in-canvas\n",
       "mpl.findpos = function(e) {\n",
       "    //this section is from http://www.quirksmode.org/js/events_properties.html\n",
       "    var targ;\n",
       "    if (!e)\n",
       "        e = window.event;\n",
       "    if (e.target)\n",
       "        targ = e.target;\n",
       "    else if (e.srcElement)\n",
       "        targ = e.srcElement;\n",
       "    if (targ.nodeType == 3) // defeat Safari bug\n",
       "        targ = targ.parentNode;\n",
       "\n",
       "    // jQuery normalizes the pageX and pageY\n",
       "    // pageX,Y are the mouse positions relative to the document\n",
       "    // offset() returns the position of the element relative to the document\n",
       "    var x = e.pageX - $(targ).offset().left;\n",
       "    var y = e.pageY - $(targ).offset().top;\n",
       "\n",
       "    return {\"x\": x, \"y\": y};\n",
       "};\n",
       "\n",
       "/*\n",
       " * return a copy of an object with only non-object keys\n",
       " * we need this to avoid circular references\n",
       " * http://stackoverflow.com/a/24161582/3208463\n",
       " */\n",
       "function simpleKeys (original) {\n",
       "  return Object.keys(original).reduce(function (obj, key) {\n",
       "    if (typeof original[key] !== 'object')\n",
       "        obj[key] = original[key]\n",
       "    return obj;\n",
       "  }, {});\n",
       "}\n",
       "\n",
       "mpl.figure.prototype.mouse_event = function(event, name) {\n",
       "    var canvas_pos = mpl.findpos(event)\n",
       "\n",
       "    if (name === 'button_press')\n",
       "    {\n",
       "        this.canvas.focus();\n",
       "        this.canvas_div.focus();\n",
       "    }\n",
       "\n",
       "    var x = canvas_pos.x * mpl.ratio;\n",
       "    var y = canvas_pos.y * mpl.ratio;\n",
       "\n",
       "    this.send_message(name, {x: x, y: y, button: event.button,\n",
       "                             step: event.step,\n",
       "                             guiEvent: simpleKeys(event)});\n",
       "\n",
       "    /* This prevents the web browser from automatically changing to\n",
       "     * the text insertion cursor when the button is pressed.  We want\n",
       "     * to control all of the cursor setting manually through the\n",
       "     * 'cursor' event from matplotlib */\n",
       "    event.preventDefault();\n",
       "    return false;\n",
       "}\n",
       "\n",
       "mpl.figure.prototype._key_event_extra = function(event, name) {\n",
       "    // Handle any extra behaviour associated with a key event\n",
       "}\n",
       "\n",
       "mpl.figure.prototype.key_event = function(event, name) {\n",
       "\n",
       "    // Prevent repeat events\n",
       "    if (name == 'key_press')\n",
       "    {\n",
       "        if (event.which === this._key)\n",
       "            return;\n",
       "        else\n",
       "            this._key = event.which;\n",
       "    }\n",
       "    if (name == 'key_release')\n",
       "        this._key = null;\n",
       "\n",
       "    var value = '';\n",
       "    if (event.ctrlKey && event.which != 17)\n",
       "        value += \"ctrl+\";\n",
       "    if (event.altKey && event.which != 18)\n",
       "        value += \"alt+\";\n",
       "    if (event.shiftKey && event.which != 16)\n",
       "        value += \"shift+\";\n",
       "\n",
       "    value += 'k';\n",
       "    value += event.which.toString();\n",
       "\n",
       "    this._key_event_extra(event, name);\n",
       "\n",
       "    this.send_message(name, {key: value,\n",
       "                             guiEvent: simpleKeys(event)});\n",
       "    return false;\n",
       "}\n",
       "\n",
       "mpl.figure.prototype.toolbar_button_onclick = function(name) {\n",
       "    if (name == 'download') {\n",
       "        this.handle_save(this, null);\n",
       "    } else {\n",
       "        this.send_message(\"toolbar_button\", {name: name});\n",
       "    }\n",
       "};\n",
       "\n",
       "mpl.figure.prototype.toolbar_button_onmouseover = function(tooltip) {\n",
       "    this.message.textContent = tooltip;\n",
       "};\n",
       "mpl.toolbar_items = [[\"Home\", \"Reset original view\", \"fa fa-home icon-home\", \"home\"], [\"Back\", \"Back to previous view\", \"fa fa-arrow-left icon-arrow-left\", \"back\"], [\"Forward\", \"Forward to next view\", \"fa fa-arrow-right icon-arrow-right\", \"forward\"], [\"\", \"\", \"\", \"\"], [\"Pan\", \"Pan axes with left mouse, zoom with right\", \"fa fa-arrows icon-move\", \"pan\"], [\"Zoom\", \"Zoom to rectangle\", \"fa fa-square-o icon-check-empty\", \"zoom\"], [\"\", \"\", \"\", \"\"], [\"Download\", \"Download plot\", \"fa fa-floppy-o icon-save\", \"download\"]];\n",
       "\n",
       "mpl.extensions = [\"eps\", \"jpeg\", \"pdf\", \"png\", \"ps\", \"raw\", \"svg\", \"tif\"];\n",
       "\n",
       "mpl.default_extension = \"png\";var comm_websocket_adapter = function(comm) {\n",
       "    // Create a \"websocket\"-like object which calls the given IPython comm\n",
       "    // object with the appropriate methods. Currently this is a non binary\n",
       "    // socket, so there is still some room for performance tuning.\n",
       "    var ws = {};\n",
       "\n",
       "    ws.close = function() {\n",
       "        comm.close()\n",
       "    };\n",
       "    ws.send = function(m) {\n",
       "        //console.log('sending', m);\n",
       "        comm.send(m);\n",
       "    };\n",
       "    // Register the callback with on_msg.\n",
       "    comm.on_msg(function(msg) {\n",
       "        //console.log('receiving', msg['content']['data'], msg);\n",
       "        // Pass the mpl event to the overridden (by mpl) onmessage function.\n",
       "        ws.onmessage(msg['content']['data'])\n",
       "    });\n",
       "    return ws;\n",
       "}\n",
       "\n",
       "mpl.mpl_figure_comm = function(comm, msg) {\n",
       "    // This is the function which gets called when the mpl process\n",
       "    // starts-up an IPython Comm through the \"matplotlib\" channel.\n",
       "\n",
       "    var id = msg.content.data.id;\n",
       "    // Get hold of the div created by the display call when the Comm\n",
       "    // socket was opened in Python.\n",
       "    var element = $(\"#\" + id);\n",
       "    var ws_proxy = comm_websocket_adapter(comm)\n",
       "\n",
       "    function ondownload(figure, format) {\n",
       "        window.open(figure.imageObj.src);\n",
       "    }\n",
       "\n",
       "    var fig = new mpl.figure(id, ws_proxy,\n",
       "                           ondownload,\n",
       "                           element.get(0));\n",
       "\n",
       "    // Call onopen now - mpl needs it, as it is assuming we've passed it a real\n",
       "    // web socket which is closed, not our websocket->open comm proxy.\n",
       "    ws_proxy.onopen();\n",
       "\n",
       "    fig.parent_element = element.get(0);\n",
       "    fig.cell_info = mpl.find_output_cell(\"<div id='\" + id + \"'></div>\");\n",
       "    if (!fig.cell_info) {\n",
       "        console.error(\"Failed to find cell for figure\", id, fig);\n",
       "        return;\n",
       "    }\n",
       "\n",
       "    var output_index = fig.cell_info[2]\n",
       "    var cell = fig.cell_info[0];\n",
       "\n",
       "};\n",
       "\n",
       "mpl.figure.prototype.handle_close = function(fig, msg) {\n",
       "    var width = fig.canvas.width/mpl.ratio\n",
       "    fig.root.unbind('remove')\n",
       "\n",
       "    // Update the output cell to use the data from the current canvas.\n",
       "    fig.push_to_output();\n",
       "    var dataURL = fig.canvas.toDataURL();\n",
       "    // Re-enable the keyboard manager in IPython - without this line, in FF,\n",
       "    // the notebook keyboard shortcuts fail.\n",
       "    IPython.keyboard_manager.enable()\n",
       "    $(fig.parent_element).html('<img src=\"' + dataURL + '\" width=\"' + width + '\">');\n",
       "    fig.close_ws(fig, msg);\n",
       "}\n",
       "\n",
       "mpl.figure.prototype.close_ws = function(fig, msg){\n",
       "    fig.send_message('closing', msg);\n",
       "    // fig.ws.close()\n",
       "}\n",
       "\n",
       "mpl.figure.prototype.push_to_output = function(remove_interactive) {\n",
       "    // Turn the data on the canvas into data in the output cell.\n",
       "    var width = this.canvas.width/mpl.ratio\n",
       "    var dataURL = this.canvas.toDataURL();\n",
       "    this.cell_info[1]['text/html'] = '<img src=\"' + dataURL + '\" width=\"' + width + '\">';\n",
       "}\n",
       "\n",
       "mpl.figure.prototype.updated_canvas_event = function() {\n",
       "    // Tell IPython that the notebook contents must change.\n",
       "    IPython.notebook.set_dirty(true);\n",
       "    this.send_message(\"ack\", {});\n",
       "    var fig = this;\n",
       "    // Wait a second, then push the new image to the DOM so\n",
       "    // that it is saved nicely (might be nice to debounce this).\n",
       "    setTimeout(function () { fig.push_to_output() }, 1000);\n",
       "}\n",
       "\n",
       "mpl.figure.prototype._init_toolbar = function() {\n",
       "    var fig = this;\n",
       "\n",
       "    var nav_element = $('<div/>');\n",
       "    nav_element.attr('style', 'width: 100%');\n",
       "    this.root.append(nav_element);\n",
       "\n",
       "    // Define a callback function for later on.\n",
       "    function toolbar_event(event) {\n",
       "        return fig.toolbar_button_onclick(event['data']);\n",
       "    }\n",
       "    function toolbar_mouse_event(event) {\n",
       "        return fig.toolbar_button_onmouseover(event['data']);\n",
       "    }\n",
       "\n",
       "    for(var toolbar_ind in mpl.toolbar_items){\n",
       "        var name = mpl.toolbar_items[toolbar_ind][0];\n",
       "        var tooltip = mpl.toolbar_items[toolbar_ind][1];\n",
       "        var image = mpl.toolbar_items[toolbar_ind][2];\n",
       "        var method_name = mpl.toolbar_items[toolbar_ind][3];\n",
       "\n",
       "        if (!name) { continue; };\n",
       "\n",
       "        var button = $('<button class=\"btn btn-default\" href=\"#\" title=\"' + name + '\"><i class=\"fa ' + image + ' fa-lg\"></i></button>');\n",
       "        button.click(method_name, toolbar_event);\n",
       "        button.mouseover(tooltip, toolbar_mouse_event);\n",
       "        nav_element.append(button);\n",
       "    }\n",
       "\n",
       "    // Add the status bar.\n",
       "    var status_bar = $('<span class=\"mpl-message\" style=\"text-align:right; float: right;\"/>');\n",
       "    nav_element.append(status_bar);\n",
       "    this.message = status_bar[0];\n",
       "\n",
       "    // Add the close button to the window.\n",
       "    var buttongrp = $('<div class=\"btn-group inline pull-right\"></div>');\n",
       "    var button = $('<button class=\"btn btn-mini btn-primary\" href=\"#\" title=\"Stop Interaction\"><i class=\"fa fa-power-off icon-remove icon-large\"></i></button>');\n",
       "    button.click(function (evt) { fig.handle_close(fig, {}); } );\n",
       "    button.mouseover('Stop Interaction', toolbar_mouse_event);\n",
       "    buttongrp.append(button);\n",
       "    var titlebar = this.root.find($('.ui-dialog-titlebar'));\n",
       "    titlebar.prepend(buttongrp);\n",
       "}\n",
       "\n",
       "mpl.figure.prototype._root_extra_style = function(el){\n",
       "    var fig = this\n",
       "    el.on(\"remove\", function(){\n",
       "\tfig.close_ws(fig, {});\n",
       "    });\n",
       "}\n",
       "\n",
       "mpl.figure.prototype._canvas_extra_style = function(el){\n",
       "    // this is important to make the div 'focusable\n",
       "    el.attr('tabindex', 0)\n",
       "    // reach out to IPython and tell the keyboard manager to turn it's self\n",
       "    // off when our div gets focus\n",
       "\n",
       "    // location in version 3\n",
       "    if (IPython.notebook.keyboard_manager) {\n",
       "        IPython.notebook.keyboard_manager.register_events(el);\n",
       "    }\n",
       "    else {\n",
       "        // location in version 2\n",
       "        IPython.keyboard_manager.register_events(el);\n",
       "    }\n",
       "\n",
       "}\n",
       "\n",
       "mpl.figure.prototype._key_event_extra = function(event, name) {\n",
       "    var manager = IPython.notebook.keyboard_manager;\n",
       "    if (!manager)\n",
       "        manager = IPython.keyboard_manager;\n",
       "\n",
       "    // Check for shift+enter\n",
       "    if (event.shiftKey && event.which == 13) {\n",
       "        this.canvas_div.blur();\n",
       "        event.shiftKey = false;\n",
       "        // Send a \"J\" for go to next cell\n",
       "        event.which = 74;\n",
       "        event.keyCode = 74;\n",
       "        manager.command_mode();\n",
       "        manager.handle_keydown(event);\n",
       "    }\n",
       "}\n",
       "\n",
       "mpl.figure.prototype.handle_save = function(fig, msg) {\n",
       "    fig.ondownload(fig, null);\n",
       "}\n",
       "\n",
       "\n",
       "mpl.find_output_cell = function(html_output) {\n",
       "    // Return the cell and output element which can be found *uniquely* in the notebook.\n",
       "    // Note - this is a bit hacky, but it is done because the \"notebook_saving.Notebook\"\n",
       "    // IPython event is triggered only after the cells have been serialised, which for\n",
       "    // our purposes (turning an active figure into a static one), is too late.\n",
       "    var cells = IPython.notebook.get_cells();\n",
       "    var ncells = cells.length;\n",
       "    for (var i=0; i<ncells; i++) {\n",
       "        var cell = cells[i];\n",
       "        if (cell.cell_type === 'code'){\n",
       "            for (var j=0; j<cell.output_area.outputs.length; j++) {\n",
       "                var data = cell.output_area.outputs[j];\n",
       "                if (data.data) {\n",
       "                    // IPython >= 3 moved mimebundle to data attribute of output\n",
       "                    data = data.data;\n",
       "                }\n",
       "                if (data['text/html'] == html_output) {\n",
       "                    return [cell, data, j];\n",
       "                }\n",
       "            }\n",
       "        }\n",
       "    }\n",
       "}\n",
       "\n",
       "// Register the function which deals with the matplotlib target/channel.\n",
       "// The kernel may be null if the page has been refreshed.\n",
       "if (IPython.notebook.kernel != null) {\n",
       "    IPython.notebook.kernel.comm_manager.register_target('matplotlib', mpl.mpl_figure_comm);\n",
       "}\n"
      ],
      "text/plain": [
       "<IPython.core.display.Javascript object>"
      ]
     },
     "metadata": {},
     "output_type": "display_data"
    },
    {
     "data": {
      "text/html": [
       "<img src=\"data:image/png;base64,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\" width=\"640\">"
      ],
      "text/plain": [
       "<IPython.core.display.HTML object>"
      ]
     },
     "metadata": {},
     "output_type": "display_data"
    },
    {
     "data": {
      "application/vnd.jupyter.widget-view+json": {
       "model_id": "ecd320bc4e3d4d2bb32f1cdc3936ac2c",
       "version_major": 2,
       "version_minor": 0
      },
      "text/plain": [
       "interactive(children=(IntSlider(value=0, description='layer', max=6), Output()), _dom_classes=('widget-interac…"
      ]
     },
     "metadata": {},
     "output_type": "display_data"
    }
   ],
   "source": [
    "data_loader = getattr(module_data, config['data_loader_test']['type'])(\n",
    "    config['data_loader']['args']['hdf5_path'],\n",
    "    batch_size=1,\n",
    "    shuffle=True,\n",
    "    validation_split=0.0,\n",
    "    training=False,\n",
    "    num_workers=0)\n",
    "print(\"Total number of training images = \" + str(data_loader.dataset.data_len))\n",
    "valid_data_loader = data_loader.split_validation() #allocate some images as validation\n",
    "\n",
    "normalized = False\n",
    "util.visualizeBatch(data_loader, normalized) "
   ]
  },
  {
   "cell_type": "code",
   "execution_count": 5,
   "metadata": {},
   "outputs": [
    {
     "name": "stdout",
     "output_type": "stream",
     "text": [
      "[*] max_iter: 81, eta: 3, B: 405\n"
     ]
    },
    {
     "ename": "ValueError",
     "evalue": "batch_size attribute should not be set after hdf5_3d_dataloader is initialized",
     "output_type": "error",
     "traceback": [
      "\u001b[1;31m---------------------------------------------------------------------------\u001b[0m",
      "\u001b[1;31mValueError\u001b[0m                                Traceback (most recent call last)",
      "\u001b[1;32m<ipython-input-5-57f02137a852>\u001b[0m in \u001b[0;36m<module>\u001b[1;34m\u001b[0m\n\u001b[0;32m      1\u001b[0m \u001b[0mho\u001b[0m \u001b[1;33m=\u001b[0m \u001b[0mHypOpt\u001b[0m\u001b[1;33m.\u001b[0m\u001b[0mHyperOptim\u001b[0m\u001b[1;33m(\u001b[0m\u001b[0margs\u001b[0m\u001b[1;33m,\u001b[0m \u001b[0mparams\u001b[0m\u001b[1;33m,\u001b[0m \u001b[0mconfig\u001b[0m\u001b[1;33m)\u001b[0m\u001b[1;33m\u001b[0m\u001b[1;33m\u001b[0m\u001b[0m\n\u001b[1;32m----> 2\u001b[1;33m \u001b[0mdata_loader\u001b[0m\u001b[1;33m.\u001b[0m\u001b[0mbatch_size\u001b[0m \u001b[1;33m=\u001b[0m \u001b[1;36m2\u001b[0m\u001b[1;33m\u001b[0m\u001b[1;33m\u001b[0m\u001b[0m\n\u001b[0m\u001b[0;32m      3\u001b[0m \u001b[0mprint\u001b[0m\u001b[1;33m(\u001b[0m\u001b[0mdata_loader\u001b[0m\u001b[1;33m.\u001b[0m\u001b[0mbatch_size\u001b[0m\u001b[1;33m)\u001b[0m\u001b[1;33m\u001b[0m\u001b[1;33m\u001b[0m\u001b[0m\n",
      "\u001b[1;32m~\\Documents\\pytorch36\\lib\\site-packages\\torch\\utils\\data\\dataloader.py\u001b[0m in \u001b[0;36m__setattr__\u001b[1;34m(self, attr, val)\u001b[0m\n\u001b[0;32m    186\u001b[0m         \u001b[1;32mif\u001b[0m \u001b[0mself\u001b[0m\u001b[1;33m.\u001b[0m\u001b[0m__initialized\u001b[0m \u001b[1;32mand\u001b[0m \u001b[0mattr\u001b[0m \u001b[1;32min\u001b[0m \u001b[1;33m(\u001b[0m\u001b[1;34m'batch_size'\u001b[0m\u001b[1;33m,\u001b[0m \u001b[1;34m'sampler'\u001b[0m\u001b[1;33m,\u001b[0m \u001b[1;34m'drop_last'\u001b[0m\u001b[1;33m)\u001b[0m\u001b[1;33m:\u001b[0m\u001b[1;33m\u001b[0m\u001b[1;33m\u001b[0m\u001b[0m\n\u001b[0;32m    187\u001b[0m             raise ValueError('{} attribute should not be set after {} is '\n\u001b[1;32m--> 188\u001b[1;33m                              'initialized'.format(attr, self.__class__.__name__))\n\u001b[0m\u001b[0;32m    189\u001b[0m \u001b[1;33m\u001b[0m\u001b[0m\n\u001b[0;32m    190\u001b[0m         \u001b[0msuper\u001b[0m\u001b[1;33m(\u001b[0m\u001b[0mDataLoader\u001b[0m\u001b[1;33m,\u001b[0m \u001b[0mself\u001b[0m\u001b[1;33m)\u001b[0m\u001b[1;33m.\u001b[0m\u001b[0m__setattr__\u001b[0m\u001b[1;33m(\u001b[0m\u001b[0mattr\u001b[0m\u001b[1;33m,\u001b[0m \u001b[0mval\u001b[0m\u001b[1;33m)\u001b[0m\u001b[1;33m\u001b[0m\u001b[1;33m\u001b[0m\u001b[0m\n",
      "\u001b[1;31mValueError\u001b[0m: batch_size attribute should not be set after hdf5_3d_dataloader is initialized"
     ]
    }
   ],
   "source": [
    "ho = HypOpt.HyperOptim(args, params, config)\n",
    "data_loader.batch_size = 2\n",
    "print(data_loader.batch_size)"
   ]
  },
  {
   "cell_type": "code",
   "execution_count": 9,
   "metadata": {},
   "outputs": [
    {
     "name": "stdout",
     "output_type": "stream",
     "text": [
      "s: 2\n",
      "[*] 1/3 - running 25 configs for 1 iters each\n"
     ]
    },
    {
     "name": "stderr",
     "output_type": "stream",
     "text": [
      "  0%|          | 0/25 [00:00<?, ?it/s]    epoch          : 1\n",
      "    loss           : 1.2695490990616576\n",
      "    balanced_accuracy: 0.4062526812526811\n",
      "    val_loss       : 1.4376846924741218\n",
      "    val_balanced_accuracy: 0.370466903073286\n"
     ]
    },
    {
     "name": "stdout",
     "output_type": "stream",
     "text": [
      "Model best! ---------------------------| \n"
     ]
    },
    {
     "name": "stderr",
     "output_type": "stream",
     "text": [
      "  4%|▍         | 1/25 [00:52<20:57, 52.40s/it]    epoch          : 1\n",
      "    loss           : 1.623007668716583\n",
      "    balanced_accuracy: 0.3008337284653069\n",
      "    val_loss       : 1.767731151982411\n",
      "    val_balanced_accuracy: 0.27771855010660956\n"
     ]
    },
    {
     "name": "stdout",
     "output_type": "stream",
     "text": [
      "Model best! ---------------------------| \n"
     ]
    },
    {
     "name": "stderr",
     "output_type": "stream",
     "text": [
      "  8%|▊         | 2/25 [02:33<25:42, 67.06s/it]    epoch          : 1\n",
      "    loss           : 1.1252290588436704\n",
      "    balanced_accuracy: 0.5110977426288412\n",
      "    val_loss       : 0.7651748657226562\n",
      "    val_balanced_accuracy: 0.5917949991970305\n"
     ]
    },
    {
     "name": "stdout",
     "output_type": "stream",
     "text": [
      "Model best! ---------------------------| \n"
     ]
    },
    {
     "name": "stderr",
     "output_type": "stream",
     "text": [
      " 12%|█▏        | 3/25 [02:40<18:01, 49.14s/it]    epoch          : 1\n",
      "    loss           : 1.0214246745640632\n",
      "    balanced_accuracy: 0.5210982979193884\n",
      "    val_loss       : 0.8610664535376985\n",
      "    val_balanced_accuracy: 0.5863659343638156\n"
     ]
    },
    {
     "name": "stdout",
     "output_type": "stream",
     "text": [
      "Model best! ---------------------------| \n"
     ]
    },
    {
     "name": "stderr",
     "output_type": "stream",
     "text": [
      " 16%|█▌        | 4/25 [03:07<14:47, 42.24s/it]    epoch          : 1\n",
      "    loss           : 1.618047103264593\n",
      "    balanced_accuracy: 0.2918247194562983\n",
      "    val_loss       : 1.410238066461803\n",
      "    val_balanced_accuracy: 0.38415067519545154\n"
     ]
    },
    {
     "name": "stdout",
     "output_type": "stream",
     "text": [
      "Model best! ---------------------------| \n"
     ]
    },
    {
     "name": "stderr",
     "output_type": "stream",
     "text": [
      " 20%|██        | 5/25 [04:44<19:35, 58.79s/it]    epoch          : 1\n",
      "    loss           : 1.0410232268499606\n",
      "    balanced_accuracy: 0.5428583163785788\n",
      "    val_loss       : 0.6649556835492452\n",
      "    val_balanced_accuracy: 0.7074067103546641\n"
     ]
    },
    {
     "name": "stdout",
     "output_type": "stream",
     "text": [
      "Model best! ---------------------------| \n"
     ]
    },
    {
     "name": "stderr",
     "output_type": "stream",
     "text": [
      " 24%|██▍       | 6/25 [04:52<13:49, 43.66s/it]    epoch          : 1\n",
      "    loss           : 0.8758590871637518\n",
      "    balanced_accuracy: 0.5850068078631309\n",
      "    val_loss       : 0.7855309778350895\n",
      "    val_balanced_accuracy: 0.5794121603443643\n"
     ]
    },
    {
     "name": "stdout",
     "output_type": "stream",
     "text": [
      "Model best! ---------------------------| \n"
     ]
    },
    {
     "name": "stderr",
     "output_type": "stream",
     "text": [
      " 28%|██▊       | 7/25 [05:08<10:32, 35.14s/it]    epoch          : 1\n",
      "    loss           : 0.9286609228813287\n",
      "    balanced_accuracy: 0.5433774579572983\n",
      "    val_loss       : 0.7908162434895833\n",
      "    val_balanced_accuracy: 0.5737976807397446\n"
     ]
    },
    {
     "name": "stdout",
     "output_type": "stream",
     "text": [
      "Model best! ---------------------------| \n"
     ]
    },
    {
     "name": "stderr",
     "output_type": "stream",
     "text": [
      " 32%|███▏      | 8/25 [05:15<07:34, 26.76s/it]    epoch          : 1\n",
      "    loss           : 1.1175295069362179\n",
      "    balanced_accuracy: 0.49725900537082957\n",
      "    val_loss       : 0.746931391954422\n",
      "    val_balanced_accuracy: 0.5957604842124966\n"
     ]
    },
    {
     "name": "stdout",
     "output_type": "stream",
     "text": [
      "Model best! ---------------------------| \n"
     ]
    },
    {
     "name": "stderr",
     "output_type": "stream",
     "text": [
      " 36%|███▌      | 9/25 [05:24<05:45, 21.58s/it]    epoch          : 1\n",
      "    loss           : 0.8766193812092146\n",
      "    balanced_accuracy: 0.5638938938114325\n",
      "    val_loss       : 3.012295198440552\n",
      "    val_balanced_accuracy: 0.36360728996304453\n"
     ]
    },
    {
     "name": "stdout",
     "output_type": "stream",
     "text": [
      "Model best! ---------------------------| \n"
     ]
    },
    {
     "name": "stderr",
     "output_type": "stream",
     "text": [
      " 40%|████      | 10/25 [05:38<04:49, 19.27s/it]    epoch          : 1\n",
      "    loss           : 0.9126638065684926\n",
      "    balanced_accuracy: 0.5495485485979525\n",
      "    val_loss       : 1.1707846422990162\n",
      "    val_balanced_accuracy: 0.4649028941990242\n"
     ]
    },
    {
     "name": "stdout",
     "output_type": "stream",
     "text": [
      "Model best! ---------------------------| \n"
     ]
    },
    {
     "name": "stderr",
     "output_type": "stream",
     "text": [
      " 44%|████▍     | 11/25 [05:52<04:08, 17.75s/it]    epoch          : 1\n",
      "    loss           : 1.3195346371575858\n",
      "    balanced_accuracy: 0.41249125064914577\n",
      "    val_loss       : 1.3345476290012928\n",
      "    val_balanced_accuracy: 0.2824113475177305\n"
     ]
    },
    {
     "name": "stdout",
     "output_type": "stream",
     "text": [
      "Model best! ---------------------------| \n"
     ]
    },
    {
     "name": "stderr",
     "output_type": "stream",
     "text": [
      " 48%|████▊     | 12/25 [06:42<05:53, 27.22s/it]    epoch          : 1\n",
      "    loss           : 1.2502051799586325\n",
      "    balanced_accuracy: 0.46402534311057775\n",
      "    val_loss       : 0.8299522995948792\n",
      "    val_balanced_accuracy: 0.6103783044724297\n"
     ]
    },
    {
     "name": "stdout",
     "output_type": "stream",
     "text": [
      "Model best! ---------------------------| \n"
     ]
    },
    {
     "name": "stderr",
     "output_type": "stream",
     "text": [
      " 52%|█████▏    | 13/25 [06:49<04:14, 21.17s/it]    epoch          : 1\n",
      "    loss           : 1.1610414190646199\n",
      "    balanced_accuracy: 0.4930597891124203\n",
      "    val_loss       : 0.7733686742630411\n",
      "    val_balanced_accuracy: 0.5687943262411349\n"
     ]
    },
    {
     "name": "stdout",
     "output_type": "stream",
     "text": [
      "Model best! ---------------------------| \n"
     ]
    },
    {
     "name": "stderr",
     "output_type": "stream",
     "text": [
      " 56%|█████▌    | 14/25 [07:39<05:28, 29.87s/it]    epoch          : 1\n",
      "    loss           : 1.005279884419658\n",
      "    balanced_accuracy: 0.5269798186305659\n",
      "    val_loss       : 3.175147231419881\n",
      "    val_balanced_accuracy: 0.20588705016908687\n"
     ]
    },
    {
     "name": "stdout",
     "output_type": "stream",
     "text": [
      "Model best! ---------------------------| \n"
     ]
    },
    {
     "name": "stderr",
     "output_type": "stream",
     "text": [
      " 60%|██████    | 15/25 [07:49<04:00, 24.02s/it]    epoch          : 1\n",
      "    loss           : 1.1774482090364804\n",
      "    balanced_accuracy: 0.4505167592076978\n",
      "    val_loss       : 6.086606878345296\n",
      "    val_balanced_accuracy: 0.19576271186440664\n"
     ]
    },
    {
     "name": "stdout",
     "output_type": "stream",
     "text": [
      "Model best! ---------------------------| \n"
     ]
    },
    {
     "name": "stderr",
     "output_type": "stream",
     "text": [
      " 64%|██████▍   | 16/25 [08:03<03:08, 20.98s/it]    epoch          : 1\n",
      "    loss           : 1.3543356880863564\n",
      "    balanced_accuracy: 0.45438201359253966\n",
      "    val_loss       : 1.1101608805056573\n",
      "    val_balanced_accuracy: 0.5335820895522384\n"
     ]
    },
    {
     "name": "stdout",
     "output_type": "stream",
     "text": [
      "Model best! ---------------------------| \n"
     ]
    },
    {
     "name": "stderr",
     "output_type": "stream",
     "text": [
      " 68%|██████▊   | 17/25 [09:39<05:48, 43.55s/it]    epoch          : 1\n",
      "    loss           : 1.3932475337998005\n",
      "    balanced_accuracy: 0.37875187217292483\n",
      "    val_loss       : 1.1797446834280136\n",
      "    val_balanced_accuracy: 0.4291312056737588\n"
     ]
    },
    {
     "name": "stdout",
     "output_type": "stream",
     "text": [
      "Model best! ---------------------------| \n"
     ]
    },
    {
     "name": "stderr",
     "output_type": "stream",
     "text": [
      " 72%|███████▏  | 18/25 [10:29<05:17, 45.38s/it]    epoch          : 1\n",
      "    loss           : 1.1695814864201979\n",
      "    balanced_accuracy: 0.4620951595721815\n",
      "    val_loss       : 1.1514442734799142\n",
      "    val_balanced_accuracy: 0.5739983086593259\n"
     ]
    },
    {
     "name": "stdout",
     "output_type": "stream",
     "text": [
      "Model best! ---------------------------| \n"
     ]
    },
    {
     "name": "stderr",
     "output_type": "stream",
     "text": [
      " 76%|███████▌  | 19/25 [10:44<03:38, 36.34s/it]    epoch          : 1\n",
      "    loss           : 0.959775345343532\n",
      "    balanced_accuracy: 0.5294203559243471\n",
      "    val_loss       : 3.084993108113607\n",
      "    val_balanced_accuracy: 0.20293182957393488\n"
     ]
    },
    {
     "name": "stdout",
     "output_type": "stream",
     "text": [
      "Model best! ---------------------------| \n"
     ]
    },
    {
     "name": "stderr",
     "output_type": "stream",
     "text": [
      " 80%|████████  | 20/25 [10:51<02:17, 27.53s/it]    epoch          : 1\n",
      "    loss           : 1.511573482105211\n",
      "    balanced_accuracy: 0.3482134390029122\n",
      "    val_loss       : 1.2416645225058212\n",
      "    val_balanced_accuracy: 0.37865248226950354\n"
     ]
    },
    {
     "name": "stdout",
     "output_type": "stream",
     "text": [
      "Model best! ---------------------------| \n"
     ]
    },
    {
     "name": "stderr",
     "output_type": "stream",
     "text": [
      " 84%|████████▍ | 21/25 [11:40<02:15, 33.86s/it]    epoch          : 1\n",
      "    loss           : 1.7234943803274387\n",
      "    balanced_accuracy: 0.2667733522996684\n",
      "    val_loss       : 1.5189166104615623\n",
      "    val_balanced_accuracy: 0.30561478322672364\n"
     ]
    },
    {
     "name": "stdout",
     "output_type": "stream",
     "text": [
      "Model best! ---------------------------| \n"
     ]
    },
    {
     "name": "stderr",
     "output_type": "stream",
     "text": [
      " 88%|████████▊ | 22/25 [13:18<02:39, 53.25s/it]    epoch          : 1\n",
      "    loss           : 1.0647464676788359\n",
      "    balanced_accuracy: 0.49221486785143603\n",
      "    val_loss       : 3.0797059138615928\n",
      "    val_balanced_accuracy: 0.37750261661714973\n"
     ]
    },
    {
     "name": "stdout",
     "output_type": "stream",
     "text": [
      "Model best! ---------------------------| \n"
     ]
    },
    {
     "name": "stderr",
     "output_type": "stream",
     "text": [
      " 92%|█████████▏| 23/25 [13:28<01:20, 40.05s/it]    epoch          : 1\n",
      "    loss           : 0.8281035143317599\n",
      "    balanced_accuracy: 0.5695600391728962\n",
      "    val_loss       : 1.4391096909840901\n",
      "    val_balanced_accuracy: 0.3531193339967826\n"
     ]
    },
    {
     "name": "stdout",
     "output_type": "stream",
     "text": [
      "Model best! ---------------------------| \n"
     ]
    },
    {
     "name": "stderr",
     "output_type": "stream",
     "text": [
      " 96%|█████████▌| 24/25 [13:39<00:31, 31.47s/it]    epoch          : 1\n",
      "    loss           : 0.9890370897271417\n",
      "    balanced_accuracy: 0.5381581050021198\n",
      "    val_loss       : 0.7705947836240132\n",
      "    val_balanced_accuracy: 0.6518863845638915\n"
     ]
    },
    {
     "name": "stdout",
     "output_type": "stream",
     "text": [
      "Model best! ---------------------------| \n"
     ]
    },
    {
     "name": "stderr",
     "output_type": "stream",
     "text": [
      "100%|██████████| 25/25 [13:46<00:00, 33.07s/it]\n"
     ]
    },
    {
     "name": "stdout",
     "output_type": "stream",
     "text": [
      "Left with: 5\n",
      "[*] 2/3 - running 5 configs for 5 iters each\n"
     ]
    },
    {
     "name": "stderr",
     "output_type": "stream",
     "text": [
      "  0%|          | 0/5 [00:00<?, ?it/s]    epoch          : 1\n",
      "    loss           : 1.025035963365526\n",
      "    balanced_accuracy: 0.5842470552905923\n",
      "    val_loss       : 0.65264839331309\n",
      "    val_balanced_accuracy: 0.7263032821129378\n"
     ]
    },
    {
     "name": "stdout",
     "output_type": "stream",
     "text": [
      "Model best! ---------------------------| \n"
     ]
    },
    {
     "name": "stderr",
     "output_type": "stream",
     "text": [
      "    epoch          : 2\n",
      "    loss           : 0.6761522478226459\n",
      "    balanced_accuracy: 0.709938270221176\n",
      "    val_loss       : 0.6718861738840739\n",
      "    val_balanced_accuracy: 0.7192854718917964\n"
     ]
    },
    {
     "name": "stdout",
     "output_type": "stream",
     "text": [
      "Model has not improved in -------------| 1 epochs\n"
     ]
    },
    {
     "name": "stderr",
     "output_type": "stream",
     "text": [
      "    epoch          : 3\n",
      "    loss           : 0.6027519264907548\n",
      "    balanced_accuracy: 0.7468749887626706\n",
      "    val_loss       : 0.5043799559275309\n",
      "    val_balanced_accuracy: 0.7936427856824747\n"
     ]
    },
    {
     "name": "stdout",
     "output_type": "stream",
     "text": [
      "Model best! ---------------------------| \n"
     ]
    },
    {
     "name": "stderr",
     "output_type": "stream",
     "text": [
      "    epoch          : 4\n",
      "    loss           : 0.5374335538257252\n",
      "    balanced_accuracy: 0.7801872243944495\n",
      "    val_loss       : 0.6160558799902598\n",
      "    val_balanced_accuracy: 0.7429821772534111\n"
     ]
    },
    {
     "name": "stdout",
     "output_type": "stream",
     "text": [
      "Model has not improved in -------------| 1 epochs\n"
     ]
    },
    {
     "name": "stderr",
     "output_type": "stream",
     "text": [
      "    epoch          : 5\n",
      "    loss           : 0.5006600539341117\n",
      "    balanced_accuracy: 0.7945871235532475\n",
      "    val_loss       : 0.48772965669631957\n",
      "    val_balanced_accuracy: 0.7929319757089363\n"
     ]
    },
    {
     "name": "stdout",
     "output_type": "stream",
     "text": [
      "Model best! ---------------------------| \n"
     ]
    },
    {
     "name": "stderr",
     "output_type": "stream",
     "text": [
      " 20%|██        | 1/5 [00:38<02:34, 38.55s/it]    epoch          : 1\n",
      "    loss           : 0.8923028068560542\n",
      "    balanced_accuracy: 0.5663297407383728\n",
      "    val_loss       : 0.7326317846775054\n",
      "    val_balanced_accuracy: 0.5919740897446779\n"
     ]
    },
    {
     "name": "stdout",
     "output_type": "stream",
     "text": [
      "Model best! ---------------------------| \n"
     ]
    },
    {
     "name": "stderr",
     "output_type": "stream",
     "text": [
      "    epoch          : 2\n",
      "    loss           : 0.7563464578353998\n",
      "    balanced_accuracy: 0.5984005207974143\n",
      "    val_loss       : 1.752352241675059\n",
      "    val_balanced_accuracy: 0.3872298955654656\n"
     ]
    },
    {
     "name": "stdout",
     "output_type": "stream",
     "text": [
      "Model has not improved in -------------| 1 epochs\n"
     ]
    },
    {
     "name": "stderr",
     "output_type": "stream",
     "text": [
      "    epoch          : 3\n",
      "    loss           : 0.7577027692036196\n",
      "    balanced_accuracy: 0.5948114092336693\n",
      "    val_loss       : 0.7450880179802577\n",
      "    val_balanced_accuracy: 0.5874083064533552\n"
     ]
    },
    {
     "name": "stdout",
     "output_type": "stream",
     "text": [
      "Model has not improved in -------------| 2 epochs\n"
     ]
    },
    {
     "name": "stderr",
     "output_type": "stream",
     "text": [
      "    epoch          : 4\n",
      "    loss           : 0.7418236226746531\n",
      "    balanced_accuracy: 0.5997741595076723\n",
      "    val_loss       : 0.7246966858704885\n",
      "    val_balanced_accuracy: 0.5943804713804715\n"
     ]
    },
    {
     "name": "stdout",
     "output_type": "stream",
     "text": [
      "Model best! ---------------------------| \n"
     ]
    },
    {
     "name": "stderr",
     "output_type": "stream",
     "text": [
      "    epoch          : 5\n",
      "    loss           : 0.7335042666756746\n",
      "    balanced_accuracy: 0.5924323534308473\n",
      "    val_loss       : 0.7332083861033122\n",
      "    val_balanced_accuracy: 0.6286524141169452\n"
     ]
    },
    {
     "name": "stdout",
     "output_type": "stream",
     "text": [
      "Model has not improved in -------------| 1 epochs\n"
     ]
    },
    {
     "name": "stderr",
     "output_type": "stream",
     "text": [
      " 40%|████      | 2/5 [01:22<02:00, 40.02s/it]    epoch          : 1\n",
      "    loss           : 1.3264819686159943\n",
      "    balanced_accuracy: 0.463652191874691\n",
      "    val_loss       : 0.8340368628501892\n",
      "    val_balanced_accuracy: 0.5712256773301311\n"
     ]
    },
    {
     "name": "stdout",
     "output_type": "stream",
     "text": [
      "Model best! ---------------------------| \n"
     ]
    },
    {
     "name": "stderr",
     "output_type": "stream",
     "text": [
      "    epoch          : 2\n",
      "    loss           : 0.8204686063708682\n",
      "    balanced_accuracy: 0.5934382186560652\n",
      "    val_loss       : 0.7228917519251505\n",
      "    val_balanced_accuracy: 0.5948320294167374\n"
     ]
    },
    {
     "name": "stdout",
     "output_type": "stream",
     "text": [
      "Model best! ---------------------------| \n"
     ]
    },
    {
     "name": "stderr",
     "output_type": "stream",
     "text": [
      "    epoch          : 3\n",
      "    loss           : 0.7485162015214111\n",
      "    balanced_accuracy: 0.6248587541396642\n",
      "    val_loss       : 0.744811228911082\n",
      "    val_balanced_accuracy: 0.6231415765080383\n"
     ]
    },
    {
     "name": "stdout",
     "output_type": "stream",
     "text": [
      "Model has not improved in -------------| 1 epochs\n"
     ]
    },
    {
     "name": "stderr",
     "output_type": "stream",
     "text": [
      "    epoch          : 4\n",
      "    loss           : 0.7277908537423972\n",
      "    balanced_accuracy: 0.6351718069805538\n",
      "    val_loss       : 0.6819403529167175\n",
      "    val_balanced_accuracy: 0.6620877957334973\n"
     ]
    },
    {
     "name": "stdout",
     "output_type": "stream",
     "text": [
      "Model best! ---------------------------| \n"
     ]
    },
    {
     "name": "stderr",
     "output_type": "stream",
     "text": [
      "    epoch          : 5\n",
      "    loss           : 0.7196149717677723\n",
      "    balanced_accuracy: 0.633071635152841\n",
      "    val_loss       : 0.7493202169736226\n",
      "    val_balanced_accuracy: 0.6664076158295871\n"
     ]
    },
    {
     "name": "stdout",
     "output_type": "stream",
     "text": [
      "Model has not improved in -------------| 1 epochs\n"
     ]
    },
    {
     "name": "stderr",
     "output_type": "stream",
     "text": [
      " 60%|██████    | 3/5 [01:54<01:15, 37.72s/it]    epoch          : 1\n",
      "    loss           : 0.9415212576136445\n",
      "    balanced_accuracy: 0.5636758094652381\n",
      "    val_loss       : 0.7615134636561076\n",
      "    val_balanced_accuracy: 0.6715808959688178\n"
     ]
    },
    {
     "name": "stdout",
     "output_type": "stream",
     "text": [
      "Model best! ---------------------------| \n"
     ]
    },
    {
     "name": "stderr",
     "output_type": "stream",
     "text": [
      "    epoch          : 2\n",
      "    loss           : 0.7460431135965117\n",
      "    balanced_accuracy: 0.6285351042067047\n",
      "    val_loss       : 0.9117044846216837\n",
      "    val_balanced_accuracy: 0.5730435828614752\n"
     ]
    },
    {
     "name": "stdout",
     "output_type": "stream",
     "text": [
      "Model has not improved in -------------| 1 epochs\n"
     ]
    },
    {
     "name": "stderr",
     "output_type": "stream",
     "text": [
      "    epoch          : 3\n",
      "    loss           : 0.7239104003617258\n",
      "    balanced_accuracy: 0.6496073898788348\n",
      "    val_loss       : 0.7563401222229004\n",
      "    val_balanced_accuracy: 0.644681363384818\n"
     ]
    },
    {
     "name": "stdout",
     "output_type": "stream",
     "text": [
      "Model best! ---------------------------| \n"
     ]
    },
    {
     "name": "stderr",
     "output_type": "stream",
     "text": [
      "    epoch          : 4\n",
      "    loss           : 0.701776180303458\n",
      "    balanced_accuracy: 0.6689018312922624\n",
      "    val_loss       : 0.6185620387395223\n",
      "    val_balanced_accuracy: 0.7432359825169219\n"
     ]
    },
    {
     "name": "stdout",
     "output_type": "stream",
     "text": [
      "Model best! ---------------------------| \n"
     ]
    },
    {
     "name": "stderr",
     "output_type": "stream",
     "text": [
      "    epoch          : 5\n",
      "    loss           : 0.657006127816258\n",
      "    balanced_accuracy: 0.7034580694988128\n",
      "    val_loss       : 0.6342231790224712\n",
      "    val_balanced_accuracy: 0.6985624392583621\n"
     ]
    },
    {
     "name": "stdout",
     "output_type": "stream",
     "text": [
      "Model has not improved in -------------| 1 epochs\n"
     ]
    },
    {
     "name": "stderr",
     "output_type": "stream",
     "text": [
      " 80%|████████  | 4/5 [02:26<00:36, 36.10s/it]    epoch          : 1\n",
      "    loss           : 1.1394818792867683\n",
      "    balanced_accuracy: 0.49670111841164477\n",
      "    val_loss       : 0.7447432131209272\n",
      "    val_balanced_accuracy: 0.6355614657210397\n"
     ]
    },
    {
     "name": "stdout",
     "output_type": "stream",
     "text": [
      "Model best! ---------------------------| \n"
     ]
    },
    {
     "name": "stderr",
     "output_type": "stream",
     "text": [
      "    epoch          : 2\n",
      "    loss           : 1.051364785591083\n",
      "    balanced_accuracy: 0.5376875936086462\n",
      "    val_loss       : 0.8889561513636974\n",
      "    val_balanced_accuracy: 0.5742021276595747\n"
     ]
    },
    {
     "name": "stdout",
     "output_type": "stream",
     "text": [
      "Model has not improved in -------------| 1 epochs\n"
     ]
    },
    {
     "name": "stderr",
     "output_type": "stream",
     "text": [
      "    epoch          : 3\n",
      "    loss           : 1.045424385721393\n",
      "    balanced_accuracy: 0.5374749749749752\n",
      "    val_loss       : 0.8052613581114627\n",
      "    val_balanced_accuracy: 0.6203132387706854\n"
     ]
    },
    {
     "name": "stdout",
     "output_type": "stream",
     "text": [
      "Model has not improved in -------------| 2 epochs\n"
     ]
    },
    {
     "name": "stderr",
     "output_type": "stream",
     "text": [
      "    epoch          : 4\n",
      "    loss           : 1.0085623592152422\n",
      "    balanced_accuracy: 0.5568450028976336\n",
      "    val_loss       : 0.8201607078313827\n",
      "    val_balanced_accuracy: 0.6218735224586285\n"
     ]
    },
    {
     "name": "stdout",
     "output_type": "stream",
     "text": [
      "Model has not improved in -------------| 3 epochs\n"
     ]
    },
    {
     "name": "stderr",
     "output_type": "stream",
     "text": [
      "    epoch          : 5\n",
      "    loss           : 1.0071686800479211\n",
      "    balanced_accuracy: 0.5526726914884807\n",
      "    val_loss       : 0.7822614925972959\n",
      "    val_balanced_accuracy: 0.6178250591016549\n"
     ]
    },
    {
     "name": "stdout",
     "output_type": "stream",
     "text": [
      "Model has not improved in -------------| 4 epochs\n"
     ]
    },
    {
     "name": "stderr",
     "output_type": "stream",
     "text": [
      "100%|██████████| 5/5 [06:36<00:00, 79.39s/it] \n"
     ]
    },
    {
     "name": "stdout",
     "output_type": "stream",
     "text": [
      "[*] 3/3 - running 5 configs for 25 iters each\n"
     ]
    },
    {
     "name": "stderr",
     "output_type": "stream",
     "text": [
      "  0%|          | 0/5 [00:00<?, ?it/s]    epoch          : 1\n",
      "    loss           : 1.0375853465362028\n",
      "    balanced_accuracy: 0.5553400393648538\n",
      "    val_loss       : 0.6956254243850708\n",
      "    val_balanced_accuracy: 0.6890673749074765\n"
     ]
    },
    {
     "name": "stdout",
     "output_type": "stream",
     "text": [
      "Model best! ---------------------------| \n"
     ]
    },
    {
     "name": "stderr",
     "output_type": "stream",
     "text": [
      "    epoch          : 2\n",
      "    loss           : 0.7325473649032188\n",
      "    balanced_accuracy: 0.6586940485591004\n",
      "    val_loss       : 0.6274210691452027\n",
      "    val_balanced_accuracy: 0.7279098766037312\n"
     ]
    },
    {
     "name": "stdout",
     "output_type": "stream",
     "text": [
      "Model best! ---------------------------| \n"
     ]
    },
    {
     "name": "stderr",
     "output_type": "stream",
     "text": [
      "    epoch          : 3\n",
      "    loss           : 0.651910734447566\n",
      "    balanced_accuracy: 0.709687087844701\n",
      "    val_loss       : 0.5571041186650594\n",
      "    val_balanced_accuracy: 0.7758897368418497\n"
     ]
    },
    {
     "name": "stdout",
     "output_type": "stream",
     "text": [
      "Model best! ---------------------------| \n"
     ]
    },
    {
     "name": "stderr",
     "output_type": "stream",
     "text": [
      "    epoch          : 4\n",
      "    loss           : 0.5747624665047183\n",
      "    balanced_accuracy: 0.7592648909489705\n",
      "    val_loss       : 0.5747584064801534\n",
      "    val_balanced_accuracy: 0.7512895120933312\n"
     ]
    },
    {
     "name": "stdout",
     "output_type": "stream",
     "text": [
      "Model has not improved in -------------| 1 epochs\n"
     ]
    },
    {
     "name": "stderr",
     "output_type": "stream",
     "text": [
      "    epoch          : 5\n",
      "    loss           : 0.5461894465666829\n",
      "    balanced_accuracy: 0.7717286459666968\n",
      "    val_loss       : 0.6813779274622599\n",
      "    val_balanced_accuracy: 0.6889323962758452\n"
     ]
    },
    {
     "name": "stdout",
     "output_type": "stream",
     "text": [
      "Model has not improved in -------------| 2 epochs\n"
     ]
    },
    {
     "name": "stderr",
     "output_type": "stream",
     "text": [
      "    epoch          : 6\n",
      "    loss           : 0.5110085994908304\n",
      "    balanced_accuracy: 0.7967468310167731\n",
      "    val_loss       : 0.5452502528826396\n",
      "    val_balanced_accuracy: 0.7844117937836749\n"
     ]
    },
    {
     "name": "stdout",
     "output_type": "stream",
     "text": [
      "Model best! ---------------------------| \n"
     ]
    },
    {
     "name": "stderr",
     "output_type": "stream",
     "text": [
      "    epoch          : 7\n",
      "    loss           : 0.4903309896136775\n",
      "    balanced_accuracy: 0.7969242718656271\n",
      "    val_loss       : 0.4750809411207835\n",
      "    val_balanced_accuracy: 0.8013042074329347\n"
     ]
    },
    {
     "name": "stdout",
     "output_type": "stream",
     "text": [
      "Model best! ---------------------------| \n"
     ]
    },
    {
     "name": "stderr",
     "output_type": "stream",
     "text": [
      "    epoch          : 8\n",
      "    loss           : 0.46937173537232657\n",
      "    balanced_accuracy: 0.8162201633369093\n",
      "    val_loss       : 0.44810075958569845\n",
      "    val_balanced_accuracy: 0.7847361580637966\n"
     ]
    },
    {
     "name": "stdout",
     "output_type": "stream",
     "text": [
      "Model best! ---------------------------| \n"
     ]
    },
    {
     "name": "stderr",
     "output_type": "stream",
     "text": [
      "    epoch          : 9\n",
      "    loss           : 0.46577455577525223\n",
      "    balanced_accuracy: 0.8221402880413032\n",
      "    val_loss       : 0.47976497809092206\n",
      "    val_balanced_accuracy: 0.7954627804706381\n"
     ]
    },
    {
     "name": "stdout",
     "output_type": "stream",
     "text": [
      "Model has not improved in -------------| 1 epochs\n"
     ]
    },
    {
     "name": "stderr",
     "output_type": "stream",
     "text": [
      "    epoch          : 10\n",
      "    loss           : 0.4497777320670359\n",
      "    balanced_accuracy: 0.824731702642044\n",
      "    val_loss       : 0.4614098370075226\n",
      "    val_balanced_accuracy: 0.8078291926450631\n"
     ]
    },
    {
     "name": "stdout",
     "output_type": "stream",
     "text": [
      "Model has not improved in -------------| 2 epochs\n"
     ]
    },
    {
     "name": "stderr",
     "output_type": "stream",
     "text": [
      "    epoch          : 11\n",
      "    loss           : 0.4600880807547858\n",
      "    balanced_accuracy: 0.8209517878356206\n",
      "    val_loss       : 0.46031654079755147\n",
      "    val_balanced_accuracy: 0.8081406936678502\n"
     ]
    },
    {
     "name": "stdout",
     "output_type": "stream",
     "text": [
      "Model has not improved in -------------| 3 epochs\n"
     ]
    },
    {
     "name": "stderr",
     "output_type": "stream",
     "text": [
      "    epoch          : 12\n",
      "    loss           : 0.4318691340811325\n",
      "    balanced_accuracy: 0.8364141528512065\n",
      "    val_loss       : 0.6335020383199056\n",
      "    val_balanced_accuracy: 0.746912969417047\n"
     ]
    },
    {
     "name": "stdout",
     "output_type": "stream",
     "text": [
      "Model has not improved in -------------| 4 epochs\n"
     ]
    },
    {
     "name": "stderr",
     "output_type": "stream",
     "text": [
      "    epoch          : 13\n",
      "    loss           : 0.4189587242224\n",
      "    balanced_accuracy: 0.839583717863863\n",
      "    val_loss       : 0.41740959088007606\n",
      "    val_balanced_accuracy: 0.8253975711593713\n"
     ]
    },
    {
     "name": "stdout",
     "output_type": "stream",
     "text": [
      "Model best! ---------------------------| \n"
     ]
    },
    {
     "name": "stderr",
     "output_type": "stream",
     "text": [
      "    epoch          : 14\n",
      "    loss           : 0.41332928813768155\n",
      "    balanced_accuracy: 0.8401096264789301\n",
      "    val_loss       : 0.4294218897819519\n",
      "    val_balanced_accuracy: 0.8304098753877719\n"
     ]
    },
    {
     "name": "stdout",
     "output_type": "stream",
     "text": [
      "Model has not improved in -------------| 1 epochs\n"
     ]
    },
    {
     "name": "stderr",
     "output_type": "stream",
     "text": [
      "    epoch          : 15\n",
      "    loss           : 0.4103050400136095\n",
      "    balanced_accuracy: 0.8456217094991962\n",
      "    val_loss       : 0.3833896636962891\n",
      "    val_balanced_accuracy: 0.8579252469655588\n"
     ]
    },
    {
     "name": "stdout",
     "output_type": "stream",
     "text": [
      "Model best! ---------------------------| \n"
     ]
    },
    {
     "name": "stderr",
     "output_type": "stream",
     "text": [
      "    epoch          : 16\n",
      "    loss           : 0.4053141043493242\n",
      "    balanced_accuracy: 0.845655239011576\n",
      "    val_loss       : 0.3781174172957738\n",
      "    val_balanced_accuracy: 0.8544321398631508\n"
     ]
    },
    {
     "name": "stdout",
     "output_type": "stream",
     "text": [
      "Model best! ---------------------------| \n"
     ]
    },
    {
     "name": "stderr",
     "output_type": "stream",
     "text": [
      "    epoch          : 17\n",
      "    loss           : 0.3995051012572014\n",
      "    balanced_accuracy: 0.8480596767496322\n",
      "    val_loss       : 0.8986880222956339\n",
      "    val_balanced_accuracy: 0.6520518259793605\n"
     ]
    },
    {
     "name": "stdout",
     "output_type": "stream",
     "text": [
      "Model has not improved in -------------| 1 epochs\n"
     ]
    },
    {
     "name": "stderr",
     "output_type": "stream",
     "text": [
      "    epoch          : 18\n",
      "    loss           : 0.39497513188557193\n",
      "    balanced_accuracy: 0.8536960874854226\n",
      "    val_loss       : 0.5713031113147735\n",
      "    val_balanced_accuracy: 0.775279574160561\n"
     ]
    },
    {
     "name": "stdout",
     "output_type": "stream",
     "text": [
      "Model has not improved in -------------| 2 epochs\n"
     ]
    },
    {
     "name": "stderr",
     "output_type": "stream",
     "text": [
      "    epoch          : 19\n",
      "    loss           : 0.4027292351379539\n",
      "    balanced_accuracy: 0.8517633339359449\n",
      "    val_loss       : 0.427692969640096\n",
      "    val_balanced_accuracy: 0.8250143289467039\n"
     ]
    },
    {
     "name": "stdout",
     "output_type": "stream",
     "text": [
      "Model has not improved in -------------| 3 epochs\n"
     ]
    },
    {
     "name": "stderr",
     "output_type": "stream",
     "text": [
      "    epoch          : 20\n",
      "    loss           : 0.39330243782112095\n",
      "    balanced_accuracy: 0.8504964163521395\n",
      "    val_loss       : 0.9539831161499024\n",
      "    val_balanced_accuracy: 0.7143893309012016\n"
     ]
    },
    {
     "name": "stdout",
     "output_type": "stream",
     "text": [
      "Model has not improved in -------------| 4 epochs\n"
     ]
    },
    {
     "name": "stderr",
     "output_type": "stream",
     "text": [
      "    epoch          : 21\n",
      "    loss           : 0.3853903514417735\n",
      "    balanced_accuracy: 0.8571160810919971\n",
      "    val_loss       : 0.40099361340204875\n",
      "    val_balanced_accuracy: 0.8389676432037876\n"
     ]
    },
    {
     "name": "stdout",
     "output_type": "stream",
     "text": [
      "Model has not improved in -------------| 5 epochs\n"
     ]
    },
    {
     "name": "stderr",
     "output_type": "stream",
     "text": [
      "    epoch          : 22\n",
      "    loss           : 0.3821183368563652\n",
      "    balanced_accuracy: 0.8589488032626607\n",
      "    val_loss       : 0.4021620869636536\n",
      "    val_balanced_accuracy: 0.8261273302169013\n"
     ]
    },
    {
     "name": "stdout",
     "output_type": "stream",
     "text": [
      "Model has not improved in -------------| 6 epochs\n"
     ]
    },
    {
     "name": "stderr",
     "output_type": "stream",
     "text": [
      "    epoch          : 23\n",
      "    loss           : 0.38162891961859935\n",
      "    balanced_accuracy: 0.8575497436862491\n",
      "    val_loss       : 0.36792380213737486\n",
      "    val_balanced_accuracy: 0.8573424805130048\n"
     ]
    },
    {
     "name": "stdout",
     "output_type": "stream",
     "text": [
      "Model best! ---------------------------| \n"
     ]
    },
    {
     "name": "stderr",
     "output_type": "stream",
     "text": [
      "    epoch          : 24\n",
      "    loss           : 0.3790710900317539\n",
      "    balanced_accuracy: 0.8613879923363853\n",
      "    val_loss       : 0.40769245425860084\n",
      "    val_balanced_accuracy: 0.8164373536856068\n"
     ]
    },
    {
     "name": "stdout",
     "output_type": "stream",
     "text": [
      "Model has not improved in -------------| 1 epochs\n"
     ]
    },
    {
     "name": "stderr",
     "output_type": "stream",
     "text": [
      "    epoch          : 25\n",
      "    loss           : 0.37342899405595026\n",
      "    balanced_accuracy: 0.860360926674288\n",
      "    val_loss       : 0.7490702470143636\n",
      "    val_balanced_accuracy: 0.7238197837225854\n"
     ]
    },
    {
     "name": "stdout",
     "output_type": "stream",
     "text": [
      "Model has not improved in -------------| 2 epochs\n"
     ]
    },
    {
     "name": "stderr",
     "output_type": "stream",
     "text": [
      " 20%|██        | 1/5 [03:10<12:42, 190.63s/it]    epoch          : 1\n",
      "    loss           : 0.9652941355651076\n",
      "    balanced_accuracy: 0.5323981463092348\n",
      "    val_loss       : 0.7396949887275696\n",
      "    val_balanced_accuracy: 0.5850459430761826\n"
     ]
    },
    {
     "name": "stdout",
     "output_type": "stream",
     "text": [
      "Model best! ---------------------------| \n"
     ]
    },
    {
     "name": "stderr",
     "output_type": "stream",
     "text": [
      "    epoch          : 2\n",
      "    loss           : 0.7775221437667356\n",
      "    balanced_accuracy: 0.5867022596398662\n",
      "    val_loss       : 0.7077060043811798\n",
      "    val_balanced_accuracy: 0.6066356418435366\n"
     ]
    },
    {
     "name": "stdout",
     "output_type": "stream",
     "text": [
      "Model best! ---------------------------| \n"
     ]
    },
    {
     "name": "stderr",
     "output_type": "stream",
     "text": [
      "    epoch          : 3\n",
      "    loss           : 0.7439424685682311\n",
      "    balanced_accuracy: 0.6043936083078306\n",
      "    val_loss       : 0.7300762712955475\n",
      "    val_balanced_accuracy: 0.5950377367329379\n"
     ]
    },
    {
     "name": "stdout",
     "output_type": "stream",
     "text": [
      "Model has not improved in -------------| 1 epochs\n"
     ]
    },
    {
     "name": "stderr",
     "output_type": "stream",
     "text": [
      "    epoch          : 4\n",
      "    loss           : 0.7379437800158154\n",
      "    balanced_accuracy: 0.6012315468073496\n",
      "    val_loss       : 0.7188735117514928\n",
      "    val_balanced_accuracy: 0.605266609969053\n"
     ]
    },
    {
     "name": "stdout",
     "output_type": "stream",
     "text": [
      "Model has not improved in -------------| 2 epochs\n"
     ]
    },
    {
     "name": "stderr",
     "output_type": "stream",
     "text": [
      "    epoch          : 5\n",
      "    loss           : 0.7596448694892002\n",
      "    balanced_accuracy: 0.5981474547359222\n",
      "    val_loss       : 0.7096413115660349\n",
      "    val_balanced_accuracy: 0.5909616690499042\n"
     ]
    },
    {
     "name": "stdout",
     "output_type": "stream",
     "text": [
      "Model has not improved in -------------| 3 epochs\n"
     ]
    },
    {
     "name": "stderr",
     "output_type": "stream",
     "text": [
      "    epoch          : 6\n",
      "    loss           : 0.7335205111991275\n",
      "    balanced_accuracy: 0.6176770649839436\n",
      "    val_loss       : 0.6964737216631571\n",
      "    val_balanced_accuracy: 0.6499222649978809\n"
     ]
    },
    {
     "name": "stdout",
     "output_type": "stream",
     "text": [
      "Model best! ---------------------------| \n"
     ]
    },
    {
     "name": "stderr",
     "output_type": "stream",
     "text": [
      "    epoch          : 7\n",
      "    loss           : 0.7074693154656526\n",
      "    balanced_accuracy: 0.646060596259043\n",
      "    val_loss       : 0.6781999349594117\n",
      "    val_balanced_accuracy: 0.6526165043010513\n"
     ]
    },
    {
     "name": "stdout",
     "output_type": "stream",
     "text": [
      "Model best! ---------------------------| \n"
     ]
    },
    {
     "name": "stderr",
     "output_type": "stream",
     "text": [
      "    epoch          : 8\n",
      "    loss           : 0.7005606948426275\n",
      "    balanced_accuracy: 0.6614108877877668\n",
      "    val_loss       : 0.6869059960047404\n",
      "    val_balanced_accuracy: 0.6574698947684882\n"
     ]
    },
    {
     "name": "stdout",
     "output_type": "stream",
     "text": [
      "Model has not improved in -------------| 1 epochs\n"
     ]
    },
    {
     "name": "stderr",
     "output_type": "stream",
     "text": [
      "    epoch          : 9\n",
      "    loss           : 0.6800659616110902\n",
      "    balanced_accuracy: 0.6694842371114346\n",
      "    val_loss       : 0.5932661861181259\n",
      "    val_balanced_accuracy: 0.7216108846359217\n"
     ]
    },
    {
     "name": "stdout",
     "output_type": "stream",
     "text": [
      "Model best! ---------------------------| \n"
     ]
    },
    {
     "name": "stderr",
     "output_type": "stream",
     "text": [
      "    epoch          : 10\n",
      "    loss           : 0.6700056426678643\n",
      "    balanced_accuracy: 0.6852768446077978\n",
      "    val_loss       : 0.6349010616540909\n",
      "    val_balanced_accuracy: 0.699203632435593\n"
     ]
    },
    {
     "name": "stdout",
     "output_type": "stream",
     "text": [
      "Model has not improved in -------------| 1 epochs\n"
     ]
    },
    {
     "name": "stderr",
     "output_type": "stream",
     "text": [
      "    epoch          : 11\n",
      "    loss           : 0.6451196339771603\n",
      "    balanced_accuracy: 0.6999490810696112\n",
      "    val_loss       : 0.6182843764623006\n",
      "    val_balanced_accuracy: 0.6966014364157451\n"
     ]
    },
    {
     "name": "stdout",
     "output_type": "stream",
     "text": [
      "Model has not improved in -------------| 2 epochs\n"
     ]
    },
    {
     "name": "stderr",
     "output_type": "stream",
     "text": [
      "    epoch          : 12\n",
      "    loss           : 0.6401316068614974\n",
      "    balanced_accuracy: 0.7021175909378107\n",
      "    val_loss       : 0.7343410472075145\n",
      "    val_balanced_accuracy: 0.6646685432319435\n"
     ]
    },
    {
     "name": "stdout",
     "output_type": "stream",
     "text": [
      "Model has not improved in -------------| 3 epochs\n"
     ]
    },
    {
     "name": "stderr",
     "output_type": "stream",
     "text": [
      "    epoch          : 13\n",
      "    loss           : 0.7196953629679752\n",
      "    balanced_accuracy: 0.658888560549847\n",
      "    val_loss       : 0.678638098637263\n",
      "    val_balanced_accuracy: 0.6644324221349147\n"
     ]
    },
    {
     "name": "stdout",
     "output_type": "stream",
     "text": [
      "Model has not improved in -------------| 4 epochs\n"
     ]
    },
    {
     "name": "stderr",
     "output_type": "stream",
     "text": [
      "    epoch          : 14\n",
      "    loss           : 0.6480351185256784\n",
      "    balanced_accuracy: 0.6958807985323533\n",
      "    val_loss       : 1.188922788699468\n",
      "    val_balanced_accuracy: 0.47623889337979397\n"
     ]
    },
    {
     "name": "stdout",
     "output_type": "stream",
     "text": [
      "Model has not improved in -------------| 5 epochs\n"
     ]
    },
    {
     "name": "stderr",
     "output_type": "stream",
     "text": [
      "    epoch          : 15\n",
      "    loss           : 0.6555469958393862\n",
      "    balanced_accuracy: 0.6963592106583499\n",
      "    val_loss       : 0.9043742100397746\n",
      "    val_balanced_accuracy: 0.62160924800311\n"
     ]
    },
    {
     "name": "stdout",
     "output_type": "stream",
     "text": [
      "Model has not improved in -------------| 6 epochs\n"
     ]
    },
    {
     "name": "stderr",
     "output_type": "stream",
     "text": [
      "    epoch          : 16\n",
      "    loss           : 0.6111093012220932\n",
      "    balanced_accuracy: 0.7225718470345392\n",
      "    val_loss       : 0.6136712322632472\n",
      "    val_balanced_accuracy: 0.7053061166731446\n"
     ]
    },
    {
     "name": "stdout",
     "output_type": "stream",
     "text": [
      "Model has not improved in -------------| 7 epochs\n"
     ]
    },
    {
     "name": "stderr",
     "output_type": "stream",
     "text": [
      "    epoch          : 17\n",
      "    loss           : 0.6195138534813216\n",
      "    balanced_accuracy: 0.7180468691234929\n",
      "    val_loss       : 0.592679426074028\n",
      "    val_balanced_accuracy: 0.7231260325630474\n"
     ]
    },
    {
     "name": "stdout",
     "output_type": "stream",
     "text": [
      "Model best! ---------------------------| \n"
     ]
    },
    {
     "name": "stderr",
     "output_type": "stream",
     "text": [
      "    epoch          : 18\n",
      "    loss           : 0.6044094465447195\n",
      "    balanced_accuracy: 0.7204356658628405\n",
      "    val_loss       : 0.6570593098799388\n",
      "    val_balanced_accuracy: 0.6813456773749277\n"
     ]
    },
    {
     "name": "stdout",
     "output_type": "stream",
     "text": [
      "Model has not improved in -------------| 1 epochs\n"
     ]
    },
    {
     "name": "stderr",
     "output_type": "stream",
     "text": [
      "    epoch          : 19\n",
      "    loss           : 0.6071238882388129\n",
      "    balanced_accuracy: 0.7226427151256316\n",
      "    val_loss       : 2.083891793092092\n",
      "    val_balanced_accuracy: 0.45644648258841963\n"
     ]
    },
    {
     "name": "stdout",
     "output_type": "stream",
     "text": [
      "Model has not improved in -------------| 2 epochs\n"
     ]
    },
    {
     "name": "stderr",
     "output_type": "stream",
     "text": [
      "    epoch          : 20\n",
      "    loss           : 0.6000730632381006\n",
      "    balanced_accuracy: 0.72185508833442\n",
      "    val_loss       : 0.684531017144521\n",
      "    val_balanced_accuracy: 0.7143806571384377\n"
     ]
    },
    {
     "name": "stdout",
     "output_type": "stream",
     "text": [
      "Model has not improved in -------------| 3 epochs\n"
     ]
    },
    {
     "name": "stderr",
     "output_type": "stream",
     "text": [
      "    epoch          : 21\n",
      "    loss           : 0.6297441018801747\n",
      "    balanced_accuracy: 0.7098825490644289\n",
      "    val_loss       : 0.5952944159507751\n",
      "    val_balanced_accuracy: 0.7028069532004515\n"
     ]
    },
    {
     "name": "stdout",
     "output_type": "stream",
     "text": [
      "Model has not improved in -------------| 4 epochs\n"
     ]
    },
    {
     "name": "stderr",
     "output_type": "stream",
     "text": [
      "    epoch          : 22\n",
      "    loss           : 0.5935525797081717\n",
      "    balanced_accuracy: 0.7280856502517151\n",
      "    val_loss       : 0.5441611846288045\n",
      "    val_balanced_accuracy: 0.7461175876209462\n"
     ]
    },
    {
     "name": "stdout",
     "output_type": "stream",
     "text": [
      "Model best! ---------------------------| \n"
     ]
    },
    {
     "name": "stderr",
     "output_type": "stream",
     "text": [
      "    epoch          : 23\n",
      "    loss           : 0.5780755464326252\n",
      "    balanced_accuracy: 0.7365320720101115\n",
      "    val_loss       : 0.676166546344757\n",
      "    val_balanced_accuracy: 0.702142775202642\n"
     ]
    },
    {
     "name": "stdout",
     "output_type": "stream",
     "text": [
      "Model has not improved in -------------| 1 epochs\n"
     ]
    },
    {
     "name": "stderr",
     "output_type": "stream",
     "text": [
      "    epoch          : 24\n",
      "    loss           : 0.5945481566542928\n",
      "    balanced_accuracy: 0.7277539343387819\n",
      "    val_loss       : 0.6033316155274709\n",
      "    val_balanced_accuracy: 0.6934001749819357\n"
     ]
    },
    {
     "name": "stdout",
     "output_type": "stream",
     "text": [
      "Model has not improved in -------------| 2 epochs\n"
     ]
    },
    {
     "name": "stderr",
     "output_type": "stream",
     "text": [
      "    epoch          : 25\n",
      "    loss           : 0.5776343259847525\n",
      "    balanced_accuracy: 0.7418159532615403\n",
      "    val_loss       : 0.57877197265625\n",
      "    val_balanced_accuracy: 0.7281518078813746\n"
     ]
    },
    {
     "name": "stdout",
     "output_type": "stream",
     "text": [
      "Model has not improved in -------------| 3 epochs\n"
     ]
    },
    {
     "name": "stderr",
     "output_type": "stream",
     "text": [
      " 40%|████      | 2/5 [06:42<09:51, 197.07s/it]    epoch          : 1\n",
      "    loss           : 1.0388455734108433\n",
      "    balanced_accuracy: 0.5322200146880799\n",
      "    val_loss       : 0.7190322399139404\n",
      "    val_balanced_accuracy: 0.6557184747677439\n"
     ]
    },
    {
     "name": "stdout",
     "output_type": "stream",
     "text": [
      "Model best! ---------------------------| \n"
     ]
    },
    {
     "name": "stderr",
     "output_type": "stream",
     "text": [
      "    epoch          : 2\n",
      "    loss           : 0.7451154824459192\n",
      "    balanced_accuracy: 0.637786720679796\n",
      "    val_loss       : 0.6478596289952596\n",
      "    val_balanced_accuracy: 0.704818633276772\n"
     ]
    },
    {
     "name": "stdout",
     "output_type": "stream",
     "text": [
      "Model best! ---------------------------| \n"
     ]
    },
    {
     "name": "stderr",
     "output_type": "stream",
     "text": [
      "    epoch          : 3\n",
      "    loss           : 0.6894888399225293\n",
      "    balanced_accuracy: 0.6815780547285429\n",
      "    val_loss       : 0.6306343833605449\n",
      "    val_balanced_accuracy: 0.7016644646428548\n"
     ]
    },
    {
     "name": "stdout",
     "output_type": "stream",
     "text": [
      "Model best! ---------------------------| \n"
     ]
    },
    {
     "name": "stderr",
     "output_type": "stream",
     "text": [
      "    epoch          : 4\n",
      "    loss           : 0.6444361015702739\n",
      "    balanced_accuracy: 0.7068896746623475\n",
      "    val_loss       : 0.5668898264567057\n",
      "    val_balanced_accuracy: 0.748113896947232\n"
     ]
    },
    {
     "name": "stdout",
     "output_type": "stream",
     "text": [
      "Model best! ---------------------------| \n"
     ]
    },
    {
     "name": "stderr",
     "output_type": "stream",
     "text": [
      "    epoch          : 5\n",
      "    loss           : 0.5913673120014595\n",
      "    balanced_accuracy: 0.7405150638240271\n",
      "    val_loss       : 0.5929215470949809\n",
      "    val_balanced_accuracy: 0.7615236926552067\n"
     ]
    },
    {
     "name": "stdout",
     "output_type": "stream",
     "text": [
      "Model has not improved in -------------| 1 epochs\n"
     ]
    },
    {
     "name": "stderr",
     "output_type": "stream",
     "text": [
      "    epoch          : 6\n",
      "    loss           : 0.5853826439741886\n",
      "    balanced_accuracy: 0.7425565642801742\n",
      "    val_loss       : 0.6864486833413442\n",
      "    val_balanced_accuracy: 0.7186227027016614\n"
     ]
    },
    {
     "name": "stdout",
     "output_type": "stream",
     "text": [
      "Model has not improved in -------------| 2 epochs\n"
     ]
    },
    {
     "name": "stderr",
     "output_type": "stream",
     "text": [
      "    epoch          : 7\n",
      "    loss           : 0.5549501625425888\n",
      "    balanced_accuracy: 0.766373852245433\n",
      "    val_loss       : 0.6007619539896647\n",
      "    val_balanced_accuracy: 0.7217479008306609\n"
     ]
    },
    {
     "name": "stdout",
     "output_type": "stream",
     "text": [
      "Model has not improved in -------------| 3 epochs\n"
     ]
    },
    {
     "name": "stderr",
     "output_type": "stream",
     "text": [
      "    epoch          : 8\n",
      "    loss           : 0.5289503198229906\n",
      "    balanced_accuracy: 0.7741162311305877\n",
      "    val_loss       : 0.46528082688649497\n",
      "    val_balanced_accuracy: 0.80131069181419\n"
     ]
    },
    {
     "name": "stdout",
     "output_type": "stream",
     "text": [
      "Model best! ---------------------------| \n"
     ]
    },
    {
     "name": "stderr",
     "output_type": "stream",
     "text": [
      "    epoch          : 9\n",
      "    loss           : 0.5335434104005495\n",
      "    balanced_accuracy: 0.7832113360917509\n",
      "    val_loss       : 0.5740465303262074\n",
      "    val_balanced_accuracy: 0.7442100772083605\n"
     ]
    },
    {
     "name": "stdout",
     "output_type": "stream",
     "text": [
      "Model has not improved in -------------| 1 epochs\n"
     ]
    },
    {
     "name": "stderr",
     "output_type": "stream",
     "text": [
      "    epoch          : 10\n",
      "    loss           : 0.5137902708216147\n",
      "    balanced_accuracy: 0.7894642645093362\n",
      "    val_loss       : 0.48390328884124756\n",
      "    val_balanced_accuracy: 0.7700799123128499\n"
     ]
    },
    {
     "name": "stdout",
     "output_type": "stream",
     "text": [
      "Model has not improved in -------------| 2 epochs\n"
     ]
    },
    {
     "name": "stderr",
     "output_type": "stream",
     "text": [
      "    epoch          : 11\n",
      "    loss           : 0.5020560082612615\n",
      "    balanced_accuracy: 0.7965358025000121\n",
      "    val_loss       : 0.4767395933469137\n",
      "    val_balanced_accuracy: 0.8129743223879657\n"
     ]
    },
    {
     "name": "stdout",
     "output_type": "stream",
     "text": [
      "Model has not improved in -------------| 3 epochs\n"
     ]
    },
    {
     "name": "stderr",
     "output_type": "stream",
     "text": [
      "    epoch          : 12\n",
      "    loss           : 0.527210215501713\n",
      "    balanced_accuracy: 0.7892932418350803\n",
      "    val_loss       : 0.46482040683428444\n",
      "    val_balanced_accuracy: 0.8009838767693392\n"
     ]
    },
    {
     "name": "stdout",
     "output_type": "stream",
     "text": [
      "Model best! ---------------------------| \n"
     ]
    },
    {
     "name": "stderr",
     "output_type": "stream",
     "text": [
      "    epoch          : 13\n",
      "    loss           : 0.5030695951797746\n",
      "    balanced_accuracy: 0.7977208841976681\n",
      "    val_loss       : 0.41107239524523415\n",
      "    val_balanced_accuracy: 0.8486866449988132\n"
     ]
    },
    {
     "name": "stdout",
     "output_type": "stream",
     "text": [
      "Model best! ---------------------------| \n"
     ]
    },
    {
     "name": "stderr",
     "output_type": "stream",
     "text": [
      "    epoch          : 14\n",
      "    loss           : 0.48436836266156397\n",
      "    balanced_accuracy: 0.8115019297851875\n",
      "    val_loss       : 0.51060897509257\n",
      "    val_balanced_accuracy: 0.8052023524039527\n"
     ]
    },
    {
     "name": "stdout",
     "output_type": "stream",
     "text": [
      "Model has not improved in -------------| 1 epochs\n"
     ]
    },
    {
     "name": "stderr",
     "output_type": "stream",
     "text": [
      "    epoch          : 15\n",
      "    loss           : 0.4858993395711436\n",
      "    balanced_accuracy: 0.8121794320198409\n",
      "    val_loss       : 0.5949954648812612\n",
      "    val_balanced_accuracy: 0.7311507909133115\n"
     ]
    },
    {
     "name": "stdout",
     "output_type": "stream",
     "text": [
      "Model has not improved in -------------| 2 epochs\n"
     ]
    },
    {
     "name": "stderr",
     "output_type": "stream",
     "text": [
      "    epoch          : 16\n",
      "    loss           : 0.4721954796801914\n",
      "    balanced_accuracy: 0.8169900906204405\n",
      "    val_loss       : 0.42750969727834065\n",
      "    val_balanced_accuracy: 0.838730597737048\n"
     ]
    },
    {
     "name": "stdout",
     "output_type": "stream",
     "text": [
      "Model has not improved in -------------| 3 epochs\n"
     ]
    },
    {
     "name": "stderr",
     "output_type": "stream",
     "text": [
      "    epoch          : 17\n",
      "    loss           : 0.4727699099616571\n",
      "    balanced_accuracy: 0.8138356797598716\n",
      "    val_loss       : 0.5108649790287018\n",
      "    val_balanced_accuracy: 0.8020354787865834\n"
     ]
    },
    {
     "name": "stdout",
     "output_type": "stream",
     "text": [
      "Model has not improved in -------------| 4 epochs\n"
     ]
    },
    {
     "name": "stderr",
     "output_type": "stream",
     "text": [
      "    epoch          : 18\n",
      "    loss           : 0.4655663416241155\n",
      "    balanced_accuracy: 0.8136573342468933\n",
      "    val_loss       : 0.5131875415643056\n",
      "    val_balanced_accuracy: 0.7913356547912183\n"
     ]
    },
    {
     "name": "stdout",
     "output_type": "stream",
     "text": [
      "Model has not improved in -------------| 5 epochs\n"
     ]
    },
    {
     "name": "stderr",
     "output_type": "stream",
     "text": [
      "    epoch          : 19\n",
      "    loss           : 0.46885516020384704\n",
      "    balanced_accuracy: 0.8189437576919586\n",
      "    val_loss       : 0.6502246081829071\n",
      "    val_balanced_accuracy: 0.7438058161209642\n"
     ]
    },
    {
     "name": "stdout",
     "output_type": "stream",
     "text": [
      "Model has not improved in -------------| 6 epochs\n"
     ]
    },
    {
     "name": "stderr",
     "output_type": "stream",
     "text": [
      "    epoch          : 20\n",
      "    loss           : 0.47399292841102136\n",
      "    balanced_accuracy: 0.8156612895986807\n",
      "    val_loss       : 0.41610055168469745\n",
      "    val_balanced_accuracy: 0.8313925910548707\n"
     ]
    },
    {
     "name": "stdout",
     "output_type": "stream",
     "text": [
      "Model has not improved in -------------| 7 epochs\n"
     ]
    },
    {
     "name": "stderr",
     "output_type": "stream",
     "text": [
      "    epoch          : 21\n",
      "    loss           : 0.4622984476613276\n",
      "    balanced_accuracy: 0.8215811946024324\n",
      "    val_loss       : 0.4427136997381846\n",
      "    val_balanced_accuracy: 0.837916468624863\n"
     ]
    },
    {
     "name": "stdout",
     "output_type": "stream",
     "text": [
      "Model has not improved in -------------| 8 epochs\n"
     ]
    },
    {
     "name": "stderr",
     "output_type": "stream",
     "text": [
      "    epoch          : 22\n",
      "    loss           : 0.4516050625931133\n",
      "    balanced_accuracy: 0.8280834900139459\n",
      "    val_loss       : 0.42663822571436566\n",
      "    val_balanced_accuracy: 0.8485083236261747\n"
     ]
    },
    {
     "name": "stdout",
     "output_type": "stream",
     "text": [
      "Model has not improved in -------------| 9 epochs\n"
     ]
    },
    {
     "name": "stderr",
     "output_type": "stream",
     "text": [
      "    epoch          : 23\n",
      "    loss           : 0.45047049246954196\n",
      "    balanced_accuracy: 0.8280767974768086\n",
      "    val_loss       : 0.4089222570260366\n",
      "    val_balanced_accuracy: 0.8366367075631476\n"
     ]
    },
    {
     "name": "stdout",
     "output_type": "stream",
     "text": [
      "Model best! ---------------------------| \n"
     ]
    },
    {
     "name": "stderr",
     "output_type": "stream",
     "text": [
      "    epoch          : 24\n",
      "    loss           : 0.4507148241003354\n",
      "    balanced_accuracy: 0.8283145376668423\n",
      "    val_loss       : 0.4447448432445526\n",
      "    val_balanced_accuracy: 0.8155660270350421\n"
     ]
    },
    {
     "name": "stdout",
     "output_type": "stream",
     "text": [
      "Model has not improved in -------------| 1 epochs\n"
     ]
    },
    {
     "name": "stderr",
     "output_type": "stream",
     "text": [
      "    epoch          : 25\n",
      "    loss           : 0.448765138333494\n",
      "    balanced_accuracy: 0.8307885308096328\n",
      "    val_loss       : 0.4275959491729736\n",
      "    val_balanced_accuracy: 0.8056720092025985\n"
     ]
    },
    {
     "name": "stdout",
     "output_type": "stream",
     "text": [
      "Model has not improved in -------------| 2 epochs\n"
     ]
    },
    {
     "name": "stderr",
     "output_type": "stream",
     "text": [
      " 60%|██████    | 3/5 [09:22<06:11, 185.98s/it]    epoch          : 1\n",
      "    loss           : 1.031882151058226\n",
      "    balanced_accuracy: 0.5226353172998827\n",
      "    val_loss       : 0.8045751770337423\n",
      "    val_balanced_accuracy: 0.5733197491827604\n"
     ]
    },
    {
     "name": "stdout",
     "output_type": "stream",
     "text": [
      "Model best! ---------------------------| \n"
     ]
    },
    {
     "name": "stderr",
     "output_type": "stream",
     "text": [
      "    epoch          : 2\n",
      "    loss           : 0.7672196965325963\n",
      "    balanced_accuracy: 0.5888419419897648\n",
      "    val_loss       : 0.7134742418924968\n",
      "    val_balanced_accuracy: 0.6006022184723031\n"
     ]
    },
    {
     "name": "stdout",
     "output_type": "stream",
     "text": [
      "Model best! ---------------------------| \n"
     ]
    },
    {
     "name": "stderr",
     "output_type": "stream",
     "text": [
      "    epoch          : 3\n",
      "    loss           : 0.7348175048828125\n",
      "    balanced_accuracy: 0.5948579944113654\n",
      "    val_loss       : 0.7612250725428263\n",
      "    val_balanced_accuracy: 0.6118343350835832\n"
     ]
    },
    {
     "name": "stdout",
     "output_type": "stream",
     "text": [
      "Model has not improved in -------------| 1 epochs\n"
     ]
    },
    {
     "name": "stderr",
     "output_type": "stream",
     "text": [
      "    epoch          : 4\n",
      "    loss           : 0.7238780878710024\n",
      "    balanced_accuracy: 0.6079314383039689\n",
      "    val_loss       : 0.7061303734779358\n",
      "    val_balanced_accuracy: 0.5939803366700113\n"
     ]
    },
    {
     "name": "stdout",
     "output_type": "stream",
     "text": [
      "Model best! ---------------------------| \n"
     ]
    },
    {
     "name": "stderr",
     "output_type": "stream",
     "text": [
      "    epoch          : 5\n",
      "    loss           : 0.7659236978400837\n",
      "    balanced_accuracy: 0.5895085370312741\n",
      "    val_loss       : 0.7362412412961324\n",
      "    val_balanced_accuracy: 0.5973497478339583\n"
     ]
    },
    {
     "name": "stdout",
     "output_type": "stream",
     "text": [
      "Model has not improved in -------------| 1 epochs\n"
     ]
    },
    {
     "name": "stderr",
     "output_type": "stream",
     "text": [
      "    epoch          : 6\n",
      "    loss           : 0.7256250078930999\n",
      "    balanced_accuracy: 0.5963839061176542\n",
      "    val_loss       : 0.706214721997579\n",
      "    val_balanced_accuracy: 0.6038892091590439\n"
     ]
    },
    {
     "name": "stdout",
     "output_type": "stream",
     "text": [
      "Model has not improved in -------------| 2 epochs\n"
     ]
    },
    {
     "name": "stderr",
     "output_type": "stream",
     "text": [
      "    epoch          : 7\n",
      "    loss           : 0.7230156696203983\n",
      "    balanced_accuracy: 0.5941183556820996\n",
      "    val_loss       : 2.1853828907012938\n",
      "    val_balanced_accuracy: 0.38328174069772736\n"
     ]
    },
    {
     "name": "stdout",
     "output_type": "stream",
     "text": [
      "Model has not improved in -------------| 3 epochs\n"
     ]
    },
    {
     "name": "stderr",
     "output_type": "stream",
     "text": [
      "    epoch          : 8\n",
      "    loss           : 0.7368362112478777\n",
      "    balanced_accuracy: 0.5908361945693023\n",
      "    val_loss       : 0.7311475118001302\n",
      "    val_balanced_accuracy: 0.5851296542433563\n"
     ]
    },
    {
     "name": "stdout",
     "output_type": "stream",
     "text": [
      "Model has not improved in -------------| 4 epochs\n"
     ]
    },
    {
     "name": "stderr",
     "output_type": "stream",
     "text": [
      "    epoch          : 9\n",
      "    loss           : 0.7216145554275224\n",
      "    balanced_accuracy: 0.5912913722553563\n",
      "    val_loss       : 0.7053017616271973\n",
      "    val_balanced_accuracy: 0.6157747544666315\n"
     ]
    },
    {
     "name": "stdout",
     "output_type": "stream",
     "text": [
      "Model best! ---------------------------| \n"
     ]
    },
    {
     "name": "stderr",
     "output_type": "stream",
     "text": [
      "    epoch          : 10\n",
      "    loss           : 0.7164739555481708\n",
      "    balanced_accuracy: 0.6006158733229846\n",
      "    val_loss       : 0.7269312461217244\n",
      "    val_balanced_accuracy: 0.5863689935082534\n"
     ]
    },
    {
     "name": "stdout",
     "output_type": "stream",
     "text": [
      "Model has not improved in -------------| 1 epochs\n"
     ]
    },
    {
     "name": "stderr",
     "output_type": "stream",
     "text": [
      "    epoch          : 11\n",
      "    loss           : 0.7248167887781606\n",
      "    balanced_accuracy: 0.5970184438344933\n",
      "    val_loss       : 0.7071321288744609\n",
      "    val_balanced_accuracy: 0.5946651659050032\n"
     ]
    },
    {
     "name": "stdout",
     "output_type": "stream",
     "text": [
      "Model has not improved in -------------| 2 epochs\n"
     ]
    },
    {
     "name": "stderr",
     "output_type": "stream",
     "text": [
      "    epoch          : 12\n",
      "    loss           : 0.7101668634197928\n",
      "    balanced_accuracy: 0.5988803571877093\n",
      "    val_loss       : 0.7122006813685099\n",
      "    val_balanced_accuracy: 0.5941833871096013\n"
     ]
    },
    {
     "name": "stdout",
     "output_type": "stream",
     "text": [
      "Model has not improved in -------------| 3 epochs\n"
     ]
    },
    {
     "name": "stderr",
     "output_type": "stream",
     "text": [
      "    epoch          : 13\n",
      "    loss           : 0.7561363568811705\n",
      "    balanced_accuracy: 0.5958618134468885\n",
      "    val_loss       : 0.7365490873654683\n",
      "    val_balanced_accuracy: 0.604366062012968\n"
     ]
    },
    {
     "name": "stdout",
     "output_type": "stream",
     "text": [
      "Model has not improved in -------------| 4 epochs\n"
     ]
    },
    {
     "name": "stderr",
     "output_type": "stream",
     "text": [
      "    epoch          : 14\n",
      "    loss           : 0.7274085829655329\n",
      "    balanced_accuracy: 0.5943720258740139\n",
      "    val_loss       : 0.7104654749234517\n",
      "    val_balanced_accuracy: 0.5913875160066684\n"
     ]
    },
    {
     "name": "stdout",
     "output_type": "stream",
     "text": [
      "Model has not improved in -------------| 5 epochs\n"
     ]
    },
    {
     "name": "stderr",
     "output_type": "stream",
     "text": [
      "    epoch          : 15\n",
      "    loss           : 0.7239584010658842\n",
      "    balanced_accuracy: 0.595591415002037\n",
      "    val_loss       : 0.7199428796768188\n",
      "    val_balanced_accuracy: 0.6089826693402655\n"
     ]
    },
    {
     "name": "stdout",
     "output_type": "stream",
     "text": [
      "Model has not improved in -------------| 6 epochs\n"
     ]
    },
    {
     "name": "stderr",
     "output_type": "stream",
     "text": [
      "    epoch          : 16\n",
      "    loss           : 0.7202807940316923\n",
      "    balanced_accuracy: 0.5987602839208557\n",
      "    val_loss       : 0.8655381560325622\n",
      "    val_balanced_accuracy: 0.56784326910986\n"
     ]
    },
    {
     "name": "stdout",
     "output_type": "stream",
     "text": [
      "Model has not improved in -------------| 7 epochs\n"
     ]
    },
    {
     "name": "stderr",
     "output_type": "stream",
     "text": [
      "    epoch          : 17\n",
      "    loss           : 0.7252435101704164\n",
      "    balanced_accuracy: 0.6011276863926373\n",
      "    val_loss       : 0.7302565733591716\n",
      "    val_balanced_accuracy: 0.5913640436939177\n"
     ]
    },
    {
     "name": "stdout",
     "output_type": "stream",
     "text": [
      "Model has not improved in -------------| 8 epochs\n"
     ]
    },
    {
     "name": "stderr",
     "output_type": "stream",
     "text": [
      "    epoch          : 18\n",
      "    loss           : 0.718498275587053\n",
      "    balanced_accuracy: 0.5993946182927143\n",
      "    val_loss       : 0.7024488170941671\n",
      "    val_balanced_accuracy: 0.6098213352831453\n"
     ]
    },
    {
     "name": "stdout",
     "output_type": "stream",
     "text": [
      "Model best! ---------------------------| \n"
     ]
    },
    {
     "name": "stderr",
     "output_type": "stream",
     "text": [
      "    epoch          : 19\n",
      "    loss           : 0.7278985227599288\n",
      "    balanced_accuracy: 0.5941488471787647\n",
      "    val_loss       : 0.7572261969248454\n",
      "    val_balanced_accuracy: 0.5838065178215534\n"
     ]
    },
    {
     "name": "stdout",
     "output_type": "stream",
     "text": [
      "Model has not improved in -------------| 1 epochs\n"
     ]
    },
    {
     "name": "stderr",
     "output_type": "stream",
     "text": [
      "    epoch          : 20\n",
      "    loss           : 0.7130842010180155\n",
      "    balanced_accuracy: 0.5978266348502875\n",
      "    val_loss       : 0.7129596789677938\n",
      "    val_balanced_accuracy: 0.590507174963735\n"
     ]
    },
    {
     "name": "stdout",
     "output_type": "stream",
     "text": [
      "Model has not improved in -------------| 2 epochs\n"
     ]
    },
    {
     "name": "stderr",
     "output_type": "stream",
     "text": [
      "    epoch          : 21\n",
      "    loss           : 0.7089771953496066\n",
      "    balanced_accuracy: 0.599051341568082\n",
      "    val_loss       : 0.7066202720006307\n",
      "    val_balanced_accuracy: 0.6104453961788583\n"
     ]
    },
    {
     "name": "stdout",
     "output_type": "stream",
     "text": [
      "Model has not improved in -------------| 3 epochs\n"
     ]
    },
    {
     "name": "stderr",
     "output_type": "stream",
     "text": [
      "    epoch          : 22\n",
      "    loss           : 0.7237784081336224\n",
      "    balanced_accuracy: 0.6022982391615308\n",
      "    val_loss       : 0.7002638856569926\n",
      "    val_balanced_accuracy: 0.6147039084520208\n"
     ]
    },
    {
     "name": "stdout",
     "output_type": "stream",
     "text": [
      "Model best! ---------------------------| \n"
     ]
    },
    {
     "name": "stderr",
     "output_type": "stream",
     "text": [
      "    epoch          : 23\n",
      "    loss           : 0.7241014707269091\n",
      "    balanced_accuracy: 0.5956011929515211\n",
      "    val_loss       : 0.7493776400883992\n",
      "    val_balanced_accuracy: 0.5865337930175808\n"
     ]
    },
    {
     "name": "stdout",
     "output_type": "stream",
     "text": [
      "Model has not improved in -------------| 1 epochs\n"
     ]
    },
    {
     "name": "stderr",
     "output_type": "stream",
     "text": [
      "    epoch          : 24\n",
      "    loss           : 0.7627074831362927\n",
      "    balanced_accuracy: 0.5822103626537137\n",
      "    val_loss       : 0.7119577805201213\n",
      "    val_balanced_accuracy: 0.5935416221580315\n"
     ]
    },
    {
     "name": "stdout",
     "output_type": "stream",
     "text": [
      "Model has not improved in -------------| 2 epochs\n"
     ]
    },
    {
     "name": "stderr",
     "output_type": "stream",
     "text": [
      "    epoch          : 25\n",
      "    loss           : 0.7518834110462305\n",
      "    balanced_accuracy: 0.5904073725912486\n",
      "    val_loss       : 0.7269940296808879\n",
      "    val_balanced_accuracy: 0.5828268140925387\n"
     ]
    },
    {
     "name": "stdout",
     "output_type": "stream",
     "text": [
      "Model has not improved in -------------| 3 epochs\n"
     ]
    },
    {
     "name": "stderr",
     "output_type": "stream",
     "text": [
      " 80%|████████  | 4/5 [12:03<02:58, 178.35s/it]    epoch          : 1\n",
      "    loss           : 1.2159572294844785\n",
      "    balanced_accuracy: 0.4898462372146578\n",
      "    val_loss       : 0.8563789297925665\n",
      "    val_balanced_accuracy: 0.5282683215130024\n"
     ]
    },
    {
     "name": "stdout",
     "output_type": "stream",
     "text": [
      "Model best! ---------------------------| \n"
     ]
    },
    {
     "name": "stderr",
     "output_type": "stream",
     "text": [
      "    epoch          : 2\n",
      "    loss           : 1.0471878072106482\n",
      "    balanced_accuracy: 0.5464871826713935\n",
      "    val_loss       : 0.8211011237920599\n",
      "    val_balanced_accuracy: 0.6588627152988851\n"
     ]
    },
    {
     "name": "stdout",
     "output_type": "stream",
     "text": [
      "Model best! ---------------------------| \n"
     ]
    },
    {
     "name": "stderr",
     "output_type": "stream",
     "text": [
      "    epoch          : 3\n",
      "    loss           : 1.0335342921086994\n",
      "    balanced_accuracy: 0.5522432206642737\n",
      "    val_loss       : 0.8739718462082934\n",
      "    val_balanced_accuracy: 0.5817612293144206\n"
     ]
    },
    {
     "name": "stdout",
     "output_type": "stream",
     "text": [
      "Model has not improved in -------------| 1 epochs\n"
     ]
    },
    {
     "name": "stderr",
     "output_type": "stream",
     "text": [
      "    epoch          : 4\n",
      "    loss           : 0.9918411724470757\n",
      "    balanced_accuracy: 0.5563278504067982\n",
      "    val_loss       : 0.7421131260217504\n",
      "    val_balanced_accuracy: 0.5655555555555556\n"
     ]
    },
    {
     "name": "stdout",
     "output_type": "stream",
     "text": [
      "Model best! ---------------------------| \n"
     ]
    },
    {
     "name": "stderr",
     "output_type": "stream",
     "text": [
      "    epoch          : 5\n",
      "    loss           : 1.0211481133757636\n",
      "    balanced_accuracy: 0.543698397645766\n",
      "    val_loss       : 0.7837786758833744\n",
      "    val_balanced_accuracy: 0.5931737588652483\n"
     ]
    },
    {
     "name": "stdout",
     "output_type": "stream",
     "text": [
      "Model has not improved in -------------| 1 epochs\n"
     ]
    },
    {
     "name": "stderr",
     "output_type": "stream",
     "text": [
      "    epoch          : 6\n",
      "    loss           : 0.9804563053895535\n",
      "    balanced_accuracy: 0.5534672830725464\n",
      "    val_loss       : 0.788153386496483\n",
      "    val_balanced_accuracy: 0.5965839243498816\n"
     ]
    },
    {
     "name": "stdout",
     "output_type": "stream",
     "text": [
      "Model has not improved in -------------| 2 epochs\n"
     ]
    },
    {
     "name": "stderr",
     "output_type": "stream",
     "text": [
      "    epoch          : 7\n",
      "    loss           : 0.977289198380672\n",
      "    balanced_accuracy: 0.5546671671671666\n",
      "    val_loss       : 0.8510219260733178\n",
      "    val_balanced_accuracy: 0.5946166835528536\n"
     ]
    },
    {
     "name": "stdout",
     "output_type": "stream",
     "text": [
      "Model has not improved in -------------| 3 epochs\n"
     ]
    },
    {
     "name": "stderr",
     "output_type": "stream",
     "text": [
      "    epoch          : 8\n",
      "    loss           : 0.9772237043787145\n",
      "    balanced_accuracy: 0.5555578134525501\n",
      "    val_loss       : 0.7745736488636504\n",
      "    val_balanced_accuracy: 0.5788593380614657\n"
     ]
    },
    {
     "name": "stdout",
     "output_type": "stream",
     "text": [
      "Model has not improved in -------------| 4 epochs\n"
     ]
    },
    {
     "name": "stderr",
     "output_type": "stream",
     "text": [
      "    epoch          : 9\n",
      "    loss           : 0.9519845474071557\n",
      "    balanced_accuracy: 0.564519594782752\n",
      "    val_loss       : 0.8046002142606897\n",
      "    val_balanced_accuracy: 0.5028959810874698\n"
     ]
    },
    {
     "name": "stdout",
     "output_type": "stream",
     "text": [
      "Model has not improved in -------------| 5 epochs\n"
     ]
    },
    {
     "name": "stderr",
     "output_type": "stream",
     "text": [
      "    epoch          : 10\n",
      "    loss           : 0.9692005747129929\n",
      "    balanced_accuracy: 0.550892057471004\n",
      "    val_loss       : 0.7665356766036217\n",
      "    val_balanced_accuracy: 0.5566489361702125\n"
     ]
    },
    {
     "name": "stdout",
     "output_type": "stream",
     "text": [
      "Model has not improved in -------------| 6 epochs\n"
     ]
    },
    {
     "name": "stderr",
     "output_type": "stream",
     "text": [
      "    epoch          : 11\n",
      "    loss           : 0.9558296783267746\n",
      "    balanced_accuracy: 0.5645377520377518\n",
      "    val_loss       : 0.776591850737942\n",
      "    val_balanced_accuracy: 0.5100531914893613\n"
     ]
    },
    {
     "name": "stdout",
     "output_type": "stream",
     "text": [
      "Model has not improved in -------------| 7 epochs\n"
     ]
    },
    {
     "name": "stderr",
     "output_type": "stream",
     "text": [
      "    epoch          : 12\n",
      "    loss           : 0.9553123151608811\n",
      "    balanced_accuracy: 0.5638931224457538\n",
      "    val_loss       : 0.7558250928059854\n",
      "    val_balanced_accuracy: 0.6408274231678485\n"
     ]
    },
    {
     "name": "stdout",
     "output_type": "stream",
     "text": [
      "Model has not improved in -------------| 8 epochs\n"
     ]
    },
    {
     "name": "stderr",
     "output_type": "stream",
     "text": [
      "    epoch          : 13\n",
      "    loss           : 0.9902260457949369\n",
      "    balanced_accuracy: 0.5541633739002156\n",
      "    val_loss       : 0.7381516648733869\n",
      "    val_balanced_accuracy: 0.516282505910165\n"
     ]
    },
    {
     "name": "stdout",
     "output_type": "stream",
     "text": [
      "Model best! ---------------------------| \n"
     ]
    },
    {
     "name": "stderr",
     "output_type": "stream",
     "text": [
      "    epoch          : 14\n",
      "    loss           : 0.9343778507906773\n",
      "    balanced_accuracy: 0.5629963610226759\n",
      "    val_loss       : 0.7834606912541897\n",
      "    val_balanced_accuracy: 0.5299172576832148\n"
     ]
    },
    {
     "name": "stdout",
     "output_type": "stream",
     "text": [
      "Model has not improved in -------------| 1 epochs\n"
     ]
    },
    {
     "name": "stderr",
     "output_type": "stream",
     "text": [
      "    epoch          : 15\n",
      "    loss           : 0.9491173274189785\n",
      "    balanced_accuracy: 0.5666237666237676\n",
      "    val_loss       : 0.7521583243253384\n",
      "    val_balanced_accuracy: 0.5289066193853426\n"
     ]
    },
    {
     "name": "stdout",
     "output_type": "stream",
     "text": [
      "Model has not improved in -------------| 2 epochs\n"
     ]
    },
    {
     "name": "stderr",
     "output_type": "stream",
     "text": [
      "    epoch          : 16\n",
      "    loss           : 0.9308645598989576\n",
      "    balanced_accuracy: 0.5648946879210042\n",
      "    val_loss       : 0.7928983319312968\n",
      "    val_balanced_accuracy: 0.5973345153664298\n"
     ]
    },
    {
     "name": "stdout",
     "output_type": "stream",
     "text": [
      "Model has not improved in -------------| 3 epochs\n"
     ]
    },
    {
     "name": "stderr",
     "output_type": "stream",
     "text": [
      "    epoch          : 17\n",
      "    loss           : 0.9370374790211321\n",
      "    balanced_accuracy: 0.5656817531817537\n",
      "    val_loss       : 0.772975502971639\n",
      "    val_balanced_accuracy: 0.6106796690307323\n"
     ]
    },
    {
     "name": "stdout",
     "output_type": "stream",
     "text": [
      "Model has not improved in -------------| 4 epochs\n"
     ]
    },
    {
     "name": "stderr",
     "output_type": "stream",
     "text": [
      "    epoch          : 18\n",
      "    loss           : 0.9442446174823373\n",
      "    balanced_accuracy: 0.5658310566205306\n",
      "    val_loss       : 0.750405572006043\n",
      "    val_balanced_accuracy: 0.627907801418439\n"
     ]
    },
    {
     "name": "stdout",
     "output_type": "stream",
     "text": [
      "Model has not improved in -------------| 5 epochs\n"
     ]
    },
    {
     "name": "stderr",
     "output_type": "stream",
     "text": [
      "    epoch          : 19\n",
      "    loss           : 0.9634829745184137\n",
      "    balanced_accuracy: 0.5574310212468103\n",
      "    val_loss       : 0.7892338927121872\n",
      "    val_balanced_accuracy: 0.6131264775413711\n"
     ]
    },
    {
     "name": "stdout",
     "output_type": "stream",
     "text": [
      "Model has not improved in -------------| 6 epochs\n"
     ]
    },
    {
     "name": "stderr",
     "output_type": "stream",
     "text": [
      "    epoch          : 20\n",
      "    loss           : 0.9789148462700471\n",
      "    balanced_accuracy: 0.5528171028171028\n",
      "    val_loss       : 0.8119755852095625\n",
      "    val_balanced_accuracy: 0.6223877068557919\n"
     ]
    },
    {
     "name": "stdout",
     "output_type": "stream",
     "text": [
      "Model has not improved in -------------| 7 epochs\n"
     ]
    },
    {
     "name": "stderr",
     "output_type": "stream",
     "text": [
      "    epoch          : 21\n",
      "    loss           : 0.9515987168900375\n",
      "    balanced_accuracy: 0.557638935928409\n",
      "    val_loss       : 0.7786384028957245\n",
      "    val_balanced_accuracy: 0.5941489361702127\n"
     ]
    },
    {
     "name": "stdout",
     "output_type": "stream",
     "text": [
      "Model has not improved in -------------| 8 epochs\n"
     ]
    },
    {
     "name": "stderr",
     "output_type": "stream",
     "text": [
      "    epoch          : 22\n",
      "    loss           : 0.934240586105372\n",
      "    balanced_accuracy: 0.5637799453588936\n",
      "    val_loss       : 0.7676983819045919\n",
      "    val_balanced_accuracy: 0.5917021276595744\n"
     ]
    },
    {
     "name": "stdout",
     "output_type": "stream",
     "text": [
      "Model has not improved in -------------| 9 epochs\n"
     ]
    },
    {
     "name": "stderr",
     "output_type": "stream",
     "text": [
      "    epoch          : 23\n",
      "    loss           : 0.9311172749092931\n",
      "    balanced_accuracy: 0.563337867943131\n",
      "    val_loss       : 0.7636643005812421\n",
      "    val_balanced_accuracy: 0.6250405268490377\n"
     ]
    },
    {
     "name": "stdout",
     "output_type": "stream",
     "text": [
      "Model has not improved in -------------| 10 epochs\n"
     ]
    },
    {
     "name": "stderr",
     "output_type": "stream",
     "text": [
      "    epoch          : 24\n",
      "    loss           : 0.9277201902815492\n",
      "    balanced_accuracy: 0.5658828941723676\n",
      "    val_loss       : 0.7336652032555417\n",
      "    val_balanced_accuracy: 0.6254373522458619\n"
     ]
    },
    {
     "name": "stdout",
     "output_type": "stream",
     "text": [
      "Model best! ---------------------------| \n"
     ]
    },
    {
     "name": "stderr",
     "output_type": "stream",
     "text": [
      "    epoch          : 25\n",
      "    loss           : 0.9315876061880176\n",
      "    balanced_accuracy: 0.5661729398571502\n",
      "    val_loss       : 0.7481097851027834\n",
      "    val_balanced_accuracy: 0.6263947990543733\n"
     ]
    },
    {
     "name": "stdout",
     "output_type": "stream",
     "text": [
      "Model has not improved in -------------| 1 epochs\n"
     ]
    },
    {
     "name": "stderr",
     "output_type": "stream",
     "text": [
      "100%|██████████| 5/5 [33:03<00:00, 396.79s/it]\n"
     ]
    },
    {
     "name": "stdout",
     "output_type": "stream",
     "text": [
      "s: 1\n",
      "[*] 1/2 - running 5 configs for 5 iters each\n"
     ]
    },
    {
     "name": "stderr",
     "output_type": "stream",
     "text": [
      "  0%|          | 0/5 [00:00<?, ?it/s]    epoch          : 1\n",
      "    loss           : 1.2089194785282475\n",
      "    balanced_accuracy: 0.47505785861049077\n",
      "    val_loss       : 1.452985231673464\n",
      "    val_balanced_accuracy: 0.3759219858156028\n"
     ]
    },
    {
     "name": "stdout",
     "output_type": "stream",
     "text": [
      "Model best! ---------------------------| \n"
     ]
    },
    {
     "name": "stderr",
     "output_type": "stream",
     "text": [
      "    epoch          : 2\n",
      "    loss           : 1.136339089298429\n",
      "    balanced_accuracy: 0.49160212844423345\n",
      "    val_loss       : 0.9175410930146563\n",
      "    val_balanced_accuracy: 0.6107539682539684\n"
     ]
    },
    {
     "name": "stdout",
     "output_type": "stream",
     "text": [
      "Model best! ---------------------------| \n"
     ]
    },
    {
     "name": "stderr",
     "output_type": "stream",
     "text": [
      "    epoch          : 3\n",
      "    loss           : 1.1974806997972736\n",
      "    balanced_accuracy: 0.46985622840886004\n",
      "    val_loss       : 0.9077288667572305\n",
      "    val_balanced_accuracy: 0.6289893617021275\n"
     ]
    },
    {
     "name": "stdout",
     "output_type": "stream",
     "text": [
      "Model best! ---------------------------| \n"
     ]
    },
    {
     "name": "stderr",
     "output_type": "stream",
     "text": [
      "    epoch          : 4\n",
      "    loss           : 1.1426175155448597\n",
      "    balanced_accuracy: 0.5062163667426828\n",
      "    val_loss       : 1.0149909978217266\n",
      "    val_balanced_accuracy: 0.5052161431948666\n"
     ]
    },
    {
     "name": "stdout",
     "output_type": "stream",
     "text": [
      "Model has not improved in -------------| 1 epochs\n"
     ]
    },
    {
     "name": "stderr",
     "output_type": "stream",
     "text": [
      "    epoch          : 5\n",
      "    loss           : 1.108971133326512\n",
      "    balanced_accuracy: 0.5172218270902487\n",
      "    val_loss       : 1.0957459004635506\n",
      "    val_balanced_accuracy: 0.5015248226950355\n"
     ]
    },
    {
     "name": "stdout",
     "output_type": "stream",
     "text": [
      "Model has not improved in -------------| 2 epochs\n"
     ]
    },
    {
     "name": "stderr",
     "output_type": "stream",
     "text": [
      " 20%|██        | 1/5 [04:06<16:27, 246.98s/it]    epoch          : 1\n",
      "    loss           : 1.5986343818204898\n",
      "    balanced_accuracy: 0.3296190927769872\n",
      "    val_loss       : 1.5552159394028344\n",
      "    val_balanced_accuracy: 0.4147121535181239\n"
     ]
    },
    {
     "name": "stdout",
     "output_type": "stream",
     "text": [
      "Model best! ---------------------------| \n"
     ]
    },
    {
     "name": "stderr",
     "output_type": "stream",
     "text": [
      "    epoch          : 2\n",
      "    loss           : 1.5731893938375683\n",
      "    balanced_accuracy: 0.3190295558716609\n",
      "    val_loss       : 1.4350343036499105\n",
      "    val_balanced_accuracy: 0.4662402274342572\n"
     ]
    },
    {
     "name": "stdout",
     "output_type": "stream",
     "text": [
      "Model best! ---------------------------| \n"
     ]
    },
    {
     "name": "stderr",
     "output_type": "stream",
     "text": [
      "    epoch          : 3\n",
      "    loss           : 1.580995026726811\n",
      "    balanced_accuracy: 0.3140508929982613\n",
      "    val_loss       : 1.7790646104416106\n",
      "    val_balanced_accuracy: 0.23898365316275705\n"
     ]
    },
    {
     "name": "stdout",
     "output_type": "stream",
     "text": [
      "Model has not improved in -------------| 1 epochs\n"
     ]
    },
    {
     "name": "stderr",
     "output_type": "stream",
     "text": [
      "    epoch          : 4\n",
      "    loss           : 1.5114013756788303\n",
      "    balanced_accuracy: 0.3498893630472576\n",
      "    val_loss       : 1.2033715621748966\n",
      "    val_balanced_accuracy: 0.5040867093105897\n"
     ]
    },
    {
     "name": "stdout",
     "output_type": "stream",
     "text": [
      "Model best! ---------------------------| \n"
     ]
    },
    {
     "name": "stderr",
     "output_type": "stream",
     "text": [
      "    epoch          : 5\n",
      "    loss           : 1.5229158782673538\n",
      "    balanced_accuracy: 0.33465702544649634\n",
      "    val_loss       : 1.6115285336081662\n",
      "    val_balanced_accuracy: 0.23791755508173368\n"
     ]
    },
    {
     "name": "stdout",
     "output_type": "stream",
     "text": [
      "Model has not improved in -------------| 1 epochs\n"
     ]
    },
    {
     "name": "stderr",
     "output_type": "stream",
     "text": [
      " 40%|████      | 2/5 [12:13<15:56, 318.91s/it]    epoch          : 1\n",
      "    loss           : 1.1822100408149487\n",
      "    balanced_accuracy: 0.47976456628476605\n",
      "    val_loss       : 0.8506816387176513\n",
      "    val_balanced_accuracy: 0.5947812223713402\n"
     ]
    },
    {
     "name": "stdout",
     "output_type": "stream",
     "text": [
      "Model best! ---------------------------| \n"
     ]
    },
    {
     "name": "stderr",
     "output_type": "stream",
     "text": [
      "    epoch          : 2\n",
      "    loss           : 0.7849557941610162\n",
      "    balanced_accuracy: 0.6174162237784804\n",
      "    val_loss       : 0.670839003721873\n",
      "    val_balanced_accuracy: 0.7200925645045207\n"
     ]
    },
    {
     "name": "stdout",
     "output_type": "stream",
     "text": [
      "Model best! ---------------------------| \n"
     ]
    },
    {
     "name": "stderr",
     "output_type": "stream",
     "text": [
      "    epoch          : 3\n",
      "    loss           : 0.7280998546065707\n",
      "    balanced_accuracy: 0.6536694771300271\n",
      "    val_loss       : 0.8166793783505758\n",
      "    val_balanced_accuracy: 0.6692080698941092\n"
     ]
    },
    {
     "name": "stdout",
     "output_type": "stream",
     "text": [
      "Model has not improved in -------------| 1 epochs\n"
     ]
    },
    {
     "name": "stderr",
     "output_type": "stream",
     "text": [
      "    epoch          : 4\n",
      "    loss           : 0.6894101992701039\n",
      "    balanced_accuracy: 0.6853466824939909\n",
      "    val_loss       : 0.6311778088410696\n",
      "    val_balanced_accuracy: 0.7074814782940293\n"
     ]
    },
    {
     "name": "stdout",
     "output_type": "stream",
     "text": [
      "Model best! ---------------------------| \n"
     ]
    },
    {
     "name": "stderr",
     "output_type": "stream",
     "text": [
      "    epoch          : 5\n",
      "    loss           : 0.6462852887131951\n",
      "    balanced_accuracy: 0.7151396676612998\n",
      "    val_loss       : 0.695752743879954\n",
      "    val_balanced_accuracy: 0.6676529459583561\n"
     ]
    },
    {
     "name": "stdout",
     "output_type": "stream",
     "text": [
      "Model has not improved in -------------| 1 epochs\n"
     ]
    },
    {
     "name": "stderr",
     "output_type": "stream",
     "text": [
      " 60%|██████    | 3/5 [12:46<07:46, 233.10s/it]    epoch          : 1\n",
      "    loss           : 1.0416615269760385\n",
      "    balanced_accuracy: 0.5203016562601865\n",
      "    val_loss       : 0.9520742574990806\n",
      "    val_balanced_accuracy: 0.5781545937584075\n"
     ]
    },
    {
     "name": "stdout",
     "output_type": "stream",
     "text": [
      "Model best! ---------------------------| \n"
     ]
    },
    {
     "name": "stderr",
     "output_type": "stream",
     "text": [
      "    epoch          : 2\n",
      "    loss           : 0.9674649254688155\n",
      "    balanced_accuracy: 0.5472462921929758\n",
      "    val_loss       : 0.8681501900240526\n",
      "    val_balanced_accuracy: 0.5784591068065645\n"
     ]
    },
    {
     "name": "stdout",
     "output_type": "stream",
     "text": [
      "Model best! ---------------------------| \n"
     ]
    },
    {
     "name": "stderr",
     "output_type": "stream",
     "text": [
      "    epoch          : 3\n",
      "    loss           : 0.9464599999771299\n",
      "    balanced_accuracy: 0.5492509887865343\n",
      "    val_loss       : 3.7480572017572693\n",
      "    val_balanced_accuracy: 0.28181497175141224\n"
     ]
    },
    {
     "name": "stdout",
     "output_type": "stream",
     "text": [
      "Model has not improved in -------------| 1 epochs\n"
     ]
    },
    {
     "name": "stderr",
     "output_type": "stream",
     "text": [
      "    epoch          : 4\n",
      "    loss           : 0.9321295587937414\n",
      "    balanced_accuracy: 0.5539633487891795\n",
      "    val_loss       : 0.8025860943026462\n",
      "    val_balanced_accuracy: 0.5309182472424003\n"
     ]
    },
    {
     "name": "stdout",
     "output_type": "stream",
     "text": [
      "Model best! ---------------------------| \n"
     ]
    },
    {
     "name": "stderr",
     "output_type": "stream",
     "text": [
      "    epoch          : 5\n",
      "    loss           : 0.9209048850276459\n",
      "    balanced_accuracy: 0.5618995523959983\n",
      "    val_loss       : 0.758596858735812\n",
      "    val_balanced_accuracy: 0.6201725742085914\n"
     ]
    },
    {
     "name": "stdout",
     "output_type": "stream",
     "text": [
      "Model best! ---------------------------| \n"
     ]
    },
    {
     "name": "stderr",
     "output_type": "stream",
     "text": [
      " 80%|████████  | 4/5 [14:57<03:22, 202.53s/it]    epoch          : 1\n",
      "    loss           : 1.6037095579675953\n",
      "    balanced_accuracy: 0.3077090248142879\n",
      "    val_loss       : 1.6128131174075324\n",
      "    val_balanced_accuracy: 0.27167732764747593\n"
     ]
    },
    {
     "name": "stdout",
     "output_type": "stream",
     "text": [
      "Model best! ---------------------------| \n"
     ]
    },
    {
     "name": "stderr",
     "output_type": "stream",
     "text": [
      "    epoch          : 2\n",
      "    loss           : 1.5863439466869622\n",
      "    balanced_accuracy: 0.30065591907697164\n",
      "    val_loss       : 1.3076271592681088\n",
      "    val_balanced_accuracy: 0.42217484008528827\n"
     ]
    },
    {
     "name": "stdout",
     "output_type": "stream",
     "text": [
      "Model best! ---------------------------| \n"
     ]
    },
    {
     "name": "stderr",
     "output_type": "stream",
     "text": [
      "    epoch          : 3\n",
      "    loss           : 1.6109888495964821\n",
      "    balanced_accuracy: 0.2745772087877356\n",
      "    val_loss       : 1.4836430905470208\n",
      "    val_balanced_accuracy: 0.49502487562189074\n"
     ]
    },
    {
     "name": "stdout",
     "output_type": "stream",
     "text": [
      "Model has not improved in -------------| 1 epochs\n"
     ]
    },
    {
     "name": "stderr",
     "output_type": "stream",
     "text": [
      " 80%|████████  | 4/5 [21:05<05:16, 316.34s/it]\n"
     ]
    },
    {
     "ename": "KeyboardInterrupt",
     "evalue": "",
     "output_type": "error",
     "traceback": [
      "\u001b[1;31m---------------------------------------------------------------------------\u001b[0m",
      "\u001b[1;31mKeyboardInterrupt\u001b[0m                         Traceback (most recent call last)",
      "\u001b[1;32m<ipython-input-9-e026fb01244a>\u001b[0m in \u001b[0;36m<module>\u001b[1;34m\u001b[0m\n\u001b[1;32m----> 1\u001b[1;33m \u001b[0mho\u001b[0m\u001b[1;33m.\u001b[0m\u001b[0mtune\u001b[0m\u001b[1;33m(\u001b[0m\u001b[1;33m)\u001b[0m\u001b[1;33m\u001b[0m\u001b[1;33m\u001b[0m\u001b[0m\n\u001b[0m",
      "\u001b[1;32m~\\Documents\\CellTemplate\\utils\\hyperband.py\u001b[0m in \u001b[0;36mtune\u001b[1;34m(self)\u001b[0m\n\u001b[0;32m    124\u001b[0m                 \u001b[1;32mwith\u001b[0m \u001b[0mtqdm\u001b[0m\u001b[1;33m(\u001b[0m\u001b[0mtotal\u001b[0m\u001b[1;33m=\u001b[0m\u001b[0mlen\u001b[0m\u001b[1;33m(\u001b[0m\u001b[0mT\u001b[0m\u001b[1;33m)\u001b[0m\u001b[1;33m)\u001b[0m \u001b[1;32mas\u001b[0m \u001b[0mpbar\u001b[0m\u001b[1;33m:\u001b[0m\u001b[1;33m\u001b[0m\u001b[1;33m\u001b[0m\u001b[0m\n\u001b[0;32m    125\u001b[0m                     \u001b[1;32mfor\u001b[0m \u001b[0mt\u001b[0m \u001b[1;32min\u001b[0m \u001b[0mT\u001b[0m\u001b[1;33m:\u001b[0m\u001b[1;33m\u001b[0m\u001b[1;33m\u001b[0m\u001b[0m\n\u001b[1;32m--> 126\u001b[1;33m                         \u001b[0mval_loss\u001b[0m \u001b[1;33m=\u001b[0m \u001b[0mself\u001b[0m\u001b[1;33m.\u001b[0m\u001b[0mrun_config\u001b[0m\u001b[1;33m(\u001b[0m\u001b[0mt\u001b[0m\u001b[1;33m,\u001b[0m \u001b[0mr_i\u001b[0m\u001b[1;33m)\u001b[0m\u001b[1;33m\u001b[0m\u001b[1;33m\u001b[0m\u001b[0m\n\u001b[0m\u001b[0;32m    127\u001b[0m                         \u001b[0mval_losses\u001b[0m\u001b[1;33m.\u001b[0m\u001b[0mappend\u001b[0m\u001b[1;33m(\u001b[0m\u001b[0mval_loss\u001b[0m\u001b[1;33m)\u001b[0m\u001b[1;33m\u001b[0m\u001b[1;33m\u001b[0m\u001b[0m\n\u001b[0;32m    128\u001b[0m                         \u001b[0mpbar\u001b[0m\u001b[1;33m.\u001b[0m\u001b[0mupdate\u001b[0m\u001b[1;33m(\u001b[0m\u001b[1;36m1\u001b[0m\u001b[1;33m)\u001b[0m\u001b[1;33m\u001b[0m\u001b[1;33m\u001b[0m\u001b[0m\n",
      "\u001b[1;32m~\\Documents\\CellTemplate\\utils\\hyperband.py\u001b[0m in \u001b[0;36mrun_config\u001b[1;34m(self, t, r_i)\u001b[0m\n\u001b[0;32m    196\u001b[0m         \u001b[1;32mdel\u001b[0m \u001b[0mdata_loader\u001b[0m\u001b[1;33m,\u001b[0m \u001b[0mvalid_data_loader\u001b[0m\u001b[1;33m,\u001b[0m  \u001b[1;31m#clear memory\u001b[0m\u001b[1;33m\u001b[0m\u001b[1;33m\u001b[0m\u001b[0m\n\u001b[0;32m    197\u001b[0m         \u001b[0mtrainer\u001b[0m\u001b[1;33m.\u001b[0m\u001b[0mepochs\u001b[0m \u001b[1;33m=\u001b[0m \u001b[0mr_i\u001b[0m \u001b[1;31m#adjust number of epochs accordingly\u001b[0m\u001b[1;33m\u001b[0m\u001b[1;33m\u001b[0m\u001b[0m\n\u001b[1;32m--> 198\u001b[1;33m         \u001b[0mtrainer\u001b[0m\u001b[1;33m.\u001b[0m\u001b[0mtrain\u001b[0m\u001b[1;33m(\u001b[0m\u001b[1;33m)\u001b[0m\u001b[1;33m\u001b[0m\u001b[1;33m\u001b[0m\u001b[0m\n\u001b[0m\u001b[0;32m    199\u001b[0m         \u001b[0mval_loss\u001b[0m \u001b[1;33m=\u001b[0m \u001b[0mtrainer\u001b[0m\u001b[1;33m.\u001b[0m\u001b[0mval_loss\u001b[0m\u001b[1;33m\u001b[0m\u001b[1;33m\u001b[0m\u001b[0m\n\u001b[0;32m    200\u001b[0m         \u001b[1;32mreturn\u001b[0m \u001b[0mval_loss\u001b[0m\u001b[1;33m\u001b[0m\u001b[1;33m\u001b[0m\u001b[0m\n",
      "\u001b[1;32m~\\Documents\\CellTemplate\\base\\base_trainer.py\u001b[0m in \u001b[0;36mtrain\u001b[1;34m(self)\u001b[0m\n\u001b[0;32m     87\u001b[0m         \"\"\"\n\u001b[0;32m     88\u001b[0m         \u001b[1;32mfor\u001b[0m \u001b[0mepoch\u001b[0m \u001b[1;32min\u001b[0m \u001b[0mrange\u001b[0m\u001b[1;33m(\u001b[0m\u001b[0mself\u001b[0m\u001b[1;33m.\u001b[0m\u001b[0mstart_epoch\u001b[0m\u001b[1;33m,\u001b[0m \u001b[0mself\u001b[0m\u001b[1;33m.\u001b[0m\u001b[0mepochs\u001b[0m \u001b[1;33m+\u001b[0m \u001b[1;36m1\u001b[0m\u001b[1;33m)\u001b[0m\u001b[1;33m:\u001b[0m\u001b[1;33m\u001b[0m\u001b[1;33m\u001b[0m\u001b[0m\n\u001b[1;32m---> 89\u001b[1;33m             \u001b[0mresult\u001b[0m \u001b[1;33m=\u001b[0m \u001b[0mself\u001b[0m\u001b[1;33m.\u001b[0m\u001b[0m_train_epoch\u001b[0m\u001b[1;33m(\u001b[0m\u001b[0mepoch\u001b[0m\u001b[1;33m)\u001b[0m\u001b[1;33m\u001b[0m\u001b[1;33m\u001b[0m\u001b[0m\n\u001b[0m\u001b[0;32m     90\u001b[0m \u001b[1;33m\u001b[0m\u001b[0m\n\u001b[0;32m     91\u001b[0m             \u001b[1;31m# save logged informations into log dict\u001b[0m\u001b[1;33m\u001b[0m\u001b[1;33m\u001b[0m\u001b[1;33m\u001b[0m\u001b[0m\n",
      "\u001b[1;32m~\\Documents\\CellTemplate\\trainer\\trainer.py\u001b[0m in \u001b[0;36m_train_epoch\u001b[1;34m(self, epoch)\u001b[0m\n\u001b[0;32m     58\u001b[0m             \u001b[0mloss\u001b[0m \u001b[1;33m=\u001b[0m \u001b[0mself\u001b[0m\u001b[1;33m.\u001b[0m\u001b[0mloss\u001b[0m\u001b[1;33m(\u001b[0m\u001b[0moutput\u001b[0m\u001b[1;33m,\u001b[0m \u001b[0mtarget\u001b[0m\u001b[1;33m)\u001b[0m\u001b[1;33m\u001b[0m\u001b[1;33m\u001b[0m\u001b[0m\n\u001b[0;32m     59\u001b[0m             \u001b[0mloss\u001b[0m\u001b[1;33m.\u001b[0m\u001b[0mbackward\u001b[0m\u001b[1;33m(\u001b[0m\u001b[1;33m)\u001b[0m\u001b[1;33m\u001b[0m\u001b[1;33m\u001b[0m\u001b[0m\n\u001b[1;32m---> 60\u001b[1;33m             \u001b[0mself\u001b[0m\u001b[1;33m.\u001b[0m\u001b[0moptimizer\u001b[0m\u001b[1;33m.\u001b[0m\u001b[0mstep\u001b[0m\u001b[1;33m(\u001b[0m\u001b[1;33m)\u001b[0m\u001b[1;33m\u001b[0m\u001b[1;33m\u001b[0m\u001b[0m\n\u001b[0m\u001b[0;32m     61\u001b[0m \u001b[1;33m\u001b[0m\u001b[0m\n\u001b[0;32m     62\u001b[0m             \u001b[0mself\u001b[0m\u001b[1;33m.\u001b[0m\u001b[0mwriter\u001b[0m\u001b[1;33m.\u001b[0m\u001b[0mset_step\u001b[0m\u001b[1;33m(\u001b[0m\u001b[1;33m(\u001b[0m\u001b[0mepoch\u001b[0m \u001b[1;33m-\u001b[0m \u001b[1;36m1\u001b[0m\u001b[1;33m)\u001b[0m \u001b[1;33m*\u001b[0m \u001b[0mlen\u001b[0m\u001b[1;33m(\u001b[0m\u001b[0mself\u001b[0m\u001b[1;33m.\u001b[0m\u001b[0mdata_loader\u001b[0m\u001b[1;33m)\u001b[0m \u001b[1;33m+\u001b[0m \u001b[0mbatch_idx\u001b[0m\u001b[1;33m)\u001b[0m\u001b[1;33m\u001b[0m\u001b[1;33m\u001b[0m\u001b[0m\n",
      "\u001b[1;32m~\\Documents\\pytorch36\\lib\\site-packages\\torch\\optim\\adam.py\u001b[0m in \u001b[0;36mstep\u001b[1;34m(self, closure)\u001b[0m\n\u001b[0;32m     88\u001b[0m \u001b[1;33m\u001b[0m\u001b[0m\n\u001b[0;32m     89\u001b[0m                 \u001b[1;32mif\u001b[0m \u001b[0mgroup\u001b[0m\u001b[1;33m[\u001b[0m\u001b[1;34m'weight_decay'\u001b[0m\u001b[1;33m]\u001b[0m \u001b[1;33m!=\u001b[0m \u001b[1;36m0\u001b[0m\u001b[1;33m:\u001b[0m\u001b[1;33m\u001b[0m\u001b[1;33m\u001b[0m\u001b[0m\n\u001b[1;32m---> 90\u001b[1;33m                     \u001b[0mgrad\u001b[0m\u001b[1;33m.\u001b[0m\u001b[0madd_\u001b[0m\u001b[1;33m(\u001b[0m\u001b[0mgroup\u001b[0m\u001b[1;33m[\u001b[0m\u001b[1;34m'weight_decay'\u001b[0m\u001b[1;33m]\u001b[0m\u001b[1;33m,\u001b[0m \u001b[0mp\u001b[0m\u001b[1;33m.\u001b[0m\u001b[0mdata\u001b[0m\u001b[1;33m)\u001b[0m\u001b[1;33m\u001b[0m\u001b[1;33m\u001b[0m\u001b[0m\n\u001b[0m\u001b[0;32m     91\u001b[0m \u001b[1;33m\u001b[0m\u001b[0m\n\u001b[0;32m     92\u001b[0m                 \u001b[1;31m# Decay the first and second moment running average coefficient\u001b[0m\u001b[1;33m\u001b[0m\u001b[1;33m\u001b[0m\u001b[1;33m\u001b[0m\u001b[0m\n",
      "\u001b[1;31mKeyboardInterrupt\u001b[0m: "
     ]
    }
   ],
   "source": [
    "ho.tune(1)"
   ]
  },
  {
   "cell_type": "code",
   "execution_count": null,
   "metadata": {},
   "outputs": [],
   "source": []
  }
 ],
 "metadata": {
  "kernelspec": {
   "display_name": "Python 3",
   "language": "python",
   "name": "python3"
  },
  "language_info": {
   "codemirror_mode": {
    "name": "ipython",
    "version": 3
   },
   "file_extension": ".py",
   "mimetype": "text/x-python",
   "name": "python",
   "nbconvert_exporter": "python",
   "pygments_lexer": "ipython3",
   "version": "3.6.7"
  }
 },
 "nbformat": 4,
 "nbformat_minor": 2
}
