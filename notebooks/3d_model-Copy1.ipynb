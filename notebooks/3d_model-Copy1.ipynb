{
 "cells": [
  {
   "cell_type": "code",
   "execution_count": 23,
   "metadata": {},
   "outputs": [
    {
     "name": "stdout",
     "output_type": "stream",
     "text": [
      "Modules loaded\n",
      "Reload complete\n",
      "GPUs available: 1\n"
     ]
    }
   ],
   "source": [
    "%matplotlib inline\n",
    "import sys\n",
    "sys.path.append(\"..\")\n",
    "import matplotlib.pyplot as plt\n",
    "import os\n",
    "import numpy as np\n",
    "import json\n",
    "import argparse\n",
    "import torch\n",
    "from torch.optim import lr_scheduler\n",
    "from tqdm import tqdm\n",
    "from data_loader import data_loaders as module_data\n",
    "from model import loss as module_loss\n",
    "from model import metric as module_metric\n",
    "from model import model as module_arch\n",
    "from trainer import Trainer\n",
    "from utils import Logger\n",
    "from utils import util\n",
    "from utils import torchsummary\n",
    "from utils import viewTraining\n",
    "from utils import lr_finder\n",
    "from utils import classActivationMap\n",
    "import importlib\n",
    "import math\n",
    "import torchvision\n",
    "from torch.nn import functional as F\n",
    "from torch import topk\n",
    "import skimage.transform\n",
    "print(\"Modules loaded\")\n",
    "\n",
    "importlib.reload(module_data) #load recent changes to data_loaders.py\n",
    "importlib.reload(module_arch)\n",
    "importlib.reload(module_loss)\n",
    "importlib.reload(module_metric)\n",
    "importlib.reload(util)\n",
    "importlib.reload(viewTraining)\n",
    "importlib.reload(lr_finder)\n",
    "importlib.reload(classActivationMap)\n",
    "print(\"Reload complete\")\n",
    "\n",
    "print(\"GPUs available: \" + str(torch.cuda.device_count()))\n",
    "os.environ[\"CUDA_VISIBLE_DEVICES\"] = \"0,1\""
   ]
  },
  {
   "cell_type": "code",
   "execution_count": 24,
   "metadata": {},
   "outputs": [
    {
     "name": "stdout",
     "output_type": "stream",
     "text": [
      "fin\n"
     ]
    }
   ],
   "source": [
    "resplit_data = False\n",
    "if resplit_data:\n",
    "    os.system('python3 utils/splitDataFolder.py -r \"data/allDAPI_volume_0619/\" -c \"data/allDAPI_volume_0619/Label_all.csv\" -s 0.15')\n",
    "    \n",
    "print(\"fin\")"
   ]
  },
  {
   "cell_type": "code",
   "execution_count": 25,
   "metadata": {},
   "outputs": [],
   "source": [
    "#This function gets the parameters from the config.json file \n",
    "def get_instance(module, name, config, *args):\n",
    "    return getattr(module, config[name]['type'])(*args, **config[name]['args'])\n",
    "\n",
    "def set_instance(module, name, config, *args):\n",
    "    setattr(module, config[name]['type'])(*args, **config[name]['args'])\n",
    "\n",
    "def main(config, resume):\n",
    "    train_logger = Logger() #uses entries to store training performance metrics\n",
    "    device = torch.device('cuda' if torch.cuda.is_available() else 'cpu')\n",
    "    \n",
    "    # setup data_loader instances\n",
    "    data_loader = get_instance(module_data, 'data_loader', config) #looks in data_loader/data_loaders.py for 'MNISTDataLoader'\n",
    "    print(\"Total number of training images = \" + str(data_loader.dataset.data_len))\n",
    "    valid_data_loader = data_loader.split_validation() #allocate some images as validation\n",
    "\n",
    "    # build model architecture\n",
    "    model = get_instance(module_arch, 'arch', config) #looks in the model/model.py for 'MnistModel', as specified by config\n",
    "    print(model)\n",
    "    torchsummary.summary(model, (1,7,32,32))\n",
    "     \n",
    "    \n",
    "    if torch.cuda.is_available():\n",
    "        print(\"Using GPU: \" + torch.cuda.get_device_name(0))\n",
    "    else:\n",
    "        print(\"Using CPU to train\")\n",
    "    \n",
    "    normalized = False\n",
    "    util.visualizeBatch(data_loader, normalized)\n",
    "    \n",
    "    \n",
    "    # get function handles of loss and metrics\n",
    "    loss = getattr(module_loss, config['loss']) #looks in model/loss.py for criterion function specified in config\n",
    "    criterion = loss(data_loader.dataset.weight.to(device)) # for imbalanced datasets\n",
    "    metrics = [getattr(module_metric, met) for met in config['metrics']] #get all the metrics in model/metrics.py - default is accuracy and top 3 accuracy\n",
    "\n",
    "    # build optimizer, learning rate scheduler. delete every lines containing lr_scheduler for disabling scheduler\n",
    "    trainable_params = filter(lambda p: p.requires_grad, model.parameters()) #Number of training params\n",
    "    optimizer = get_instance(torch.optim, 'optimizer', config, trainable_params)\n",
    "    lr_scheduler = get_instance(torch.optim.lr_scheduler, 'lr_scheduler', config, optimizer)\n",
    "\n",
    "    \n",
    "    trainer = Trainer(model, criterion, metrics, optimizer,\n",
    "                      resume=resume, #choose a previous epoch to start training from\n",
    "                      config=config,\n",
    "                      data_loader=data_loader,\n",
    "                      valid_data_loader=valid_data_loader,\n",
    "                      lr_scheduler=lr_scheduler,\n",
    "                      train_logger=train_logger)\n",
    "    \n",
    "    \n",
    "    findLR = False\n",
    "    if findLR:\n",
    "        #set lr = 1e-7 in config file \n",
    "        device_lr = torch.device('cuda' if torch.cuda.is_available() else 'cpu')\n",
    "        lr_finder_training = lr_finder.LRFinder(model, optimizer, criterion, device=device_lr)\n",
    "        lr_finder_training.range_test(data_loader, end_lr=1, num_iter=100, val_loader = valid_data_loader)\n",
    "        lr_finder_training.plot(skip_start = 10, skip_end=5)\n",
    "        # trim the first 10 and last 5 iteration from calculating loss (num_iter > skip_start + skip_end)\n",
    "    else:\n",
    "        trainer.train()\n",
    "        a=1\n",
    "    \n",
    " "
   ]
  },
  {
   "cell_type": "code",
   "execution_count": 26,
   "metadata": {},
   "outputs": [],
   "source": [
    "config_file = '../configs/config_3d.json'\n",
    "\n",
    "# load config file\n",
    "with open(config_file) as handle:\n",
    "    config = json.load(handle)\n",
    "# setting path to save trained models and log files\n",
    "path = os.path.join(config['trainer']['save_dir'], config['name'])"
   ]
  },
  {
   "cell_type": "code",
   "execution_count": 27,
   "metadata": {},
   "outputs": [
    {
     "name": "stdout",
     "output_type": "stream",
     "text": [
      "Total number of training images = 1313\n",
      "threeDmodel(\n",
      "  (conv_layer1): Sequential(\n",
      "    (0): Conv3d(1, 32, kernel_size=(3, 3, 3), stride=(1, 1, 1), padding=(1, 1, 1))\n",
      "    (1): BatchNorm3d(32, eps=1e-05, momentum=0.1, affine=True, track_running_stats=True)\n",
      "    (2): LeakyReLU(negative_slope=0.01)\n",
      "    (3): Conv3d(32, 32, kernel_size=(3, 3, 3), stride=(1, 1, 1), padding=(1, 1, 1))\n",
      "    (4): BatchNorm3d(32, eps=1e-05, momentum=0.1, affine=True, track_running_stats=True)\n",
      "    (5): LeakyReLU(negative_slope=0.01)\n",
      "    (6): MaxPool3d(kernel_size=(2, 2, 2), stride=(2, 2, 2), padding=0, dilation=1, ceil_mode=False)\n",
      "  )\n",
      "  (conv_layer2): Sequential(\n",
      "    (0): Conv3d(32, 64, kernel_size=(3, 3, 3), stride=(1, 1, 1), padding=(1, 1, 1))\n",
      "    (1): BatchNorm3d(64, eps=1e-05, momentum=0.1, affine=True, track_running_stats=True)\n",
      "    (2): LeakyReLU(negative_slope=0.01)\n",
      "    (3): Conv3d(64, 64, kernel_size=(3, 3, 3), stride=(1, 1, 1), padding=(1, 1, 1))\n",
      "    (4): BatchNorm3d(64, eps=1e-05, momentum=0.1, affine=True, track_running_stats=True)\n",
      "    (5): LeakyReLU(negative_slope=0.01)\n",
      "    (6): MaxPool3d(kernel_size=(2, 2, 2), stride=(2, 2, 2), padding=0, dilation=1, ceil_mode=False)\n",
      "  )\n",
      "  (conv_layer3): Sequential(\n",
      "    (0): Conv3d(64, 128, kernel_size=(3, 3, 3), stride=(1, 1, 1), padding=(1, 1, 1))\n",
      "    (1): BatchNorm3d(128, eps=1e-05, momentum=0.1, affine=True, track_running_stats=True)\n",
      "    (2): LeakyReLU(negative_slope=0.01)\n",
      "    (3): Conv3d(128, 128, kernel_size=(3, 3, 3), stride=(1, 1, 1), padding=(1, 1, 1))\n",
      "    (4): BatchNorm3d(128, eps=1e-05, momentum=0.1, affine=True, track_running_stats=True)\n",
      "    (5): LeakyReLU(negative_slope=0.01)\n",
      "    (6): MaxPool3d(kernel_size=(2, 2, 2), stride=(2, 2, 2), padding=0, dilation=1, ceil_mode=False)\n",
      "  )\n",
      "  (conv_layer4): Conv3d(128, 256, kernel_size=(1, 3, 3), stride=(1, 1, 1), padding=(0, 1, 1))\n",
      "  (fc5): Linear(in_features=4096, out_features=256, bias=True)\n",
      "  (relu): LeakyReLU(negative_slope=0.01)\n",
      "  (batch0): BatchNorm1d(256, eps=1e-05, momentum=0.1, affine=True, track_running_stats=True)\n",
      "  (drop): Dropout(p=0.5)\n",
      "  (fc6): Linear(in_features=256, out_features=128, bias=True)\n",
      "  (relu1): LeakyReLU(negative_slope=0.01)\n",
      "  (batch1): BatchNorm1d(128, eps=1e-05, momentum=0.1, affine=True, track_running_stats=True)\n",
      "  (drop1): Dropout(p=0.5)\n",
      "  (fc7): Linear(in_features=128, out_features=2, bias=True)\n",
      ")\n",
      "Trainable parameters: 2237218\n",
      "----------------------------------------------------------------\n",
      "        Layer (type)               Output Shape         Param #\n",
      "================================================================\n",
      "            Conv3d-1        [-1, 32, 7, 32, 32]             896\n",
      "       BatchNorm3d-2        [-1, 32, 7, 32, 32]              64\n",
      "         LeakyReLU-3        [-1, 32, 7, 32, 32]               0\n",
      "            Conv3d-4        [-1, 32, 7, 32, 32]          27,680\n",
      "       BatchNorm3d-5        [-1, 32, 7, 32, 32]              64\n",
      "         LeakyReLU-6        [-1, 32, 7, 32, 32]               0\n",
      "         MaxPool3d-7        [-1, 32, 3, 16, 16]               0\n",
      "            Conv3d-8        [-1, 64, 3, 16, 16]          55,360\n",
      "       BatchNorm3d-9        [-1, 64, 3, 16, 16]             128\n",
      "        LeakyReLU-10        [-1, 64, 3, 16, 16]               0\n",
      "           Conv3d-11        [-1, 64, 3, 16, 16]         110,656\n",
      "      BatchNorm3d-12        [-1, 64, 3, 16, 16]             128\n",
      "        LeakyReLU-13        [-1, 64, 3, 16, 16]               0\n",
      "        MaxPool3d-14          [-1, 64, 1, 8, 8]               0\n",
      "           Conv3d-15         [-1, 128, 1, 8, 8]         221,312\n",
      "      BatchNorm3d-16         [-1, 128, 1, 8, 8]             256\n",
      "        LeakyReLU-17         [-1, 128, 1, 8, 8]               0\n",
      "           Conv3d-18         [-1, 128, 1, 8, 8]         442,496\n",
      "      BatchNorm3d-19         [-1, 128, 1, 8, 8]             256\n",
      "        LeakyReLU-20         [-1, 128, 1, 8, 8]               0\n",
      "        MaxPool3d-21         [-1, 128, 1, 4, 4]               0\n",
      "           Conv3d-22         [-1, 256, 1, 4, 4]         295,168\n",
      "           Linear-23                  [-1, 256]       1,048,832\n",
      "        LeakyReLU-24                  [-1, 256]               0\n",
      "      BatchNorm1d-25                  [-1, 256]             512\n",
      "          Dropout-26                  [-1, 256]               0\n",
      "           Linear-27                  [-1, 128]          32,896\n",
      "        LeakyReLU-28                  [-1, 128]               0\n",
      "      BatchNorm1d-29                  [-1, 128]             256\n",
      "          Dropout-30                  [-1, 128]               0\n",
      "           Linear-31                    [-1, 2]             258\n",
      "================================================================\n",
      "Total params: 2,237,218\n",
      "Trainable params: 2,237,218\n",
      "Non-trainable params: 0\n",
      "----------------------------------------------------------------\n",
      "Input size (MB): 0.03\n",
      "Forward/backward pass size (MB): 13.40\n",
      "Params size (MB): 8.53\n",
      "Estimated Total Size (MB): 21.96\n",
      "----------------------------------------------------------------\n",
      "Using GPU: Tesla K80\n"
     ]
    },
    {
     "data": {
      "image/png": "[encoded data removed]",
      "text/plain": [
       "<Figure size 432x288 with 1 Axes>"
      ]
     },
     "metadata": {
      "needs_background": "light"
     },
     "output_type": "display_data"
    },
    {
     "data": {
      "image/png": "[encoded data removed]",
      "text/plain": [
       "<Figure size 432x288 with 1 Axes>"
      ]
     },
     "metadata": {
      "needs_background": "light"
     },
     "output_type": "display_data"
    },
    {
     "data": {
      "image/png": "[encoded data removed]",
      "text/plain": [
       "<Figure size 432x288 with 1 Axes>"
      ]
     },
     "metadata": {
      "needs_background": "light"
     },
     "output_type": "display_data"
    },
    {
     "data": {
      "image/png": "[encoded data removed]",
      "text/plain": [
       "<Figure size 432x288 with 1 Axes>"
      ]
     },
     "metadata": {
      "needs_background": "light"
     },
     "output_type": "display_data"
    },
    {
     "data": {
      "image/png": "[encoded data removed]",
      "text/plain": [
       "<Figure size 432x288 with 1 Axes>"
      ]
     },
     "metadata": {
      "needs_background": "light"
     },
     "output_type": "display_data"
    },
    {
     "data": {
      "image/png": "[encoded data removed]",
      "text/plain": [
       "<Figure size 432x288 with 1 Axes>"
      ]
     },
     "metadata": {
      "needs_background": "light"
     },
     "output_type": "display_data"
    },
    {
     "data": {
      "image/png": "[encoded data removed]",
      "text/plain": [
       "<Figure size 432x288 with 1 Axes>"
      ]
     },
     "metadata": {
      "needs_background": "light"
     },
     "output_type": "display_data"
    },
    {
     "name": "stderr",
     "output_type": "stream",
     "text": [
      "    epoch          : 1\n",
      "    loss           : 0.8807333244217767\n",
      "    my_metric      : 0.5537821087216249\n",
      "    f1             : 0.5271597277793456\n",
      "    balanced_accuracy: 0.5702263661999658\n",
      "    precision      : 0.583559966220156\n",
      "    recall         : 0.5537821087216249\n",
      "    val_loss       : 1.0046977996826172\n",
      "    val_my_metric  : 0.5287224264705882\n",
      "    val_f1         : 0.3824301095004214\n",
      "    val_balanced_accuracy: 0.5108176100628932\n",
      "    val_precision  : 0.4340239868777207\n",
      "    val_recall     : 0.5287224264705882\n",
      "Saving checkpoint: saved/MaskedVolume_3d/0620_142107/checkpoint-epoch1.pth ...\n",
      "Saving current best: model_best.pth ...\n",
      "    epoch          : 2\n",
      "    loss           : 0.8500106864505343\n",
      "    my_metric      : 0.5851347819593787\n",
      "    f1             : 0.5774596363993391\n",
      "    balanced_accuracy: 0.5958233558789298\n",
      "    precision      : 0.6108304098132472\n",
      "    recall         : 0.5851347819593787\n",
      "    val_loss       : 0.914706826210022\n",
      "    val_my_metric  : 0.4931066176470588\n",
      "    val_f1         : 0.38150740749461853\n",
      "    val_balanced_accuracy: 0.5367864335322128\n",
      "    val_precision  : 0.6903636906394259\n",
      "    val_recall     : 0.4931066176470588\n",
      "Saving checkpoint: saved/MaskedVolume_3d/0620_142107/checkpoint-epoch2.pth ...\n",
      "Saving current best: model_best.pth ...\n",
      "    epoch          : 3\n",
      "    loss           : 0.8323598702748617\n",
      "    my_metric      : 0.5825212813620071\n",
      "    f1             : 0.5691878495748485\n",
      "    balanced_accuracy: 0.5958057070502997\n",
      "    precision      : 0.6207214016845412\n",
      "    recall         : 0.5825212813620071\n",
      "    val_loss       : 0.8567294478416443\n",
      "    val_my_metric  : 0.5983455882352942\n",
      "    val_f1         : 0.5638727395048702\n",
      "    val_balanced_accuracy: 0.6192674124247399\n",
      "    val_precision  : 0.6943559701028321\n",
      "    val_recall     : 0.5983455882352942\n",
      "Saving checkpoint: saved/MaskedVolume_3d/0620_142107/checkpoint-epoch3.pth ...\n",
      "Saving current best: model_best.pth ...\n",
      "    epoch          : 4\n",
      "    loss           : 0.7532672219806247\n",
      "    my_metric      : 0.5994716995221028\n",
      "    f1             : 0.5945622082198407\n",
      "    balanced_accuracy: 0.6080365376577375\n",
      "    precision      : 0.6177725337005583\n",
      "    recall         : 0.5994716995221028\n",
      "    val_loss       : 0.9180284142494202\n",
      "    val_my_metric  : 0.5282628676470589\n",
      "    val_f1         : 0.45636373621902526\n",
      "    val_balanced_accuracy: 0.5683965228320067\n",
      "    val_precision  : 0.6681977013778484\n",
      "    val_recall     : 0.5282628676470589\n"
     ]
    },
    {
     "name": "stdout",
     "output_type": "stream",
     "text": [
      "Model has not improved in -------------| 1 epochs\n"
     ]
    },
    {
     "name": "stderr",
     "output_type": "stream",
     "text": [
      "    epoch          : 5\n",
      "    loss           : 0.7655096915033128\n",
      "    my_metric      : 0.5894750597371565\n",
      "    f1             : 0.580860353255271\n",
      "    balanced_accuracy: 0.5999121529250969\n",
      "    precision      : 0.6158649667303996\n",
      "    recall         : 0.5894750597371565\n",
      "    val_loss       : 0.8559266030788422\n",
      "    val_my_metric  : 0.5222886029411764\n",
      "    val_f1         : 0.45292585017117903\n",
      "    val_balanced_accuracy: 0.5655990351112302\n",
      "    val_precision  : 0.6228226919045252\n",
      "    val_recall     : 0.5222886029411764\n",
      "Saving checkpoint: saved/MaskedVolume_3d/0620_142107/checkpoint-epoch5.pth ...\n",
      "Saving current best: model_best.pth ...\n",
      "    epoch          : 6\n",
      "    loss           : 0.6909917857911851\n",
      "    my_metric      : 0.6252893518518519\n",
      "    f1             : 0.6219348139342519\n",
      "    balanced_accuracy: 0.6329540604532387\n",
      "    precision      : 0.6447496038889359\n",
      "    recall         : 0.6252893518518519\n",
      "    val_loss       : 0.9255858063697815\n",
      "    val_my_metric  : 0.6247702205882353\n",
      "    val_f1         : 0.5972915389323119\n",
      "    val_balanced_accuracy: 0.642838530384861\n",
      "    val_precision  : 0.7090892152517034\n",
      "    val_recall     : 0.6247702205882353\n"
     ]
    },
    {
     "name": "stdout",
     "output_type": "stream",
     "text": [
      "Model has not improved in -------------| 1 epochs\n"
     ]
    },
    {
     "name": "stderr",
     "output_type": "stream",
     "text": [
      "    epoch          : 7\n",
      "    loss           : 0.676862531238132\n",
      "    my_metric      : 0.6655465949820789\n",
      "    f1             : 0.6653692905442818\n",
      "    balanced_accuracy: 0.6694418029961035\n",
      "    precision      : 0.6748218569240587\n",
      "    recall         : 0.6655465949820789\n",
      "    val_loss       : 1.0080218613147736\n",
      "    val_my_metric  : 0.5909926470588236\n",
      "    val_f1         : 0.557827818627451\n",
      "    val_balanced_accuracy: 0.6095488400899817\n",
      "    val_precision  : 0.6660174996572055\n",
      "    val_recall     : 0.5909926470588236\n"
     ]
    },
    {
     "name": "stdout",
     "output_type": "stream",
     "text": [
      "Model has not improved in -------------| 2 epochs\n"
     ]
    },
    {
     "name": "stderr",
     "output_type": "stream",
     "text": [
      "    epoch          : 8\n",
      "    loss           : 0.6605122288068136\n",
      "    my_metric      : 0.6559979838709677\n",
      "    f1             : 0.6560411792287558\n",
      "    balanced_accuracy: 0.6552698946003497\n",
      "    precision      : 0.6614069791583665\n",
      "    recall         : 0.6559979838709677\n",
      "    val_loss       : 0.8001917004585266\n",
      "    val_my_metric  : 0.6468290441176471\n",
      "    val_f1         : 0.622560753191899\n",
      "    val_balanced_accuracy: 0.6581124355096958\n",
      "    val_precision  : 0.7302836099819943\n",
      "    val_recall     : 0.6468290441176471\n",
      "Saving checkpoint: saved/MaskedVolume_3d/0620_142107/checkpoint-epoch8.pth ...\n",
      "Saving current best: model_best.pth ...\n",
      "    epoch          : 9\n",
      "    loss           : 0.6740103562672933\n",
      "    my_metric      : 0.6389542264038233\n",
      "    f1             : 0.6402913912402002\n",
      "    balanced_accuracy: 0.6435996072081367\n",
      "    precision      : 0.651534349800621\n",
      "    recall         : 0.6389542264038233\n",
      "    val_loss       : 0.8228653073310852\n",
      "    val_my_metric  : 0.6036305147058824\n",
      "    val_f1         : 0.5856438915067235\n",
      "    val_balanced_accuracy: 0.6162173202614379\n",
      "    val_precision  : 0.6442135080833566\n",
      "    val_recall     : 0.6036305147058824\n"
     ]
    },
    {
     "name": "stdout",
     "output_type": "stream",
     "text": [
      "Model has not improved in -------------| 1 epochs\n"
     ]
    },
    {
     "name": "stderr",
     "output_type": "stream",
     "text": [
      "    epoch          : 10\n",
      "    loss           : 0.6737624406814575\n",
      "    my_metric      : 0.6679360812425329\n",
      "    f1             : 0.668683721488976\n",
      "    balanced_accuracy: 0.670124677514283\n",
      "    precision      : 0.6746906655197423\n",
      "    recall         : 0.6679360812425329\n",
      "    val_loss       : 0.9816884994506836\n",
      "    val_my_metric  : 0.6376378676470589\n",
      "    val_f1         : 0.609894656221595\n",
      "    val_balanced_accuracy: 0.6561169424183122\n",
      "    val_precision  : 0.7211732890271494\n",
      "    val_recall     : 0.6376378676470589\n"
     ]
    },
    {
     "name": "stdout",
     "output_type": "stream",
     "text": [
      "Model has not improved in -------------| 2 epochs\n"
     ]
    },
    {
     "name": "stderr",
     "output_type": "stream",
     "text": [
      "    epoch          : 11\n",
      "    loss           : 0.6722382108370463\n",
      "    my_metric      : 0.6635864695340502\n",
      "    f1             : 0.6636876107836936\n",
      "    balanced_accuracy: 0.6632852463830411\n",
      "    precision      : 0.6678338672487237\n",
      "    recall         : 0.6635864695340502\n",
      "    val_loss       : 0.7015379965305328\n",
      "    val_my_metric  : 0.6096047794117647\n",
      "    val_f1         : 0.5819217879302268\n",
      "    val_balanced_accuracy: 0.6207050939927652\n",
      "    val_precision  : 0.6737037398499763\n",
      "    val_recall     : 0.6096047794117647\n",
      "Saving checkpoint: saved/MaskedVolume_3d/0620_142107/checkpoint-epoch11.pth ...\n",
      "Saving current best: model_best.pth ...\n",
      "    epoch          : 12\n",
      "    loss           : 0.6613158782323202\n",
      "    my_metric      : 0.6706429211469535\n",
      "    f1             : 0.6712908168713664\n",
      "    balanced_accuracy: 0.6703895621269734\n",
      "    precision      : 0.6743664624401591\n",
      "    recall         : 0.6706429211469535\n",
      "    val_loss       : 0.6531947255134583\n",
      "    val_my_metric  : 0.6624540441176471\n",
      "    val_f1         : 0.6478074610447389\n",
      "    val_balanced_accuracy: 0.6695097958579395\n",
      "    val_precision  : 0.7146070776549334\n",
      "    val_recall     : 0.6624540441176471\n",
      "Saving checkpoint: saved/MaskedVolume_3d/0620_142107/checkpoint-epoch12.pth ...\n",
      "Saving current best: model_best.pth ...\n",
      "    epoch          : 13\n",
      "    loss           : 0.6251873175303141\n",
      "    my_metric      : 0.6788941158900836\n",
      "    f1             : 0.6789875608680268\n",
      "    balanced_accuracy: 0.6781679123397725\n",
      "    precision      : 0.6815853701013305\n",
      "    recall         : 0.6788941158900836\n",
      "    val_loss       : 0.6180633306503296\n",
      "    val_my_metric  : 0.6806066176470589\n",
      "    val_f1         : 0.675401718838883\n",
      "    val_balanced_accuracy: 0.6886671335200747\n",
      "    val_precision  : 0.7103358416945373\n",
      "    val_recall     : 0.6806066176470589\n",
      "Saving checkpoint: saved/MaskedVolume_3d/0620_142107/checkpoint-epoch13.pth ...\n",
      "Saving current best: model_best.pth ...\n",
      "    epoch          : 14\n",
      "    loss           : 0.5973620613416036\n",
      "    my_metric      : 0.6986447132616488\n",
      "    f1             : 0.6987743346555624\n",
      "    balanced_accuracy: 0.6978611552835537\n",
      "    precision      : 0.7011868551271058\n",
      "    recall         : 0.6986447132616488\n",
      "    val_loss       : 0.6207273006439209\n",
      "    val_my_metric  : 0.7486213235294117\n",
      "    val_f1         : 0.7488086803006824\n",
      "    val_balanced_accuracy: 0.7512254901960784\n",
      "    val_precision  : 0.7560692879559603\n",
      "    val_recall     : 0.7486213235294117\n"
     ]
    },
    {
     "name": "stdout",
     "output_type": "stream",
     "text": [
      "Model has not improved in -------------| 1 epochs\n"
     ]
    },
    {
     "name": "stderr",
     "output_type": "stream",
     "text": [
      "    epoch          : 15\n",
      "    loss           : 0.6343646380636427\n",
      "    my_metric      : 0.7000541367980885\n",
      "    f1             : 0.6996493080129075\n",
      "    balanced_accuracy: 0.6992529094422418\n",
      "    precision      : 0.7050598517128241\n",
      "    recall         : 0.7000541367980885\n",
      "    val_loss       : 0.7261696457862854\n",
      "    val_my_metric  : 0.6801470588235294\n",
      "    val_f1         : 0.6738482552730711\n",
      "    val_balanced_accuracy: 0.693866519668217\n",
      "    val_precision  : 0.7211605002092658\n",
      "    val_recall     : 0.6801470588235294\n"
     ]
    },
    {
     "name": "stdout",
     "output_type": "stream",
     "text": [
      "Model has not improved in -------------| 2 epochs\n"
     ]
    },
    {
     "name": "stderr",
     "output_type": "stream",
     "text": [
      "    epoch          : 16\n",
      "    loss           : 0.6298285325368246\n",
      "    my_metric      : 0.6926803315412187\n",
      "    f1             : 0.6928101877209305\n",
      "    balanced_accuracy: 0.6931363109230335\n",
      "    precision      : 0.6962832307167154\n",
      "    recall         : 0.6926803315412187\n",
      "    val_loss       : 0.708864152431488\n",
      "    val_my_metric  : 0.6374080882352942\n",
      "    val_f1         : 0.6321612945496804\n",
      "    val_balanced_accuracy: 0.6443070628002135\n",
      "    val_precision  : 0.6585278997962822\n",
      "    val_recall     : 0.6374080882352942\n"
     ]
    },
    {
     "name": "stdout",
     "output_type": "stream",
     "text": [
      "Model has not improved in -------------| 3 epochs\n"
     ]
    },
    {
     "name": "stderr",
     "output_type": "stream",
     "text": [
      "    epoch          : 17\n",
      "    loss           : 0.6173248754607307\n",
      "    my_metric      : 0.6881160394265233\n",
      "    f1             : 0.6887177886899405\n",
      "    balanced_accuracy: 0.689865973965929\n",
      "    precision      : 0.6945276643865815\n",
      "    recall         : 0.6881160394265233\n",
      "    val_loss       : 0.598656177520752\n",
      "    val_my_metric  : 0.7010569852941176\n",
      "    val_f1         : 0.7029624370213583\n",
      "    val_balanced_accuracy: 0.7084907280219781\n",
      "    val_precision  : 0.7180339275792047\n",
      "    val_recall     : 0.7010569852941176\n",
      "Saving checkpoint: saved/MaskedVolume_3d/0620_142107/checkpoint-epoch17.pth ...\n",
      "Saving current best: model_best.pth ...\n",
      "    epoch          : 18\n",
      "    loss           : 0.6031951308250427\n",
      "    my_metric      : 0.7026583034647551\n",
      "    f1             : 0.7036236038573342\n",
      "    balanced_accuracy: 0.7075104768727054\n",
      "    precision      : 0.7140270438835528\n",
      "    recall         : 0.7026583034647551\n",
      "    val_loss       : 0.6110881567001343\n",
      "    val_my_metric  : 0.6746323529411764\n",
      "    val_f1         : 0.6727253888237694\n",
      "    val_balanced_accuracy: 0.6831435459992286\n",
      "    val_precision  : 0.6937412134665186\n",
      "    val_recall     : 0.6746323529411764\n"
     ]
    },
    {
     "name": "stdout",
     "output_type": "stream",
     "text": [
      "Model has not improved in -------------| 1 epochs\n"
     ]
    },
    {
     "name": "stderr",
     "output_type": "stream",
     "text": [
      "    epoch          : 19\n",
      "    loss           : 0.6020961801211039\n",
      "    my_metric      : 0.7084173387096775\n",
      "    f1             : 0.7081125870229421\n",
      "    balanced_accuracy: 0.7080207666964081\n",
      "    precision      : 0.7108733958820092\n",
      "    recall         : 0.7084173387096775\n",
      "    val_loss       : 0.5712150037288666\n",
      "    val_my_metric  : 0.7568933823529411\n",
      "    val_f1         : 0.7563802459877662\n",
      "    val_balanced_accuracy: 0.7584346589906263\n",
      "    val_precision  : 0.7650635218915067\n",
      "    val_recall     : 0.7568933823529411\n",
      "Saving checkpoint: saved/MaskedVolume_3d/0620_142107/checkpoint-epoch19.pth ...\n",
      "Saving current best: model_best.pth ...\n",
      "    epoch          : 20\n",
      "    loss           : 0.5851434138086107\n",
      "    my_metric      : 0.6995221027479093\n",
      "    f1             : 0.7002562506105847\n",
      "    balanced_accuracy: 0.702449203525586\n",
      "    precision      : 0.7072340449669249\n",
      "    recall         : 0.6995221027479093\n",
      "    val_loss       : 0.6351340413093567\n",
      "    val_my_metric  : 0.6741727941176471\n",
      "    val_f1         : 0.6655661698937179\n",
      "    val_balanced_accuracy: 0.6766666118339886\n",
      "    val_precision  : 0.7051996785556327\n",
      "    val_recall     : 0.6741727941176471\n"
     ]
    },
    {
     "name": "stdout",
     "output_type": "stream",
     "text": [
      "Model has not improved in -------------| 1 epochs\n"
     ]
    },
    {
     "name": "stderr",
     "output_type": "stream",
     "text": [
      "    epoch          : 21\n",
      "    loss           : 0.6228746175765991\n",
      "    my_metric      : 0.7026583034647551\n",
      "    f1             : 0.7024888147098015\n",
      "    balanced_accuracy: 0.7016162744716828\n",
      "    precision      : 0.7072908434453564\n",
      "    recall         : 0.7026583034647551\n",
      "    val_loss       : 0.6380231380462646\n",
      "    val_my_metric  : 0.6663602941176471\n",
      "    val_f1         : 0.6599799808622079\n",
      "    val_balanced_accuracy: 0.6888342912733156\n",
      "    val_precision  : 0.7229620207171397\n",
      "    val_recall     : 0.6663602941176471\n"
     ]
    },
    {
     "name": "stdout",
     "output_type": "stream",
     "text": [
      "Model has not improved in -------------| 2 epochs\n"
     ]
    },
    {
     "name": "stderr",
     "output_type": "stream",
     "text": [
      "    epoch          : 22\n",
      "    loss           : 0.6099163426293267\n",
      "    my_metric      : 0.7172005675029869\n",
      "    f1             : 0.7178200166879848\n",
      "    balanced_accuracy: 0.7192700410592896\n",
      "    precision      : 0.7226749782909244\n",
      "    recall         : 0.7172005675029869\n",
      "    val_loss       : 0.6155665516853333\n",
      "    val_my_metric  : 0.68359375\n",
      "    val_f1         : 0.6816383326987264\n",
      "    val_balanced_accuracy: 0.6887564490304217\n",
      "    val_precision  : 0.7018856296200047\n",
      "    val_recall     : 0.68359375\n"
     ]
    },
    {
     "name": "stdout",
     "output_type": "stream",
     "text": [
      "Model has not improved in -------------| 3 epochs\n"
     ]
    },
    {
     "name": "stderr",
     "output_type": "stream",
     "text": [
      "    epoch          : 23\n",
      "    loss           : 0.5921719272931417\n",
      "    my_metric      : 0.7180592891278376\n",
      "    f1             : 0.7184066820942652\n",
      "    balanced_accuracy: 0.7189795783032655\n",
      "    precision      : 0.7227501881755699\n",
      "    recall         : 0.7180592891278376\n",
      "    val_loss       : 0.6311928331851959\n",
      "    val_my_metric  : 0.7024356617647058\n",
      "    val_f1         : 0.7018064687364034\n",
      "    val_balanced_accuracy: 0.7087660782703886\n",
      "    val_precision  : 0.7171617569983968\n",
      "    val_recall     : 0.7024356617647058\n"
     ]
    },
    {
     "name": "stdout",
     "output_type": "stream",
     "text": [
      "Model has not improved in -------------| 4 epochs\n"
     ]
    },
    {
     "name": "stderr",
     "output_type": "stream",
     "text": [
      "    epoch          : 24\n",
      "    loss           : 0.5792652037408617\n",
      "    my_metric      : 0.7242476851851852\n",
      "    f1             : 0.723767219034784\n",
      "    balanced_accuracy: 0.7233522946217619\n",
      "    precision      : 0.7276529323490005\n",
      "    recall         : 0.7242476851851852\n",
      "    val_loss       : 0.5988563299179077\n",
      "    val_my_metric  : 0.7348345588235294\n",
      "    val_f1         : 0.7353615925536882\n",
      "    val_balanced_accuracy: 0.7352899774774775\n",
      "    val_precision  : 0.7391579835957371\n",
      "    val_recall     : 0.7348345588235294\n"
     ]
    },
    {
     "name": "stdout",
     "output_type": "stream",
     "text": [
      "Model has not improved in -------------| 5 epochs\n"
     ]
    },
    {
     "name": "stderr",
     "output_type": "stream",
     "text": [
      "    epoch          : 25\n",
      "    loss           : 0.5821642610761855\n",
      "    my_metric      : 0.7286999701314217\n",
      "    f1             : 0.7295762676944595\n",
      "    balanced_accuracy: 0.7329024130534053\n",
      "    precision      : 0.7377586662398631\n",
      "    recall         : 0.7286999701314217\n",
      "    val_loss       : 0.590374767780304\n",
      "    val_my_metric  : 0.7373621323529411\n",
      "    val_f1         : 0.7374127375893691\n",
      "    val_balanced_accuracy: 0.7371130030959753\n",
      "    val_precision  : 0.7393621137888406\n",
      "    val_recall     : 0.7373621323529411\n"
     ]
    },
    {
     "name": "stdout",
     "output_type": "stream",
     "text": [
      "Model has not improved in -------------| 6 epochs\n"
     ]
    },
    {
     "name": "stderr",
     "output_type": "stream",
     "text": [
      "    epoch          : 26\n",
      "    loss           : 0.5944201383325789\n",
      "    my_metric      : 0.7194687126642773\n",
      "    f1             : 0.7199698512983745\n",
      "    balanced_accuracy: 0.7197717466302145\n",
      "    precision      : 0.7226824379620523\n",
      "    recall         : 0.7194687126642773\n",
      "    val_loss       : 0.6380762755870819\n",
      "    val_my_metric  : 0.6946231617647058\n",
      "    val_f1         : 0.6929036955691368\n",
      "    val_balanced_accuracy: 0.7126234650624894\n",
      "    val_precision  : 0.7332396187035861\n",
      "    val_recall     : 0.6946231617647058\n"
     ]
    },
    {
     "name": "stdout",
     "output_type": "stream",
     "text": [
      "Model has not improved in -------------| 7 epochs\n"
     ]
    },
    {
     "name": "stderr",
     "output_type": "stream",
     "text": [
      "    epoch          : 27\n",
      "    loss           : 0.5754822724395328\n",
      "    my_metric      : 0.725554435483871\n",
      "    f1             : 0.7252367367622838\n",
      "    balanced_accuracy: 0.7236119463067557\n",
      "    precision      : 0.7301626577131063\n",
      "    recall         : 0.725554435483871\n",
      "    val_loss       : 0.622854620218277\n",
      "    val_my_metric  : 0.6907169117647058\n",
      "    val_f1         : 0.6886494080582566\n",
      "    val_balanced_accuracy: 0.703185658427594\n",
      "    val_precision  : 0.722648043592437\n",
      "    val_recall     : 0.6907169117647058\n"
     ]
    },
    {
     "name": "stdout",
     "output_type": "stream",
     "text": [
      "Model has not improved in -------------| 8 epochs\n"
     ]
    },
    {
     "name": "stderr",
     "output_type": "stream",
     "text": [
      "    epoch          : 28\n",
      "    loss           : 0.5864875051710341\n",
      "    my_metric      : 0.7197020609318997\n",
      "    f1             : 0.7205718830329855\n",
      "    balanced_accuracy: 0.7234848974372607\n",
      "    precision      : 0.7272633902044523\n",
      "    recall         : 0.7197020609318997\n",
      "    val_loss       : 0.5873148143291473\n",
      "    val_my_metric  : 0.7192095588235294\n",
      "    val_f1         : 0.7188829710769938\n",
      "    val_balanced_accuracy: 0.7229206178057179\n",
      "    val_precision  : 0.728683803789367\n",
      "    val_recall     : 0.7192095588235294\n"
     ]
    },
    {
     "name": "stdout",
     "output_type": "stream",
     "text": [
      "Model has not improved in -------------| 9 epochs\n"
     ]
    },
    {
     "name": "stderr",
     "output_type": "stream",
     "text": [
      "    epoch          : 29\n",
      "    loss           : 0.5762070814768473\n",
      "    my_metric      : 0.7138310185185186\n",
      "    f1             : 0.7138706065372888\n",
      "    balanced_accuracy: 0.713859795465623\n",
      "    precision      : 0.7158540581535617\n",
      "    recall         : 0.7138310185185186\n",
      "    val_loss       : 0.605605810880661\n",
      "    val_my_metric  : 0.7045036764705883\n",
      "    val_f1         : 0.704684862286552\n",
      "    val_balanced_accuracy: 0.7069042645024854\n",
      "    val_precision  : 0.7100697104759012\n",
      "    val_recall     : 0.7045036764705883\n"
     ]
    },
    {
     "name": "stdout",
     "output_type": "stream",
     "text": [
      "Model has not improved in -------------| 10 epochs\n"
     ]
    },
    {
     "name": "stderr",
     "output_type": "stream",
     "text": [
      "    epoch          : 30\n",
      "    loss           : 0.5897506674130758\n",
      "    my_metric      : 0.7253397550776584\n",
      "    f1             : 0.7260065893564067\n",
      "    balanced_accuracy: 0.7270389169269316\n",
      "    precision      : 0.7304413508910756\n",
      "    recall         : 0.7253397550776584\n",
      "    val_loss       : 0.5958162546157837\n",
      "    val_my_metric  : 0.7063419117647058\n",
      "    val_f1         : 0.7051718816207013\n",
      "    val_balanced_accuracy: 0.7028982107107108\n",
      "    val_precision  : 0.7098644270461221\n",
      "    val_recall     : 0.7063419117647058\n"
     ]
    },
    {
     "name": "stdout",
     "output_type": "stream",
     "text": [
      "Model has not improved in -------------| 11 epochs\n"
     ]
    },
    {
     "name": "stderr",
     "output_type": "stream",
     "text": [
      "    epoch          : 31\n",
      "    loss           : 0.5958355996343825\n",
      "    my_metric      : 0.7218675328554361\n",
      "    f1             : 0.7208538950598812\n",
      "    balanced_accuracy: 0.7196644738896281\n",
      "    precision      : 0.722784717598195\n",
      "    recall         : 0.7218675328554361\n",
      "    val_loss       : 0.5463483333587646\n",
      "    val_my_metric  : 0.7309283088235294\n",
      "    val_f1         : 0.7313127612105088\n",
      "    val_balanced_accuracy: 0.734249226006192\n",
      "    val_precision  : 0.7378514631935396\n",
      "    val_recall     : 0.7309283088235294\n",
      "Saving checkpoint: saved/MaskedVolume_3d/0620_142107/checkpoint-epoch31.pth ...\n",
      "Saving current best: model_best.pth ...\n",
      "    epoch          : 32\n",
      "    loss           : 0.5593082043859694\n",
      "    my_metric      : 0.7335816158900836\n",
      "    f1             : 0.7339543883625246\n",
      "    balanced_accuracy: 0.7357779392994561\n",
      "    precision      : 0.7388903999083153\n",
      "    recall         : 0.7335816158900836\n",
      "    val_loss       : 0.5672415494918823\n",
      "    val_my_metric  : 0.7426470588235294\n",
      "    val_f1         : 0.7427842967839203\n",
      "    val_balanced_accuracy: 0.7440454529409312\n",
      "    val_precision  : 0.746489558870963\n",
      "    val_recall     : 0.7426470588235294\n"
     ]
    },
    {
     "name": "stdout",
     "output_type": "stream",
     "text": [
      "Model has not improved in -------------| 1 epochs\n"
     ]
    },
    {
     "name": "stderr",
     "output_type": "stream",
     "text": [
      "    epoch          : 33\n",
      "    loss           : 0.589318487379286\n",
      "    my_metric      : 0.712318921744325\n",
      "    f1             : 0.7118394068898328\n",
      "    balanced_accuracy: 0.7100780432350725\n",
      "    precision      : 0.7132391430126225\n",
      "    recall         : 0.712318921744325\n",
      "    val_loss       : 0.5673704445362091\n",
      "    val_my_metric  : 0.7157628676470589\n",
      "    val_f1         : 0.7171201647775343\n",
      "    val_balanced_accuracy: 0.725989010989011\n",
      "    val_precision  : 0.7420889619754637\n",
      "    val_recall     : 0.7157628676470589\n"
     ]
    },
    {
     "name": "stdout",
     "output_type": "stream",
     "text": [
      "Model has not improved in -------------| 2 epochs\n"
     ]
    },
    {
     "name": "stderr",
     "output_type": "stream",
     "text": [
      "    epoch          : 34\n",
      "    loss           : 0.5755350258615282\n",
      "    my_metric      : 0.7236036439665472\n",
      "    f1             : 0.724465359845466\n",
      "    balanced_accuracy: 0.7284469023839998\n",
      "    precision      : 0.7335068129262119\n",
      "    recall         : 0.7236036439665472\n",
      "    val_loss       : 0.5800924599170685\n",
      "    val_my_metric  : 0.7235753676470589\n",
      "    val_f1         : 0.7203236419364938\n",
      "    val_balanced_accuracy: 0.7165247678018576\n",
      "    val_precision  : 0.7278066764640087\n",
      "    val_recall     : 0.7235753676470589\n"
     ]
    },
    {
     "name": "stdout",
     "output_type": "stream",
     "text": [
      "Model has not improved in -------------| 3 epochs\n"
     ]
    },
    {
     "name": "stderr",
     "output_type": "stream",
     "text": [
      "    epoch          : 35\n",
      "    loss           : 0.5742767519421048\n",
      "    my_metric      : 0.7274025537634409\n",
      "    f1             : 0.727969078070865\n",
      "    balanced_accuracy: 0.7288590806786299\n",
      "    precision      : 0.7314703720712724\n",
      "    recall         : 0.7274025537634409\n",
      "    val_loss       : 0.5668628811836243\n",
      "    val_my_metric  : 0.7079503676470589\n",
      "    val_f1         : 0.7032200452692865\n",
      "    val_balanced_accuracy: 0.6966150895303886\n",
      "    val_precision  : 0.7100047174409536\n",
      "    val_recall     : 0.7079503676470589\n"
     ]
    },
    {
     "name": "stdout",
     "output_type": "stream",
     "text": [
      "Model has not improved in -------------| 4 epochs\n"
     ]
    },
    {
     "name": "stderr",
     "output_type": "stream",
     "text": [
      "    epoch          : 36\n",
      "    loss           : 0.5514115922980838\n",
      "    my_metric      : 0.7299040471923537\n",
      "    f1             : 0.7308381586859728\n",
      "    balanced_accuracy: 0.7314823629206514\n",
      "    precision      : 0.7356436059427058\n",
      "    recall         : 0.7299040471923537\n",
      "    val_loss       : 0.5846396386623383\n",
      "    val_my_metric  : 0.74609375\n",
      "    val_f1         : 0.7451464523110316\n",
      "    val_balanced_accuracy: 0.7510091680350302\n",
      "    val_precision  : 0.7600437122159683\n",
      "    val_recall     : 0.74609375\n"
     ]
    },
    {
     "name": "stdout",
     "output_type": "stream",
     "text": [
      "Model has not improved in -------------| 5 epochs\n"
     ]
    },
    {
     "name": "stderr",
     "output_type": "stream",
     "text": [
      "    epoch          : 37\n",
      "    loss           : 0.5601639052232107\n",
      "    my_metric      : 0.7358684289127838\n",
      "    f1             : 0.7361578003102367\n",
      "    balanced_accuracy: 0.7373444327891743\n",
      "    precision      : 0.7410534210128391\n",
      "    recall         : 0.7358684289127838\n",
      "    val_loss       : 0.5873020589351654\n",
      "    val_my_metric  : 0.7171415441176471\n",
      "    val_f1         : 0.7180553809309984\n",
      "    val_balanced_accuracy: 0.7333018543956044\n",
      "    val_precision  : 0.7490430561752472\n",
      "    val_recall     : 0.7171415441176471\n"
     ]
    },
    {
     "name": "stdout",
     "output_type": "stream",
     "text": [
      "Model has not improved in -------------| 6 epochs\n"
     ]
    },
    {
     "name": "stderr",
     "output_type": "stream",
     "text": [
      "    epoch          : 38\n",
      "    loss           : 0.5544076297018263\n",
      "    my_metric      : 0.7418328106332139\n",
      "    f1             : 0.7420926081128603\n",
      "    balanced_accuracy: 0.7413348002030443\n",
      "    precision      : 0.7435332491397134\n",
      "    recall         : 0.7418328106332139\n",
      "    val_loss       : 0.5913345813751221\n",
      "    val_my_metric  : 0.7318474264705883\n",
      "    val_f1         : 0.7320479742992088\n",
      "    val_balanced_accuracy: 0.731371442255063\n",
      "    val_precision  : 0.7326646135882784\n",
      "    val_recall     : 0.7318474264705883\n"
     ]
    },
    {
     "name": "stdout",
     "output_type": "stream",
     "text": [
      "Model has not improved in -------------| 7 epochs\n"
     ]
    },
    {
     "name": "stderr",
     "output_type": "stream",
     "text": [
      "    epoch          : 39\n",
      "    loss           : 0.544860002067354\n",
      "    my_metric      : 0.7460704151732378\n",
      "    f1             : 0.7469605513465463\n",
      "    balanced_accuracy: 0.7486393447880749\n",
      "    precision      : 0.7527265887029249\n",
      "    recall         : 0.7460704151732378\n",
      "    val_loss       : 0.6045155227184296\n",
      "    val_my_metric  : 0.7141544117647058\n",
      "    val_f1         : 0.7146203624411641\n",
      "    val_balanced_accuracy: 0.7165558717250067\n",
      "    val_precision  : 0.7190440074631251\n",
      "    val_recall     : 0.7141544117647058\n"
     ]
    },
    {
     "name": "stdout",
     "output_type": "stream",
     "text": [
      "Model has not improved in -------------| 8 epochs\n"
     ]
    },
    {
     "name": "stderr",
     "output_type": "stream",
     "text": [
      "    epoch          : 40\n",
      "    loss           : 0.5667035910818312\n",
      "    my_metric      : 0.7227355884109916\n",
      "    f1             : 0.7221946624614451\n",
      "    balanced_accuracy: 0.7203627602022182\n",
      "    precision      : 0.7240912281822995\n",
      "    recall         : 0.7227355884109916\n",
      "    val_loss       : 0.5921364724636078\n",
      "    val_my_metric  : 0.7015165441176471\n",
      "    val_f1         : 0.6985935973603132\n",
      "    val_balanced_accuracy: 0.7143890388471609\n",
      "    val_precision  : 0.7344410771485932\n",
      "    val_recall     : 0.7015165441176471\n"
     ]
    },
    {
     "name": "stdout",
     "output_type": "stream",
     "text": [
      "Model has not improved in -------------| 9 epochs\n"
     ]
    },
    {
     "name": "stderr",
     "output_type": "stream",
     "text": [
      "    epoch          : 41\n",
      "    loss           : 0.5578809744781918\n",
      "    my_metric      : 0.7060185185185186\n",
      "    f1             : 0.7056777520067721\n",
      "    balanced_accuracy: 0.7097296814948703\n",
      "    precision      : 0.7150772457069232\n",
      "    recall         : 0.7060185185185186\n",
      "    val_loss       : 0.5967756509780884\n",
      "    val_my_metric  : 0.7139246323529411\n",
      "    val_f1         : 0.7129243131422762\n",
      "    val_balanced_accuracy: 0.7197022646244291\n",
      "    val_precision  : 0.7294454109768908\n",
      "    val_recall     : 0.7139246323529411\n"
     ]
    },
    {
     "name": "stdout",
     "output_type": "stream",
     "text": [
      "Model has not improved in -------------| 10 epochs\n"
     ]
    },
    {
     "name": "stderr",
     "output_type": "stream",
     "text": [
      "    epoch          : 42\n",
      "    loss           : 0.5637087292141385\n",
      "    my_metric      : 0.7130749701314217\n",
      "    f1             : 0.7133863172087316\n",
      "    balanced_accuracy: 0.7145166918094603\n",
      "    precision      : 0.7179305492837273\n",
      "    recall         : 0.7130749701314217\n",
      "    val_loss       : 0.5737836062908173\n",
      "    val_my_metric  : 0.7054227941176471\n",
      "    val_f1         : 0.6981155119285815\n",
      "    val_balanced_accuracy: 0.7134554942774121\n",
      "    val_precision  : 0.7411775148047369\n",
      "    val_recall     : 0.7054227941176471\n"
     ]
    },
    {
     "name": "stdout",
     "output_type": "stream",
     "text": [
      "Model has not improved in -------------| 11 epochs\n"
     ]
    },
    {
     "name": "stderr",
     "output_type": "stream",
     "text": [
      "    epoch          : 43\n",
      "    loss           : 0.5585448874367608\n",
      "    my_metric      : 0.7398820191158901\n",
      "    f1             : 0.7401016935732407\n",
      "    balanced_accuracy: 0.7414747189283146\n",
      "    precision      : 0.7455442568150654\n",
      "    recall         : 0.7398820191158901\n",
      "    val_loss       : 0.7243993878364563\n",
      "    val_my_metric  : 0.6482077205882353\n",
      "    val_f1         : 0.6337983183795126\n",
      "    val_balanced_accuracy: 0.6715718057103273\n",
      "    val_precision  : 0.7197622152058498\n",
      "    val_recall     : 0.6482077205882353\n"
     ]
    },
    {
     "name": "stdout",
     "output_type": "stream",
     "text": [
      "Model has not improved in -------------| 12 epochs\n"
     ]
    },
    {
     "name": "stderr",
     "output_type": "stream",
     "text": [
      "    epoch          : 44\n",
      "    loss           : 0.5432950258255005\n",
      "    my_metric      : 0.7276172341696535\n",
      "    f1             : 0.7280158752189477\n",
      "    balanced_accuracy: 0.7310289584764202\n",
      "    precision      : 0.7347745739685476\n",
      "    recall         : 0.7276172341696535\n",
      "    val_loss       : 0.6065057218074799\n",
      "    val_my_metric  : 0.7392003676470589\n",
      "    val_f1         : 0.739249816749362\n",
      "    val_balanced_accuracy: 0.740920053366174\n",
      "    val_precision  : 0.7436395353791394\n",
      "    val_recall     : 0.7392003676470589\n"
     ]
    },
    {
     "name": "stdout",
     "output_type": "stream",
     "text": [
      "Model has not improved in -------------| 13 epochs\n"
     ]
    },
    {
     "name": "stderr",
     "output_type": "stream",
     "text": [
      "    epoch          : 45\n",
      "    loss           : 0.5652712881565094\n",
      "    my_metric      : 0.7092760603345281\n",
      "    f1             : 0.708618515143145\n",
      "    balanced_accuracy: 0.7081992962066416\n",
      "    precision      : 0.7127546603321777\n",
      "    recall         : 0.7092760603345281\n",
      "    val_loss       : 0.6048516631126404\n",
      "    val_my_metric  : 0.6888786764705883\n",
      "    val_f1         : 0.6877247711421098\n",
      "    val_balanced_accuracy: 0.6942110177404295\n",
      "    val_precision  : 0.7028521825396825\n",
      "    val_recall     : 0.6888786764705883\n"
     ]
    },
    {
     "name": "stdout",
     "output_type": "stream",
     "text": [
      "Model has not improved in -------------| 14 epochs\n"
     ]
    },
    {
     "name": "stderr",
     "output_type": "stream",
     "text": [
      "    epoch          : 46\n",
      "    loss           : 0.5607853333155314\n",
      "    my_metric      : 0.7197020609318997\n",
      "    f1             : 0.7199954636855888\n",
      "    balanced_accuracy: 0.7227209107762216\n",
      "    precision      : 0.7265310329710923\n",
      "    recall         : 0.7197020609318997\n",
      "    val_loss       : 0.5692145228385925\n",
      "    val_my_metric  : 0.6863511029411764\n",
      "    val_f1         : 0.682832697060993\n",
      "    val_balanced_accuracy: 0.6934815592903829\n",
      "    val_precision  : 0.7075506435571157\n",
      "    val_recall     : 0.6863511029411764\n"
     ]
    },
    {
     "name": "stdout",
     "output_type": "stream",
     "text": [
      "Model has not improved in -------------| 15 epochs\n"
     ]
    },
    {
     "name": "stderr",
     "output_type": "stream",
     "text": [
      "    epoch          : 47\n",
      "    loss           : 0.5461200541920133\n",
      "    my_metric      : 0.7462850955794504\n",
      "    f1             : 0.7467868729156418\n",
      "    balanced_accuracy: 0.7477068315106097\n",
      "    precision      : 0.7505613381533072\n",
      "    recall         : 0.7462850955794504\n",
      "    val_loss       : 0.5576151311397552\n",
      "    val_my_metric  : 0.7486213235294117\n",
      "    val_f1         : 0.7487663174244057\n",
      "    val_balanced_accuracy: 0.7532817125490718\n",
      "    val_precision  : 0.7578955980139854\n",
      "    val_recall     : 0.7486213235294117\n"
     ]
    },
    {
     "name": "stdout",
     "output_type": "stream",
     "text": [
      "Model has not improved in -------------| 16 epochs\n"
     ]
    },
    {
     "name": "stderr",
     "output_type": "stream",
     "text": [
      "    epoch          : 48\n",
      "    loss           : 0.5709018508593241\n",
      "    my_metric      : 0.739340651135006\n",
      "    f1             : 0.7387888343090666\n",
      "    balanced_accuracy: 0.7380076134342906\n",
      "    precision      : 0.741362436337869\n",
      "    recall         : 0.739340651135006\n",
      "    val_loss       : 0.5780474245548248\n",
      "    val_my_metric  : 0.7318474264705883\n",
      "    val_f1         : 0.7308838184996415\n",
      "    val_balanced_accuracy: 0.7432443059304512\n",
      "    val_precision  : 0.7565858947570476\n",
      "    val_recall     : 0.7318474264705883\n"
     ]
    },
    {
     "name": "stdout",
     "output_type": "stream",
     "text": [
      "Model has not improved in -------------| 17 epochs\n"
     ]
    },
    {
     "name": "stderr",
     "output_type": "stream",
     "text": [
      "    epoch          : 49\n",
      "    loss           : 0.5553426610098945\n",
      "    my_metric      : 0.7386872759856631\n",
      "    f1             : 0.7391821966086962\n",
      "    balanced_accuracy: 0.7406920110094597\n",
      "    precision      : 0.743755369586015\n",
      "    recall         : 0.7386872759856631\n",
      "    val_loss       : 0.5775277316570282\n",
      "    val_my_metric  : 0.7201286764705883\n",
      "    val_f1         : 0.7152181846065921\n",
      "    val_balanced_accuracy: 0.7104717335301879\n",
      "    val_precision  : 0.7236411025213774\n",
      "    val_recall     : 0.7201286764705883\n"
     ]
    },
    {
     "name": "stdout",
     "output_type": "stream",
     "text": [
      "Model has not improved in -------------| 18 epochs\n"
     ]
    },
    {
     "name": "stderr",
     "output_type": "stream",
     "text": [
      "    epoch          : 50\n",
      "    loss           : 0.549823628531562\n",
      "    my_metric      : 0.7454170400238949\n",
      "    f1             : 0.7456112360727557\n",
      "    balanced_accuracy: 0.7457411298501071\n",
      "    precision      : 0.7481402428805165\n",
      "    recall         : 0.7454170400238949\n",
      "    val_loss       : 0.5339867621660233\n",
      "    val_my_metric  : 0.7711397058823529\n",
      "    val_f1         : 0.7714452826585179\n",
      "    val_balanced_accuracy: 0.7788224377958015\n",
      "    val_precision  : 0.7848256530784806\n",
      "    val_recall     : 0.7711397058823529\n",
      "Saving checkpoint: saved/MaskedVolume_3d/0620_142107/checkpoint-epoch50.pth ...\n",
      "Saving current best: model_best.pth ...\n",
      "    epoch          : 51\n",
      "    loss           : 0.5430727865960863\n",
      "    my_metric      : 0.7598472968936679\n",
      "    f1             : 0.7606396162917909\n",
      "    balanced_accuracy: 0.7622051964147241\n",
      "    precision      : 0.76585584770316\n",
      "    recall         : 0.7598472968936679\n",
      "    val_loss       : 0.5531841516494751\n",
      "    val_my_metric  : 0.7525275735294117\n",
      "    val_f1         : 0.7518197938610707\n",
      "    val_balanced_accuracy: 0.7582922202398276\n",
      "    val_precision  : 0.7693635299054513\n",
      "    val_recall     : 0.7525275735294117\n"
     ]
    },
    {
     "name": "stdout",
     "output_type": "stream",
     "text": [
      "Model has not improved in -------------| 1 epochs\n"
     ]
    },
    {
     "name": "stderr",
     "output_type": "stream",
     "text": [
      "    epoch          : 52\n",
      "    loss           : 0.5336144268512726\n",
      "    my_metric      : 0.7712440262843488\n",
      "    f1             : 0.771437788536161\n",
      "    balanced_accuracy: 0.7713807484056568\n",
      "    precision      : 0.7730343082200554\n",
      "    recall         : 0.7712440262843488\n",
      "    val_loss       : 0.6117287576198578\n",
      "    val_my_metric  : 0.7010569852941176\n",
      "    val_f1         : 0.7015608053603679\n",
      "    val_balanced_accuracy: 0.7022022022022022\n",
      "    val_precision  : 0.706909463693973\n",
      "    val_recall     : 0.7010569852941176\n"
     ]
    },
    {
     "name": "stdout",
     "output_type": "stream",
     "text": [
      "Model has not improved in -------------| 2 epochs\n"
     ]
    },
    {
     "name": "stderr",
     "output_type": "stream",
     "text": [
      "    epoch          : 53\n",
      "    loss           : 0.5429303646087646\n",
      "    my_metric      : 0.7549563172043011\n",
      "    f1             : 0.7552181663106354\n",
      "    balanced_accuracy: 0.7571132745663687\n",
      "    precision      : 0.761831864086772\n",
      "    recall         : 0.7549563172043011\n",
      "    val_loss       : 0.621844470500946\n",
      "    val_my_metric  : 0.7318474264705883\n",
      "    val_f1         : 0.7333028004981976\n",
      "    val_balanced_accuracy: 0.7165007664113953\n",
      "    val_precision  : 0.7432947188159684\n",
      "    val_recall     : 0.7318474264705883\n"
     ]
    },
    {
     "name": "stdout",
     "output_type": "stream",
     "text": [
      "Model has not improved in -------------| 3 epochs\n"
     ]
    },
    {
     "name": "stderr",
     "output_type": "stream",
     "text": [
      "    epoch          : 54\n",
      "    loss           : 0.5544422103299035\n",
      "    my_metric      : 0.7269638590203107\n",
      "    f1             : 0.727286771093811\n",
      "    balanced_accuracy: 0.7274151318999134\n",
      "    precision      : 0.7299062507528477\n",
      "    recall         : 0.7269638590203107\n",
      "    val_loss       : 0.5948282480239868\n",
      "    val_my_metric  : 0.7274816176470589\n",
      "    val_f1         : 0.7276300377875409\n",
      "    val_balanced_accuracy: 0.7286828094070943\n",
      "    val_precision  : 0.7356472877612583\n",
      "    val_recall     : 0.7274816176470589\n"
     ]
    },
    {
     "name": "stdout",
     "output_type": "stream",
     "text": [
      "Model has not improved in -------------| 4 epochs\n"
     ]
    },
    {
     "name": "stderr",
     "output_type": "stream",
     "text": [
      "    epoch          : 55\n",
      "    loss           : 0.5404888557063209\n",
      "    my_metric      : 0.7364097968936679\n",
      "    f1             : 0.7364980238576474\n",
      "    balanced_accuracy: 0.7367649610910223\n",
      "    precision      : 0.7389304885311296\n",
      "    recall         : 0.7364097968936679\n",
      "    val_loss       : 0.6337502002716064\n",
      "    val_my_metric  : 0.6937040441176471\n",
      "    val_f1         : 0.6893401093841264\n",
      "    val_balanced_accuracy: 0.7046986179529282\n",
      "    val_precision  : 0.7246414017279943\n",
      "    val_recall     : 0.6937040441176471\n"
     ]
    },
    {
     "name": "stdout",
     "output_type": "stream",
     "text": [
      "Model has not improved in -------------| 5 epochs\n"
     ]
    },
    {
     "name": "stderr",
     "output_type": "stream",
     "text": [
      "    epoch          : 56\n",
      "    loss           : 0.5504660507043203\n",
      "    my_metric      : 0.7452023596176822\n",
      "    f1             : 0.7456396886126426\n",
      "    balanced_accuracy: 0.7460712235348577\n",
      "    precision      : 0.7484369257948852\n",
      "    recall         : 0.7452023596176822\n",
      "    val_loss       : 0.571104884147644\n",
      "    val_my_metric  : 0.7504595588235294\n",
      "    val_f1         : 0.7502026964418087\n",
      "    val_balanced_accuracy: 0.7495915032679739\n",
      "    val_precision  : 0.7527034180278283\n",
      "    val_recall     : 0.7504595588235294\n"
     ]
    },
    {
     "name": "stdout",
     "output_type": "stream",
     "text": [
      "Model has not improved in -------------| 6 epochs\n"
     ]
    },
    {
     "name": "stderr",
     "output_type": "stream",
     "text": [
      "    epoch          : 57\n",
      "    loss           : 0.5445643895202212\n",
      "    my_metric      : 0.7314161439665472\n",
      "    f1             : 0.7317227963568284\n",
      "    balanced_accuracy: 0.7335243749865994\n",
      "    precision      : 0.7374422097469545\n",
      "    recall         : 0.7314161439665472\n",
      "    val_loss       : 0.5816116333007812\n",
      "    val_my_metric  : 0.76171875\n",
      "    val_f1         : 0.759857645631677\n",
      "    val_balanced_accuracy: 0.7669018541324576\n",
      "    val_precision  : 0.7800112250475623\n",
      "    val_recall     : 0.76171875\n"
     ]
    },
    {
     "name": "stdout",
     "output_type": "stream",
     "text": [
      "Model has not improved in -------------| 7 epochs\n"
     ]
    },
    {
     "name": "stderr",
     "output_type": "stream",
     "text": [
      "    epoch          : 58\n",
      "    loss           : 0.5378340979417165\n",
      "    my_metric      : 0.7368484916367981\n",
      "    f1             : 0.7378266509232464\n",
      "    balanced_accuracy: 0.7399724625210388\n",
      "    precision      : 0.7444219200621612\n",
      "    recall         : 0.7368484916367981\n",
      "    val_loss       : 0.6149451434612274\n",
      "    val_my_metric  : 0.7088694852941176\n",
      "    val_f1         : 0.7088417800730529\n",
      "    val_balanced_accuracy: 0.7078587846886037\n",
      "    val_precision  : 0.7105600857070771\n",
      "    val_recall     : 0.7088694852941176\n"
     ]
    },
    {
     "name": "stdout",
     "output_type": "stream",
     "text": [
      "Model has not improved in -------------| 8 epochs\n"
     ]
    },
    {
     "name": "stderr",
     "output_type": "stream",
     "text": [
      "    epoch          : 59\n",
      "    loss           : 0.5512424144479964\n",
      "    my_metric      : 0.7626661439665472\n",
      "    f1             : 0.7627973850407976\n",
      "    balanced_accuracy: 0.7632058401148591\n",
      "    precision      : 0.7652089833324712\n",
      "    recall         : 0.7626661439665472\n",
      "    val_loss       : 0.6365813314914703\n",
      "    val_my_metric  : 0.6927849264705883\n",
      "    val_f1         : 0.6860009103029592\n",
      "    val_balanced_accuracy: 0.7060907449870295\n",
      "    val_precision  : 0.7341322281541804\n",
      "    val_recall     : 0.6927849264705883\n"
     ]
    },
    {
     "name": "stdout",
     "output_type": "stream",
     "text": [
      "Model has not improved in -------------| 9 epochs\n"
     ]
    },
    {
     "name": "stderr",
     "output_type": "stream",
     "text": [
      "    epoch          : 60\n",
      "    loss           : 0.5247660974661509\n",
      "    my_metric      : 0.7521374701314217\n",
      "    f1             : 0.752376889101203\n",
      "    balanced_accuracy: 0.7531347717900994\n",
      "    precision      : 0.7557458097945187\n",
      "    recall         : 0.7521374701314217\n",
      "    val_loss       : 0.6217743158340454\n",
      "    val_my_metric  : 0.6858915441176471\n",
      "    val_f1         : 0.6820149568091051\n",
      "    val_balanced_accuracy: 0.6770173029274639\n",
      "    val_precision  : 0.6887568196500646\n",
      "    val_recall     : 0.6858915441176471\n"
     ]
    },
    {
     "name": "stdout",
     "output_type": "stream",
     "text": [
      "Model has not improved in -------------| 10 epochs\n"
     ]
    },
    {
     "name": "stderr",
     "output_type": "stream",
     "text": [
      "    epoch          : 61\n",
      "    loss           : 0.5283457769287957\n",
      "    my_metric      : 0.7608366935483871\n",
      "    f1             : 0.7609932969307324\n",
      "    balanced_accuracy: 0.7624816599705846\n",
      "    precision      : 0.76413518690031\n",
      "    recall         : 0.7608366935483871\n",
      "    val_loss       : 0.5485580563545227\n",
      "    val_my_metric  : 0.7750459558823529\n",
      "    val_f1         : 0.7747704310731927\n",
      "    val_balanced_accuracy: 0.782985036119711\n",
      "    val_precision  : 0.7914776650096659\n",
      "    val_recall     : 0.7750459558823529\n"
     ]
    },
    {
     "name": "stdout",
     "output_type": "stream",
     "text": [
      "Model has not improved in -------------| 11 epochs\n"
     ]
    },
    {
     "name": "stderr",
     "output_type": "stream",
     "text": [
      "    epoch          : 62\n",
      "    loss           : 0.5164343946509891\n",
      "    my_metric      : 0.7582231929510156\n",
      "    f1             : 0.758632535647791\n",
      "    balanced_accuracy: 0.7601013353288164\n",
      "    precision      : 0.7627137055705916\n",
      "    recall         : 0.7582231929510156\n",
      "    val_loss       : 0.5792863368988037\n",
      "    val_my_metric  : 0.7490808823529411\n",
      "    val_f1         : 0.7491185735977777\n",
      "    val_balanced_accuracy: 0.747926195385011\n",
      "    val_precision  : 0.750027347308694\n",
      "    val_recall     : 0.7490808823529411\n"
     ]
    },
    {
     "name": "stdout",
     "output_type": "stream",
     "text": [
      "Model has not improved in -------------| 12 epochs\n"
     ]
    },
    {
     "name": "stderr",
     "output_type": "stream",
     "text": [
      "    epoch          : 63\n",
      "    loss           : 0.5416346424155765\n",
      "    my_metric      : 0.7458557347670252\n",
      "    f1             : 0.7462127939497744\n",
      "    balanced_accuracy: 0.7476180943348067\n",
      "    precision      : 0.7515513859955267\n",
      "    recall         : 0.7458557347670252\n",
      "    val_loss       : 0.5482237040996552\n",
      "    val_my_metric  : 0.7509191176470589\n",
      "    val_f1         : 0.7510524518042825\n",
      "    val_balanced_accuracy: 0.7558565531475749\n",
      "    val_precision  : 0.7620499904507257\n",
      "    val_recall     : 0.7509191176470589\n"
     ]
    },
    {
     "name": "stdout",
     "output_type": "stream",
     "text": [
      "Model has not improved in -------------| 13 epochs\n"
     ]
    },
    {
     "name": "stderr",
     "output_type": "stream",
     "text": [
      "    epoch          : 64\n",
      "    loss           : 0.5455563565095266\n",
      "    my_metric      : 0.7491039426523298\n",
      "    f1             : 0.7497516887220673\n",
      "    balanced_accuracy: 0.7520941625080916\n",
      "    precision      : 0.7574630915254854\n",
      "    recall         : 0.7491039426523298\n",
      "    val_loss       : 0.5326287895441055\n",
      "    val_my_metric  : 0.7897518382352942\n",
      "    val_f1         : 0.7902950694077373\n",
      "    val_balanced_accuracy: 0.7942151455850086\n",
      "    val_precision  : 0.7983647365196078\n",
      "    val_recall     : 0.7897518382352942\n",
      "Saving checkpoint: saved/MaskedVolume_3d/0620_142107/checkpoint-epoch64.pth ...\n",
      "Saving current best: model_best.pth ...\n",
      "    epoch          : 65\n",
      "    loss           : 0.5345866117212508\n",
      "    my_metric      : 0.7395553315412187\n",
      "    f1             : 0.7402275731382867\n",
      "    balanced_accuracy: 0.744687398079737\n",
      "    precision      : 0.7496836662716364\n",
      "    recall         : 0.7395553315412187\n",
      "    val_loss       : 0.588705986738205\n",
      "    val_my_metric  : 0.7123161764705883\n",
      "    val_f1         : 0.7123438643227105\n",
      "    val_balanced_accuracy: 0.72933836996337\n",
      "    val_precision  : 0.7477738768179945\n",
      "    val_recall     : 0.7123161764705883\n"
     ]
    },
    {
     "name": "stdout",
     "output_type": "stream",
     "text": [
      "Model has not improved in -------------| 1 epochs\n"
     ]
    },
    {
     "name": "stderr",
     "output_type": "stream",
     "text": [
      "    epoch          : 66\n",
      "    loss           : 0.5447786251703898\n",
      "    my_metric      : 0.7397700119474313\n",
      "    f1             : 0.7396871905620713\n",
      "    balanced_accuracy: 0.7413674768767643\n",
      "    precision      : 0.7473390393124084\n",
      "    recall         : 0.7397700119474313\n",
      "    val_loss       : 0.5058154463768005\n",
      "    val_my_metric  : 0.7927389705882353\n",
      "    val_f1         : 0.7930964203694821\n",
      "    val_balanced_accuracy: 0.7908377127127126\n",
      "    val_precision  : 0.7981289390756303\n",
      "    val_recall     : 0.7927389705882353\n",
      "Saving checkpoint: saved/MaskedVolume_3d/0620_142107/checkpoint-epoch66.pth ...\n",
      "Saving current best: model_best.pth ...\n",
      "    epoch          : 67\n",
      "    loss           : 0.5461070504453447\n",
      "    my_metric      : 0.7213168309438471\n",
      "    f1             : 0.7220860598176385\n",
      "    balanced_accuracy: 0.724785626044054\n",
      "    precision      : 0.728944955862115\n",
      "    recall         : 0.7213168309438471\n",
      "    val_loss       : 0.59028160572052\n",
      "    val_my_metric  : 0.7005974264705883\n",
      "    val_f1         : 0.7008149807069519\n",
      "    val_balanced_accuracy: 0.71021418098031\n",
      "    val_precision  : 0.7199994503917209\n",
      "    val_recall     : 0.7005974264705883\n"
     ]
    },
    {
     "name": "stdout",
     "output_type": "stream",
     "text": [
      "Model has not improved in -------------| 1 epochs\n"
     ]
    },
    {
     "name": "stderr",
     "output_type": "stream",
     "text": [
      "    epoch          : 68\n",
      "    loss           : 0.5252646108468374\n",
      "    my_metric      : 0.7522588112305855\n",
      "    f1             : 0.7527356300442187\n",
      "    balanced_accuracy: 0.7528530717639172\n",
      "    precision      : 0.7561924078138362\n",
      "    recall         : 0.7522588112305855\n",
      "    val_loss       : 0.5612102746963501\n",
      "    val_my_metric  : 0.7288602941176471\n",
      "    val_f1         : 0.7288602941176471\n",
      "    val_balanced_accuracy: 0.727395954675421\n",
      "    val_precision  : 0.7288602941176471\n",
      "    val_recall     : 0.7288602941176471\n"
     ]
    },
    {
     "name": "stdout",
     "output_type": "stream",
     "text": [
      "Model has not improved in -------------| 2 epochs\n"
     ]
    },
    {
     "name": "stderr",
     "output_type": "stream",
     "text": [
      "    epoch          : 69\n",
      "    loss           : 0.5236761503749423\n",
      "    my_metric      : 0.7676597968936679\n",
      "    f1             : 0.7678894179952416\n",
      "    balanced_accuracy: 0.7682043950695685\n",
      "    precision      : 0.769480483414687\n",
      "    recall         : 0.7676597968936679\n",
      "    val_loss       : 0.5405814945697784\n",
      "    val_my_metric  : 0.7362132352941176\n",
      "    val_f1         : 0.7297426367610259\n",
      "    val_balanced_accuracy: 0.7389047026033327\n",
      "    val_precision  : 0.7611054291834641\n",
      "    val_recall     : 0.7362132352941176\n"
     ]
    },
    {
     "name": "stdout",
     "output_type": "stream",
     "text": [
      "Model has not improved in -------------| 3 epochs\n"
     ]
    },
    {
     "name": "stderr",
     "output_type": "stream",
     "text": [
      "    epoch          : 70\n",
      "    loss           : 0.5177409615781572\n",
      "    my_metric      : 0.745958408004779\n",
      "    f1             : 0.7461975533846833\n",
      "    balanced_accuracy: 0.7506054681537713\n",
      "    precision      : 0.7551719342376969\n",
      "    recall         : 0.745958408004779\n",
      "    val_loss       : 0.5821318626403809\n",
      "    val_my_metric  : 0.7107077205882353\n",
      "    val_f1         : 0.7103227920378823\n",
      "    val_balanced_accuracy: 0.7151104393506172\n",
      "    val_precision  : 0.719242010126419\n",
      "    val_recall     : 0.7107077205882353\n"
     ]
    },
    {
     "name": "stdout",
     "output_type": "stream",
     "text": [
      "Model has not improved in -------------| 4 epochs\n"
     ]
    },
    {
     "name": "stderr",
     "output_type": "stream",
     "text": [
      "    epoch          : 71\n",
      "    loss           : 0.5186279714107513\n",
      "    my_metric      : 0.756160394265233\n",
      "    f1             : 0.7565661006000531\n",
      "    balanced_accuracy: 0.7591433050803807\n",
      "    precision      : 0.7618780478520795\n",
      "    recall         : 0.756160394265233\n",
      "    val_loss       : 0.5787172913551331\n",
      "    val_my_metric  : 0.6879595588235294\n",
      "    val_f1         : 0.6869131945300115\n",
      "    val_balanced_accuracy: 0.6944222085385878\n",
      "    val_precision  : 0.7018892392779776\n",
      "    val_recall     : 0.6879595588235294\n"
     ]
    },
    {
     "name": "stdout",
     "output_type": "stream",
     "text": [
      "Model has not improved in -------------| 5 epochs\n"
     ]
    },
    {
     "name": "stderr",
     "output_type": "stream",
     "text": [
      "    epoch          : 72\n",
      "    loss           : 0.5205516815185547\n",
      "    my_metric      : 0.75735513739546\n",
      "    f1             : 0.757646036800195\n",
      "    balanced_accuracy: 0.7592530877355175\n",
      "    precision      : 0.7631099269120787\n",
      "    recall         : 0.75735513739546\n",
      "    val_loss       : 0.6200090944766998\n",
      "    val_my_metric  : 0.6985294117647058\n",
      "    val_f1         : 0.6970621553779774\n",
      "    val_balanced_accuracy: 0.7098180878881671\n",
      "    val_precision  : 0.7232629998814822\n",
      "    val_recall     : 0.6985294117647058\n"
     ]
    },
    {
     "name": "stdout",
     "output_type": "stream",
     "text": [
      "Model has not improved in -------------| 6 epochs\n"
     ]
    },
    {
     "name": "stderr",
     "output_type": "stream",
     "text": [
      "    epoch          : 73\n",
      "    loss           : 0.5223174492518107\n",
      "    my_metric      : 0.7586525537634409\n",
      "    f1             : 0.7588417786310149\n",
      "    balanced_accuracy: 0.7606935146240282\n",
      "    precision      : 0.7634438981226126\n",
      "    recall         : 0.7586525537634409\n",
      "    val_loss       : 0.6069227159023285\n",
      "    val_my_metric  : 0.7249540441176471\n",
      "    val_f1         : 0.7247875648193163\n",
      "    val_balanced_accuracy: 0.7294246646026832\n",
      "    val_precision  : 0.7378629545602925\n",
      "    val_recall     : 0.7249540441176471\n"
     ]
    },
    {
     "name": "stdout",
     "output_type": "stream",
     "text": [
      "Model has not improved in -------------| 7 epochs\n"
     ]
    },
    {
     "name": "stderr",
     "output_type": "stream",
     "text": [
      "    epoch          : 74\n",
      "    loss           : 0.5319035053253174\n",
      "    my_metric      : 0.7521468040621266\n",
      "    f1             : 0.752854343737691\n",
      "    balanced_accuracy: 0.7551206814316456\n",
      "    precision      : 0.7588486805218412\n",
      "    recall         : 0.7521468040621266\n",
      "    val_loss       : 0.5884522199630737\n",
      "    val_my_metric  : 0.7093290441176471\n",
      "    val_f1         : 0.707835950412015\n",
      "    val_balanced_accuracy: 0.70417008757526\n",
      "    val_precision  : 0.7092033434187072\n",
      "    val_recall     : 0.7093290441176471\n"
     ]
    },
    {
     "name": "stdout",
     "output_type": "stream",
     "text": [
      "Model has not improved in -------------| 8 epochs\n"
     ]
    },
    {
     "name": "stderr",
     "output_type": "stream",
     "text": [
      "    epoch          : 75\n",
      "    loss           : 0.5197535753250122\n",
      "    my_metric      : 0.7565990890083633\n",
      "    f1             : 0.7567409310222739\n",
      "    balanced_accuracy: 0.7603382007668645\n",
      "    precision      : 0.764685484489289\n",
      "    recall         : 0.7565990890083633\n",
      "    val_loss       : 0.5966105759143829\n",
      "    val_my_metric  : 0.7166819852941176\n",
      "    val_f1         : 0.709264275197808\n",
      "    val_balanced_accuracy: 0.702128787293692\n",
      "    val_precision  : 0.7236598428279415\n",
      "    val_recall     : 0.7166819852941176\n"
     ]
    },
    {
     "name": "stdout",
     "output_type": "stream",
     "text": [
      "Model has not improved in -------------| 9 epochs\n"
     ]
    },
    {
     "name": "stderr",
     "output_type": "stream",
     "text": [
      "    epoch          : 76\n",
      "    loss           : 0.5279617442025079\n",
      "    my_metric      : 0.7645142622461171\n",
      "    f1             : 0.7651453276401425\n",
      "    balanced_accuracy: 0.76614137655416\n",
      "    precision      : 0.7687933550887684\n",
      "    recall         : 0.7645142622461171\n",
      "    val_loss       : 0.5774874091148376\n",
      "    val_my_metric  : 0.76171875\n",
      "    val_f1         : 0.7618864601451151\n",
      "    val_balanced_accuracy: 0.7653814581929256\n",
      "    val_precision  : 0.7692743378411202\n",
      "    val_recall     : 0.76171875\n"
     ]
    },
    {
     "name": "stdout",
     "output_type": "stream",
     "text": [
      "Model has not improved in -------------| 10 epochs\n"
     ]
    },
    {
     "name": "stderr",
     "output_type": "stream",
     "text": [
      "    epoch          : 77\n",
      "    loss           : 0.5200884607103136\n",
      "    my_metric      : 0.7586525537634409\n",
      "    f1             : 0.7588620666080842\n",
      "    balanced_accuracy: 0.7587629470343681\n",
      "    precision      : 0.7601433275607229\n",
      "    recall         : 0.7586525537634409\n",
      "    val_loss       : 0.5584878027439117\n",
      "    val_my_metric  : 0.7690716911764706\n",
      "    val_f1         : 0.7701590777517682\n",
      "    val_balanced_accuracy: 0.7695026327838828\n",
      "    val_precision  : 0.7750712393711314\n",
      "    val_recall     : 0.7690716911764706\n"
     ]
    },
    {
     "name": "stdout",
     "output_type": "stream",
     "text": [
      "Model has not improved in -------------| 11 epochs\n"
     ]
    },
    {
     "name": "stderr",
     "output_type": "stream",
     "text": [
      "    epoch          : 78\n",
      "    loss           : 0.5119484629895952\n",
      "    my_metric      : 0.7740628733572282\n",
      "    f1             : 0.7746019735850975\n",
      "    balanced_accuracy: 0.7778171254267884\n",
      "    precision      : 0.7818731790837505\n",
      "    recall         : 0.7740628733572282\n",
      "    val_loss       : 0.5759782493114471\n",
      "    val_my_metric  : 0.7357536764705883\n",
      "    val_f1         : 0.7340596064949718\n",
      "    val_balanced_accuracy: 0.7414998973727422\n",
      "    val_precision  : 0.7513257664615587\n",
      "    val_recall     : 0.7357536764705883\n"
     ]
    },
    {
     "name": "stdout",
     "output_type": "stream",
     "text": [
      "Model has not improved in -------------| 12 epochs\n"
     ]
    },
    {
     "name": "stderr",
     "output_type": "stream",
     "text": [
      "    epoch          : 79\n",
      "    loss           : 0.5059291157457564\n",
      "    my_metric      : 0.7586618876941458\n",
      "    f1             : 0.7588310934691287\n",
      "    balanced_accuracy: 0.7588327003657345\n",
      "    precision      : 0.7611118690570274\n",
      "    recall         : 0.7586618876941458\n",
      "    val_loss       : 0.6217353641986847\n",
      "    val_my_metric  : 0.7274816176470589\n",
      "    val_f1         : 0.7250926873914123\n",
      "    val_balanced_accuracy: 0.7227806855500821\n",
      "    val_precision  : 0.7306895519835841\n",
      "    val_recall     : 0.7274816176470589\n"
     ]
    },
    {
     "name": "stdout",
     "output_type": "stream",
     "text": [
      "Model has not improved in -------------| 13 epochs\n"
     ]
    },
    {
     "name": "stderr",
     "output_type": "stream",
     "text": [
      "    epoch          : 80\n",
      "    loss           : 0.4991712172826131\n",
      "    my_metric      : 0.776013664874552\n",
      "    f1             : 0.7766122855061931\n",
      "    balanced_accuracy: 0.7765276160396545\n",
      "    precision      : 0.7792764472248114\n",
      "    recall         : 0.776013664874552\n",
      "    val_loss       : 0.578714907169342\n",
      "    val_my_metric  : 0.7240349264705883\n",
      "    val_f1         : 0.7247015756452346\n",
      "    val_balanced_accuracy: 0.7309960201089234\n",
      "    val_precision  : 0.7388783433746615\n",
      "    val_recall     : 0.7240349264705883\n"
     ]
    },
    {
     "name": "stdout",
     "output_type": "stream",
     "text": [
      "Model has not improved in -------------| 14 epochs\n"
     ]
    },
    {
     "name": "stderr",
     "output_type": "stream",
     "text": [
      "    epoch          : 81\n",
      "    loss           : 0.5035188032521142\n",
      "    my_metric      : 0.7648409498207885\n",
      "    f1             : 0.7654170506420098\n",
      "    balanced_accuracy: 0.7664252998439077\n",
      "    precision      : 0.7695819812339888\n",
      "    recall         : 0.7648409498207885\n",
      "    val_loss       : 0.5955227017402649\n",
      "    val_my_metric  : 0.7465533088235294\n",
      "    val_f1         : 0.7459016712972502\n",
      "    val_balanced_accuracy: 0.744672342621259\n",
      "    val_precision  : 0.7496637610460544\n",
      "    val_recall     : 0.7465533088235294\n"
     ]
    },
    {
     "name": "stdout",
     "output_type": "stream",
     "text": [
      "Model has not improved in -------------| 15 epochs\n"
     ]
    },
    {
     "name": "stderr",
     "output_type": "stream",
     "text": [
      "    epoch          : 82\n",
      "    loss           : 0.5036081274350485\n",
      "    my_metric      : 0.762778151135006\n",
      "    f1             : 0.763064371860543\n",
      "    balanced_accuracy: 0.7633388764712974\n",
      "    precision      : 0.7658378034118409\n",
      "    recall         : 0.762778151135006\n",
      "    val_loss       : 0.5921126008033752\n",
      "    val_my_metric  : 0.7088694852941176\n",
      "    val_f1         : 0.7070536855505694\n",
      "    val_balanced_accuracy: 0.7171789477285166\n",
      "    val_precision  : 0.729304771251399\n",
      "    val_recall     : 0.7088694852941176\n"
     ]
    },
    {
     "name": "stdout",
     "output_type": "stream",
     "text": [
      "Model has not improved in -------------| 16 epochs\n"
     ]
    },
    {
     "name": "stderr",
     "output_type": "stream",
     "text": [
      "    epoch          : 83\n",
      "    loss           : 0.5208517611026764\n",
      "    my_metric      : 0.7660450268817205\n",
      "    f1             : 0.7660680886430852\n",
      "    balanced_accuracy: 0.7672373292938541\n",
      "    precision      : 0.7703945564012307\n",
      "    recall         : 0.7660450268817205\n",
      "    val_loss       : 0.575336217880249\n",
      "    val_my_metric  : 0.7235753676470589\n",
      "    val_f1         : 0.7232615736438007\n",
      "    val_balanced_accuracy: 0.7295736227243077\n",
      "    val_precision  : 0.7373860653087989\n",
      "    val_recall     : 0.7235753676470589\n"
     ]
    },
    {
     "name": "stdout",
     "output_type": "stream",
     "text": [
      "Model has not improved in -------------| 17 epochs\n"
     ]
    },
    {
     "name": "stderr",
     "output_type": "stream",
     "text": [
      "    epoch          : 84\n",
      "    loss           : 0.5147394140561422\n",
      "    my_metric      : 0.7689572132616488\n",
      "    f1             : 0.7692051171750695\n",
      "    balanced_accuracy: 0.7699926875173339\n",
      "    precision      : 0.7719235419957216\n",
      "    recall         : 0.7689572132616488\n",
      "    val_loss       : 0.5583458840847015\n",
      "    val_my_metric  : 0.7745863970588236\n",
      "    val_f1         : 0.7751692862632111\n",
      "    val_balanced_accuracy: 0.7733827577577578\n",
      "    val_precision  : 0.7770156229841929\n",
      "    val_recall     : 0.7745863970588236\n"
     ]
    },
    {
     "name": "stdout",
     "output_type": "stream",
     "text": [
      "Model has not improved in -------------| 18 epochs\n"
     ]
    },
    {
     "name": "stderr",
     "output_type": "stream",
     "text": [
      "    epoch          : 85\n",
      "    loss           : 0.5058846341239082\n",
      "    my_metric      : 0.7619100955794504\n",
      "    f1             : 0.761925830654056\n",
      "    balanced_accuracy: 0.7628242882010796\n",
      "    precision      : 0.7667433152224111\n",
      "    recall         : 0.7619100955794504\n",
      "    val_loss       : 0.5714066326618195\n",
      "    val_my_metric  : 0.74609375\n",
      "    val_f1         : 0.7469530921084917\n",
      "    val_balanced_accuracy: 0.7625772664835165\n",
      "    val_precision  : 0.7770098001846535\n",
      "    val_recall     : 0.74609375\n"
     ]
    },
    {
     "name": "stdout",
     "output_type": "stream",
     "text": [
      "Model has not improved in -------------| 19 epochs\n"
     ]
    },
    {
     "name": "stderr",
     "output_type": "stream",
     "text": [
      "    epoch          : 86\n",
      "    loss           : 0.5165282885233561\n",
      "    my_metric      : 0.7511667413381123\n",
      "    f1             : 0.7515073432443716\n",
      "    balanced_accuracy: 0.7544610702223182\n",
      "    precision      : 0.7583971484236725\n",
      "    recall         : 0.7511667413381123\n",
      "    val_loss       : 0.5615489780902863\n",
      "    val_my_metric  : 0.7210477941176471\n",
      "    val_f1         : 0.72128723256544\n",
      "    val_balanced_accuracy: 0.7227717487991461\n",
      "    val_precision  : 0.7255609803744743\n",
      "    val_recall     : 0.7210477941176471\n"
     ]
    },
    {
     "name": "stdout",
     "output_type": "stream",
     "text": [
      "Model has not improved in -------------| 20 epochs\n"
     ]
    },
    {
     "name": "stderr",
     "output_type": "stream",
     "text": [
      "    epoch          : 87\n",
      "    loss           : 0.5016750759548612\n",
      "    my_metric      : 0.7652703106332139\n",
      "    f1             : 0.7656157684101674\n",
      "    balanced_accuracy: 0.7674619840842438\n",
      "    precision      : 0.7711188063782095\n",
      "    recall         : 0.7652703106332139\n",
      "    val_loss       : 0.5685997605323792\n",
      "    val_my_metric  : 0.7329963235294117\n",
      "    val_f1         : 0.7335324754901962\n",
      "    val_balanced_accuracy: 0.7369908945510306\n",
      "    val_precision  : 0.7402537719633309\n",
      "    val_recall     : 0.7329963235294117\n"
     ]
    },
    {
     "name": "stdout",
     "output_type": "stream",
     "text": [
      "Model has not improved in -------------| 21 epochs\n"
     ]
    },
    {
     "name": "stderr",
     "output_type": "stream",
     "text": [
      "    epoch          : 88\n",
      "    loss           : 0.5099857317076789\n",
      "    my_metric      : 0.7647382765830346\n",
      "    f1             : 0.7650456865464133\n",
      "    balanced_accuracy: 0.7663947700593963\n",
      "    precision      : 0.768903737144378\n",
      "    recall         : 0.7647382765830346\n",
      "    val_loss       : 0.6243753731250763\n",
      "    val_my_metric  : 0.7352941176470589\n",
      "    val_f1         : 0.7356298749220649\n",
      "    val_balanced_accuracy: 0.7364805692391899\n",
      "    val_precision  : 0.7381011935566015\n",
      "    val_recall     : 0.7352941176470589\n"
     ]
    },
    {
     "name": "stdout",
     "output_type": "stream",
     "text": [
      "Model has not improved in -------------| 22 epochs\n"
     ]
    },
    {
     "name": "stderr",
     "output_type": "stream",
     "text": [
      "    epoch          : 89\n",
      "    loss           : 0.5005070765813192\n",
      "    my_metric      : 0.7698252688172044\n",
      "    f1             : 0.7706013706829056\n",
      "    balanced_accuracy: 0.7724214989816534\n",
      "    precision      : 0.7761122999157548\n",
      "    recall         : 0.7698252688172044\n",
      "    val_loss       : 0.5769380033016205\n",
      "    val_my_metric  : 0.7392003676470589\n",
      "    val_f1         : 0.7395638285123693\n",
      "    val_balanced_accuracy: 0.7360529255690547\n",
      "    val_precision  : 0.7401296532096482\n",
      "    val_recall     : 0.7392003676470589\n"
     ]
    },
    {
     "name": "stdout",
     "output_type": "stream",
     "text": [
      "Model has not improved in -------------| 23 epochs\n"
     ]
    },
    {
     "name": "stderr",
     "output_type": "stream",
     "text": [
      "    epoch          : 90\n",
      "    loss           : 0.5099529723326365\n",
      "    my_metric      : 0.7661477001194743\n",
      "    f1             : 0.766410037581546\n",
      "    balanced_accuracy: 0.7695376175126132\n",
      "    precision      : 0.773163340540018\n",
      "    recall         : 0.7661477001194743\n",
      "    val_loss       : 0.5035437941551208\n",
      "    val_my_metric  : 0.8028492647058824\n",
      "    val_f1         : 0.8027085521441161\n",
      "    val_balanced_accuracy: 0.8002836545175255\n",
      "    val_precision  : 0.8045159563327984\n",
      "    val_recall     : 0.8028492647058824\n",
      "Saving checkpoint: saved/MaskedVolume_3d/0620_142107/checkpoint-epoch90.pth ...\n",
      "Saving current best: model_best.pth ...\n",
      "    epoch          : 91\n",
      "    loss           : 0.5406119691001045\n",
      "    my_metric      : 0.7520347968936679\n",
      "    f1             : 0.7521696144256612\n",
      "    balanced_accuracy: 0.7530331334177484\n",
      "    precision      : 0.7565901080204499\n",
      "    recall         : 0.7520347968936679\n",
      "    val_loss       : 0.590267688035965\n",
      "    val_my_metric  : 0.7136948529411764\n",
      "    val_f1         : 0.7124078084430119\n",
      "    val_balanced_accuracy: 0.7196985742204423\n",
      "    val_precision  : 0.7275604251151906\n",
      "    val_recall     : 0.7136948529411764\n"
     ]
    },
    {
     "name": "stdout",
     "output_type": "stream",
     "text": [
      "Model has not improved in -------------| 1 epochs\n"
     ]
    },
    {
     "name": "stderr",
     "output_type": "stream",
     "text": [
      "    epoch          : 92\n",
      "    loss           : 0.4930238160822127\n",
      "    my_metric      : 0.770590651135006\n",
      "    f1             : 0.7707692100156112\n",
      "    balanced_accuracy: 0.7704361069814046\n",
      "    precision      : 0.7736740684326087\n",
      "    recall         : 0.770590651135006\n",
      "    val_loss       : 0.5708664059638977\n",
      "    val_my_metric  : 0.75390625\n",
      "    val_f1         : 0.7543250918077371\n",
      "    val_balanced_accuracy: 0.7484117445054945\n",
      "    val_precision  : 0.7549539891003305\n",
      "    val_recall     : 0.75390625\n"
     ]
    },
    {
     "name": "stdout",
     "output_type": "stream",
     "text": [
      "Model has not improved in -------------| 2 epochs\n"
     ]
    },
    {
     "name": "stderr",
     "output_type": "stream",
     "text": [
      "    epoch          : 93\n",
      "    loss           : 0.5088635053899553\n",
      "    my_metric      : 0.7667917413381123\n",
      "    f1             : 0.7671970022859368\n",
      "    balanced_accuracy: 0.7693565355437842\n",
      "    precision      : 0.773513355197294\n",
      "    recall         : 0.7667917413381123\n",
      "    val_loss       : 0.5749731957912445\n",
      "    val_my_metric  : 0.7205882352941176\n",
      "    val_f1         : 0.7154404413672745\n",
      "    val_balanced_accuracy: 0.7286736367166315\n",
      "    val_precision  : 0.7499916792208248\n",
      "    val_recall     : 0.7205882352941176\n"
     ]
    },
    {
     "name": "stdout",
     "output_type": "stream",
     "text": [
      "Model has not improved in -------------| 3 epochs\n"
     ]
    },
    {
     "name": "stderr",
     "output_type": "stream",
     "text": [
      "    epoch          : 94\n",
      "    loss           : 0.49623338381449383\n",
      "    my_metric      : 0.7736335125448028\n",
      "    f1             : 0.7738547765672378\n",
      "    balanced_accuracy: 0.7750719126154695\n",
      "    precision      : 0.7770725739452625\n",
      "    recall         : 0.7736335125448028\n",
      "    val_loss       : 0.6087386012077332\n",
      "    val_my_metric  : 0.7019761029411764\n",
      "    val_f1         : 0.7019686453640701\n",
      "    val_balanced_accuracy: 0.7065397167695167\n",
      "    val_precision  : 0.7109782867888534\n",
      "    val_recall     : 0.7019761029411764\n"
     ]
    },
    {
     "name": "stdout",
     "output_type": "stream",
     "text": [
      "Model has not improved in -------------| 4 epochs\n"
     ]
    },
    {
     "name": "stderr",
     "output_type": "stream",
     "text": [
      "    epoch          : 95\n",
      "    loss           : 0.5113944676187303\n",
      "    my_metric      : 0.7567017622461171\n",
      "    f1             : 0.757060806180398\n",
      "    balanced_accuracy: 0.759819943107414\n",
      "    precision      : 0.7634761845702989\n",
      "    recall         : 0.7567017622461171\n",
      "    val_loss       : 0.666869044303894\n",
      "    val_my_metric  : 0.7470128676470589\n",
      "    val_f1         : 0.7471212772504154\n",
      "    val_balanced_accuracy: 0.750671101774043\n",
      "    val_precision  : 0.7543651375413868\n",
      "    val_recall     : 0.7470128676470589\n"
     ]
    },
    {
     "name": "stdout",
     "output_type": "stream",
     "text": [
      "Model has not improved in -------------| 5 epochs\n"
     ]
    },
    {
     "name": "stderr",
     "output_type": "stream",
     "text": [
      "    epoch          : 96\n",
      "    loss           : 0.47032322486241657\n",
      "    my_metric      : 0.7839475059737157\n",
      "    f1             : 0.7840024650219584\n",
      "    balanced_accuracy: 0.7843939003687659\n",
      "    precision      : 0.7879823739357186\n",
      "    recall         : 0.7839475059737157\n",
      "    val_loss       : 0.5846062898635864\n",
      "    val_my_metric  : 0.7568933823529411\n",
      "    val_f1         : 0.755996240183928\n",
      "    val_balanced_accuracy: 0.7661506707946337\n",
      "    val_precision  : 0.7780187031898492\n",
      "    val_recall     : 0.7568933823529411\n"
     ]
    },
    {
     "name": "stdout",
     "output_type": "stream",
     "text": [
      "Model has not improved in -------------| 6 epochs\n"
     ]
    },
    {
     "name": "stderr",
     "output_type": "stream",
     "text": [
      "    epoch          : 97\n",
      "    loss           : 0.5024958782725863\n",
      "    my_metric      : 0.7733068249701315\n",
      "    f1             : 0.7732534134638084\n",
      "    balanced_accuracy: 0.7728568817864806\n",
      "    precision      : 0.7745838786720456\n",
      "    recall         : 0.7733068249701315\n",
      "    val_loss       : 0.6025956869125366\n",
      "    val_my_metric  : 0.7196691176470589\n",
      "    val_f1         : 0.7162585405685727\n",
      "    val_balanced_accuracy: 0.7123306650246306\n",
      "    val_precision  : 0.7221258408550866\n",
      "    val_recall     : 0.7196691176470589\n"
     ]
    },
    {
     "name": "stdout",
     "output_type": "stream",
     "text": [
      "Model has not improved in -------------| 7 epochs\n"
     ]
    },
    {
     "name": "stderr",
     "output_type": "stream",
     "text": [
      "    epoch          : 98\n",
      "    loss           : 0.4938391049702962\n",
      "    my_metric      : 0.7791685334528077\n",
      "    f1             : 0.7794758358952721\n",
      "    balanced_accuracy: 0.7806928197466737\n",
      "    precision      : 0.782385272622999\n",
      "    recall         : 0.7791685334528077\n",
      "    val_loss       : 0.5915274024009705\n",
      "    val_my_metric  : 0.7486213235294117\n",
      "    val_f1         : 0.7491436829666077\n",
      "    val_balanced_accuracy: 0.7461382989806605\n",
      "    val_precision  : 0.7518999426033781\n",
      "    val_recall     : 0.7486213235294117\n"
     ]
    },
    {
     "name": "stdout",
     "output_type": "stream",
     "text": [
      "Model has not improved in -------------| 8 epochs\n"
     ]
    },
    {
     "name": "stderr",
     "output_type": "stream",
     "text": [
      "    epoch          : 99\n",
      "    loss           : 0.49156466457578873\n",
      "    my_metric      : 0.7804659498207885\n",
      "    f1             : 0.7806018378579995\n",
      "    balanced_accuracy: 0.7807005582267271\n",
      "    precision      : 0.7828814199731707\n",
      "    recall         : 0.7804659498207885\n",
      "    val_loss       : 0.6072502136230469\n",
      "    val_my_metric  : 0.7313878676470589\n",
      "    val_f1         : 0.7295007322486116\n",
      "    val_balanced_accuracy: 0.7240941706695132\n",
      "    val_precision  : 0.7313213021639576\n",
      "    val_recall     : 0.7313878676470589\n"
     ]
    },
    {
     "name": "stdout",
     "output_type": "stream",
     "text": [
      "Model has not improved in -------------| 9 epochs\n"
     ]
    },
    {
     "name": "stderr",
     "output_type": "stream",
     "text": [
      "    epoch          : 100\n",
      "    loss           : 0.47698312666681075\n",
      "    my_metric      : 0.7883904569892474\n",
      "    f1             : 0.7884997288335138\n",
      "    balanced_accuracy: 0.7891793694097344\n",
      "    precision      : 0.7913389105622577\n",
      "    recall         : 0.7883904569892474\n",
      "    val_loss       : 0.5856715440750122\n",
      "    val_my_metric  : 0.7612591911764706\n",
      "    val_f1         : 0.7616713884458892\n",
      "    val_balanced_accuracy: 0.7644727940936271\n",
      "    val_precision  : 0.7684575637661021\n",
      "    val_recall     : 0.7612591911764706\n",
      "Saving checkpoint: saved/MaskedVolume_3d/0620_142107/checkpoint-epoch100.pth ...\n"
     ]
    },
    {
     "name": "stdout",
     "output_type": "stream",
     "text": [
      "Model has not improved in -------------| 10 epochs\n"
     ]
    },
    {
     "name": "stderr",
     "output_type": "stream",
     "text": [
      "    epoch          : 101\n",
      "    loss           : 0.48984018961588544\n",
      "    my_metric      : 0.7786178315412187\n",
      "    f1             : 0.778953378841436\n",
      "    balanced_accuracy: 0.7802224571285303\n",
      "    precision      : 0.7825297787268414\n",
      "    recall         : 0.7786178315412187\n",
      "    val_loss       : 0.6455965042114258\n",
      "    val_my_metric  : 0.7240349264705883\n",
      "    val_f1         : 0.7139338291977291\n",
      "    val_balanced_accuracy: 0.7059532640748944\n",
      "    val_precision  : 0.7317627897685748\n",
      "    val_recall     : 0.7240349264705883\n"
     ]
    },
    {
     "name": "stdout",
     "output_type": "stream",
     "text": [
      "Model has not improved in -------------| 11 epochs\n"
     ]
    },
    {
     "name": "stderr",
     "output_type": "stream",
     "text": [
      "    epoch          : 102\n",
      "    loss           : 0.5032057066758474\n",
      "    my_metric      : 0.7697225955794504\n",
      "    f1             : 0.770650483924771\n",
      "    balanced_accuracy: 0.7743351040651452\n",
      "    precision      : 0.7789106944963439\n",
      "    recall         : 0.7697225955794504\n",
      "    val_loss       : 0.6236719191074371\n",
      "    val_my_metric  : 0.6771599264705883\n",
      "    val_f1         : 0.671102453873752\n",
      "    val_balanced_accuracy: 0.6932159332052179\n",
      "    val_precision  : 0.7194090495936747\n",
      "    val_recall     : 0.6771599264705883\n"
     ]
    },
    {
     "name": "stdout",
     "output_type": "stream",
     "text": [
      "Model has not improved in -------------| 12 epochs\n"
     ]
    },
    {
     "name": "stderr",
     "output_type": "stream",
     "text": [
      "    epoch          : 103\n",
      "    loss           : 0.47365546226501465\n",
      "    my_metric      : 0.7722240890083633\n",
      "    f1             : 0.7726524659806566\n",
      "    balanced_accuracy: 0.7744697993807852\n",
      "    precision      : 0.7784356423810652\n",
      "    recall         : 0.7722240890083633\n",
      "    val_loss       : 0.6036782264709473\n",
      "    val_my_metric  : 0.7470128676470589\n",
      "    val_f1         : 0.7468447605155175\n",
      "    val_balanced_accuracy: 0.7532378740970072\n",
      "    val_precision  : 0.7599912279235301\n",
      "    val_recall     : 0.7470128676470589\n"
     ]
    },
    {
     "name": "stdout",
     "output_type": "stream",
     "text": [
      "Model has not improved in -------------| 13 epochs\n"
     ]
    },
    {
     "name": "stderr",
     "output_type": "stream",
     "text": [
      "    epoch          : 104\n",
      "    loss           : 0.48510199454095626\n",
      "    my_metric      : 0.7806806302270012\n",
      "    f1             : 0.7809383014637101\n",
      "    balanced_accuracy: 0.7828011548769175\n",
      "    precision      : 0.7852999927318854\n",
      "    recall         : 0.7806806302270012\n",
      "    val_loss       : 0.5690513551235199\n",
      "    val_my_metric  : 0.7392003676470589\n",
      "    val_f1         : 0.7389619725553946\n",
      "    val_balanced_accuracy: 0.7506676790950985\n",
      "    val_precision  : 0.7637011516072219\n",
      "    val_recall     : 0.7392003676470589\n"
     ]
    },
    {
     "name": "stdout",
     "output_type": "stream",
     "text": [
      "Model has not improved in -------------| 14 epochs\n"
     ]
    },
    {
     "name": "stderr",
     "output_type": "stream",
     "text": [
      "    epoch          : 105\n",
      "    loss           : 0.4785887764559852\n",
      "    my_metric      : 0.770590651135006\n",
      "    f1             : 0.7708949570092757\n",
      "    balanced_accuracy: 0.7717826314180667\n",
      "    precision      : 0.7747328468592681\n",
      "    recall         : 0.770590651135006\n",
      "    val_loss       : 0.5881311893463135\n",
      "    val_my_metric  : 0.7607996323529411\n",
      "    val_f1         : 0.7610978618508086\n",
      "    val_balanced_accuracy: 0.7574059183815282\n",
      "    val_precision  : 0.7616117987700946\n",
      "    val_recall     : 0.7607996323529411\n"
     ]
    },
    {
     "name": "stdout",
     "output_type": "stream",
     "text": [
      "Model has not improved in -------------| 15 epochs\n"
     ]
    },
    {
     "name": "stderr",
     "output_type": "stream",
     "text": [
      "    epoch          : 106\n",
      "    loss           : 0.47627777192327714\n",
      "    my_metric      : 0.7823140681003584\n",
      "    f1             : 0.7824144880637315\n",
      "    balanced_accuracy: 0.7842378543328663\n",
      "    precision      : 0.7862982825295837\n",
      "    recall         : 0.7823140681003584\n",
      "    val_loss       : 0.6068724989891052\n",
      "    val_my_metric  : 0.7426470588235294\n",
      "    val_f1         : 0.7430597500917309\n",
      "    val_balanced_accuracy: 0.744684637569797\n",
      "    val_precision  : 0.7467507982213865\n",
      "    val_recall     : 0.7426470588235294\n"
     ]
    },
    {
     "name": "stdout",
     "output_type": "stream",
     "text": [
      "Model has not improved in -------------| 16 epochs\n"
     ]
    },
    {
     "name": "stderr",
     "output_type": "stream",
     "text": [
      "    epoch          : 107\n",
      "    loss           : 0.46999336613549125\n",
      "    my_metric      : 0.7812219982078853\n",
      "    f1             : 0.7815956461955222\n",
      "    balanced_accuracy: 0.7831329312868054\n",
      "    precision      : 0.7854274813591426\n",
      "    recall         : 0.7812219982078853\n",
      "    val_loss       : 0.5928876101970673\n",
      "    val_my_metric  : 0.7686121323529411\n",
      "    val_f1         : 0.7689427849160706\n",
      "    val_balanced_accuracy: 0.7710437192118227\n",
      "    val_precision  : 0.7730581612015436\n",
      "    val_recall     : 0.7686121323529411\n"
     ]
    },
    {
     "name": "stdout",
     "output_type": "stream",
     "text": [
      "Model has not improved in -------------| 17 epochs\n"
     ]
    },
    {
     "name": "stderr",
     "output_type": "stream",
     "text": [
      "    epoch          : 108\n",
      "    loss           : 0.46522651778327095\n",
      "    my_metric      : 0.7879517622461171\n",
      "    f1             : 0.7885768242378972\n",
      "    balanced_accuracy: 0.7906817988523636\n",
      "    precision      : 0.7934479978501976\n",
      "    recall         : 0.7879517622461171\n",
      "    val_loss       : 0.6544877886772156\n",
      "    val_my_metric  : 0.6966911764705883\n",
      "    val_f1         : 0.6932696540439749\n",
      "    val_balanced_accuracy: 0.6905839490968801\n",
      "    val_precision  : 0.7003298478482302\n",
      "    val_recall     : 0.6966911764705883\n"
     ]
    },
    {
     "name": "stdout",
     "output_type": "stream",
     "text": [
      "Model has not improved in -------------| 18 epochs\n"
     ]
    },
    {
     "name": "stderr",
     "output_type": "stream",
     "text": [
      "    epoch          : 109\n",
      "    loss           : 0.46020574039883083\n",
      "    my_metric      : 0.8016259707287934\n",
      "    f1             : 0.8023352550536978\n",
      "    balanced_accuracy: 0.8053227657665898\n",
      "    precision      : 0.8087594498598412\n",
      "    recall         : 0.8016259707287934\n",
      "    val_loss       : 0.5969970226287842\n",
      "    val_my_metric  : 0.7313878676470589\n",
      "    val_f1         : 0.7316544839173731\n",
      "    val_balanced_accuracy: 0.7367776057791537\n",
      "    val_precision  : 0.7418450359179738\n",
      "    val_recall     : 0.7313878676470589\n"
     ]
    },
    {
     "name": "stdout",
     "output_type": "stream",
     "text": [
      "Model has not improved in -------------| 19 epochs\n"
     ]
    },
    {
     "name": "stderr",
     "output_type": "stream",
     "text": [
      "    epoch          : 110\n",
      "    loss           : 0.48212528559896684\n",
      "    my_metric      : 0.7790565262843488\n",
      "    f1             : 0.7791918089645493\n",
      "    balanced_accuracy: 0.7791439576033011\n",
      "    precision      : 0.7816467936957868\n",
      "    recall         : 0.7790565262843488\n",
      "    val_loss       : 0.653678834438324\n",
      "    val_my_metric  : 0.7240349264705883\n",
      "    val_f1         : 0.7259485572908013\n",
      "    val_balanced_accuracy: 0.7360571223237578\n",
      "    val_precision  : 0.757696056050261\n",
      "    val_recall     : 0.7240349264705883\n"
     ]
    },
    {
     "name": "stdout",
     "output_type": "stream",
     "text": [
      "Model has not improved in -------------| 20 epochs\n"
     ]
    },
    {
     "name": "stderr",
     "output_type": "stream",
     "text": [
      "    epoch          : 111\n",
      "    loss           : 0.47783975468741524\n",
      "    my_metric      : 0.7648409498207885\n",
      "    f1             : 0.7652553044577649\n",
      "    balanced_accuracy: 0.7671585385439683\n",
      "    precision      : 0.7700875017972959\n",
      "    recall         : 0.7648409498207885\n",
      "    val_loss       : 0.6135610044002533\n",
      "    val_my_metric  : 0.7171415441176471\n",
      "    val_f1         : 0.7141926954151294\n",
      "    val_balanced_accuracy: 0.7241861054685369\n",
      "    val_precision  : 0.7372011786182496\n",
      "    val_recall     : 0.7171415441176471\n"
     ]
    },
    {
     "name": "stdout",
     "output_type": "stream",
     "text": [
      "Model has not improved in -------------| 21 epochs\n"
     ]
    },
    {
     "name": "stderr",
     "output_type": "stream",
     "text": [
      "    epoch          : 112\n",
      "    loss           : 0.5001016590330336\n",
      "    my_metric      : 0.7672304360812425\n",
      "    f1             : 0.7676715723883171\n",
      "    balanced_accuracy: 0.7707843518971782\n",
      "    precision      : 0.7743372987690553\n",
      "    recall         : 0.7672304360812425\n",
      "    val_loss       : 0.6061065793037415\n",
      "    val_my_metric  : 0.7607996323529411\n",
      "    val_f1         : 0.7604252493241774\n",
      "    val_balanced_accuracy: 0.7631537787787788\n",
      "    val_precision  : 0.7720659292415768\n",
      "    val_recall     : 0.7607996323529411\n"
     ]
    },
    {
     "name": "stdout",
     "output_type": "stream",
     "text": [
      "Model has not improved in -------------| 22 epochs\n"
     ]
    },
    {
     "name": "stderr",
     "output_type": "stream",
     "text": [
      "    epoch          : 113\n",
      "    loss           : 0.4789378311898973\n",
      "    my_metric      : 0.7798125746714457\n",
      "    f1             : 0.7803493024394782\n",
      "    balanced_accuracy: 0.7825864243793217\n",
      "    precision      : 0.7851416496912882\n",
      "    recall         : 0.7798125746714457\n",
      "    val_loss       : 0.5604496151208878\n",
      "    val_my_metric  : 0.7481617647058824\n",
      "    val_f1         : 0.7467877290760739\n",
      "    val_balanced_accuracy: 0.7446895424836601\n",
      "    val_precision  : 0.7544648306843429\n",
      "    val_recall     : 0.7481617647058824\n"
     ]
    },
    {
     "name": "stdout",
     "output_type": "stream",
     "text": [
      "Model has not improved in -------------| 23 epochs\n"
     ]
    },
    {
     "name": "stderr",
     "output_type": "stream",
     "text": [
      "    epoch          : 114\n",
      "    loss           : 0.46601788534058464\n",
      "    my_metric      : 0.7792712066905616\n",
      "    f1             : 0.779490481716199\n",
      "    balanced_accuracy: 0.7806746729410233\n",
      "    precision      : 0.7827952526773099\n",
      "    recall         : 0.7792712066905616\n",
      "    val_loss       : 0.5437105000019073\n",
      "    val_my_metric  : 0.7421875\n",
      "    val_f1         : 0.7404462414475043\n",
      "    val_balanced_accuracy: 0.7450396825396826\n",
      "    val_precision  : 0.7570664541135284\n",
      "    val_recall     : 0.7421875\n"
     ]
    },
    {
     "name": "stdout",
     "output_type": "stream",
     "text": [
      "Model has not improved in -------------| 24 epochs\n"
     ]
    },
    {
     "name": "stderr",
     "output_type": "stream",
     "text": [
      "    epoch          : 115\n",
      "    loss           : 0.46705324451128644\n",
      "    my_metric      : 0.7820993876941458\n",
      "    f1             : 0.7822641855619383\n",
      "    balanced_accuracy: 0.7833573462316362\n",
      "    precision      : 0.7852197231218696\n",
      "    recall         : 0.7820993876941458\n",
      "    val_loss       : 0.655031144618988\n",
      "    val_my_metric  : 0.7651654411764706\n",
      "    val_f1         : 0.7652803308823529\n",
      "    val_balanced_accuracy: 0.7641367685226292\n",
      "    val_precision  : 0.7655821588177723\n",
      "    val_recall     : 0.7651654411764706\n"
     ]
    },
    {
     "name": "stdout",
     "output_type": "stream",
     "text": [
      "Model has not improved in -------------| 25 epochs\n"
     ]
    },
    {
     "name": "stderr",
     "output_type": "stream",
     "text": [
      "    epoch          : 116\n",
      "    loss           : 0.4595266415013207\n",
      "    my_metric      : 0.7995631720430108\n",
      "    f1             : 0.8004047264751865\n",
      "    balanced_accuracy: 0.8039663062494292\n",
      "    precision      : 0.8066462731330749\n",
      "    recall         : 0.7995631720430108\n",
      "    val_loss       : 0.6401661038398743\n",
      "    val_my_metric  : 0.6794577205882353\n",
      "    val_f1         : 0.6804168795486336\n",
      "    val_balanced_accuracy: 0.6730987065672664\n",
      "    val_precision  : 0.6819114937789956\n",
      "    val_recall     : 0.6794577205882353\n"
     ]
    },
    {
     "name": "stdout",
     "output_type": "stream",
     "text": [
      "Model has not improved in -------------| 26 epochs\n"
     ]
    },
    {
     "name": "stderr",
     "output_type": "stream",
     "text": [
      "    epoch          : 117\n",
      "    loss           : 0.46411072214444477\n",
      "    my_metric      : 0.78860513739546\n",
      "    f1             : 0.788810273574263\n",
      "    balanced_accuracy: 0.7884570391507139\n",
      "    precision      : 0.7900931413346917\n",
      "    recall         : 0.78860513739546\n",
      "    val_loss       : 0.6084660589694977\n",
      "    val_my_metric  : 0.7093290441176471\n",
      "    val_f1         : 0.709211019717354\n",
      "    val_balanced_accuracy: 0.7145474120640911\n",
      "    val_precision  : 0.7200291302600585\n",
      "    val_recall     : 0.7093290441176471\n"
     ]
    },
    {
     "name": "stdout",
     "output_type": "stream",
     "text": [
      "Model has not improved in -------------| 27 epochs\n"
     ]
    },
    {
     "name": "stderr",
     "output_type": "stream",
     "text": [
      "    epoch          : 118\n",
      "    loss           : 0.44885486033227706\n",
      "    my_metric      : 0.7992364844683393\n",
      "    f1             : 0.7996087568612515\n",
      "    balanced_accuracy: 0.8018427882922018\n",
      "    precision      : 0.8042601750880932\n",
      "    recall         : 0.7992364844683393\n",
      "    val_loss       : 0.5673981308937073\n",
      "    val_my_metric  : 0.7339154411764706\n",
      "    val_f1         : 0.7344328961908555\n",
      "    val_balanced_accuracy: 0.7356811145510835\n",
      "    val_precision  : 0.737765128261068\n",
      "    val_recall     : 0.7339154411764706\n"
     ]
    },
    {
     "name": "stdout",
     "output_type": "stream",
     "text": [
      "Model has not improved in -------------| 28 epochs\n"
     ]
    },
    {
     "name": "stderr",
     "output_type": "stream",
     "text": [
      "    epoch          : 119\n",
      "    loss           : 0.47552233272128636\n",
      "    my_metric      : 0.76884520609319\n",
      "    f1             : 0.7696493863547561\n",
      "    balanced_accuracy: 0.7712001713853246\n",
      "    precision      : 0.7748807329857423\n",
      "    recall         : 0.76884520609319\n",
      "    val_loss       : 0.6938962638378143\n",
      "    val_my_metric  : 0.7401194852941176\n",
      "    val_f1         : 0.7398586486756706\n",
      "    val_balanced_accuracy: 0.7383771929824562\n",
      "    val_precision  : 0.7421132792730825\n",
      "    val_recall     : 0.7401194852941176\n"
     ]
    },
    {
     "name": "stdout",
     "output_type": "stream",
     "text": [
      "Model has not improved in -------------| 29 epochs\n"
     ]
    },
    {
     "name": "stderr",
     "output_type": "stream",
     "text": [
      "    epoch          : 120\n",
      "    loss           : 0.49187053905593026\n",
      "    my_metric      : 0.7710200119474313\n",
      "    f1             : 0.7713483409533317\n",
      "    balanced_accuracy: 0.7724854748900313\n",
      "    precision      : 0.7744664237773582\n",
      "    recall         : 0.7710200119474313\n",
      "    val_loss       : 0.6607399582862854\n",
      "    val_my_metric  : 0.7201286764705883\n",
      "    val_f1         : 0.7203755696924866\n",
      "    val_balanced_accuracy: 0.7196515849741656\n",
      "    val_precision  : 0.7259672356179709\n",
      "    val_recall     : 0.7201286764705883\n"
     ]
    },
    {
     "name": "stdout",
     "output_type": "stream",
     "text": [
      "Model has not improved in -------------| 30 epochs\n"
     ]
    },
    {
     "name": "stderr",
     "output_type": "stream",
     "text": [
      "    epoch          : 121\n",
      "    loss           : 0.45889588859346175\n",
      "    my_metric      : 0.7836114844683393\n",
      "    f1             : 0.7843381955784754\n",
      "    balanced_accuracy: 0.7865375666691786\n",
      "    precision      : 0.7894545012362352\n",
      "    recall         : 0.7836114844683393\n",
      "    val_loss       : 0.6454448699951172\n",
      "    val_my_metric  : 0.76171875\n",
      "    val_f1         : 0.7614201132355334\n",
      "    val_balanced_accuracy: 0.7653769841269842\n",
      "    val_precision  : 0.7709686324541141\n",
      "    val_recall     : 0.76171875\n"
     ]
    },
    {
     "name": "stdout",
     "output_type": "stream",
     "text": [
      "Model has not improved in -------------| 31 epochs\n"
     ]
    },
    {
     "name": "stderr",
     "output_type": "stream",
     "text": [
      "    epoch          : 122\n",
      "    loss           : 0.4721084005302853\n",
      "    my_metric      : 0.7808953106332139\n",
      "    f1             : 0.7815402928793844\n",
      "    balanced_accuracy: 0.7836542817214127\n",
      "    precision      : 0.7886066199491588\n",
      "    recall         : 0.7808953106332139\n",
      "    val_loss       : 0.6051596105098724\n",
      "    val_my_metric  : 0.7079503676470589\n",
      "    val_f1         : 0.7070730752046794\n",
      "    val_balanced_accuracy: 0.7164731682146542\n",
      "    val_precision  : 0.7263799191409885\n",
      "    val_recall     : 0.7079503676470589\n"
     ]
    },
    {
     "name": "stdout",
     "output_type": "stream",
     "text": [
      "Model has not improved in -------------| 32 epochs\n"
     ]
    },
    {
     "name": "stderr",
     "output_type": "stream",
     "text": [
      "    epoch          : 123\n",
      "    loss           : 0.47981543673409355\n",
      "    my_metric      : 0.7789351851851852\n",
      "    f1             : 0.7794729961946012\n",
      "    balanced_accuracy: 0.7809451081724853\n",
      "    precision      : 0.7855782891544085\n",
      "    recall         : 0.7789351851851852\n",
      "    val_loss       : 0.6301822066307068\n",
      "    val_my_metric  : 0.7352941176470589\n",
      "    val_f1         : 0.7346602788090781\n",
      "    val_balanced_accuracy: 0.7405433995575912\n",
      "    val_precision  : 0.747737556561086\n",
      "    val_recall     : 0.7352941176470589\n"
     ]
    },
    {
     "name": "stdout",
     "output_type": "stream",
     "text": [
      "Model has not improved in -------------| 33 epochs\n"
     ]
    },
    {
     "name": "stderr",
     "output_type": "stream",
     "text": [
      "    epoch          : 124\n",
      "    loss           : 0.47814014222886825\n",
      "    my_metric      : 0.78079263739546\n",
      "    f1             : 0.7812118025076837\n",
      "    balanced_accuracy: 0.7821180669513788\n",
      "    precision      : 0.7838950580043073\n",
      "    recall         : 0.78079263739546\n",
      "    val_loss       : 0.6114472150802612\n",
      "    val_my_metric  : 0.7074908088235294\n",
      "    val_f1         : 0.7069249103167927\n",
      "    val_balanced_accuracy: 0.714077360932378\n",
      "    val_precision  : 0.7218038778011204\n",
      "    val_recall     : 0.7074908088235294\n"
     ]
    },
    {
     "name": "stdout",
     "output_type": "stream",
     "text": [
      "Model has not improved in -------------| 34 epochs\n"
     ]
    },
    {
     "name": "stderr",
     "output_type": "stream",
     "text": [
      "    epoch          : 125\n",
      "    loss           : 0.44128616319762337\n",
      "    my_metric      : 0.8022793458781362\n",
      "    f1             : 0.8026900724258593\n",
      "    balanced_accuracy: 0.804867456247763\n",
      "    precision      : 0.8067117898326004\n",
      "    recall         : 0.8022793458781362\n",
      "    val_loss       : 0.6991656422615051\n",
      "    val_my_metric  : 0.6994485294117647\n",
      "    val_f1         : 0.7021317079463365\n",
      "    val_balanced_accuracy: 0.7028960622710623\n",
      "    val_precision  : 0.7132893598615917\n",
      "    val_recall     : 0.6994485294117647\n"
     ]
    },
    {
     "name": "stdout",
     "output_type": "stream",
     "text": [
      "Model has not improved in -------------| 35 epochs\n"
     ]
    },
    {
     "name": "stderr",
     "output_type": "stream",
     "text": [
      "    epoch          : 126\n",
      "    loss           : 0.4547557599014706\n",
      "    my_metric      : 0.7968563321385902\n",
      "    f1             : 0.7971608543113\n",
      "    balanced_accuracy: 0.7984475413810972\n",
      "    precision      : 0.8000590521245818\n",
      "    recall         : 0.7968563321385902\n",
      "    val_loss       : 0.5826494693756104\n",
      "    val_my_metric  : 0.6897977941176471\n",
      "    val_f1         : 0.6900026390881249\n",
      "    val_balanced_accuracy: 0.6899407385389009\n",
      "    val_precision  : 0.6951257580465469\n",
      "    val_recall     : 0.6897977941176471\n"
     ]
    },
    {
     "name": "stdout",
     "output_type": "stream",
     "text": [
      "Model has not improved in -------------| 36 epochs\n"
     ]
    },
    {
     "name": "stderr",
     "output_type": "stream",
     "text": [
      "    epoch          : 127\n",
      "    loss           : 0.45779185162650216\n",
      "    my_metric      : 0.7854502688172044\n",
      "    f1             : 0.7857979175606358\n",
      "    balanced_accuracy: 0.7852307313416254\n",
      "    precision      : 0.7877750588103681\n",
      "    recall         : 0.7854502688172044\n",
      "    val_loss       : 0.6039367318153381\n",
      "    val_my_metric  : 0.7295496323529411\n",
      "    val_f1         : 0.7301434571661991\n",
      "    val_balanced_accuracy: 0.7314717553688141\n",
      "    val_precision  : 0.734263653013653\n",
      "    val_recall     : 0.7295496323529411\n"
     ]
    },
    {
     "name": "stdout",
     "output_type": "stream",
     "text": [
      "Model has not improved in -------------| 37 epochs\n"
     ]
    },
    {
     "name": "stderr",
     "output_type": "stream",
     "text": [
      "    epoch          : 128\n",
      "    loss           : 0.4646109739939372\n",
      "    my_metric      : 0.7887171445639187\n",
      "    f1             : 0.7893493736394134\n",
      "    balanced_accuracy: 0.7913045077083045\n",
      "    precision      : 0.7940114349333833\n",
      "    recall         : 0.7887171445639187\n",
      "    val_loss       : 0.6313052773475647\n",
      "    val_my_metric  : 0.7362132352941176\n",
      "    val_f1         : 0.7369869376286031\n",
      "    val_balanced_accuracy: 0.7417399804496578\n",
      "    val_precision  : 0.7499137249596808\n",
      "    val_recall     : 0.7362132352941176\n"
     ]
    },
    {
     "name": "stdout",
     "output_type": "stream",
     "text": [
      "Model has not improved in -------------| 38 epochs\n"
     ]
    },
    {
     "name": "stderr",
     "output_type": "stream",
     "text": [
      "    epoch          : 129\n",
      "    loss           : 0.43387165003352696\n",
      "    my_metric      : 0.8019526583034647\n",
      "    f1             : 0.8023625548708164\n",
      "    balanced_accuracy: 0.804867068523306\n",
      "    precision      : 0.8080452858656595\n",
      "    recall         : 0.8019526583034647\n",
      "    val_loss       : 0.6229375600814819\n",
      "    val_my_metric  : 0.7612591911764706\n",
      "    val_f1         : 0.7611926683326691\n",
      "    val_balanced_accuracy: 0.7613390092879256\n",
      "    val_precision  : 0.7648948534830291\n",
      "    val_recall     : 0.7612591911764706\n"
     ]
    },
    {
     "name": "stdout",
     "output_type": "stream",
     "text": [
      "Model has not improved in -------------| 39 epochs\n"
     ]
    },
    {
     "name": "stderr",
     "output_type": "stream",
     "text": [
      "    epoch          : 130\n",
      "    loss           : 0.47180771827697754\n",
      "    my_metric      : 0.7690692204301075\n",
      "    f1             : 0.7700006848543147\n",
      "    balanced_accuracy: 0.774089890151052\n",
      "    precision      : 0.7796415512353064\n",
      "    recall         : 0.7690692204301075\n",
      "    val_loss       : 0.6324267983436584\n",
      "    val_my_metric  : 0.74609375\n",
      "    val_f1         : 0.7466201321174913\n",
      "    val_balanced_accuracy: 0.7493328589219\n",
      "    val_precision  : 0.7527931787634409\n",
      "    val_recall     : 0.74609375\n"
     ]
    },
    {
     "name": "stdout",
     "output_type": "stream",
     "text": [
      "Model has not improved in -------------| 40 epochs\n"
     ]
    },
    {
     "name": "stderr",
     "output_type": "stream",
     "text": [
      "    epoch          : 131\n",
      "    loss           : 0.4363034400675032\n",
      "    my_metric      : 0.8014112903225806\n",
      "    f1             : 0.801533694857976\n",
      "    balanced_accuracy: 0.8011428777320124\n",
      "    precision      : 0.8027356647513728\n",
      "    recall         : 0.8014112903225806\n",
      "    val_loss       : 0.6103967130184174\n",
      "    val_my_metric  : 0.7074908088235294\n",
      "    val_f1         : 0.7075606740630137\n",
      "    val_balanced_accuracy: 0.7211128979421663\n",
      "    val_precision  : 0.7344620597534438\n",
      "    val_recall     : 0.7074908088235294\n"
     ]
    },
    {
     "name": "stdout",
     "output_type": "stream",
     "text": [
      "Model has not improved in -------------| 41 epochs\n"
     ]
    },
    {
     "name": "stderr",
     "output_type": "stream",
     "text": [
      "    epoch          : 132\n",
      "    loss           : 0.4588235351774428\n",
      "    my_metric      : 0.7851329151732378\n",
      "    f1             : 0.7854349030361887\n",
      "    balanced_accuracy: 0.7856393089362567\n",
      "    precision      : 0.7871449271058375\n",
      "    recall         : 0.7851329151732378\n",
      "    val_loss       : 0.6577171981334686\n",
      "    val_my_metric  : 0.7520680147058824\n",
      "    val_f1         : 0.7488174015418061\n",
      "    val_balanced_accuracy: 0.7620344074013459\n",
      "    val_precision  : 0.7841499445331017\n",
      "    val_recall     : 0.7520680147058824\n"
     ]
    },
    {
     "name": "stdout",
     "output_type": "stream",
     "text": [
      "Model has not improved in -------------| 42 epochs\n"
     ]
    },
    {
     "name": "stderr",
     "output_type": "stream",
     "text": [
      "    epoch          : 133\n",
      "    loss           : 0.4496241642369164\n",
      "    my_metric      : 0.7962029569892474\n",
      "    f1             : 0.7963841214837521\n",
      "    balanced_accuracy: 0.7970586960759006\n",
      "    precision      : 0.7994874836593201\n",
      "    recall         : 0.7962029569892474\n",
      "    val_loss       : 0.6078662574291229\n",
      "    val_my_metric  : 0.7015165441176471\n",
      "    val_f1         : 0.7025981843326355\n",
      "    val_balanced_accuracy: 0.7075085532746823\n",
      "    val_precision  : 0.7141861584675466\n",
      "    val_recall     : 0.7015165441176471\n"
     ]
    },
    {
     "name": "stdout",
     "output_type": "stream",
     "text": [
      "Model has not improved in -------------| 43 epochs\n"
     ]
    },
    {
     "name": "stderr",
     "output_type": "stream",
     "text": [
      "    epoch          : 134\n",
      "    loss           : 0.43642911314964294\n",
      "    my_metric      : 0.7959882765830346\n",
      "    f1             : 0.796280860848083\n",
      "    balanced_accuracy: 0.7968594349892429\n",
      "    precision      : 0.8003057557458276\n",
      "    recall         : 0.7959882765830346\n",
      "    val_loss       : 0.633488118648529\n",
      "    val_my_metric  : 0.6824448529411764\n",
      "    val_f1         : 0.6776123477999004\n",
      "    val_balanced_accuracy: 0.6759586225486893\n",
      "    val_precision  : 0.6865510408708938\n",
      "    val_recall     : 0.6824448529411764\n"
     ]
    },
    {
     "name": "stdout",
     "output_type": "stream",
     "text": [
      "Model has not improved in -------------| 44 epochs\n"
     ]
    },
    {
     "name": "stderr",
     "output_type": "stream",
     "text": [
      "    epoch          : 135\n",
      "    loss           : 0.4292963577641381\n",
      "    my_metric      : 0.8109599014336918\n",
      "    f1             : 0.8112987146501426\n",
      "    balanced_accuracy: 0.8120860083723104\n",
      "    precision      : 0.814123497453219\n",
      "    recall         : 0.8109599014336918\n",
      "    val_loss       : 0.615341067314148\n",
      "    val_my_metric  : 0.7633272058823529\n",
      "    val_f1         : 0.7631078401188061\n",
      "    val_balanced_accuracy: 0.7611092086690536\n",
      "    val_precision  : 0.7630608048445472\n",
      "    val_recall     : 0.7633272058823529\n"
     ]
    },
    {
     "name": "stdout",
     "output_type": "stream",
     "text": [
      "Model has not improved in -------------| 45 epochs\n"
     ]
    },
    {
     "name": "stderr",
     "output_type": "stream",
     "text": [
      "    epoch          : 136\n",
      "    loss           : 0.4164503547880385\n",
      "    my_metric      : 0.8175776583034647\n",
      "    f1             : 0.8178409134119993\n",
      "    balanced_accuracy: 0.8197735636852839\n",
      "    precision      : 0.8221208209004209\n",
      "    recall         : 0.8175776583034647\n",
      "    val_loss       : 0.70350781083107\n",
      "    val_my_metric  : 0.7084099264705883\n",
      "    val_f1         : 0.7017467730356675\n",
      "    val_balanced_accuracy: 0.6980528208350789\n",
      "    val_precision  : 0.7213295781795865\n",
      "    val_recall     : 0.7084099264705883\n"
     ]
    },
    {
     "name": "stdout",
     "output_type": "stream",
     "text": [
      "Model has not improved in -------------| 46 epochs\n"
     ]
    },
    {
     "name": "stderr",
     "output_type": "stream",
     "text": [
      "    epoch          : 137\n",
      "    loss           : 0.42938898338211906\n",
      "    my_metric      : 0.7958762694145759\n",
      "    f1             : 0.7961550354667525\n",
      "    balanced_accuracy: 0.7988753454798146\n",
      "    precision      : 0.8023882038759287\n",
      "    recall         : 0.7958762694145759\n",
      "    val_loss       : 0.559880405664444\n",
      "    val_my_metric  : 0.7633272058823529\n",
      "    val_f1         : 0.7643706024467323\n",
      "    val_balanced_accuracy: 0.765258823863475\n",
      "    val_precision  : 0.7689670847571395\n",
      "    val_recall     : 0.7633272058823529\n"
     ]
    },
    {
     "name": "stdout",
     "output_type": "stream",
     "text": [
      "Model has not improved in -------------| 47 epochs\n"
     ]
    },
    {
     "name": "stderr",
     "output_type": "stream",
     "text": [
      "    epoch          : 138\n",
      "    loss           : 0.4176877372794681\n",
      "    my_metric      : 0.8160562275985663\n",
      "    f1             : 0.8160639240871932\n",
      "    balanced_accuracy: 0.8158988255646318\n",
      "    precision      : 0.816963769415907\n",
      "    recall         : 0.8160562275985663\n",
      "    val_loss       : 0.6287904381752014\n",
      "    val_my_metric  : 0.7495404411764706\n",
      "    val_f1         : 0.7509709205056978\n",
      "    val_balanced_accuracy: 0.7536343864468864\n",
      "    val_precision  : 0.7590379901960784\n",
      "    val_recall     : 0.7495404411764706\n"
     ]
    },
    {
     "name": "stdout",
     "output_type": "stream",
     "text": [
      "Model has not improved in -------------| 48 epochs\n"
     ]
    },
    {
     "name": "stderr",
     "output_type": "stream",
     "text": [
      "    epoch          : 139\n",
      "    loss           : 0.43995170791943866\n",
      "    my_metric      : 0.8030260603345281\n",
      "    f1             : 0.802965637744872\n",
      "    balanced_accuracy: 0.8027570872318912\n",
      "    precision      : 0.8048791633036417\n",
      "    recall         : 0.8030260603345281\n",
      "    val_loss       : 0.6114265024662018\n",
      "    val_my_metric  : 0.6755514705882353\n",
      "    val_f1         : 0.6719587412819361\n",
      "    val_balanced_accuracy: 0.6723272642390289\n",
      "    val_precision  : 0.6800842121190958\n",
      "    val_recall     : 0.6755514705882353\n"
     ]
    },
    {
     "name": "stdout",
     "output_type": "stream",
     "text": [
      "Model has not improved in -------------| 49 epochs\n"
     ]
    },
    {
     "name": "stderr",
     "output_type": "stream",
     "text": [
      "    epoch          : 140\n",
      "    loss           : 0.4251949124866062\n",
      "    my_metric      : 0.803586096176822\n",
      "    f1             : 0.8036220515362691\n",
      "    balanced_accuracy: 0.8030891192484025\n",
      "    precision      : 0.8042599379933113\n",
      "    recall         : 0.803586096176822\n",
      "    val_loss       : 0.7592521011829376\n",
      "    val_my_metric  : 0.7495404411764706\n",
      "    val_f1         : 0.7483749432386341\n",
      "    val_balanced_accuracy: 0.7629426301301301\n",
      "    val_precision  : 0.7800278889129181\n",
      "    val_recall     : 0.7495404411764706\n"
     ]
    },
    {
     "name": "stdout",
     "output_type": "stream",
     "text": [
      "Model has not improved in -------------| 50 epochs\n"
     ]
    },
    {
     "name": "stderr",
     "output_type": "stream",
     "text": [
      "    epoch          : 141\n",
      "    loss           : 0.4540405339664883\n",
      "    my_metric      : 0.7890438321385902\n",
      "    f1             : 0.7897412283463803\n",
      "    balanced_accuracy: 0.7923244999566571\n",
      "    precision      : 0.7959288954971673\n",
      "    recall         : 0.7890438321385902\n",
      "    val_loss       : 0.7032254040241241\n",
      "    val_my_metric  : 0.7118566176470589\n",
      "    val_f1         : 0.7098744982284351\n",
      "    val_balanced_accuracy: 0.7203560371517028\n",
      "    val_precision  : 0.7336507040425151\n",
      "    val_recall     : 0.7118566176470589\n"
     ]
    },
    {
     "name": "stdout",
     "output_type": "stream",
     "text": [
      "Model has not improved in -------------| 51 epochs\n"
     ]
    },
    {
     "name": "stderr",
     "output_type": "stream",
     "text": [
      "    epoch          : 142\n",
      "    loss           : 0.4369647204875946\n",
      "    my_metric      : 0.8146561379928315\n",
      "    f1             : 0.8148842339966024\n",
      "    balanced_accuracy: 0.8149723462020274\n",
      "    precision      : 0.8165377338036852\n",
      "    recall         : 0.8146561379928315\n",
      "    val_loss       : 0.6138431429862976\n",
      "    val_my_metric  : 0.7054227941176471\n",
      "    val_f1         : 0.7043957533903109\n",
      "    val_balanced_accuracy: 0.7008019382208176\n",
      "    val_precision  : 0.7046821042662219\n",
      "    val_recall     : 0.7054227941176471\n"
     ]
    },
    {
     "name": "stdout",
     "output_type": "stream",
     "text": [
      "Model has not improved in -------------| 52 epochs\n"
     ]
    },
    {
     "name": "stderr",
     "output_type": "stream",
     "text": [
      "    epoch          : 143\n",
      "    loss           : 0.4407663709587521\n",
      "    my_metric      : 0.7949055406212664\n",
      "    f1             : 0.7949747273789391\n",
      "    balanced_accuracy: 0.7950368134577067\n",
      "    precision      : 0.7982977120928201\n",
      "    recall         : 0.7949055406212664\n",
      "    val_loss       : 0.6484895050525665\n",
      "    val_my_metric  : 0.7495404411764706\n",
      "    val_f1         : 0.7492627368546487\n",
      "    val_balanced_accuracy: 0.7554891521183389\n",
      "    val_precision  : 0.7626613384779203\n",
      "    val_recall     : 0.7495404411764706\n"
     ]
    },
    {
     "name": "stdout",
     "output_type": "stream",
     "text": [
      "Model has not improved in -------------| 53 epochs\n"
     ]
    },
    {
     "name": "stderr",
     "output_type": "stream",
     "text": [
      "    epoch          : 144\n",
      "    loss           : 0.42978008919292027\n",
      "    my_metric      : 0.8036887694145759\n",
      "    f1             : 0.8040988318551356\n",
      "    balanced_accuracy: 0.8053304579654963\n",
      "    precision      : 0.8081832769247478\n",
      "    recall         : 0.8036887694145759\n",
      "    val_loss       : 0.6990029513835907\n",
      "    val_my_metric  : 0.734375\n",
      "    val_f1         : 0.7338417055846924\n",
      "    val_balanced_accuracy: 0.741640866873065\n",
      "    val_precision  : 0.7501019164325615\n",
      "    val_recall     : 0.734375\n"
     ]
    },
    {
     "name": "stdout",
     "output_type": "stream",
     "text": [
      "Model has not improved in -------------| 54 epochs\n"
     ]
    },
    {
     "name": "stderr",
     "output_type": "stream",
     "text": [
      "    epoch          : 145\n",
      "    loss           : 0.41645894447962445\n",
      "    my_metric      : 0.8118279569892474\n",
      "    f1             : 0.812200490819728\n",
      "    balanced_accuracy: 0.8130789132728066\n",
      "    precision      : 0.8145100352031558\n",
      "    recall         : 0.8118279569892474\n",
      "    val_loss       : 0.6799460351467133\n",
      "    val_my_metric  : 0.6829044117647058\n",
      "    val_f1         : 0.6805860298832469\n",
      "    val_balanced_accuracy: 0.6930598555211558\n",
      "    val_precision  : 0.7074547511312217\n",
      "    val_recall     : 0.6829044117647058\n"
     ]
    },
    {
     "name": "stdout",
     "output_type": "stream",
     "text": [
      "Model has not improved in -------------| 55 epochs\n"
     ]
    },
    {
     "name": "stderr",
     "output_type": "stream",
     "text": [
      "    epoch          : 146\n",
      "    loss           : 0.41587801774342853\n",
      "    my_metric      : 0.8142174432497014\n",
      "    f1             : 0.8143664928070338\n",
      "    balanced_accuracy: 0.8144309171708675\n",
      "    precision      : 0.8168819890051848\n",
      "    recall         : 0.8142174432497014\n",
      "    val_loss       : 0.6343587040901184\n",
      "    val_my_metric  : 0.7231158088235294\n",
      "    val_f1         : 0.722296892922766\n",
      "    val_balanced_accuracy: 0.7260718733321473\n",
      "    val_precision  : 0.7347376965267814\n",
      "    val_recall     : 0.7231158088235294\n"
     ]
    },
    {
     "name": "stdout",
     "output_type": "stream",
     "text": [
      "Model has not improved in -------------| 56 epochs\n"
     ]
    },
    {
     "name": "stderr",
     "output_type": "stream",
     "text": [
      "    epoch          : 147\n",
      "    loss           : 0.4071776138411628\n",
      "    my_metric      : 0.8164949223416965\n",
      "    f1             : 0.8162567630070261\n",
      "    balanced_accuracy: 0.8150716523655869\n",
      "    precision      : 0.817145253985388\n",
      "    recall         : 0.8164949223416965\n",
      "    val_loss       : 0.8174570202827454\n",
      "    val_my_metric  : 0.6447610294117647\n",
      "    val_f1         : 0.6430638311359027\n",
      "    val_balanced_accuracy: 0.6311707414032995\n",
      "    val_precision  : 0.6496351381461676\n",
      "    val_recall     : 0.6447610294117647\n"
     ]
    },
    {
     "name": "stdout",
     "output_type": "stream",
     "text": [
      "Model has not improved in -------------| 57 epochs\n"
     ]
    },
    {
     "name": "stderr",
     "output_type": "stream",
     "text": [
      "    epoch          : 148\n",
      "    loss           : 0.43511030077934265\n",
      "    my_metric      : 0.7915359916367981\n",
      "    f1             : 0.7914712647329601\n",
      "    balanced_accuracy: 0.789974240194192\n",
      "    precision      : 0.7929991976519061\n",
      "    recall         : 0.7915359916367981\n",
      "    val_loss       : 0.6443721950054169\n",
      "    val_my_metric  : 0.7516084558823529\n",
      "    val_f1         : 0.7488514080857189\n",
      "    val_balanced_accuracy: 0.7443487292277615\n",
      "    val_precision  : 0.7540780704930463\n",
      "    val_recall     : 0.7516084558823529\n"
     ]
    },
    {
     "name": "stdout",
     "output_type": "stream",
     "text": [
      "Model has not improved in -------------| 58 epochs\n"
     ]
    },
    {
     "name": "stderr",
     "output_type": "stream",
     "text": [
      "    epoch          : 149\n",
      "    loss           : 0.4458737042215135\n",
      "    my_metric      : 0.8020646654719236\n",
      "    f1             : 0.8025113131844297\n",
      "    balanced_accuracy: 0.8045352384706832\n",
      "    precision      : 0.8073730954705305\n",
      "    recall         : 0.8020646654719236\n",
      "    val_loss       : 0.6312504708766937\n",
      "    val_my_metric  : 0.7231158088235294\n",
      "    val_f1         : 0.7235303444590881\n",
      "    val_balanced_accuracy: 0.7259545958110154\n",
      "    val_precision  : 0.7286198070687219\n",
      "    val_recall     : 0.7231158088235294\n"
     ]
    },
    {
     "name": "stdout",
     "output_type": "stream",
     "text": [
      "Model has not improved in -------------| 59 epochs\n"
     ]
    },
    {
     "name": "stderr",
     "output_type": "stream",
     "text": [
      "    epoch          : 150\n",
      "    loss           : 0.4268998901049296\n",
      "    my_metric      : 0.7971736857825568\n",
      "    f1             : 0.7976008867605671\n",
      "    balanced_accuracy: 0.798677887159133\n",
      "    precision      : 0.8007982260548022\n",
      "    recall         : 0.7971736857825568\n",
      "    val_loss       : 0.616277813911438\n",
      "    val_my_metric  : 0.734375\n",
      "    val_f1         : 0.7345911970107243\n",
      "    val_balanced_accuracy: 0.7331349206349207\n",
      "    val_precision  : 0.735145170921033\n",
      "    val_recall     : 0.734375\n"
     ]
    },
    {
     "name": "stdout",
     "output_type": "stream",
     "text": [
      "Model has not improved in -------------| 60 epochs\n"
     ]
    },
    {
     "name": "stderr",
     "output_type": "stream",
     "text": [
      "    epoch          : 151\n",
      "    loss           : 0.3949483136336009\n",
      "    my_metric      : 0.809559811827957\n",
      "    f1             : 0.8096824659615055\n",
      "    balanced_accuracy: 0.811707167164976\n",
      "    precision      : 0.8139456659239935\n",
      "    recall         : 0.809559811827957\n",
      "    val_loss       : 0.6627180278301239\n",
      "    val_my_metric  : 0.7431066176470589\n",
      "    val_f1         : 0.743805523364047\n",
      "    val_balanced_accuracy: 0.7438766891891893\n",
      "    val_precision  : 0.7463392459256429\n",
      "    val_recall     : 0.7431066176470589\n"
     ]
    },
    {
     "name": "stdout",
     "output_type": "stream",
     "text": [
      "Model has not improved in -------------| 61 epochs\n"
     ]
    },
    {
     "name": "stderr",
     "output_type": "stream",
     "text": [
      "    epoch          : 152\n",
      "    loss           : 0.4010920458369785\n",
      "    my_metric      : 0.8119399641577061\n",
      "    f1             : 0.8118401117921048\n",
      "    balanced_accuracy: 0.8120664444231503\n",
      "    precision      : 0.814315937399142\n",
      "    recall         : 0.8119399641577061\n",
      "    val_loss       : 0.7058261632919312\n",
      "    val_my_metric  : 0.6845128676470589\n",
      "    val_f1         : 0.683607551966682\n",
      "    val_balanced_accuracy: 0.6871790382819795\n",
      "    val_precision  : 0.6953770937727728\n",
      "    val_recall     : 0.6845128676470589\n"
     ]
    },
    {
     "name": "stdout",
     "output_type": "stream",
     "text": [
      "Model has not improved in -------------| 62 epochs\n"
     ]
    },
    {
     "name": "stderr",
     "output_type": "stream",
     "text": [
      "    epoch          : 153\n",
      "    loss           : 0.4203509920173221\n",
      "    my_metric      : 0.8106332138590203\n",
      "    f1             : 0.810893038216182\n",
      "    balanced_accuracy: 0.8137331008484296\n",
      "    precision      : 0.8167315927134889\n",
      "    recall         : 0.8106332138590203\n",
      "    val_loss       : 0.7077424824237823\n",
      "    val_my_metric  : 0.6698069852941176\n",
      "    val_f1         : 0.6657574362006706\n",
      "    val_balanced_accuracy: 0.6804096638655462\n",
      "    val_precision  : 0.6965716313529982\n",
      "    val_recall     : 0.6698069852941176\n"
     ]
    },
    {
     "name": "stdout",
     "output_type": "stream",
     "text": [
      "Model has not improved in -------------| 63 epochs\n"
     ]
    },
    {
     "name": "stderr",
     "output_type": "stream",
     "text": [
      "    epoch          : 154\n",
      "    loss           : 0.39637866285112167\n",
      "    my_metric      : 0.8181190262843488\n",
      "    f1             : 0.8184039163022244\n",
      "    balanced_accuracy: 0.8199655360658131\n",
      "    precision      : 0.8225402849602012\n",
      "    recall         : 0.8181190262843488\n",
      "    val_loss       : 0.7379222214221954\n",
      "    val_my_metric  : 0.6608455882352942\n",
      "    val_f1         : 0.6549048409569265\n",
      "    val_balanced_accuracy: 0.6516690009337068\n",
      "    val_precision  : 0.6646984832251424\n",
      "    val_recall     : 0.6608455882352942\n"
     ]
    },
    {
     "name": "stdout",
     "output_type": "stream",
     "text": [
      "Model has not improved in -------------| 64 epochs\n"
     ]
    },
    {
     "name": "stderr",
     "output_type": "stream",
     "text": [
      "    epoch          : 155\n",
      "    loss           : 0.4001219868659973\n",
      "    my_metric      : 0.8059662485065711\n",
      "    f1             : 0.8065253184913771\n",
      "    balanced_accuracy: 0.8085918705784186\n",
      "    precision      : 0.8121696566113298\n",
      "    recall         : 0.8059662485065711\n",
      "    val_loss       : 0.6737383604049683\n",
      "    val_my_metric  : 0.77734375\n",
      "    val_f1         : 0.7762398330831096\n",
      "    val_balanced_accuracy: 0.777281746031746\n",
      "    val_precision  : 0.7837892358136305\n",
      "    val_recall     : 0.77734375\n"
     ]
    },
    {
     "name": "stdout",
     "output_type": "stream",
     "text": [
      "Model has not improved in -------------| 65 epochs\n"
     ]
    },
    {
     "name": "stderr",
     "output_type": "stream",
     "text": [
      "    epoch          : 156\n",
      "    loss           : 0.42654605706532794\n",
      "    my_metric      : 0.8113892622461171\n",
      "    f1             : 0.8118815042181188\n",
      "    balanced_accuracy: 0.814061690756367\n",
      "    precision      : 0.8162140134598658\n",
      "    recall         : 0.8113892622461171\n",
      "    val_loss       : 0.6620549261569977\n",
      "    val_my_metric  : 0.7300091911764706\n",
      "    val_f1         : 0.7286620949192686\n",
      "    val_balanced_accuracy: 0.7319669365721997\n",
      "    val_precision  : 0.7491412938414803\n",
      "    val_recall     : 0.7300091911764706\n"
     ]
    },
    {
     "name": "stdout",
     "output_type": "stream",
     "text": [
      "Model has not improved in -------------| 66 epochs\n"
     ]
    },
    {
     "name": "stderr",
     "output_type": "stream",
     "text": [
      "    epoch          : 157\n",
      "    loss           : 0.4029272231790755\n",
      "    my_metric      : 0.8045568249701315\n",
      "    f1             : 0.8046322802957029\n",
      "    balanced_accuracy: 0.804469508826521\n",
      "    precision      : 0.8059973415517221\n",
      "    recall         : 0.8045568249701315\n",
      "    val_loss       : 0.6427046358585358\n",
      "    val_my_metric  : 0.6707261029411764\n",
      "    val_f1         : 0.6682391729222331\n",
      "    val_balanced_accuracy: 0.6789058223864259\n",
      "    val_precision  : 0.6900359103029154\n",
      "    val_recall     : 0.6707261029411764\n"
     ]
    },
    {
     "name": "stdout",
     "output_type": "stream",
     "text": [
      "Model has not improved in -------------| 67 epochs\n"
     ]
    },
    {
     "name": "stderr",
     "output_type": "stream",
     "text": [
      "    epoch          : 158\n",
      "    loss           : 0.44393402338027954\n",
      "    my_metric      : 0.8019526583034647\n",
      "    f1             : 0.8032252171125198\n",
      "    balanced_accuracy: 0.8061050090750128\n",
      "    precision      : 0.8118545692746825\n",
      "    recall         : 0.8019526583034647\n",
      "    val_loss       : 0.6947615742683411\n",
      "    val_my_metric  : 0.7270220588235294\n",
      "    val_f1         : 0.7250480666860719\n",
      "    val_balanced_accuracy: 0.7362987212046044\n",
      "    val_precision  : 0.751910419838534\n",
      "    val_recall     : 0.7270220588235294\n"
     ]
    },
    {
     "name": "stdout",
     "output_type": "stream",
     "text": [
      "Model has not improved in -------------| 68 epochs\n"
     ]
    },
    {
     "name": "stderr",
     "output_type": "stream",
     "text": [
      "    epoch          : 159\n",
      "    loss           : 0.41201510694291854\n",
      "    my_metric      : 0.8201911589008364\n",
      "    f1             : 0.8205119368882815\n",
      "    balanced_accuracy: 0.822688573690181\n",
      "    precision      : 0.8249609606158405\n",
      "    recall         : 0.8201911589008364\n",
      "    val_loss       : 0.6767204105854034\n",
      "    val_my_metric  : 0.6937040441176471\n",
      "    val_f1         : 0.6933800639508678\n",
      "    val_balanced_accuracy: 0.7098665417270069\n",
      "    val_precision  : 0.7326318077483811\n",
      "    val_recall     : 0.6937040441176471\n"
     ]
    },
    {
     "name": "stdout",
     "output_type": "stream",
     "text": [
      "Model has not improved in -------------| 69 epochs\n"
     ]
    },
    {
     "name": "stderr",
     "output_type": "stream",
     "text": [
      "    epoch          : 160\n",
      "    loss           : 0.3899824255042606\n",
      "    my_metric      : 0.8181190262843488\n",
      "    f1             : 0.818573954946888\n",
      "    balanced_accuracy: 0.8212059190315902\n",
      "    precision      : 0.8240397313689106\n",
      "    recall         : 0.8181190262843488\n",
      "    val_loss       : 0.7121499478816986\n",
      "    val_my_metric  : 0.7201286764705883\n",
      "    val_f1         : 0.7208110993969401\n",
      "    val_balanced_accuracy: 0.7250531781781782\n",
      "    val_precision  : 0.7303155637254903\n",
      "    val_recall     : 0.7201286764705883\n"
     ]
    },
    {
     "name": "stdout",
     "output_type": "stream",
     "text": [
      "Model has not improved in -------------| 70 epochs\n"
     ]
    },
    {
     "name": "stderr",
     "output_type": "stream",
     "text": [
      "    epoch          : 161\n",
      "    loss           : 0.4154504636923472\n",
      "    my_metric      : 0.8143201164874552\n",
      "    f1             : 0.8147320884767842\n",
      "    balanced_accuracy: 0.8171407792693177\n",
      "    precision      : 0.8193508198852921\n",
      "    recall         : 0.8143201164874552\n",
      "    val_loss       : 0.6813625395298004\n",
      "    val_my_metric  : 0.7153033088235294\n",
      "    val_f1         : 0.7140344286004836\n",
      "    val_balanced_accuracy: 0.7163573762838469\n",
      "    val_precision  : 0.7254502442002442\n",
      "    val_recall     : 0.7153033088235294\n"
     ]
    },
    {
     "name": "stdout",
     "output_type": "stream",
     "text": [
      "Model has not improved in -------------| 71 epochs\n"
     ]
    },
    {
     "name": "stderr",
     "output_type": "stream",
     "text": [
      "    epoch          : 162\n",
      "    loss           : 0.4070088432894813\n",
      "    my_metric      : 0.814432123655914\n",
      "    f1             : 0.8147476686586413\n",
      "    balanced_accuracy: 0.816179640983456\n",
      "    precision      : 0.8178072141233298\n",
      "    recall         : 0.814432123655914\n",
      "    val_loss       : 0.6421875059604645\n",
      "    val_my_metric  : 0.7127757352941176\n",
      "    val_f1         : 0.7132040760130676\n",
      "    val_balanced_accuracy: 0.7109673928222315\n",
      "    val_precision  : 0.7166000166140998\n",
      "    val_recall     : 0.7127757352941176\n"
     ]
    },
    {
     "name": "stdout",
     "output_type": "stream",
     "text": [
      "Model has not improved in -------------| 72 epochs\n"
     ]
    },
    {
     "name": "stderr",
     "output_type": "stream",
     "text": [
      "    epoch          : 163\n",
      "    loss           : 0.40917501515812343\n",
      "    my_metric      : 0.8240927419354839\n",
      "    f1             : 0.8242601795171198\n",
      "    balanced_accuracy: 0.8254002454516715\n",
      "    precision      : 0.8268938885230328\n",
      "    recall         : 0.8240927419354839\n",
      "    val_loss       : 0.6306031048297882\n",
      "    val_my_metric  : 0.7162224264705883\n",
      "    val_f1         : 0.7150915735551082\n",
      "    val_balanced_accuracy: 0.7176022851669404\n",
      "    val_precision  : 0.7240309147194831\n",
      "    val_recall     : 0.7162224264705883\n"
     ]
    },
    {
     "name": "stdout",
     "output_type": "stream",
     "text": [
      "Model has not improved in -------------| 73 epochs\n"
     ]
    },
    {
     "name": "stderr",
     "output_type": "stream",
     "text": [
      "    epoch          : 164\n",
      "    loss           : 0.3994220462110307\n",
      "    my_metric      : 0.8100918458781362\n",
      "    f1             : 0.8102757404715148\n",
      "    balanced_accuracy: 0.8116325668298835\n",
      "    precision      : 0.8128947438398587\n",
      "    recall         : 0.8100918458781362\n",
      "    val_loss       : 0.7058976292610168\n",
      "    val_my_metric  : 0.7201286764705883\n",
      "    val_f1         : 0.7201286764705883\n",
      "    val_balanced_accuracy: 0.721229668587455\n",
      "    val_precision  : 0.7246384713612786\n",
      "    val_recall     : 0.7201286764705883\n"
     ]
    },
    {
     "name": "stdout",
     "output_type": "stream",
     "text": [
      "Model has not improved in -------------| 74 epochs\n"
     ]
    },
    {
     "name": "stderr",
     "output_type": "stream",
     "text": [
      "    epoch          : 165\n",
      "    loss           : 0.3667106893327501\n",
      "    my_metric      : 0.8395030615292712\n",
      "    f1             : 0.8394443325181398\n",
      "    balanced_accuracy: 0.8396189866558468\n",
      "    precision      : 0.8431510662368656\n",
      "    recall         : 0.8395030615292712\n",
      "    val_loss       : 0.6806759536266327\n",
      "    val_my_metric  : 0.6902573529411764\n",
      "    val_f1         : 0.6905871598368492\n",
      "    val_balanced_accuracy: 0.6930989217757944\n",
      "    val_precision  : 0.696617561531093\n",
      "    val_recall     : 0.6902573529411764\n"
     ]
    },
    {
     "name": "stdout",
     "output_type": "stream",
     "text": [
      "Model has not improved in -------------| 75 epochs\n"
     ]
    },
    {
     "name": "stderr",
     "output_type": "stream",
     "text": [
      "    epoch          : 166\n",
      "    loss           : 0.3830854098002116\n",
      "    my_metric      : 0.8250634707287934\n",
      "    f1             : 0.8253286626935599\n",
      "    balanced_accuracy: 0.8271198682340422\n",
      "    precision      : 0.8288833547688469\n",
      "    recall         : 0.8250634707287934\n",
      "    val_loss       : 0.6537960469722748\n",
      "    val_my_metric  : 0.7074908088235294\n",
      "    val_f1         : 0.7075118250631274\n",
      "    val_balanced_accuracy: 0.7129643962848298\n",
      "    val_precision  : 0.7183521017747352\n",
      "    val_recall     : 0.7074908088235294\n"
     ]
    },
    {
     "name": "stdout",
     "output_type": "stream",
     "text": [
      "Model has not improved in -------------| 76 epochs\n"
     ]
    },
    {
     "name": "stderr",
     "output_type": "stream",
     "text": [
      "    epoch          : 167\n",
      "    loss           : 0.3720649944411384\n",
      "    my_metric      : 0.8424339157706093\n",
      "    f1             : 0.8425855830756084\n",
      "    balanced_accuracy: 0.8437294635470542\n",
      "    precision      : 0.8462405220797344\n",
      "    recall         : 0.8424339157706093\n",
      "    val_loss       : 0.6749892234802246\n",
      "    val_my_metric  : 0.7054227941176471\n",
      "    val_f1         : 0.7036323510714225\n",
      "    val_balanced_accuracy: 0.6939946018893388\n",
      "    val_precision  : 0.705432078134284\n",
      "    val_recall     : 0.7054227941176471\n"
     ]
    },
    {
     "name": "stdout",
     "output_type": "stream",
     "text": [
      "Model has not improved in -------------| 77 epochs\n"
     ]
    },
    {
     "name": "stderr",
     "output_type": "stream",
     "text": [
      "    epoch          : 168\n",
      "    loss           : 0.37332432468732196\n",
      "    my_metric      : 0.8339773745519713\n",
      "    f1             : 0.8340798906894229\n",
      "    balanced_accuracy: 0.8347821284623671\n",
      "    precision      : 0.8366011393931001\n",
      "    recall         : 0.8339773745519713\n",
      "    val_loss       : 0.6640516221523285\n",
      "    val_my_metric  : 0.7235753676470589\n",
      "    val_f1         : 0.7227717214080274\n",
      "    val_balanced_accuracy: 0.7181634333874828\n",
      "    val_precision  : 0.7232439199638188\n",
      "    val_recall     : 0.7235753676470589\n"
     ]
    },
    {
     "name": "stdout",
     "output_type": "stream",
     "text": [
      "Model has not improved in -------------| 78 epochs\n"
     ]
    },
    {
     "name": "stderr",
     "output_type": "stream",
     "text": [
      "    epoch          : 169\n",
      "    loss           : 0.3948438200685713\n",
      "    my_metric      : 0.8077023596176822\n",
      "    f1             : 0.8082170857111356\n",
      "    balanced_accuracy: 0.8111894732391727\n",
      "    precision      : 0.8133962629046034\n",
      "    recall         : 0.8077023596176822\n",
      "    val_loss       : 0.6435515284538269\n",
      "    val_my_metric  : 0.7612591911764706\n",
      "    val_f1         : 0.7611923419002637\n",
      "    val_balanced_accuracy: 0.7588880288957688\n",
      "    val_precision  : 0.7611718738711402\n",
      "    val_recall     : 0.7612591911764706\n"
     ]
    },
    {
     "name": "stdout",
     "output_type": "stream",
     "text": [
      "Model has not improved in -------------| 79 epochs\n"
     ]
    },
    {
     "name": "stderr",
     "output_type": "stream",
     "text": [
      "    epoch          : 170\n",
      "    loss           : 0.3700874944527944\n",
      "    my_metric      : 0.823439366786141\n",
      "    f1             : 0.8236887283865373\n",
      "    balanced_accuracy: 0.8229884011315378\n",
      "    precision      : 0.8249059914742384\n",
      "    recall         : 0.823439366786141\n",
      "    val_loss       : 0.7465519607067108\n",
      "    val_my_metric  : 0.6716452205882353\n",
      "    val_f1         : 0.6715521433727201\n",
      "    val_balanced_accuracy: 0.6849087310073312\n",
      "    val_precision  : 0.697870474722013\n",
      "    val_recall     : 0.6716452205882353\n"
     ]
    },
    {
     "name": "stdout",
     "output_type": "stream",
     "text": [
      "Model has not improved in -------------| 80 epochs\n"
     ]
    },
    {
     "name": "stderr",
     "output_type": "stream",
     "text": [
      "    epoch          : 171\n",
      "    loss           : 0.37302841080559623\n",
      "    my_metric      : 0.8278916517323776\n",
      "    f1             : 0.8278961741566745\n",
      "    balanced_accuracy: 0.8284647365121565\n",
      "    precision      : 0.8301459308990962\n",
      "    recall         : 0.8278916517323776\n",
      "    val_loss       : 0.7297646105289459\n",
      "    val_my_metric  : 0.7270220588235294\n",
      "    val_f1         : 0.7289956367162249\n",
      "    val_balanced_accuracy: 0.7240652492668622\n",
      "    val_precision  : 0.7336737624737395\n",
      "    val_recall     : 0.7270220588235294\n"
     ]
    },
    {
     "name": "stdout",
     "output_type": "stream",
     "text": [
      "Model has not improved in -------------| 81 epochs\n"
     ]
    },
    {
     "name": "stderr",
     "output_type": "stream",
     "text": [
      "    epoch          : 172\n",
      "    loss           : 0.3980027503437466\n",
      "    my_metric      : 0.810847894265233\n",
      "    f1             : 0.8110720453746669\n",
      "    balanced_accuracy: 0.8111938477076928\n",
      "    precision      : 0.8142559529502519\n",
      "    recall         : 0.810847894265233\n",
      "    val_loss       : 0.7485936880111694\n",
      "    val_my_metric  : 0.6314338235294117\n",
      "    val_f1         : 0.6315819976419603\n",
      "    val_balanced_accuracy: 0.6275572447447448\n",
      "    val_precision  : 0.6318476254138019\n",
      "    val_recall     : 0.6314338235294117\n"
     ]
    },
    {
     "name": "stdout",
     "output_type": "stream",
     "text": [
      "Model has not improved in -------------| 82 epochs\n"
     ]
    },
    {
     "name": "stderr",
     "output_type": "stream",
     "text": [
      "    epoch          : 173\n",
      "    loss           : 0.3748352924982707\n",
      "    my_metric      : 0.8315785543608124\n",
      "    f1             : 0.8318015827289875\n",
      "    balanced_accuracy: 0.8325043847738676\n",
      "    precision      : 0.8336969102552816\n",
      "    recall         : 0.8315785543608124\n",
      "    val_loss       : 0.7582530677318573\n",
      "    val_my_metric  : 0.6842830882352942\n",
      "    val_f1         : 0.6846695828720846\n",
      "    val_balanced_accuracy: 0.6906846707455028\n",
      "    val_precision  : 0.6974628823381696\n",
      "    val_recall     : 0.6842830882352942\n"
     ]
    },
    {
     "name": "stdout",
     "output_type": "stream",
     "text": [
      "Model has not improved in -------------| 83 epochs\n"
     ]
    },
    {
     "name": "stderr",
     "output_type": "stream",
     "text": [
      "    epoch          : 174\n",
      "    loss           : 0.37709784176614547\n",
      "    my_metric      : 0.8452527628434887\n",
      "    f1             : 0.8452951307446285\n",
      "    balanced_accuracy: 0.8456301786332986\n",
      "    precision      : 0.8472427328543866\n",
      "    recall         : 0.8452527628434887\n",
      "    val_loss       : 0.6778641641139984\n",
      "    val_my_metric  : 0.7378216911764706\n",
      "    val_f1         : 0.736456694041763\n",
      "    val_balanced_accuracy: 0.7372690689592099\n",
      "    val_precision  : 0.7460989725963217\n",
      "    val_recall     : 0.7378216911764706\n"
     ]
    },
    {
     "name": "stdout",
     "output_type": "stream",
     "text": [
      "Model has not improved in -------------| 84 epochs\n"
     ]
    },
    {
     "name": "stderr",
     "output_type": "stream",
     "text": [
      "    epoch          : 175\n",
      "    loss           : 0.36057406001620823\n",
      "    my_metric      : 0.8313638739545998\n",
      "    f1             : 0.8313809495313157\n",
      "    balanced_accuracy: 0.8316577672213278\n",
      "    precision      : 0.8335361257531908\n",
      "    recall         : 0.8313638739545998\n",
      "    val_loss       : 0.7119958698749542\n",
      "    val_my_metric  : 0.7352941176470589\n",
      "    val_f1         : 0.7355709483143202\n",
      "    val_balanced_accuracy: 0.7360377576463566\n",
      "    val_precision  : 0.7376495389822595\n",
      "    val_recall     : 0.7352941176470589\n"
     ]
    },
    {
     "name": "stdout",
     "output_type": "stream",
     "text": [
      "Model has not improved in -------------| 85 epochs\n"
     ]
    },
    {
     "name": "stderr",
     "output_type": "stream",
     "text": [
      "    epoch          : 176\n",
      "    loss           : 0.3707526491747962\n",
      "    my_metric      : 0.8308225059737157\n",
      "    f1             : 0.8309114951345042\n",
      "    balanced_accuracy: 0.8313725849904304\n",
      "    precision      : 0.8332336485924693\n",
      "    recall         : 0.8308225059737157\n",
      "    val_loss       : 0.7145514488220215\n",
      "    val_my_metric  : 0.6962316176470589\n",
      "    val_f1         : 0.6945120547289775\n",
      "    val_balanced_accuracy: 0.7039802271483306\n",
      "    val_precision  : 0.7142683658431264\n",
      "    val_recall     : 0.6962316176470589\n"
     ]
    },
    {
     "name": "stdout",
     "output_type": "stream",
     "text": [
      "Model has not improved in -------------| 86 epochs\n"
     ]
    },
    {
     "name": "stderr",
     "output_type": "stream",
     "text": [
      "    epoch          : 177\n",
      "    loss           : 0.36300308836830986\n",
      "    my_metric      : 0.8373282556750299\n",
      "    f1             : 0.8374977448857659\n",
      "    balanced_accuracy: 0.839630317641247\n",
      "    precision      : 0.8411569261758289\n",
      "    recall         : 0.8373282556750299\n",
      "    val_loss       : 0.7138164043426514\n",
      "    val_my_metric  : 0.7642463235294117\n",
      "    val_f1         : 0.7639047686382245\n",
      "    val_balanced_accuracy: 0.7690368687403528\n",
      "    val_precision  : 0.7763589412465521\n",
      "    val_recall     : 0.7642463235294117\n"
     ]
    },
    {
     "name": "stdout",
     "output_type": "stream",
     "text": [
      "Model has not improved in -------------| 87 epochs\n"
     ]
    },
    {
     "name": "stderr",
     "output_type": "stream",
     "text": [
      "    epoch          : 178\n",
      "    loss           : 0.3539188437991672\n",
      "    my_metric      : 0.845682123655914\n",
      "    f1             : 0.8454565069838922\n",
      "    balanced_accuracy: 0.8446750635677467\n",
      "    precision      : 0.8481969311287122\n",
      "    recall         : 0.845682123655914\n",
      "    val_loss       : 0.6726728677749634\n",
      "    val_my_metric  : 0.6725643382352942\n",
      "    val_f1         : 0.6713452135539756\n",
      "    val_balanced_accuracy: 0.6769347472472472\n",
      "    val_precision  : 0.6832182595574589\n",
      "    val_recall     : 0.6725643382352942\n"
     ]
    },
    {
     "name": "stdout",
     "output_type": "stream",
     "text": [
      "Model has not improved in -------------| 88 epochs\n"
     ]
    },
    {
     "name": "stderr",
     "output_type": "stream",
     "text": [
      "    epoch          : 179\n",
      "    loss           : 0.36860913038253784\n",
      "    my_metric      : 0.8310371863799283\n",
      "    f1             : 0.831531991602506\n",
      "    balanced_accuracy: 0.8353507888510127\n",
      "    precision      : 0.8385234078520383\n",
      "    recall         : 0.8310371863799283\n",
      "    val_loss       : 0.780446320772171\n",
      "    val_my_metric  : 0.6624540441176471\n",
      "    val_f1         : 0.660676476619267\n",
      "    val_balanced_accuracy: 0.6675827553109501\n",
      "    val_precision  : 0.6869509626374912\n",
      "    val_recall     : 0.6624540441176471\n"
     ]
    },
    {
     "name": "stdout",
     "output_type": "stream",
     "text": [
      "Model has not improved in -------------| 89 epochs\n"
     ]
    },
    {
     "name": "stderr",
     "output_type": "stream",
     "text": [
      "    epoch          : 180\n",
      "    loss           : 0.3512020276652442\n",
      "    my_metric      : 0.8507877837514934\n",
      "    f1             : 0.8511432776231035\n",
      "    balanced_accuracy: 0.8526076023751443\n",
      "    precision      : 0.8545706449159902\n",
      "    recall         : 0.8507877837514934\n",
      "    val_loss       : 0.745185375213623\n",
      "    val_my_metric  : 0.6560202205882353\n",
      "    val_f1         : 0.6544856303443681\n",
      "    val_balanced_accuracy: 0.6611932129173508\n",
      "    val_precision  : 0.6677480940971577\n",
      "    val_recall     : 0.6560202205882353\n"
     ]
    },
    {
     "name": "stdout",
     "output_type": "stream",
     "text": [
      "Model has not improved in -------------| 90 epochs\n"
     ]
    },
    {
     "name": "stderr",
     "output_type": "stream",
     "text": [
      "    epoch          : 181\n",
      "    loss           : 0.3577914767795139\n",
      "    my_metric      : 0.8442727001194743\n",
      "    f1             : 0.8442903290079179\n",
      "    balanced_accuracy: 0.8449968507593814\n",
      "    precision      : 0.8470970534339811\n",
      "    recall         : 0.8442727001194743\n",
      "    val_loss       : 0.9002916216850281\n",
      "    val_my_metric  : 0.7371323529411764\n",
      "    val_f1         : 0.7355927251428731\n",
      "    val_balanced_accuracy: 0.7403590243568692\n",
      "    val_precision  : 0.7462293758967\n",
      "    val_recall     : 0.7371323529411764\n"
     ]
    },
    {
     "name": "stdout",
     "output_type": "stream",
     "text": [
      "Model has not improved in -------------| 91 epochs\n"
     ]
    },
    {
     "name": "stderr",
     "output_type": "stream",
     "text": [
      "    epoch          : 182\n",
      "    loss           : 0.40578072600894505\n",
      "    my_metric      : 0.8084677419354839\n",
      "    f1             : 0.8087430275294292\n",
      "    balanced_accuracy: 0.8091481929824503\n",
      "    precision      : 0.8109010561854589\n",
      "    recall         : 0.8084677419354839\n",
      "    val_loss       : 0.81339031457901\n",
      "    val_my_metric  : 0.6187959558823529\n",
      "    val_f1         : 0.6192936988194793\n",
      "    val_balanced_accuracy: 0.6204544677066228\n",
      "    val_precision  : 0.6228944768466828\n",
      "    val_recall     : 0.6187959558823529\n"
     ]
    },
    {
     "name": "stdout",
     "output_type": "stream",
     "text": [
      "Model has not improved in -------------| 92 epochs\n"
     ]
    },
    {
     "name": "stderr",
     "output_type": "stream",
     "text": [
      "    epoch          : 183\n",
      "    loss           : 0.3673963381184472\n",
      "    my_metric      : 0.8317932347670252\n",
      "    f1             : 0.8324260487795149\n",
      "    balanced_accuracy: 0.8358852768031787\n",
      "    precision      : 0.8390937100850896\n",
      "    recall         : 0.8317932347670252\n",
      "    val_loss       : 0.7274078726768494\n",
      "    val_my_metric  : 0.6877297794117647\n",
      "    val_f1         : 0.6860509651460259\n",
      "    val_balanced_accuracy: 0.6831477490421456\n",
      "    val_precision  : 0.6869506387548793\n",
      "    val_recall     : 0.6877297794117647\n"
     ]
    },
    {
     "name": "stdout",
     "output_type": "stream",
     "text": [
      "Model has not improved in -------------| 93 epochs\n"
     ]
    },
    {
     "name": "stderr",
     "output_type": "stream",
     "text": [
      "    epoch          : 184\n",
      "    loss           : 0.3649473488330841\n",
      "    my_metric      : 0.8365722072879331\n",
      "    f1             : 0.8364610371970439\n",
      "    balanced_accuracy: 0.8357304397268457\n",
      "    precision      : 0.8373836412070059\n",
      "    recall         : 0.8365722072879331\n",
      "    val_loss       : 0.7925580143928528\n",
      "    val_my_metric  : 0.6794577205882353\n",
      "    val_f1         : 0.6605749959602207\n",
      "    val_balanced_accuracy: 0.6708391690009337\n",
      "    val_precision  : 0.7108553480628759\n",
      "    val_recall     : 0.6794577205882353\n"
     ]
    },
    {
     "name": "stdout",
     "output_type": "stream",
     "text": [
      "Model has not improved in -------------| 94 epochs\n"
     ]
    },
    {
     "name": "stderr",
     "output_type": "stream",
     "text": [
      "    epoch          : 185\n",
      "    loss           : 0.3546746207608117\n",
      "    my_metric      : 0.8442727001194743\n",
      "    f1             : 0.8445836163256072\n",
      "    balanced_accuracy: 0.8463195712056102\n",
      "    precision      : 0.8475929885766095\n",
      "    recall         : 0.8442727001194743\n",
      "    val_loss       : 0.6154102385044098\n",
      "    val_my_metric  : 0.7196691176470589\n",
      "    val_f1         : 0.7189478529366924\n",
      "    val_balanced_accuracy: 0.7158993835420819\n",
      "    val_precision  : 0.7190932721358984\n",
      "    val_recall     : 0.7196691176470589\n"
     ]
    },
    {
     "name": "stdout",
     "output_type": "stream",
     "text": [
      "Model has not improved in -------------| 95 epochs\n"
     ]
    },
    {
     "name": "stderr",
     "output_type": "stream",
     "text": [
      "    epoch          : 186\n",
      "    loss           : 0.342531046933598\n",
      "    my_metric      : 0.8456914575866189\n",
      "    f1             : 0.8460092641669814\n",
      "    balanced_accuracy: 0.8485695756502224\n",
      "    precision      : 0.8499690788271336\n",
      "    recall         : 0.8456914575866189\n",
      "    val_loss       : 0.7167342305183411\n",
      "    val_my_metric  : 0.7079503676470589\n",
      "    val_f1         : 0.7067342958996348\n",
      "    val_balanced_accuracy: 0.7071636126430647\n",
      "    val_precision  : 0.7155187734565404\n",
      "    val_recall     : 0.7079503676470589\n"
     ]
    },
    {
     "name": "stdout",
     "output_type": "stream",
     "text": [
      "Model has not improved in -------------| 96 epochs\n"
     ]
    },
    {
     "name": "stderr",
     "output_type": "stream",
     "text": [
      "    epoch          : 187\n",
      "    loss           : 0.34327993790308636\n",
      "    my_metric      : 0.8521972072879331\n",
      "    f1             : 0.8523666615171228\n",
      "    balanced_accuracy: 0.85227722467153\n",
      "    precision      : 0.8549503022591282\n",
      "    recall         : 0.8521972072879331\n",
      "    val_loss       : 0.7048865556716919\n",
      "    val_my_metric  : 0.6732536764705883\n",
      "    val_f1         : 0.670662523686304\n",
      "    val_balanced_accuracy: 0.6753618113912232\n",
      "    val_precision  : 0.688233137829912\n",
      "    val_recall     : 0.6732536764705883\n"
     ]
    },
    {
     "name": "stdout",
     "output_type": "stream",
     "text": [
      "Model has not improved in -------------| 97 epochs\n"
     ]
    },
    {
     "name": "stderr",
     "output_type": "stream",
     "text": [
      "    epoch          : 188\n",
      "    loss           : 0.34484991431236267\n",
      "    my_metric      : 0.8440580197132617\n",
      "    f1             : 0.8441481178651065\n",
      "    balanced_accuracy: 0.845876186625542\n",
      "    precision      : 0.848607138106966\n",
      "    recall         : 0.8440580197132617\n",
      "    val_loss       : 0.7735771834850311\n",
      "    val_my_metric  : 0.7750459558823529\n",
      "    val_f1         : 0.7754610678161882\n",
      "    val_balanced_accuracy: 0.7751213168551878\n",
      "    val_precision  : 0.7769916342042891\n",
      "    val_recall     : 0.7750459558823529\n"
     ]
    },
    {
     "name": "stdout",
     "output_type": "stream",
     "text": [
      "Model has not improved in -------------| 98 epochs\n"
     ]
    },
    {
     "name": "stderr",
     "output_type": "stream",
     "text": [
      "    epoch          : 189\n",
      "    loss           : 0.354459673166275\n",
      "    my_metric      : 0.833641353046595\n",
      "    f1             : 0.8337318162230019\n",
      "    balanced_accuracy: 0.8348974042936536\n",
      "    precision      : 0.8374221409008474\n",
      "    recall         : 0.833641353046595\n",
      "    val_loss       : 0.6624088883399963\n",
      "    val_my_metric  : 0.7647058823529411\n",
      "    val_f1         : 0.764682024659312\n",
      "    val_balanced_accuracy: 0.770658263305322\n",
      "    val_precision  : 0.7767316017316017\n",
      "    val_recall     : 0.7647058823529411\n"
     ]
    },
    {
     "name": "stdout",
     "output_type": "stream",
     "text": [
      "Model has not improved in -------------| 99 epochs\n"
     ]
    },
    {
     "name": "stderr",
     "output_type": "stream",
     "text": [
      "    epoch          : 190\n",
      "    loss           : 0.339343946841028\n",
      "    my_metric      : 0.8575082138590203\n",
      "    f1             : 0.8577574713248456\n",
      "    balanced_accuracy: 0.8592113384779888\n",
      "    precision      : 0.8618534073770142\n",
      "    recall         : 0.8575082138590203\n",
      "    val_loss       : 0.9321140050888062\n",
      "    val_my_metric  : 0.7001378676470589\n",
      "    val_f1         : 0.7008616071971534\n",
      "    val_balanced_accuracy: 0.7049841240378099\n",
      "    val_precision  : 0.7096230500663807\n",
      "    val_recall     : 0.7001378676470589\n"
     ]
    },
    {
     "name": "stdout",
     "output_type": "stream",
     "text": [
      "Model has not improved in -------------| 100 epochs\n"
     ]
    },
    {
     "name": "stderr",
     "output_type": "stream",
     "text": [
      "    epoch          : 191\n",
      "    loss           : 0.3432796829276615\n",
      "    my_metric      : 0.8417805406212664\n",
      "    f1             : 0.8421347453125415\n",
      "    balanced_accuracy: 0.8452031134597058\n",
      "    precision      : 0.8482225883499255\n",
      "    recall         : 0.8417805406212664\n",
      "    val_loss       : 0.6627117097377777\n",
      "    val_my_metric  : 0.7265625\n",
      "    val_f1         : 0.7260372491266252\n",
      "    val_balanced_accuracy: 0.7245507863153524\n",
      "    val_precision  : 0.7285428113553114\n",
      "    val_recall     : 0.7265625\n"
     ]
    },
    {
     "name": "stdout",
     "output_type": "stream",
     "text": [
      "Model has not improved in -------------| 101 epochs\n"
     ]
    },
    {
     "name": "stderr",
     "output_type": "stream",
     "text": [
      "    epoch          : 192\n",
      "    loss           : 0.3377432922522227\n",
      "    my_metric      : 0.852850582437276\n",
      "    f1             : 0.8530797059720651\n",
      "    balanced_accuracy: 0.8544637103268884\n",
      "    precision      : 0.8553960588874587\n",
      "    recall         : 0.852850582437276\n",
      "    val_loss       : 0.7949691414833069\n",
      "    val_my_metric  : 0.7456341911764706\n",
      "    val_f1         : 0.7456091556976205\n",
      "    val_balanced_accuracy: 0.7405764515520614\n",
      "    val_precision  : 0.745983577173538\n",
      "    val_recall     : 0.7456341911764706\n"
     ]
    },
    {
     "name": "stdout",
     "output_type": "stream",
     "text": [
      "Model has not improved in -------------| 102 epochs\n"
     ]
    },
    {
     "name": "stderr",
     "output_type": "stream",
     "text": [
      "    epoch          : 193\n",
      "    loss           : 0.33625202377637226\n",
      "    my_metric      : 0.8498077210274791\n",
      "    f1             : 0.8500944077407683\n",
      "    balanced_accuracy: 0.8517091790218367\n",
      "    precision      : 0.8530527442583417\n",
      "    recall         : 0.8498077210274791\n",
      "    val_loss       : 0.6525847315788269\n",
      "    val_my_metric  : 0.7288602941176471\n",
      "    val_f1         : 0.728870858688303\n",
      "    val_balanced_accuracy: 0.7450206043956044\n",
      "    val_precision  : 0.7656019290307216\n",
      "    val_recall     : 0.7288602941176471\n"
     ]
    },
    {
     "name": "stdout",
     "output_type": "stream",
     "text": [
      "Model has not improved in -------------| 103 epochs\n"
     ]
    },
    {
     "name": "stderr",
     "output_type": "stream",
     "text": [
      "    epoch          : 194\n",
      "    loss           : 0.3465179370509254\n",
      "    my_metric      : 0.8350507765830346\n",
      "    f1             : 0.8354542186435268\n",
      "    balanced_accuracy: 0.8374357652753257\n",
      "    precision      : 0.8397773596533595\n",
      "    recall         : 0.8350507765830346\n",
      "    val_loss       : 0.7465627491474152\n",
      "    val_my_metric  : 0.7127757352941176\n",
      "    val_f1         : 0.7123708149181346\n",
      "    val_balanced_accuracy: 0.713205392892893\n",
      "    val_precision  : 0.7196034712238123\n",
      "    val_recall     : 0.7127757352941176\n"
     ]
    },
    {
     "name": "stdout",
     "output_type": "stream",
     "text": [
      "Model has not improved in -------------| 104 epochs\n"
     ]
    },
    {
     "name": "stderr",
     "output_type": "stream",
     "text": [
      "    epoch          : 195\n",
      "    loss           : 0.3128606610827976\n",
      "    my_metric      : 0.8655447281959379\n",
      "    f1             : 0.8656452241327757\n",
      "    balanced_accuracy: 0.8668683875556715\n",
      "    precision      : 0.8693100719851387\n",
      "    recall         : 0.8655447281959379\n",
      "    val_loss       : 0.7536996603012085\n",
      "    val_my_metric  : 0.6868106617647058\n",
      "    val_f1         : 0.6867847860104497\n",
      "    val_balanced_accuracy: 0.6851365546218487\n",
      "    val_precision  : 0.6873642255580266\n",
      "    val_recall     : 0.6868106617647058\n"
     ]
    },
    {
     "name": "stdout",
     "output_type": "stream",
     "text": [
      "Model has not improved in -------------| 105 epochs\n"
     ]
    },
    {
     "name": "stderr",
     "output_type": "stream",
     "text": [
      "    epoch          : 196\n",
      "    loss           : 0.33547725280125934\n",
      "    my_metric      : 0.8480622759856631\n",
      "    f1             : 0.8481218926772243\n",
      "    balanced_accuracy: 0.8490864638670836\n",
      "    precision      : 0.8514876833802815\n",
      "    recall         : 0.8480622759856631\n",
      "    val_loss       : 0.7092107534408569\n",
      "    val_my_metric  : 0.7284007352941176\n",
      "    val_f1         : 0.7287779348081671\n",
      "    val_balanced_accuracy: 0.7251509914816366\n",
      "    val_precision  : 0.7300528239495352\n",
      "    val_recall     : 0.7284007352941176\n"
     ]
    },
    {
     "name": "stdout",
     "output_type": "stream",
     "text": [
      "Model has not improved in -------------| 106 epochs\n"
     ]
    },
    {
     "name": "stderr",
     "output_type": "stream",
     "text": [
      "    epoch          : 197\n",
      "    loss           : 0.34382276733716327\n",
      "    my_metric      : 0.8321199223416965\n",
      "    f1             : 0.8319937818247438\n",
      "    balanced_accuracy: 0.8315992754718763\n",
      "    precision      : 0.8343077718531391\n",
      "    recall         : 0.8321199223416965\n",
      "    val_loss       : 0.792683333158493\n",
      "    val_my_metric  : 0.6420036764705883\n",
      "    val_f1         : 0.6412611285773051\n",
      "    val_balanced_accuracy: 0.6473992542419267\n",
      "    val_precision  : 0.6530958408582732\n",
      "    val_recall     : 0.6420036764705883\n"
     ]
    },
    {
     "name": "stdout",
     "output_type": "stream",
     "text": [
      "Model has not improved in -------------| 107 epochs\n"
     ]
    },
    {
     "name": "stderr",
     "output_type": "stream",
     "text": [
      "    epoch          : 198\n",
      "    loss           : 0.3349780837694804\n",
      "    my_metric      : 0.8542600059737157\n",
      "    f1             : 0.8545669459335007\n",
      "    balanced_accuracy: 0.8555952394276125\n",
      "    precision      : 0.8576934145927281\n",
      "    recall         : 0.8542600059737157\n",
      "    val_loss       : 0.6871165931224823\n",
      "    val_my_metric  : 0.7578125\n",
      "    val_f1         : 0.7564303646573819\n",
      "    val_balanced_accuracy: 0.7507417147423728\n",
      "    val_precision  : 0.7573032875050573\n",
      "    val_recall     : 0.7578125\n"
     ]
    },
    {
     "name": "stdout",
     "output_type": "stream",
     "text": [
      "Model has not improved in -------------| 108 epochs\n"
     ]
    },
    {
     "name": "stderr",
     "output_type": "stream",
     "text": [
      "    epoch          : 199\n",
      "    loss           : 0.3319345447752211\n",
      "    my_metric      : 0.8551280615292712\n",
      "    f1             : 0.8549985035299749\n",
      "    balanced_accuracy: 0.8549960460093241\n",
      "    precision      : 0.8587439203715719\n",
      "    recall         : 0.8551280615292712\n",
      "    val_loss       : 0.8539221584796906\n",
      "    val_my_metric  : 0.6399356617647058\n",
      "    val_f1         : 0.6401800142692522\n",
      "    val_balanced_accuracy: 0.6401540021628976\n",
      "    val_precision  : 0.6428750997396901\n",
      "    val_recall     : 0.6399356617647058\n"
     ]
    },
    {
     "name": "stdout",
     "output_type": "stream",
     "text": [
      "Model has not improved in -------------| 109 epochs\n"
     ]
    },
    {
     "name": "stderr",
     "output_type": "stream",
     "text": [
      "    epoch          : 200\n",
      "    loss           : 0.3406749433941311\n",
      "    my_metric      : 0.8486129778972521\n",
      "    f1             : 0.8486117620138028\n",
      "    balanced_accuracy: 0.8491361923323905\n",
      "    precision      : 0.8509562223061855\n",
      "    recall         : 0.8486129778972521\n",
      "    val_loss       : 0.7423896491527557\n",
      "    val_my_metric  : 0.7074908088235294\n",
      "    val_f1         : 0.7081115156691694\n",
      "    val_balanced_accuracy: 0.710660345703755\n",
      "    val_precision  : 0.7144997274477973\n",
      "    val_recall     : 0.7074908088235294\n",
      "Saving checkpoint: saved/MaskedVolume_3d/0620_142107/checkpoint-epoch200.pth ...\n"
     ]
    },
    {
     "name": "stdout",
     "output_type": "stream",
     "text": [
      "Model has not improved in -------------| 110 epochs\n"
     ]
    },
    {
     "name": "stderr",
     "output_type": "stream",
     "text": [
      "    epoch          : 201\n",
      "    loss           : 0.32080430454678005\n",
      "    my_metric      : 0.8647886798088411\n",
      "    f1             : 0.8650379252637912\n",
      "    balanced_accuracy: 0.8666985818713423\n",
      "    precision      : 0.8684931325982959\n",
      "    recall         : 0.8647886798088411\n",
      "    val_loss       : 0.8152274787425995\n",
      "    val_my_metric  : 0.7040441176470589\n",
      "    val_f1         : 0.7042880005271239\n",
      "    val_balanced_accuracy: 0.7126763021924313\n",
      "    val_precision  : 0.7215104373993131\n",
      "    val_recall     : 0.7040441176470589\n"
     ]
    },
    {
     "name": "stdout",
     "output_type": "stream",
     "text": [
      "Model has not improved in -------------| 111 epochs\n"
     ]
    },
    {
     "name": "stderr",
     "output_type": "stream",
     "text": [
      "    epoch          : 202\n",
      "    loss           : 0.33973730934990776\n",
      "    my_metric      : 0.8408004778972521\n",
      "    f1             : 0.8410158605897404\n",
      "    balanced_accuracy: 0.8426996849204836\n",
      "    precision      : 0.8453309330371994\n",
      "    recall         : 0.8408004778972521\n",
      "    val_loss       : 0.8297106921672821\n",
      "    val_my_metric  : 0.6976102941176471\n",
      "    val_f1         : 0.697891135620915\n",
      "    val_balanced_accuracy: 0.6967851798835706\n",
      "    val_precision  : 0.6987562070282658\n",
      "    val_recall     : 0.6976102941176471\n"
     ]
    },
    {
     "name": "stdout",
     "output_type": "stream",
     "text": [
      "Model has not improved in -------------| 112 epochs\n"
     ]
    },
    {
     "name": "stderr",
     "output_type": "stream",
     "text": [
      "    epoch          : 203\n",
      "    loss           : 0.3035756101210912\n",
      "    my_metric      : 0.8682515681003584\n",
      "    f1             : 0.8686551804371789\n",
      "    balanced_accuracy: 0.8706698377898693\n",
      "    precision      : 0.8724994976066307\n",
      "    recall         : 0.8682515681003584\n",
      "    val_loss       : 0.7557147145271301\n",
      "    val_my_metric  : 0.6909466911764706\n",
      "    val_f1         : 0.6882483076076272\n",
      "    val_balanced_accuracy: 0.6829554182376762\n",
      "    val_precision  : 0.6908717814048696\n",
      "    val_recall     : 0.6909466911764706\n"
     ]
    },
    {
     "name": "stdout",
     "output_type": "stream",
     "text": [
      "Model has not improved in -------------| 113 epochs\n"
     ]
    },
    {
     "name": "stderr",
     "output_type": "stream",
     "text": [
      "    epoch          : 204\n",
      "    loss           : 0.29871056146091884\n",
      "    my_metric      : 0.8647886798088411\n",
      "    f1             : 0.864541185407547\n",
      "    balanced_accuracy: 0.8644520151419844\n",
      "    precision      : 0.868199927926902\n",
      "    recall         : 0.8647886798088411\n",
      "    val_loss       : 0.6395905017852783\n",
      "    val_my_metric  : 0.8014705882352942\n",
      "    val_f1         : 0.8014317956129968\n",
      "    val_balanced_accuracy: 0.7999777640941435\n",
      "    val_precision  : 0.8023219814241486\n",
      "    val_recall     : 0.8014705882352942\n"
     ]
    },
    {
     "name": "stdout",
     "output_type": "stream",
     "text": [
      "Model has not improved in -------------| 114 epochs\n"
     ]
    },
    {
     "name": "stderr",
     "output_type": "stream",
     "text": [
      "    epoch          : 205\n",
      "    loss           : 0.2867999209298028\n",
      "    my_metric      : 0.8726011798088411\n",
      "    f1             : 0.872715190949978\n",
      "    balanced_accuracy: 0.8731548501668389\n",
      "    precision      : 0.8747119826334021\n",
      "    recall         : 0.8726011798088411\n",
      "    val_loss       : 0.7733607888221741\n",
      "    val_my_metric  : 0.6838235294117647\n",
      "    val_f1         : 0.6819725617519735\n",
      "    val_balanced_accuracy: 0.6951541591948939\n",
      "    val_precision  : 0.7093215156901846\n",
      "    val_recall     : 0.6838235294117647\n"
     ]
    },
    {
     "name": "stdout",
     "output_type": "stream",
     "text": [
      "Model has not improved in -------------| 115 epochs\n"
     ]
    },
    {
     "name": "stderr",
     "output_type": "stream",
     "text": [
      "    epoch          : 206\n",
      "    loss           : 0.2853467944595549\n",
      "    my_metric      : 0.8878994922341696\n",
      "    f1             : 0.8880399615551642\n",
      "    balanced_accuracy: 0.8895291080080037\n",
      "    precision      : 0.8909848710943241\n",
      "    recall         : 0.8878994922341696\n",
      "    val_loss       : 0.7835388481616974\n",
      "    val_my_metric  : 0.6854319852941176\n",
      "    val_f1         : 0.6859402185235289\n",
      "    val_balanced_accuracy: 0.6853699813258637\n",
      "    val_precision  : 0.687631785981737\n",
      "    val_recall     : 0.6854319852941176\n"
     ]
    },
    {
     "name": "stdout",
     "output_type": "stream",
     "text": [
      "Model has not improved in -------------| 116 epochs\n"
     ]
    },
    {
     "name": "stderr",
     "output_type": "stream",
     "text": [
      "    epoch          : 207\n",
      "    loss           : 0.2884833498133553\n",
      "    my_metric      : 0.8616338112305855\n",
      "    f1             : 0.8616463729523319\n",
      "    balanced_accuracy: 0.8611235072307245\n",
      "    precision      : 0.8628218030795964\n",
      "    recall         : 0.8616338112305855\n",
      "    val_loss       : 0.6818280518054962\n",
      "    val_my_metric  : 0.6980698529411764\n",
      "    val_f1         : 0.697173433443012\n",
      "    val_balanced_accuracy: 0.7004250382678848\n",
      "    val_precision  : 0.7050578404438699\n",
      "    val_recall     : 0.6980698529411764\n"
     ]
    },
    {
     "name": "stdout",
     "output_type": "stream",
     "text": [
      "Model has not improved in -------------| 117 epochs\n"
     ]
    },
    {
     "name": "stderr",
     "output_type": "stream",
     "text": [
      "    epoch          : 208\n",
      "    loss           : 0.3053012556499905\n",
      "    my_metric      : 0.8656567353643967\n",
      "    f1             : 0.8655049209113721\n",
      "    balanced_accuracy: 0.8666925356024839\n",
      "    precision      : 0.871368119671301\n",
      "    recall         : 0.8656567353643967\n",
      "    val_loss       : 0.6855225563049316\n",
      "    val_my_metric  : 0.7690716911764706\n",
      "    val_f1         : 0.7693833029039601\n",
      "    val_balanced_accuracy: 0.7714900246775711\n",
      "    val_precision  : 0.7735220669096085\n",
      "    val_recall     : 0.7690716911764706\n"
     ]
    },
    {
     "name": "stdout",
     "output_type": "stream",
     "text": [
      "Model has not improved in -------------| 118 epochs\n"
     ]
    },
    {
     "name": "stderr",
     "output_type": "stream",
     "text": [
      "    epoch          : 209\n",
      "    loss           : 0.3095994359917111\n",
      "    my_metric      : 0.8586002837514934\n",
      "    f1             : 0.8589833700163213\n",
      "    balanced_accuracy: 0.8615830602216377\n",
      "    precision      : 0.8627554293741663\n",
      "    recall         : 0.8586002837514934\n",
      "    val_loss       : 0.8919307291507721\n",
      "    val_my_metric  : 0.6854319852941176\n",
      "    val_f1         : 0.6842187623721626\n",
      "    val_balanced_accuracy: 0.6765399483476173\n",
      "    val_precision  : 0.6842080907883987\n",
      "    val_recall     : 0.6854319852941176\n"
     ]
    },
    {
     "name": "stdout",
     "output_type": "stream",
     "text": [
      "Model has not improved in -------------| 119 epochs\n"
     ]
    },
    {
     "name": "stderr",
     "output_type": "stream",
     "text": [
      "    epoch          : 210\n",
      "    loss           : 0.3106601751512951\n",
      "    my_metric      : 0.8544746863799283\n",
      "    f1             : 0.8547156208755051\n",
      "    balanced_accuracy: 0.8559855156830262\n",
      "    precision      : 0.857605663316875\n",
      "    recall         : 0.8544746863799283\n",
      "    val_loss       : 0.7006719708442688\n",
      "    val_my_metric  : 0.7628676470588236\n",
      "    val_f1         : 0.762896517791648\n",
      "    val_balanced_accuracy: 0.7630759875334008\n",
      "    val_precision  : 0.7658004561140903\n",
      "    val_recall     : 0.7628676470588236\n"
     ]
    },
    {
     "name": "stdout",
     "output_type": "stream",
     "text": [
      "Model has not improved in -------------| 120 epochs\n"
     ]
    },
    {
     "name": "stderr",
     "output_type": "stream",
     "text": [
      "    epoch          : 211\n",
      "    loss           : 0.2993432896004783\n",
      "    my_metric      : 0.8581709229390682\n",
      "    f1             : 0.8581912798391458\n",
      "    balanced_accuracy: 0.8585463283003693\n",
      "    precision      : 0.8593919214813511\n",
      "    recall         : 0.8581709229390682\n",
      "    val_loss       : 0.7586250901222229\n",
      "    val_my_metric  : 0.6633731617647058\n",
      "    val_f1         : 0.662476662405486\n",
      "    val_balanced_accuracy: 0.6578268266442713\n",
      "    val_precision  : 0.6631806989014541\n",
      "    val_recall     : 0.6633731617647058\n"
     ]
    },
    {
     "name": "stdout",
     "output_type": "stream",
     "text": [
      "Model has not improved in -------------| 121 epochs\n"
     ]
    },
    {
     "name": "stderr",
     "output_type": "stream",
     "text": [
      "    epoch          : 212\n",
      "    loss           : 0.29212996032502914\n",
      "    my_metric      : 0.8719478046594982\n",
      "    f1             : 0.8720268990086721\n",
      "    balanced_accuracy: 0.8724272650651141\n",
      "    precision      : 0.8745991343200669\n",
      "    recall         : 0.8719478046594982\n",
      "    val_loss       : 0.8237967193126678\n",
      "    val_my_metric  : 0.7192095588235294\n",
      "    val_f1         : 0.7187737256940947\n",
      "    val_balanced_accuracy: 0.7359351578863773\n",
      "    val_precision  : 0.7536560081460149\n",
      "    val_recall     : 0.7192095588235294\n"
     ]
    },
    {
     "name": "stdout",
     "output_type": "stream",
     "text": [
      "Model has not improved in -------------| 122 epochs\n"
     ]
    },
    {
     "name": "stderr",
     "output_type": "stream",
     "text": [
      "    epoch          : 213\n",
      "    loss           : 0.2944228599468867\n",
      "    my_metric      : 0.8642379778972521\n",
      "    f1             : 0.8643348280890188\n",
      "    balanced_accuracy: 0.8644697355786343\n",
      "    precision      : 0.8654834302675064\n",
      "    recall         : 0.8642379778972521\n",
      "    val_loss       : 0.9221795499324799\n",
      "    val_my_metric  : 0.5914522058823529\n",
      "    val_f1         : 0.5903906230133178\n",
      "    val_balanced_accuracy: 0.5984158986175115\n",
      "    val_precision  : 0.6092797769214989\n",
      "    val_recall     : 0.5914522058823529\n"
     ]
    },
    {
     "name": "stdout",
     "output_type": "stream",
     "text": [
      "Model has not improved in -------------| 123 epochs\n"
     ]
    },
    {
     "name": "stderr",
     "output_type": "stream",
     "text": [
      "    epoch          : 214\n",
      "    loss           : 0.3246057944165336\n",
      "    my_metric      : 0.862501866786141\n",
      "    f1             : 0.8627626961326046\n",
      "    balanced_accuracy: 0.8646629030862623\n",
      "    precision      : 0.8669171290932483\n",
      "    recall         : 0.862501866786141\n",
      "    val_loss       : 0.7723372578620911\n",
      "    val_my_metric  : 0.7192095588235294\n",
      "    val_f1         : 0.7189568014705883\n",
      "    val_balanced_accuracy: 0.7211909415022832\n",
      "    val_precision  : 0.7260717234506535\n",
      "    val_recall     : 0.7192095588235294\n"
     ]
    },
    {
     "name": "stdout",
     "output_type": "stream",
     "text": [
      "Model has not improved in -------------| 124 epochs\n"
     ]
    },
    {
     "name": "stderr",
     "output_type": "stream",
     "text": [
      "    epoch          : 215\n",
      "    loss           : 0.3233201569981045\n",
      "    my_metric      : 0.8651153673835126\n",
      "    f1             : 0.8653765251734437\n",
      "    balanced_accuracy: 0.8665330827393145\n",
      "    precision      : 0.868176790247725\n",
      "    recall         : 0.8651153673835126\n",
      "    val_loss       : 0.7629015445709229\n",
      "    val_my_metric  : 0.7309283088235294\n",
      "    val_f1         : 0.7309199636639128\n",
      "    val_balanced_accuracy: 0.7231713598901099\n",
      "    val_precision  : 0.7309559721324428\n",
      "    val_recall     : 0.7309283088235294\n"
     ]
    },
    {
     "name": "stdout",
     "output_type": "stream",
     "text": [
      "Model has not improved in -------------| 125 epochs\n"
     ]
    },
    {
     "name": "stderr",
     "output_type": "stream",
     "text": [
      "    epoch          : 216\n",
      "    loss           : 0.28752710421880084\n",
      "    my_metric      : 0.872059811827957\n",
      "    f1             : 0.8721802768897107\n",
      "    balanced_accuracy: 0.8735676009570187\n",
      "    precision      : 0.8750869986736561\n",
      "    recall         : 0.872059811827957\n",
      "    val_loss       : 0.8581978380680084\n",
      "    val_my_metric  : 0.7261029411764706\n",
      "    val_f1         : 0.7263700351935647\n",
      "    val_balanced_accuracy: 0.7305672268907563\n",
      "    val_precision  : 0.7349391480730223\n",
      "    val_recall     : 0.7261029411764706\n"
     ]
    },
    {
     "name": "stdout",
     "output_type": "stream",
     "text": [
      "Model has not improved in -------------| 126 epochs\n"
     ]
    },
    {
     "name": "stderr",
     "output_type": "stream",
     "text": [
      "    epoch          : 217\n",
      "    loss           : 0.290026413069831\n",
      "    my_metric      : 0.8764000896057348\n",
      "    f1             : 0.8765222530768474\n",
      "    balanced_accuracy: 0.8778063189115891\n",
      "    precision      : 0.880084701537486\n",
      "    recall         : 0.8764000896057348\n",
      "    val_loss       : 0.8711033761501312\n",
      "    val_my_metric  : 0.7079503676470589\n",
      "    val_f1         : 0.7095323981895225\n",
      "    val_balanced_accuracy: 0.7083839406207827\n",
      "    val_precision  : 0.7145801402727635\n",
      "    val_recall     : 0.7079503676470589\n"
     ]
    },
    {
     "name": "stdout",
     "output_type": "stream",
     "text": [
      "Model has not improved in -------------| 127 epochs\n"
     ]
    },
    {
     "name": "stderr",
     "output_type": "stream",
     "text": [
      "    epoch          : 218\n",
      "    loss           : 0.3181740707821316\n",
      "    my_metric      : 0.8562107974910395\n",
      "    f1             : 0.8564374937489045\n",
      "    balanced_accuracy: 0.8583236718606461\n",
      "    precision      : 0.860477541465808\n",
      "    recall         : 0.8562107974910395\n",
      "    val_loss       : 0.8652450144290924\n",
      "    val_my_metric  : 0.7113970588235294\n",
      "    val_f1         : 0.7118554369845564\n",
      "    val_balanced_accuracy: 0.7144221075727926\n",
      "    val_precision  : 0.7190086569941105\n",
      "    val_recall     : 0.7113970588235294\n"
     ]
    },
    {
     "name": "stdout",
     "output_type": "stream",
     "text": [
      "Model has not improved in -------------| 128 epochs\n"
     ]
    },
    {
     "name": "stderr",
     "output_type": "stream",
     "text": [
      "    epoch          : 219\n",
      "    loss           : 0.28917334311538273\n",
      "    my_metric      : 0.8706503882915173\n",
      "    f1             : 0.8707634178488153\n",
      "    balanced_accuracy: 0.8718590701955664\n",
      "    precision      : 0.8738018185330003\n",
      "    recall         : 0.8706503882915173\n",
      "    val_loss       : 0.7114153504371643\n",
      "    val_my_metric  : 0.734375\n",
      "    val_f1         : 0.7344562567713977\n",
      "    val_balanced_accuracy: 0.7375615763546798\n",
      "    val_precision  : 0.741072828034035\n",
      "    val_recall     : 0.734375\n"
     ]
    },
    {
     "name": "stdout",
     "output_type": "stream",
     "text": [
      "Model has not improved in -------------| 129 epochs\n"
     ]
    },
    {
     "name": "stderr",
     "output_type": "stream",
     "text": [
      "    epoch          : 220\n",
      "    loss           : 0.2651410268412696\n",
      "    my_metric      : 0.8940878882915173\n",
      "    f1             : 0.8943001151418711\n",
      "    balanced_accuracy: 0.8950722436379492\n",
      "    precision      : 0.8957555242891989\n",
      "    recall         : 0.8940878882915173\n",
      "    val_loss       : 0.8202185332775116\n",
      "    val_my_metric  : 0.7118566176470589\n",
      "    val_f1         : 0.7121540318467569\n",
      "    val_balanced_accuracy: 0.7111168327145221\n",
      "    val_precision  : 0.7127787712834094\n",
      "    val_recall     : 0.7118566176470589\n"
     ]
    },
    {
     "name": "stdout",
     "output_type": "stream",
     "text": [
      "Model has not improved in -------------| 130 epochs\n"
     ]
    },
    {
     "name": "stderr",
     "output_type": "stream",
     "text": [
      "    epoch          : 221\n",
      "    loss           : 0.27849900391366744\n",
      "    my_metric      : 0.8694556451612904\n",
      "    f1             : 0.8694788965627649\n",
      "    balanced_accuracy: 0.8689665177680115\n",
      "    precision      : 0.8702029565744619\n",
      "    recall         : 0.8694556451612904\n",
      "    val_loss       : 0.7495938241481781\n",
      "    val_my_metric  : 0.7378216911764706\n",
      "    val_f1         : 0.7376893607882633\n",
      "    val_balanced_accuracy: 0.742889072874247\n",
      "    val_precision  : 0.7481331417510186\n",
      "    val_recall     : 0.7378216911764706\n"
     ]
    },
    {
     "name": "stdout",
     "output_type": "stream",
     "text": [
      "Model has not improved in -------------| 131 epochs\n"
     ]
    },
    {
     "name": "stderr",
     "output_type": "stream",
     "text": [
      "    epoch          : 222\n",
      "    loss           : 0.2632034768660863\n",
      "    my_metric      : 0.876288082437276\n",
      "    f1             : 0.8763606940130777\n",
      "    balanced_accuracy: 0.8766808035183244\n",
      "    precision      : 0.8778527609096268\n",
      "    recall         : 0.876288082437276\n",
      "    val_loss       : 0.7690379619598389\n",
      "    val_my_metric  : 0.7169117647058824\n",
      "    val_f1         : 0.7178785346526416\n",
      "    val_balanced_accuracy: 0.732732697822212\n",
      "    val_precision  : 0.743692092221504\n",
      "    val_recall     : 0.7169117647058824\n"
     ]
    },
    {
     "name": "stdout",
     "output_type": "stream",
     "text": [
      "Model has not improved in -------------| 132 epochs\n"
     ]
    },
    {
     "name": "stderr",
     "output_type": "stream",
     "text": [
      "    epoch          : 223\n",
      "    loss           : 0.27560679448975456\n",
      "    my_metric      : 0.8706410543608124\n",
      "    f1             : 0.8709536589814972\n",
      "    balanced_accuracy: 0.8723569011242208\n",
      "    precision      : 0.8736938796007736\n",
      "    recall         : 0.8706410543608124\n",
      "    val_loss       : 0.8060442507266998\n",
      "    val_my_metric  : 0.73046875\n",
      "    val_f1         : 0.7302890532345767\n",
      "    val_balanced_accuracy: 0.7276785714285714\n",
      "    val_precision  : 0.7303152612227954\n",
      "    val_recall     : 0.73046875\n"
     ]
    },
    {
     "name": "stdout",
     "output_type": "stream",
     "text": [
      "Model has not improved in -------------| 133 epochs\n"
     ]
    },
    {
     "name": "stderr",
     "output_type": "stream",
     "text": [
      "    epoch          : 224\n",
      "    loss           : 0.3065720664130317\n",
      "    my_metric      : 0.8643499850657109\n",
      "    f1             : 0.8646823668486187\n",
      "    balanced_accuracy: 0.8675571135370155\n",
      "    precision      : 0.8695122007243962\n",
      "    recall         : 0.8643499850657109\n",
      "    val_loss       : 0.8485037088394165\n",
      "    val_my_metric  : 0.7495404411764706\n",
      "    val_f1         : 0.748143255597257\n",
      "    val_balanced_accuracy: 0.7460890462506842\n",
      "    val_precision  : 0.7531164148351648\n",
      "    val_recall     : 0.7495404411764706\n"
     ]
    },
    {
     "name": "stdout",
     "output_type": "stream",
     "text": [
      "Model has not improved in -------------| 134 epochs\n"
     ]
    },
    {
     "name": "stderr",
     "output_type": "stream",
     "text": [
      "    epoch          : 225\n",
      "    loss           : 0.269338877664672\n",
      "    my_metric      : 0.8875821385902031\n",
      "    f1             : 0.8876752142093726\n",
      "    balanced_accuracy: 0.8879297811057602\n",
      "    precision      : 0.8885935290087734\n",
      "    recall         : 0.8875821385902031\n",
      "    val_loss       : 0.9303716421127319\n",
      "    val_my_metric  : 0.6403952205882353\n",
      "    val_f1         : 0.6417478733585646\n",
      "    val_balanced_accuracy: 0.6416221547269934\n",
      "    val_precision  : 0.6474863401802431\n",
      "    val_recall     : 0.6403952205882353\n"
     ]
    },
    {
     "name": "stdout",
     "output_type": "stream",
     "text": [
      "Model has not improved in -------------| 135 epochs\n"
     ]
    },
    {
     "name": "stderr",
     "output_type": "stream",
     "text": [
      "    epoch          : 226\n",
      "    loss           : 0.2904542287190755\n",
      "    my_metric      : 0.8760734020310633\n",
      "    f1             : 0.8761510182685935\n",
      "    balanced_accuracy: 0.8776588654706099\n",
      "    precision      : 0.8798433036222624\n",
      "    recall         : 0.8760734020310633\n",
      "    val_loss       : 0.824964165687561\n",
      "    val_my_metric  : 0.6702665441176471\n",
      "    val_f1         : 0.6708321125205807\n",
      "    val_balanced_accuracy: 0.6746038364943556\n",
      "    val_precision  : 0.6799720333862385\n",
      "    val_recall     : 0.6702665441176471\n"
     ]
    },
    {
     "name": "stdout",
     "output_type": "stream",
     "text": [
      "Model has not improved in -------------| 136 epochs\n"
     ]
    },
    {
     "name": "stderr",
     "output_type": "stream",
     "text": [
      "    epoch          : 227\n",
      "    loss           : 0.2918970932563146\n",
      "    my_metric      : 0.8752053464755077\n",
      "    f1             : 0.8752890917239643\n",
      "    balanced_accuracy: 0.8762685569730684\n",
      "    precision      : 0.8780646292456411\n",
      "    recall         : 0.8752053464755077\n",
      "    val_loss       : 0.9014483392238617\n",
      "    val_my_metric  : 0.6980698529411764\n",
      "    val_f1         : 0.693982169321764\n",
      "    val_balanced_accuracy: 0.7068744164332399\n",
      "    val_precision  : 0.7247011031604055\n",
      "    val_recall     : 0.6980698529411764\n"
     ]
    },
    {
     "name": "stdout",
     "output_type": "stream",
     "text": [
      "Model has not improved in -------------| 137 epochs\n"
     ]
    },
    {
     "name": "stderr",
     "output_type": "stream",
     "text": [
      "    epoch          : 228\n",
      "    loss           : 0.27132756180233425\n",
      "    my_metric      : 0.8824764784946236\n",
      "    f1             : 0.882674344595266\n",
      "    balanced_accuracy: 0.8848491750864372\n",
      "    precision      : 0.8860292916789598\n",
      "    recall         : 0.8824764784946236\n",
      "    val_loss       : 0.8922508060932159\n",
      "    val_my_metric  : 0.6941636029411764\n",
      "    val_f1         : 0.6938791310101347\n",
      "    val_balanced_accuracy: 0.6953173374613003\n",
      "    val_precision  : 0.7013628486919246\n",
      "    val_recall     : 0.6941636029411764\n"
     ]
    },
    {
     "name": "stdout",
     "output_type": "stream",
     "text": [
      "Model has not improved in -------------| 138 epochs\n"
     ]
    },
    {
     "name": "stderr",
     "output_type": "stream",
     "text": [
      "    epoch          : 229\n",
      "    loss           : 0.2943882213698493\n",
      "    my_metric      : 0.8627258811230586\n",
      "    f1             : 0.8631315023162153\n",
      "    balanced_accuracy: 0.8656865797433037\n",
      "    precision      : 0.8673127436464996\n",
      "    recall         : 0.8627258811230586\n",
      "    val_loss       : 0.8029653131961823\n",
      "    val_my_metric  : 0.6659007352941176\n",
      "    val_f1         : 0.6593569933681236\n",
      "    val_balanced_accuracy: 0.678921568627451\n",
      "    val_precision  : 0.7015363766980146\n",
      "    val_recall     : 0.6659007352941176\n"
     ]
    },
    {
     "name": "stdout",
     "output_type": "stream",
     "text": [
      "Model has not improved in -------------| 139 epochs\n"
     ]
    },
    {
     "name": "stderr",
     "output_type": "stream",
     "text": [
      "    epoch          : 230\n",
      "    loss           : 0.2623372822999954\n",
      "    my_metric      : 0.8779121863799283\n",
      "    f1             : 0.8780836357524419\n",
      "    balanced_accuracy: 0.8797685469190845\n",
      "    precision      : 0.882066417313339\n",
      "    recall         : 0.8779121863799283\n",
      "    val_loss       : 0.756129652261734\n",
      "    val_my_metric  : 0.7132352941176471\n",
      "    val_f1         : 0.713858679942081\n",
      "    val_balanced_accuracy: 0.7103477167993297\n",
      "    val_precision  : 0.7152476780185758\n",
      "    val_recall     : 0.7132352941176471\n"
     ]
    },
    {
     "name": "stdout",
     "output_type": "stream",
     "text": [
      "Model has not improved in -------------| 140 epochs\n"
     ]
    },
    {
     "name": "stderr",
     "output_type": "stream",
     "text": [
      "    epoch          : 231\n",
      "    loss           : 0.2490738034248352\n",
      "    my_metric      : 0.8887675477897252\n",
      "    f1             : 0.888838544093988\n",
      "    balanced_accuracy: 0.8889869072006371\n",
      "    precision      : 0.8897628475304832\n",
      "    recall         : 0.8887675477897252\n",
      "    val_loss       : 0.7557688057422638\n",
      "    val_my_metric  : 0.7107077205882353\n",
      "    val_f1         : 0.7104903213043712\n",
      "    val_balanced_accuracy: 0.708622709141612\n",
      "    val_precision  : 0.7104583369806257\n",
      "    val_recall     : 0.7107077205882353\n"
     ]
    },
    {
     "name": "stdout",
     "output_type": "stream",
     "text": [
      "Model has not improved in -------------| 141 epochs\n"
     ]
    },
    {
     "name": "stderr",
     "output_type": "stream",
     "text": [
      "    epoch          : 232\n",
      "    loss           : 0.2536456088225047\n",
      "    my_metric      : 0.8860513739545998\n",
      "    f1             : 0.8861730593794734\n",
      "    balanced_accuracy: 0.8865084686308689\n",
      "    precision      : 0.8875708675096089\n",
      "    recall         : 0.8860513739545998\n",
      "    val_loss       : 0.9121494293212891\n",
      "    val_my_metric  : 0.7339154411764706\n",
      "    val_f1         : 0.734545693277311\n",
      "    val_balanced_accuracy: 0.731955488053049\n",
      "    val_precision  : 0.7360115216511007\n",
      "    val_recall     : 0.7339154411764706\n"
     ]
    },
    {
     "name": "stdout",
     "output_type": "stream",
     "text": [
      "Model has not improved in -------------| 142 epochs\n"
     ]
    },
    {
     "name": "stderr",
     "output_type": "stream",
     "text": [
      "    epoch          : 233\n",
      "    loss           : 0.2632445759243435\n",
      "    my_metric      : 0.8766147700119474\n",
      "    f1             : 0.8766007156638977\n",
      "    balanced_accuracy: 0.8766798471512622\n",
      "    precision      : 0.8780825091075921\n",
      "    recall         : 0.8766147700119474\n",
      "    val_loss       : 0.8257844150066376\n",
      "    val_my_metric  : 0.7118566176470589\n",
      "    val_f1         : 0.7115063986660237\n",
      "    val_balanced_accuracy: 0.7102310823754789\n",
      "    val_precision  : 0.7132608619038598\n",
      "    val_recall     : 0.7118566176470589\n"
     ]
    },
    {
     "name": "stdout",
     "output_type": "stream",
     "text": [
      "Model has not improved in -------------| 143 epochs\n"
     ]
    },
    {
     "name": "stderr",
     "output_type": "stream",
     "text": [
      "    epoch          : 234\n",
      "    loss           : 0.26099128855599296\n",
      "    my_metric      : 0.8961506869772998\n",
      "    f1             : 0.8961443274864455\n",
      "    balanced_accuracy: 0.8956538102894755\n",
      "    precision      : 0.8981310588576823\n",
      "    recall         : 0.8961506869772998\n",
      "    val_loss       : 0.8757168352603912\n",
      "    val_my_metric  : 0.73828125\n",
      "    val_f1         : 0.7396045716538782\n",
      "    val_balanced_accuracy: 0.7437757554945055\n",
      "    val_precision  : 0.7510164656198756\n",
      "    val_recall     : 0.73828125\n"
     ]
    },
    {
     "name": "stdout",
     "output_type": "stream",
     "text": [
      "Model has not improved in -------------| 144 epochs\n"
     ]
    },
    {
     "name": "stderr",
     "output_type": "stream",
     "text": [
      "    epoch          : 235\n",
      "    loss           : 0.27675798700915444\n",
      "    my_metric      : 0.8937612007168458\n",
      "    f1             : 0.8938044798840397\n",
      "    balanced_accuracy: 0.894918483546489\n",
      "    precision      : 0.8965863481664533\n",
      "    recall         : 0.8937612007168458\n",
      "    val_loss       : 0.8112302124500275\n",
      "    val_my_metric  : 0.7231158088235294\n",
      "    val_f1         : 0.7231422878311631\n",
      "    val_balanced_accuracy: 0.7188425150118699\n",
      "    val_precision  : 0.723212153451124\n",
      "    val_recall     : 0.7231158088235294\n"
     ]
    },
    {
     "name": "stdout",
     "output_type": "stream",
     "text": [
      "Model has not improved in -------------| 145 epochs\n"
     ]
    },
    {
     "name": "stderr",
     "output_type": "stream",
     "text": [
      "    epoch          : 236\n",
      "    loss           : 0.277229615383678\n",
      "    my_metric      : 0.8719478046594982\n",
      "    f1             : 0.8722160933840591\n",
      "    balanced_accuracy: 0.8745683393000463\n",
      "    precision      : 0.8760068891494158\n",
      "    recall         : 0.8719478046594982\n",
      "    val_loss       : 0.8717386722564697\n",
      "    val_my_metric  : 0.7318474264705883\n",
      "    val_f1         : 0.732901603329158\n",
      "    val_balanced_accuracy: 0.732481496997626\n",
      "    val_precision  : 0.7364315117072471\n",
      "    val_recall     : 0.7318474264705883\n"
     ]
    },
    {
     "name": "stdout",
     "output_type": "stream",
     "text": [
      "Model has not improved in -------------| 146 epochs\n"
     ]
    },
    {
     "name": "stderr",
     "output_type": "stream",
     "text": [
      "    epoch          : 237\n",
      "    loss           : 0.23536075982782576\n",
      "    my_metric      : 0.917096027479092\n",
      "    f1             : 0.9171183727406316\n",
      "    balanced_accuracy: 0.9177602742184239\n",
      "    precision      : 0.9195617101083191\n",
      "    recall         : 0.917096027479092\n",
      "    val_loss       : 0.9787009060382843\n",
      "    val_my_metric  : 0.6217830882352942\n",
      "    val_f1         : 0.6208553233577121\n",
      "    val_balanced_accuracy: 0.6201927681992336\n",
      "    val_precision  : 0.6238381259580263\n",
      "    val_recall     : 0.6217830882352942\n"
     ]
    },
    {
     "name": "stdout",
     "output_type": "stream",
     "text": [
      "Model has not improved in -------------| 147 epochs\n"
     ]
    },
    {
     "name": "stderr",
     "output_type": "stream",
     "text": [
      "    epoch          : 238\n",
      "    loss           : 0.22700111402405632\n",
      "    my_metric      : 0.9027684438470729\n",
      "    f1             : 0.9028961361349074\n",
      "    balanced_accuracy: 0.9045612953936215\n",
      "    precision      : 0.9061288471515514\n",
      "    recall         : 0.9027684438470729\n",
      "    val_loss       : 0.9166200757026672\n",
      "    val_my_metric  : 0.6721047794117647\n",
      "    val_f1         : 0.6716789683430624\n",
      "    val_balanced_accuracy: 0.6780679291057349\n",
      "    val_precision  : 0.6849037561123958\n",
      "    val_recall     : 0.6721047794117647\n"
     ]
    },
    {
     "name": "stdout",
     "output_type": "stream",
     "text": [
      "Model has not improved in -------------| 148 epochs\n"
     ]
    },
    {
     "name": "stderr",
     "output_type": "stream",
     "text": [
      "    epoch          : 239\n",
      "    loss           : 0.2735445350408554\n",
      "    my_metric      : 0.8771561379928315\n",
      "    f1             : 0.8774141519559697\n",
      "    balanced_accuracy: 0.8808179712946176\n",
      "    precision      : 0.8843046715892275\n",
      "    recall         : 0.8771561379928315\n",
      "    val_loss       : 0.8006511628627777\n",
      "    val_my_metric  : 0.7529871323529411\n",
      "    val_f1         : 0.7511526449773465\n",
      "    val_balanced_accuracy: 0.7425391916566597\n",
      "    val_precision  : 0.7520027737657563\n",
      "    val_recall     : 0.7529871323529411\n"
     ]
    },
    {
     "name": "stdout",
     "output_type": "stream",
     "text": [
      "Model has not improved in -------------| 149 epochs\n"
     ]
    },
    {
     "name": "stderr",
     "output_type": "stream",
     "text": [
      "    epoch          : 240\n",
      "    loss           : 0.22800405323505402\n",
      "    my_metric      : 0.9013590203106331\n",
      "    f1             : 0.9015083530459458\n",
      "    balanced_accuracy: 0.9032265488682177\n",
      "    precision      : 0.903636374534331\n",
      "    recall         : 0.9013590203106331\n",
      "    val_loss       : 0.7614819407463074\n",
      "    val_my_metric  : 0.7690716911764706\n",
      "    val_f1         : 0.7670458150897901\n",
      "    val_balanced_accuracy: 0.7628092903828197\n",
      "    val_precision  : 0.7716957509020779\n",
      "    val_recall     : 0.7690716911764706\n"
     ]
    },
    {
     "name": "stdout",
     "output_type": "stream",
     "text": [
      "Model has not improved in -------------| 150 epochs\n"
     ]
    },
    {
     "name": "stderr",
     "output_type": "stream",
     "text": [
      "    epoch          : 241\n",
      "    loss           : 0.25746964911619824\n",
      "    my_metric      : 0.8866020758661888\n",
      "    f1             : 0.8868375320885082\n",
      "    balanced_accuracy: 0.8895539851882904\n",
      "    precision      : 0.8910535454326988\n",
      "    recall         : 0.8866020758661888\n",
      "    val_loss       : 0.7770655453205109\n",
      "    val_my_metric  : 0.7231158088235294\n",
      "    val_f1         : 0.7233201757516596\n",
      "    val_balanced_accuracy: 0.7251440059816635\n",
      "    val_precision  : 0.7282092034116734\n",
      "    val_recall     : 0.7231158088235294\n"
     ]
    },
    {
     "name": "stdout",
     "output_type": "stream",
     "text": [
      "Model has not improved in -------------| 151 epochs\n"
     ]
    },
    {
     "name": "stderr",
     "output_type": "stream",
     "text": [
      "    epoch          : 242\n",
      "    loss           : 0.2628697057565053\n",
      "    my_metric      : 0.887684811827957\n",
      "    f1             : 0.8878492270146244\n",
      "    balanced_accuracy: 0.8897326738444852\n",
      "    precision      : 0.8906822288503916\n",
      "    recall         : 0.887684811827957\n",
      "    val_loss       : 1.0584819614887238\n",
      "    val_my_metric  : 0.7136948529411764\n",
      "    val_f1         : 0.7140019295020499\n",
      "    val_balanced_accuracy: 0.7177871148459385\n",
      "    val_precision  : 0.7212097338935575\n",
      "    val_recall     : 0.7136948529411764\n"
     ]
    },
    {
     "name": "stdout",
     "output_type": "stream",
     "text": [
      "Model has not improved in -------------| 152 epochs\n"
     ]
    },
    {
     "name": "stderr",
     "output_type": "stream",
     "text": [
      "    epoch          : 243\n",
      "    loss           : 0.234730902645323\n",
      "    my_metric      : 0.8892062425328553\n",
      "    f1             : 0.8895638866720313\n",
      "    balanced_accuracy: 0.8934272505078211\n",
      "    precision      : 0.8954098321318639\n",
      "    recall         : 0.8892062425328553\n",
      "    val_loss       : 0.9360855221748352\n",
      "    val_my_metric  : 0.7274816176470589\n",
      "    val_f1         : 0.7278328507052876\n",
      "    val_balanced_accuracy: 0.7277307402846196\n",
      "    val_precision  : 0.7290561954253842\n",
      "    val_recall     : 0.7274816176470589\n"
     ]
    },
    {
     "name": "stdout",
     "output_type": "stream",
     "text": [
      "Model has not improved in -------------| 153 epochs\n"
     ]
    },
    {
     "name": "stderr",
     "output_type": "stream",
     "text": [
      "    epoch          : 244\n",
      "    loss           : 0.2644306884871589\n",
      "    my_metric      : 0.8734692353643967\n",
      "    f1             : 0.8740226000290723\n",
      "    balanced_accuracy: 0.8769072441805164\n",
      "    precision      : 0.8802558269748777\n",
      "    recall         : 0.8734692353643967\n",
      "    val_loss       : 0.8181992471218109\n",
      "    val_my_metric  : 0.6927849264705883\n",
      "    val_f1         : 0.6948233769092569\n",
      "    val_balanced_accuracy: 0.692300768872777\n",
      "    val_precision  : 0.7008024149475613\n",
      "    val_recall     : 0.6927849264705883\n"
     ]
    },
    {
     "name": "stdout",
     "output_type": "stream",
     "text": [
      "Model has not improved in -------------| 154 epochs\n"
     ]
    },
    {
     "name": "stderr",
     "output_type": "stream",
     "text": [
      "    epoch          : 245\n",
      "    loss           : 0.22109217445055643\n",
      "    my_metric      : 0.9054846176821982\n",
      "    f1             : 0.9056724018038526\n",
      "    balanced_accuracy: 0.9078161236708664\n",
      "    precision      : 0.9082267515378081\n",
      "    recall         : 0.9054846176821982\n",
      "    val_loss       : 0.9659334719181061\n",
      "    val_my_metric  : 0.7431066176470589\n",
      "    val_f1         : 0.7420378294760526\n",
      "    val_balanced_accuracy: 0.7395392278953923\n",
      "    val_precision  : 0.7449448529411764\n",
      "    val_recall     : 0.7431066176470589\n"
     ]
    },
    {
     "name": "stdout",
     "output_type": "stream",
     "text": [
      "Model has not improved in -------------| 155 epochs\n"
     ]
    },
    {
     "name": "stderr",
     "output_type": "stream",
     "text": [
      "    epoch          : 246\n",
      "    loss           : 0.24343093401855892\n",
      "    my_metric      : 0.8914837216248507\n",
      "    f1             : 0.8916110206928719\n",
      "    balanced_accuracy: 0.8929756178486237\n",
      "    precision      : 0.8944077202237823\n",
      "    recall         : 0.8914837216248507\n",
      "    val_loss       : 1.100373089313507\n",
      "    val_my_metric  : 0.6456801470588236\n",
      "    val_f1         : 0.6415236928104575\n",
      "    val_balanced_accuracy: 0.6702438186813187\n",
      "    val_precision  : 0.6972806250299857\n",
      "    val_recall     : 0.6456801470588236\n"
     ]
    },
    {
     "name": "stdout",
     "output_type": "stream",
     "text": [
      "Model has not improved in -------------| 156 epochs\n"
     ]
    },
    {
     "name": "stderr",
     "output_type": "stream",
     "text": [
      "    epoch          : 247\n",
      "    loss           : 0.27214597331153023\n",
      "    my_metric      : 0.8754200268817205\n",
      "    f1             : 0.8757027134021399\n",
      "    balanced_accuracy: 0.8775953929563199\n",
      "    precision      : 0.8788662512364194\n",
      "    recall         : 0.8754200268817205\n",
      "    val_loss       : 0.9252583682537079\n",
      "    val_my_metric  : 0.7495404411764706\n",
      "    val_f1         : 0.7495495619576502\n",
      "    val_balanced_accuracy: 0.7541018328333801\n",
      "    val_precision  : 0.7587350154614714\n",
      "    val_recall     : 0.7495404411764706\n"
     ]
    },
    {
     "name": "stdout",
     "output_type": "stream",
     "text": [
      "Model has not improved in -------------| 157 epochs\n"
     ]
    },
    {
     "name": "stderr",
     "output_type": "stream",
     "text": [
      "    epoch          : 248\n",
      "    loss           : 0.24831217030684152\n",
      "    my_metric      : 0.893117159498208\n",
      "    f1             : 0.8931336631026734\n",
      "    balanced_accuracy: 0.8933888346090882\n",
      "    precision      : 0.894927258884466\n",
      "    recall         : 0.893117159498208\n",
      "    val_loss       : 0.8320419192314148\n",
      "    val_my_metric  : 0.75\n",
      "    val_f1         : 0.7494041117902224\n",
      "    val_balanced_accuracy: 0.753026463963964\n",
      "    val_precision  : 0.7619878845847281\n",
      "    val_recall     : 0.75\n"
     ]
    },
    {
     "name": "stdout",
     "output_type": "stream",
     "text": [
      "Model has not improved in -------------| 158 epochs\n"
     ]
    },
    {
     "name": "stderr",
     "output_type": "stream",
     "text": [
      "    epoch          : 249\n",
      "    loss           : 0.2519053452544742\n",
      "    my_metric      : 0.8843152628434887\n",
      "    f1             : 0.8843369910704676\n",
      "    balanced_accuracy: 0.8850719452680916\n",
      "    precision      : 0.8857992921251474\n",
      "    recall         : 0.8843152628434887\n",
      "    val_loss       : 0.9207407236099243\n",
      "    val_my_metric  : 0.7132352941176471\n",
      "    val_f1         : 0.7151496260936316\n",
      "    val_balanced_accuracy: 0.7213357185450209\n",
      "    val_precision  : 0.7363099442178244\n",
      "    val_recall     : 0.7132352941176471\n"
     ]
    },
    {
     "name": "stdout",
     "output_type": "stream",
     "text": [
      "Model has not improved in -------------| 159 epochs\n"
     ]
    },
    {
     "name": "stderr",
     "output_type": "stream",
     "text": [
      "    epoch          : 250\n",
      "    loss           : 0.26483970549371505\n",
      "    my_metric      : 0.8795456242532855\n",
      "    f1             : 0.8794379410345052\n",
      "    balanced_accuracy: 0.8785948105893833\n",
      "    precision      : 0.8803961421005645\n",
      "    recall         : 0.8795456242532855\n",
      "    val_loss       : 0.8611097931861877\n",
      "    val_my_metric  : 0.6755514705882353\n",
      "    val_f1         : 0.6700145853871802\n",
      "    val_balanced_accuracy: 0.6653766769865841\n",
      "    val_precision  : 0.6811047140542736\n",
      "    val_recall     : 0.6755514705882353\n"
     ]
    },
    {
     "name": "stdout",
     "output_type": "stream",
     "text": [
      "Model has not improved in -------------| 160 epochs\n"
     ]
    },
    {
     "name": "stderr",
     "output_type": "stream",
     "text": [
      "    epoch          : 251\n",
      "    loss           : 0.22332327564557394\n",
      "    my_metric      : 0.899622909199522\n",
      "    f1             : 0.8997704428162597\n",
      "    balanced_accuracy: 0.9008991984585959\n",
      "    precision      : 0.9020272748682743\n",
      "    recall         : 0.899622909199522\n",
      "    val_loss       : 0.8642466068267822\n",
      "    val_my_metric  : 0.7054227941176471\n",
      "    val_f1         : 0.7022987165826764\n",
      "    val_balanced_accuracy: 0.7010782397735696\n",
      "    val_precision  : 0.7091256843139526\n",
      "    val_recall     : 0.7054227941176471\n"
     ]
    },
    {
     "name": "stdout",
     "output_type": "stream",
     "text": [
      "Model has not improved in -------------| 161 epochs\n"
     ]
    },
    {
     "name": "stderr",
     "output_type": "stream",
     "text": [
      "    epoch          : 252\n",
      "    loss           : 0.23884639475080702\n",
      "    my_metric      : 0.9083034647550776\n",
      "    f1             : 0.9082848263365055\n",
      "    balanced_accuracy: 0.9094903000759536\n",
      "    precision      : 0.9115278726811056\n",
      "    recall         : 0.9083034647550776\n",
      "    val_loss       : 0.8910584151744843\n",
      "    val_my_metric  : 0.7261029411764706\n",
      "    val_f1         : 0.7244758933661797\n",
      "    val_balanced_accuracy: 0.7203522504892368\n",
      "    val_precision  : 0.7270516655505083\n",
      "    val_recall     : 0.7261029411764706\n"
     ]
    },
    {
     "name": "stdout",
     "output_type": "stream",
     "text": [
      "Model has not improved in -------------| 162 epochs\n"
     ]
    },
    {
     "name": "stderr",
     "output_type": "stream",
     "text": [
      "    epoch          : 253\n",
      "    loss           : 0.24534979462623596\n",
      "    my_metric      : 0.8952826314217442\n",
      "    f1             : 0.895303906690891\n",
      "    balanced_accuracy: 0.8960205356032911\n",
      "    precision      : 0.8977660679180222\n",
      "    recall         : 0.8952826314217442\n",
      "    val_loss       : 0.9290193915367126\n",
      "    val_my_metric  : 0.6732536764705883\n",
      "    val_f1         : 0.6748083681411589\n",
      "    val_balanced_accuracy: 0.6756238553113553\n",
      "    val_precision  : 0.6832214998068193\n",
      "    val_recall     : 0.6732536764705883\n"
     ]
    },
    {
     "name": "stdout",
     "output_type": "stream",
     "text": [
      "Model has not improved in -------------| 163 epochs\n"
     ]
    },
    {
     "name": "stderr",
     "output_type": "stream",
     "text": [
      "    epoch          : 254\n",
      "    loss           : 0.25463226106431747\n",
      "    my_metric      : 0.8844272700119474\n",
      "    f1             : 0.884638678025443\n",
      "    balanced_accuracy: 0.8866470443527457\n",
      "    precision      : 0.8888331694272319\n",
      "    recall         : 0.8844272700119474\n",
      "    val_loss       : 0.8998187184333801\n",
      "    val_my_metric  : 0.7079503676470589\n",
      "    val_f1         : 0.7083207595755704\n",
      "    val_balanced_accuracy: 0.711984004127967\n",
      "    val_precision  : 0.7160470668973693\n",
      "    val_recall     : 0.7079503676470589\n"
     ]
    },
    {
     "name": "stdout",
     "output_type": "stream",
     "text": [
      "Model has not improved in -------------| 164 epochs\n"
     ]
    },
    {
     "name": "stderr",
     "output_type": "stream",
     "text": [
      "    epoch          : 255\n",
      "    loss           : 0.2636225355996026\n",
      "    my_metric      : 0.8833445340501792\n",
      "    f1             : 0.8833914897064609\n",
      "    balanced_accuracy: 0.8842227684264051\n",
      "    precision      : 0.8859073016157747\n",
      "    recall         : 0.8833445340501792\n",
      "    val_loss       : 1.154600977897644\n",
      "    val_my_metric  : 0.6707261029411764\n",
      "    val_f1         : 0.668525386642252\n",
      "    val_balanced_accuracy: 0.6653981304092498\n",
      "    val_precision  : 0.6710659849877451\n",
      "    val_recall     : 0.6707261029411764\n"
     ]
    },
    {
     "name": "stdout",
     "output_type": "stream",
     "text": [
      "Model has not improved in -------------| 165 epochs\n"
     ]
    },
    {
     "name": "stderr",
     "output_type": "stream",
     "text": [
      "    epoch          : 256\n",
      "    loss           : 0.2575466169251336\n",
      "    my_metric      : 0.8842125896057348\n",
      "    f1             : 0.8843219141682906\n",
      "    balanced_accuracy: 0.8851936996638082\n",
      "    precision      : 0.8860486347541559\n",
      "    recall         : 0.8842125896057348\n",
      "    val_loss       : 1.0140118300914764\n",
      "    val_my_metric  : 0.6364889705882353\n",
      "    val_f1         : 0.6366494281430272\n",
      "    val_balanced_accuracy: 0.6479904920136205\n",
      "    val_precision  : 0.6595704924740429\n",
      "    val_recall     : 0.6364889705882353\n"
     ]
    },
    {
     "name": "stdout",
     "output_type": "stream",
     "text": [
      "Model has not improved in -------------| 166 epochs\n"
     ]
    },
    {
     "name": "stderr",
     "output_type": "stream",
     "text": [
      "    epoch          : 257\n",
      "    loss           : 0.2664211822880639\n",
      "    my_metric      : 0.8935371863799282\n",
      "    f1             : 0.8935819611127618\n",
      "    balanced_accuracy: 0.8944476491055815\n",
      "    precision      : 0.8967232807677159\n",
      "    recall         : 0.8935371863799282\n",
      "    val_loss       : 0.964323878288269\n",
      "    val_my_metric  : 0.7079503676470589\n",
      "    val_f1         : 0.7050532632109414\n",
      "    val_balanced_accuracy: 0.6980831590190111\n",
      "    val_precision  : 0.7072928188794457\n",
      "    val_recall     : 0.7079503676470589\n"
     ]
    },
    {
     "name": "stdout",
     "output_type": "stream",
     "text": [
      "Model has not improved in -------------| 167 epochs\n"
     ]
    },
    {
     "name": "stderr",
     "output_type": "stream",
     "text": [
      "    epoch          : 258\n",
      "    loss           : 0.24989231758647495\n",
      "    my_metric      : 0.8766147700119474\n",
      "    f1             : 0.8767808578474816\n",
      "    balanced_accuracy: 0.8778207883588455\n",
      "    precision      : 0.8790103020328279\n",
      "    recall         : 0.8766147700119474\n",
      "    val_loss       : 0.9927875697612762\n",
      "    val_my_metric  : 0.6937040441176471\n",
      "    val_f1         : 0.6941928357766276\n",
      "    val_balanced_accuracy: 0.693890056022409\n",
      "    val_precision  : 0.6957637379639892\n",
      "    val_recall     : 0.6937040441176471\n"
     ]
    },
    {
     "name": "stdout",
     "output_type": "stream",
     "text": [
      "Model has not improved in -------------| 168 epochs\n"
     ]
    },
    {
     "name": "stderr",
     "output_type": "stream",
     "text": [
      "    epoch          : 259\n",
      "    loss           : 0.24563548465569815\n",
      "    my_metric      : 0.8812817353643967\n",
      "    f1             : 0.8815066894084983\n",
      "    balanced_accuracy: 0.8822784972348545\n",
      "    precision      : 0.8833801952201041\n",
      "    recall         : 0.8812817353643967\n",
      "    val_loss       : 0.8440601825714111\n",
      "    val_my_metric  : 0.7118566176470589\n",
      "    val_f1         : 0.7122740607167388\n",
      "    val_balanced_accuracy: 0.714266891276186\n",
      "    val_precision  : 0.7168461701398561\n",
      "    val_recall     : 0.7118566176470589\n"
     ]
    },
    {
     "name": "stdout",
     "output_type": "stream",
     "text": [
      "Model has not improved in -------------| 169 epochs\n"
     ]
    },
    {
     "name": "stderr",
     "output_type": "stream",
     "text": [
      "    epoch          : 260\n",
      "    loss           : 0.24984093672699398\n",
      "    my_metric      : 0.8796482974910395\n",
      "    f1             : 0.879871242347766\n",
      "    balanced_accuracy: 0.8820666411902413\n",
      "    precision      : 0.8845832831988542\n",
      "    recall         : 0.8796482974910395\n",
      "    val_loss       : 0.8691001832485199\n",
      "    val_my_metric  : 0.7295496323529411\n",
      "    val_f1         : 0.7301047792259847\n",
      "    val_balanced_accuracy: 0.7309921670509911\n",
      "    val_precision  : 0.7332131876760968\n",
      "    val_recall     : 0.7295496323529411\n"
     ]
    },
    {
     "name": "stdout",
     "output_type": "stream",
     "text": [
      "Model has not improved in -------------| 170 epochs\n"
     ]
    },
    {
     "name": "stderr",
     "output_type": "stream",
     "text": [
      "    epoch          : 261\n",
      "    loss           : 0.22770009603765276\n",
      "    my_metric      : 0.8978867980884109\n",
      "    f1             : 0.8979479094869516\n",
      "    balanced_accuracy: 0.8988971116585959\n",
      "    precision      : 0.9006242445385931\n",
      "    recall         : 0.8978867980884109\n",
      "    val_loss       : 1.0232465863227844\n",
      "    val_my_metric  : 0.6829044117647058\n",
      "    val_f1         : 0.6818121365114962\n",
      "    val_balanced_accuracy: 0.6901858832231809\n",
      "    val_precision  : 0.6986010571428164\n",
      "    val_recall     : 0.6829044117647058\n"
     ]
    },
    {
     "name": "stdout",
     "output_type": "stream",
     "text": [
      "Model has not improved in -------------| 171 epochs\n"
     ]
    },
    {
     "name": "stderr",
     "output_type": "stream",
     "text": [
      "    epoch          : 262\n",
      "    loss           : 0.24951505661010742\n",
      "    my_metric      : 0.891913082437276\n",
      "    f1             : 0.8920713649720659\n",
      "    balanced_accuracy: 0.8930343685291137\n",
      "    precision      : 0.8942955199948689\n",
      "    recall         : 0.891913082437276\n",
      "    val_loss       : 1.0386850535869598\n",
      "    val_my_metric  : 0.6217830882352942\n",
      "    val_f1         : 0.6222850977446797\n",
      "    val_balanced_accuracy: 0.6285016059209608\n",
      "    val_precision  : 0.6373996918314696\n",
      "    val_recall     : 0.6217830882352942\n"
     ]
    },
    {
     "name": "stdout",
     "output_type": "stream",
     "text": [
      "Model has not improved in -------------| 172 epochs\n"
     ]
    },
    {
     "name": "stderr",
     "output_type": "stream",
     "text": [
      "    epoch          : 263\n",
      "    loss           : 0.2425867435004976\n",
      "    my_metric      : 0.8925664575866189\n",
      "    f1             : 0.8922487537661267\n",
      "    balanced_accuracy: 0.8913593682246798\n",
      "    precision      : 0.8961664710334405\n",
      "    recall         : 0.8925664575866189\n",
      "    val_loss       : 0.9390982389450073\n",
      "    val_my_metric  : 0.7348345588235294\n",
      "    val_f1         : 0.7335139805861175\n",
      "    val_balanced_accuracy: 0.729437564499484\n",
      "    val_precision  : 0.7349932937871743\n",
      "    val_recall     : 0.7348345588235294\n"
     ]
    },
    {
     "name": "stdout",
     "output_type": "stream",
     "text": [
      "Model has not improved in -------------| 173 epochs\n"
     ]
    },
    {
     "name": "stderr",
     "output_type": "stream",
     "text": [
      "    epoch          : 264\n",
      "    loss           : 0.24053017629517448\n",
      "    my_metric      : 0.8954973118279569\n",
      "    f1             : 0.8955596630451961\n",
      "    balanced_accuracy: 0.8965729856685714\n",
      "    precision      : 0.8974333077717301\n",
      "    recall         : 0.8954973118279569\n",
      "    val_loss       : 1.0693922936916351\n",
      "    val_my_metric  : 0.6686580882352942\n",
      "    val_f1         : 0.6677547041297558\n",
      "    val_balanced_accuracy: 0.674262794198139\n",
      "    val_precision  : 0.6798572064767552\n",
      "    val_recall     : 0.6686580882352942\n"
     ]
    },
    {
     "name": "stdout",
     "output_type": "stream",
     "text": [
      "Model has not improved in -------------| 174 epochs\n"
     ]
    },
    {
     "name": "stderr",
     "output_type": "stream",
     "text": [
      "    epoch          : 265\n",
      "    loss           : 0.2207464575767517\n",
      "    my_metric      : 0.9029831242532855\n",
      "    f1             : 0.9030419804916594\n",
      "    balanced_accuracy: 0.9042346061681701\n",
      "    precision      : 0.9058087250265489\n",
      "    recall         : 0.9029831242532855\n",
      "    val_loss       : 0.9632568955421448\n",
      "    val_my_metric  : 0.7171415441176471\n",
      "    val_f1         : 0.7174892348971218\n",
      "    val_balanced_accuracy: 0.7167434211019444\n",
      "    val_precision  : 0.7184674509008149\n",
      "    val_recall     : 0.7171415441176471\n"
     ]
    },
    {
     "name": "stdout",
     "output_type": "stream",
     "text": [
      "Model has not improved in -------------| 175 epochs\n"
     ]
    },
    {
     "name": "stderr",
     "output_type": "stream",
     "text": [
      "    epoch          : 266\n",
      "    loss           : 0.25584163930681014\n",
      "    my_metric      : 0.884100582437276\n",
      "    f1             : 0.884212188322669\n",
      "    balanced_accuracy: 0.8860154602535196\n",
      "    precision      : 0.8882089835640481\n",
      "    recall         : 0.884100582437276\n",
      "    val_loss       : 0.9942152500152588\n",
      "    val_my_metric  : 0.7079503676470589\n",
      "    val_f1         : 0.7081572531094198\n",
      "    val_balanced_accuracy: 0.7157582959663569\n",
      "    val_precision  : 0.7232587154927761\n",
      "    val_recall     : 0.7079503676470589\n"
     ]
    },
    {
     "name": "stdout",
     "output_type": "stream",
     "text": [
      "Model has not improved in -------------| 176 epochs\n"
     ]
    },
    {
     "name": "stderr",
     "output_type": "stream",
     "text": [
      "    epoch          : 267\n",
      "    loss           : 0.2284243471092648\n",
      "    my_metric      : 0.8992962216248507\n",
      "    f1             : 0.8997956148281249\n",
      "    balanced_accuracy: 0.9035152183261695\n",
      "    precision      : 0.9060862954375987\n",
      "    recall         : 0.8992962216248507\n",
      "    val_loss       : 0.9301930963993073\n",
      "    val_my_metric  : 0.7102481617647058\n",
      "    val_f1         : 0.7100622358894418\n",
      "    val_balanced_accuracy: 0.709236197592362\n",
      "    val_precision  : 0.712176039918383\n",
      "    val_recall     : 0.7102481617647058\n"
     ]
    },
    {
     "name": "stdout",
     "output_type": "stream",
     "text": [
      "Model has not improved in -------------| 177 epochs\n"
     ]
    },
    {
     "name": "stderr",
     "output_type": "stream",
     "text": [
      "    epoch          : 268\n",
      "    loss           : 0.2381562756167518\n",
      "    my_metric      : 0.8816084229390682\n",
      "    f1             : 0.8816246888391492\n",
      "    balanced_accuracy: 0.8817557819909795\n",
      "    precision      : 0.8826226526093398\n",
      "    recall         : 0.8816084229390682\n",
      "    val_loss       : 0.9449560642242432\n",
      "    val_my_metric  : 0.6746323529411764\n",
      "    val_f1         : 0.6751284935616038\n",
      "    val_balanced_accuracy: 0.6754050619506513\n",
      "    val_precision  : 0.677275355843695\n",
      "    val_recall     : 0.6746323529411764\n"
     ]
    },
    {
     "name": "stdout",
     "output_type": "stream",
     "text": [
      "Model has not improved in -------------| 178 epochs\n"
     ]
    },
    {
     "name": "stderr",
     "output_type": "stream",
     "text": [
      "    epoch          : 269\n",
      "    loss           : 0.2244341406557295\n",
      "    my_metric      : 0.906894041218638\n",
      "    f1             : 0.9070523265859298\n",
      "    balanced_accuracy: 0.9085003900826738\n",
      "    precision      : 0.9088547503567942\n",
      "    recall         : 0.906894041218638\n",
      "    val_loss       : 1.112996757030487\n",
      "    val_my_metric  : 0.6819852941176471\n",
      "    val_f1         : 0.6756611795912\n",
      "    val_balanced_accuracy: 0.6724458204334365\n",
      "    val_precision  : 0.688247230710466\n",
      "    val_recall     : 0.6819852941176471\n"
     ]
    },
    {
     "name": "stdout",
     "output_type": "stream",
     "text": [
      "Model has not improved in -------------| 179 epochs\n"
     ]
    },
    {
     "name": "stderr",
     "output_type": "stream",
     "text": [
      "    epoch          : 270\n",
      "    loss           : 0.22489588293764326\n",
      "    my_metric      : 0.8989695340501791\n",
      "    f1             : 0.8991496216377907\n",
      "    balanced_accuracy: 0.9002972102446358\n",
      "    precision      : 0.9021747540245837\n",
      "    recall         : 0.8989695340501791\n",
      "    val_loss       : 0.9082584083080292\n",
      "    val_my_metric  : 0.7015165441176471\n",
      "    val_f1         : 0.6999233688253528\n",
      "    val_balanced_accuracy: 0.6988548515976241\n",
      "    val_precision  : 0.7037728348716134\n",
      "    val_recall     : 0.7015165441176471\n"
     ]
    },
    {
     "name": "stdout",
     "output_type": "stream",
     "text": [
      "Model has not improved in -------------| 180 epochs\n"
     ]
    },
    {
     "name": "stderr",
     "output_type": "stream",
     "text": [
      "    epoch          : 271\n",
      "    loss           : 0.21147960093286303\n",
      "    my_metric      : 0.9091715203106331\n",
      "    f1             : 0.9091297422912051\n",
      "    balanced_accuracy: 0.9097924543325432\n",
      "    precision      : 0.912028737696533\n",
      "    recall         : 0.9091715203106331\n",
      "    val_loss       : 0.9695861339569092\n",
      "    val_my_metric  : 0.6642922794117647\n",
      "    val_f1         : 0.6658347398592466\n",
      "    val_balanced_accuracy: 0.6750320512820512\n",
      "    val_precision  : 0.6907170472278816\n",
      "    val_recall     : 0.6642922794117647\n"
     ]
    },
    {
     "name": "stdout",
     "output_type": "stream",
     "text": [
      "Model has not improved in -------------| 181 epochs\n"
     ]
    },
    {
     "name": "stderr",
     "output_type": "stream",
     "text": [
      "    epoch          : 272\n",
      "    loss           : 0.22553083962864345\n",
      "    my_metric      : 0.8952826314217442\n",
      "    f1             : 0.8952973310098314\n",
      "    balanced_accuracy: 0.8955420072284416\n",
      "    precision      : 0.8968299661325363\n",
      "    recall         : 0.8952826314217442\n",
      "    val_loss       : 0.8396420776844025\n",
      "    val_my_metric  : 0.7334558823529411\n",
      "    val_f1         : 0.7334320459591757\n",
      "    val_balanced_accuracy: 0.733951914098973\n",
      "    val_precision  : 0.7392016122550049\n",
      "    val_recall     : 0.7334558823529411\n"
     ]
    },
    {
     "name": "stdout",
     "output_type": "stream",
     "text": [
      "Model has not improved in -------------| 182 epochs\n"
     ]
    },
    {
     "name": "stderr",
     "output_type": "stream",
     "text": [
      "    epoch          : 273\n",
      "    loss           : 0.23390745454364353\n",
      "    my_metric      : 0.8939758811230585\n",
      "    f1             : 0.8939684754536112\n",
      "    balanced_accuracy: 0.8950765716629923\n",
      "    precision      : 0.8964297775293188\n",
      "    recall         : 0.8939758811230585\n",
      "    val_loss       : 1.0510198473930359\n",
      "    val_my_metric  : 0.6091452205882353\n",
      "    val_f1         : 0.6116374374072231\n",
      "    val_balanced_accuracy: 0.6055257404094614\n",
      "    val_precision  : 0.6177952060758514\n",
      "    val_recall     : 0.6091452205882353\n"
     ]
    },
    {
     "name": "stdout",
     "output_type": "stream",
     "text": [
      "Model has not improved in -------------| 183 epochs\n"
     ]
    },
    {
     "name": "stderr",
     "output_type": "stream",
     "text": [
      "    epoch          : 274\n",
      "    loss           : 0.22199810710218218\n",
      "    my_metric      : 0.8960386798088411\n",
      "    f1             : 0.8963327118224179\n",
      "    balanced_accuracy: 0.8986554609250033\n",
      "    precision      : 0.9001329068138051\n",
      "    recall         : 0.8960386798088411\n",
      "    val_loss       : 1.076643168926239\n",
      "    val_my_metric  : 0.7035845588235294\n",
      "    val_f1         : 0.7034893644957984\n",
      "    val_balanced_accuracy: 0.7014582526777648\n",
      "    val_precision  : 0.7081879963556916\n",
      "    val_recall     : 0.7035845588235294\n"
     ]
    },
    {
     "name": "stdout",
     "output_type": "stream",
     "text": [
      "Model has not improved in -------------| 184 epochs\n"
     ]
    },
    {
     "name": "stderr",
     "output_type": "stream",
     "text": [
      "    epoch          : 275\n",
      "    loss           : 0.22998034291797215\n",
      "    my_metric      : 0.8920250896057347\n",
      "    f1             : 0.8920850202248024\n",
      "    balanced_accuracy: 0.89320076752449\n",
      "    precision      : 0.894254384284993\n",
      "    recall         : 0.8920250896057347\n",
      "    val_loss       : 0.8671556413173676\n",
      "    val_my_metric  : 0.7123161764705883\n",
      "    val_f1         : 0.712761411382735\n",
      "    val_balanced_accuracy: 0.7183980855855856\n",
      "    val_precision  : 0.7250878119807886\n",
      "    val_recall     : 0.7123161764705883\n"
     ]
    },
    {
     "name": "stdout",
     "output_type": "stream",
     "text": [
      "Model has not improved in -------------| 185 epochs\n"
     ]
    },
    {
     "name": "stderr",
     "output_type": "stream",
     "text": [
      "    epoch          : 276\n",
      "    loss           : 0.2187086890141169\n",
      "    my_metric      : 0.896692054958184\n",
      "    f1             : 0.8969769146152589\n",
      "    balanced_accuracy: 0.8992028477274618\n",
      "    precision      : 0.901019440476209\n",
      "    recall         : 0.896692054958184\n",
      "    val_loss       : 0.9151543080806732\n",
      "    val_my_metric  : 0.7088694852941176\n",
      "    val_f1         : 0.7082389465523138\n",
      "    val_balanced_accuracy: 0.7059986714545647\n",
      "    val_precision  : 0.7090085191148827\n",
      "    val_recall     : 0.7088694852941176\n"
     ]
    },
    {
     "name": "stdout",
     "output_type": "stream",
     "text": [
      "Model has not improved in -------------| 186 epochs\n"
     ]
    },
    {
     "name": "stderr",
     "output_type": "stream",
     "text": [
      "    epoch          : 277\n",
      "    loss           : 0.22202632990148333\n",
      "    my_metric      : 0.8937612007168458\n",
      "    f1             : 0.8940139009377712\n",
      "    balanced_accuracy: 0.8970271753749022\n",
      "    precision      : 0.8975983803786176\n",
      "    recall         : 0.8937612007168458\n",
      "    val_loss       : 1.0705822110176086\n",
      "    val_my_metric  : 0.7534466911764706\n",
      "    val_f1         : 0.7528662344167927\n",
      "    val_balanced_accuracy: 0.7598168214654283\n",
      "    val_precision  : 0.7693686861258874\n",
      "    val_recall     : 0.7534466911764706\n"
     ]
    },
    {
     "name": "stdout",
     "output_type": "stream",
     "text": [
      "Model has not improved in -------------| 187 epochs\n"
     ]
    },
    {
     "name": "stderr",
     "output_type": "stream",
     "text": [
      "    epoch          : 278\n",
      "    loss           : 0.23929610517289904\n",
      "    my_metric      : 0.8971214157706093\n",
      "    f1             : 0.8972420128295079\n",
      "    balanced_accuracy: 0.8982065667163535\n",
      "    precision      : 0.8993094866217901\n",
      "    recall         : 0.8971214157706093\n",
      "    val_loss       : 1.0505578517913818\n",
      "    val_my_metric  : 0.7005974264705883\n",
      "    val_f1         : 0.701052181758159\n",
      "    val_balanced_accuracy: 0.699255515989387\n",
      "    val_precision  : 0.7042059402931556\n",
      "    val_recall     : 0.7005974264705883\n"
     ]
    },
    {
     "name": "stdout",
     "output_type": "stream",
     "text": [
      "Model has not improved in -------------| 188 epochs\n"
     ]
    },
    {
     "name": "stderr",
     "output_type": "stream",
     "text": [
      "    epoch          : 279\n",
      "    loss           : 0.24066447880533007\n",
      "    my_metric      : 0.9030951314217442\n",
      "    f1             : 0.903139067597849\n",
      "    balanced_accuracy: 0.9038186943674863\n",
      "    precision      : 0.9063096153943913\n",
      "    recall         : 0.9030951314217442\n",
      "    val_loss       : 0.8926112353801727\n",
      "    val_my_metric  : 0.70703125\n",
      "    val_f1         : 0.7075317119671056\n",
      "    val_balanced_accuracy: 0.7085158232138049\n",
      "    val_precision  : 0.710503495688257\n",
      "    val_recall     : 0.70703125\n"
     ]
    },
    {
     "name": "stdout",
     "output_type": "stream",
     "text": [
      "Model has not improved in -------------| 189 epochs\n"
     ]
    },
    {
     "name": "stderr",
     "output_type": "stream",
     "text": [
      "    epoch          : 280\n",
      "    loss           : 0.21815137730704415\n",
      "    my_metric      : 0.9037485065710871\n",
      "    f1             : 0.9037587823051975\n",
      "    balanced_accuracy: 0.9040444614030684\n",
      "    precision      : 0.9062868942685302\n",
      "    recall         : 0.9037485065710871\n",
      "    val_loss       : 0.9968070387840271\n",
      "    val_my_metric  : 0.6615349264705883\n",
      "    val_f1         : 0.6621130429356945\n",
      "    val_balanced_accuracy: 0.6698916003351487\n",
      "    val_precision  : 0.6782254630359091\n",
      "    val_recall     : 0.6615349264705883\n"
     ]
    },
    {
     "name": "stdout",
     "output_type": "stream",
     "text": [
      "Model has not improved in -------------| 190 epochs\n"
     ]
    },
    {
     "name": "stderr",
     "output_type": "stream",
     "text": [
      "    epoch          : 281\n",
      "    loss           : 0.2224029948314031\n",
      "    my_metric      : 0.9019003882915173\n",
      "    f1             : 0.9018506746456819\n",
      "    balanced_accuracy: 0.9020430353798005\n",
      "    precision      : 0.904253845963348\n",
      "    recall         : 0.9019003882915173\n",
      "    val_loss       : 0.9080334901809692\n",
      "    val_my_metric  : 0.7594209558823529\n",
      "    val_f1         : 0.7597924206763826\n",
      "    val_balanced_accuracy: 0.7628095975232199\n",
      "    val_precision  : 0.7650956927950299\n",
      "    val_recall     : 0.7594209558823529\n"
     ]
    },
    {
     "name": "stdout",
     "output_type": "stream",
     "text": [
      "Model has not improved in -------------| 191 epochs\n"
     ]
    },
    {
     "name": "stderr",
     "output_type": "stream",
     "text": [
      "    epoch          : 282\n",
      "    loss           : 0.24303314255343544\n",
      "    my_metric      : 0.8880114994026285\n",
      "    f1             : 0.8881866448299499\n",
      "    balanced_accuracy: 0.890726278380863\n",
      "    precision      : 0.8917966452843026\n",
      "    recall         : 0.8880114994026285\n",
      "    val_loss       : 1.0793460011482239\n",
      "    val_my_metric  : 0.6443014705882353\n",
      "    val_f1         : 0.6449389486662509\n",
      "    val_balanced_accuracy: 0.647183182114689\n",
      "    val_precision  : 0.6514938166768217\n",
      "    val_recall     : 0.6443014705882353\n"
     ]
    },
    {
     "name": "stdout",
     "output_type": "stream",
     "text": [
      "Model has not improved in -------------| 192 epochs\n"
     ]
    },
    {
     "name": "stderr",
     "output_type": "stream",
     "text": [
      "    epoch          : 283\n",
      "    loss           : 0.21372435821427238\n",
      "    my_metric      : 0.9088448327359617\n",
      "    f1             : 0.9090495586846088\n",
      "    balanced_accuracy: 0.9120296440280522\n",
      "    precision      : 0.9130431704227185\n",
      "    recall         : 0.9088448327359617\n",
      "    val_loss       : 1.0283796787261963\n",
      "    val_my_metric  : 0.7534466911764706\n",
      "    val_f1         : 0.7539090919851038\n",
      "    val_balanced_accuracy: 0.7613531629660661\n",
      "    val_precision  : 0.7686986048125699\n",
      "    val_recall     : 0.7534466911764706\n"
     ]
    },
    {
     "name": "stdout",
     "output_type": "stream",
     "text": [
      "Model has not improved in -------------| 193 epochs\n"
     ]
    },
    {
     "name": "stderr",
     "output_type": "stream",
     "text": [
      "    epoch          : 284\n",
      "    loss           : 0.22293133702543047\n",
      "    my_metric      : 0.90026695041816\n",
      "    f1             : 0.9004814416044034\n",
      "    balanced_accuracy: 0.9029263926295745\n",
      "    precision      : 0.9035428246314141\n",
      "    recall         : 0.90026695041816\n",
      "    val_loss       : 1.2015148997306824\n",
      "    val_my_metric  : 0.6560202205882353\n",
      "    val_f1         : 0.6564259663873474\n",
      "    val_balanced_accuracy: 0.6551693491099676\n",
      "    val_precision  : 0.6573410591325973\n",
      "    val_recall     : 0.6560202205882353\n"
     ]
    },
    {
     "name": "stdout",
     "output_type": "stream",
     "text": [
      "Model has not improved in -------------| 194 epochs\n"
     ]
    },
    {
     "name": "stderr",
     "output_type": "stream",
     "text": [
      "    epoch          : 285\n",
      "    loss           : 0.22905749910407597\n",
      "    my_metric      : 0.8940878882915173\n",
      "    f1             : 0.8942801097236865\n",
      "    balanced_accuracy: 0.8963226896098175\n",
      "    precision      : 0.8993107875545565\n",
      "    recall         : 0.8940878882915173\n",
      "    val_loss       : 0.9079516530036926\n",
      "    val_my_metric  : 0.7005974264705883\n",
      "    val_f1         : 0.7011217495958522\n",
      "    val_balanced_accuracy: 0.7004256965944272\n",
      "    val_precision  : 0.7026371606334841\n",
      "    val_recall     : 0.7005974264705883\n"
     ]
    },
    {
     "name": "stdout",
     "output_type": "stream",
     "text": [
      "Model has not improved in -------------| 195 epochs\n"
     ]
    },
    {
     "name": "stderr",
     "output_type": "stream",
     "text": [
      "    epoch          : 286\n",
      "    loss           : 0.19446933931774563\n",
      "    my_metric      : 0.9121023745519713\n",
      "    f1             : 0.9124391395006235\n",
      "    balanced_accuracy: 0.915639750764394\n",
      "    precision      : 0.9166674995115343\n",
      "    recall         : 0.9121023745519713\n",
      "    val_loss       : 0.9522749781608582\n",
      "    val_my_metric  : 0.7040441176470589\n",
      "    val_f1         : 0.7036016681001653\n",
      "    val_balanced_accuracy: 0.705951434830366\n",
      "    val_precision  : 0.71106493190308\n",
      "    val_recall     : 0.7040441176470589\n"
     ]
    },
    {
     "name": "stdout",
     "output_type": "stream",
     "text": [
      "Model has not improved in -------------| 196 epochs\n"
     ]
    },
    {
     "name": "stderr",
     "output_type": "stream",
     "text": [
      "    epoch          : 287\n",
      "    loss           : 0.23449640803866917\n",
      "    my_metric      : 0.8967947281959378\n",
      "    f1             : 0.8968901685671763\n",
      "    balanced_accuracy: 0.898476255755292\n",
      "    precision      : 0.9004448642729503\n",
      "    recall         : 0.8967947281959378\n",
      "    val_loss       : 0.9947229623794556\n",
      "    val_my_metric  : 0.6760110294117647\n",
      "    val_f1         : 0.6761343806217501\n",
      "    val_balanced_accuracy: 0.6818774832473463\n",
      "    val_precision  : 0.6872509565022948\n",
      "    val_recall     : 0.6760110294117647\n"
     ]
    },
    {
     "name": "stdout",
     "output_type": "stream",
     "text": [
      "Model has not improved in -------------| 197 epochs\n"
     ]
    },
    {
     "name": "stderr",
     "output_type": "stream",
     "text": [
      "    epoch          : 288\n",
      "    loss           : 0.2175300121307373\n",
      "    my_metric      : 0.9042898745519713\n",
      "    f1             : 0.9043398027190833\n",
      "    balanced_accuracy: 0.9061039573190643\n",
      "    precision      : 0.90831064362129\n",
      "    recall         : 0.9042898745519713\n",
      "    val_loss       : 0.9103396534919739\n",
      "    val_my_metric  : 0.7431066176470589\n",
      "    val_f1         : 0.7462419214660352\n",
      "    val_balanced_accuracy: 0.7295566502463054\n",
      "    val_precision  : 0.7549110573461566\n",
      "    val_recall     : 0.7431066176470589\n"
     ]
    },
    {
     "name": "stdout",
     "output_type": "stream",
     "text": [
      "Model has not improved in -------------| 198 epochs\n"
     ]
    },
    {
     "name": "stderr",
     "output_type": "stream",
     "text": [
      "    epoch          : 289\n",
      "    loss           : 0.21969062586625418\n",
      "    my_metric      : 0.905045922939068\n",
      "    f1             : 0.9051161954239101\n",
      "    balanced_accuracy: 0.905720933326126\n",
      "    precision      : 0.9072410148609493\n",
      "    recall         : 0.905045922939068\n",
      "    val_loss       : 0.8624354600906372\n",
      "    val_my_metric  : 0.7217371323529411\n",
      "    val_f1         : 0.7203819245704784\n",
      "    val_balanced_accuracy: 0.7262646029769317\n",
      "    val_precision  : 0.7395525066997953\n",
      "    val_recall     : 0.7217371323529411\n"
     ]
    },
    {
     "name": "stdout",
     "output_type": "stream",
     "text": [
      "Model has not improved in -------------| 199 epochs\n"
     ]
    },
    {
     "name": "stderr",
     "output_type": "stream",
     "text": [
      "    epoch          : 290\n",
      "    loss           : 0.2173165347841051\n",
      "    my_metric      : 0.8962626941457587\n",
      "    f1             : 0.8964618413305663\n",
      "    balanced_accuracy: 0.8974080664691423\n",
      "    precision      : 0.8983111646227557\n",
      "    recall         : 0.8962626941457587\n",
      "    val_loss       : 1.0660836696624756\n",
      "    val_my_metric  : 0.7118566176470589\n",
      "    val_f1         : 0.7123473384929992\n",
      "    val_balanced_accuracy: 0.7176462233771785\n",
      "    val_precision  : 0.72326423507256\n",
      "    val_recall     : 0.7118566176470589\n"
     ]
    },
    {
     "name": "stdout",
     "output_type": "stream",
     "text": [
      "Model has not improved in -------------| 200 epochs\n"
     ]
    },
    {
     "name": "stderr",
     "output_type": "stream",
     "text": [
      "    epoch          : 291\n",
      "    loss           : 0.20055034425523546\n",
      "    my_metric      : 0.9033098118279569\n",
      "    f1             : 0.9034504374766095\n",
      "    balanced_accuracy: 0.9056847404427347\n",
      "    precision      : 0.9073829721165629\n",
      "    recall         : 0.9033098118279569\n",
      "    val_loss       : 0.8635649085044861\n",
      "    val_my_metric  : 0.6971507352941176\n",
      "    val_f1         : 0.6979259174739547\n",
      "    val_balanced_accuracy: 0.701514225195283\n",
      "    val_precision  : 0.7062245811786254\n",
      "    val_recall     : 0.6971507352941176\n"
     ]
    },
    {
     "name": "stdout",
     "output_type": "stream",
     "text": [
      "Model has not improved in -------------| 201 epochs\n"
     ]
    },
    {
     "name": "stderr",
     "output_type": "stream",
     "text": [
      "    epoch          : 292\n",
      "    loss           : 0.20764240953657362\n",
      "    my_metric      : 0.9064553464755077\n",
      "    f1             : 0.9068789977269248\n",
      "    balanced_accuracy: 0.9109593948570893\n",
      "    precision      : 0.9113235292889161\n",
      "    recall         : 0.9064553464755077\n",
      "    val_loss       : 0.9234057366847992\n",
      "    val_my_metric  : 0.7153033088235294\n",
      "    val_f1         : 0.715515403001385\n",
      "    val_balanced_accuracy: 0.7137021657810871\n",
      "    val_precision  : 0.7167462631538575\n",
      "    val_recall     : 0.7153033088235294\n"
     ]
    },
    {
     "name": "stdout",
     "output_type": "stream",
     "text": [
      "Model has not improved in -------------| 202 epochs\n"
     ]
    },
    {
     "name": "stderr",
     "output_type": "stream",
     "text": [
      "    epoch          : 293\n",
      "    loss           : 0.2086024350590176\n",
      "    my_metric      : 0.9067820340501791\n",
      "    f1             : 0.9068964564978756\n",
      "    balanced_accuracy: 0.9093915855336687\n",
      "    precision      : 0.9117897602171166\n",
      "    recall         : 0.9067820340501791\n",
      "    val_loss       : 1.0019340813159943\n",
      "    val_my_metric  : 0.6838235294117647\n",
      "    val_f1         : 0.6829783637592969\n",
      "    val_balanced_accuracy: 0.6808565531475748\n",
      "    val_precision  : 0.685609243697479\n",
      "    val_recall     : 0.6838235294117647\n"
     ]
    },
    {
     "name": "stdout",
     "output_type": "stream",
     "text": [
      "Model has not improved in -------------| 203 epochs\n"
     ]
    },
    {
     "name": "stderr",
     "output_type": "stream",
     "text": [
      "    epoch          : 294\n",
      "    loss           : 0.22387724783685473\n",
      "    my_metric      : 0.8978867980884109\n",
      "    f1             : 0.8979473304030697\n",
      "    balanced_accuracy: 0.8981775104580227\n",
      "    precision      : 0.8995711572211206\n",
      "    recall         : 0.8978867980884109\n",
      "    val_loss       : 1.1089390516281128\n",
      "    val_my_metric  : 0.7049632352941176\n",
      "    val_f1         : 0.704967063221495\n",
      "    val_balanced_accuracy: 0.7064407156540777\n",
      "    val_precision  : 0.7095261028343334\n",
      "    val_recall     : 0.7049632352941176\n"
     ]
    },
    {
     "name": "stdout",
     "output_type": "stream",
     "text": [
      "Model has not improved in -------------| 204 epochs\n"
     ]
    },
    {
     "name": "stderr",
     "output_type": "stream",
     "text": [
      "    epoch          : 295\n",
      "    loss           : 0.24640491439236534\n",
      "    my_metric      : 0.9036364994026285\n",
      "    f1             : 0.9040622610839597\n",
      "    balanced_accuracy: 0.9078645587856098\n",
      "    precision      : 0.90981951781919\n",
      "    recall         : 0.9036364994026285\n",
      "    val_loss       : 1.2218209505081177\n",
      "    val_my_metric  : 0.7028952205882353\n",
      "    val_f1         : 0.7032980388339749\n",
      "    val_balanced_accuracy: 0.712218963831867\n",
      "    val_precision  : 0.721815687942062\n",
      "    val_recall     : 0.7028952205882353\n"
     ]
    },
    {
     "name": "stdout",
     "output_type": "stream",
     "text": [
      "Model has not improved in -------------| 205 epochs\n"
     ]
    },
    {
     "name": "stderr",
     "output_type": "stream",
     "text": [
      "    epoch          : 296\n",
      "    loss           : 0.22731836802429622\n",
      "    my_metric      : 0.8910450268817205\n",
      "    f1             : 0.8913002328471493\n",
      "    balanced_accuracy: 0.8933494386940148\n",
      "    precision      : 0.8941073403163933\n",
      "    recall         : 0.8910450268817205\n",
      "    val_loss       : 0.9874512553215027\n",
      "    val_my_metric  : 0.6962316176470589\n",
      "    val_f1         : 0.693446723092999\n",
      "    val_balanced_accuracy: 0.6865221117961092\n",
      "    val_precision  : 0.6953886027842635\n",
      "    val_recall     : 0.6962316176470589\n"
     ]
    },
    {
     "name": "stdout",
     "output_type": "stream",
     "text": [
      "Model has not improved in -------------| 206 epochs\n"
     ]
    },
    {
     "name": "stderr",
     "output_type": "stream",
     "text": [
      "    epoch          : 297\n",
      "    loss           : 0.21623041894700792\n",
      "    my_metric      : 0.9103662634408602\n",
      "    f1             : 0.9103395438098509\n",
      "    balanced_accuracy: 0.910371385090161\n",
      "    precision      : 0.912181499582154\n",
      "    recall         : 0.9103662634408602\n",
      "    val_loss       : 1.0808050632476807\n",
      "    val_my_metric  : 0.7045036764705883\n",
      "    val_f1         : 0.7047213267638434\n",
      "    val_balanced_accuracy: 0.7082037941619086\n",
      "    val_precision  : 0.7120227334025958\n",
      "    val_recall     : 0.7045036764705883\n"
     ]
    },
    {
     "name": "stdout",
     "output_type": "stream",
     "text": [
      "Model has not improved in -------------| 207 epochs\n"
     ]
    },
    {
     "name": "stderr",
     "output_type": "stream",
     "text": [
      "    epoch          : 298\n",
      "    loss           : 0.22352569964196947\n",
      "    my_metric      : 0.8991842144563917\n",
      "    f1             : 0.8991909624814753\n",
      "    balanced_accuracy: 0.9000397270043737\n",
      "    precision      : 0.9028515896292993\n",
      "    recall         : 0.8991842144563917\n",
      "    val_loss       : 0.8457008302211761\n",
      "    val_my_metric  : 0.7231158088235294\n",
      "    val_f1         : 0.7230812588485038\n",
      "    val_balanced_accuracy: 0.726565065681445\n",
      "    val_precision  : 0.7309685589822974\n",
      "    val_recall     : 0.7231158088235294\n"
     ]
    },
    {
     "name": "stdout",
     "output_type": "stream",
     "text": [
      "Model has not improved in -------------| 208 epochs\n"
     ]
    },
    {
     "name": "stderr",
     "output_type": "stream",
     "text": [
      "    epoch          : 299\n",
      "    loss           : 0.1982638786236445\n",
      "    my_metric      : 0.9080887843488649\n",
      "    f1             : 0.9083135179983278\n",
      "    balanced_accuracy: 0.9092928225384708\n",
      "    precision      : 0.9102358439110441\n",
      "    recall         : 0.9080887843488649\n",
      "    val_loss       : 1.0261259078979492\n",
      "    val_my_metric  : 0.6534926470588236\n",
      "    val_f1         : 0.6520518680445151\n",
      "    val_balanced_accuracy: 0.6590418353576248\n",
      "    val_precision  : 0.6704682674351792\n",
      "    val_recall     : 0.6534926470588236\n"
     ]
    },
    {
     "name": "stdout",
     "output_type": "stream",
     "text": [
      "Model has not improved in -------------| 209 epochs\n"
     ]
    },
    {
     "name": "stderr",
     "output_type": "stream",
     "text": [
      "    epoch          : 300\n",
      "    loss           : 0.20775430732303196\n",
      "    my_metric      : 0.9252352150537635\n",
      "    f1             : 0.9252538692841692\n",
      "    balanced_accuracy: 0.9261316862081634\n",
      "    precision      : 0.9272218153959161\n",
      "    recall         : 0.9252352150537635\n",
      "    val_loss       : 0.949333667755127\n",
      "    val_my_metric  : 0.7005974264705883\n",
      "    val_f1         : 0.7004532197553706\n",
      "    val_balanced_accuracy: 0.6996673669467787\n",
      "    val_precision  : 0.7031562302033639\n",
      "    val_recall     : 0.7005974264705883\n",
      "Saving checkpoint: saved/MaskedVolume_3d/0620_142107/checkpoint-epoch300.pth ...\n"
     ]
    },
    {
     "name": "stdout",
     "output_type": "stream",
     "text": [
      "Model has not improved in -------------| 210 epochs\n"
     ]
    },
    {
     "name": "stderr",
     "output_type": "stream",
     "text": [
      "    epoch          : 301\n",
      "    loss           : 0.19464942481782702\n",
      "    my_metric      : 0.9141651732377538\n",
      "    f1             : 0.9142055215499164\n",
      "    balanced_accuracy: 0.9150137726257217\n",
      "    precision      : 0.9166328165021527\n",
      "    recall         : 0.9141651732377538\n",
      "    val_loss       : 0.9927371442317963\n",
      "    val_my_metric  : 0.6569393382352942\n",
      "    val_f1         : 0.6541752495723461\n",
      "    val_balanced_accuracy: 0.6499355005159959\n",
      "    val_precision  : 0.6550980924570187\n",
      "    val_recall     : 0.6569393382352942\n"
     ]
    },
    {
     "name": "stdout",
     "output_type": "stream",
     "text": [
      "Model has not improved in -------------| 211 epochs\n"
     ]
    },
    {
     "name": "stderr",
     "output_type": "stream",
     "text": [
      "    epoch          : 302\n",
      "    loss           : 0.18794010082880655\n",
      "    my_metric      : 0.9167693399044204\n",
      "    f1             : 0.9168003755267906\n",
      "    balanced_accuracy: 0.9183404856362952\n",
      "    precision      : 0.9204189824597844\n",
      "    recall         : 0.9167693399044204\n",
      "    val_loss       : 0.9804587364196777\n",
      "    val_my_metric  : 0.7456341911764706\n",
      "    val_f1         : 0.7453988210247603\n",
      "    val_balanced_accuracy: 0.7473377746543054\n",
      "    val_precision  : 0.7523326219895478\n",
      "    val_recall     : 0.7456341911764706\n"
     ]
    },
    {
     "name": "stdout",
     "output_type": "stream",
     "text": [
      "Model has not improved in -------------| 212 epochs\n"
     ]
    },
    {
     "name": "stderr",
     "output_type": "stream",
     "text": [
      "    epoch          : 303\n",
      "    loss           : 0.20154278808169895\n",
      "    my_metric      : 0.8988575268817205\n",
      "    f1             : 0.8989596403339021\n",
      "    balanced_accuracy: 0.900845432546143\n",
      "    precision      : 0.9028535657993115\n",
      "    recall         : 0.8988575268817205\n",
      "    val_loss       : 0.9052263796329498\n",
      "    val_my_metric  : 0.7192095588235294\n",
      "    val_f1         : 0.71875\n",
      "    val_balanced_accuracy: 0.7247899159663866\n",
      "    val_precision  : 0.7320214598997494\n",
      "    val_recall     : 0.7192095588235294\n"
     ]
    },
    {
     "name": "stdout",
     "output_type": "stream",
     "text": [
      "Model has not improved in -------------| 213 epochs\n"
     ]
    },
    {
     "name": "stderr",
     "output_type": "stream",
     "text": [
      "    epoch          : 304\n",
      "    loss           : 0.20352337923314837\n",
      "    my_metric      : 0.905045922939068\n",
      "    f1             : 0.9051556515999474\n",
      "    balanced_accuracy: 0.9065253984228128\n",
      "    precision      : 0.9075864358624552\n",
      "    recall         : 0.905045922939068\n",
      "    val_loss       : 1.0060412287712097\n",
      "    val_my_metric  : 0.7005974264705883\n",
      "    val_f1         : 0.7006625187155984\n",
      "    val_balanced_accuracy: 0.7066692466460268\n",
      "    val_precision  : 0.7127190765138426\n",
      "    val_recall     : 0.7005974264705883\n"
     ]
    },
    {
     "name": "stdout",
     "output_type": "stream",
     "text": [
      "Model has not improved in -------------| 214 epochs\n"
     ]
    },
    {
     "name": "stderr",
     "output_type": "stream",
     "text": [
      "    epoch          : 305\n",
      "    loss           : 0.19655797051058876\n",
      "    my_metric      : 0.9138384856630825\n",
      "    f1             : 0.9139006733470515\n",
      "    balanced_accuracy: 0.9142194775965861\n",
      "    precision      : 0.9147583963000722\n",
      "    recall         : 0.9138384856630825\n",
      "    val_loss       : 1.0649055242538452\n",
      "    val_my_metric  : 0.6447610294117647\n",
      "    val_f1         : 0.645285447263646\n",
      "    val_balanced_accuracy: 0.642111786063399\n",
      "    val_precision  : 0.6489810431886003\n",
      "    val_recall     : 0.6447610294117647\n"
     ]
    },
    {
     "name": "stdout",
     "output_type": "stream",
     "text": [
      "Model has not improved in -------------| 215 epochs\n"
     ]
    },
    {
     "name": "stderr",
     "output_type": "stream",
     "text": [
      "    epoch          : 306\n",
      "    loss           : 0.1970836255285475\n",
      "    my_metric      : 0.9112343189964158\n",
      "    f1             : 0.9112813870551383\n",
      "    balanced_accuracy: 0.9122093979908912\n",
      "    precision      : 0.9134825655600145\n",
      "    recall         : 0.9112343189964158\n",
      "    val_loss       : 0.9225206971168518\n",
      "    val_my_metric  : 0.7431066176470589\n",
      "    val_f1         : 0.7431845098199097\n",
      "    val_balanced_accuracy: 0.7426262315270936\n",
      "    val_precision  : 0.7441657968668167\n",
      "    val_recall     : 0.7431066176470589\n"
     ]
    },
    {
     "name": "stdout",
     "output_type": "stream",
     "text": [
      "Model has not improved in -------------| 216 epochs\n"
     ]
    },
    {
     "name": "stderr",
     "output_type": "stream",
     "text": [
      "    epoch          : 307\n",
      "    loss           : 0.2049828502866957\n",
      "    my_metric      : 0.9096008811230585\n",
      "    f1             : 0.9098638370194152\n",
      "    balanced_accuracy: 0.9125784089983436\n",
      "    precision      : 0.9135271797542305\n",
      "    recall         : 0.9096008811230585\n",
      "    val_loss       : 1.0449861288070679\n",
      "    val_my_metric  : 0.7001378676470589\n",
      "    val_f1         : 0.6970818519019406\n",
      "    val_balanced_accuracy: 0.6885007494763593\n",
      "    val_precision  : 0.7006046361484877\n",
      "    val_recall     : 0.7001378676470589\n"
     ]
    },
    {
     "name": "stdout",
     "output_type": "stream",
     "text": [
      "Model has not improved in -------------| 217 epochs\n"
     ]
    },
    {
     "name": "stderr",
     "output_type": "stream",
     "text": [
      "    epoch          : 308\n",
      "    loss           : 0.1917085217105018\n",
      "    my_metric      : 0.9192614994026285\n",
      "    f1             : 0.9193051236261821\n",
      "    balanced_accuracy: 0.9200237869026101\n",
      "    precision      : 0.9212612829095357\n",
      "    recall         : 0.9192614994026285\n",
      "    val_loss       : 0.9761147499084473\n",
      "    val_my_metric  : 0.6893382352941176\n",
      "    val_f1         : 0.6902539247170594\n",
      "    val_balanced_accuracy: 0.6918411053832028\n",
      "    val_precision  : 0.6955689855127571\n",
      "    val_recall     : 0.6893382352941176\n"
     ]
    },
    {
     "name": "stdout",
     "output_type": "stream",
     "text": [
      "Model has not improved in -------------| 218 epochs\n"
     ]
    },
    {
     "name": "stderr",
     "output_type": "stream",
     "text": [
      "    epoch          : 309\n",
      "    loss           : 0.17368243717485005\n",
      "    my_metric      : 0.9259912634408602\n",
      "    f1             : 0.9259846665282987\n",
      "    balanced_accuracy: 0.9255507091950999\n",
      "    precision      : 0.9263627991433379\n",
      "    recall         : 0.9259912634408602\n",
      "    val_loss       : 1.0141734778881073\n",
      "    val_my_metric  : 0.7153033088235294\n",
      "    val_f1         : 0.7147004549573359\n",
      "    val_balanced_accuracy: 0.7143430145046524\n",
      "    val_precision  : 0.7187696392659628\n",
      "    val_recall     : 0.7153033088235294\n"
     ]
    },
    {
     "name": "stdout",
     "output_type": "stream",
     "text": [
      "Model has not improved in -------------| 219 epochs\n"
     ]
    },
    {
     "name": "stderr",
     "output_type": "stream",
     "text": [
      "    epoch          : 310\n",
      "    loss           : 0.1804082898630036\n",
      "    my_metric      : 0.9192614994026285\n",
      "    f1             : 0.9193736696544933\n",
      "    balanced_accuracy: 0.9204918366405139\n",
      "    precision      : 0.9210399563659551\n",
      "    recall         : 0.9192614994026285\n",
      "    val_loss       : 0.9023357629776001\n",
      "    val_my_metric  : 0.7486213235294117\n",
      "    val_f1         : 0.7490431867018288\n",
      "    val_balanced_accuracy: 0.7466685435435435\n",
      "    val_precision  : 0.7503234290039544\n",
      "    val_recall     : 0.7486213235294117\n"
     ]
    },
    {
     "name": "stdout",
     "output_type": "stream",
     "text": [
      "Model has not improved in -------------| 220 epochs\n"
     ]
    },
    {
     "name": "stderr",
     "output_type": "stream",
     "text": [
      "    epoch          : 311\n",
      "    loss           : 0.19442268047067854\n",
      "    my_metric      : 0.90211506869773\n",
      "    f1             : 0.9020999766005379\n",
      "    balanced_accuracy: 0.9023326420550348\n",
      "    precision      : 0.903760113240231\n",
      "    recall         : 0.90211506869773\n",
      "    val_loss       : 0.9823875725269318\n",
      "    val_my_metric  : 0.6980698529411764\n",
      "    val_f1         : 0.6993636491481838\n",
      "    val_balanced_accuracy: 0.6996892892054183\n",
      "    val_precision  : 0.7049310835037828\n",
      "    val_recall     : 0.6980698529411764\n"
     ]
    },
    {
     "name": "stdout",
     "output_type": "stream",
     "text": [
      "Model has not improved in -------------| 221 epochs\n"
     ]
    },
    {
     "name": "stderr",
     "output_type": "stream",
     "text": [
      "    epoch          : 312\n",
      "    loss           : 0.18548946579297385\n",
      "    my_metric      : 0.915247909199522\n",
      "    f1             : 0.9152368012878603\n",
      "    balanced_accuracy: 0.9154600464955645\n",
      "    precision      : 0.9169326162453658\n",
      "    recall         : 0.915247909199522\n",
      "    val_loss       : 1.1463494896888733\n",
      "    val_my_metric  : 0.6858915441176471\n",
      "    val_f1         : 0.685842050502272\n",
      "    val_balanced_accuracy: 0.6889297385620915\n",
      "    val_precision  : 0.6933013695542993\n",
      "    val_recall     : 0.6858915441176471\n"
     ]
    },
    {
     "name": "stdout",
     "output_type": "stream",
     "text": [
      "Model has not improved in -------------| 222 epochs\n"
     ]
    },
    {
     "name": "stderr",
     "output_type": "stream",
     "text": [
      "    epoch          : 313\n",
      "    loss           : 0.20587085684140524\n",
      "    my_metric      : 0.9078741039426524\n",
      "    f1             : 0.9077803256540256\n",
      "    balanced_accuracy: 0.9074844407841614\n",
      "    precision      : 0.9098665455715936\n",
      "    recall         : 0.9078741039426524\n",
      "    val_loss       : 1.0424384772777557\n",
      "    val_my_metric  : 0.6819852941176471\n",
      "    val_f1         : 0.6821253501400562\n",
      "    val_balanced_accuracy: 0.680906198686371\n",
      "    val_precision  : 0.6828503460207613\n",
      "    val_recall     : 0.6819852941176471\n"
     ]
    },
    {
     "name": "stdout",
     "output_type": "stream",
     "text": [
      "Model has not improved in -------------| 223 epochs\n"
     ]
    },
    {
     "name": "stderr",
     "output_type": "stream",
     "text": [
      "Traceback (most recent call last):\n",
      "  File \"/home/awoloshu/miniconda3/envs/pytorch36/lib/python3.6/multiprocessing/queues.py\", line 240, in _feed\n",
      "    send_bytes(obj)\n",
      "Traceback (most recent call last):\n",
      "  File \"/home/awoloshu/miniconda3/envs/pytorch36/lib/python3.6/multiprocessing/queues.py\", line 240, in _feed\n",
      "    send_bytes(obj)\n",
      "  File \"/home/awoloshu/miniconda3/envs/pytorch36/lib/python3.6/multiprocessing/connection.py\", line 200, in send_bytes\n",
      "    self._send_bytes(m[offset:offset + size])\n",
      "  File \"/home/awoloshu/miniconda3/envs/pytorch36/lib/python3.6/multiprocessing/connection.py\", line 200, in send_bytes\n",
      "    self._send_bytes(m[offset:offset + size])\n",
      "  File \"/home/awoloshu/miniconda3/envs/pytorch36/lib/python3.6/multiprocessing/connection.py\", line 404, in _send_bytes\n",
      "    self._send(header + buf)\n",
      "  File \"/home/awoloshu/miniconda3/envs/pytorch36/lib/python3.6/multiprocessing/connection.py\", line 368, in _send\n",
      "    n = write(self._handle, buf)\n",
      "BrokenPipeError: [Errno 32] Broken pipe\n",
      "  File \"/home/awoloshu/miniconda3/envs/pytorch36/lib/python3.6/multiprocessing/connection.py\", line 404, in _send_bytes\n",
      "    self._send(header + buf)\n",
      "  File \"/home/awoloshu/miniconda3/envs/pytorch36/lib/python3.6/multiprocessing/connection.py\", line 368, in _send\n",
      "    n = write(self._handle, buf)\n",
      "BrokenPipeError: [Errno 32] Broken pipe\n"
     ]
    },
    {
     "ename": "KeyboardInterrupt",
     "evalue": "",
     "output_type": "error",
     "traceback": [
      "\u001b[0;31m---------------------------------------------------------------------------\u001b[0m",
      "\u001b[0;31mKeyboardInterrupt\u001b[0m                         Traceback (most recent call last)",
      "\u001b[0;32m<ipython-input-27-f5cf6c1f3297>\u001b[0m in \u001b[0;36m<module>\u001b[0;34m\u001b[0m\n\u001b[1;32m      1\u001b[0m \u001b[0;31m#Train the network\u001b[0m\u001b[0;34m\u001b[0m\u001b[0;34m\u001b[0m\u001b[0;34m\u001b[0m\u001b[0m\n\u001b[0;32m----> 2\u001b[0;31m \u001b[0mmain\u001b[0m\u001b[0;34m(\u001b[0m\u001b[0mconfig\u001b[0m\u001b[0;34m,\u001b[0m \u001b[0;32mNone\u001b[0m\u001b[0;34m)\u001b[0m\u001b[0;34m\u001b[0m\u001b[0;34m\u001b[0m\u001b[0m\n\u001b[0m",
      "\u001b[0;32m<ipython-input-25-63bca18fc2d2>\u001b[0m in \u001b[0;36mmain\u001b[0;34m(config, resume)\u001b[0m\n\u001b[1;32m     59\u001b[0m         \u001b[0;31m# trim the first 10 and last 5 iteration from calculating loss (num_iter > skip_start + skip_end)\u001b[0m\u001b[0;34m\u001b[0m\u001b[0;34m\u001b[0m\u001b[0;34m\u001b[0m\u001b[0m\n\u001b[1;32m     60\u001b[0m     \u001b[0;32melse\u001b[0m\u001b[0;34m:\u001b[0m\u001b[0;34m\u001b[0m\u001b[0;34m\u001b[0m\u001b[0m\n\u001b[0;32m---> 61\u001b[0;31m         \u001b[0mtrainer\u001b[0m\u001b[0;34m.\u001b[0m\u001b[0mtrain\u001b[0m\u001b[0;34m(\u001b[0m\u001b[0;34m)\u001b[0m\u001b[0;34m\u001b[0m\u001b[0;34m\u001b[0m\u001b[0m\n\u001b[0m\u001b[1;32m     62\u001b[0m         \u001b[0ma\u001b[0m\u001b[0;34m=\u001b[0m\u001b[0;36m1\u001b[0m\u001b[0;34m\u001b[0m\u001b[0;34m\u001b[0m\u001b[0m\n\u001b[1;32m     63\u001b[0m \u001b[0;34m\u001b[0m\u001b[0m\n",
      "\u001b[0;32m~/IUSM/CellTemplate/base/base_trainer.py\u001b[0m in \u001b[0;36mtrain\u001b[0;34m(self)\u001b[0m\n\u001b[1;32m     85\u001b[0m         \"\"\"\n\u001b[1;32m     86\u001b[0m         \u001b[0;32mfor\u001b[0m \u001b[0mepoch\u001b[0m \u001b[0;32min\u001b[0m \u001b[0mrange\u001b[0m\u001b[0;34m(\u001b[0m\u001b[0mself\u001b[0m\u001b[0;34m.\u001b[0m\u001b[0mstart_epoch\u001b[0m\u001b[0;34m,\u001b[0m \u001b[0mself\u001b[0m\u001b[0;34m.\u001b[0m\u001b[0mepochs\u001b[0m \u001b[0;34m+\u001b[0m \u001b[0;36m1\u001b[0m\u001b[0;34m)\u001b[0m\u001b[0;34m:\u001b[0m\u001b[0;34m\u001b[0m\u001b[0;34m\u001b[0m\u001b[0m\n\u001b[0;32m---> 87\u001b[0;31m             \u001b[0mresult\u001b[0m \u001b[0;34m=\u001b[0m \u001b[0mself\u001b[0m\u001b[0;34m.\u001b[0m\u001b[0m_train_epoch\u001b[0m\u001b[0;34m(\u001b[0m\u001b[0mepoch\u001b[0m\u001b[0;34m)\u001b[0m\u001b[0;34m\u001b[0m\u001b[0;34m\u001b[0m\u001b[0m\n\u001b[0m\u001b[1;32m     88\u001b[0m \u001b[0;34m\u001b[0m\u001b[0m\n\u001b[1;32m     89\u001b[0m             \u001b[0;31m# save logged informations into log dict\u001b[0m\u001b[0;34m\u001b[0m\u001b[0;34m\u001b[0m\u001b[0;34m\u001b[0m\u001b[0m\n",
      "\u001b[0;32m~/IUSM/CellTemplate/trainer/trainer.py\u001b[0m in \u001b[0;36m_train_epoch\u001b[0;34m(self, epoch)\u001b[0m\n\u001b[1;32m     61\u001b[0m \u001b[0;34m\u001b[0m\u001b[0m\n\u001b[1;32m     62\u001b[0m             \u001b[0mself\u001b[0m\u001b[0;34m.\u001b[0m\u001b[0mwriter\u001b[0m\u001b[0;34m.\u001b[0m\u001b[0mset_step\u001b[0m\u001b[0;34m(\u001b[0m\u001b[0;34m(\u001b[0m\u001b[0mepoch\u001b[0m \u001b[0;34m-\u001b[0m \u001b[0;36m1\u001b[0m\u001b[0;34m)\u001b[0m \u001b[0;34m*\u001b[0m \u001b[0mlen\u001b[0m\u001b[0;34m(\u001b[0m\u001b[0mself\u001b[0m\u001b[0;34m.\u001b[0m\u001b[0mdata_loader\u001b[0m\u001b[0;34m)\u001b[0m \u001b[0;34m+\u001b[0m \u001b[0mbatch_idx\u001b[0m\u001b[0;34m)\u001b[0m\u001b[0;34m\u001b[0m\u001b[0;34m\u001b[0m\u001b[0m\n\u001b[0;32m---> 63\u001b[0;31m             \u001b[0mself\u001b[0m\u001b[0;34m.\u001b[0m\u001b[0mwriter\u001b[0m\u001b[0;34m.\u001b[0m\u001b[0madd_scalar\u001b[0m\u001b[0;34m(\u001b[0m\u001b[0;34m'loss'\u001b[0m\u001b[0;34m,\u001b[0m \u001b[0mloss\u001b[0m\u001b[0;34m.\u001b[0m\u001b[0mitem\u001b[0m\u001b[0;34m(\u001b[0m\u001b[0;34m)\u001b[0m\u001b[0;34m)\u001b[0m\u001b[0;34m\u001b[0m\u001b[0;34m\u001b[0m\u001b[0m\n\u001b[0m\u001b[1;32m     64\u001b[0m             \u001b[0mtotal_loss\u001b[0m \u001b[0;34m+=\u001b[0m \u001b[0mloss\u001b[0m\u001b[0;34m.\u001b[0m\u001b[0mitem\u001b[0m\u001b[0;34m(\u001b[0m\u001b[0;34m)\u001b[0m\u001b[0;34m\u001b[0m\u001b[0;34m\u001b[0m\u001b[0m\n\u001b[1;32m     65\u001b[0m             \u001b[0mtotal_metrics\u001b[0m \u001b[0;34m+=\u001b[0m \u001b[0mself\u001b[0m\u001b[0;34m.\u001b[0m\u001b[0m_eval_metrics\u001b[0m\u001b[0;34m(\u001b[0m\u001b[0moutput\u001b[0m\u001b[0;34m,\u001b[0m \u001b[0mtarget\u001b[0m\u001b[0;34m)\u001b[0m\u001b[0;34m\u001b[0m\u001b[0;34m\u001b[0m\u001b[0m\n",
      "\u001b[0;31mKeyboardInterrupt\u001b[0m: "
     ]
    }
   ],
   "source": [
    "#Train the network\n",
    "main(config, None)"
   ]
  },
  {
   "cell_type": "code",
   "execution_count": 28,
   "metadata": {},
   "outputs": [
    {
     "name": "stdout",
     "output_type": "stream",
     "text": [
      "skipped file: config.json\n"
     ]
    },
    {
     "data": {
      "image/png": "[encoded data removed]",
      "text/plain": [
       "<Figure size 432x288 with 1 Axes>"
      ]
     },
     "metadata": {
      "needs_background": "light"
     },
     "output_type": "display_data"
    },
    {
     "data": {
      "image/png": "[encoded data removed]",
      "text/plain": [
       "<Figure size 432x288 with 1 Axes>"
      ]
     },
     "metadata": {
      "needs_background": "light"
     },
     "output_type": "display_data"
    },
    {
     "name": "stdout",
     "output_type": "stream",
     "text": [
      "done\n"
     ]
    }
   ],
   "source": [
    "saved_dir = 'saved/MaskedVolume_3d/0620_142107'\n",
    "config_saved_filename = os.path.join(saved_dir, \"config.json\")\n",
    "#os.system('tensorboard --logdir ' + log_dir) cannot use with google VM without paying $$$\n",
    "viewTraining.graphLoss(saved_dir, best=False) #imported from utils\n",
    "\n",
    "print('done')"
   ]
  },
  {
   "cell_type": "code",
   "execution_count": 29,
   "metadata": {},
   "outputs": [],
   "source": [
    "def main2(config, resume):\n",
    "    # setup data_loader instances\n",
    "    data_loader = get_instance(module_data, 'data_loader_test', config)\n",
    "    '''\n",
    "    \n",
    "    data_loader = getattr(module_data, config['data_loader']['type'])(\n",
    "        config['data_loader']['args']['data_dir'],\n",
    "        batch_size=1,\n",
    "        shuffle=False,\n",
    "        validation_split=0.0,\n",
    "        training=False,\n",
    "        num_workers=2\n",
    "    )\n",
    "    '''\n",
    "    # build model architecture\n",
    "    model = get_instance(module_arch, 'arch', config)\n",
    "    print(model)\n",
    "    print(torch.cuda.get_device_name(0))\n",
    "    normalized = False\n",
    "\n",
    "    \n",
    "    # get function handles of loss and metrics\n",
    "    loss_fn = getattr(module_loss, config['loss'])\n",
    "    criterion = loss_fn(None)\n",
    "    metric_fns = [getattr(module_metric, met) for met in config['metrics']]\n",
    "    \n",
    "    # load state dict\n",
    "    checkpoint = torch.load(resume)\n",
    "    state_dict = checkpoint['state_dict'] #dictionary of model parameters from saved file\n",
    "    if config['n_gpu'] > 1:\n",
    "        model = torch.nn.DataParallel(model)\n",
    "    model.load_state_dict(state_dict) \n",
    "    \n",
    "    # prepare model for testing\n",
    "    device = torch.device('cuda' if torch.cuda.is_available() else 'cpu')\n",
    "    model = model.to(device)\n",
    "    model.eval() #tells model to ignore dropout and batch normalization\n",
    "    \n",
    "    total_loss = 0.0\n",
    "    total_metrics = torch.zeros(len(metric_fns))\n",
    "    \n",
    "    classes = ('endothelium', 'pct')\n",
    "    all_pred = []\n",
    "    all_true = []\n",
    "    #hm_layers = {'final_layer': 'layer', 'fc_layer': 'fc_layer', 'conv_num': 17, 'fc_num': 3}\n",
    "    \n",
    "    #heatmapper = classActivationMap.CAMgenerator(hm_layers, config, model)\n",
    "    #heatmapper.generateImage(num_images=10)\n",
    "    \n",
    "    with torch.no_grad(): #speed up calculations, unable to perform back propogation\n",
    "        for i, (data, target) in enumerate(tqdm(data_loader)): #tqdm is a progress bar\n",
    "            data, target = data.to(device), target.to(device)\n",
    "            output = model(data)\n",
    "            image = np.squeeze(data[0].cpu().data.numpy())\n",
    "            all_true.extend(target.cpu().data.numpy())\n",
    "            all_pred.extend(np.argmax(output.cpu().data.numpy(), axis=1))\n",
    "            \n",
    "            #\n",
    "            # save sample images, or do something with output here\n",
    "            #\n",
    "            \n",
    "            \n",
    "            if i < 5:\n",
    "                #util.visualizationOutGray(data, output, target, classes, normalized)\n",
    "                a=1\n",
    "                \n",
    "                \n",
    "                \n",
    "            # computing loss, metrics on test set\n",
    "            loss = criterion(output, target)\n",
    "            batch_size = data.shape[0]\n",
    "            total_loss += loss.item() * batch_size\n",
    "            if output.is_cuda: output = output.cpu()\n",
    "            if target.is_cuda: target = target.cpu()\n",
    "            \n",
    "            for i, metric in enumerate(metric_fns):\n",
    "                total_metrics[i] += metric(output, target) * batch_size\n",
    "        \n",
    "        #plt.show()\n",
    "        \n",
    "    \n",
    "    n_samples = len(data_loader.sampler)\n",
    "    print(\"num test images = \" + str(n_samples))\n",
    "    log = {'loss': total_loss / n_samples}\n",
    "    log.update({met.__name__: total_metrics[i].item() / n_samples for i, met in enumerate(metric_fns)})\n",
    "    for key in log:\n",
    "        print(\"{} = {:.4f}\".format(key, log[key]))\n",
    "    #print(log)\n",
    "    log['classes'] = classes\n",
    "    log['test_targets'] = all_true\n",
    "    log['test_predictions'] = all_pred\n",
    "    print(\"My_metric is accuracy\")\n",
    "    util.plot_confusion_matrix(all_true, all_pred, classes=classes, normalize=False) \n",
    "    \n"
   ]
  },
  {
   "cell_type": "code",
   "execution_count": 30,
   "metadata": {},
   "outputs": [
    {
     "name": "stdout",
     "output_type": "stream",
     "text": [
      "True\n",
      "True\n"
     ]
    }
   ],
   "source": [
    "#saved_dir = \"saved/GroundTruth_cellData/0529_191042/\"\n",
    "resume = os.path.join(saved_dir, \"model_best.pth\")\n",
    "\n",
    "print(os.path.isdir(saved_dir))\n",
    "print(os.path.exists(resume))\n",
    "\n",
    "#config = torch.load(saved_dir + \"config.json\")\n",
    "os.environ[\"CUDA_VISIBLE_DEVICES\"] = \"0,1\""
   ]
  },
  {
   "cell_type": "code",
   "execution_count": 32,
   "metadata": {
    "scrolled": true
   },
   "outputs": [
    {
     "name": "stderr",
     "output_type": "stream",
     "text": [
      "\r",
      "  0%|          | 0/4 [00:00<?, ?it/s]"
     ]
    },
    {
     "name": "stdout",
     "output_type": "stream",
     "text": [
      "threeDmodel(\n",
      "  (conv_layer1): Sequential(\n",
      "    (0): Conv3d(1, 32, kernel_size=(3, 3, 3), stride=(1, 1, 1), padding=(1, 1, 1))\n",
      "    (1): BatchNorm3d(32, eps=1e-05, momentum=0.1, affine=True, track_running_stats=True)\n",
      "    (2): LeakyReLU(negative_slope=0.01)\n",
      "    (3): Conv3d(32, 32, kernel_size=(3, 3, 3), stride=(1, 1, 1), padding=(1, 1, 1))\n",
      "    (4): BatchNorm3d(32, eps=1e-05, momentum=0.1, affine=True, track_running_stats=True)\n",
      "    (5): LeakyReLU(negative_slope=0.01)\n",
      "    (6): MaxPool3d(kernel_size=(2, 2, 2), stride=(2, 2, 2), padding=0, dilation=1, ceil_mode=False)\n",
      "  )\n",
      "  (conv_layer2): Sequential(\n",
      "    (0): Conv3d(32, 64, kernel_size=(3, 3, 3), stride=(1, 1, 1), padding=(1, 1, 1))\n",
      "    (1): BatchNorm3d(64, eps=1e-05, momentum=0.1, affine=True, track_running_stats=True)\n",
      "    (2): LeakyReLU(negative_slope=0.01)\n",
      "    (3): Conv3d(64, 64, kernel_size=(3, 3, 3), stride=(1, 1, 1), padding=(1, 1, 1))\n",
      "    (4): BatchNorm3d(64, eps=1e-05, momentum=0.1, affine=True, track_running_stats=True)\n",
      "    (5): LeakyReLU(negative_slope=0.01)\n",
      "    (6): MaxPool3d(kernel_size=(2, 2, 2), stride=(2, 2, 2), padding=0, dilation=1, ceil_mode=False)\n",
      "  )\n",
      "  (conv_layer3): Sequential(\n",
      "    (0): Conv3d(64, 128, kernel_size=(3, 3, 3), stride=(1, 1, 1), padding=(1, 1, 1))\n",
      "    (1): BatchNorm3d(128, eps=1e-05, momentum=0.1, affine=True, track_running_stats=True)\n",
      "    (2): LeakyReLU(negative_slope=0.01)\n",
      "    (3): Conv3d(128, 128, kernel_size=(3, 3, 3), stride=(1, 1, 1), padding=(1, 1, 1))\n",
      "    (4): BatchNorm3d(128, eps=1e-05, momentum=0.1, affine=True, track_running_stats=True)\n",
      "    (5): LeakyReLU(negative_slope=0.01)\n",
      "    (6): MaxPool3d(kernel_size=(2, 2, 2), stride=(2, 2, 2), padding=0, dilation=1, ceil_mode=False)\n",
      "  )\n",
      "  (conv_layer4): Conv3d(128, 256, kernel_size=(1, 3, 3), stride=(1, 1, 1), padding=(0, 1, 1))\n",
      "  (fc5): Linear(in_features=4096, out_features=256, bias=True)\n",
      "  (relu): LeakyReLU(negative_slope=0.01)\n",
      "  (batch0): BatchNorm1d(256, eps=1e-05, momentum=0.1, affine=True, track_running_stats=True)\n",
      "  (drop): Dropout(p=0.5)\n",
      "  (fc6): Linear(in_features=256, out_features=128, bias=True)\n",
      "  (relu1): LeakyReLU(negative_slope=0.01)\n",
      "  (batch1): BatchNorm1d(128, eps=1e-05, momentum=0.1, affine=True, track_running_stats=True)\n",
      "  (drop1): Dropout(p=0.5)\n",
      "  (fc7): Linear(in_features=128, out_features=2, bias=True)\n",
      ")\n",
      "Trainable parameters: 2237218\n",
      "Tesla K80\n"
     ]
    },
    {
     "name": "stderr",
     "output_type": "stream",
     "text": [
      "100%|██████████| 4/4 [00:00<00:00,  7.74it/s]\n"
     ]
    },
    {
     "name": "stdout",
     "output_type": "stream",
     "text": [
      "num test images = 230\n",
      "loss = 0.5533\n",
      "my_metric = 0.7696\n",
      "f1 = 0.7664\n",
      "balanced_accuracy = 0.7692\n",
      "precision = 0.7862\n",
      "recall = 0.7696\n",
      "My_metric is accuracy\n",
      "Confusion matrix, without normalization\n",
      "[[88 23]\n",
      " [30 89]]\n"
     ]
    },
    {
     "data": {
      "image/png": "[encoded data removed]",
      "text/plain": [
       "<Figure size 432x288 with 2 Axes>"
      ]
     },
     "metadata": {
      "needs_background": "light"
     },
     "output_type": "display_data"
    }
   ],
   "source": [
    "#Test\n",
    "main2(config, resume)"
   ]
  },
  {
   "cell_type": "code",
   "execution_count": null,
   "metadata": {},
   "outputs": [],
   "source": []
  }
 ],
 "metadata": {
  "kernelspec": {
   "display_name": "Python 3",
   "language": "python",
   "name": "python3"
  },
  "language_info": {
   "codemirror_mode": {
    "name": "ipython",
    "version": 3
   },
   "file_extension": ".py",
   "mimetype": "text/x-python",
   "name": "python",
   "nbconvert_exporter": "python",
   "pygments_lexer": "ipython3",
   "version": "3.6.8"
  }
 },
 "nbformat": 4,
 "nbformat_minor": 2
}
