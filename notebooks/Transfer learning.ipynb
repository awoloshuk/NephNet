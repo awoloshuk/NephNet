{
 "cells": [
  {
   "cell_type": "code",
   "execution_count": 60,
   "metadata": {},
   "outputs": [
    {
     "name": "stdout",
     "output_type": "stream",
     "text": [
      "Modules loaded\n"
     ]
    }
   ],
   "source": [
    "import os\n",
    "import sys\n",
    "sys.path.append(\"../../NephNet\")\n",
    "import argparse\n",
    "import torch\n",
    "import json\n",
    "import matplotlib.pyplot as plt\n",
    "from tqdm import tqdm\n",
    "import data_loader.data_loaders as module_data\n",
    "import model.loss as module_loss\n",
    "import model.metric as module_metric\n",
    "import model.model as module_arch\n",
    "from train import get_instance\n",
    "import numpy as np\n",
    "import torchvision\n",
    "from torch.nn import functional as F\n",
    "from torch import topk\n",
    "import skimage.transform\n",
    "from torch.optim import lr_scheduler\n",
    "from tqdm import tqdm\n",
    "import math\n",
    "from utils import util\n",
    "import pandas as pd\n",
    "from trainer import Trainer\n",
    "from utils import Logger\n",
    "from utils import util\n",
    "from utils import torchsummary\n",
    "\n",
    "print(\"Modules loaded\")"
   ]
  },
  {
   "cell_type": "code",
   "execution_count": 92,
   "metadata": {},
   "outputs": [
    {
     "name": "stdout",
     "output_type": "stream",
     "text": [
      "GPUs available: 1\n",
      "FIN\n"
     ]
    }
   ],
   "source": [
    "print(\"GPUs available: \" + str(torch.cuda.device_count()))\n",
    "os.environ[\"CUDA_VISIBLE_DEVICES\"] = \"0,1\"\n",
    "\n",
    "device = torch.device('cuda' if torch.cuda.is_available() else 'cpu')\n",
    "\n",
    "\n",
    "def get_instance(module, name, config, *args):\n",
    "    return getattr(module, config[name]['type'])(*args, **config[name]['args'])\n",
    "\n",
    "model_threeD = getattr(module_arch, 'threeDmodel')(num_feature=76, num_classes=9)\n",
    "\n",
    "# load state dict\n",
    "resume_threeD = \"C:/Users/awoloshu/Documents/NephNet/saved/train44test33/1219_171844/model_best.pth\"\n",
    "checkpoint_threeD = torch.load(resume_threeD)\n",
    "model_threeD.load_state_dict(checkpoint_threeD['state_dict'])\n",
    "\n",
    "for param in model_threeD.parameters():\n",
    "    param.requires_grad = False #change to False\n",
    "\n",
    "for param in model_threeD.fc7.parameters():\n",
    "    param.requires_grad = True\n",
    "for param in model_threeD.fc6.parameters():\n",
    "    param.requires_grad = True\n",
    "print(\"FIN\")\n",
    "\n",
    "model = model_threeD\n",
    "trainable_params = filter(lambda p: p.requires_grad, model.parameters())\n"
   ]
  },
  {
   "cell_type": "code",
   "execution_count": 93,
   "metadata": {},
   "outputs": [
    {
     "name": "stdout",
     "output_type": "stream",
     "text": [
      "GPUs available: 1\n",
      "Using GPU: GeForce RTX 2080 Ti\n"
     ]
    }
   ],
   "source": [
    "#Create a data loader for F59\n",
    "config_text = \"C:/Users/awoloshu/Documents/NephNet/configs/config_Train44Test33_transfer.json\"\n",
    "with open(config_text) as handle:\n",
    "    config = json.load(handle)\n",
    "# setting path to save trained models and log files\n",
    "path = os.path.join(config['trainer']['save_dir'], config['name'])\n",
    "\n",
    "torch.backends.cudnn.benchmark = True\n",
    "os.environ[\"OMP_NUM_THREADS\"] = \"8\"\n",
    "os.environ[\"NUMEXPR_MAX_THREADS\"] = \"16\"\n",
    "print(\"GPUs available: \" + str(torch.cuda.device_count()))\n",
    "os.environ[\"CUDA_VISIBLE_DEVICES\"] = \"0,1\"\n",
    "train_logger = Logger()\n",
    "\n",
    "device = torch.device('cuda' if torch.cuda.is_available() else 'cpu')\n",
    "# setup data_loader instances\n",
    "data_loader = get_instance(module_data, 'data_loader', config)\n",
    "valid_data_loader = data_loader.split_validation()\n",
    "\n",
    "if torch.cuda.is_available():\n",
    "    print(\"Using GPU: \" + torch.cuda.get_device_name(0))\n",
    "else:\n",
    "    print(\"Using CPU to train\")\n",
    "\n",
    "# get function handles of loss and metrics\n",
    "loss = getattr(module_loss, config['loss']) #looks in model/loss.py for criterion function specified in config\n",
    "criterion = loss(data_loader.dataset.weight.to(device)) # for imbalanced datasets\n",
    "metrics = [getattr(module_metric, met) for met in config['metrics']]\n",
    "\n",
    "# build optimizer, learning rate scheduler. delete every lines containing lr_scheduler for disabling scheduler\n",
    "trainable_params = filter(lambda p: p.requires_grad, model.parameters())\n",
    "if config['optimizer']['type'] == \"adabound\":\n",
    "    optimizer = getattr(adabound, \"AdaBound\")(trainable_params, **config['optimizer']['args'])\n",
    "else:\n",
    "    optimizer = get_instance(torch.optim, 'optimizer', config, trainable_params)\n",
    "lr_scheduler = get_instance(torch.optim.lr_scheduler, 'lr_scheduler', config, optimizer)\n",
    "\n",
    "trainer = Trainer(model, criterion, metrics, optimizer,\n",
    "                  resume=None,\n",
    "                  config=config,\n",
    "                  data_loader=data_loader,\n",
    "                  valid_data_loader=valid_data_loader,\n",
    "                  lr_scheduler=lr_scheduler,\n",
    "                  train_logger=train_logger)\n"
   ]
  },
  {
   "cell_type": "code",
   "execution_count": null,
   "metadata": {},
   "outputs": [],
   "source": []
  },
  {
   "cell_type": "code",
   "execution_count": 94,
   "metadata": {
    "scrolled": true
   },
   "outputs": [
    {
     "name": "stderr",
     "output_type": "stream",
     "text": [
      "    epoch          : 1\n",
      "    loss           : 1.1228393738468487\n",
      "    accuracy       : 0.6302083333333334\n",
      "    f1             : 0.6368893003592587\n",
      "    balanced_accuracy: 0.6421387631031197\n",
      "    precision      : 0.6677471522691887\n",
      "    recall         : 0.6302083333333334\n",
      "    val_loss       : 1.1077040433883667\n",
      "    val_accuracy   : 0.6460176991150443\n",
      "    val_f1         : 0.6464615072541199\n",
      "    val_balanced_accuracy: 0.6082510082510082\n",
      "    val_precision  : 0.6740412979351031\n",
      "    val_recall     : 0.6460176991150443\n"
     ]
    },
    {
     "name": "stdout",
     "output_type": "stream",
     "text": [
      "Model best! ---------------------------| \n"
     ]
    },
    {
     "name": "stderr",
     "output_type": "stream",
     "text": [
      "Saving checkpoint: C:/Users/awoloshu/Documents/NephNet/saved/train44test33_transfer\\0107_152708\\checkpoint-epoch1.pth ...\n",
      "Saving current best: model_best.pth ...\n",
      "    epoch          : 2\n",
      "    loss           : 1.1537920435269673\n",
      "    accuracy       : 0.5755208333333334\n",
      "    f1             : 0.5804590891261329\n",
      "    balanced_accuracy: 0.6127073011976393\n",
      "    precision      : 0.6076088046708488\n",
      "    recall         : 0.5755208333333334\n",
      "    val_loss       : 1.0730293989181519\n",
      "    val_accuracy   : 0.6371681415929203\n",
      "    val_f1         : 0.6221102158507726\n",
      "    val_balanced_accuracy: 0.621073371073371\n",
      "    val_precision  : 0.629079003409807\n",
      "    val_recall     : 0.6371681415929203\n"
     ]
    },
    {
     "name": "stdout",
     "output_type": "stream",
     "text": [
      "Model best! ---------------------------| \n"
     ]
    },
    {
     "name": "stderr",
     "output_type": "stream",
     "text": [
      "Saving checkpoint: C:/Users/awoloshu/Documents/NephNet/saved/train44test33_transfer\\0107_152708\\checkpoint-epoch2.pth ...\n",
      "Saving current best: model_best.pth ...\n",
      "    epoch          : 3\n",
      "    loss           : 1.0897649923960369\n",
      "    accuracy       : 0.5833333333333334\n",
      "    f1             : 0.586085108353255\n",
      "    balanced_accuracy: 0.5865908856797822\n",
      "    precision      : 0.6168275369057828\n",
      "    recall         : 0.5833333333333334\n",
      "    val_loss       : 1.165052890777588\n",
      "    val_accuracy   : 0.6194690265486725\n",
      "    val_f1         : 0.597572076506282\n",
      "    val_balanced_accuracy: 0.5217583342583342\n",
      "    val_precision  : 0.6180926916221033\n",
      "    val_recall     : 0.6194690265486725\n"
     ]
    },
    {
     "name": "stdout",
     "output_type": "stream",
     "text": [
      "Model has not improved in -------------| 1 epochs\n"
     ]
    },
    {
     "name": "stderr",
     "output_type": "stream",
     "text": [
      "    epoch          : 4\n",
      "    loss           : 1.0788921217123668\n",
      "    accuracy       : 0.5729166666666666\n",
      "    f1             : 0.5854033584631795\n",
      "    balanced_accuracy: 0.5752384487399107\n",
      "    precision      : 0.6330370613470561\n",
      "    recall         : 0.5729166666666666\n",
      "    val_loss       : 1.0729210376739502\n",
      "    val_accuracy   : 0.6194690265486725\n",
      "    val_f1         : 0.6100677602995446\n",
      "    val_balanced_accuracy: 0.5829892329892329\n",
      "    val_precision  : 0.6340537780803268\n",
      "    val_recall     : 0.6194690265486725\n"
     ]
    },
    {
     "name": "stdout",
     "output_type": "stream",
     "text": [
      "Model best! ---------------------------| \n"
     ]
    },
    {
     "name": "stderr",
     "output_type": "stream",
     "text": [
      "Saving checkpoint: C:/Users/awoloshu/Documents/NephNet/saved/train44test33_transfer\\0107_152708\\checkpoint-epoch4.pth ...\n",
      "Saving current best: model_best.pth ...\n",
      "    epoch          : 5\n",
      "    loss           : 1.0301318367322285\n",
      "    accuracy       : 0.5911458333333334\n",
      "    f1             : 0.6033431454877415\n",
      "    balanced_accuracy: 0.5864594167044026\n",
      "    precision      : 0.6539422699810241\n",
      "    recall         : 0.5911458333333334\n",
      "    val_loss       : 1.0756453275680542\n",
      "    val_accuracy   : 0.6460176991150443\n",
      "    val_f1         : 0.6415147613330223\n",
      "    val_balanced_accuracy: 0.5785936285936285\n",
      "    val_precision  : 0.6739831049788321\n",
      "    val_recall     : 0.6460176991150443\n"
     ]
    },
    {
     "name": "stdout",
     "output_type": "stream",
     "text": [
      "Model has not improved in -------------| 1 epochs\n"
     ]
    },
    {
     "name": "stderr",
     "output_type": "stream",
     "text": [
      "    epoch          : 6\n",
      "    loss           : 0.9314877440532049\n",
      "    accuracy       : 0.6953125\n",
      "    f1             : 0.6964481759156961\n",
      "    balanced_accuracy: 0.7119268900004307\n",
      "    precision      : 0.716515402981393\n",
      "    recall         : 0.6953125\n",
      "    val_loss       : 0.984937310218811\n",
      "    val_accuracy   : 0.6637168141592921\n",
      "    val_f1         : 0.6575730562456226\n",
      "    val_balanced_accuracy: 0.6040871165871166\n",
      "    val_precision  : 0.6699001021928869\n",
      "    val_recall     : 0.6637168141592921\n"
     ]
    },
    {
     "name": "stdout",
     "output_type": "stream",
     "text": [
      "Model best! ---------------------------| \n"
     ]
    },
    {
     "name": "stderr",
     "output_type": "stream",
     "text": [
      "Saving checkpoint: C:/Users/awoloshu/Documents/NephNet/saved/train44test33_transfer\\0107_152708\\checkpoint-epoch6.pth ...\n",
      "Saving current best: model_best.pth ...\n",
      "    epoch          : 7\n",
      "    loss           : 1.1122316320737202\n",
      "    accuracy       : 0.58984375\n",
      "    f1             : 0.5940314874240573\n",
      "    balanced_accuracy: 0.5853710357924699\n",
      "    precision      : 0.6179735128537042\n",
      "    recall         : 0.58984375\n",
      "    val_loss       : 1.0149275064468384\n",
      "    val_accuracy   : 0.6548672566371682\n",
      "    val_f1         : 0.6517868482161545\n",
      "    val_balanced_accuracy: 0.5636146261146261\n",
      "    val_precision  : 0.6797544510126272\n",
      "    val_recall     : 0.6548672566371682\n"
     ]
    },
    {
     "name": "stdout",
     "output_type": "stream",
     "text": [
      "Model has not improved in -------------| 1 epochs\n"
     ]
    },
    {
     "name": "stderr",
     "output_type": "stream",
     "text": [
      "    epoch          : 8\n",
      "    loss           : 0.9530879358450571\n",
      "    accuracy       : 0.69921875\n",
      "    f1             : 0.7019426255133522\n",
      "    balanced_accuracy: 0.6899353775592244\n",
      "    precision      : 0.7192900259011793\n",
      "    recall         : 0.69921875\n",
      "    val_loss       : 1.0694284439086914\n",
      "    val_accuracy   : 0.6902654867256637\n",
      "    val_f1         : 0.6734021750611315\n",
      "    val_balanced_accuracy: 0.6144744144744144\n",
      "    val_precision  : 0.6945169105615432\n",
      "    val_recall     : 0.6902654867256637\n"
     ]
    },
    {
     "name": "stdout",
     "output_type": "stream",
     "text": [
      "Model has not improved in -------------| 2 epochs\n"
     ]
    },
    {
     "name": "stderr",
     "output_type": "stream",
     "text": [
      "    epoch          : 9\n",
      "    loss           : 1.3154028753439586\n",
      "    accuracy       : 0.5611979166666666\n",
      "    f1             : 0.5635107293110154\n",
      "    balanced_accuracy: 0.5605696949188016\n",
      "    precision      : 0.5878369421247469\n",
      "    recall         : 0.5611979166666666\n",
      "    val_loss       : 1.1235359907150269\n",
      "    val_accuracy   : 0.6637168141592921\n",
      "    val_f1         : 0.6338878522457226\n",
      "    val_balanced_accuracy: 0.5809514559514559\n",
      "    val_precision  : 0.6384281205520144\n",
      "    val_recall     : 0.6637168141592921\n"
     ]
    },
    {
     "name": "stdout",
     "output_type": "stream",
     "text": [
      "Model has not improved in -------------| 3 epochs\n"
     ]
    },
    {
     "name": "stderr",
     "output_type": "stream",
     "text": [
      "    epoch          : 10\n",
      "    loss           : 1.3105475107828777\n",
      "    accuracy       : 0.60546875\n",
      "    f1             : 0.6205217889050371\n",
      "    balanced_accuracy: 0.5845227036066988\n",
      "    precision      : 0.6664994022154674\n",
      "    recall         : 0.60546875\n",
      "    val_loss       : 1.124911904335022\n",
      "    val_accuracy   : 0.6460176991150443\n",
      "    val_f1         : 0.6282526234669772\n",
      "    val_balanced_accuracy: 0.5891705516705517\n",
      "    val_precision  : 0.6424238926393601\n",
      "    val_recall     : 0.6460176991150443\n"
     ]
    },
    {
     "name": "stdout",
     "output_type": "stream",
     "text": [
      "Model has not improved in -------------| 4 epochs\n"
     ]
    },
    {
     "name": "stderr",
     "output_type": "stream",
     "text": [
      "    epoch          : 11\n",
      "    loss           : 1.1546667615572612\n",
      "    accuracy       : 0.546875\n",
      "    f1             : 0.5650734419613586\n",
      "    balanced_accuracy: 0.5282042087845966\n",
      "    precision      : 0.6160661443019445\n",
      "    recall         : 0.546875\n",
      "    val_loss       : 1.0334666967391968\n",
      "    val_accuracy   : 0.6637168141592921\n",
      "    val_f1         : 0.651885680949491\n",
      "    val_balanced_accuracy: 0.6348026973026973\n",
      "    val_precision  : 0.6909689364570201\n",
      "    val_recall     : 0.6637168141592921\n"
     ]
    },
    {
     "name": "stdout",
     "output_type": "stream",
     "text": [
      "Model has not improved in -------------| 5 epochs\n"
     ]
    },
    {
     "name": "stderr",
     "output_type": "stream",
     "text": [
      "    epoch          : 12\n",
      "    loss           : 1.3382964928944905\n",
      "    accuracy       : 0.53515625\n",
      "    f1             : 0.542260692679139\n",
      "    balanced_accuracy: 0.5614253780096047\n",
      "    precision      : 0.5807301049728846\n",
      "    recall         : 0.53515625\n",
      "    val_loss       : 1.1304131746292114\n",
      "    val_accuracy   : 0.6194690265486725\n",
      "    val_f1         : 0.6216637732706666\n",
      "    val_balanced_accuracy: 0.5977684352684353\n",
      "    val_precision  : 0.6630265448589238\n",
      "    val_recall     : 0.6194690265486725\n"
     ]
    },
    {
     "name": "stdout",
     "output_type": "stream",
     "text": [
      "Model has not improved in -------------| 6 epochs\n"
     ]
    },
    {
     "name": "stderr",
     "output_type": "stream",
     "text": [
      "    epoch          : 13\n",
      "    loss           : 1.1393253207206726\n",
      "    accuracy       : 0.5859375\n",
      "    f1             : 0.6051044664489781\n",
      "    balanced_accuracy: 0.5997608452633928\n",
      "    precision      : 0.6665383745172452\n",
      "    recall         : 0.5859375\n",
      "    val_loss       : 1.063291311264038\n",
      "    val_accuracy   : 0.6637168141592921\n",
      "    val_f1         : 0.6318725825722444\n",
      "    val_balanced_accuracy: 0.6314717689717689\n",
      "    val_precision  : 0.644814603234697\n",
      "    val_recall     : 0.6637168141592921\n"
     ]
    },
    {
     "name": "stdout",
     "output_type": "stream",
     "text": [
      "Model has not improved in -------------| 7 epochs\n"
     ]
    },
    {
     "name": "stderr",
     "output_type": "stream",
     "text": [
      "    epoch          : 14\n",
      "    loss           : 1.1691522200902302\n",
      "    accuracy       : 0.6041666666666666\n",
      "    f1             : 0.6045353559342491\n",
      "    balanced_accuracy: 0.5945762425244734\n",
      "    precision      : 0.6365812681242369\n",
      "    recall         : 0.6041666666666666\n",
      "    val_loss       : 1.094102382659912\n",
      "    val_accuracy   : 0.6371681415929203\n",
      "    val_f1         : 0.6227084615770696\n",
      "    val_balanced_accuracy: 0.6016858141858141\n",
      "    val_precision  : 0.6653148036179971\n",
      "    val_recall     : 0.6371681415929203\n"
     ]
    },
    {
     "name": "stdout",
     "output_type": "stream",
     "text": [
      "Model has not improved in -------------| 8 epochs\n"
     ]
    },
    {
     "name": "stderr",
     "output_type": "stream",
     "text": [
      "    epoch          : 15\n",
      "    loss           : 1.086675653855006\n",
      "    accuracy       : 0.6419270833333334\n",
      "    f1             : 0.6572539774739204\n",
      "    balanced_accuracy: 0.6646057030489504\n",
      "    precision      : 0.7105441747165253\n",
      "    recall         : 0.6419270833333334\n",
      "    val_loss       : 1.150467872619629\n",
      "    val_accuracy   : 0.6460176991150443\n",
      "    val_f1         : 0.6296998074553247\n",
      "    val_balanced_accuracy: 0.5578185703185703\n",
      "    val_precision  : 0.6519817145788673\n",
      "    val_recall     : 0.6460176991150443\n"
     ]
    },
    {
     "name": "stdout",
     "output_type": "stream",
     "text": [
      "Model has not improved in -------------| 9 epochs\n"
     ]
    },
    {
     "name": "stderr",
     "output_type": "stream",
     "text": [
      "    epoch          : 16\n",
      "    loss           : 1.120400498310725\n",
      "    accuracy       : 0.5611979166666666\n",
      "    f1             : 0.5644031077824317\n",
      "    balanced_accuracy: 0.5693698282600071\n",
      "    precision      : 0.5869057805110195\n",
      "    recall         : 0.5611979166666666\n",
      "    val_loss       : 1.0812135934829712\n",
      "    val_accuracy   : 0.7079646017699115\n",
      "    val_f1         : 0.7002173278818142\n",
      "    val_balanced_accuracy: 0.6411939911939911\n",
      "    val_precision  : 0.7194368463395012\n",
      "    val_recall     : 0.7079646017699115\n"
     ]
    },
    {
     "name": "stdout",
     "output_type": "stream",
     "text": [
      "Model has not improved in -------------| 10 epochs\n"
     ]
    },
    {
     "name": "stderr",
     "output_type": "stream",
     "text": [
      "    epoch          : 17\n",
      "    loss           : 1.079163173834483\n",
      "    accuracy       : 0.6145833333333334\n",
      "    f1             : 0.6195627349833096\n",
      "    balanced_accuracy: 0.6213639755388715\n",
      "    precision      : 0.642683385010869\n",
      "    recall         : 0.6145833333333334\n",
      "    val_loss       : 1.0388436317443848\n",
      "    val_accuracy   : 0.6991150442477876\n",
      "    val_f1         : 0.6856170786275483\n",
      "    val_balanced_accuracy: 0.6209138084138084\n",
      "    val_precision  : 0.7017033507298994\n",
      "    val_recall     : 0.6991150442477876\n"
     ]
    },
    {
     "name": "stdout",
     "output_type": "stream",
     "text": [
      "Model has not improved in -------------| 11 epochs\n"
     ]
    },
    {
     "name": "stderr",
     "output_type": "stream",
     "text": [
      "    epoch          : 18\n",
      "    loss           : 1.0693277021249135\n",
      "    accuracy       : 0.59765625\n",
      "    f1             : 0.6035877179757739\n",
      "    balanced_accuracy: 0.6422514512236505\n",
      "    precision      : 0.629149345854309\n",
      "    recall         : 0.59765625\n",
      "    val_loss       : 1.0773893594741821\n",
      "    val_accuracy   : 0.6814159292035398\n",
      "    val_f1         : 0.6531862776187516\n",
      "    val_balanced_accuracy: 0.6337357087357087\n",
      "    val_precision  : 0.6674812842527027\n",
      "    val_recall     : 0.6814159292035398\n"
     ]
    },
    {
     "name": "stdout",
     "output_type": "stream",
     "text": [
      "Model has not improved in -------------| 12 epochs\n"
     ]
    },
    {
     "name": "stderr",
     "output_type": "stream",
     "text": [
      "    epoch          : 19\n",
      "    loss           : 1.1031189461549122\n",
      "    accuracy       : 0.6028645833333334\n",
      "    f1             : 0.6095233647991986\n",
      "    balanced_accuracy: 0.5995411238882565\n",
      "    precision      : 0.6351394621676687\n",
      "    recall         : 0.6028645833333334\n",
      "    val_loss       : 1.0868362188339233\n",
      "    val_accuracy   : 0.6637168141592921\n",
      "    val_f1         : 0.6635340329383066\n",
      "    val_balanced_accuracy: 0.5909562659562659\n",
      "    val_precision  : 0.6861222847948512\n",
      "    val_recall     : 0.6637168141592921\n"
     ]
    },
    {
     "name": "stdout",
     "output_type": "stream",
     "text": [
      "Model has not improved in -------------| 13 epochs\n"
     ]
    },
    {
     "name": "stderr",
     "output_type": "stream",
     "text": [
      "    epoch          : 20\n",
      "    loss           : 1.142319232225418\n",
      "    accuracy       : 0.6002604166666666\n",
      "    f1             : 0.5895093588713841\n",
      "    balanced_accuracy: 0.5982807467817227\n",
      "    precision      : 0.6062011952461294\n",
      "    recall         : 0.6002604166666666\n",
      "    val_loss       : 1.1506314277648926\n",
      "    val_accuracy   : 0.6283185840707964\n",
      "    val_f1         : 0.6226693824038957\n",
      "    val_balanced_accuracy: 0.5552572427572428\n",
      "    val_precision  : 0.6390878776219292\n",
      "    val_recall     : 0.6283185840707964\n"
     ]
    },
    {
     "name": "stdout",
     "output_type": "stream",
     "text": [
      "Model has not improved in -------------| 14 epochs\n"
     ]
    }
   ],
   "source": [
    "trainer.train()"
   ]
  },
  {
   "cell_type": "code",
   "execution_count": 95,
   "metadata": {},
   "outputs": [
    {
     "name": "stderr",
     "output_type": "stream",
     "text": [
      "\r",
      "  0%|          | 0/295 [00:00<?, ?it/s]"
     ]
    },
    {
     "name": "stdout",
     "output_type": "stream",
     "text": [
      "prediction percentages\n",
      "tensor([0.0677, 0.5573, 0.2652, 0.0434, 0.0115, 0.0081, 0.0079, 0.0032, 0.0357])\n",
      "0\n"
     ]
    },
    {
     "data": {
      "image/png": "[encoded data removed]",
      "text/plain": [
       "<Figure size 432x288 with 1 Axes>"
      ]
     },
     "metadata": {
      "needs_background": "light"
     },
     "output_type": "display_data"
    },
    {
     "name": "stderr",
     "output_type": "stream",
     "text": [
      "100%|██████████| 295/295 [01:40<00:00,  2.94it/s]\n"
     ]
    },
    {
     "name": "stdout",
     "output_type": "stream",
     "text": [
      "(75345, 2)\n",
      "TOP 2 ACCURACY: 0.8100338443161458\n",
      "num test images = 75345\n",
      "loss = 1.1060\n",
      "accuracy = 0.6054\n",
      "f1 = 0.7449\n",
      "balanced_accuracy = 0.6057\n",
      "precision = 0.9983\n",
      "recall = 0.6054\n",
      "CM will show aggregation of PCT classes\n",
      "Calculated balanced accuracy after combining PCT: 0.6485485251351677\n",
      "Confusion matrix, without normalization\n",
      "[[12569  3508   898   688   182   168    72   530]\n",
      " [ 1400  9439   921   578   132   118    18   293]\n",
      " [  513   372  3686  1123   193    94    26   151]\n",
      " [  662   353  1285  3644   115    43     4    39]\n",
      " [  331   266   386   274  7013   520   437  1698]\n",
      " [  109   244    45    54   203  3131   728   238]\n",
      " [   18    20     4    14   175   738  1633   155]\n",
      " [  367   493   285   214  1372   592   648  9123]]\n"
     ]
    },
    {
     "data": {
      "image/png": "[encoded data removed]",
      "text/plain": [
       "<Figure size 432x288 with 2 Axes>"
      ]
     },
     "metadata": {
      "needs_background": "light"
     },
     "output_type": "display_data"
    },
    {
     "data": {
      "text/plain": [
       "<matplotlib.axes._subplots.AxesSubplot at 0x1f43137b400>"
      ]
     },
     "execution_count": 95,
     "metadata": {},
     "output_type": "execute_result"
    }
   ],
   "source": [
    "# prepare model for testing\n",
    "model_threeD = getattr(module_arch, 'threeDmodel')(num_feature=76, num_classes=9)\n",
    "\n",
    "# load state dict\n",
    "#resume_threeD = \"C:/Users/awoloshu/Documents/NephNet/saved/train44test33/1219_171844/model_best.pth\" #0percent\n",
    "#resume_threeD = \"C:/Users/awoloshu/Documents/NephNet/saved/train44test33_transfer/0106_173254/model_best.pth\" #10percent\n",
    "#resume_threeD = \"C:/Users/awoloshu/Documents/NephNet/saved/train44test33_transfer/0106_173622/model_best.pth\" #5percent\n",
    "#resume_threeD = \"C:/Users/awoloshu/Documents/NephNet/saved/train44test33_transfer/0106_174248/model_best.pth\" #20percent\n",
    "#resume_threeD = \"C:/Users/awoloshu/Documents/NephNet/saved/train44test33_transfer/0107_142916/model_best.pth\" #7.5%\n",
    "#resume_threeD = \"C:/Users/awoloshu/Documents/NephNet/saved/train44test33_transfer/0107_143718/model_best.pth\" #15%\n",
    "#resume_threeD = \"C:/Users/awoloshu/Documents/NephNet/saved/train44test33_transfer/0107_145101/model_best.pth\" #5% trial 2\n",
    "#resume_threeD = \"C:/Users/awoloshu/Documents/NephNet/saved/train44test33_transfer/0107_151406/model_best.pth\" #2.5% \n",
    "resume_threeD = \"C:/Users/awoloshu/Documents/NephNet/saved/train44test33_transfer/0107_152708/model_best.pth\" #1% \n",
    "\n",
    "\n",
    "checkpoint_threeD = torch.load(resume_threeD)\n",
    "model_threeD.load_state_dict(checkpoint_threeD['state_dict'])\n",
    "model = model_threeD\n",
    "\n",
    "data_loader = get_instance(module_data, 'data_loader_test', config)\n",
    "outputOverlaycsv = False\n",
    "device = torch.device('cuda' if torch.cuda.is_available() else 'cpu')\n",
    "model = model.to(device)\n",
    "model.eval()\n",
    "\n",
    "total_loss = 0.0\n",
    "metric_fns = metrics\n",
    "total_metrics = torch.zeros(len(metric_fns))\n",
    "\n",
    "#classes = ('endothelium', 'pct', 'vasculature')\n",
    "classes = ('S1', 'PCT', 'TAL', 'DCT', 'CD', 'cd45', 'nestin', 'cd31_glom', 'cd31_inter')\n",
    "all_pred = []\n",
    "all_pred_k = []\n",
    "all_true = []\n",
    "all_softmax = []\n",
    "\n",
    "with torch.no_grad():\n",
    "    for i, (data, target) in enumerate(tqdm(data_loader)):\n",
    "        k=2\n",
    "        data, target = data.to(device), target.to(device)\n",
    "        output = model(data)\n",
    "        image = np.squeeze(data[0].cpu().data.numpy())\n",
    "        label = np.squeeze(target[0].cpu().data.numpy())\n",
    "        all_true.extend(target.cpu().data.numpy())\n",
    "        all_pred.extend(np.argmax(output.cpu().data.numpy(), axis=1))\n",
    "        mypred = torch.topk(output, k, dim=1)[1]\n",
    "        all_pred_k.extend( mypred.cpu().data.numpy())\n",
    "        m = torch.nn.Softmax(dim=0)\n",
    "        for row in output.cpu():\n",
    "            sm = m(row)\n",
    "            all_softmax.append(sm.data.numpy())\n",
    "\n",
    "        if i < 1:\n",
    "            m = torch.nn.Softmax(dim=0)\n",
    "            print(\"prediction percentages\")\n",
    "            print(m(output.cpu()[0]))\n",
    "            print(all_true[i])\n",
    "            plt.figure()\n",
    "            plt.imshow(image[3], cmap = 'gray')\n",
    "            plt.title(\"Label is \" + classes[np.argmax(m(output.cpu()[0]))])\n",
    "            plt.pause(0.1)\n",
    "\n",
    "            #all_softmax.extend(m(output.cpu()))\n",
    "        #\n",
    "        # save sample images, or do something with output here\n",
    "        #\n",
    "\n",
    "        # computing loss, metrics on test set\n",
    "        loss = criterion(output, target)\n",
    "        batch_size = data.shape[0]\n",
    "        total_loss += loss.item() * batch_size\n",
    "        for i, metric in enumerate(metric_fns):\n",
    "            total_metrics[i] += metric(output.cpu(), target.cpu()) * batch_size\n",
    "\n",
    "    correct = 0\n",
    "    all_pred_k = np.array(all_pred_k)\n",
    "    print(all_pred_k.shape)\n",
    "    all_pred_k = torch.from_numpy(all_pred_k)\n",
    "    all_true_k = torch.from_numpy(np.array(all_true))\n",
    "    for i in range(k):\n",
    "        correct += torch.sum(all_pred_k[:, i] == all_true_k).item()\n",
    "    print(\"TOP 2 ACCURACY: {}\".format(correct / len(all_true)))   \n",
    "    \n",
    "if outputOverlaycsv:\n",
    "    ids = data_loader.dataset.getIds()\n",
    "    softmax = pd.DataFrame(all_softmax)\n",
    "    #ids = ids[:,1].reshape(ids.shape[0], 1)\n",
    "    num_test = len(all_true)\n",
    "    ids = ids[:num_test]\n",
    "    print(ids[0:5])\n",
    "    print(ids.shape)\n",
    "    print(softmax.shape)\n",
    "    print(len(all_true))\n",
    "    frames = [ids, softmax, pd.DataFrame(all_true)]\n",
    "    output_data= np.concatenate(frames, axis=1)\n",
    "    print(output_data.shape)\n",
    "    output_df = pd.DataFrame(output_data)\n",
    "    filename = \"overlaycsv_\" + config['name'] + \".csv\"\n",
    "    output_df.to_csv(filename, index=False,  header=False)\n",
    "\n",
    "n_samples = len(data_loader.sampler)\n",
    "print(\"num test images = \" + str(n_samples))\n",
    "log = {'loss': total_loss / n_samples}\n",
    "log.update({met.__name__: total_metrics[i].item() / n_samples for i, met in enumerate(metric_fns)})\n",
    "for key in log:\n",
    "    print(\"{} = {:.4f}\".format(key, log[key]))\n",
    "#print(log)\n",
    "log['classes'] = classes\n",
    "log['test_targets'] = all_true\n",
    "log['test_predictions'] = all_pred\n",
    "print(\"CM will show aggregation of PCT classes\")\n",
    "\n",
    "util.plot_confusion_matrix_combinePCT(all_true, all_pred, classes=classes, normalize=False)"
   ]
  },
  {
   "cell_type": "code",
   "execution_count": null,
   "metadata": {},
   "outputs": [],
   "source": []
  }
 ],
 "metadata": {
  "kernelspec": {
   "display_name": "Python 3",
   "language": "python",
   "name": "python3"
  },
  "language_info": {
   "codemirror_mode": {
    "name": "ipython",
    "version": 3
   },
   "file_extension": ".py",
   "mimetype": "text/x-python",
   "name": "python",
   "nbconvert_exporter": "python",
   "pygments_lexer": "ipython3",
   "version": "3.6.7"
  }
 },
 "nbformat": 4,
 "nbformat_minor": 2
}
