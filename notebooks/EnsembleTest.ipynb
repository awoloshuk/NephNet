{
 "cells": [
  {
   "cell_type": "code",
   "execution_count": 2,
   "metadata": {},
   "outputs": [
    {
     "name": "stderr",
     "output_type": "stream",
     "text": [
      "C:\\Users\\awoloshu\\Documents\\pytorch36\\lib\\site-packages\\tqdm\\autonotebook.py:17: TqdmExperimentalWarning: Using `tqdm.autonotebook.tqdm` in notebook mode. Use `tqdm.tqdm` instead to force console mode (e.g. in jupyter console)\n",
      "  \" (e.g. in jupyter console)\", TqdmExperimentalWarning)\n"
     ]
    },
    {
     "name": "stdout",
     "output_type": "stream",
     "text": [
      "Modules loaded\n"
     ]
    }
   ],
   "source": [
    "import os\n",
    "import sys\n",
    "sys.path.append(\"../../NephNet\")\n",
    "import argparse\n",
    "import torch\n",
    "import matplotlib.pyplot as plt\n",
    "from tqdm import tqdm\n",
    "import data_loader.data_loaders as module_data\n",
    "import model.loss as module_loss\n",
    "import model.metric as module_metric\n",
    "import model.model as module_arch\n",
    "from train import get_instance\n",
    "import numpy as np\n",
    "import torchvision\n",
    "from torch.nn import functional as F\n",
    "from torch import topk\n",
    "import skimage.transform\n",
    "from torch.optim import lr_scheduler\n",
    "from tqdm import tqdm\n",
    "import math\n",
    "from utils import util\n",
    "import pandas as pd\n",
    "\n",
    "print(\"Modules loaded\")"
   ]
  },
  {
   "cell_type": "code",
   "execution_count": 14,
   "metadata": {},
   "outputs": [
    {
     "name": "stdout",
     "output_type": "stream",
     "text": [
      "GPUs available: 1\n",
      "FIN\n"
     ]
    }
   ],
   "source": [
    "print(\"GPUs available: \" + str(torch.cuda.device_count()))\n",
    "os.environ[\"CUDA_VISIBLE_DEVICES\"] = \"0,1\"\n",
    "\n",
    "device = torch.device('cuda' if torch.cuda.is_available() else 'cpu')\n",
    "\n",
    "\n",
    "def get_instance(module, name, config, *args):\n",
    "    return getattr(module, config[name]['type'])(*args, **config[name]['args'])\n",
    "\n",
    "model_threeD = getattr(module_arch, 'threeDmodel')(num_feature=76, num_classes=9)\n",
    "model_dense = getattr(module_arch, 'Dense3D')(num_feature=48, num_classes=9)\n",
    "\n",
    "# load state dict\n",
    "resume_threeD = \"C:/Users/awoloshu/Documents/NephNet/saved/allF33F44Training/1211_112328/model_best.pth\"\n",
    "resume_dense = \"C:/Users/awoloshu/Documents/NephNet/saved/weights_denseModel/model_best.pth\"\n",
    "checkpoint_threeD = torch.load(resume_threeD)\n",
    "checkpoint_dense = torch.load(resume_dense)\n",
    "model_threeD.load_state_dict(checkpoint_threeD['state_dict'])\n",
    "\n",
    "# original saved file with DataParallel\n",
    "state_dict = checkpoint_dense['state_dict']\n",
    "# create new OrderedDict that does not contain `module.`\n",
    "from collections import OrderedDict\n",
    "new_state_dict = OrderedDict()\n",
    "for k, v in state_dict.items():\n",
    "    name = k[7:] # remove `module.`\n",
    "    new_state_dict[name] = v\n",
    "# load params\n",
    "model_dense.load_state_dict(new_state_dict)\n",
    "\n",
    "models = [model_threeD, model_dense]\n",
    "\n",
    "print(\"FIN\")"
   ]
  },
  {
   "cell_type": "code",
   "execution_count": 15,
   "metadata": {},
   "outputs": [],
   "source": [
    "#Create a data loader for F59\n",
    "\n",
    "data_loader = getattr(module_data, \"hdf5_3d_dataloader\")(\n",
    "        \"C:/Users/awoloshu/Desktop/datasets/F59_testing/3d_all/dataset.h5\",\n",
    "        batch_size=32,\n",
    "        shuffle=False,\n",
    "        validation_split=0.0,\n",
    "        training=False,\n",
    "        num_workers=0,\n",
    "        projected = False,\n",
    "        shape = [7,32,32],\n",
    "        mean = 25.107,\n",
    "        stdev = 27.243\n",
    "    )\n",
    "\n",
    "# get function handles of loss and metrics\n",
    "loss_fn = getattr(module_loss, \"cross_entropy_loss\")\n",
    "metrics= [\"accuracy\",\"f1\",\"balanced_accuracy\",\"precision\",\"recall\"]\n",
    "metric_fns = [getattr(module_metric, met) for met in metrics]\n",
    "criterion = loss_fn(None)\n",
    "#criterion = loss_fn(data_loader.dataset.weight.to(device)) # for imbalanced datasets\n",
    "\n",
    "# prepare model for testing\n",
    "device = torch.device('cuda' if torch.cuda.is_available() else 'cpu')\n",
    "for model in models:\n",
    "    model = model.to(device)\n",
    "    model.eval()\n",
    "\n",
    "total_loss = 0.0\n",
    "total_metrics = torch.zeros(len(metric_fns))\n",
    "\n",
    "#classes = ('endothelium', 'pct', 'vasculature')\n",
    "classes = ('S1', 'PCT', 'TAL', 'DCT', 'CD', 'cd45', 'nestin', 'cd31_glom', 'cd31_inter')\n",
    "\n",
    "\n"
   ]
  },
  {
   "cell_type": "code",
   "execution_count": 33,
   "metadata": {},
   "outputs": [
    {
     "name": "stderr",
     "output_type": "stream",
     "text": [
      "100%|██████████| 503/503 [00:42<00:00, 11.79it/s]\n"
     ]
    }
   ],
   "source": [
    "outputOverlaycsv = False\n",
    "all_true = []\n",
    "all_softmax = []\n",
    "with torch.no_grad():\n",
    "    for i, (data, target) in enumerate(tqdm(data_loader)):\n",
    "        k=2\n",
    "        outputs = []\n",
    "        data, target = data.to(device), target.to(device)\n",
    "        m = torch.nn.Softmax(dim=0)\n",
    "        for model in models:\n",
    "            output = model(data)\n",
    "            batch = []\n",
    "            for row in output.cpu():\n",
    "                sm = m(row)\n",
    "                batch.append(sm.data.numpy())\n",
    "            outputs.append(batch)\n",
    "        all_softmax.extend(np.sum(np.asarray(outputs), axis=0)) #just add the softmax probabilities together\n",
    "        all_true.extend(target.cpu().data.numpy())\n",
    "\n"
   ]
  },
  {
   "cell_type": "code",
   "execution_count": 34,
   "metadata": {},
   "outputs": [
    {
     "name": "stdout",
     "output_type": "stream",
     "text": [
      "(16070, 9)\n",
      "(16070,)\n"
     ]
    }
   ],
   "source": [
    "all_softmax = np.asarray(all_softmax)\n",
    "all_true = np.asarray(all_true)\n",
    "print(all_softmax.shape)\n",
    "print(all_true.shape)"
   ]
  },
  {
   "cell_type": "code",
   "execution_count": 37,
   "metadata": {},
   "outputs": [
    {
     "name": "stdout",
     "output_type": "stream",
     "text": [
      "(16070,)\n"
     ]
    },
    {
     "name": "stderr",
     "output_type": "stream",
     "text": [
      "C:\\Users\\awoloshu\\Documents\\pytorch36\\lib\\site-packages\\sklearn\\metrics\\classification.py:1745: UserWarning: y_pred contains classes not in y_true\n",
      "  warnings.warn('y_pred contains classes not in y_true')\n"
     ]
    },
    {
     "name": "stdout",
     "output_type": "stream",
     "text": [
      "Balanced accuracy = 61.39%\n"
     ]
    }
   ],
   "source": [
    "prediction = np.argmax(all_softmax, axis = 1)\n",
    "print(prediction.shape)\n",
    "import sklearn.metrics as skm\n",
    "balanced_acc = skm.balanced_accuracy_score(all_true, prediction)\n",
    "print(\"Balanced accuracy = {:.2f}%\".format(balanced_acc*100))"
   ]
  },
  {
   "cell_type": "code",
   "execution_count": 38,
   "metadata": {},
   "outputs": [
    {
     "name": "stderr",
     "output_type": "stream",
     "text": [
      "../../NephNet\\utils\\util.py:194: RuntimeWarning: invalid value encountered in longlong_scalars\n",
      "  accs.append(cm[i,i] / np.sum(row))\n"
     ]
    },
    {
     "name": "stdout",
     "output_type": "stream",
     "text": [
      "Calculated balanced accuracy after combining PCT: nan\n",
      "Confusion matrix, without normalization\n",
      "[[   0    0    0    0    0    0    0    0]\n",
      " [   0    0    0    0    0    0    0    0]\n",
      " [   0    0    0    0    0    0    0    0]\n",
      " [   0    0    0    0    0    0    0    0]\n",
      " [  33    1   56   17  475   16   12  100]\n",
      " [ 394   10   97   55  116 3176  432  202]\n",
      " [ 220    1   82   17  181 1473 1593  359]\n",
      " [ 647   31  774  151  358  242   75 4674]]\n"
     ]
    },
    {
     "data": {
      "image/png": "[encoded data removed]",
      "text/plain": [
       "<Figure size 432x288 with 2 Axes>"
      ]
     },
     "metadata": {
      "needs_background": "light"
     },
     "output_type": "display_data"
    },
    {
     "data": {
      "text/plain": [
       "<matplotlib.axes._subplots.AxesSubplot at 0x20b81fce1d0>"
      ]
     },
     "execution_count": 38,
     "metadata": {},
     "output_type": "execute_result"
    }
   ],
   "source": [
    "util.plot_confusion_matrix_combinePCT(all_true, prediction, classes=classes, normalize=False)"
   ]
  },
  {
   "cell_type": "code",
   "execution_count": null,
   "metadata": {},
   "outputs": [],
   "source": []
  }
 ],
 "metadata": {
  "kernelspec": {
   "display_name": "Python 3",
   "language": "python",
   "name": "python3"
  },
  "language_info": {
   "codemirror_mode": {
    "name": "ipython",
    "version": 3
   },
   "file_extension": ".py",
   "mimetype": "text/x-python",
   "name": "python",
   "nbconvert_exporter": "python",
   "pygments_lexer": "ipython3",
   "version": "3.6.7"
  }
 },
 "nbformat": 4,
 "nbformat_minor": 2
}
