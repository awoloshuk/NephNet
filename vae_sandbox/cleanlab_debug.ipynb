{
 "cells": [
  {
   "cell_type": "code",
   "execution_count": 5,
   "metadata": {},
   "outputs": [
    {
     "name": "stdout",
     "output_type": "stream",
     "text": [
      "STARTING\n",
      "[False False  True ... False False False]\n"
     ]
    }
   ],
   "source": [
    "import cleanlab\n",
    "from cleanlab.latent_estimation import estimate_py_noise_matrices_and_cv_pred_proba\n",
    "from sklearn.naive_bayes import GaussianNB\n",
    "from sklearn.datasets import load_digits\n",
    "from cleanlab.pruning import get_noise_indices\n",
    "\n",
    "data = load_digits()\n",
    "\n",
    "X_train = data['data']\n",
    "y_train = data['target']\n",
    "print(\"STARTING\")\n",
    "est_py, est_nm, est_inv, confident_joint, my_psx = estimate_py_noise_matrices_and_cv_pred_proba(\n",
    "    X=X_train,\n",
    "    s=y_train,\n",
    "    clf = GaussianNB()\n",
    ")\n",
    "\n",
    "label_errors = get_noise_indices(\n",
    "    y_train,\n",
    "    my_psx,\n",
    "    verbose=1,\n",
    "    n_jobs=1\n",
    ")\n",
    "print(label_errors)"
   ]
  },
  {
   "cell_type": "code",
   "execution_count": null,
   "metadata": {},
   "outputs": [],
   "source": []
  }
 ],
 "metadata": {
  "kernelspec": {
   "display_name": "Python 3",
   "language": "python",
   "name": "python3"
  },
  "language_info": {
   "codemirror_mode": {
    "name": "ipython",
    "version": 3
   },
   "file_extension": ".py",
   "mimetype": "text/x-python",
   "name": "python",
   "nbconvert_exporter": "python",
   "pygments_lexer": "ipython3",
   "version": "3.6.7"
  }
 },
 "nbformat": 4,
 "nbformat_minor": 2
}
